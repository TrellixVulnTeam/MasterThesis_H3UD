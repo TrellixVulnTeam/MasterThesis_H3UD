{
 "cells": [
  {
   "cell_type": "code",
   "execution_count": 24,
   "id": "f83cb616",
   "metadata": {},
   "outputs": [],
   "source": [
    "import numpy as np\n",
    "import matplotlib.pyplot as plt\n",
    "import torch\n",
    "import os\n",
    "import os.path as osp\n",
    "import yaml\n",
    "import seml\n",
    "from collections import defaultdict"
   ]
  },
  {
   "cell_type": "code",
   "execution_count": 20,
   "id": "9b6d2df4",
   "metadata": {},
   "outputs": [],
   "source": [
    "collection_name = 'week3_spectral_norm_vs_accuracy'\n",
    "collection = seml.database.get_collection(collection_name)\n",
    "results = [{'config' : r['config'], 'result' : r['result'], 'id' : r['_id']} for r in collection.find() if r['status'] in ('COMPLETED',)]"
   ]
  },
  {
   "cell_type": "code",
   "execution_count": 21,
   "id": "5c8cc57c",
   "metadata": {},
   "outputs": [],
   "source": [
    "# Reorder results to access them like [dataset]\n",
    "runs = defaultdict(list)\n",
    "for result in results:\n",
    "    config = result['config']\n",
    "    runs[config['data']['dataset']].append(result)"
   ]
  },
  {
   "cell_type": "code",
   "execution_count": 33,
   "id": "be28f27b",
   "metadata": {},
   "outputs": [],
   "source": [
    "norm_vs_acc = defaultdict(list)\n",
    "for dataset, run_list in runs.items():\n",
    "    for run in run_list:\n",
    "        config = run['config']\n",
    "        norm_vs_acc[config['data']['dataset']].append((\n",
    "            config['model']['weight_scale'],\n",
    "            run['result']['val_accuracy_mean']['value']))\n",
    "        \n",
    "    "
   ]
  },
  {
   "cell_type": "code",
   "execution_count": 34,
   "id": "7399f969",
   "metadata": {},
   "outputs": [
    {
     "data": {
      "text/plain": [
       "defaultdict(list,\n",
       "            {'cora_ml': [(0.5, 0.27863635927438735),\n",
       "              (0.75, 0.2785406652092934),\n",
       "              (1, 0.2789712882041931),\n",
       "              (1.25, 0.28074162304401395),\n",
       "              (1.5, 0.2926555034518242),\n",
       "              (1.75, 0.3315311002731323),\n",
       "              (2, 0.41263157963752745),\n",
       "              (2.25, 0.49980861246585845),\n",
       "              (2.5, 0.592416267991066),\n",
       "              (2.75, 0.6658373177051544),\n",
       "              (3.0, 0.7154306226968765),\n",
       "              (3.25, 0.7545215320587159),\n",
       "              (3.5, 0.7861961716413498),\n",
       "              (3.75, 0.8007176995277405),\n",
       "              (4, 0.8169856470823288),\n",
       "              (4.25, 0.8254545420408249),\n",
       "              (4.5, 0.831770333647728),\n",
       "              (4.75, 0.8352631551027297),\n",
       "              (5.0, 0.8384928202629089)]})"
      ]
     },
     "execution_count": 34,
     "metadata": {},
     "output_type": "execute_result"
    }
   ],
   "source": [
    "norm_vs_acc"
   ]
  },
  {
   "cell_type": "code",
   "execution_count": 35,
   "id": "390695a7",
   "metadata": {},
   "outputs": [
    {
     "data": {
      "text/plain": [
       "[<matplotlib.lines.Line2D at 0x7fb2a2e36fa0>]"
      ]
     },
     "execution_count": 35,
     "metadata": {},
     "output_type": "execute_result"
    },
    {
     "data": {
      "image/png": "[encoded data removed]",
      "text/plain": [
       "<Figure size 432x288 with 1 Axes>"
      ]
     },
     "metadata": {
      "needs_background": "light"
     },
     "output_type": "display_data"
    }
   ],
   "source": [
    "plt.figure()\n",
    "x, y = np.array(norm_vs_acc['cora_ml']).T\n",
    "plt.plot(x, y)"
   ]
  },
  {
   "cell_type": "code",
   "execution_count": 11,
   "id": "733c00b7",
   "metadata": {},
   "outputs": [
    {
     "data": {
      "text/plain": [
       "{'config': {'overwrite': 1,\n",
       "  'db_collection': 'week3_spectral_norm_vs_accuracy',\n",
       "  'data': {'dataset': 'cora_ml',\n",
       "   'num_dataset_splits': 10,\n",
       "   'test_portion': 0.6,\n",
       "   'test_portion_fixed': 0.2,\n",
       "   'train_labels': 'all',\n",
       "   'train_portion': 0.05,\n",
       "   'val_labels': 'all',\n",
       "   'val_portion': 0.15},\n",
       "  'evaluation': {'perturbations': {'max': 10.0,\n",
       "    'min': 0.1,\n",
       "    'num': 20,\n",
       "    'num_per_sample': 5},\n",
       "   'pipeline': []},\n",
       "  'model': {'activation': 'leaky_relu',\n",
       "   'hidden_sizes': [64],\n",
       "   'leaky_relu_slope': 0.01,\n",
       "   'model_type': 'gcn',\n",
       "   'num_initializations': 10,\n",
       "   'use_bias': True,\n",
       "   'use_spectral_norm': True,\n",
       "   'weight_scale': 0.5},\n",
       "  'training': {'early_stopping': {'min_delta': 0.001,\n",
       "    'mode': 'min',\n",
       "    'monitor': 'val_loss',\n",
       "    'patience': 100},\n",
       "   'gpus': 1,\n",
       "   'learning_rate': 0.003,\n",
       "   'max_epochs': 1000},\n",
       "  'seed': 39194330},\n",
       " 'result': {'val_loss_mean': {'py/object': 'numpy.float64',\n",
       "   'dtype': 'float64',\n",
       "   'value': 1.829990073442459},\n",
       "  'val_accuracy_mean': {'py/object': 'numpy.float64',\n",
       "   'dtype': 'float64',\n",
       "   'value': 0.27863635927438735}},\n",
       " 'id': 1}"
      ]
     },
     "execution_count": 11,
     "metadata": {},
     "output_type": "execute_result"
    }
   ],
   "source": [
    "results[0]"
   ]
  },
  {
   "cell_type": "code",
   "execution_count": null,
   "id": "9f7ad456",
   "metadata": {},
   "outputs": [],
   "source": []
  }
 ],
 "metadata": {
  "kernelspec": {
   "display_name": "Python 3 (ipykernel)",
   "language": "python",
   "name": "python3"
  },
  "language_info": {
   "codemirror_mode": {
    "name": "ipython",
    "version": 3
   },
   "file_extension": ".py",
   "mimetype": "text/x-python",
   "name": "python",
   "nbconvert_exporter": "python",
   "pygments_lexer": "ipython3",
   "version": "3.9.5"
  }
 },
 "nbformat": 4,
 "nbformat_minor": 5
}
