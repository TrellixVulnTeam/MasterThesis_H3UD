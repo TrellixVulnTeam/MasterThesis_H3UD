{
 "cells": [
  {
   "cell_type": "code",
   "execution_count": 1,
   "id": "a373e3ea",
   "metadata": {},
   "outputs": [],
   "source": [
    "import numpy as np\n",
    "import torch\n",
    "import matplotlib.pyplot as plt\n",
    "import seaborn as sns\n",
    "import pandas as pd\n",
    "from scipy.spatial import distance_matrix"
   ]
  },
  {
   "cell_type": "code",
   "execution_count": 2,
   "id": "0f8e4686",
   "metadata": {},
   "outputs": [],
   "source": [
    "import gust\n",
    "import itertools"
   ]
  },
  {
   "cell_type": "code",
   "execution_count": 3,
   "id": "7d507672",
   "metadata": {},
   "outputs": [],
   "source": [
    "dataset_name = 'cora_ml'\n",
    "dataset = gust.datasets.load_dataset(dataset_name)"
   ]
  },
  {
   "cell_type": "code",
   "execution_count": 4,
   "id": "6808f495",
   "metadata": {},
   "outputs": [],
   "source": [
    "graph = dataset.standardize(\n",
    "        make_unweighted = True, make_undirected = True,\n",
    "        no_self_loops = True, select_lcc = True\n",
    "    )"
   ]
  },
  {
   "cell_type": "code",
   "execution_count": 5,
   "id": "65d9efaa",
   "metadata": {},
   "outputs": [
    {
     "data": {
      "text/plain": [
       "array(['Artificial_Intelligence/Machine_Learning/Case-Based',\n",
       "       'Artificial_Intelligence/Machine_Learning/Theory',\n",
       "       'Artificial_Intelligence/Machine_Learning/Genetic_Algorithms',\n",
       "       'Artificial_Intelligence/Machine_Learning/Probabilistic_Methods',\n",
       "       'Artificial_Intelligence/Machine_Learning/Neural_Networks',\n",
       "       'Artificial_Intelligence/Machine_Learning/Rule_Learning',\n",
       "       'Artificial_Intelligence/Machine_Learning/Reinforcement_Learning'],\n",
       "      dtype='<U63')"
      ]
     },
     "execution_count": 5,
     "metadata": {},
     "output_type": "execute_result"
    }
   ],
   "source": [
    "graph.class_names"
   ]
  },
  {
   "cell_type": "code",
   "execution_count": 6,
   "id": "8923a222",
   "metadata": {},
   "outputs": [],
   "source": [
    "# Count intra-cluster edges\n",
    "num_intra_cluster_edges = np.zeros((len(np.unique(graph.labels)), len(np.unique(graph.labels))), dtype=int)\n",
    "for label_i in range(len(graph.class_names)):\n",
    "    for label_j in range(len(graph.class_names)):\n",
    "        num_intra_cluster_edges[label_i, label_j] = graph.adj_matrix[graph.labels == label_i][:, graph.labels == label_j].nnz\n"
   ]
  },
  {
   "cell_type": "code",
   "execution_count": 7,
   "id": "997e2339",
   "metadata": {},
   "outputs": [],
   "source": [
    "if dataset_name == 'cora_ml':\n",
    "    class_names = np.array([cn.split('/')[-1] for cn in graph.class_names])\n",
    "else:\n",
    "    class_names = graph.class_names\n",
    "#g = sns.JointGrid(data=num_intra_cluster_edges)"
   ]
  },
  {
   "cell_type": "code",
   "execution_count": 8,
   "id": "1ef7fa30",
   "metadata": {},
   "outputs": [
    {
     "data": {
      "text/plain": [
       "<AxesSubplot:>"
      ]
     },
     "execution_count": 8,
     "metadata": {},
     "output_type": "execute_result"
    },
    {
     "data": {
      "image/png": "[encoded data removed]",
      "text/plain": [
       "<Figure size 432x288 with 2 Axes>"
      ]
     },
     "metadata": {
      "needs_background": "light"
     },
     "output_type": "display_data"
    }
   ],
   "source": [
    "\n",
    "sns.heatmap(pd.DataFrame(num_intra_cluster_edges, class_names, class_names), vmax=500)"
   ]
  },
  {
   "cell_type": "code",
   "execution_count": 9,
   "id": "7f347117",
   "metadata": {},
   "outputs": [],
   "source": [
    "# Get all partitions of labels into two sets (2^(num_lables - 1) - 1, as we exclude empty partions)\n",
    "partitions = [mask for mask in [np.array([False] + list(m)) for m in itertools.product([True, False], repeat=len(graph.class_names) - 1)] if mask.sum() > 0]"
   ]
  },
  {
   "cell_type": "code",
   "execution_count": 11,
   "id": "b4d46e97",
   "metadata": {},
   "outputs": [],
   "source": [
    "# Calculate the edge density within a partition and between partitions\n",
    "partition_inter_densities = []\n",
    "for mask in partitions:\n",
    "    # Treat the two partitions as classes\n",
    "    edges_inter = num_intra_cluster_edges[mask][:, mask].sum() + num_intra_cluster_edges[~mask][:, ~mask].sum()\n",
    "    density_inter = edges_inter / num_intra_cluster_edges.sum()\n",
    "    \n",
    "    # Compute densities for each partition\n",
    "    density_inter_first = num_intra_cluster_edges[mask][:, mask].sum() / num_intra_cluster_edges[mask].sum()\n",
    "    density_inter_second = num_intra_cluster_edges[~mask][:, ~mask].sum() / num_intra_cluster_edges[~mask].sum()\n",
    "    \n",
    "    \n",
    "    partition_inter_densities.append({\n",
    "        'Average inter partition density' : density_inter,\n",
    "        'Intra partition density first' : density_inter_first,\n",
    "        'Intra partition density second' : density_inter_second,\n",
    "        'Min partition density both' : min(density_inter_first, density_inter_second),\n",
    "        'First' : tuple(class_names[mask]), \n",
    "        'Second' : tuple(class_names[~mask]),\n",
    "    })\n",
    "    \n",
    "df_partition_densities = pd.DataFrame(partition_inter_densities)\n"
   ]
  },
  {
   "cell_type": "code",
   "execution_count": 12,
   "id": "06f27d24",
   "metadata": {},
   "outputs": [
    {
     "data": {
      "text/html": [
       "<div>\n",
       "<style scoped>\n",
       "    .dataframe tbody tr th:only-of-type {\n",
       "        vertical-align: middle;\n",
       "    }\n",
       "\n",
       "    .dataframe tbody tr th {\n",
       "        vertical-align: top;\n",
       "    }\n",
       "\n",
       "    .dataframe thead th {\n",
       "        text-align: right;\n",
       "    }\n",
       "</style>\n",
       "<table border=\"1\" class=\"dataframe\">\n",
       "  <thead>\n",
       "    <tr style=\"text-align: right;\">\n",
       "      <th></th>\n",
       "      <th>Average inter partition density</th>\n",
       "      <th>Intra partition density first</th>\n",
       "      <th>Intra partition density second</th>\n",
       "      <th>Min partition density both</th>\n",
       "      <th>First</th>\n",
       "      <th>Second</th>\n",
       "    </tr>\n",
       "  </thead>\n",
       "  <tbody>\n",
       "    <tr>\n",
       "      <th>46</th>\n",
       "      <td>0.947626</td>\n",
       "      <td>0.917975</td>\n",
       "      <td>0.961531</td>\n",
       "      <td>0.917975</td>\n",
       "      <td>(Genetic_Algorithms, Reinforcement_Learning)</td>\n",
       "      <td>(Case-Based, Theory, Probabilistic_Methods, Ne...</td>\n",
       "    </tr>\n",
       "    <tr>\n",
       "      <th>47</th>\n",
       "      <td>0.969803</td>\n",
       "      <td>0.901673</td>\n",
       "      <td>0.982163</td>\n",
       "      <td>0.901673</td>\n",
       "      <td>(Genetic_Algorithms,)</td>\n",
       "      <td>(Case-Based, Theory, Probabilistic_Methods, Ne...</td>\n",
       "    </tr>\n",
       "    <tr>\n",
       "      <th>38</th>\n",
       "      <td>0.900764</td>\n",
       "      <td>0.893748</td>\n",
       "      <td>0.906911</td>\n",
       "      <td>0.893748</td>\n",
       "      <td>(Genetic_Algorithms, Probabilistic_Methods, Re...</td>\n",
       "      <td>(Case-Based, Theory, Neural_Networks, Rule_Lea...</td>\n",
       "    </tr>\n",
       "    <tr>\n",
       "      <th>19</th>\n",
       "      <td>0.898760</td>\n",
       "      <td>0.903511</td>\n",
       "      <td>0.893516</td>\n",
       "      <td>0.893516</td>\n",
       "      <td>(Theory, Probabilistic_Methods, Neural_Networks)</td>\n",
       "      <td>(Case-Based, Genetic_Algorithms, Rule_Learning...</td>\n",
       "    </tr>\n",
       "    <tr>\n",
       "      <th>17</th>\n",
       "      <td>0.907906</td>\n",
       "      <td>0.919293</td>\n",
       "      <td>0.892779</td>\n",
       "      <td>0.892779</td>\n",
       "      <td>(Theory, Probabilistic_Methods, Neural_Network...</td>\n",
       "      <td>(Case-Based, Genetic_Algorithms, Reinforcement...</td>\n",
       "    </tr>\n",
       "    <tr>\n",
       "      <th>...</th>\n",
       "      <td>...</td>\n",
       "      <td>...</td>\n",
       "      <td>...</td>\n",
       "      <td>...</td>\n",
       "      <td>...</td>\n",
       "      <td>...</td>\n",
       "    </tr>\n",
       "    <tr>\n",
       "      <th>53</th>\n",
       "      <td>0.906653</td>\n",
       "      <td>0.758978</td>\n",
       "      <td>0.942118</td>\n",
       "      <td>0.758978</td>\n",
       "      <td>(Probabilistic_Methods, Rule_Learning)</td>\n",
       "      <td>(Case-Based, Theory, Genetic_Algorithms, Neura...</td>\n",
       "    </tr>\n",
       "    <tr>\n",
       "      <th>29</th>\n",
       "      <td>0.894750</td>\n",
       "      <td>0.755814</td>\n",
       "      <td>0.932918</td>\n",
       "      <td>0.755814</td>\n",
       "      <td>(Theory, Rule_Learning)</td>\n",
       "      <td>(Case-Based, Genetic_Algorithms, Probabilistic...</td>\n",
       "    </tr>\n",
       "    <tr>\n",
       "      <th>0</th>\n",
       "      <td>0.940233</td>\n",
       "      <td>0.966416</td>\n",
       "      <td>0.728823</td>\n",
       "      <td>0.728823</td>\n",
       "      <td>(Theory, Genetic_Algorithms, Probabilistic_Met...</td>\n",
       "      <td>(Case-Based,)</td>\n",
       "    </tr>\n",
       "    <tr>\n",
       "      <th>31</th>\n",
       "      <td>0.897632</td>\n",
       "      <td>0.698190</td>\n",
       "      <td>0.938363</td>\n",
       "      <td>0.698190</td>\n",
       "      <td>(Theory,)</td>\n",
       "      <td>(Case-Based, Genetic_Algorithms, Probabilistic...</td>\n",
       "    </tr>\n",
       "    <tr>\n",
       "      <th>61</th>\n",
       "      <td>0.965543</td>\n",
       "      <td>0.624829</td>\n",
       "      <td>0.981942</td>\n",
       "      <td>0.624829</td>\n",
       "      <td>(Rule_Learning,)</td>\n",
       "      <td>(Case-Based, Theory, Genetic_Algorithms, Proba...</td>\n",
       "    </tr>\n",
       "  </tbody>\n",
       "</table>\n",
       "<p>63 rows × 6 columns</p>\n",
       "</div>"
      ],
      "text/plain": [
       "    Average inter partition density  Intra partition density first  \\\n",
       "46                         0.947626                       0.917975   \n",
       "47                         0.969803                       0.901673   \n",
       "38                         0.900764                       0.893748   \n",
       "19                         0.898760                       0.903511   \n",
       "17                         0.907906                       0.919293   \n",
       "..                              ...                            ...   \n",
       "53                         0.906653                       0.758978   \n",
       "29                         0.894750                       0.755814   \n",
       "0                          0.940233                       0.966416   \n",
       "31                         0.897632                       0.698190   \n",
       "61                         0.965543                       0.624829   \n",
       "\n",
       "    Intra partition density second  Min partition density both  \\\n",
       "46                        0.961531                    0.917975   \n",
       "47                        0.982163                    0.901673   \n",
       "38                        0.906911                    0.893748   \n",
       "19                        0.893516                    0.893516   \n",
       "17                        0.892779                    0.892779   \n",
       "..                             ...                         ...   \n",
       "53                        0.942118                    0.758978   \n",
       "29                        0.932918                    0.755814   \n",
       "0                         0.728823                    0.728823   \n",
       "31                        0.938363                    0.698190   \n",
       "61                        0.981942                    0.624829   \n",
       "\n",
       "                                                First  \\\n",
       "46       (Genetic_Algorithms, Reinforcement_Learning)   \n",
       "47                              (Genetic_Algorithms,)   \n",
       "38  (Genetic_Algorithms, Probabilistic_Methods, Re...   \n",
       "19   (Theory, Probabilistic_Methods, Neural_Networks)   \n",
       "17  (Theory, Probabilistic_Methods, Neural_Network...   \n",
       "..                                                ...   \n",
       "53             (Probabilistic_Methods, Rule_Learning)   \n",
       "29                            (Theory, Rule_Learning)   \n",
       "0   (Theory, Genetic_Algorithms, Probabilistic_Met...   \n",
       "31                                          (Theory,)   \n",
       "61                                   (Rule_Learning,)   \n",
       "\n",
       "                                               Second  \n",
       "46  (Case-Based, Theory, Probabilistic_Methods, Ne...  \n",
       "47  (Case-Based, Theory, Probabilistic_Methods, Ne...  \n",
       "38  (Case-Based, Theory, Neural_Networks, Rule_Lea...  \n",
       "19  (Case-Based, Genetic_Algorithms, Rule_Learning...  \n",
       "17  (Case-Based, Genetic_Algorithms, Reinforcement...  \n",
       "..                                                ...  \n",
       "53  (Case-Based, Theory, Genetic_Algorithms, Neura...  \n",
       "29  (Case-Based, Genetic_Algorithms, Probabilistic...  \n",
       "0                                       (Case-Based,)  \n",
       "31  (Case-Based, Genetic_Algorithms, Probabilistic...  \n",
       "61  (Case-Based, Theory, Genetic_Algorithms, Proba...  \n",
       "\n",
       "[63 rows x 6 columns]"
      ]
     },
     "execution_count": 12,
     "metadata": {},
     "output_type": "execute_result"
    }
   ],
   "source": [
    "df_partition_densities.sort_values(by='Min partition density both', ascending=False)"
   ]
  },
  {
   "cell_type": "markdown",
   "id": "65b43233",
   "metadata": {},
   "source": [
    "# Attributes"
   ]
  },
  {
   "cell_type": "markdown",
   "id": "5c49357f",
   "metadata": {},
   "source": [
    "## Pairwise distances between class centroids"
   ]
  },
  {
   "cell_type": "code",
   "execution_count": 13,
   "id": "2933c2af",
   "metadata": {},
   "outputs": [],
   "source": [
    "df_attributes = pd.DataFrame(graph.attr_matrix.toarray(), columns=graph.attr_names)\n",
    "df_attributes['class_label'] = [graph.class_names[i].split('/')[-1] for i in graph.labels]\n",
    "mean_attributes_df = df_attributes.groupby('class_label').mean()"
   ]
  },
  {
   "cell_type": "code",
   "execution_count": 14,
   "id": "f42bcbaf",
   "metadata": {},
   "outputs": [
    {
     "data": {
      "text/plain": [
       "array([[0.        , 0.25639415, 0.2301863 , 0.24202158, 0.25899678,\n",
       "        0.24643561, 0.23057562],\n",
       "       [0.25639415, 0.        , 0.21265274, 0.24030423, 0.25233054,\n",
       "        0.26040214, 0.23494913],\n",
       "       [0.2301863 , 0.21265274, 0.        , 0.1725276 , 0.22518703,\n",
       "        0.23383795, 0.1820593 ],\n",
       "       [0.24202158, 0.24030423, 0.1725276 , 0.        , 0.25102082,\n",
       "        0.25383452, 0.19727056],\n",
       "       [0.25899678, 0.25233054, 0.22518703, 0.25102082, 0.        ,\n",
       "        0.26459253, 0.22848532],\n",
       "       [0.24643561, 0.26040214, 0.23383795, 0.25383452, 0.26459253,\n",
       "        0.        , 0.20689121],\n",
       "       [0.23057562, 0.23494913, 0.1820593 , 0.19727056, 0.22848532,\n",
       "        0.20689121, 0.        ]], dtype=float32)"
      ]
     },
     "execution_count": 14,
     "metadata": {},
     "output_type": "execute_result"
    }
   ],
   "source": [
    "mean_attributes = mean_attributes_df.to_numpy()\n",
    "distances = np.linalg.norm(mean_attributes[:, None, :] - mean_attributes[None, :, :], axis=-1)\n",
    "distances"
   ]
  },
  {
   "cell_type": "code",
   "execution_count": 15,
   "id": "dcb78916",
   "metadata": {},
   "outputs": [
    {
     "data": {
      "text/plain": [
       "<AxesSubplot:xlabel='class_label', ylabel='class_label'>"
      ]
     },
     "execution_count": 15,
     "metadata": {},
     "output_type": "execute_result"
    },
    {
     "data": {
      "image/png": "[encoded data removed]",
      "text/plain": [
       "<Figure size 432x288 with 2 Axes>"
      ]
     },
     "metadata": {
      "needs_background": "light"
     },
     "output_type": "display_data"
    }
   ],
   "source": [
    "\n",
    "sns.heatmap(pd.DataFrame(distances, mean_attributes_df.index, mean_attributes_df.index), )"
   ]
  },
  {
   "cell_type": "markdown",
   "id": "4038706e",
   "metadata": {},
   "source": [
    "## Distribution of distances from class centroids (variance within class)"
   ]
  },
  {
   "cell_type": "code",
   "execution_count": 16,
   "id": "1f92a13d",
   "metadata": {},
   "outputs": [],
   "source": [
    "mean_attributes = np.array([mean_attributes_df.loc[cn] for cn in class_names]) # Has the same order as class names"
   ]
  },
  {
   "cell_type": "code",
   "execution_count": 17,
   "id": "bbb5ada4",
   "metadata": {},
   "outputs": [
    {
     "data": {
      "text/plain": [
       "<AxesSubplot:xlabel='difference', ylabel='label'>"
      ]
     },
     "execution_count": 17,
     "metadata": {},
     "output_type": "execute_result"
    },
    {
     "data": {
      "image/png": "[encoded data removed]",
      "text/plain": [
       "<Figure size 432x288 with 1 Axes>"
      ]
     },
     "metadata": {
      "needs_background": "light"
     },
     "output_type": "display_data"
    }
   ],
   "source": [
    "\n",
    "df_attribute_differences = pd.DataFrame({'difference' : np.linalg.norm(graph.attr_matrix.toarray() - mean_attributes[graph.labels], axis=-1), 'label' : class_names[graph.labels]},)\n",
    "sns.histplot(df_attribute_differences, x='difference', y='label', hue='label', legend=False,\n",
    "                     common_norm=False,)"
   ]
  },
  {
   "cell_type": "markdown",
   "id": "1dbfc37a",
   "metadata": {},
   "source": [
    "## Average pairwise feature distances within community pairs"
   ]
  },
  {
   "cell_type": "code",
   "execution_count": 18,
   "id": "4e1e5810",
   "metadata": {},
   "outputs": [],
   "source": [
    "from sklearn.metrics import pairwise_distances\n",
    "attr_mat = graph.attr_matrix.toarray()\n",
    "pairwise_distances = pairwise_distances(graph.attr_matrix, graph.attr_matrix, n_jobs=-1)"
   ]
  },
  {
   "cell_type": "code",
   "execution_count": 19,
   "id": "42c58d23",
   "metadata": {},
   "outputs": [],
   "source": [
    "avg_distances_per_class = np.zeros((len(np.unique(graph.labels)), len(np.unique(graph.labels))))\n",
    "for label_i in range(len(np.unique(graph.labels))):\n",
    "    for label_j in range(len(np.unique(graph.labels))):\n",
    "        avg_distances_per_class[label_i, label_j] = pairwise_distances[graph.labels == label_i][:, graph.labels == label_j].mean()"
   ]
  },
  {
   "cell_type": "code",
   "execution_count": 20,
   "id": "3e08fe03",
   "metadata": {},
   "outputs": [
    {
     "data": {
      "text/plain": [
       "<AxesSubplot:>"
      ]
     },
     "execution_count": 20,
     "metadata": {},
     "output_type": "execute_result"
    },
    {
     "data": {
      "image/png": "[encoded data removed]",
      "text/plain": [
       "<Figure size 432x288 with 2 Axes>"
      ]
     },
     "metadata": {
      "needs_background": "light"
     },
     "output_type": "display_data"
    }
   ],
   "source": [
    "sns.heatmap(pd.DataFrame(avg_distances_per_class, class_names, class_names))"
   ]
  },
  {
   "cell_type": "markdown",
   "id": "739e8eda",
   "metadata": {},
   "source": [
    "## Plot of attributes with high values per class"
   ]
  },
  {
   "cell_type": "code",
   "execution_count": 21,
   "id": "1ea8cc75",
   "metadata": {},
   "outputs": [
    {
     "data": {
      "text/html": [
       "<div>\n",
       "<style scoped>\n",
       "    .dataframe tbody tr th:only-of-type {\n",
       "        vertical-align: middle;\n",
       "    }\n",
       "\n",
       "    .dataframe tbody tr th {\n",
       "        vertical-align: top;\n",
       "    }\n",
       "\n",
       "    .dataframe thead th {\n",
       "        text-align: right;\n",
       "    }\n",
       "</style>\n",
       "<table border=\"1\" class=\"dataframe\">\n",
       "  <thead>\n",
       "    <tr style=\"text-align: right;\">\n",
       "      <th></th>\n",
       "      <th>000</th>\n",
       "      <th>10</th>\n",
       "      <th>100</th>\n",
       "      <th>11</th>\n",
       "      <th>12</th>\n",
       "      <th>13</th>\n",
       "      <th>14</th>\n",
       "      <th>15</th>\n",
       "      <th>16</th>\n",
       "      <th>17</th>\n",
       "      <th>...</th>\n",
       "      <th>written</th>\n",
       "      <th>wrong</th>\n",
       "      <th>www</th>\n",
       "      <th>years</th>\n",
       "      <th>yield</th>\n",
       "      <th>yielding</th>\n",
       "      <th>yields</th>\n",
       "      <th>york</th>\n",
       "      <th>young</th>\n",
       "      <th>zero</th>\n",
       "    </tr>\n",
       "    <tr>\n",
       "      <th>class_label</th>\n",
       "      <th></th>\n",
       "      <th></th>\n",
       "      <th></th>\n",
       "      <th></th>\n",
       "      <th></th>\n",
       "      <th></th>\n",
       "      <th></th>\n",
       "      <th></th>\n",
       "      <th></th>\n",
       "      <th></th>\n",
       "      <th></th>\n",
       "      <th></th>\n",
       "      <th></th>\n",
       "      <th></th>\n",
       "      <th></th>\n",
       "      <th></th>\n",
       "      <th></th>\n",
       "      <th></th>\n",
       "      <th></th>\n",
       "      <th></th>\n",
       "      <th></th>\n",
       "    </tr>\n",
       "  </thead>\n",
       "  <tbody>\n",
       "    <tr>\n",
       "      <th>Case-Based</th>\n",
       "      <td>0.000974</td>\n",
       "      <td>0.000828</td>\n",
       "      <td>0.000277</td>\n",
       "      <td>0.000858</td>\n",
       "      <td>0.002903</td>\n",
       "      <td>0.001606</td>\n",
       "      <td>0.001053</td>\n",
       "      <td>0.000397</td>\n",
       "      <td>0.000407</td>\n",
       "      <td>0.001339</td>\n",
       "      <td>...</td>\n",
       "      <td>0.001310</td>\n",
       "      <td>0.001199</td>\n",
       "      <td>0.001456</td>\n",
       "      <td>0.001554</td>\n",
       "      <td>0.000605</td>\n",
       "      <td>0.000526</td>\n",
       "      <td>0.001788</td>\n",
       "      <td>0.000000</td>\n",
       "      <td>0.000280</td>\n",
       "      <td>0.000401</td>\n",
       "    </tr>\n",
       "    <tr>\n",
       "      <th>Genetic_Algorithms</th>\n",
       "      <td>0.000282</td>\n",
       "      <td>0.003344</td>\n",
       "      <td>0.000536</td>\n",
       "      <td>0.002754</td>\n",
       "      <td>0.000666</td>\n",
       "      <td>0.001390</td>\n",
       "      <td>0.000902</td>\n",
       "      <td>0.000535</td>\n",
       "      <td>0.003219</td>\n",
       "      <td>0.000000</td>\n",
       "      <td>...</td>\n",
       "      <td>0.001365</td>\n",
       "      <td>0.000000</td>\n",
       "      <td>0.001606</td>\n",
       "      <td>0.003249</td>\n",
       "      <td>0.001173</td>\n",
       "      <td>0.000000</td>\n",
       "      <td>0.000503</td>\n",
       "      <td>0.000636</td>\n",
       "      <td>0.000308</td>\n",
       "      <td>0.001504</td>\n",
       "    </tr>\n",
       "    <tr>\n",
       "      <th>Neural_Networks</th>\n",
       "      <td>0.001174</td>\n",
       "      <td>0.003429</td>\n",
       "      <td>0.001659</td>\n",
       "      <td>0.002187</td>\n",
       "      <td>0.002524</td>\n",
       "      <td>0.001928</td>\n",
       "      <td>0.002427</td>\n",
       "      <td>0.002012</td>\n",
       "      <td>0.001340</td>\n",
       "      <td>0.000607</td>\n",
       "      <td>...</td>\n",
       "      <td>0.001361</td>\n",
       "      <td>0.000169</td>\n",
       "      <td>0.001408</td>\n",
       "      <td>0.001261</td>\n",
       "      <td>0.002453</td>\n",
       "      <td>0.000327</td>\n",
       "      <td>0.002628</td>\n",
       "      <td>0.000708</td>\n",
       "      <td>0.000712</td>\n",
       "      <td>0.002646</td>\n",
       "    </tr>\n",
       "    <tr>\n",
       "      <th>Probabilistic_Methods</th>\n",
       "      <td>0.001001</td>\n",
       "      <td>0.002395</td>\n",
       "      <td>0.000000</td>\n",
       "      <td>0.000935</td>\n",
       "      <td>0.001407</td>\n",
       "      <td>0.000000</td>\n",
       "      <td>0.000817</td>\n",
       "      <td>0.000871</td>\n",
       "      <td>0.000382</td>\n",
       "      <td>0.001017</td>\n",
       "      <td>...</td>\n",
       "      <td>0.000974</td>\n",
       "      <td>0.000249</td>\n",
       "      <td>0.001257</td>\n",
       "      <td>0.003903</td>\n",
       "      <td>0.001856</td>\n",
       "      <td>0.001532</td>\n",
       "      <td>0.002004</td>\n",
       "      <td>0.000848</td>\n",
       "      <td>0.000651</td>\n",
       "      <td>0.001999</td>\n",
       "    </tr>\n",
       "    <tr>\n",
       "      <th>Reinforcement_Learning</th>\n",
       "      <td>0.001005</td>\n",
       "      <td>0.001487</td>\n",
       "      <td>0.000000</td>\n",
       "      <td>0.002558</td>\n",
       "      <td>0.000000</td>\n",
       "      <td>0.000825</td>\n",
       "      <td>0.000000</td>\n",
       "      <td>0.000388</td>\n",
       "      <td>0.000511</td>\n",
       "      <td>0.001904</td>\n",
       "      <td>...</td>\n",
       "      <td>0.001052</td>\n",
       "      <td>0.000977</td>\n",
       "      <td>0.000000</td>\n",
       "      <td>0.001445</td>\n",
       "      <td>0.001607</td>\n",
       "      <td>0.000000</td>\n",
       "      <td>0.001638</td>\n",
       "      <td>0.000000</td>\n",
       "      <td>0.000321</td>\n",
       "      <td>0.002310</td>\n",
       "    </tr>\n",
       "    <tr>\n",
       "      <th>Rule_Learning</th>\n",
       "      <td>0.001143</td>\n",
       "      <td>0.000907</td>\n",
       "      <td>0.000000</td>\n",
       "      <td>0.002730</td>\n",
       "      <td>0.000000</td>\n",
       "      <td>0.001502</td>\n",
       "      <td>0.000000</td>\n",
       "      <td>0.000000</td>\n",
       "      <td>0.000000</td>\n",
       "      <td>0.000000</td>\n",
       "      <td>...</td>\n",
       "      <td>0.000000</td>\n",
       "      <td>0.000000</td>\n",
       "      <td>0.000922</td>\n",
       "      <td>0.002298</td>\n",
       "      <td>0.000000</td>\n",
       "      <td>0.000000</td>\n",
       "      <td>0.001470</td>\n",
       "      <td>0.000000</td>\n",
       "      <td>0.000639</td>\n",
       "      <td>0.000000</td>\n",
       "    </tr>\n",
       "    <tr>\n",
       "      <th>Theory</th>\n",
       "      <td>0.000228</td>\n",
       "      <td>0.001654</td>\n",
       "      <td>0.000000</td>\n",
       "      <td>0.001576</td>\n",
       "      <td>0.001394</td>\n",
       "      <td>0.000260</td>\n",
       "      <td>0.000849</td>\n",
       "      <td>0.001021</td>\n",
       "      <td>0.001452</td>\n",
       "      <td>0.000678</td>\n",
       "      <td>...</td>\n",
       "      <td>0.001845</td>\n",
       "      <td>0.000611</td>\n",
       "      <td>0.001562</td>\n",
       "      <td>0.000933</td>\n",
       "      <td>0.002396</td>\n",
       "      <td>0.000910</td>\n",
       "      <td>0.002323</td>\n",
       "      <td>0.001236</td>\n",
       "      <td>0.000169</td>\n",
       "      <td>0.003521</td>\n",
       "    </tr>\n",
       "  </tbody>\n",
       "</table>\n",
       "<p>7 rows × 2879 columns</p>\n",
       "</div>"
      ],
      "text/plain": [
       "                             000        10       100        11        12  \\\n",
       "class_label                                                                \n",
       "Case-Based              0.000974  0.000828  0.000277  0.000858  0.002903   \n",
       "Genetic_Algorithms      0.000282  0.003344  0.000536  0.002754  0.000666   \n",
       "Neural_Networks         0.001174  0.003429  0.001659  0.002187  0.002524   \n",
       "Probabilistic_Methods   0.001001  0.002395  0.000000  0.000935  0.001407   \n",
       "Reinforcement_Learning  0.001005  0.001487  0.000000  0.002558  0.000000   \n",
       "Rule_Learning           0.001143  0.000907  0.000000  0.002730  0.000000   \n",
       "Theory                  0.000228  0.001654  0.000000  0.001576  0.001394   \n",
       "\n",
       "                              13        14        15        16        17  ...  \\\n",
       "class_label                                                               ...   \n",
       "Case-Based              0.001606  0.001053  0.000397  0.000407  0.001339  ...   \n",
       "Genetic_Algorithms      0.001390  0.000902  0.000535  0.003219  0.000000  ...   \n",
       "Neural_Networks         0.001928  0.002427  0.002012  0.001340  0.000607  ...   \n",
       "Probabilistic_Methods   0.000000  0.000817  0.000871  0.000382  0.001017  ...   \n",
       "Reinforcement_Learning  0.000825  0.000000  0.000388  0.000511  0.001904  ...   \n",
       "Rule_Learning           0.001502  0.000000  0.000000  0.000000  0.000000  ...   \n",
       "Theory                  0.000260  0.000849  0.001021  0.001452  0.000678  ...   \n",
       "\n",
       "                         written     wrong       www     years     yield  \\\n",
       "class_label                                                                \n",
       "Case-Based              0.001310  0.001199  0.001456  0.001554  0.000605   \n",
       "Genetic_Algorithms      0.001365  0.000000  0.001606  0.003249  0.001173   \n",
       "Neural_Networks         0.001361  0.000169  0.001408  0.001261  0.002453   \n",
       "Probabilistic_Methods   0.000974  0.000249  0.001257  0.003903  0.001856   \n",
       "Reinforcement_Learning  0.001052  0.000977  0.000000  0.001445  0.001607   \n",
       "Rule_Learning           0.000000  0.000000  0.000922  0.002298  0.000000   \n",
       "Theory                  0.001845  0.000611  0.001562  0.000933  0.002396   \n",
       "\n",
       "                        yielding    yields      york     young      zero  \n",
       "class_label                                                               \n",
       "Case-Based              0.000526  0.001788  0.000000  0.000280  0.000401  \n",
       "Genetic_Algorithms      0.000000  0.000503  0.000636  0.000308  0.001504  \n",
       "Neural_Networks         0.000327  0.002628  0.000708  0.000712  0.002646  \n",
       "Probabilistic_Methods   0.001532  0.002004  0.000848  0.000651  0.001999  \n",
       "Reinforcement_Learning  0.000000  0.001638  0.000000  0.000321  0.002310  \n",
       "Rule_Learning           0.000000  0.001470  0.000000  0.000639  0.000000  \n",
       "Theory                  0.000910  0.002323  0.001236  0.000169  0.003521  \n",
       "\n",
       "[7 rows x 2879 columns]"
      ]
     },
     "execution_count": 21,
     "metadata": {},
     "output_type": "execute_result"
    }
   ],
   "source": [
    "mean_attributes_df"
   ]
  },
  {
   "cell_type": "markdown",
   "id": "121ee63c",
   "metadata": {},
   "source": [
    "### Distribution of mean values of all features and classes (to determine thresholds for \"frequent attributes\")"
   ]
  },
  {
   "cell_type": "code",
   "execution_count": 22,
   "id": "71dc9a14",
   "metadata": {},
   "outputs": [
    {
     "data": {
      "text/plain": [
       "<AxesSubplot:ylabel='Count'>"
      ]
     },
     "execution_count": 22,
     "metadata": {},
     "output_type": "execute_result"
    },
    {
     "data": {
      "image/png": "[encoded data removed]",
      "text/plain": [
       "<Figure size 432x288 with 1 Axes>"
      ]
     },
     "metadata": {
      "needs_background": "light"
     },
     "output_type": "display_data"
    }
   ],
   "source": [
    "sns.histplot(mean_attributes_df.to_numpy().flatten())"
   ]
  },
  {
   "cell_type": "code",
   "execution_count": null,
   "id": "f0967a78",
   "metadata": {},
   "outputs": [],
   "source": []
  },
  {
   "cell_type": "code",
   "execution_count": null,
   "id": "7a1b0e39",
   "metadata": {},
   "outputs": [],
   "source": []
  },
  {
   "cell_type": "code",
   "execution_count": 23,
   "id": "3d4aa260",
   "metadata": {},
   "outputs": [
    {
     "data": {
      "text/plain": [
       "<AxesSubplot:ylabel='class_label'>"
      ]
     },
     "execution_count": 23,
     "metadata": {},
     "output_type": "execute_result"
    },
    {
     "data": {
      "image/png": "[encoded data removed]",
      "text/plain": [
       "<Figure size 1080x360 with 2 Axes>"
      ]
     },
     "metadata": {
      "needs_background": "light"
     },
     "output_type": "display_data"
    }
   ],
   "source": [
    "threshold = 0.03 # Attributes with a mean per class that is higher than that are considered \"frequent\"\n",
    "columns_above_threshold = [c for c in mean_attributes_df.columns if (mean_attributes_df[c] >= threshold).any()]\n",
    "plt.figure(figsize=(15, 5))\n",
    "sns.heatmap(mean_attributes_df[columns_above_threshold])"
   ]
  },
  {
   "cell_type": "code",
   "execution_count": null,
   "id": "257dde7f",
   "metadata": {},
   "outputs": [],
   "source": []
  }
 ],
 "metadata": {
  "kernelspec": {
   "display_name": "Python 3 (ipykernel)",
   "language": "python",
   "name": "python3"
  },
  "language_info": {
   "codemirror_mode": {
    "name": "ipython",
    "version": 3
   },
   "file_extension": ".py",
   "mimetype": "text/x-python",
   "name": "python",
   "nbconvert_exporter": "python",
   "pygments_lexer": "ipython3",
   "version": "3.9.5"
  }
 },
 "nbformat": 4,
 "nbformat_minor": 5
}
