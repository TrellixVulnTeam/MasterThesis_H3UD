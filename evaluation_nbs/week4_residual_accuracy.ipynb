{
 "cells": [
  {
   "cell_type": "code",
   "execution_count": 1,
   "id": "f4782c26",
   "metadata": {},
   "outputs": [
    {
     "name": "stderr",
     "output_type": "stream",
     "text": [
      "/nfs/homedirs/fuchsgru/miniconda3/lib/python3.9/site-packages/seml/database.py:5: TqdmExperimentalWarning: Using `tqdm.autonotebook.tqdm` in notebook mode. Use `tqdm.tqdm` instead to force console mode (e.g. in jupyter console)\n",
      "  from tqdm.autonotebook import tqdm\n"
     ]
    }
   ],
   "source": [
    "import matplotlib.pyplot as plt\n",
    "import numpy as np\n",
    "import seml"
   ]
  },
  {
   "cell_type": "code",
   "execution_count": 3,
   "id": "28459be5",
   "metadata": {},
   "outputs": [],
   "source": [
    "collection_name = 'week4_residual'\n",
    "collection = seml.database.get_collection(collection_name)\n",
    "results = [{'config' : r['config'], 'result' : r['result'], 'id' : r['_id']} for r in collection.find() if r['status'] in ('COMPLETED',)]"
   ]
  },
  {
   "cell_type": "code",
   "execution_count": 9,
   "id": "4462885e",
   "metadata": {},
   "outputs": [
    {
     "data": {
      "text/plain": [
       "51"
      ]
     },
     "execution_count": 9,
     "metadata": {},
     "output_type": "execute_result"
    }
   ],
   "source": [
    "len(results)"
   ]
  },
  {
   "cell_type": "code",
   "execution_count": 13,
   "id": "76b551e6",
   "metadata": {},
   "outputs": [],
   "source": [
    "named = {\n",
    "    'res_' + str(result['config']['model']['residual']) + '-' + '-'.join(map(str, result['config']['model']['hidden_sizes'])) + '-ws' + str(result['config']['model']['weight_scale']) + '-sn' + str(result['config']['model']['use_spectral_norm']) : result['result']['val_accuracy_mean']['value']\n",
    "    for result in results\n",
    "}"
   ]
  },
  {
   "cell_type": "code",
   "execution_count": 36,
   "id": "3baa9327",
   "metadata": {},
   "outputs": [
    {
     "name": "stdout",
     "output_type": "stream",
     "text": [
      "3.0\n",
      "3.0\n",
      "5.0\n",
      "4.0\n",
      "4.0\n",
      "3.0\n",
      "2.0\n",
      "4.0\n",
      "2.0\n",
      "5.0\n",
      "5.0\n",
      "2.0\n",
      "1.1\n",
      "1.1\n",
      "1.1\n",
      "1.0\n",
      "1.0\n",
      "0.9\n",
      "1.0\n",
      "0.9\n",
      "0.9\n"
     ]
    }
   ],
   "source": [
    "for result in sorted(results, key=lambda result: -result['result']['val_accuracy_mean']['value']):\n",
    "    \n",
    "    model_config = result['config']['model']\n",
    "    hidden_sizes, weight_scale, spectral_norm, residual = (model_config[k] for k in ('hidden_sizes', 'weight_scale', 'use_spectral_norm', 'residual'))\n",
    "    acc = result['result']['val_accuracy_mean']['value']\n",
    "    if residual or not spectral_norm: continue\n",
    "    # print(f'val acc : {acc:.3f} -- GCN {hidden_sizes}, weight scale {weight_scale}, residual {residual}')\n",
    "    \n",
    "    #print(f'{acc:.2f}')\n",
    "    #print(f'{hidden_sizes}')\n",
    "    print(f'{weight_scale}')"
   ]
  },
  {
   "cell_type": "code",
   "execution_count": null,
   "id": "c3450a34",
   "metadata": {},
   "outputs": [],
   "source": []
  }
 ],
 "metadata": {
  "kernelspec": {
   "display_name": "Python 3 (ipykernel)",
   "language": "python",
   "name": "python3"
  },
  "language_info": {
   "codemirror_mode": {
    "name": "ipython",
    "version": 3
   },
   "file_extension": ".py",
   "mimetype": "text/x-python",
   "name": "python",
   "nbconvert_exporter": "python",
   "pygments_lexer": "ipython3",
   "version": "3.9.5"
  }
 },
 "nbformat": 4,
 "nbformat_minor": 5
}
