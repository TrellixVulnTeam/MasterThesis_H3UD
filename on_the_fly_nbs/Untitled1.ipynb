{
 "cells": [
  {
   "cell_type": "code",
   "execution_count": 32,
   "id": "2ee1f5de",
   "metadata": {},
   "outputs": [],
   "source": [
    "import numpy as np\n",
    "import torch\n",
    "import matplotlib.pyplot as plt\n",
    "\n",
    "from openTSNE import TSNE"
   ]
  },
  {
   "cell_type": "code",
   "execution_count": 4,
   "id": "1036e65c",
   "metadata": {},
   "outputs": [
    {
     "name": "stdout",
     "output_type": "stream",
     "text": [
      "/nfs/homedirs/fuchsgru/MastersThesis\n"
     ]
    }
   ],
   "source": [
    "%cd .."
   ]
  },
  {
   "cell_type": "code",
   "execution_count": 5,
   "id": "b88ff57f",
   "metadata": {},
   "outputs": [],
   "source": [
    "import configuration\n",
    "import model_registry\n",
    "import data.construct\n",
    "import data.constants as dconst\n",
    "from data.util import data_get_num_attributes, data_get_num_classes, vertex_intersection, label_binarize\n",
    "from model.semi_supervised_node_classification import SemiSupervisedNodeClassification\n",
    "from model.density import get_density_model\n",
    "import util\n",
    "from plot.density import plot_density, get_dimensionality_reduction_to_plot\n",
    "from plot.util import get_greyscale_colormap, plot_histograms\n",
    "import seed\n",
    "import evaluation.callbacks\n",
    "from evaluation.util import run_model_on_datasets\n",
    "import evaluation.constants as econst\n",
    "from torch_geometric.loader import DataLoader"
   ]
  },
  {
   "cell_type": "code",
   "execution_count": 6,
   "id": "f9ab4c02",
   "metadata": {},
   "outputs": [],
   "source": [
    "ckpt_path = '/nfs/students/fuchsgru/model_registry/889940799.ckpt'"
   ]
  },
  {
   "cell_type": "code",
   "execution_count": 8,
   "id": "96c7ab85",
   "metadata": {},
   "outputs": [],
   "source": [
    "registry = model_registry.ModelRegistry()\n",
    "# Find a cnfg for that checkpoint\n",
    "for config, path in registry.items():\n",
    "    if path == ckpt_path:\n",
    "        break\n",
    "else:\n",
    "    raise RuntimeError(f'Could not find a configuration for {ckpt_path}')"
   ]
  },
  {
   "cell_type": "code",
   "execution_count": 9,
   "id": "3d3e4fff",
   "metadata": {},
   "outputs": [],
   "source": [
    "data_dict, fixed_vertices = data.construct.load_data_from_configuration(config.data, config.registry.split_seed)"
   ]
  },
  {
   "cell_type": "code",
   "execution_count": 10,
   "id": "117f023c",
   "metadata": {},
   "outputs": [],
   "source": [
    "data_loaders = {\n",
    "    name : DataLoader(data, batch_size=1, shuffle=False) for name, data in data_dict.items()\n",
    "}"
   ]
  },
  {
   "cell_type": "code",
   "execution_count": 12,
   "id": "1b1be202",
   "metadata": {},
   "outputs": [
    {
     "data": {
      "text/plain": [
       "('hybrid', 'left-out-classes', False, False)"
      ]
     },
     "execution_count": 12,
     "metadata": {},
     "output_type": "execute_result"
    }
   ],
   "source": [
    "config.data.setting, config.data.ood_type, config.model.use_spectral_norm, config.model.residual"
   ]
  },
  {
   "cell_type": "code",
   "execution_count": 13,
   "id": "7fb80659",
   "metadata": {},
   "outputs": [],
   "source": [
    "model = SemiSupervisedNodeClassification(\n",
    "    config.model, \n",
    "    data_get_num_attributes(data_dict[dconst.TRAIN][0]), \n",
    "    data_get_num_classes(data_dict[dconst.TRAIN][0]), \n",
    "    learning_rate=config.training.learning_rate,\n",
    "    weight_decay=config.training.weight_decay,\n",
    ")"
   ]
  },
  {
   "cell_type": "code",
   "execution_count": 14,
   "id": "a97752ec",
   "metadata": {},
   "outputs": [],
   "source": [
    "ckpt_path = registry[config]\n",
    "if not ckpt_path:\n",
    "    raise RuntimeError(f'No model checkpoint found!')"
   ]
  },
  {
   "cell_type": "code",
   "execution_count": 15,
   "id": "ee63303b",
   "metadata": {},
   "outputs": [],
   "source": [
    "model = model.load_from_checkpoint(ckpt_path, strict=False, backbone_configuration=config.model)\n",
    "_ = model.eval()\n",
    "model.clear_and_disable_cache()"
   ]
  },
  {
   "cell_type": "code",
   "execution_count": 28,
   "id": "e65272f0",
   "metadata": {},
   "outputs": [],
   "source": [
    "with torch.no_grad():\n",
    "    out_train = model(data_dict[dconst.TRAIN][0])\n",
    "    out_val = model(data_dict[dconst.VAL][0])\n",
    "    out_ood = model(data_dict[dconst.OOD_VAL][0])"
   ]
  },
  {
   "cell_type": "code",
   "execution_count": 29,
   "id": "d5cffabe",
   "metadata": {},
   "outputs": [],
   "source": [
    "mask_train = data_dict[dconst.TRAIN][0].mask\n",
    "mask_val = data_dict[dconst.VAL][0].mask\n",
    "mask_ood = data_dict[dconst.OOD_VAL][0].mask"
   ]
  },
  {
   "cell_type": "code",
   "execution_count": 42,
   "id": "3792c5c3",
   "metadata": {},
   "outputs": [],
   "source": [
    "y_train = data_dict[dconst.TRAIN][0].y\n",
    "y_val = data_dict[dconst.VAL][0].y\n",
    "y_ood = data_dict[dconst.OOD_VAL][0].y"
   ]
  },
  {
   "cell_type": "code",
   "execution_count": 30,
   "id": "d9cd1ef7",
   "metadata": {},
   "outputs": [
    {
     "name": "stdout",
     "output_type": "stream",
     "text": [
      "Validation accuracy 0.864\n"
     ]
    }
   ],
   "source": [
    "acc_val = ((out_val.get_logits().cpu().argmax(1) == data_dict[dconst.VAL][0].y)[mask_val]).sum() / mask_val.sum()\n",
    "print(f'Validation accuracy {acc_val.item():.3f}')"
   ]
  },
  {
   "cell_type": "code",
   "execution_count": 33,
   "id": "3430ed7d",
   "metadata": {},
   "outputs": [],
   "source": [
    "features_train = out_train.get_features(-2).cpu()\n",
    "features_val = out_val.get_features(-2).cpu()\n",
    "features_ood = out_ood.get_features(-2).cpu()"
   ]
  },
  {
   "cell_type": "code",
   "execution_count": 94,
   "id": "43f2ff86",
   "metadata": {},
   "outputs": [],
   "source": [
    "from plot.density import get_dimensionality_reduction_to_plot, plot_density"
   ]
  },
  {
   "cell_type": "code",
   "execution_count": 73,
   "id": "0385c6e0",
   "metadata": {},
   "outputs": [],
   "source": [
    "embeddings, is_train, grids, grid_inverses = get_dimensionality_reduction_to_plot(\n",
    "    torch.cat((features_train[mask_train], features_val[mask_val]), 0).numpy(),\n",
    "    features_ood[mask_ood].numpy(),\n",
    "    ('umap', ),\n",
    ")"
   ]
  },
  {
   "cell_type": "code",
   "execution_count": 77,
   "id": "4087da41",
   "metadata": {},
   "outputs": [
    {
     "data": {
      "text/plain": [
       "(20, 20, 64)"
      ]
     },
     "execution_count": 77,
     "metadata": {},
     "output_type": "execute_result"
    }
   ],
   "source": [
    "grid_inverses['umap'].shape"
   ]
  },
  {
   "cell_type": "code",
   "execution_count": 64,
   "id": "28f2b9b6",
   "metadata": {},
   "outputs": [],
   "source": [
    "from model.normalizing_flow import NormalizingFlow\n",
    "import pyblaze.nn as xnn\n",
    "from tqdm import tqdm"
   ]
  },
  {
   "cell_type": "code",
   "execution_count": 67,
   "id": "d34044b1",
   "metadata": {},
   "outputs": [],
   "source": [
    "mask_train_class_0 = (y_train == 0)  & mask_train\n",
    "mask_val_class_0 = (y_val == 0) & mask_val"
   ]
  },
  {
   "cell_type": "code",
   "execution_count": 56,
   "id": "04e20a2b",
   "metadata": {},
   "outputs": [
    {
     "data": {
      "text/plain": [
       "tensor(20)"
      ]
     },
     "execution_count": 56,
     "metadata": {},
     "output_type": "execute_result"
    }
   ],
   "source": [
    "mask_train_class_0.sum()"
   ]
  },
  {
   "cell_type": "code",
   "execution_count": 123,
   "id": "e09b46e0",
   "metadata": {},
   "outputs": [
    {
     "ename": "ModuleNotFoundError",
     "evalue": "No module named 'torch.typing'",
     "output_type": "error",
     "traceback": [
      "\u001b[0;31m---------------------------------------------------------------------------\u001b[0m",
      "\u001b[0;31mModuleNotFoundError\u001b[0m                       Traceback (most recent call last)",
      "\u001b[0;32m<ipython-input-123-457fe75648b9>\u001b[0m in \u001b[0;36m<module>\u001b[0;34m\u001b[0m\n\u001b[0;32m----> 1\u001b[0;31m \u001b[0;32mfrom\u001b[0m \u001b[0mtorch\u001b[0m\u001b[0;34m.\u001b[0m\u001b[0mtyping\u001b[0m \u001b[0;32mimport\u001b[0m \u001b[0mOptTensor\u001b[0m\u001b[0;34m\u001b[0m\u001b[0;34m\u001b[0m\u001b[0m\n\u001b[0m",
      "\u001b[0;31mModuleNotFoundError\u001b[0m: No module named 'torch.typing'"
     ]
    }
   ],
   "source": [
    "from torch.typing import OptTensor"
   ]
  },
  {
   "cell_type": "code",
   "execution_count": 126,
   "id": "fc865ba6",
   "metadata": {},
   "outputs": [],
   "source": [
    "nf = NormalizingFlow('maf', 2, features_train.size(1)).xflow\n",
    "nf = NormalizingFlow('radial', 10, features_train.size(1)).xflow"
   ]
  },
  {
   "cell_type": "code",
   "execution_count": 127,
   "id": "d7318f48",
   "metadata": {},
   "outputs": [
    {
     "data": {
      "text/plain": [
       "660"
      ]
     },
     "execution_count": 127,
     "metadata": {},
     "output_type": "execute_result"
    }
   ],
   "source": [
    "sum(p.view(-1).size(0) for p in nf.parameters())"
   ]
  },
  {
   "cell_type": "code",
   "execution_count": 118,
   "id": "f83a7b28",
   "metadata": {},
   "outputs": [],
   "source": [
    "loss_fn = xnn.TransformedNormalLoss(reduction='none')\n",
    "optimizer = torch.optim.Adam(nf.parameters(), lr=1e-3, weight_decay=1e-3)"
   ]
  },
  {
   "cell_type": "code",
   "execution_count": 119,
   "id": "79d7d917",
   "metadata": {},
   "outputs": [
    {
     "name": "stderr",
     "output_type": "stream",
     "text": [
      "  3%|▎         | 6/200 [00:00<00:11, 17.48it/s]"
     ]
    },
    {
     "name": "stdout",
     "output_type": "stream",
     "text": [
      "No improvement for 5 iterations. Stopping.\n"
     ]
    },
    {
     "name": "stderr",
     "output_type": "stream",
     "text": [
      "\n"
     ]
    }
   ],
   "source": [
    "train_losses, val_losses = [], []\n",
    "best_val_loss, best_state = np.inf, None\n",
    "patience = 5\n",
    "no_improvements = 0\n",
    "\n",
    "for it in tqdm(range(200)):\n",
    "    nf.train()\n",
    "    optimizer.zero_grad()\n",
    "    loss = loss_fn(*nf(features_train[mask_train_class_0]))\n",
    "    loss = loss.mean()\n",
    "    loss.backward()\n",
    "    optimizer.step()\n",
    "    train_losses.append(loss.item())\n",
    "    with torch.no_grad():\n",
    "        nf.eval()\n",
    "        loss_val = loss_fn(*nf(features_val[mask_val_class_0])).mean()\n",
    "        val_losses.append(loss_val.item())\n",
    "    \n",
    "    if loss_val < best_val_loss:\n",
    "        no_improvements = 0\n",
    "        best_val_loss = loss_val\n",
    "        best_state = nf.state_dict()\n",
    "    else:\n",
    "        no_improvements += 1\n",
    "        if no_improvements >= patience:\n",
    "            # nf.load_state_dict(best_state)\n",
    "            print(f'No improvement for {patience} iterations. Stopping.')\n",
    "            break\n",
    "    \n",
    "    \n",
    "    "
   ]
  },
  {
   "cell_type": "code",
   "execution_count": 120,
   "id": "150fa083",
   "metadata": {},
   "outputs": [
    {
     "name": "stdout",
     "output_type": "stream",
     "text": [
      "[-9.479090690612793, -47.16130065917969, -29.278675079345703, -14.287191390991211, -11.699040412902832, -11.221278190612793, -10.982568740844727]\n"
     ]
    }
   ],
   "source": [
    "print(val_losses)"
   ]
  },
  {
   "cell_type": "code",
   "execution_count": 121,
   "id": "0c8eeec3",
   "metadata": {},
   "outputs": [],
   "source": [
    "with torch.no_grad():\n",
    "    nf.eval()\n",
    "    log_density_grid = -xnn.TransformedNormalLoss(reduction='none')(*nf(\n",
    "        torch.Tensor(grid_inverses['umap']).view((-1, features_train.size(1)))\n",
    "    )).view((20, 20))"
   ]
  },
  {
   "cell_type": "code",
   "execution_count": 122,
   "id": "395724d2",
   "metadata": {},
   "outputs": [
    {
     "data": {
      "text/plain": [
       "(<Figure size 720x288 with 3 Axes>,\n",
       " array([[<AxesSubplot:>, <AxesSubplot:>]], dtype=object))"
      ]
     },
     "execution_count": 122,
     "metadata": {},
     "output_type": "execute_result"
    },
    {
     "data": {
      "image/png": "[encoded data removed]",
      "text/plain": [
       "<Figure size 720x288 with 3 Axes>"
      ]
     },
     "metadata": {
      "needs_background": "light"
     },
     "output_type": "display_data"
    }
   ],
   "source": [
    "plot_density(embeddings['umap'][is_train], embeddings['umap'][~is_train], grids['umap'], \n",
    "             log_density_grid.numpy(), np.zeros(int((~is_train).sum())), {0 : ''}, vmax=120, vmin=-200 )"
   ]
  },
  {
   "cell_type": "code",
   "execution_count": null,
   "id": "fdda5ca3",
   "metadata": {},
   "outputs": [],
   "source": []
  }
 ],
 "metadata": {
  "kernelspec": {
   "display_name": "Python 3",
   "language": "python",
   "name": "python3"
  },
  "language_info": {
   "codemirror_mode": {
    "name": "ipython",
    "version": 3
   },
   "file_extension": ".py",
   "mimetype": "text/x-python",
   "name": "python",
   "nbconvert_exporter": "python",
   "pygments_lexer": "ipython3",
   "version": "3.9.5"
  }
 },
 "nbformat": 4,
 "nbformat_minor": 5
}
