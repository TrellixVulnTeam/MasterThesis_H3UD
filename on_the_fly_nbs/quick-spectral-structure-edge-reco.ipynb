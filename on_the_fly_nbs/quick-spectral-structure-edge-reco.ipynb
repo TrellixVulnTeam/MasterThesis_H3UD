{
 "cells": [
  {
   "cell_type": "code",
   "execution_count": 1,
   "id": "306979d5",
   "metadata": {},
   "outputs": [],
   "source": [
    "import numpy as np\n",
    "import matplotlib.pyplot as plt\n",
    "import pandas as pd\n",
    "import seaborn as sns\n",
    "import torch\n",
    "import pytorch_lightning as pl\n",
    "\n",
    "from torch_geometric.data import DataLoader\n",
    "import pytorch_lightning as pl\n",
    "import os.path as osp\n",
    "\n",
    "from tqdm import tqdm\n",
    "\n",
    "from sklearn.metrics import roc_auc_score, precision_recall_curve, auc"
   ]
  },
  {
   "cell_type": "code",
   "execution_count": 2,
   "id": "a9dc4dea",
   "metadata": {},
   "outputs": [
    {
     "name": "stdout",
     "output_type": "stream",
     "text": [
      "/nfs/homedirs/fuchsgru/MastersThesis\n"
     ]
    }
   ],
   "source": [
    "%cd .."
   ]
  },
  {
   "cell_type": "code",
   "execution_count": 10,
   "id": "3f8f403b",
   "metadata": {},
   "outputs": [],
   "source": [
    "import configuration\n",
    "import model_registry\n",
    "import data.build\n",
    "import data.constants as dconst\n",
    "from data.util import data_get_num_attributes, data_get_num_classes\n",
    "from model.semi_supervised_node_classification import SemiSupervisedNodeClassification, Ensemble\n",
    "from evaluation.util import get_data_loader, run_model_on_datasets, separate_distributions\n",
    "import evaluation.callbacks as ecbs\n",
    "from metrics import expected_calibration_error\n",
    "from plot.calibration import plot_calibration\n",
    "from data.util import label_binarize\n",
    "from model.density import get_density_model\n",
    "import seed\n",
    "from train import train_model\n",
    "from model.build import make_model\n",
    "import model.constants as mconst"
   ]
  },
  {
   "cell_type": "code",
   "execution_count": 4,
   "id": "fcf7ff6a",
   "metadata": {},
   "outputs": [],
   "source": [
    "import logging as l\n",
    "\n",
    "l.basicConfig(level=l.INFO)"
   ]
  },
  {
   "cell_type": "code",
   "execution_count": 5,
   "id": "9849138f",
   "metadata": {},
   "outputs": [
    {
     "name": "stderr",
     "output_type": "stream",
     "text": [
      "INFO:root:Set configuration value data.base_labels to default ['Artificial_Intelligence/Machine_Learning/Case-Based', 'Artificial_Intelligence/Machine_Learning/Theory', 'Artificial_Intelligence/Machine_Learning/Genetic_Algorithms', 'Artificial_Intelligence/Machine_Learning/Probabilistic_Methods', 'Artificial_Intelligence/Machine_Learning/Neural_Networks', 'Artificial_Intelligence/Machine_Learning/Rule_Learning', 'Artificial_Intelligence/Machine_Learning/Reinforcement_Learning', 'Operating_Systems/Distributed', 'Operating_Systems/Memory_Management', 'Operating_Systems/Realtime', 'Operating_Systems/Fault_Tolerance']\n",
      "INFO:root:Set configuration value data.corpus_labels to default ['Artificial_Intelligence/Machine_Learning/Case-Based', 'Artificial_Intelligence/Machine_Learning/Theory', 'Artificial_Intelligence/Machine_Learning/Genetic_Algorithms', 'Artificial_Intelligence/Machine_Learning/Probabilistic_Methods', 'Artificial_Intelligence/Machine_Learning/Neural_Networks', 'Artificial_Intelligence/Machine_Learning/Rule_Learning', 'Artificial_Intelligence/Machine_Learning/Reinforcement_Learning']\n",
      "INFO:root:Set configuration value data.train_labels to default ['Artificial_Intelligence/Machine_Learning/Case-Based', 'Artificial_Intelligence/Machine_Learning/Theory', 'Artificial_Intelligence/Machine_Learning/Genetic_Algorithms', 'Artificial_Intelligence/Machine_Learning/Probabilistic_Methods', 'Artificial_Intelligence/Machine_Learning/Neural_Networks', 'Artificial_Intelligence/Machine_Learning/Rule_Learning', 'Artificial_Intelligence/Machine_Learning/Reinforcement_Learning']\n",
      "INFO:root:Set configuration value data.left_out_class_labels to default ['Operating_Systems/Distributed', 'Operating_Systems/Memory_Management', 'Operating_Systems/Realtime', 'Operating_Systems/Fault_Tolerance']\n",
      "INFO:root:Set configuration value data.preprocessing to default none\n",
      "INFO:root:Set configuration value data.ood_sampling_strategy to default all\n",
      "INFO:root:Set configuration value data.train_portion to default 20\n",
      "INFO:root:Set configuration value data.test_portion_fixed to default 0.2\n",
      "INFO:root:Set configuration value data.split_type to default uniform\n",
      "INFO:root:Set configuration value data.type to default npz\n",
      "INFO:root:Set configuration value data.drop_train_vertices_portion to default 0.1\n",
      "INFO:root:Set configuration value data.precompute_k_hop_neighbourhood to default 2\n",
      "INFO:root:Set configuration value model.hidden_sizes to default [64]\n",
      "INFO:root:Set configuration value data.base_labels to ['Artificial_Intelligence/Machine_Learning/Case-Based', 'Artificial_Intelligence/Machine_Learning/Theory', 'Artificial_Intelligence/Machine_Learning/Genetic_Algorithms', 'Artificial_Intelligence/Machine_Learning/Probabilistic_Methods', 'Artificial_Intelligence/Machine_Learning/Neural_Networks', 'Artificial_Intelligence/Machine_Learning/Rule_Learning', 'Artificial_Intelligence/Machine_Learning/Reinforcement_Learning']\n",
      "INFO:root:Set configuration value data.corpus_labels to ['Artificial_Intelligence/Machine_Learning/Case-Based', 'Artificial_Intelligence/Machine_Learning/Theory', 'Artificial_Intelligence/Machine_Learning/Genetic_Algorithms', 'Artificial_Intelligence/Machine_Learning/Probabilistic_Methods', 'Artificial_Intelligence/Machine_Learning/Neural_Networks', 'Artificial_Intelligence/Machine_Learning/Rule_Learning', 'Artificial_Intelligence/Machine_Learning/Reinforcement_Learning']\n",
      "INFO:root:Set configuration value data.left_out_class_labels to []\n"
     ]
    },
    {
     "name": "stdout",
     "output_type": "stream",
     "text": [
      "True\n"
     ]
    }
   ],
   "source": [
    "dataset = dconst.CORA_FULL\n",
    "\n",
    "spectral_norm_conf = {'model' : {\n",
    "        'use_spectral_norm' : True,\n",
    "        'residual' : True,\n",
    "        'weight_scale' : 200.0,\n",
    "    },}\n",
    "\n",
    "config = configuration.ExperimentConfiguration(\n",
    "    data={\n",
    "        'dataset' : dataset,\n",
    "        'setting' : dconst.HYBRID,\n",
    "        'ood_type' : dconst.PERTURBATION,\n",
    "    },\n",
    "    **(spectral_norm_conf),\n",
    "    run = {\n",
    "        'use_default_configuration' : True,\n",
    "    },\n",
    ")\n",
    "config.model.use_bias = True\n",
    "if config.run.use_default_configuration:\n",
    "    configuration.update_with_default_configuration(config)\n",
    "    \n",
    "print(config.run.use_default_configuration)"
   ]
  },
  {
   "cell_type": "code",
   "execution_count": 12,
   "id": "915c6c77",
   "metadata": {},
   "outputs": [],
   "source": [
    "data_split_seed = seed.data_split_seeds()[config.run.split_idx]\n",
    "model_seed_generator = iter(seed.SeedIterator(seed.model_seeds()[config.run.initialization_idx]))\n",
    "model_seed = next(model_seed_generator)\n",
    "config.registry.model_seed = model_seed\n",
    "config.registry.split_seed = data_split_seed\n",
    "config.training.early_stopping.patience = 50\n",
    "config.training.early_stopping.min_delta = 0.01\n",
    "\n",
    "\n",
    "config.model.reconstruction.loss_weight = 1.0\n",
    "config.model.reconstruction.reconstruction_type = mconst.ENERGY"
   ]
  },
  {
   "cell_type": "code",
   "execution_count": 19,
   "id": "e58e8a18",
   "metadata": {},
   "outputs": [
    {
     "data": {
      "text/plain": [
       "True"
      ]
     },
     "execution_count": 19,
     "metadata": {},
     "output_type": "execute_result"
    }
   ],
   "source": [
    "config.run.use_pretrained_model"
   ]
  },
  {
   "cell_type": "code",
   "execution_count": 23,
   "id": "74609be6",
   "metadata": {},
   "outputs": [],
   "source": [
    "config.run.use_pretrained_model = True\n",
    "\n",
    "if not torch.cuda.is_available():\n",
    "    config.training.gpus = 0"
   ]
  },
  {
   "cell_type": "code",
   "execution_count": 24,
   "id": "57753b6e",
   "metadata": {},
   "outputs": [
    {
     "name": "stderr",
     "output_type": "stream",
     "text": [
      "INFO:root:Found precomputed dataset split at /nfs/students/fuchsgru/dataset_registry/2361285485.pt\n"
     ]
    }
   ],
   "source": [
    "data_dict, fixed_vertices = data.build.load_data_from_configuration(config.data, data_split_seed)"
   ]
  },
  {
   "cell_type": "code",
   "execution_count": 25,
   "id": "bb66dcd5",
   "metadata": {},
   "outputs": [
    {
     "name": "stderr",
     "output_type": "stream",
     "text": [
      "/nfs/homedirs/fuchsgru/miniconda3/lib/python3.9/site-packages/torch_geometric/deprecation.py:13: UserWarning: 'data.DataLoader' is deprecated, use 'loader.DataLoader' instead\n",
      "  warnings.warn(out)\n"
     ]
    }
   ],
   "source": [
    "from torch_geometric.data import DataLoader\n",
    "data_loaders = {\n",
    "    name : DataLoader(data, batch_size=1, shuffle=False) for name, data in data_dict.items()\n",
    "}"
   ]
  },
  {
   "cell_type": "code",
   "execution_count": 26,
   "id": "5ca9e2e4",
   "metadata": {},
   "outputs": [],
   "source": [
    "import model_registry\n",
    "registry = model_registry.ModelRegistry()"
   ]
  },
  {
   "cell_type": "code",
   "execution_count": 27,
   "id": "2d54b8f4",
   "metadata": {},
   "outputs": [
    {
     "data": {
      "text/plain": [
       "'/nfs/students/fuchsgru/model_registry/3202218202.ckpt'"
      ]
     },
     "execution_count": 27,
     "metadata": {},
     "output_type": "execute_result"
    }
   ],
   "source": [
    "registry[config]"
   ]
  },
  {
   "cell_type": "code",
   "execution_count": 28,
   "id": "d374a381",
   "metadata": {},
   "outputs": [],
   "source": [
    "run_artifact_dir = 'test'"
   ]
  },
  {
   "cell_type": "code",
   "execution_count": 29,
   "id": "a3ac0a30",
   "metadata": {},
   "outputs": [
    {
     "name": "stderr",
     "output_type": "stream",
     "text": [
      "GPU available: False, used: False\n",
      "TPU available: False, using: 0 TPU cores\n",
      "IPU available: False, using: 0 IPUs\n",
      "INFO:root:Found pre-trained model at /nfs/students/fuchsgru/model_registry/3202218202.ckpt\n",
      "INFO:root:Loading model for evaluation from /nfs/students/fuchsgru/model_registry/3202218202.ckpt.\n",
      "INFO:root:<class 'model.nn.GCNConv'> disabled cache.\n",
      "INFO:root:<class 'model.nn.GCNConv'> disabled cache.\n"
     ]
    }
   ],
   "source": [
    "model = make_model(config, data_get_num_attributes(data_dict[dconst.TRAIN][0]), \n",
    "data_get_num_classes(data_dict[dconst.TRAIN][0])).eval()\n",
    "model = train_model(model, config, run_artifact_dir, data_loaders, logger=None).eval()\n",
    "model.clear_and_disable_cache()"
   ]
  },
  {
   "cell_type": "code",
   "execution_count": 30,
   "id": "8911ca6a",
   "metadata": {},
   "outputs": [],
   "source": [
    "with torch.no_grad():\n",
    "    data_test = data_dict[dconst.TEST][0]\n",
    "    pred_test = model(data_test)\n",
    "    acc_test = (pred_test.get_predictions().argmax(dim=1) == data_test.y)[data_test.mask].float().mean()\n",
    "    "
   ]
  },
  {
   "cell_type": "code",
   "execution_count": 31,
   "id": "1bd15064",
   "metadata": {},
   "outputs": [
    {
     "data": {
      "text/plain": [
       "tensor(0.7844)"
      ]
     },
     "execution_count": 31,
     "metadata": {},
     "output_type": "execute_result"
    }
   ],
   "source": [
    "acc_test"
   ]
  },
  {
   "cell_type": "code",
   "execution_count": 33,
   "id": "d48f6605",
   "metadata": {},
   "outputs": [],
   "source": [
    "W = model.get_weights()['backbone.conv0.lin.weight'].detach().cpu().numpy()"
   ]
  },
  {
   "cell_type": "code",
   "execution_count": 34,
   "id": "99a4653c",
   "metadata": {},
   "outputs": [],
   "source": [
    "U, S, V = np.linalg.svd(W, full_matrices=False)"
   ]
  },
  {
   "cell_type": "code",
   "execution_count": 39,
   "id": "774f8209",
   "metadata": {},
   "outputs": [
    {
     "data": {
      "text/plain": [
       "array([1.        , 0.34644157, 0.21357606, 0.18221658, 0.17845054,\n",
       "       0.17358452, 0.17115714, 0.16369098, 0.16322312, 0.16211107,\n",
       "       0.16065218, 0.1579014 , 0.15761709, 0.15563282, 0.15385689,\n",
       "       0.15299924, 0.1520852 , 0.15121146, 0.15073255, 0.1487227 ,\n",
       "       0.1480999 , 0.14714998, 0.14621434, 0.14535412, 0.14484566,\n",
       "       0.14467412, 0.14359272, 0.14320074, 0.14250769, 0.14214145,\n",
       "       0.14086385, 0.14054221, 0.1399537 , 0.13944867, 0.13895313,\n",
       "       0.13866158, 0.13808402, 0.1368391 , 0.13634303, 0.13609466,\n",
       "       0.1353066 , 0.13461395, 0.13378777, 0.13345309, 0.13289294,\n",
       "       0.13199455, 0.13152133, 0.13077731, 0.13032141, 0.13027649,\n",
       "       0.13000262, 0.12891391, 0.12799823, 0.12694843, 0.12627207,\n",
       "       0.125105  , 0.12487053, 0.12399704, 0.12364048, 0.12215623,\n",
       "       0.12190119, 0.1207462 , 0.11943238, 0.11732855], dtype=float32)"
      ]
     },
     "execution_count": 39,
     "metadata": {},
     "output_type": "execute_result"
    }
   ],
   "source": [
    "S / S.max()"
   ]
  },
  {
   "cell_type": "code",
   "execution_count": 41,
   "id": "3d9a18a1",
   "metadata": {},
   "outputs": [
    {
     "data": {
      "text/plain": [
       "64"
      ]
     },
     "execution_count": 41,
     "metadata": {},
     "output_type": "execute_result"
    }
   ],
   "source": [
    "np.linalg.matrix_rank(W)"
   ]
  },
  {
   "cell_type": "code",
   "execution_count": null,
   "id": "9e463726",
   "metadata": {},
   "outputs": [],
   "source": []
  }
 ],
 "metadata": {
  "kernelspec": {
   "display_name": "Python 3",
   "language": "python",
   "name": "python3"
  },
  "language_info": {
   "codemirror_mode": {
    "name": "ipython",
    "version": 3
   },
   "file_extension": ".py",
   "mimetype": "text/x-python",
   "name": "python",
   "nbconvert_exporter": "python",
   "pygments_lexer": "ipython3",
   "version": "3.9.5"
  }
 },
 "nbformat": 4,
 "nbformat_minor": 5
}
