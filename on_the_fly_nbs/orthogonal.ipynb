{
 "cells": [
  {
   "cell_type": "code",
   "execution_count": 1,
   "id": "c7e27929",
   "metadata": {},
   "outputs": [],
   "source": [
    "import torch\n",
    "import numpy as np"
   ]
  },
  {
   "cell_type": "code",
   "execution_count": 2,
   "id": "70459aeb",
   "metadata": {},
   "outputs": [
    {
     "name": "stdout",
     "output_type": "stream",
     "text": [
      "/nfs/homedirs/fuchsgru/MastersThesis\n"
     ]
    }
   ],
   "source": [
    "%cd .."
   ]
  },
  {
   "cell_type": "code",
   "execution_count": 3,
   "id": "52344cde",
   "metadata": {},
   "outputs": [],
   "source": [
    "from model.orthogonal import *"
   ]
  },
  {
   "cell_type": "code",
   "execution_count": 54,
   "id": "c2ea45c6",
   "metadata": {},
   "outputs": [],
   "source": [
    "def fasthpp(V, X, stop_recursion=3): \n",
    "  \"\"\"\n",
    "    V: matrix that represent weights of householder matrices (d, d)\n",
    "    X: rectangular matrix (d, bs) to compute H(V) @ X\n",
    "    stop_recursion: integer that controls how many merge iterations before recursion stops. \n",
    "    \t\t    if None recursion continues until base case. \n",
    "  \"\"\"\n",
    "  d = V.shape[0]\n",
    "\n",
    "  Y_ = V.clone().T\n",
    "  W_ = -2*Y_.clone()\n",
    "\n",
    "  # Only works for powers of two. \n",
    "  assert (d & (d-1)) == 0 and d != 0, \"d should be power of two. You can just pad the matrix. \" \n",
    "\n",
    "  # Step 1: compute (Y, W)s by merging! \n",
    "  k = 1\n",
    "  for i, c in enumerate(range(int(np.log2(d)))):  \n",
    "    k_2 = k \n",
    "    k  *= 2\n",
    "\n",
    "    m1_ = Y_.view(d//k_2, k_2, d)[0::2] @ torch.transpose(W_.view(d//k_2, k_2, d)[1::2], 1, 2)\n",
    "    m2_ = torch.transpose(W_.view(d//k_2, k_2, d)[0::2], 1, 2) @ m1_\n",
    "\n",
    "    W_ = W_.view(d//k_2, k_2, d).clone()\n",
    "    W_[1::2] += torch.transpose(m2_, 1, 2)\n",
    "    W_ = W_.view(d, d)\n",
    "\n",
    "    if stop_recursion is not None and c == stop_recursion: break\n",
    "\n",
    "  # Step 2: \n",
    "  if stop_recursion is None:   return X + W_.T @ (Y_ @ X) \n",
    "  else: \n",
    "    # For each (W,Y) pair multiply with \n",
    "    for i in range(d // k-1, -1, -1 ):\n",
    "      X = X + W_[i*k: (i+1)*k].T @ (Y_[i*k: (i+1)*k]  @ X )\n",
    "    return X "
   ]
  },
  {
   "cell_type": "code",
   "execution_count": 55,
   "id": "73c95c07",
   "metadata": {},
   "outputs": [],
   "source": [
    "x = torch.randn(64, 72) # [D, batch]\n",
    "x.requires_grad = False\n",
    "v = 0.1 * torch.randn(64, 64)\n",
    "v.requires_grad = True"
   ]
  },
  {
   "cell_type": "code",
   "execution_count": 56,
   "id": "d3307765",
   "metadata": {},
   "outputs": [],
   "source": [
    "y_pred = fasthpp(v, x, stop_recursion=3)"
   ]
  },
  {
   "cell_type": "code",
   "execution_count": 57,
   "id": "a804932e",
   "metadata": {},
   "outputs": [],
   "source": [
    "y_pred.sum().backward()"
   ]
  },
  {
   "cell_type": "code",
   "execution_count": 59,
   "id": "75fff20d",
   "metadata": {},
   "outputs": [
    {
     "data": {
      "text/plain": [
       "tensor([[ 1.2937e+01, -2.9528e+00, -1.6258e+01,  ...,  1.3506e+01,\n",
       "          2.0690e-05, -1.1856e+00],\n",
       "        [ 1.3862e+01, -2.3585e+00, -2.4804e+01,  ...,  7.7521e+00,\n",
       "          1.2090e+00,  6.0216e+00],\n",
       "        [ 5.4788e+00, -5.0078e+00, -1.1050e+01,  ..., -1.6087e+01,\n",
       "          1.1258e+00,  8.1878e+00],\n",
       "        ...,\n",
       "        [ 9.3238e+00, -4.7141e+00, -2.0566e+01,  ...,  3.9409e+00,\n",
       "         -3.6661e+00, -2.0735e+01],\n",
       "        [-2.8815e+00, -1.0664e+01, -5.8704e+00,  ...,  9.8769e+00,\n",
       "         -3.5049e+00, -2.0599e+01],\n",
       "        [ 6.0672e+00, -7.3961e+00, -1.6536e+01,  ...,  8.4623e+00,\n",
       "         -3.2601e+00, -1.9084e+01]])"
      ]
     },
     "execution_count": 59,
     "metadata": {},
     "output_type": "execute_result"
    }
   ],
   "source": [
    "v.grad"
   ]
  },
  {
   "cell_type": "code",
   "execution_count": null,
   "id": "b81ab699",
   "metadata": {},
   "outputs": [],
   "source": []
  }
 ],
 "metadata": {
  "kernelspec": {
   "display_name": "Python 3",
   "language": "python",
   "name": "python3"
  },
  "language_info": {
   "codemirror_mode": {
    "name": "ipython",
    "version": 3
   },
   "file_extension": ".py",
   "mimetype": "text/x-python",
   "name": "python",
   "nbconvert_exporter": "python",
   "pygments_lexer": "ipython3",
   "version": "3.9.5"
  }
 },
 "nbformat": 4,
 "nbformat_minor": 5
}
