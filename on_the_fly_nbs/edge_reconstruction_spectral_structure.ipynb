{
 "cells": [
  {
   "cell_type": "code",
   "execution_count": 1,
   "id": "333d163f",
   "metadata": {},
   "outputs": [],
   "source": [
    "import numpy as np\n",
    "import matplotlib.pyplot as plt\n",
    "import pandas as pd\n",
    "import seaborn as sns\n",
    "import torch\n",
    "import pytorch_lightning as pl\n",
    "\n",
    "from torch_geometric.data import DataLoader\n",
    "import pytorch_lightning as pl\n",
    "import os.path as osp\n",
    "\n",
    "from tqdm import tqdm\n",
    "\n",
    "from sklearn.metrics import roc_auc_score, precision_recall_curve, auc"
   ]
  },
  {
   "cell_type": "code",
   "execution_count": 2,
   "id": "c4ecfc93",
   "metadata": {},
   "outputs": [
    {
     "name": "stdout",
     "output_type": "stream",
     "text": [
      "/nfs/homedirs/fuchsgru/MastersThesis\n"
     ]
    }
   ],
   "source": [
    "%cd .."
   ]
  },
  {
   "cell_type": "code",
   "execution_count": 3,
   "id": "842557dd",
   "metadata": {},
   "outputs": [],
   "source": [
    "import configuration\n",
    "import model_registry\n",
    "import data.build\n",
    "import data.constants as dconst\n",
    "from data.util import data_get_num_attributes, data_get_num_classes\n",
    "from model.semi_supervised_node_classification import SemiSupervisedNodeClassification, Ensemble\n",
    "from evaluation.util import get_data_loader, run_model_on_datasets, separate_distributions\n",
    "import evaluation.callbacks as ecbs\n",
    "from metrics import expected_calibration_error\n",
    "from plot.calibration import plot_calibration\n",
    "from data.util import label_binarize\n",
    "from model.density import get_density_model\n",
    "import seed\n",
    "from train import train_model\n",
    "from model.build import make_model"
   ]
  },
  {
   "cell_type": "code",
   "execution_count": 4,
   "id": "6b9afb76",
   "metadata": {},
   "outputs": [],
   "source": [
    "import logging as l\n",
    "\n",
    "l.basicConfig(level=l.INFO)"
   ]
  },
  {
   "cell_type": "code",
   "execution_count": 6,
   "id": "dbf25798",
   "metadata": {},
   "outputs": [
    {
     "name": "stderr",
     "output_type": "stream",
     "text": [
      "INFO:root:Set configuration value data.base_labels to default ['Artificial_Intelligence/Machine_Learning/Case-Based', 'Artificial_Intelligence/Machine_Learning/Theory', 'Artificial_Intelligence/Machine_Learning/Genetic_Algorithms', 'Artificial_Intelligence/Machine_Learning/Probabilistic_Methods', 'Artificial_Intelligence/Machine_Learning/Neural_Networks', 'Artificial_Intelligence/Machine_Learning/Rule_Learning', 'Artificial_Intelligence/Machine_Learning/Reinforcement_Learning', 'Operating_Systems/Distributed', 'Operating_Systems/Memory_Management', 'Operating_Systems/Realtime', 'Operating_Systems/Fault_Tolerance']\n",
      "INFO:root:Set configuration value data.corpus_labels to default ['Artificial_Intelligence/Machine_Learning/Case-Based', 'Artificial_Intelligence/Machine_Learning/Theory', 'Artificial_Intelligence/Machine_Learning/Genetic_Algorithms', 'Artificial_Intelligence/Machine_Learning/Probabilistic_Methods', 'Artificial_Intelligence/Machine_Learning/Neural_Networks', 'Artificial_Intelligence/Machine_Learning/Rule_Learning', 'Artificial_Intelligence/Machine_Learning/Reinforcement_Learning']\n",
      "INFO:root:Set configuration value data.train_labels to default ['Artificial_Intelligence/Machine_Learning/Case-Based', 'Artificial_Intelligence/Machine_Learning/Theory', 'Artificial_Intelligence/Machine_Learning/Genetic_Algorithms', 'Artificial_Intelligence/Machine_Learning/Probabilistic_Methods', 'Artificial_Intelligence/Machine_Learning/Neural_Networks', 'Artificial_Intelligence/Machine_Learning/Rule_Learning', 'Artificial_Intelligence/Machine_Learning/Reinforcement_Learning']\n",
      "INFO:root:Set configuration value data.left_out_class_labels to default ['Operating_Systems/Distributed', 'Operating_Systems/Memory_Management', 'Operating_Systems/Realtime', 'Operating_Systems/Fault_Tolerance']\n",
      "INFO:root:Set configuration value data.preprocessing to default none\n",
      "INFO:root:Set configuration value data.ood_sampling_strategy to default all\n",
      "INFO:root:Set configuration value data.train_portion to default 20\n",
      "INFO:root:Set configuration value data.test_portion_fixed to default 0.2\n",
      "INFO:root:Set configuration value data.split_type to default uniform\n",
      "INFO:root:Set configuration value data.type to default npz\n",
      "INFO:root:Set configuration value data.drop_train_vertices_portion to default 0.1\n",
      "INFO:root:Set configuration value data.precompute_k_hop_neighbourhood to default 2\n",
      "INFO:root:Set configuration value model.hidden_sizes to default [64]\n",
      "INFO:root:Set configuration value data.base_labels to ['Artificial_Intelligence/Machine_Learning/Case-Based', 'Artificial_Intelligence/Machine_Learning/Theory', 'Artificial_Intelligence/Machine_Learning/Genetic_Algorithms', 'Artificial_Intelligence/Machine_Learning/Probabilistic_Methods', 'Artificial_Intelligence/Machine_Learning/Neural_Networks', 'Artificial_Intelligence/Machine_Learning/Rule_Learning', 'Artificial_Intelligence/Machine_Learning/Reinforcement_Learning']\n",
      "INFO:root:Set configuration value data.corpus_labels to ['Artificial_Intelligence/Machine_Learning/Case-Based', 'Artificial_Intelligence/Machine_Learning/Theory', 'Artificial_Intelligence/Machine_Learning/Genetic_Algorithms', 'Artificial_Intelligence/Machine_Learning/Probabilistic_Methods', 'Artificial_Intelligence/Machine_Learning/Neural_Networks', 'Artificial_Intelligence/Machine_Learning/Rule_Learning', 'Artificial_Intelligence/Machine_Learning/Reinforcement_Learning']\n",
      "INFO:root:Set configuration value data.left_out_class_labels to []\n",
      "INFO:root:Set configuration value data.base_labels to default ['Artificial_Intelligence/Machine_Learning/Case-Based', 'Artificial_Intelligence/Machine_Learning/Theory', 'Artificial_Intelligence/Machine_Learning/Genetic_Algorithms', 'Artificial_Intelligence/Machine_Learning/Probabilistic_Methods', 'Artificial_Intelligence/Machine_Learning/Neural_Networks', 'Artificial_Intelligence/Machine_Learning/Rule_Learning', 'Artificial_Intelligence/Machine_Learning/Reinforcement_Learning', 'Operating_Systems/Distributed', 'Operating_Systems/Memory_Management', 'Operating_Systems/Realtime', 'Operating_Systems/Fault_Tolerance']\n",
      "INFO:root:Set configuration value data.corpus_labels to default ['Artificial_Intelligence/Machine_Learning/Case-Based', 'Artificial_Intelligence/Machine_Learning/Theory', 'Artificial_Intelligence/Machine_Learning/Genetic_Algorithms', 'Artificial_Intelligence/Machine_Learning/Probabilistic_Methods', 'Artificial_Intelligence/Machine_Learning/Neural_Networks', 'Artificial_Intelligence/Machine_Learning/Rule_Learning', 'Artificial_Intelligence/Machine_Learning/Reinforcement_Learning']\n",
      "INFO:root:Set configuration value data.train_labels to default ['Artificial_Intelligence/Machine_Learning/Case-Based', 'Artificial_Intelligence/Machine_Learning/Theory', 'Artificial_Intelligence/Machine_Learning/Genetic_Algorithms', 'Artificial_Intelligence/Machine_Learning/Probabilistic_Methods', 'Artificial_Intelligence/Machine_Learning/Neural_Networks', 'Artificial_Intelligence/Machine_Learning/Rule_Learning', 'Artificial_Intelligence/Machine_Learning/Reinforcement_Learning']\n",
      "INFO:root:Set configuration value data.left_out_class_labels to default ['Operating_Systems/Distributed', 'Operating_Systems/Memory_Management', 'Operating_Systems/Realtime', 'Operating_Systems/Fault_Tolerance']\n",
      "INFO:root:Set configuration value data.preprocessing to default none\n",
      "INFO:root:Set configuration value data.ood_sampling_strategy to default all\n",
      "INFO:root:Set configuration value data.train_portion to default 20\n",
      "INFO:root:Set configuration value data.test_portion_fixed to default 0.2\n",
      "INFO:root:Set configuration value data.split_type to default uniform\n",
      "INFO:root:Set configuration value data.type to default npz\n",
      "INFO:root:Set configuration value data.drop_train_vertices_portion to default 0.1\n",
      "INFO:root:Set configuration value data.precompute_k_hop_neighbourhood to default 2\n",
      "INFO:root:Set configuration value model.hidden_sizes to default [64]\n",
      "INFO:root:Set configuration value data.base_labels to ['Artificial_Intelligence/Machine_Learning/Case-Based', 'Artificial_Intelligence/Machine_Learning/Theory', 'Artificial_Intelligence/Machine_Learning/Genetic_Algorithms', 'Artificial_Intelligence/Machine_Learning/Probabilistic_Methods', 'Artificial_Intelligence/Machine_Learning/Neural_Networks', 'Artificial_Intelligence/Machine_Learning/Rule_Learning', 'Artificial_Intelligence/Machine_Learning/Reinforcement_Learning']\n",
      "INFO:root:Set configuration value data.corpus_labels to ['Artificial_Intelligence/Machine_Learning/Case-Based', 'Artificial_Intelligence/Machine_Learning/Theory', 'Artificial_Intelligence/Machine_Learning/Genetic_Algorithms', 'Artificial_Intelligence/Machine_Learning/Probabilistic_Methods', 'Artificial_Intelligence/Machine_Learning/Neural_Networks', 'Artificial_Intelligence/Machine_Learning/Rule_Learning', 'Artificial_Intelligence/Machine_Learning/Reinforcement_Learning']\n",
      "INFO:root:Set configuration value data.left_out_class_labels to []\n",
      "INFO:root:Set configuration value data.base_labels to default ['Artificial_Intelligence/Machine_Learning/Case-Based', 'Artificial_Intelligence/Machine_Learning/Theory', 'Artificial_Intelligence/Machine_Learning/Genetic_Algorithms', 'Artificial_Intelligence/Machine_Learning/Probabilistic_Methods', 'Artificial_Intelligence/Machine_Learning/Neural_Networks', 'Artificial_Intelligence/Machine_Learning/Rule_Learning', 'Artificial_Intelligence/Machine_Learning/Reinforcement_Learning', 'Operating_Systems/Distributed', 'Operating_Systems/Memory_Management', 'Operating_Systems/Realtime', 'Operating_Systems/Fault_Tolerance']\n",
      "INFO:root:Set configuration value data.corpus_labels to default ['Artificial_Intelligence/Machine_Learning/Case-Based', 'Artificial_Intelligence/Machine_Learning/Theory', 'Artificial_Intelligence/Machine_Learning/Genetic_Algorithms', 'Artificial_Intelligence/Machine_Learning/Probabilistic_Methods', 'Artificial_Intelligence/Machine_Learning/Neural_Networks', 'Artificial_Intelligence/Machine_Learning/Rule_Learning', 'Artificial_Intelligence/Machine_Learning/Reinforcement_Learning']\n",
      "INFO:root:Set configuration value data.train_labels to default ['Artificial_Intelligence/Machine_Learning/Case-Based', 'Artificial_Intelligence/Machine_Learning/Theory', 'Artificial_Intelligence/Machine_Learning/Genetic_Algorithms', 'Artificial_Intelligence/Machine_Learning/Probabilistic_Methods', 'Artificial_Intelligence/Machine_Learning/Neural_Networks', 'Artificial_Intelligence/Machine_Learning/Rule_Learning', 'Artificial_Intelligence/Machine_Learning/Reinforcement_Learning']\n"
     ]
    },
    {
     "name": "stderr",
     "output_type": "stream",
     "text": [
      "INFO:root:Set configuration value data.left_out_class_labels to default ['Operating_Systems/Distributed', 'Operating_Systems/Memory_Management', 'Operating_Systems/Realtime', 'Operating_Systems/Fault_Tolerance']\n",
      "INFO:root:Set configuration value data.preprocessing to default none\n",
      "INFO:root:Set configuration value data.ood_sampling_strategy to default all\n",
      "INFO:root:Set configuration value data.train_portion to default 20\n",
      "INFO:root:Set configuration value data.test_portion_fixed to default 0.2\n",
      "INFO:root:Set configuration value data.split_type to default uniform\n",
      "INFO:root:Set configuration value data.type to default npz\n",
      "INFO:root:Set configuration value data.drop_train_vertices_portion to default 0.1\n",
      "INFO:root:Set configuration value data.precompute_k_hop_neighbourhood to default 2\n",
      "INFO:root:Set configuration value model.hidden_sizes to default [64]\n",
      "INFO:root:Set configuration value data.base_labels to ['Artificial_Intelligence/Machine_Learning/Case-Based', 'Artificial_Intelligence/Machine_Learning/Theory', 'Artificial_Intelligence/Machine_Learning/Genetic_Algorithms', 'Artificial_Intelligence/Machine_Learning/Probabilistic_Methods', 'Artificial_Intelligence/Machine_Learning/Neural_Networks', 'Artificial_Intelligence/Machine_Learning/Rule_Learning', 'Artificial_Intelligence/Machine_Learning/Reinforcement_Learning']\n",
      "INFO:root:Set configuration value data.corpus_labels to ['Artificial_Intelligence/Machine_Learning/Case-Based', 'Artificial_Intelligence/Machine_Learning/Theory', 'Artificial_Intelligence/Machine_Learning/Genetic_Algorithms', 'Artificial_Intelligence/Machine_Learning/Probabilistic_Methods', 'Artificial_Intelligence/Machine_Learning/Neural_Networks', 'Artificial_Intelligence/Machine_Learning/Rule_Learning', 'Artificial_Intelligence/Machine_Learning/Reinforcement_Learning']\n",
      "INFO:root:Set configuration value data.left_out_class_labels to []\n"
     ]
    },
    {
     "name": "stdout",
     "output_type": "stream",
     "text": [
      "True\n"
     ]
    }
   ],
   "source": [
    "dataset = dconst.CORA_FULL\n",
    "\n",
    "spectral_norm_conf = {'model' : {\n",
    "        'use_spectral_norm' : True,\n",
    "        'residual' : True,\n",
    "        'weight_scale' : 200.0,\n",
    "    },}\n",
    "\n",
    "reco_conf = {\n",
    "    'model' : {\n",
    "        'reconstruction' : {\n",
    "            'loss_weight' : 1.0,\n",
    "            'reconstruction_type' : 'energy',\n",
    "        },\n",
    "    },\n",
    "}\n",
    "\n",
    "config = configuration.ExperimentConfiguration(\n",
    "    data={\n",
    "        'dataset' : dataset,\n",
    "        'setting' : dconst.HYBRID,\n",
    "        'ood_type' : dconst.PERTURBATION,\n",
    "        'use_dataset_registry' : False,\n",
    "    },\n",
    "    # **spectral_norm_conf,\n",
    "    run = {\n",
    "        'use_default_configuration' : True,\n",
    "    },\n",
    ")\n",
    "config_norm = configuration.ExperimentConfiguration(\n",
    "    data={\n",
    "        'dataset' : dataset,\n",
    "        'setting' : dconst.HYBRID,\n",
    "        'ood_type' : dconst.PERTURBATION,\n",
    "        'use_dataset_registry' : False,\n",
    "    },\n",
    "    **spectral_norm_conf,\n",
    "    run = {\n",
    "        'use_default_configuration' : True,\n",
    "    },\n",
    ")\n",
    "\n",
    "config_reco = configuration.ExperimentConfiguration(\n",
    "    data={\n",
    "        'dataset' : dataset,\n",
    "        'setting' : dconst.HYBRID,\n",
    "        'ood_type' : dconst.PERTURBATION,\n",
    "        'use_dataset_registry' : False,\n",
    "    },\n",
    "    **reco_conf,\n",
    "    run = {\n",
    "        'use_default_configuration' : True,\n",
    "    },\n",
    ")\n",
    "\n",
    "if config.run.use_default_configuration:\n",
    "    configuration.update_with_default_configuration(config)\n",
    "    configuration.update_with_default_configuration(config_norm)\n",
    "    configuration.update_with_default_configuration(config_reco)\n",
    "    \n",
    "print(config.run.use_default_configuration)"
   ]
  },
  {
   "cell_type": "code",
   "execution_count": 7,
   "id": "88e46ff0",
   "metadata": {},
   "outputs": [
    {
     "data": {
      "text/plain": [
       "'hybrid'"
      ]
     },
     "execution_count": 7,
     "metadata": {},
     "output_type": "execute_result"
    }
   ],
   "source": [
    "config.data.setting"
   ]
  },
  {
   "cell_type": "code",
   "execution_count": 8,
   "id": "9d304c4d",
   "metadata": {},
   "outputs": [
    {
     "name": "stderr",
     "output_type": "stream",
     "text": [
      "INFO:root:Did not find precomputed dataset split.\n",
      "INFO:root:Data Loading - Loaded adjacency matrix.\n",
      "INFO:root:Data Loading - Built attribute matrix.\n"
     ]
    },
    {
     "name": "stdout",
     "output_type": "stream",
     "text": [
      "Build SingleGraphDataset with additional attribute dict_keys(['feature_to_idx'])\n",
      "Build SingleGraphDataset with additional attribute dict_keys(['feature_to_idx'])\n"
     ]
    },
    {
     "name": "stderr",
     "output_type": "stream",
     "text": [
      "INFO:root:Precompute <= 2 neighbourhoods of ood graph.\n"
     ]
    },
    {
     "name": "stdout",
     "output_type": "stream",
     "text": [
      "Build SingleGraphDataset with additional attribute dict_keys(['feature_to_idx'])\n",
      "Build SingleGraphDataset with additional attribute dict_keys(['feature_to_idx'])\n",
      "Build SingleGraphDataset with additional attribute dict_keys(['feature_to_idx'])\n",
      "Build SingleGraphDataset with additional attribute dict_keys(['is_train_graph_vertex', 'feature_to_idx', '0_hop_neighbourhood_indptr', '0_hop_neighbourhood_indices', '1_hop_neighbourhood_indptr', '1_hop_neighbourhood_indices', '2_hop_neighbourhood_indptr', '2_hop_neighbourhood_indices'])\n",
      "Build SingleGraphDataset with additional attribute dict_keys(['is_train_graph_vertex', 'feature_to_idx', '0_hop_neighbourhood_indptr', '0_hop_neighbourhood_indices', '1_hop_neighbourhood_indptr', '1_hop_neighbourhood_indices', '2_hop_neighbourhood_indptr', '2_hop_neighbourhood_indices'])\n"
     ]
    },
    {
     "name": "stderr",
     "output_type": "stream",
     "text": [
      "/nfs/homedirs/fuchsgru/miniconda3/lib/python3.9/site-packages/torch_geometric/deprecation.py:13: UserWarning: 'data.DataLoader' is deprecated, use 'loader.DataLoader' instead\n",
      "  warnings.warn(out)\n"
     ]
    }
   ],
   "source": [
    "data_split_seed = seed.data_split_seeds()[config.run.split_idx]\n",
    "config.registry.split_seed = data_split_seed\n",
    "model_seed_generator = iter(seed.SeedIterator(seed.model_seeds()[config.run.initialization_idx]))\n",
    "data_dict, fixed_vertices = data.build.load_data_from_configuration(config.data, data_split_seed)\n",
    "data_loaders = {\n",
    "    name : DataLoader(data, batch_size=1, shuffle=False) for name, data in data_dict.items()\n",
    "}"
   ]
  },
  {
   "cell_type": "code",
   "execution_count": 9,
   "id": "d1b6e644",
   "metadata": {},
   "outputs": [],
   "source": [
    "_ = data_dict[dconst.TRAIN][0].feature_to_idx"
   ]
  },
  {
   "cell_type": "code",
   "execution_count": 10,
   "id": "a55d30a5",
   "metadata": {},
   "outputs": [
    {
     "data": {
      "text/plain": [
       "tensor(0.0064)"
      ]
     },
     "execution_count": 10,
     "metadata": {},
     "output_type": "execute_result"
    }
   ],
   "source": [
    "(data_dict[dconst.TRAIN][0].x > 0).float().mean(1).mean(0)"
   ]
  },
  {
   "cell_type": "code",
   "execution_count": 11,
   "id": "f9714a90",
   "metadata": {},
   "outputs": [],
   "source": [
    "model_seed = next(model_seed_generator)"
   ]
  },
  {
   "cell_type": "code",
   "execution_count": 12,
   "id": "0e817d96",
   "metadata": {},
   "outputs": [],
   "source": [
    "run_artifact_dir = artifact_dir = osp.join(config.logging.artifact_dir, 'spectral-structure')"
   ]
  },
  {
   "cell_type": "code",
   "execution_count": 14,
   "id": "5c678632",
   "metadata": {},
   "outputs": [],
   "source": [
    "config.run.use_pretrained_model = False # We need to re-train the models\n",
    "config_norm.run.use_pretrained_model = False # We need to re-train the models\n",
    "config_reco.run.use_pretrained_model = False # We need to re-train the models"
   ]
  },
  {
   "cell_type": "code",
   "execution_count": 17,
   "id": "976f1473",
   "metadata": {},
   "outputs": [
    {
     "data": {
      "text/plain": [
       "(0, 0, 0)"
      ]
     },
     "execution_count": 17,
     "metadata": {},
     "output_type": "execute_result"
    }
   ],
   "source": [
    "if not torch.cuda.is_available():\n",
    "    config.training.gpus = 0\n",
    "    config_norm.training.gpus = 0\n",
    "    config_reco.training.gpus = 0\n",
    "config.training.gpus, config_norm.training.gpus, config_reco.training.gpus"
   ]
  },
  {
   "cell_type": "code",
   "execution_count": null,
   "id": "38fe2559",
   "metadata": {},
   "outputs": [],
   "source": []
  },
  {
   "cell_type": "code",
   "execution_count": 18,
   "id": "614cab0a",
   "metadata": {},
   "outputs": [],
   "source": [
    "# Create a callback that logs the weight matrix svd\n",
    "from collections import defaultdict\n",
    "\n",
    "class LogWeightMatrixSpectrum(pl.callbacks.Callback):\n",
    "    \"\"\" Finds all weight matrices and logs their spectrum every epoch. \"\"\"\n",
    "\n",
    "    def __init__(self, log_every_epoch=1):\n",
    "        super().__init__()\n",
    "        self.log_every_epoch = log_every_epoch\n",
    "        self._buffer = defaultdict(list)\n",
    "        self._epoch_buffer = []\n",
    "\n",
    "    def on_validation_epoch_start(self, trainer: pl.Trainer, model: pl.LightningModule):\n",
    "        if trainer.global_step % self.log_every_epoch == 0:\n",
    "            self._epoch_buffer.append(trainer.global_step)\n",
    "            weights = model.get_weights()\n",
    "            for name, weight in weights.items():\n",
    "                u, s, v = np.linalg.svd(weight.detach().cpu().numpy(), full_matrices=False)\n",
    "                self._buffer[name].append((u, s, v))"
   ]
  },
  {
   "cell_type": "code",
   "execution_count": 19,
   "id": "c162b213",
   "metadata": {},
   "outputs": [],
   "source": [
    "svd_callback, svd_callback_norm, svd_callback_reco = LogWeightMatrixSpectrum(), LogWeightMatrixSpectrum(), LogWeightMatrixSpectrum()"
   ]
  },
  {
   "cell_type": "code",
   "execution_count": null,
   "id": "f2a216b8",
   "metadata": {},
   "outputs": [],
   "source": []
  },
  {
   "cell_type": "code",
   "execution_count": 22,
   "id": "73676f68",
   "metadata": {},
   "outputs": [
    {
     "name": "stderr",
     "output_type": "stream",
     "text": [
      "Global seed set to 1952926171\n",
      "GPU available: False, used: False\n",
      "TPU available: False, using: 0 TPU cores\n",
      "IPU available: False, using: 0 IPUs\n",
      "\n",
      "  | Name     | Type | Params\n",
      "----------------------------------\n",
      "0 | backbone | GCN  | 557 K \n",
      "----------------------------------\n",
      "557 K     Trainable params\n",
      "0         Non-trainable params\n",
      "557 K     Total params\n",
      "2.232     Total estimated model params size (MB)\n"
     ]
    },
    {
     "name": "stdout",
     "output_type": "stream",
     "text": [
      "SemiSupervisedNodeClassification(\n",
      "  (backbone): GCN(\n",
      "    (convs): ModuleList(\n",
      "      (0): BasicBlock(\n",
      "        (conv): GCNConv\n",
      "          LinearWithParametrization(\n",
      "            (linear): Linear(in_features=8710, out_features=64, bias=False)\n",
      "          )\n",
      "        (act): LeakyReLU(negative_slope=0.01)\n",
      "      )\n",
      "      (1): BasicBlock(\n",
      "        (conv): GCNConv\n",
      "          LinearWithParametrization(\n",
      "            (linear): Linear(in_features=64, out_features=7, bias=False)\n",
      "          )\n",
      "      )\n",
      "    )\n",
      "  )\n",
      ")\n"
     ]
    },
    {
     "name": "stderr",
     "output_type": "stream",
     "text": [
      "Global seed set to 1952926171\n",
      "INFO:root:Best model path after training is /nfs/students/fuchsgru/artifacts/spectral-structure/epoch=999-step=999.ckpt\n",
      "INFO:root:Paths ['/nfs/students/fuchsgru/model_registry/1534242312.ckpt'] were overwritten with /nfs/students/fuchsgru/artifacts/spectral-structure/epoch=999-step=999.ckpt\n"
     ]
    }
   ],
   "source": [
    "config.registry.model_seed = model_seed\n",
    "pl.seed_everything(model_seed)\n",
    "model = make_model(config, data_get_num_attributes(data_dict[dconst.TRAIN][0]), \n",
    "    data_get_num_classes(data_dict[dconst.TRAIN][0]))\n",
    "print(model)\n",
    "model = train_model(model, config, artifact_dir, data_loaders, logger=None, callbacks=[svd_callback]).eval()"
   ]
  },
  {
   "cell_type": "code",
   "execution_count": 23,
   "id": "7e920bff",
   "metadata": {},
   "outputs": [
    {
     "name": "stderr",
     "output_type": "stream",
     "text": [
      "Global seed set to 1952926171\n",
      "GPU available: False, used: False\n",
      "TPU available: False, using: 0 TPU cores\n",
      "IPU available: False, using: 0 IPUs\n",
      "\n",
      "  | Name     | Type | Params\n",
      "----------------------------------\n",
      "0 | backbone | GCN  | 1.1 M \n",
      "----------------------------------\n",
      "1.1 M     Trainable params\n",
      "0         Non-trainable params\n",
      "1.1 M     Total params\n",
      "4.461     Total estimated model params size (MB)\n"
     ]
    },
    {
     "name": "stdout",
     "output_type": "stream",
     "text": [
      "SemiSupervisedNodeClassification(\n",
      "  (backbone): GCN(\n",
      "    (convs): ModuleList(\n",
      "      (0): ResidualBlock(\n",
      "        (conv): GCNConv\n",
      "          LinearWithParametrization(\n",
      "            (linear): ParametrizedLinear(\n",
      "              in_features=8710, out_features=64, bias=False\n",
      "              (parametrizations): ModuleDict(\n",
      "                (weight): ParametrizationList(\n",
      "                  (0): SpectralNorm(rescaling=200.0, n_iter=1)\n",
      "                )\n",
      "              )\n",
      "            )\n",
      "          )\n",
      "        (act): LeakyReLU(negative_slope=0.01)\n",
      "        (input_projection): LinearWithParametrization(\n",
      "          (linear): ParametrizedLinear(\n",
      "            in_features=8710, out_features=64, bias=False\n",
      "            (parametrizations): ModuleDict(\n",
      "              (weight): ParametrizationList(\n",
      "                (0): SpectralNorm(rescaling=200.0, n_iter=1)\n",
      "              )\n",
      "            )\n",
      "          )\n",
      "        )\n",
      "      )\n",
      "      (1): BasicBlock(\n",
      "        (conv): GCNConv\n",
      "          LinearWithParametrization(\n",
      "            (linear): Linear(in_features=64, out_features=7, bias=False)\n",
      "          )\n",
      "      )\n",
      "    )\n",
      "  )\n",
      ")\n"
     ]
    },
    {
     "name": "stderr",
     "output_type": "stream",
     "text": [
      "Global seed set to 1952926171\n",
      "INFO:root:Best model path after training is /nfs/students/fuchsgru/artifacts/spectral-structure/epoch=2-step=2-v1.ckpt\n",
      "INFO:root:Paths ['/nfs/students/fuchsgru/model_registry/2804271064.ckpt'] were overwritten with /nfs/students/fuchsgru/artifacts/spectral-structure/epoch=2-step=2-v1.ckpt\n"
     ]
    }
   ],
   "source": [
    "config_norm.registry.model_seed = model_seed\n",
    "pl.seed_everything(model_seed)\n",
    "model_norm = make_model(config_norm, data_get_num_attributes(data_dict[dconst.TRAIN][0]), \n",
    "    data_get_num_classes(data_dict[dconst.TRAIN][0]))\n",
    "print(model_norm)\n",
    "model_norm = train_model(model_norm, config_norm, artifact_dir, data_loaders, logger=None, callbacks=[svd_callback_norm]).eval()"
   ]
  },
  {
   "cell_type": "code",
   "execution_count": 24,
   "id": "0244df5e",
   "metadata": {},
   "outputs": [
    {
     "name": "stderr",
     "output_type": "stream",
     "text": [
      "Global seed set to 1952926171\n",
      "GPU available: False, used: False\n",
      "TPU available: False, using: 0 TPU cores\n",
      "IPU available: False, using: 0 IPUs\n",
      "\n",
      "  | Name                | Type               | Params\n",
      "-----------------------------------------------------------\n",
      "0 | backbone            | GCN                | 557 K \n",
      "1 | reconstruction_loss | ReconstructionLoss | 0     \n",
      "-----------------------------------------------------------\n",
      "557 K     Trainable params\n",
      "0         Non-trainable params\n",
      "557 K     Total params\n",
      "2.232     Total estimated model params size (MB)\n"
     ]
    },
    {
     "name": "stdout",
     "output_type": "stream",
     "text": [
      "SemiSupervisedNodeClassification(\n",
      "  (backbone): GCN(\n",
      "    (convs): ModuleList(\n",
      "      (0): BasicBlock(\n",
      "        (conv): GCNConv\n",
      "          LinearWithParametrization(\n",
      "            (linear): Linear(in_features=8710, out_features=64, bias=False)\n",
      "          )\n",
      "        (act): LeakyReLU(negative_slope=0.01)\n",
      "      )\n",
      "      (1): BasicBlock(\n",
      "        (conv): GCNConv\n",
      "          LinearWithParametrization(\n",
      "            (linear): Linear(in_features=64, out_features=7, bias=False)\n",
      "          )\n",
      "      )\n",
      "    )\n",
      "  )\n",
      "  (reconstruction_loss): ReconstructionLoss()\n",
      ")\n"
     ]
    },
    {
     "name": "stderr",
     "output_type": "stream",
     "text": [
      "Global seed set to 1952926171\n",
      "INFO:root:Best model path after training is /nfs/students/fuchsgru/artifacts/spectral-structure/epoch=876-step=876.ckpt\n"
     ]
    }
   ],
   "source": [
    "config_reco.registry.model_seed = model_seed\n",
    "pl.seed_everything(model_seed)\n",
    "model_reco = make_model(config_reco, data_get_num_attributes(data_dict[dconst.TRAIN][0]), \n",
    "    data_get_num_classes(data_dict[dconst.TRAIN][0]))\n",
    "print(model_reco)\n",
    "model_reco = train_model(model_reco, config_reco, artifact_dir, data_loaders, logger=None, callbacks=[svd_callback_reco]).eval()"
   ]
  },
  {
   "cell_type": "code",
   "execution_count": 25,
   "id": "a274ed99",
   "metadata": {},
   "outputs": [
    {
     "data": {
      "text/plain": [
       "(dict_keys(['backbone.conv0.lin.weight', 'backbone.conv1.lin.weight']),\n",
       " dict_keys(['backbone.conv0.lin.weight', 'backbone.conv0.residual_projection.weight', 'backbone.conv1.lin.weight']))"
      ]
     },
     "execution_count": 25,
     "metadata": {},
     "output_type": "execute_result"
    }
   ],
   "source": [
    "svd_callback._buffer.keys(), svd_callback_norm._buffer.keys()"
   ]
  },
  {
   "cell_type": "code",
   "execution_count": 26,
   "id": "cc307bc6",
   "metadata": {},
   "outputs": [],
   "source": [
    "svs = {\n",
    "    k : np.array([s for u, s, v in buf]) for k, buf in svd_callback._buffer.items()\n",
    "}\n",
    "svs_norm = {\n",
    "    k : np.array([s for u, s, v in buf]) for k, buf in svd_callback_norm._buffer.items()\n",
    "}\n",
    "svs_reco = {\n",
    "    k : np.array([s for u, s, v in buf]) for k, buf in svd_callback_reco._buffer.items()\n",
    "}"
   ]
  },
  {
   "cell_type": "code",
   "execution_count": 27,
   "id": "f6ab9b4d",
   "metadata": {},
   "outputs": [
    {
     "data": {
      "text/plain": [
       "(dict_keys(['backbone.conv0.lin.weight', 'backbone.conv1.lin.weight']),\n",
       " dict_keys(['backbone.conv0.lin.weight', 'backbone.conv0.residual_projection.weight', 'backbone.conv1.lin.weight']),\n",
       " dict_keys(['backbone.conv0.lin.weight', 'backbone.conv1.lin.weight']))"
      ]
     },
     "execution_count": 27,
     "metadata": {},
     "output_type": "execute_result"
    }
   ],
   "source": [
    "svs.keys(), svs_norm.keys(), svs_reco.keys()"
   ]
  },
  {
   "cell_type": "code",
   "execution_count": 28,
   "id": "cc53ab69",
   "metadata": {},
   "outputs": [],
   "source": [
    "from typing import Tuple, Any, Optional\n",
    "from matplotlib import cm\n",
    "from matplotlib.colors import ListedColormap, LinearSegmentedColormap\n",
    "\n",
    "def plot_histogram_evolution(values: np.ndarray, num_bins: int = 25, figsize: Tuple[float, float]=(10, 5), value_name: Optional[str]=None,\n",
    "        time_name: Optional[str]='Epoch', time_interval: int=1) -> Tuple[plt.Figure, Any]:\n",
    "    \"\"\" Plots the evolution of a 1d distribution as a 2d heatmap with time on the x axis.\n",
    "    \n",
    "    Parameters:\n",
    "    -----------\n",
    "    values : ndarray, shape [sequence_length, num_observations]\n",
    "        The observations to plot the distribution of.\n",
    "    num_bins : int, optional, default: 25\n",
    "        How many bins to use for the observations.\n",
    "    figsize : Tuple[float, float], optional, default: (10, 5)\n",
    "        The size of the plt figure.\n",
    "    value_name : str, optional, default: None\n",
    "        If given, what the observations are called.\n",
    "    time_name : str, optional, default: 'Epoch'\n",
    "        If given, what the temporal axis should be labeled with.\n",
    "    time_interval : int, optional, default: 1\n",
    "        The step in which the temporal x axis goes.\n",
    "    \n",
    "    Returns:\n",
    "    --------\n",
    "    fig : plt.Figure\n",
    "        The figure.\n",
    "    ax : plt.axes.Axes\n",
    "        The axis.\n",
    "    \"\"\" \n",
    "    bin_centers = np.linspace(np.round(values.min() - 0.5, 0), np.round(values.max() + 0.5, 0), num_bins)\n",
    "\n",
    "    distances = np.abs(values.flatten()[:, None] - bin_centers[None, :])\n",
    "    bin_idxs = distances.argmin(1).reshape(values.shape)\n",
    "\n",
    "    counts = np.zeros((num_bins, values.shape[0]))\n",
    "    for epoch in range(values.shape[0]):\n",
    "        for bin_idx in bin_idxs[epoch]:\n",
    "            counts[bin_idx, epoch] += 1\n",
    "\n",
    "    counts = pd.DataFrame(counts, index=np.round(bin_centers, 2), columns=[i * time_interval for i in range(values.shape[0])])\n",
    "    if value_name:\n",
    "        counts.index.name = value_name\n",
    "    if time_name:\n",
    "        counts.columns.name = time_name\n",
    "\n",
    "    fig, ax = plt.subplots(figsize=figsize)\n",
    "    \n",
    "    viridis = cm.get_cmap('viridis', 256)\n",
    "    newcolors = viridis(np.linspace(0, 1, 256))\n",
    "    newcolors[:1, :] = [1, 1, 1, 1]\n",
    "    newcmp = ListedColormap(newcolors)\n",
    "    \n",
    "    sns.heatmap(counts, robust=True, ax=ax, cmap=newcmp, cbar_kws={'label' : 'Count'})\n",
    "    return fig, ax\n"
   ]
  },
  {
   "cell_type": "code",
   "execution_count": 29,
   "id": "57ab0888",
   "metadata": {},
   "outputs": [],
   "source": [
    "def counts(values, num_bins=25):\n",
    "    bin_centers = np.linspace(np.round(values.min() - 0.5, 0), np.round(values.max() + 0.5, 0), num_bins)\n",
    "\n",
    "    distances = np.abs(values.flatten()[:, None] - bin_centers[None, :])\n",
    "    bin_idxs = distances.argmin(1).reshape(values.shape)\n",
    "\n",
    "    counts = np.zeros((num_bins, values.shape[0]))\n",
    "    for epoch in range(values.shape[0]):\n",
    "        for bin_idx in bin_idxs[epoch]:\n",
    "            counts[bin_idx, epoch] += 1\n",
    "\n",
    "    counts = pd.DataFrame(counts, index=np.round(bin_centers, 2), columns=[i for i in range(values.shape[0])])\n",
    "    return counts\n",
    "    "
   ]
  },
  {
   "cell_type": "code",
   "execution_count": 30,
   "id": "3d04fc4c",
   "metadata": {},
   "outputs": [],
   "source": [
    "def plot_heatmap2d(ax: Any, values: np.ndarray, figsize: Tuple[float, float]=(10, 5), value_name: Optional[str]=None,\n",
    "        time_name: Optional[str]='Epoch', time_interval: int=1, log_scale: bool=True, cbar_label: Optional[str]=None) -> Tuple[plt.Figure, Any]:\n",
    "    \"\"\" Plots a 2d heatmap.\n",
    "    \n",
    "    Parameters:\n",
    "    -----------\n",
    "    values : ndarray, shape [sequence_length, num_observations]\n",
    "        The observations to plot the distribution of.\n",
    "    figsize : Tuple[float, float], optional, default: (10, 5)\n",
    "        The size of the plt figure.\n",
    "    value_name : str, optional, default: None\n",
    "        If given, what the observations are called.\n",
    "    time_name : str, optional, default: 'Epoch'\n",
    "        If given, what the temporal axis should be labeled with.\n",
    "    time_interval : int, optional, default: 1\n",
    "        The step in which the temporal x axis goes.\n",
    "    \n",
    "    Returns:\n",
    "    --------\n",
    "    fig : plt.Figure\n",
    "        The figure.\n",
    "    ax : plt.axes.Axes\n",
    "        The axis.\n",
    "    \"\"\" \n",
    "    if log_scale:\n",
    "        values = np.log(values)\n",
    "        if cbar_label:\n",
    "            cbar_label = f'Log {cbar_label}'\n",
    "    df = pd.DataFrame(values.T, columns=time_interval * np.arange(values.shape[0]))\n",
    "    if value_name:\n",
    "        df.index.name = value_name\n",
    "    if time_name:\n",
    "        df.columns.name = time_name\n",
    "    if cbar_label:\n",
    "        cbar_kwargs = {\n",
    "            'label' : cbar_label\n",
    "        }\n",
    "    else:\n",
    "        cbar_kwargs = {}\n",
    "    sns.heatmap(df, ax=ax, cbar_kws=cbar_kwargs, cmap='viridis')\n",
    "    return fig, ax"
   ]
  },
  {
   "cell_type": "code",
   "execution_count": 31,
   "id": "fbf83934",
   "metadata": {},
   "outputs": [],
   "source": [
    "def despine(ax):\n",
    "    ax.spines['top'].set_visible(False)\n",
    "    ax.spines['right'].set_visible(False)\n",
    "    ax.spines['bottom'].set_visible(False)\n",
    "    ax.spines['left'].set_visible(False)"
   ]
  },
  {
   "cell_type": "code",
   "execution_count": 45,
   "id": "3449dbbf",
   "metadata": {},
   "outputs": [
    {
     "data": {
      "text/plain": [
       "Text(0.5, 1.0, 'GCN + Spectral Norm.')"
      ]
     },
     "execution_count": 45,
     "metadata": {},
     "output_type": "execute_result"
    },
    {
     "data": {
      "image/png": "[encoded data removed]",
      "text/plain": [
       "<Figure size 576x288 with 8 Axes>"
      ]
     },
     "metadata": {
      "needs_background": "light"
     },
     "output_type": "display_data"
    }
   ],
   "source": [
    "eps = 0.08\n",
    "fig, axs = plt.subplots(2, 3, sharey=False, sharex='col', figsize=(8, 4),\n",
    "    gridspec_kw = {'width_ratios' : [1.0 - eps, 1.0 - eps, 1.0 + eps], 'wspace' : 0.3}\n",
    "                       )\n",
    "\n",
    "# Upper row, individual values\n",
    "log_svs = np.log(svs['backbone.conv0.lin.weight'])\n",
    "log_svs_norm = np.log(svs_norm['backbone.conv0.lin.weight'])\n",
    "log_svs_reco = np.log(svs_reco['backbone.conv0.lin.weight'])\n",
    "\n",
    "vmin, vmax = min(log_svs.min(), log_svs_norm.min(), log_svs_reco.min()), max(log_svs.max(), log_svs_norm.max(), log_svs_reco.max())\n",
    "\n",
    "axs[0, 0].imshow(log_svs[:-1].T, cmap='viridis', vmin=vmin, vmax=vmax, aspect='auto')\n",
    "# despine(axs[0, 0])\n",
    "axs[0, 1].imshow(log_svs_reco[:-1].T, cmap='viridis', vmin=vmin, vmax=vmax, aspect='auto')\n",
    "im = axs[0, 2].imshow(log_svs_norm[:-1].T, cmap='viridis', vmin=vmin, vmax=vmax, aspect='auto')\n",
    "# despine(axs[0, 1])\n",
    "cbar = fig.colorbar(im, ax=axs[0, 2])\n",
    "cbar.set_label('Log Magnitude', labelpad=14)\n",
    "cbar.outline.set_visible(False)\n",
    "cbar.solids.set_edgecolor(\"face\")\n",
    "\n",
    "#sns.heatmap(log_svs.T, ax=axs[0, 0], cmap='viridis', vmin=vmin, vmax=vmax, cbar=False, linewidths=0)\n",
    "#sns.heatmap(log_svs_norm.T, ax=axs[0, 1], cmap='viridis', vmin=vmin, vmax=vmax, cbar_kws={'label' : 'Log Magnitude'}, linewidths=0)\n",
    "axs[0, 0].set_ylabel('Singular Value\\nIndex')\n",
    "\n",
    "# Lower row, histogram of values\n",
    "\n",
    "\n",
    "viridis = cm.get_cmap('viridis', 256)\n",
    "newcolors = viridis(np.linspace(0, 1, 256))\n",
    "newcolors[:1, :-1] = [1, 0, 1]\n",
    "newcmp = ListedColormap(newcolors)\n",
    "\n",
    "\n",
    "num_bins = 20\n",
    "sv_count = counts(svs['backbone.conv0.lin.weight'], num_bins=num_bins)\n",
    "sv_count_norm = counts(svs_norm['backbone.conv0.lin.weight'], num_bins=num_bins)\n",
    "sv_count_reco = counts(svs_reco['backbone.conv0.lin.weight'], num_bins=num_bins)\n",
    "bins_count, bins_count_norm, bin_count_reco = sv_count.index.to_numpy(), sv_count_norm.index.to_numpy(), sv_count_reco.index.to_numpy()\n",
    "\n",
    "vmin = min(sv_count.to_numpy().min(), sv_count_norm.to_numpy().min(), sv_count_reco.to_numpy().min())\n",
    "vmax = max(sv_count.to_numpy().max(), sv_count_norm.to_numpy().max(), sv_count_reco.to_numpy().max())\n",
    "\n",
    "# Hacky way to get a nicer cbar\n",
    "newcolors_2 = newcolors.copy()\n",
    "newcolors_2[:10, :-1] = [1, 0, 1] # More space for the purple\n",
    "im_cbar = axs[1, 2].imshow(np.zeros_like(sv_count), cmap=ListedColormap(newcolors_2), aspect='auto', vmin=vmin, vmax=vmax)\n",
    "\n",
    "\n",
    "axs[1, 0].imshow(sv_count.to_numpy()[:, :-1], cmap=newcmp, aspect='auto', vmin=vmin, vmax=vmax)\n",
    "#despine(axs[1, 0])\n",
    "axs[1, 1].imshow(sv_count_reco.to_numpy()[:, :-1], cmap=newcmp, aspect='auto', vmin=vmin, vmax=vmax)\n",
    "im = axs[1, 2].imshow(sv_count_norm.to_numpy()[:, :-1], cmap=newcmp, aspect='auto', vmin=vmin, vmax=vmax)\n",
    "#despine(axs[1, 1])\n",
    "cbar = fig.colorbar(im_cbar, ax=axs[1, 2])\n",
    "cbar.set_label('Count', labelpad=8)\n",
    "cbar.outline.set_visible(False)\n",
    "cbar.solids.set_edgecolor(\"face\")\n",
    "\n",
    "\n",
    "#sns.heatmap(sv_count, ax=axs[1, 0], cmap=newcmp, cbar=False, xticklabels=250, linewidths=0)\n",
    "#sns.heatmap(sv_count_norm, ax=axs[1, 1], cmap=newcmp, cbar_kws={'label' : 'Count'}, xticklabels=100, linewidths=0)\n",
    "\n",
    "yticks = list(range(0, num_bins, 5))\n",
    "axs[1, 0].set_yticks(yticks)\n",
    "axs[1, 0].set_yticklabels(bins_count[yticks].round(1))\n",
    "axs[1, 2].set_yticks(yticks)\n",
    "axs[1, 2].set_yticklabels(bins_count_norm[yticks].round(1))\n",
    "\n",
    "axs[1, 0].set_xlabel('Epoch')\n",
    "axs[1, 0].set_ylabel('Singular Value\\nMagnitude')\n",
    "axs[1, 1].set_xlabel('Epoch')\n",
    "axs[1, 2].set_xlabel('Epoch')\n",
    "\n",
    "axs[0, 0].set_title('Vanilla GCN', fontsize=10)\n",
    "axs[0, 1].set_title('GCN + Reco.', fontsize=10)\n",
    "axs[0, 2].set_title('GCN + Spectral Norm.', fontsize=10)\n",
    "\n",
    "\n",
    "#plot_heatmap2d(axs[0, 0], svs['backbone.conv0.lin.weight'], value_name='Singular Value Index', time_name='Epoch', time_interval=1, \n",
    "#                    cbar_label='Magnitude', log_scale=True, figsize=(2.5, 2))\n",
    "#plot_heatmap2d(axs[0, 1], svs_norm['backbone.conv0.lin.weight'], value_name='Singular Value Index', time_name='Epoch', time_interval=1, \n",
    "#                    cbar_label='Magnitude', log_scale=True, figsize=(2.5, 2))\n",
    "\n",
    "# fig.savefig(f'thesis_nbs/spectral_structure_{dataset}.pdf', bbox_inches='tight')"
   ]
  },
  {
   "cell_type": "code",
   "execution_count": null,
   "id": "22d2613e",
   "metadata": {},
   "outputs": [],
   "source": []
  },
  {
   "cell_type": "code",
   "execution_count": null,
   "id": "e514aaab",
   "metadata": {},
   "outputs": [],
   "source": []
  },
  {
   "cell_type": "code",
   "execution_count": null,
   "id": "4cb7111d",
   "metadata": {},
   "outputs": [],
   "source": []
  },
  {
   "cell_type": "markdown",
   "id": "edbc1d77",
   "metadata": {},
   "source": [
    "# Correlating input features"
   ]
  },
  {
   "cell_type": "code",
   "execution_count": 46,
   "id": "a997f6bf",
   "metadata": {},
   "outputs": [],
   "source": [
    "idx_to_features = {v : k for k, v in data_loaders[dconst.OOD_VAL].dataset[0].feature_to_idx.items()}\n",
    "idx_to_features = np.array([idx_to_features[i] for i in range(len(idx_to_features))])\n"
   ]
  },
  {
   "cell_type": "code",
   "execution_count": 48,
   "id": "7e6cb3db",
   "metadata": {},
   "outputs": [],
   "source": [
    "svecs = svd_callback._buffer['backbone.conv0.lin.weight'][-2][2]\n",
    "svecs_norm = svd_callback_norm._buffer['backbone.conv0.lin.weight'][-2][2]\n",
    "svecs_reco = svd_callback_reco._buffer['backbone.conv0.lin.weight'][-2][2]"
   ]
  },
  {
   "cell_type": "code",
   "execution_count": 54,
   "id": "ed5daf7a",
   "metadata": {},
   "outputs": [
    {
     "name": "stdout",
     "output_type": "stream",
     "text": [
      "Vanilla\n",
      "\t ['networks', 'case', 'bayesian', 'neural', 'network']\n",
      "\t ['reinforcement', 'inductive', 'knowledge', 'ilp', 'neural']\n",
      "\t ['genetic', 'theory', 'neural', 'reinforcement', 'error']\n",
      "\t ['case', 'trees', 'theory', 'decision', 'learning']\n",
      "\t ['bayesian', 'neural', 'case', 'reinforcement', 'probability']\n",
      "\t ['learning', 'reinforcement', 'genetic', 'policy', 'methods']\n",
      "\t ['genetic', 'reinforcement', 'evolutionary', 'case', 'ga']\n",
      "\t ['theory', 'learning', 'examples', 'revisions', 'components']\n",
      "SN\n",
      "\t ['conditional', 'equations', 'pearl', 'joint', 'mathematical']\n",
      "\t ['fitness', 'ideas', 'formulas', 'smaller', 'bounds']\n",
      "\t ['game', 'environment', 'reinforcement', 'shop', 'team']\n",
      "\t ['discovery', 'building', 'predict', 'selection', 'prediction']\n",
      "\t ['cost', 'bound', 'relevant', 'compression', 'intelligent']\n",
      "\t ['viewed', 'windowing', 'inductive', 'situation', 'order']\n",
      "\t ['new', 'classification', 'performance', 'present', 'technique']\n",
      "\t ['1994', 'finite', '1992', 'numerical', 'outcomes']\n",
      "Reco\n",
      "\t ['genetic', 'recurrent', 'ga', 'learned', 'technical']\n",
      "\t ['evolutionary', 'gas', 'crossover', 'neural', 'theory']\n",
      "\t ['reinforcement', 'inductive', 'agents', 'ilp', 'tasks']\n",
      "\t ['neural', 'connectionist', 'network', 'knowledge', 'series']\n",
      "\t ['case', 'network', 'cbr', 'cases', 'trees']\n",
      "\t ['bayesian', 'theory', 'distribution', 'rules', 'inductive']\n",
      "\t ['case', 'reasoning', 'ilp', 'cbr', 'utility']\n",
      "\t ['bcm', 'stabilization', 'linear', 'nonlinear', 'unsupervised']\n"
     ]
    }
   ],
   "source": [
    "\n",
    "print('Vanilla')\n",
    "for idx in range(8):\n",
    "    print('\\t', [w for w in idx_to_features[(-np.abs(svecs[:])).argsort(axis=1)[:, :5]][idx]])\n",
    "print('SN')\n",
    "for idx in range(8):\n",
    "    print('\\t', [w for w in idx_to_features[(-np.abs(svecs_norm[:])).argsort(axis=1)[:, :5]][idx]])\n",
    "print('Reco')\n",
    "for idx in range(8):\n",
    "    print('\\t', [w for w in idx_to_features[(-np.abs(svecs_reco[:])).argsort(axis=1)[:, :5]][idx]])"
   ]
  },
  {
   "cell_type": "code",
   "execution_count": null,
   "id": "fb746049",
   "metadata": {},
   "outputs": [],
   "source": []
  },
  {
   "cell_type": "code",
   "execution_count": 30,
   "id": "f5c9da2b",
   "metadata": {},
   "outputs": [
    {
     "name": "stdout",
     "output_type": "stream",
     "text": [
      "$1$st & \\makecell{\\texttt{networks}, \\texttt{case}, \\texttt{bayesian},\\\\ \\texttt{neural}, \\texttt{network}} & \\makecell{\\texttt{conditional}, \\texttt{equations}, \\texttt{pearl},\\\\ \\texttt{joint}, \\texttt{mathematical}} \\\\ \\hline\n",
      "$2$nd & \\makecell{\\texttt{reinforcement}, \\texttt{inductive}, \\texttt{knowledge},\\\\ \\texttt{ilp}, \\texttt{neural}} & \\makecell{\\texttt{fitness}, \\texttt{ideas}, \\texttt{formulas},\\\\ \\texttt{smaller}, \\texttt{bounds}} \\\\ \\hline\n",
      "$3$rd & \\makecell{\\texttt{genetic}, \\texttt{theory}, \\texttt{neural},\\\\ \\texttt{reinforcement}, \\texttt{error}} & \\makecell{\\texttt{game}, \\texttt{environment}, \\texttt{reinforcement},\\\\ \\texttt{shop}, \\texttt{team}} \\\\ \\hline\n",
      "$4$th & \\makecell{\\texttt{case}, \\texttt{trees}, \\texttt{theory},\\\\ \\texttt{decision}, \\texttt{learning}} & \\makecell{\\texttt{discovery}, \\texttt{building}, \\texttt{predict},\\\\ \\texttt{selection}, \\texttt{prediction}} \\\\ \\hline\n",
      "$5$th & \\makecell{\\texttt{bayesian}, \\texttt{neural}, \\texttt{case},\\\\ \\texttt{reinforcement}, \\texttt{probability}} & \\makecell{\\texttt{cost}, \\texttt{bound}, \\texttt{relevant},\\\\ \\texttt{compression}, \\texttt{intelligent}} \\\\ \\hline\n"
     ]
    }
   ],
   "source": [
    "for idx, num in enumerate([\n",
    "    '$1$st',\n",
    "    '$2$nd',\n",
    "    '$3$rd',\n",
    "    '$4$th',\n",
    "    '$5$th',\n",
    "]):\n",
    "    words = ['\\\\texttt{' + w + '}' for w in idx_to_features[(-np.abs(svecs[:10])).argsort(axis=1)[:, :5]][idx]]\n",
    "    words_norm = ['\\\\texttt{' + w + '}' for w in idx_to_features[(-np.abs(svecs_norm[:10])).argsort(axis=1)[:, :5]][idx]]\n",
    "    \n",
    "    words = ', '.join(words[:3]) + ',\\\\\\\\ ' + ', '.join(words[3:])\n",
    "    words_norm = ', '.join(words_norm[:3]) + ',\\\\\\\\ ' + ', '.join(words_norm[3:])\n",
    "    \n",
    "    \n",
    "    print(f'{num} & \\\\makecell' + '{' + f'{words}' + '} & \\\\makecell{' + f'{words_norm}' + '} \\\\\\\\ \\hline')\n",
    "    "
   ]
  },
  {
   "cell_type": "code",
   "execution_count": 31,
   "id": "738e0414",
   "metadata": {},
   "outputs": [
    {
     "data": {
      "text/plain": [
       "array([['conditional', 'equations', 'pearl', 'joint', 'mathematical'],\n",
       "       ['fitness', 'ideas', 'formulas', 'smaller', 'bounds'],\n",
       "       ['game', 'environment', 'reinforcement', 'shop', 'team'],\n",
       "       ['discovery', 'building', 'predict', 'selection', 'prediction'],\n",
       "       ['cost', 'bound', 'relevant', 'compression', 'intelligent'],\n",
       "       ['viewed', 'windowing', 'inductive', 'situation', 'order'],\n",
       "       ['new', 'classification', 'performance', 'present', 'technique'],\n",
       "       ['1994', 'finite', '1992', 'numerical', 'outcomes'],\n",
       "       ['applications', 'analyse', 'structures', 'previously',\n",
       "        'representations'],\n",
       "       ['october', 'automata', 'change', 'propose', 'worlds']],\n",
       "      dtype='<U19')"
      ]
     },
     "execution_count": 31,
     "metadata": {},
     "output_type": "execute_result"
    }
   ],
   "source": [
    "idx_to_features[(-np.abs(svecs_norm[:10])).argsort(axis=1)[:, :5]]"
   ]
  },
  {
   "cell_type": "code",
   "execution_count": 32,
   "id": "bc0c6e40",
   "metadata": {},
   "outputs": [
    {
     "data": {
      "text/plain": [
       "(64, 8710)"
      ]
     },
     "execution_count": 32,
     "metadata": {},
     "output_type": "execute_result"
    }
   ],
   "source": [
    "svd_callback_norm._buffer['backbone.conv0.lin.weight'][-1][2].shape"
   ]
  },
  {
   "cell_type": "markdown",
   "id": "66294f29",
   "metadata": {},
   "source": [
    "## Visualize activations"
   ]
  },
  {
   "cell_type": "code",
   "execution_count": 55,
   "id": "c025049c",
   "metadata": {},
   "outputs": [],
   "source": [
    "from data.transform import PerturbationTransform\n",
    "\n",
    "data_ood = PerturbationTransform(noise_type='bernoulli', p=.5)(data_dict[dconst.OOD_VAL][0])\n",
    "data_ood.is_out_of_distribution.sum()\n",
    "\n",
    "x_ood = data_ood.x[data_ood.is_out_of_distribution]\n",
    "x_id = data_ood.x[~data_ood.is_out_of_distribution]\n"
   ]
  },
  {
   "cell_type": "code",
   "execution_count": 63,
   "id": "bf8888d8",
   "metadata": {},
   "outputs": [
    {
     "data": {
      "text/plain": [
       "(torch.Size([2531, 64]), torch.Size([279, 64]), torch.Size([279, 64]))"
      ]
     },
     "execution_count": 63,
     "metadata": {},
     "output_type": "execute_result"
    }
   ],
   "source": [
    "proj_id = (x_id @ svecs.T)\n",
    "proj_ood = (x_ood @ svecs.T)\n",
    "\n",
    "proj_id_norm = (x_id @ svecs_norm.T)\n",
    "proj_ood_norm = (x_ood @ svecs_norm.T)\n",
    "\n",
    "proj_id_reco = (x_id @ svecs_reco.T)\n",
    "proj_ood_reco = (x_ood @ svecs_reco.T)\n",
    "\n",
    "proj_id.size(), proj_ood.size(), proj_ood_reco.size()"
   ]
  },
  {
   "cell_type": "code",
   "execution_count": 57,
   "id": "8d10215d",
   "metadata": {},
   "outputs": [],
   "source": [
    "def colorbar(mappable, label=None):\n",
    "    from mpl_toolkits.axes_grid1 import make_axes_locatable\n",
    "    import matplotlib.pyplot as plt\n",
    "    last_axes = plt.gca()\n",
    "    ax = mappable.axes\n",
    "    fig = ax.figure\n",
    "    divider = make_axes_locatable(ax)\n",
    "    cax = divider.append_axes(\"right\", size=\"5%\", pad=0.05)\n",
    "    cbar = fig.colorbar(mappable, cax=cax)\n",
    "    plt.sca(last_axes)\n",
    "    if label:\n",
    "        cbar.set_label(label, rotation=270, labelpad=10)\n",
    "    cbar.outline.set_visible(False)\n",
    "    cbar.solids.set_edgecolor(\"face\")\n",
    "    return cbar\n"
   ]
  },
  {
   "cell_type": "code",
   "execution_count": 58,
   "id": "713ed874",
   "metadata": {},
   "outputs": [
    {
     "data": {
      "text/plain": [
       "(array([1.00000e+00, 0.00000e+00, 7.00000e+00, 1.27000e+02, 3.35700e+03,\n",
       "        1.03112e+05, 5.34730e+04, 1.75700e+03, 1.35000e+02, 1.50000e+01]),\n",
       " array([-0.68091446, -0.5649654 , -0.44901642, -0.33306742, -0.2171184 ,\n",
       "        -0.10116938,  0.01477964,  0.13072866,  0.24667767,  0.3626267 ,\n",
       "         0.4785757 ], dtype=float32),\n",
       " <BarContainer object of 10 artists>)"
      ]
     },
     "execution_count": 58,
     "metadata": {},
     "output_type": "execute_result"
    },
    {
     "data": {
      "image/png": "[encoded data removed]",
      "text/plain": [
       "<Figure size 432x288 with 1 Axes>"
      ]
     },
     "metadata": {
      "needs_background": "light"
     },
     "output_type": "display_data"
    }
   ],
   "source": [
    "plt.hist(proj_id.numpy().flatten())"
   ]
  },
  {
   "cell_type": "code",
   "execution_count": 1,
   "id": "91d06266",
   "metadata": {},
   "outputs": [
    {
     "ename": "NameError",
     "evalue": "name 'plt' is not defined",
     "output_type": "error",
     "traceback": [
      "\u001b[0;31m---------------------------------------------------------------------------\u001b[0m",
      "\u001b[0;31mNameError\u001b[0m                                 Traceback (most recent call last)",
      "\u001b[0;32m<ipython-input-1-6a127e1ba7e6>\u001b[0m in \u001b[0;36m<module>\u001b[0;34m\u001b[0m\n\u001b[0;32m----> 1\u001b[0;31m fig, axs = plt.subplots(3, 3, figsize=(30, 8), sharex=True, sharey=True, gridspec_kw = {\n\u001b[0m\u001b[1;32m      2\u001b[0m     \u001b[0;34m'height_ratios'\u001b[0m \u001b[0;34m:\u001b[0m \u001b[0;34m[\u001b[0m\u001b[0;36m1\u001b[0m\u001b[0;34m,\u001b[0m \u001b[0;36m1\u001b[0m\u001b[0;34m,\u001b[0m \u001b[0;36m0.35\u001b[0m\u001b[0;34m]\u001b[0m\u001b[0;34m,\u001b[0m \u001b[0;34m'wspace'\u001b[0m \u001b[0;34m:\u001b[0m \u001b[0;36m0.3\u001b[0m\u001b[0;34m,\u001b[0m \u001b[0;34m'hspace'\u001b[0m \u001b[0;34m:\u001b[0m \u001b[0;36m.2\u001b[0m\u001b[0;34m\u001b[0m\u001b[0;34m\u001b[0m\u001b[0m\n\u001b[1;32m      3\u001b[0m })\n\u001b[1;32m      4\u001b[0m \u001b[0;34m\u001b[0m\u001b[0m\n\u001b[1;32m      5\u001b[0m \u001b[0;34m\u001b[0m\u001b[0m\n",
      "\u001b[0;31mNameError\u001b[0m: name 'plt' is not defined"
     ]
    }
   ],
   "source": [
    "fig, axs = plt.subplots(3, 3, figsize=(30, 8), sharex=True, sharey=True, gridspec_kw = {\n",
    "    'height_ratios' : [1, 1, 0.35], 'wspace' : 0.3, 'hspace' : .2\n",
    "})\n",
    "\n",
    "\n",
    "vmax = max(np.abs(proj_id).max(), np.abs(proj_ood).max())\n",
    "vmin = -vmax\n",
    "\n",
    "vmax_norm = max(np.abs(proj_id_norm).max(), np.abs(proj_ood_norm).max())\n",
    "vmin_norm = -vmax_norm\n",
    "\n",
    "vmax_reco = max(np.abs(proj_id_reco).max(), np.abs(proj_ood_reco).max())\n",
    "vmin_reco = -vmax_reco\n",
    "\n",
    "# Upper row, id instances\n",
    "im = axs[0, 0].imshow((proj_id.numpy()), aspect='auto', vmin=vmin, vmax=vmax, cmap='PiYG')\n",
    "# cbar = fig.colorbar(im, cax=axs[0, 1], ax=axs[0, 0], drawedges=False)\n",
    "cbar = colorbar(im)# , label='Activation')\n",
    "\n",
    "im = axs[0, 1].imshow((proj_id_reco.numpy()), aspect='auto', vmin=vmin_reco, vmax=vmax_reco, cmap='PiYG')\n",
    "cbar = colorbar(im)# , label='Activation')\n",
    "\n",
    "im = axs[0, 2].imshow((proj_id_norm.numpy()), aspect='auto', vmin=vmin_norm, vmax=vmax_norm, cmap='PiYG')\n",
    "cbar = colorbar(im, label='Activation')\n",
    "\n",
    "# Lower row, ood instances\n",
    "im = axs[1, 0].imshow((proj_ood.numpy()), aspect='auto', vmin=vmin, vmax=vmax, cmap='PiYG')\n",
    "cbar = colorbar(im) #, label='Activation')\n",
    "im = axs[1, 1].imshow((proj_ood_reco.numpy()), aspect='auto', vmin=vmin_reco, vmax=vmax_reco, cmap='PiYG')\n",
    "cbar = colorbar(im) #, label='Activation')\n",
    "im = axs[1, 2].imshow((proj_ood_norm.numpy()), aspect='auto', vmin=vmin_norm, vmax=vmax_norm, cmap='PiYG')\n",
    "cbar = colorbar(im, label='Activation')\n",
    "\n",
    "# Spectrum\n",
    "\n",
    "#vmin, vmax = min(log_svs[-1].min(), log_svs_norm[-1].min()), max(log_svs[-1].max(), log_svs_norm[-1].max())\n",
    "\n",
    "axs[2, 0].set_ylim(0.0, .5)\n",
    "im = axs[2, 0].imshow(np.log(svs['backbone.conv0.lin.weight'][-2]).reshape((1, -1)), aspect='auto') #, vmin=vmin, vmax=vmax)\n",
    "# remove_ticks(axs[2, 0])\n",
    "despine(axs[2, 0])\n",
    "axs[2, 0].tick_params(axis='y', labelleft=False, left=False)\n",
    "cbar = colorbar(im, label='')\n",
    "# cbar.remove()\n",
    "\n",
    "\n",
    "axs[2, 1].set_ylim(0.0, .5)\n",
    "im = axs[2, 1].imshow(np.log(svs_reco['backbone.conv0.lin.weight'][-2]).reshape((1, -1)), aspect='auto') #, vmin=vmin, vmax=vmax)\n",
    "# remove_ticks(axs[2, 0])\n",
    "despine(axs[2, 1])\n",
    "axs[2, 1].tick_params(axis='y', labelleft=False, left=False)\n",
    "cbar = colorbar(im, label='')\n",
    "# cbar.remove()\n",
    "\n",
    "axs[2, 2].set_ylim(0.0, .5)\n",
    "im = axs[2, 2].imshow(np.log(svs_norm['backbone.conv0.lin.weight'][-2]).reshape((1, -1)), aspect='auto') #, vmin=vmin, vmax=vmax)\n",
    "axs[2, 2].tick_params(axis='y', labelleft=False, left=False)\n",
    "cbar = colorbar(im, label='Log\\nMagnitude')\n",
    "cbar.set_label('Log\\nMagnitude', labelpad=39)\n",
    "# cbar.remove()\n",
    "\n",
    "for ax in axs.flatten():\n",
    "    despine(ax)\n",
    "    ax.tick_params(axis='y', labelleft=False, left=False)\n",
    "    \n",
    "axs[0, 0].set_ylabel('In Distribution\\nInstances')\n",
    "axs[1, 0].set_ylabel('Out of Distribution\\nInstances')\n",
    "axs[2, 0].set_xlabel('Singular Value Index')\n",
    "axs[2, 1].set_xlabel('Singular Value Index')\n",
    "axs[2, 2].set_xlabel('Singular Value Index')\n",
    "axs[0, 0].set_title('Vanilla GCN', fontsize=10)\n",
    "axs[0, 1].set_title('GCN + Reco', fontsize=10)\n",
    "axs[0, 2].set_title('GCN + Spectral Norm.', fontsize=10)\n",
    "#axs[2, 0].set_title('Singular Value Log Magnitude', fontsize=10)\n",
    "#axs[2, 1].set_title('Singular Value Log Magnitude', fontsize=10)\n",
    "\n",
    "fig.savefig(f'on_the_fly_nbs/spectral_activation_{dataset}.pdf', bbox_inches='tight')"
   ]
  },
  {
   "cell_type": "code",
   "execution_count": 60,
   "id": "1f3cbed1",
   "metadata": {},
   "outputs": [
    {
     "data": {
      "text/plain": [
       "tensor([[ 0.1531, -0.0906, -0.0726,  ..., -0.0105,  0.0195, -0.0073],\n",
       "        [ 0.1435, -0.0674, -0.0630,  ..., -0.0182, -0.0044, -0.0100],\n",
       "        [ 0.1528, -0.0742, -0.0552,  ..., -0.0100,  0.0118, -0.0048],\n",
       "        ...,\n",
       "        [ 0.1493, -0.0694, -0.0524,  ..., -0.0237,  0.0130, -0.0116],\n",
       "        [ 0.1527, -0.0874, -0.0637,  ..., -0.0196,  0.0342, -0.0077],\n",
       "        [ 0.1496, -0.0711, -0.0520,  ..., -0.0155,  0.0038, -0.0106]])"
      ]
     },
     "execution_count": 60,
     "metadata": {},
     "output_type": "execute_result"
    }
   ],
   "source": [
    "proj_ood_norm"
   ]
  },
  {
   "cell_type": "code",
   "execution_count": 39,
   "id": "9706b336",
   "metadata": {},
   "outputs": [
    {
     "data": {
      "text/plain": [
       "(array([202.51599 , 196.48978 , 193.58908 , 190.53862 , 175.95087 ,\n",
       "        164.94637 , 149.4261  ,  93.86729 ,  91.11267 ,  89.566696,\n",
       "         87.67671 ,  86.72374 ,  85.44116 ,  85.20242 ,  84.02188 ,\n",
       "         83.41676 ,  82.590294,  82.47713 ,  82.17743 ,  81.23896 ,\n",
       "         80.784   ,  80.46839 ,  79.61956 ,  79.33398 ,  78.43669 ,\n",
       "         78.0435  ,  77.58309 ,  77.26947 ,  77.01381 ,  76.31864 ,\n",
       "         76.005394,  75.86391 ,  75.48595 ,  74.10208 ,  73.97775 ,\n",
       "         73.39099 ,  73.17402 ,  72.72018 ,  71.96906 ,  71.35384 ,\n",
       "         71.03029 ,  70.66654 ,  70.15733 ,  69.4818  ,  69.42637 ,\n",
       "         68.6369  ,  67.8568  ,  67.61232 ,  67.253586,  65.89869 ,\n",
       "         65.684494,  64.87748 ,  64.62516 ,  64.132545,  63.577   ,\n",
       "         63.05016 ,  62.81781 ,  61.654446,  61.151833,  60.588806,\n",
       "         59.853577,  58.02627 ,  55.993965,  52.684994], dtype=float32),\n",
       " array([7.3501763 , 7.2486806 , 6.946571  , 6.870964  , 6.6507473 ,\n",
       "        6.077342  , 5.9281993 , 0.6253382 , 0.56773406, 0.42248094,\n",
       "        0.4143865 , 0.39651972, 0.37499863, 0.35014674, 0.32718426,\n",
       "        0.3055152 , 0.29280257, 0.28592485, 0.27090853, 0.24031925,\n",
       "        0.22532547, 0.21005575, 0.20182772, 0.18927033, 0.17884116,\n",
       "        0.17197093, 0.16284734, 0.14376335, 0.13334729, 0.12794822,\n",
       "        0.12569109, 0.11958116, 0.11396227, 0.10600142, 0.09947971,\n",
       "        0.0963245 , 0.09297048, 0.08923973, 0.08658003, 0.08004996,\n",
       "        0.07686312, 0.07433449, 0.06792298, 0.06553914, 0.06412371,\n",
       "        0.05863627, 0.05740662, 0.05401827, 0.0476816 , 0.04147425,\n",
       "        0.04060441, 0.02861487, 0.02508938, 0.02237676, 0.0211259 ,\n",
       "        0.01991044, 0.01810844, 0.01794107, 0.01663801, 0.01500231,\n",
       "        0.0135415 , 0.01316073, 0.01236371, 0.01108537], dtype=float32))"
      ]
     },
     "execution_count": 39,
     "metadata": {},
     "output_type": "execute_result"
    }
   ],
   "source": [
    "svs_norm['backbone.conv0.lin.weight'][-2], svs['backbone.conv0.lin.weight'][-1]\n"
   ]
  },
  {
   "cell_type": "code",
   "execution_count": 40,
   "id": "3b24c880",
   "metadata": {},
   "outputs": [],
   "source": [
    "u, s, v = np.linalg.svd(model_norm.backbone.convs[0].conv.lin.linear.weight.detach().cpu().numpy(), full_matrices=False)"
   ]
  },
  {
   "cell_type": "code",
   "execution_count": 41,
   "id": "b79ddd5e",
   "metadata": {},
   "outputs": [
    {
     "data": {
      "text/plain": [
       "array([202.30739 , 196.28737 , 193.38966 , 190.34235 , 175.76962 ,\n",
       "       164.77646 , 149.27217 ,  93.77059 ,  91.018814,  89.47444 ,\n",
       "        87.586395,  86.63441 ,  85.35315 ,  85.11466 ,  83.93533 ,\n",
       "        83.33083 ,  82.50522 ,  82.392166,  82.09278 ,  81.15527 ,\n",
       "        80.70078 ,  80.385506,  79.53755 ,  79.25226 ,  78.355896,\n",
       "        77.96311 ,  77.503174,  77.18988 ,  76.93448 ,  76.24003 ,\n",
       "        75.9271  ,  75.78576 ,  75.40819 ,  74.02575 ,  73.90155 ,\n",
       "        73.31539 ,  73.09864 ,  72.64527 ,  71.89493 ,  71.28034 ,\n",
       "        70.95712 ,  70.59375 ,  70.08507 ,  69.410225,  69.35486 ,\n",
       "        68.5662  ,  67.786896,  67.54268 ,  67.18431 ,  65.83081 ,\n",
       "        65.61684 ,  64.810646,  64.558586,  64.06648 ,  63.51151 ,\n",
       "        62.985214,  62.7531  ,  61.59094 ,  61.08884 ,  60.526394,\n",
       "        59.79192 ,  57.9665  ,  55.936287,  52.630722], dtype=float32)"
      ]
     },
     "execution_count": 41,
     "metadata": {},
     "output_type": "execute_result"
    }
   ],
   "source": [
    "s"
   ]
  },
  {
   "cell_type": "code",
   "execution_count": null,
   "id": "852234ef",
   "metadata": {},
   "outputs": [],
   "source": []
  },
  {
   "cell_type": "code",
   "execution_count": null,
   "id": "50335bc0",
   "metadata": {},
   "outputs": [],
   "source": []
  }
 ],
 "metadata": {
  "kernelspec": {
   "display_name": "Python 3",
   "language": "python",
   "name": "python3"
  },
  "language_info": {
   "codemirror_mode": {
    "name": "ipython",
    "version": 3
   },
   "file_extension": ".py",
   "mimetype": "text/x-python",
   "name": "python",
   "nbconvert_exporter": "python",
   "pygments_lexer": "ipython3",
   "version": "3.9.5"
  }
 },
 "nbformat": 4,
 "nbformat_minor": 5
}
