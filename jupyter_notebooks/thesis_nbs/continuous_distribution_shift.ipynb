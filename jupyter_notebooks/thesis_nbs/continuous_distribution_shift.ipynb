{
 "cells": [
  {
   "cell_type": "code",
   "execution_count": 1,
   "id": "57b130ba",
   "metadata": {},
   "outputs": [],
   "source": [
    "import numpy as np\n",
    "import matplotlib.pyplot as plt\n",
    "import pandas as pd\n",
    "import seaborn as sns\n",
    "import torch\n",
    "import pytorch_lightning as pl\n",
    "\n",
    "from torch_geometric.data import DataLoader\n",
    "import pytorch_lightning as pl\n",
    "import os.path as osp\n",
    "\n",
    "from tqdm import tqdm\n",
    "\n",
    "from sklearn.metrics import roc_auc_score, precision_recall_curve, auc"
   ]
  },
  {
   "cell_type": "code",
   "execution_count": 2,
   "id": "0e2bfde8",
   "metadata": {},
   "outputs": [
    {
     "name": "stdout",
     "output_type": "stream",
     "text": [
      "/nfs/homedirs/fuchsgru/MastersThesis\n"
     ]
    }
   ],
   "source": [
    "%cd ../.."
   ]
  },
  {
   "cell_type": "code",
   "execution_count": 3,
   "id": "9ebcb496",
   "metadata": {},
   "outputs": [],
   "source": [
    "import configuration\n",
    "import model_registry\n",
    "import data.build\n",
    "import data.constants as dconst\n",
    "from data.util import data_get_num_attributes, data_get_num_classes\n",
    "from model.semi_supervised_node_classification import SemiSupervisedNodeClassification, Ensemble\n",
    "from evaluation.util import get_data_loader, run_model_on_datasets, separate_distributions\n",
    "import evaluation.callbacks as ecbs\n",
    "from metrics import expected_calibration_error\n",
    "from plot.calibration import plot_calibration\n",
    "from data.util import label_binarize\n",
    "from model.density import get_density_model\n",
    "import seed\n",
    "from train import train_model\n",
    "from model.build import make_model"
   ]
  },
  {
   "cell_type": "code",
   "execution_count": 4,
   "id": "3fdda37a",
   "metadata": {},
   "outputs": [],
   "source": [
    "import logging as l\n",
    "\n",
    "l.basicConfig(level=l.INFO)"
   ]
  },
  {
   "cell_type": "code",
   "execution_count": 5,
   "id": "5494e625",
   "metadata": {},
   "outputs": [
    {
     "name": "stderr",
     "output_type": "stream",
     "text": [
      "INFO:root:Set configuration value data.base_labels to default all\n",
      "INFO:root:Set configuration value data.corpus_labels to default all\n",
      "INFO:root:Set configuration value data.train_labels to default all\n",
      "INFO:root:Set configuration value data.left_out_class_labels to default ['Film Photography', 'Binoculars & Scopes', 'Video Surveillance']\n",
      "INFO:root:Set configuration value data.preprocessing to default none\n",
      "INFO:root:Set configuration value data.ood_sampling_strategy to default all\n",
      "INFO:root:Set configuration value data.train_portion to default 20\n",
      "INFO:root:Set configuration value data.test_portion_fixed to default 0.2\n",
      "INFO:root:Set configuration value data.split_type to default uniform\n",
      "INFO:root:Set configuration value data.type to default npz\n",
      "INFO:root:Set configuration value data.drop_train_vertices_portion to default 0.1\n",
      "INFO:root:Set configuration value data.precompute_k_hop_neighbourhood to default 2\n",
      "INFO:root:Set configuration value model.hidden_sizes to default [64]\n",
      "INFO:root:Set configuration value data.base_labels to all\n",
      "INFO:root:Set configuration value data.corpus_labels to all\n",
      "INFO:root:Set configuration value data.left_out_class_labels to []\n",
      "INFO:root:Set configuration value data.base_labels to default all\n",
      "INFO:root:Set configuration value data.corpus_labels to default all\n",
      "INFO:root:Set configuration value data.train_labels to default all\n",
      "INFO:root:Set configuration value data.left_out_class_labels to default ['Film Photography', 'Binoculars & Scopes', 'Video Surveillance']\n",
      "INFO:root:Set configuration value data.preprocessing to default none\n",
      "INFO:root:Set configuration value data.ood_sampling_strategy to default all\n",
      "INFO:root:Set configuration value data.train_portion to default 20\n",
      "INFO:root:Set configuration value data.test_portion_fixed to default 0.2\n",
      "INFO:root:Set configuration value data.split_type to default uniform\n",
      "INFO:root:Set configuration value data.type to default npz\n",
      "INFO:root:Set configuration value data.drop_train_vertices_portion to default 0.1\n",
      "INFO:root:Set configuration value data.precompute_k_hop_neighbourhood to default 2\n",
      "INFO:root:Set configuration value model.hidden_sizes to default [64]\n",
      "INFO:root:Set configuration value data.base_labels to all\n",
      "INFO:root:Set configuration value data.corpus_labels to all\n",
      "INFO:root:Set configuration value data.left_out_class_labels to []\n"
     ]
    },
    {
     "name": "stdout",
     "output_type": "stream",
     "text": [
      "True\n"
     ]
    }
   ],
   "source": [
    "dataset = dconst.AMAZON_PHOTO\n",
    "\n",
    "spectral_norm_conf = {'model' : {\n",
    "        'use_spectral_norm' : True,\n",
    "        'residual' : True,\n",
    "        'weight_scale' : 200.0,\n",
    "    },}\n",
    "\n",
    "config = configuration.ExperimentConfiguration(\n",
    "    data={\n",
    "        'dataset' : dataset,\n",
    "        'setting' : dconst.HYBRID,\n",
    "        'ood_type' : dconst.PERTURBATION,\n",
    "        # 'use_dataset_registry' : False,\n",
    "    },\n",
    "    # **spectral_norm_conf,\n",
    "    run = {\n",
    "        'use_default_configuration' : True,\n",
    "    },\n",
    ")\n",
    "config_norm = configuration.ExperimentConfiguration(\n",
    "    data={\n",
    "        'dataset' : dataset,\n",
    "        'setting' : dconst.HYBRID,\n",
    "        'ood_type' : dconst.PERTURBATION,\n",
    "        # 'use_dataset_registry' : False,\n",
    "    },\n",
    "    **spectral_norm_conf,\n",
    "    run = {\n",
    "        'use_default_configuration' : True,\n",
    "    },\n",
    ")\n",
    "if config.run.use_default_configuration:\n",
    "    configuration.update_with_default_configuration(config)\n",
    "    configuration.update_with_default_configuration(config_norm)\n",
    "    \n",
    "print(config.run.use_default_configuration)"
   ]
  },
  {
   "cell_type": "code",
   "execution_count": 6,
   "id": "4ad09d7b",
   "metadata": {},
   "outputs": [
    {
     "data": {
      "text/plain": [
       "'hybrid'"
      ]
     },
     "execution_count": 6,
     "metadata": {},
     "output_type": "execute_result"
    }
   ],
   "source": [
    "config.data.setting"
   ]
  },
  {
   "cell_type": "code",
   "execution_count": 7,
   "id": "b812f208",
   "metadata": {},
   "outputs": [],
   "source": [
    "if torch.cuda.is_available():\n",
    "    config.training.gpus = 1\n",
    "    config_norm.training.gpus = 1\n",
    "    \n",
    "config.training.gpus = 0\n",
    "config_norm.training.gpus = 0\n",
    "    "
   ]
  },
  {
   "cell_type": "code",
   "execution_count": 8,
   "id": "5390393a",
   "metadata": {},
   "outputs": [],
   "source": [
    "config.run.use_pretrained_model = False\n",
    "config_norm.run.use_pretrained_model = True"
   ]
  },
  {
   "cell_type": "code",
   "execution_count": 9,
   "id": "40cec405",
   "metadata": {},
   "outputs": [
    {
     "name": "stderr",
     "output_type": "stream",
     "text": [
      "INFO:root:Found precomputed dataset split at /nfs/students/fuchsgru/dataset_registry/3384787171.pt\n",
      "/nfs/homedirs/fuchsgru/miniconda3/lib/python3.9/site-packages/torch_geometric/deprecation.py:13: UserWarning: 'data.DataLoader' is deprecated, use 'loader.DataLoader' instead\n",
      "  warnings.warn(out)\n"
     ]
    }
   ],
   "source": [
    "data_split_seed = seed.data_split_seeds()[config.run.split_idx]\n",
    "config.registry.split_seed = data_split_seed\n",
    "model_seed_generator = iter(seed.SeedIterator(seed.model_seeds()[config.run.initialization_idx]))\n",
    "data_dict, fixed_vertices = data.build.load_data_from_configuration(config.data, data_split_seed)\n",
    "data_loaders = {\n",
    "    name : DataLoader(data, batch_size=1, shuffle=False) for name, data in data_dict.items()\n",
    "}"
   ]
  },
  {
   "cell_type": "code",
   "execution_count": 10,
   "id": "b6b624cc",
   "metadata": {},
   "outputs": [],
   "source": [
    "model_seed = next(model_seed_generator)"
   ]
  },
  {
   "cell_type": "code",
   "execution_count": 11,
   "id": "b7497874",
   "metadata": {},
   "outputs": [],
   "source": [
    "run_artifact_dir = artifact_dir = osp.join(config.logging.artifact_dir, 'continuous-distribution-shift')"
   ]
  },
  {
   "cell_type": "code",
   "execution_count": 12,
   "id": "60549d56",
   "metadata": {},
   "outputs": [],
   "source": [
    "class LoggingCallback(pl.callbacks.Callback):\n",
    "    \n",
    "    def on_train_batch_end(self, trainer, pl_module, outputs, batch, batch_idx):\n",
    "        if trainer.global_step % 100 != 0:\n",
    "            return\n",
    "        \n",
    "        l.info(' '.join(\n",
    "            map(str, ['Epoch', trainer.global_step, 'acc', (pl_module(batch).get_predictions()[batch.mask].argmax(1) == batch.y[batch.mask]).float().mean().item()])\n",
    "        \n",
    "        ))\n",
    "        "
   ]
  },
  {
   "cell_type": "code",
   "execution_count": 13,
   "id": "606a89bc",
   "metadata": {},
   "outputs": [
    {
     "name": "stderr",
     "output_type": "stream",
     "text": [
      "Global seed set to 1952926171\n",
      "GPU available: False, used: False\n",
      "TPU available: False, using: 0 TPU cores\n",
      "IPU available: False, using: 0 IPUs\n",
      "INFO:root:Starting model training.\n",
      "\n",
      "  | Name     | Type | Params\n",
      "----------------------------------\n",
      "0 | backbone | GCN  | 48.2 K\n",
      "----------------------------------\n",
      "48.2 K    Trainable params\n",
      "0         Non-trainable params\n",
      "48.2 K    Total params\n",
      "0.193     Total estimated model params size (MB)\n"
     ]
    },
    {
     "name": "stdout",
     "output_type": "stream",
     "text": [
      "SemiSupervisedNodeClassification(\n",
      "  (backbone): GCN(\n",
      "    (convs): ModuleList(\n",
      "      (0): BasicBlock(\n",
      "        (conv): GCNConv\n",
      "          LinearWithParametrization(\n",
      "            (linear): Linear(in_features=745, out_features=64, bias=False)\n",
      "          )\n",
      "        (act): LeakyReLU(negative_slope=0.01)\n",
      "      )\n",
      "      (1): BasicBlock(\n",
      "        (conv): GCNConv\n",
      "          LinearWithParametrization(\n",
      "            (linear): Linear(in_features=64, out_features=8, bias=False)\n",
      "          )\n",
      "      )\n",
      "    )\n",
      "  )\n",
      ")\n"
     ]
    },
    {
     "name": "stderr",
     "output_type": "stream",
     "text": [
      "Global seed set to 1952926171\n",
      "INFO:root:Epoch 0 acc 0.13750000298023224\n",
      "INFO:root:Epoch 100 acc 0.8374999761581421\n",
      "INFO:root:Epoch 200 acc 0.9375\n",
      "INFO:root:Epoch 300 acc 0.9437500238418579\n",
      "INFO:root:Epoch 400 acc 0.949999988079071\n",
      "INFO:root:Epoch 500 acc 0.9624999761581421\n",
      "INFO:root:Epoch 600 acc 0.9624999761581421\n",
      "INFO:root:Epoch 700 acc 0.9750000238418579\n",
      "INFO:root:Epoch 800 acc 0.9750000238418579\n",
      "INFO:root:Epoch 900 acc 0.9750000238418579\n",
      "INFO:root:Paths ['/nfs/students/fuchsgru/model_registry/2823847966.ckpt'] were overwritten with /nfs/students/fuchsgru/model_registry/5886003145606701576-1651271183-3392045-3886667168.ckpt (copied from /nfs/students/fuchsgru/artifacts/continuous-distribution-shift/epoch=999-step=999-v1.ckpt).\n",
      "INFO:root:Loading model for evaluation from /nfs/students/fuchsgru/model_registry/5886003145606701576-1651271183-3392045-3886667168.ckpt.\n"
     ]
    }
   ],
   "source": [
    "config.registry.model_seed = model_seed\n",
    "pl.seed_everything(model_seed)\n",
    "model = make_model(config, data_get_num_attributes(data_dict[dconst.TRAIN][0]), \n",
    "    data_get_num_classes(data_dict[dconst.TRAIN][0]))\n",
    "print(model)\n",
    "model = train_model(model, config, artifact_dir, data_loaders, logger=None, callbacks=[LoggingCallback()]).eval()"
   ]
  },
  {
   "cell_type": "code",
   "execution_count": 42,
   "id": "63fd1469",
   "metadata": {},
   "outputs": [
    {
     "data": {
      "text/plain": [
       "array([9.61835098e+00, 8.64434719e+00, 8.08834362e+00, 7.14527130e+00,\n",
       "       6.06789160e+00, 5.49447536e+00, 3.59349704e+00, 2.97932887e+00,\n",
       "       3.91027629e-01, 3.54539037e-01, 2.71906137e-01, 2.30264291e-01,\n",
       "       2.00370371e-01, 1.92394152e-01, 1.79564536e-01, 1.68607399e-01,\n",
       "       1.58679590e-01, 1.42780647e-01, 1.32095665e-01, 1.15810141e-01,\n",
       "       1.13898821e-01, 1.07948229e-01, 9.83391851e-02, 9.71448645e-02,\n",
       "       8.75735506e-02, 8.26279819e-02, 7.74636269e-02, 7.52003938e-02,\n",
       "       7.32556880e-02, 6.91964254e-02, 6.59030378e-02, 6.37554154e-02,\n",
       "       5.72066829e-02, 5.48152216e-02, 5.36872186e-02, 5.09456545e-02,\n",
       "       4.90062572e-02, 4.55546491e-02, 4.32344265e-02, 4.24290597e-02,\n",
       "       4.05289382e-02, 4.00489010e-02, 3.74248065e-02, 3.71417738e-02,\n",
       "       3.48602831e-02, 3.22748460e-02, 3.15672606e-02, 3.03447377e-02,\n",
       "       2.82082520e-02, 2.76059769e-02, 2.72703730e-02, 2.64063273e-02,\n",
       "       2.37345286e-02, 2.10132208e-02, 2.00135354e-02, 1.93614680e-02,\n",
       "       1.81346145e-02, 1.55412955e-02, 1.40379025e-02, 1.27177024e-02,\n",
       "       1.09360572e-02, 9.74511914e-03, 7.71930348e-03, 6.28719479e-03],\n",
       "      dtype=float32)"
      ]
     },
     "execution_count": 42,
     "metadata": {},
     "output_type": "execute_result"
    }
   ],
   "source": [
    "np.linalg.svd(model.get_weights()['backbone.conv0.lin.weight'].cpu().detach().numpy(), full_matrices=False)[1]"
   ]
  },
  {
   "cell_type": "code",
   "execution_count": 43,
   "id": "91e53869",
   "metadata": {},
   "outputs": [
    {
     "name": "stderr",
     "output_type": "stream",
     "text": [
      "Global seed set to 1952926171\n",
      "GPU available: False, used: False\n",
      "TPU available: False, using: 0 TPU cores\n",
      "IPU available: False, using: 0 IPUs\n"
     ]
    },
    {
     "name": "stdout",
     "output_type": "stream",
     "text": [
      "SemiSupervisedNodeClassification(\n",
      "  (backbone): GCN(\n",
      "    (convs): ModuleList(\n",
      "      (0): ResidualBlock(\n",
      "        (conv): GCNConv\n",
      "          LinearWithParametrization(\n",
      "            (linear): ParametrizedLinear(\n",
      "              in_features=745, out_features=64, bias=False\n",
      "              (parametrizations): ModuleDict(\n",
      "                (weight): ParametrizationList(\n",
      "                  (0): SpectralNorm(rescaling=200.0, n_iter=1)\n",
      "                )\n",
      "              )\n",
      "            )\n",
      "          )\n",
      "        (act): LeakyReLU(negative_slope=0.01)\n",
      "        (input_projection): LinearWithParametrization(\n",
      "          (linear): ParametrizedLinear(\n",
      "            in_features=745, out_features=64, bias=False\n",
      "            (parametrizations): ModuleDict(\n",
      "              (weight): ParametrizationList(\n",
      "                (0): SpectralNorm(rescaling=200.0, n_iter=1)\n",
      "              )\n",
      "            )\n",
      "          )\n",
      "        )\n",
      "      )\n",
      "      (1): BasicBlock(\n",
      "        (conv): GCNConv\n",
      "          LinearWithParametrization(\n",
      "            (linear): Linear(in_features=64, out_features=8, bias=False)\n",
      "          )\n",
      "      )\n",
      "    )\n",
      "  )\n",
      ")\n"
     ]
    },
    {
     "name": "stderr",
     "output_type": "stream",
     "text": [
      "INFO:root:Found pre-trained model at /nfs/students/fuchsgru/model_registry/3051766037.ckpt\n",
      "INFO:root:Loading model for evaluation from /nfs/students/fuchsgru/model_registry/3051766037.ckpt.\n"
     ]
    }
   ],
   "source": [
    "config_norm.registry.model_seed = model_seed\n",
    "pl.seed_everything(model_seed)\n",
    "model_norm = make_model(config_norm, data_get_num_attributes(data_dict[dconst.TRAIN][0]), \n",
    "    data_get_num_classes(data_dict[dconst.TRAIN][0]))\n",
    "print(model_norm)\n",
    "model_norm = train_model(model_norm, config_norm, artifact_dir, data_loaders, logger=None, callbacks=[LoggingCallback()]).eval()"
   ]
  },
  {
   "cell_type": "code",
   "execution_count": 44,
   "id": "4e752b11",
   "metadata": {},
   "outputs": [],
   "source": [
    "model = model.cpu()\n",
    "model_norm = model_norm.cpu()"
   ]
  },
  {
   "cell_type": "code",
   "execution_count": 45,
   "id": "38261201",
   "metadata": {},
   "outputs": [
    {
     "name": "stdout",
     "output_type": "stream",
     "text": [
      "tensor(0.9500) tensor(0.9438)\n"
     ]
    }
   ],
   "source": [
    "# Check accuracy of both models\n",
    "with torch.no_grad():\n",
    "    data_val = data_dict[dconst.VAL][0]\n",
    "    pred_val = model(data_val)\n",
    "    pred_val_norm = model_norm(data_val)\n",
    "    \n",
    "    acc_val = (pred_val.get_predictions()[data_val.mask].argmax(1) == data_val.y[data_val.mask]).float().mean()\n",
    "    acc_val_norm = (pred_val_norm.get_predictions()[data_val.mask].argmax(1) == data_val.y[data_val.mask]).float().mean()\n",
    "\n",
    "    print(acc_val, acc_val_norm)"
   ]
  },
  {
   "cell_type": "code",
   "execution_count": 46,
   "id": "de8d11c4",
   "metadata": {},
   "outputs": [
    {
     "data": {
      "text/plain": [
       "tensor(0.9500)"
      ]
     },
     "execution_count": 46,
     "metadata": {},
     "output_type": "execute_result"
    }
   ],
   "source": [
    "(pred_val.get_predictions()[data_val.mask].argmax(1) == data_val.y[data_val.mask]).float().mean()"
   ]
  },
  {
   "cell_type": "code",
   "execution_count": 47,
   "id": "04f841d3",
   "metadata": {},
   "outputs": [
    {
     "data": {
      "text/plain": [
       "array([9.61835098e+00, 8.64434719e+00, 8.08834362e+00, 7.14527130e+00,\n",
       "       6.06789160e+00, 5.49447536e+00, 3.59349704e+00, 2.97932887e+00,\n",
       "       3.91027629e-01, 3.54539037e-01, 2.71906137e-01, 2.30264291e-01,\n",
       "       2.00370371e-01, 1.92394152e-01, 1.79564536e-01, 1.68607399e-01,\n",
       "       1.58679590e-01, 1.42780647e-01, 1.32095665e-01, 1.15810141e-01,\n",
       "       1.13898821e-01, 1.07948229e-01, 9.83391851e-02, 9.71448645e-02,\n",
       "       8.75735506e-02, 8.26279819e-02, 7.74636269e-02, 7.52003938e-02,\n",
       "       7.32556880e-02, 6.91964254e-02, 6.59030378e-02, 6.37554154e-02,\n",
       "       5.72066829e-02, 5.48152216e-02, 5.36872186e-02, 5.09456545e-02,\n",
       "       4.90062572e-02, 4.55546491e-02, 4.32344265e-02, 4.24290597e-02,\n",
       "       4.05289382e-02, 4.00489010e-02, 3.74248065e-02, 3.71417738e-02,\n",
       "       3.48602831e-02, 3.22748460e-02, 3.15672606e-02, 3.03447377e-02,\n",
       "       2.82082520e-02, 2.76059769e-02, 2.72703730e-02, 2.64063273e-02,\n",
       "       2.37345286e-02, 2.10132208e-02, 2.00135354e-02, 1.93614680e-02,\n",
       "       1.81346145e-02, 1.55412955e-02, 1.40379025e-02, 1.27177024e-02,\n",
       "       1.09360572e-02, 9.74511914e-03, 7.71930348e-03, 6.28719479e-03],\n",
       "      dtype=float32)"
      ]
     },
     "execution_count": 47,
     "metadata": {},
     "output_type": "execute_result"
    }
   ],
   "source": [
    "np.linalg.svd(model.get_weights()['backbone.conv0.lin.weight'].cpu().detach().numpy(), full_matrices=False)[1]"
   ]
  },
  {
   "cell_type": "code",
   "execution_count": 48,
   "id": "ea587eb7",
   "metadata": {},
   "outputs": [
    {
     "data": {
      "text/plain": [
       "False"
      ]
     },
     "execution_count": 48,
     "metadata": {},
     "output_type": "execute_result"
    }
   ],
   "source": [
    "torch.allclose(pred_val.get_predictions() , pred_val_norm.get_predictions())"
   ]
  },
  {
   "cell_type": "code",
   "execution_count": 49,
   "id": "52fc0a81",
   "metadata": {},
   "outputs": [],
   "source": [
    "from data.transform import PerturbationTransform"
   ]
  },
  {
   "cell_type": "code",
   "execution_count": 50,
   "id": "3c0d15ae",
   "metadata": {},
   "outputs": [],
   "source": [
    "data_train = data_dict[dconst.TRAIN][0]\n",
    "data_val = data_dict[dconst.VAL][0]"
   ]
  },
  {
   "cell_type": "code",
   "execution_count": 51,
   "id": "c9856cbf",
   "metadata": {},
   "outputs": [
    {
     "data": {
      "text/plain": [
       "tensor([1., 1., 1.,  ..., 1., 1., 1.])"
      ]
     },
     "execution_count": 51,
     "metadata": {},
     "output_type": "execute_result"
    }
   ],
   "source": [
    "# The ground truth is used for fitting labeled data (train and val)\n",
    "gnd_binary = torch.zeros(data_train.x.size(0), int(data_train.y.max() + 1))\n",
    "gnd_binary[torch.arange(gnd_binary.size(0)), data_train.y] = 1\n",
    "\n",
    "gnd_binary.sum(1)"
   ]
  },
  {
   "cell_type": "code",
   "execution_count": 52,
   "id": "09280454",
   "metadata": {},
   "outputs": [],
   "source": [
    "with torch.no_grad():\n",
    "    pred_train = model(data_train)\n",
    "    pred_val = model(data_val)\n",
    "    density_model = get_density_model(\n",
    "        density_type='GaussianPerClass',\n",
    "        covariance='diag',\n",
    "        regularization=False,\n",
    "        fit_val=True,\n",
    "    )\n",
    "    density_model.fit(\n",
    "        pred_train.get_features(-2)[data_train.mask], \n",
    "        gnd_binary[data_train.mask], \n",
    "        pred_val.get_features(-2)[data_val.mask],\n",
    "        gnd_binary[data_val.mask], \n",
    "    )"
   ]
  },
  {
   "cell_type": "code",
   "execution_count": 53,
   "id": "6a993e9f",
   "metadata": {},
   "outputs": [
    {
     "data": {
      "text/plain": [
       "tensor([-167.5988, -170.7454, -187.2650, -173.1944, -186.8904, -197.0773,\n",
       "        -183.9324, -181.0233, -198.8462, -196.2081, -185.7120, -187.0518,\n",
       "        -187.2503, -192.7608, -183.5742, -181.0770, -168.0379, -197.7610,\n",
       "        -211.9590, -185.8196, -175.8607, -192.1061, -193.1519, -171.9659,\n",
       "        -197.8108, -212.8732, -176.3427, -193.4125, -181.9318, -184.2325,\n",
       "        -189.4655, -184.3484, -181.8569, -194.9815, -177.8025, -174.6832,\n",
       "        -195.4843, -191.9333, -191.8310, -176.6481, -187.8782, -199.6183,\n",
       "        -203.2027, -204.7942, -185.1157, -168.2088, -188.9619, -185.9086,\n",
       "        -187.0788, -196.7293, -187.9102, -195.1065, -178.4157, -181.9879,\n",
       "        -191.5050, -193.7805, -189.3575, -206.7380, -191.5333, -188.4653,\n",
       "        -167.9071, -185.7173, -182.3728, -187.0974, -186.1440, -183.6386,\n",
       "        -195.8953, -198.9683, -193.1137, -200.8215, -181.6346, -191.4072,\n",
       "        -185.8777, -191.2437, -196.5421, -200.2326, -189.7734, -203.1969,\n",
       "        -196.2563, -197.2505, -192.5755, -191.3219, -189.4784, -185.5669,\n",
       "        -183.9511, -205.2082, -167.3359, -175.8007, -176.1270, -199.2221,\n",
       "        -186.4266, -192.0937, -180.7713, -174.5395, -183.2500, -174.0296,\n",
       "        -184.3888, -208.4480, -183.6375, -203.5302, -198.5944, -176.3249,\n",
       "        -182.7223, -190.9146, -172.6319, -185.3501, -192.2486, -201.2347,\n",
       "        -192.0890, -191.6890, -198.8352, -191.6056, -187.3912, -191.9124,\n",
       "        -175.1376, -183.8562, -203.7845, -193.5992, -216.2949, -194.7136,\n",
       "        -190.6822, -173.7616, -169.7734, -201.9735, -195.5025, -183.1228,\n",
       "        -181.8158, -194.5305, -192.5242, -197.0539, -183.4859, -179.5782,\n",
       "        -181.1003, -199.4598, -217.9737, -194.1557, -178.2261, -196.1006,\n",
       "        -191.1964, -173.9824, -187.5092, -198.5562, -184.4829, -177.7838,\n",
       "        -194.4031, -181.6575, -177.4336, -199.8927, -177.2103, -184.2074,\n",
       "        -185.0479, -201.2585, -195.3409, -177.6980, -212.2380, -177.6559,\n",
       "        -199.5680, -176.5138, -192.9875, -188.1327])"
      ]
     },
     "execution_count": 53,
     "metadata": {},
     "output_type": "execute_result"
    }
   ],
   "source": [
    "with torch.no_grad():\n",
    "    pred_train_norm = model_norm(data_train)\n",
    "    pred_val_norm = model_norm(data_val)\n",
    "    density_model_norm = get_density_model(\n",
    "        density_type='GaussianPerClass',\n",
    "        covariance='diag',\n",
    "        regularization=False,\n",
    "        fit_val=False,\n",
    "    )\n",
    "    density_model_norm.fit(\n",
    "        pred_train_norm.get_features(-2)[data_train.mask], \n",
    "        gnd_binary[data_train.mask], \n",
    "        pred_val_norm.get_features(-2)[data_val.mask],\n",
    "        gnd_binary[data_val.mask], \n",
    "    )\n",
    "    \n",
    "density_model_norm(pred_train_norm.get_features(-2)[data_train.mask])\n",
    "    "
   ]
  },
  {
   "cell_type": "code",
   "execution_count": null,
   "id": "88c0cc8c",
   "metadata": {},
   "outputs": [],
   "source": []
  },
  {
   "cell_type": "code",
   "execution_count": 54,
   "id": "d71794ff",
   "metadata": {},
   "outputs": [
    {
     "data": {
      "text/plain": [
       "SemiSupervisedNodeClassification(\n",
       "  (backbone): GCN(\n",
       "    (convs): ModuleList(\n",
       "      (0): BasicBlock(\n",
       "        (conv): GCNConv\n",
       "          LinearWithParametrization(\n",
       "            (linear): Linear(in_features=745, out_features=64, bias=False)\n",
       "          )\n",
       "        (act): LeakyReLU(negative_slope=0.01)\n",
       "      )\n",
       "      (1): BasicBlock(\n",
       "        (conv): GCNConv\n",
       "          LinearWithParametrization(\n",
       "            (linear): Linear(in_features=64, out_features=8, bias=False)\n",
       "          )\n",
       "      )\n",
       "    )\n",
       "  )\n",
       ")"
      ]
     },
     "execution_count": 54,
     "metadata": {},
     "output_type": "execute_result"
    }
   ],
   "source": [
    "model"
   ]
  },
  {
   "cell_type": "code",
   "execution_count": 55,
   "id": "e2d03114",
   "metadata": {},
   "outputs": [
    {
     "name": "stderr",
     "output_type": "stream",
     "text": [
      "INFO:root:<class 'model.nn.GCNConv'> disabled cache.\n",
      "INFO:root:<class 'model.nn.GCNConv'> disabled cache.\n",
      "INFO:root:<class 'model.nn.GCNConv'> disabled cache.\n",
      "INFO:root:<class 'model.nn.GCNConv'> disabled cache.\n"
     ]
    }
   ],
   "source": [
    "model.clear_and_disable_cache()\n",
    "model_norm.clear_and_disable_cache()"
   ]
  },
  {
   "cell_type": "markdown",
   "id": "73cd5679",
   "metadata": {},
   "source": [
    "# Latent space plots vs p"
   ]
  },
  {
   "cell_type": "code",
   "execution_count": 56,
   "id": "04fa640f",
   "metadata": {},
   "outputs": [],
   "source": [
    "# Get UMAP projections\n",
    "from plot.density import *"
   ]
  },
  {
   "cell_type": "code",
   "execution_count": 57,
   "id": "ee206a2f",
   "metadata": {},
   "outputs": [],
   "source": [
    "from copy import deepcopy"
   ]
  },
  {
   "cell_type": "code",
   "execution_count": 58,
   "id": "aa3855c3",
   "metadata": {},
   "outputs": [
    {
     "name": "stderr",
     "output_type": "stream",
     "text": [
      "100%|██████████| 20/20 [00:26<00:00,  1.32s/it]\n"
     ]
    }
   ],
   "source": [
    "features_p_ood, features_p_ood_norm = [], []\n",
    "alea_p_ood, alea_p_ood_norm = [], []\n",
    "ps_ood = []\n",
    "\n",
    "with torch.no_grad():\n",
    "    data_base = data_loaders[dconst.OOD_TEST].dataset[0]\n",
    "    \n",
    "    pred_id, pred_id_norm = model(data_base), model_norm(data_base)\n",
    "    features_id = pred_id.get_features(-2)[data_base.mask & ~data_base.is_out_of_distribution].cpu().numpy()\n",
    "    features_id_norm = pred_id_norm.get_features(-2)[data_base.mask & ~data_base.is_out_of_distribution].cpu().numpy()\n",
    "    alea_id = pred_id.get_predictions().max(dim=1)[0].cpu().numpy()\n",
    "    alea_id_norm = pred_id_norm.get_predictions().max(dim=1)[0].cpu().numpy()\n",
    "    \n",
    "    for p in tqdm(np.linspace(0, 1.0, 20)):\n",
    "        \n",
    "        data_p = PerturbationTransform(noise_type='bernoulli', p=p, seed=np.random.randint(0xFFFFFF))(data_base)\n",
    "        with torch.no_grad():\n",
    "            \n",
    "            pred_p = model(deepcopy(data_p), remove_edges=False)\n",
    "            pred_p_norm = model_norm(deepcopy(data_p), remove_edges=False)\n",
    "            \n",
    "            features_p_ood.append(\n",
    "                pred_p.get_features(-2)[data_p.mask & data_base.is_out_of_distribution].cpu().numpy()\n",
    "            )\n",
    "            features_p_ood_norm.append(\n",
    "                pred_p_norm.get_features(-2)[data_p.mask & data_p.is_out_of_distribution].cpu().numpy()\n",
    "            )\n",
    "            ps_ood.append((data_p.x > 0).float().mean(1)[data_p.mask & data_p.is_out_of_distribution])\n",
    "            \n",
    "            alea_p_ood.append(pred_p.get_predictions().max(dim=1)[0][data_p.mask & data_p.is_out_of_distribution])\n",
    "            alea_p_ood_norm.append(pred_p_norm.get_predictions().max(dim=1)[0][data_p.mask & data_p.is_out_of_distribution])\n",
    "            \n",
    "            \n",
    "features_p_ood, features_p_ood_norm = np.concatenate(features_p_ood), np.concatenate(features_p_ood_norm)\n",
    "alea_p_ood, alea_p_ood_norm = np.concatenate(alea_p_ood),np.concatenate(alea_p_ood_norm) \n",
    "ps_ood = np.concatenate(ps_ood)"
   ]
  },
  {
   "cell_type": "code",
   "execution_count": 59,
   "id": "25e0a70b",
   "metadata": {},
   "outputs": [],
   "source": [
    "features_fit = torch.cat([pred_train.get_features(-2)[data_train.mask], pred_val.get_features(-2)[data_val.mask]]).cpu().numpy()\n",
    "features_fit_norm = torch.cat([pred_train_norm.get_features(-2)[data_train.mask], pred_val_norm.get_features(-2)[data_val.mask]]).cpu().numpy()"
   ]
  },
  {
   "cell_type": "code",
   "execution_count": 60,
   "id": "1a2eb875",
   "metadata": {},
   "outputs": [],
   "source": [
    "embs, is_fit, grids, grid_inverses = get_dimensionality_reduction_to_plot(\n",
    "    features_fit, features_p_ood, ['umap']\n",
    ")"
   ]
  },
  {
   "cell_type": "code",
   "execution_count": 61,
   "id": "b6bad366",
   "metadata": {},
   "outputs": [],
   "source": [
    "embs_norm, is_fit_norm, grids_norm, grid_inverses_norm = get_dimensionality_reduction_to_plot(\n",
    "    features_fit_norm, features_p_ood_norm, ['umap']\n",
    ")"
   ]
  },
  {
   "cell_type": "code",
   "execution_count": 62,
   "id": "ee0f89aa",
   "metadata": {},
   "outputs": [],
   "source": [
    "nx, ny = grids['umap'].shape[0], grids['umap'].shape[1]\n",
    "density_grid = density_model(torch.from_numpy(grid_inverses['umap'].reshape(nx * ny, -1))).cpu().numpy().reshape((nx, ny))"
   ]
  },
  {
   "cell_type": "code",
   "execution_count": 63,
   "id": "f0fa1ccb",
   "metadata": {},
   "outputs": [],
   "source": [
    "nx, ny = grids_norm['umap'].shape[0], grids_norm['umap'].shape[1]\n",
    "density_grid_norm = density_model_norm(torch.from_numpy(grid_inverses_norm['umap'].reshape(nx * ny, -1))).cpu().numpy().reshape((nx, ny))"
   ]
  },
  {
   "cell_type": "code",
   "execution_count": 64,
   "id": "ae790c4b",
   "metadata": {},
   "outputs": [],
   "source": [
    "density_id = density_model(torch.from_numpy(features_id))\n",
    "density_id_norm = density_model_norm(torch.from_numpy(features_id_norm))"
   ]
  },
  {
   "cell_type": "code",
   "execution_count": 65,
   "id": "41cbc2b5",
   "metadata": {},
   "outputs": [],
   "source": [
    "density_ood = density_model(torch.from_numpy(features_p_ood))\n",
    "density_ood_norm = density_model_norm(torch.from_numpy(features_p_ood_norm))"
   ]
  },
  {
   "cell_type": "code",
   "execution_count": 66,
   "id": "2ded93bc",
   "metadata": {},
   "outputs": [],
   "source": [
    "from util import is_outlier"
   ]
  },
  {
   "cell_type": "code",
   "execution_count": 67,
   "id": "24ab3c04",
   "metadata": {},
   "outputs": [],
   "source": [
    "def binned_xy(x, y, n=10):\n",
    "    \n",
    "    bin_centers = np.linspace(0, 1, n + 1)\n",
    "    bin_idxs = np.argmin(np.abs(x[:, None] - bin_centers[None, :]), axis=1)\n",
    "    \n",
    "    xr, yr, sr = [], [], []\n",
    "    mins, maxs = [], []\n",
    "    for bin_idx in range(bin_centers.shape[0]):\n",
    "        idxs = bin_idxs == bin_idx\n",
    "        if idxs.sum() > 0:\n",
    "            xr.append(bin_centers[bin_idx])\n",
    "            yr.append(y[idxs].mean())\n",
    "            sr.append(y[idxs].std())\n",
    "            mins.append(y[idxs].min())\n",
    "            maxs.append(y[idxs].max())\n",
    "    return np.array(xr), np.array(yr), np.array(sr), np.array(mins), np.array(maxs)"
   ]
  },
  {
   "cell_type": "code",
   "execution_count": 68,
   "id": "d4f7fef6",
   "metadata": {},
   "outputs": [
    {
     "name": "stdout",
     "output_type": "stream",
     "text": [
      "[-250. -216. -182. -148. -114.  -80.  -46.  -12.   22.   56.   90.]\n",
      "[ 0.  8. 16. 24. 32. 40. 48. 56. 64. 72. 80.]\n",
      "[-220. -215. -210. -205. -200. -195. -190. -185. -180. -175. -170.]\n",
      "thesis_nbs/continuous_distribution_shift_plots/amazon_photo-latent.pdf\n"
     ]
    },
    {
     "data": {
      "image/png": "[encoded data removed]",
      "text/plain": [
       "<Figure size 576x288 with 21 Axes>"
      ]
     },
     "metadata": {
      "needs_background": "light"
     },
     "output_type": "display_data"
    }
   ],
   "source": [
    "import matplotlib.colors as mc\n",
    "\n",
    "cmap_arr = np.ones((256, 4))\n",
    "cmap_arr[:, :3] *= np.linspace(1, 0.4, 256)[:, None]\n",
    "cmap = mc.ListedColormap(cmap_arr)\n",
    "\n",
    "fig, axs2 = plt.subplots(3, 7, figsize=(8,4), gridspec_kw={\n",
    "    'wspace' : 0.2, 'hspace' : 0.1, 'width_ratios' : [0.8, 0.05, 0.07, 0.8, 0.05, 0.3, 0.05],\n",
    "    'height_ratios' : [0.3, 0.2, 0.2],\n",
    "})\n",
    "\n",
    "axs = axs2[:, [0, 3, 4, 5, 6]]\n",
    "\n",
    "def conf_int(x, conf=.95):\n",
    "    if isinstance(x, torch.Tensor):\n",
    "        x = x.cpu().numpy()\n",
    "    s = x.copy().reshape((-1, ))\n",
    "    s.sort()\n",
    "    first = int(s.shape[0] * (1 - conf) / 2)\n",
    "    last = int(s.shape[0] * (conf + (1 - conf) / 2))\n",
    "    return s[first], s[last]\n",
    "    \n",
    "\n",
    "def limits_to_levels(x, res=10, n=10, conf=.95):\n",
    "    vmin, vmax = conf_int(x, conf=conf)\n",
    "    vmin = int(vmin / res)\n",
    "    vmax = int(vmax / res)\n",
    "    return res * np.linspace(vmin, vmax, n + 1)\n",
    "\n",
    "print(limits_to_levels(density_id))\n",
    "print(limits_to_levels(density_grid))\n",
    "print(limits_to_levels(density_id_norm))\n",
    "\n",
    "c = axs[0, 0].contourf(grids['umap'][..., 0], grids['umap'][..., 1], density_grid,\n",
    "                 cmap=cmap, \n",
    "                       levels=limits_to_levels(density_id), \n",
    "                       extend='both')\n",
    "for cnt in c.collections:\n",
    "    cnt.set_edgecolor(\"face\")\n",
    "axs[0, 0].scatter(embs['umap'][:, 0][is_fit], embs['umap'][:, 1][is_fit], marker='x', alpha=.2, c='red', rasterized=True)\n",
    "axs[0, 0].scatter(embs['umap'][:, 0][~is_fit], embs['umap'][:, 1][~is_fit], marker='.', alpha=.2, c=ps_ood, rasterized=True)\n",
    "cbar = fig.colorbar(c, ax=axs[0, 0], cax=axs2[0, 1])\n",
    "#cbar = fig.colorbar(c, ax=axs[0, 0])\n",
    "#cbar.set_label('Log Density', fontsize=12, rotation=270, labelpad=15)\n",
    "\n",
    "c = axs[0, 1].contourf(grids_norm['umap'][..., 0], grids_norm['umap'][..., 1], density_grid_norm,\n",
    "                 cmap=cmap, levels=limits_to_levels(density_id_norm), extend='both')\n",
    "for cnt in c.collections:\n",
    "    cnt.set_edgecolor(\"face\")\n",
    "axs[0, 1].scatter(embs_norm['umap'][:, 0][is_fit_norm], embs_norm['umap'][:, 1][is_fit_norm], marker='x', alpha=.2, c='red',rasterized=True)\n",
    "axs[0, 1].scatter(embs_norm['umap'][:, 0][~is_fit_norm], embs_norm['umap'][:, 1][~is_fit_norm], marker='.', alpha=.2, c=ps_ood, rasterized=True)\n",
    "cbar = fig.colorbar(c, ax=axs[0, 1], cax=axs[0, 2])\n",
    "cbar.set_label('Epistemic\\nConfidence', fontsize=12, rotation=270, labelpad=28)\n",
    "\n",
    "\n",
    "density_id_min, density_id_max = conf_int(density_id)\n",
    "axs[1, 0].plot([0, 1], [density_id.median().item()] * 2, color='red', ls='--')\n",
    "axs[1, 0].fill_between([0, 1], [density_id_min] * 2, \n",
    "                       [density_id_max] * 2, color='red', alpha = .2)\n",
    "\n",
    "axs[1, 0].set_xlim(-.05, 1.05)\n",
    "xs, ms, stds, mins, maxs = binned_xy(ps_ood, density_ood.numpy())\n",
    "axs[1, 0].plot(xs, ms, color='blue')\n",
    "axs[1, 0].fill_between(xs, ms-stds, ms+stds, color='blue', alpha=.2)\n",
    "\n",
    "\n",
    "density_id_norm_min, density_id_norm_max = conf_int(density_id_norm)\n",
    "axs[1, 1].plot([0, 1], [density_id_norm.median().item()] * 2, color='red', ls='--')\n",
    "axs[1, 1].fill_between([0, 1], [density_id_norm_min] * 2, \n",
    "                       [density_id_norm_max] * 2, color='red', alpha = .2)\n",
    "\n",
    "axs[1, 1].set_xlim(-.05, 1.05)\n",
    "xs, ms, stds, mins, maxs = binned_xy(ps_ood, density_ood_norm.numpy())\n",
    "axs[1, 1].plot(xs, ms, color='blue')\n",
    "axs[1, 1].fill_between(xs, ms-stds, ms+stds, color='blue', alpha=.2)\n",
    "\n",
    "c = axs[1, 1].scatter([-1] * 256, [density_ood_norm.numpy().mean()] * 256, c=np.linspace(0, 1, 256))\n",
    "cbar = fig.colorbar(c, ax=axs[1, 1], cax=axs[0, 4])\n",
    "cbar.set_label('Input Feature\\nSparsity $p$', fontsize=12, rotation=270, labelpad=32)\n",
    "\n",
    "# Aleatoric \n",
    "alea_id_min, alea_id_max = conf_int(alea_id)\n",
    "axs[2, 0].plot([0, 1], [np.median(alea_id)] * 2, color='red', ls='--')\n",
    "axs[2, 0].fill_between([0, 1], [alea_id_min] * 2, \n",
    "                       [alea_id_max] * 2, color='red', alpha = .2)\n",
    "\n",
    "axs[2, 0].set_xlim(-.05, 1.05)\n",
    "xs, ms, stds, mins, maxs = binned_xy(ps_ood, alea_p_ood)\n",
    "axs[2, 0].plot(xs, ms, color='blue')\n",
    "axs[2, 0].fill_between(xs, ms-stds, ms+stds, color='blue', alpha=.2)\n",
    "\n",
    "alea_id_norm_min, alea_id_norm_max = conf_int(alea_id)\n",
    "axs[2, 1].plot([0, 1], [np.median(alea_id_norm)] * 2, color='red', ls='--')\n",
    "axs[2, 1].fill_between([0, 1], [alea_id_norm_min] * 2, \n",
    "                       [alea_id_norm_max] * 2, color='red', alpha = .2)\n",
    "\n",
    "axs[2, 1].set_xlim(-.05, 1.05)\n",
    "xs, ms, stds, mins, maxs = binned_xy(ps_ood, alea_p_ood_norm)\n",
    "axs[2, 1].plot(xs, ms, color='blue')\n",
    "axs[2, 1].fill_between(xs, ms-stds, ms+stds, color='blue', alpha=.2)\n",
    "\n",
    "\n",
    "#axs[-1, -1].set_visible(False)\n",
    "\n",
    "for ax in axs[1:, 2:].flatten():\n",
    "    ax.set_visible(False)\n",
    "axs[0, 3].set_visible(False)\n",
    "\n",
    "for ax in axs[0].flatten():\n",
    "    ax.set_xticks([])\n",
    "for ax in axs[-1, :-1].flatten():\n",
    "    ax.set_xlabel('Success Probability $p$', fontsize=12)\n",
    "    #ax.set_title('Epistemic Confidence')\n",
    "for ax in axs[1, :-1].flatten():\n",
    "    ax.set_xticklabels([])\n",
    "for ax in axs[1:].flatten():\n",
    "    ax.grid(which='major', axis='both')\n",
    "for ax in axs2[1:, [1, 2]].flatten():\n",
    "    ax.set_visible(False)\n",
    "axs2[0, 2].set_visible(False)\n",
    "    \n",
    "axs[0, 0].set_ylabel('Latent Space', fontsize=12)\n",
    "axs[1, 0].set_ylabel('Epistemic\\nConf.', fontsize=12, labelpad=0)\n",
    "axs[2, 0].set_ylabel('Aleatoric\\nConf.', fontsize=12, labelpad=11) #labelpad=11)\n",
    "axs[0, 0].set_title('Vanilla GCN', fontsize=12)\n",
    "axs[0, 1].set_title('GCN + Spectral Norm.', fontsize=12)\n",
    "\n",
    "# Legend\n",
    "handles = []\n",
    "handles.append(axs[-1, -1].scatter([-1], [-1], marker='x', c='red'))\n",
    "handles.append(axs[-1, -1].scatter([-1], [-1], marker='.', c='black', s=100))\n",
    "legend = fig.legend(handles, ['Labeled (i.d.)', 'Input Feature\\nPerturbations'], \n",
    "                    bbox_to_anchor=(1.0, 0.56), title='Instances', loc='upper right', frameon=False, fontsize=12)\n",
    "plt.setp(legend.get_title(),fontsize=12)\n",
    "legend._legend_box.align = \"left\"\n",
    "\n",
    "\n",
    "handles = []\n",
    "handles.append(axs[-1, -1].hlines([-1], -2, -1, colors='red', ls='--'))\n",
    "handles.append(axs[-1, -1].hlines([-1], -2, -1, colors='blue', ls='-'))\n",
    "legend = fig.legend(handles, ['Mean (i.d.)', 'Input Feature\\nPerturbations'], \n",
    "                    bbox_to_anchor=(1.0, 0.30), title='Confidence', loc='upper right', frameon=False, fontsize=12)\n",
    "plt.setp(legend.get_title(),fontsize=12)\n",
    "legend._legend_box.align = \"left\"\n",
    "    \n",
    "for ax in axs[0, :2].flatten():\n",
    "    ax.set_yticks([])\n",
    "path = f'thesis_nbs/continuous_distribution_shift_plots/{dataset}-latent.pdf'\n",
    "fig.savefig(path, bbox_inches='tight', dpi=200)\n",
    "print(path)"
   ]
  },
  {
   "cell_type": "code",
   "execution_count": 69,
   "id": "7e69b7f5",
   "metadata": {},
   "outputs": [
    {
     "ename": "RuntimeError",
     "evalue": "No active exception to reraise",
     "output_type": "error",
     "traceback": [
      "\u001b[0;31m----------------------------------------------------------------------\u001b[0m",
      "\u001b[0;31mRuntimeError\u001b[0m                         Traceback (most recent call last)",
      "\u001b[0;32m<ipython-input-69-32cf2a9a4f67>\u001b[0m in \u001b[0;36m<module>\u001b[0;34m\u001b[0m\n\u001b[1;32m      1\u001b[0m \u001b[0;31m# Stop here\u001b[0m\u001b[0;34m\u001b[0m\u001b[0;34m\u001b[0m\u001b[0;34m\u001b[0m\u001b[0m\n\u001b[0;32m----> 2\u001b[0;31m \u001b[0;32mraise\u001b[0m\u001b[0;34m\u001b[0m\u001b[0;34m\u001b[0m\u001b[0m\n\u001b[0m",
      "\u001b[0;31mRuntimeError\u001b[0m: No active exception to reraise"
     ]
    }
   ],
   "source": [
    "# Stop here\n",
    "raise"
   ]
  },
  {
   "cell_type": "code",
   "execution_count": null,
   "id": "4cfb5177",
   "metadata": {},
   "outputs": [],
   "source": []
  },
  {
   "cell_type": "code",
   "execution_count": null,
   "id": "05b943d2",
   "metadata": {},
   "outputs": [],
   "source": []
  },
  {
   "cell_type": "code",
   "execution_count": null,
   "id": "2498be0b",
   "metadata": {},
   "outputs": [],
   "source": [
    "from copy import deepcopy"
   ]
  },
  {
   "cell_type": "code",
   "execution_count": null,
   "id": "946c8b2d",
   "metadata": {},
   "outputs": [],
   "source": [
    "aurocs_density, aurocs_max_score = [], []\n",
    "aurocs_density_no_edges, aurocs_max_score_no_edges = [], []\n",
    "aurocs_density_norm, aurocs_max_score_norm = [], []\n",
    "aurocs_density_norm_no_edges, aurocs_max_score_norm_no_edges = [], []\n",
    "ps = []\n",
    "\n",
    "resolution = 50\n",
    "k = 5\n",
    "\n",
    "for p in tqdm(np.linspace(0.0, 1.0, resolution)):\n",
    "    for _ in range(k):\n",
    "        data_p = PerturbationTransform(noise_type='bernoulli', p=p, seed=np.random.randint(0xFFFFFF))(data_loaders[dconst.OOD_VAL].dataset[0])\n",
    "        ps.append(p)\n",
    "        with torch.no_grad():\n",
    "            pred_p = model(deepcopy(data_p), remove_edges=False)\n",
    "            pred_p_no_edges = model(deepcopy(data_p), remove_edges=True)\n",
    "            pred_p_norm = model_norm(deepcopy(data_p), remove_edges=False)\n",
    "            pred_p_norm_no_edges = model_norm(deepcopy(data_p), remove_edges=True)\n",
    "            \n",
    "            density_p = density_model(pred_p.get_features(-2))\n",
    "            density_p_no_edges = density_model(pred_p_no_edges.get_features(-2))\n",
    "            density_p_norm = density_model_norm(pred_p_norm.get_features(-2))\n",
    "            density_p_norm_no_edges = density_model_norm(pred_p_norm_no_edges.get_features(-2))\n",
    "            \n",
    "            # Calculate AUROCs\n",
    "            aurocs_density.append(roc_auc_score(\n",
    "                (~data_p.is_out_of_distribution).cpu().numpy()[data_p.mask],\n",
    "                density_p.cpu().numpy()[data_p.mask],\n",
    "            ))\n",
    "            aurocs_max_score.append(roc_auc_score(\n",
    "                (~data_p.is_out_of_distribution).cpu().numpy()[data_p.mask],\n",
    "                pred_p.get_predictions().cpu().numpy().max(axis=1)[data_p.mask],\n",
    "                \n",
    "            ))\n",
    "            \n",
    "            aurocs_density_no_edges.append(roc_auc_score(\n",
    "                (~data_p.is_out_of_distribution).cpu().numpy()[data_p.mask],\n",
    "                density_p_no_edges.cpu().numpy()[data_p.mask],\n",
    "            ))\n",
    "            aurocs_max_score_no_edges.append(roc_auc_score(\n",
    "                (~data_p.is_out_of_distribution).cpu().numpy()[data_p.mask],\n",
    "                pred_p_no_edges.get_predictions().cpu().numpy().max(axis=1)[data_p.mask],\n",
    "                \n",
    "            ))\n",
    "            \n",
    "            aurocs_density_norm.append(roc_auc_score(\n",
    "                (~data_p.is_out_of_distribution).cpu().numpy()[data_p.mask],\n",
    "                density_p_norm.cpu().numpy()[data_p.mask],\n",
    "            ))\n",
    "            aurocs_max_score_norm.append(roc_auc_score(\n",
    "                (~data_p.is_out_of_distribution).cpu().numpy()[data_p.mask],\n",
    "                pred_p_norm.get_predictions().cpu().numpy().max(axis=1)[data_p.mask],\n",
    "                \n",
    "            ))\n",
    "            \n",
    "            aurocs_density_norm_no_edges.append(roc_auc_score(\n",
    "                (~data_p.is_out_of_distribution).cpu().numpy()[data_p.mask],\n",
    "                density_p_norm_no_edges.cpu().numpy()[data_p.mask],\n",
    "            ))\n",
    "            aurocs_max_score_norm_no_edges.append(roc_auc_score(\n",
    "                (~data_p.is_out_of_distribution).cpu().numpy()[data_p.mask],\n",
    "                pred_p_norm_no_edges.get_predictions().cpu().numpy().max(axis=1)[data_p.mask],\n",
    "                \n",
    "            ))"
   ]
  },
  {
   "cell_type": "code",
   "execution_count": null,
   "id": "a82f5190",
   "metadata": {},
   "outputs": [],
   "source": [
    "from scipy.stats import binned_statistic"
   ]
  },
  {
   "cell_type": "code",
   "execution_count": null,
   "id": "6fe0468f",
   "metadata": {},
   "outputs": [],
   "source": [
    "# Get uncertainty intervals for all sucess probabilities p\n",
    "ps = np.array(ps).reshape((-1, k))\n",
    "means, stds = {}, {}\n",
    "\n",
    "for key, vals in {\n",
    "    'aurocs_density' : aurocs_density, 'aurocs_max_score' : aurocs_max_score,\n",
    "    'aurocs_density_no_edges' : aurocs_density_no_edges, 'aurocs_max_score_no_edges' : aurocs_max_score_no_edges,\n",
    "    'aurocs_density_norm' : aurocs_density_norm, 'aurocs_max_score_norm' : aurocs_max_score_norm,\n",
    "    'aurocs_density_norm_no_edges' : aurocs_density_norm_no_edges, 'aurocs_max_score_norm_no_edges' : aurocs_max_score_norm_no_edges,\n",
    "}.items():\n",
    "    vals = np.array(vals).reshape((resolution, k))\n",
    "    means[key] = vals.mean(axis=1)\n",
    "    stds[key] = vals.std(axis=1)\n",
    "    \n",
    "    \n"
   ]
  },
  {
   "cell_type": "code",
   "execution_count": null,
   "id": "685aae2b",
   "metadata": {},
   "outputs": [],
   "source": [
    "\n",
    "\n",
    "\n",
    "if dataset == dconst.CORA_FULL:\n",
    "    fig, axs = plt.subplots(3, 2, sharex=True, figsize=(7, 4), gridspec_kw = {\n",
    "                           'height_ratios' : [1, 1, 0.6], 'wspace' : 0.2, 'hspace' : .95\n",
    "    })\n",
    "\n",
    "    def plot_proxy_at(key, ax, color, label):\n",
    "        handle = ax.plot(ps[:, 0], means[key], color=color, label=label, linestyle='--')\n",
    "        ax.fill_between(ps[:, 0], means[key] - stds[key], means[key] + stds[key], alpha = 0.2, color=color)\n",
    "        return handle\n",
    "\n",
    "\n",
    "    plot_proxy_at('aurocs_density', axs[0, 0], 'tab:blue', 'Epistemic')\n",
    "    plot_proxy_at('aurocs_max_score', axs[0, 0], 'tab:orange', 'Aleatoric')\n",
    "    plot_proxy_at('aurocs_density_norm', axs[0, 1], 'tab:blue', 'Epistemic')\n",
    "    plot_proxy_at('aurocs_max_score_norm', axs[0, 1], 'tab:orange', 'Aleatoric')\n",
    "\n",
    "    plot_proxy_at('aurocs_density_no_edges', axs[1, 0], 'tab:blue', 'Epistemic')\n",
    "    plot_proxy_at('aurocs_max_score_no_edges', axs[1, 0], 'tab:orange', 'Aleatoric')\n",
    "    plot_proxy_at('aurocs_density_norm_no_edges', axs[1, 1], 'tab:blue', 'Epistemic')\n",
    "    plot_proxy_at('aurocs_max_score_norm_no_edges', axs[1, 1], 'tab:orange', 'Aleatoric')\n",
    "\n",
    "    handles = []\n",
    "    handles += axs[-2, -1].plot([], [], color='tab:blue', label='Epistemic', linestyle='--')\n",
    "    handles += axs[-2, -1].plot([], [], color='tab:orange', label='Aleatoric', linestyle='--')\n",
    "\n",
    "    for ax in axs[:-1, :].flatten():\n",
    "        ax.grid(which='major')\n",
    "    for ax in axs[-1, :].flatten():\n",
    "        ax.grid(which='major', axis='x')\n",
    "\n",
    "    nnzs = (data_train.x.detach().cpu() > 0).float().mean(1).numpy()\n",
    "    axs[2, 0].hist(nnzs, bins=10)\n",
    "    axs[2, 0].set_yscale('log')\n",
    "    axs[2, 1].hist(nnzs, bins=10)\n",
    "    axs[2, 1].set_yscale('log')\n",
    "\n",
    "    axs[0, 0].set_ylabel('AUC-ROC', fontsize=12)\n",
    "    axs[1, 0].set_ylabel('AUC-ROC', fontsize=12)\n",
    "    axs[2, 0].set_ylabel('Count', fontsize=12)\n",
    "    axs[2, 0].set_xlabel('Input Feature Density $p$', fontsize=12)\n",
    "    axs[2, 1].set_xlabel('Input Feature Density $p$', fontsize=12)\n",
    "\n",
    "    axs[0, 0].set_title('Vanilla GCN', fontsize=12)\n",
    "    axs[0, 1].set_title('GCN + Spectral Norm.', fontsize=12)\n",
    "    axs[1, 0].set_title('Vanilla GCN, No Edges', fontsize=12)\n",
    "    axs[1, 1].set_title('GCN + Spectral Norm., No Edges', fontsize=12)\n",
    "    axs[2, 0].set_title('Input Feature Distribution,\\nCoraML+OS', fontsize=12)\n",
    "    axs[2, 1].set_title('Input Feature Distribution,\\nCoraML+OS', fontsize=12)\n",
    "\n",
    "    legend = fig.legend(handles, ['Epistemic', 'Aleatoric'], title='Proxy', loc='upper right', \n",
    "                        bbox_to_anchor=(1.13, 0.95), frameon=False, fontsize=12)\n",
    "    plt.setp(legend.get_title(),fontsize=12)\n",
    "    fig.savefig(f'thesis_nbs/continuous_distribution_shift_plots/{dataset}.pdf', bbox_inches='tight')"
   ]
  },
  {
   "cell_type": "code",
   "execution_count": null,
   "id": "5e0ae8c4",
   "metadata": {},
   "outputs": [],
   "source": [
    "\n",
    "if dataset == dconst.AMAZON_PHOTO:\n",
    "\n",
    "\n",
    "    fig, axs = plt.subplots(3, 2, sharex=True, figsize=(7, 4), gridspec_kw = {\n",
    "                           'height_ratios' : [1, 1, 0.6], 'wspace' : 0.2, 'hspace' : .95\n",
    "    })\n",
    "\n",
    "    def plot_proxy_at(key, ax, color, label):\n",
    "        handle = ax.plot(ps[:, 0], means[key], color=color, label=label, linestyle='--')\n",
    "        ax.fill_between(ps[:, 0], means[key] - stds[key], means[key] + stds[key], alpha = 0.2, color=color)\n",
    "        return handle\n",
    "\n",
    "\n",
    "    plot_proxy_at('aurocs_density', axs[0, 0], 'tab:blue', 'Epistemic')\n",
    "    plot_proxy_at('aurocs_max_score', axs[0, 0], 'tab:orange', 'Aleatoric')\n",
    "    plot_proxy_at('aurocs_density_norm', axs[0, 1], 'tab:blue', 'Epistemic')\n",
    "    plot_proxy_at('aurocs_max_score_norm', axs[0, 1], 'tab:orange', 'Aleatoric')\n",
    "\n",
    "    plot_proxy_at('aurocs_density_no_edges', axs[1, 0], 'tab:blue', 'Epistemic')\n",
    "    plot_proxy_at('aurocs_max_score_no_edges', axs[1, 0], 'tab:orange', 'Aleatoric')\n",
    "    plot_proxy_at('aurocs_density_norm_no_edges', axs[1, 1], 'tab:blue', 'Epistemic')\n",
    "    plot_proxy_at('aurocs_max_score_norm_no_edges', axs[1, 1], 'tab:orange', 'Aleatoric')\n",
    "\n",
    "    handles = []\n",
    "    handles += axs[-2, -1].plot([], [], color='tab:blue', label='Epistemic', linestyle='--')\n",
    "    handles += axs[-2, -1].plot([], [], color='tab:orange', label='Aleatoric', linestyle='--')\n",
    "\n",
    "    for ax in axs[:-1, :].flatten():\n",
    "        ax.grid(which='major')\n",
    "    for ax in axs[-1, :].flatten():\n",
    "        ax.grid(which='major', axis='x')\n",
    "\n",
    "    nnzs = (data_train.x.detach().cpu() > 0).float().mean(1).numpy()\n",
    "    axs[2, 0].hist(nnzs, bins=10)\n",
    "    axs[2, 0].set_yscale('log')\n",
    "    axs[2, 1].hist(nnzs, bins=10)\n",
    "    axs[2, 1].set_yscale('log')\n",
    "\n",
    "    axs[0, 0].set_ylabel('AUC-ROC', fontsize=12)\n",
    "    axs[1, 0].set_ylabel('AUC-ROC', fontsize=12)\n",
    "    axs[2, 0].set_ylabel('Count', fontsize=12)\n",
    "    axs[2, 0].set_xlabel('Input Feature Density $p$', fontsize=12)\n",
    "    axs[2, 1].set_xlabel('Input Feature Density $p$', fontsize=12)\n",
    "\n",
    "    axs[0, 0].set_title('Vanilla GCN', fontsize=12)\n",
    "    axs[0, 1].set_title('GCN + Spectral Norm.', fontsize=12)\n",
    "    axs[1, 0].set_title('Vanilla GCN, No Edges', fontsize=12)\n",
    "    axs[1, 1].set_title('GCN + Spectral Norm., No Edges', fontsize=12)\n",
    "    axs[2, 0].set_title('Input Feature Distribution,\\nAmazon Photos', fontsize=12)\n",
    "    axs[2, 1].set_title('Input Feature Distribution,\\nAmazon Photos', fontsize=12)\n",
    "\n",
    "    axs[2, 0].set_yticks(axs[2, 0].get_yticks()[::2])\n",
    "    axs[2, 1].set_yticks(axs[2, 1].get_yticks()[::2])\n",
    "    axs[1, 0].set_yticklabels(['', '0.0', '1.0'])\n",
    "    axs[1, 1].set_yticklabels(['', '0.0', '1.0'])\n",
    "\n",
    "    legend = fig.legend(handles, ['Epistemic', 'Aleatoric'], title='Proxy', loc='upper right', bbox_to_anchor=(1.1, 0.9), frameon=False)\n",
    "    plt.setp(legend.get_title(),fontsize=12)\n",
    "    fig.savefig(f'thesis_nbs/continuous_distribution_shift_plots/{dataset}.pdf', bbox_inches='tight')"
   ]
  },
  {
   "cell_type": "code",
   "execution_count": null,
   "id": "973769e4",
   "metadata": {},
   "outputs": [],
   "source": [
    "if dataset == dconst.CITESEER:\n",
    "    \n",
    "\n",
    "\n",
    "\n",
    "    fig, axs = plt.subplots(3, 2, sharex=True, figsize=(7, 4), gridspec_kw = {\n",
    "                           'height_ratios' : [1, 1, 0.6], 'wspace' : 0.2, 'hspace' : .95\n",
    "    })\n",
    "\n",
    "    def plot_proxy_at(key, ax, color, label):\n",
    "        handle = ax.plot(ps[:, 0], means[key], color=color, label=label, linestyle='--')\n",
    "        ax.fill_between(ps[:, 0], means[key] - stds[key], means[key] + stds[key], alpha = 0.2, color=color)\n",
    "        return handle\n",
    "\n",
    "\n",
    "    plot_proxy_at('aurocs_density', axs[0, 0], 'tab:blue', 'Epistemic')\n",
    "    plot_proxy_at('aurocs_max_score', axs[0, 0], 'tab:orange', 'Aleatoric')\n",
    "    plot_proxy_at('aurocs_density_norm', axs[0, 1], 'tab:blue', 'Epistemic')\n",
    "    plot_proxy_at('aurocs_max_score_norm', axs[0, 1], 'tab:orange', 'Aleatoric')\n",
    "\n",
    "    plot_proxy_at('aurocs_density_no_edges', axs[1, 0], 'tab:blue', 'Epistemic')\n",
    "    plot_proxy_at('aurocs_max_score_no_edges', axs[1, 0], 'tab:orange', 'Aleatoric')\n",
    "    plot_proxy_at('aurocs_density_norm_no_edges', axs[1, 1], 'tab:blue', 'Epistemic')\n",
    "    plot_proxy_at('aurocs_max_score_norm_no_edges', axs[1, 1], 'tab:orange', 'Aleatoric')\n",
    "\n",
    "    handles = []\n",
    "    handles += axs[-2, -1].plot([], [], color='tab:blue', label='Epistemic', linestyle='--')\n",
    "    handles += axs[-2, -1].plot([], [], color='tab:orange', label='Aleatoric', linestyle='--')\n",
    "\n",
    "    for ax in axs[:-1, :].flatten():\n",
    "        ax.grid(which='major')\n",
    "    for ax in axs[-1, :].flatten():\n",
    "        ax.grid(which='major', axis='x')\n",
    "\n",
    "    nnzs = (data_train.x.detach().cpu() > 0).float().mean(1).numpy()\n",
    "    axs[2, 0].hist(nnzs, bins=10)\n",
    "    axs[2, 0].set_yscale('log')\n",
    "    axs[2, 1].hist(nnzs, bins=10)\n",
    "    axs[2, 1].set_yscale('log')\n",
    "\n",
    "    axs[0, 0].set_ylabel('AUC-ROC', fontsize=12)\n",
    "    axs[1, 0].set_ylabel('AUC-ROC', fontsize=12)\n",
    "    axs[2, 0].set_ylabel('Count', fontsize=12)\n",
    "    axs[2, 0].set_xlabel('Input Feature Density $p$', fontsize=12)\n",
    "    axs[2, 1].set_xlabel('Input Feature Density $p$', fontsize=12)\n",
    "\n",
    "    axs[0, 0].set_title('Vanilla GCN', fontsize=12)\n",
    "    axs[0, 1].set_title('GCN + Spectral Norm.', fontsize=12)\n",
    "    axs[1, 0].set_title('Vanilla GCN, No Edges', fontsize=12)\n",
    "    axs[1, 1].set_title('GCN + Spectral Norm., No Edges', fontsize=12)\n",
    "    axs[2, 0].set_title('Input Feature Distribution,\\nCiteseer', fontsize=12)\n",
    "    axs[2, 1].set_title('Input Feature Distribution,\\nCiteseer', fontsize=12)\n",
    "    \n",
    "    axs[1, 0].set_yticklabels(['', '0.0', '1.0'])\n",
    "    axs[1, 1].set_yticklabels(['', '0.0', '1.0'])\n",
    "\n",
    "    legend = fig.legend(handles, ['Epistemic', 'Aleatoric'], title='Proxy', loc='upper right', \n",
    "                        bbox_to_anchor=(1.13, 0.95), \n",
    "               frameon=False, fontsize=12)\n",
    "    plt.setp(legend.get_title(),fontsize=12)\n",
    "    fig.savefig(f'thesis_nbs/continuous_distribution_shift_plots/{dataset}.pdf', bbox_inches='tight')"
   ]
  },
  {
   "cell_type": "code",
   "execution_count": null,
   "id": "a11d0476",
   "metadata": {},
   "outputs": [],
   "source": []
  },
  {
   "cell_type": "code",
   "execution_count": null,
   "id": "2aad142e",
   "metadata": {},
   "outputs": [],
   "source": []
  },
  {
   "cell_type": "code",
   "execution_count": null,
   "id": "d9a11613",
   "metadata": {},
   "outputs": [],
   "source": []
  },
  {
   "cell_type": "code",
   "execution_count": null,
   "id": "bd4000d4",
   "metadata": {},
   "outputs": [],
   "source": []
  }
 ],
 "metadata": {
  "kernelspec": {
   "display_name": "Python 3",
   "language": "python",
   "name": "python3"
  },
  "language_info": {
   "codemirror_mode": {
    "name": "ipython",
    "version": 3
   },
   "file_extension": ".py",
   "mimetype": "text/x-python",
   "name": "python",
   "nbconvert_exporter": "python",
   "pygments_lexer": "ipython3",
   "version": "3.9.5"
  }
 },
 "nbformat": 4,
 "nbformat_minor": 5
}
