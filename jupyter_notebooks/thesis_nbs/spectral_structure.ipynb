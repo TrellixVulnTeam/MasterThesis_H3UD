{
 "cells": [
  {
   "cell_type": "code",
   "execution_count": 1,
   "id": "333d163f",
   "metadata": {},
   "outputs": [],
   "source": [
    "import numpy as np\n",
    "import matplotlib.pyplot as plt\n",
    "import pandas as pd\n",
    "import seaborn as sns\n",
    "import torch\n",
    "import pytorch_lightning as pl\n",
    "\n",
    "from torch_geometric.data import DataLoader\n",
    "import pytorch_lightning as pl\n",
    "import os.path as osp\n",
    "\n",
    "from tqdm import tqdm\n",
    "\n",
    "from sklearn.metrics import roc_auc_score, precision_recall_curve, auc"
   ]
  },
  {
   "cell_type": "code",
   "execution_count": 2,
   "id": "c4ecfc93",
   "metadata": {},
   "outputs": [
    {
     "name": "stdout",
     "output_type": "stream",
     "text": [
      "/nfs/homedirs/fuchsgru/MastersThesis\n"
     ]
    }
   ],
   "source": [
    "%cd .."
   ]
  },
  {
   "cell_type": "code",
   "execution_count": 3,
   "id": "842557dd",
   "metadata": {},
   "outputs": [],
   "source": [
    "import configuration\n",
    "import model_registry\n",
    "import data.build\n",
    "import data.constants as dconst\n",
    "from data.util import data_get_num_attributes, data_get_num_classes\n",
    "from model.semi_supervised_node_classification import SemiSupervisedNodeClassification, Ensemble\n",
    "from evaluation.util import get_data_loader, run_model_on_datasets, separate_distributions\n",
    "import evaluation.callbacks as ecbs\n",
    "from metrics import expected_calibration_error\n",
    "from plot.calibration import plot_calibration\n",
    "from data.util import label_binarize\n",
    "from model.density import get_density_model\n",
    "import seed\n",
    "from train import train_model\n",
    "from model.build import make_model"
   ]
  },
  {
   "cell_type": "code",
   "execution_count": 4,
   "id": "6b9afb76",
   "metadata": {},
   "outputs": [],
   "source": [
    "import logging as l\n",
    "\n",
    "l.basicConfig(level=l.INFO)"
   ]
  },
  {
   "cell_type": "code",
   "execution_count": 5,
   "id": "dbf25798",
   "metadata": {},
   "outputs": [
    {
     "name": "stderr",
     "output_type": "stream",
     "text": [
      "INFO:root:Set configuration value data.base_labels to default all\n",
      "INFO:root:Set configuration value data.corpus_labels to default all\n",
      "INFO:root:Set configuration value data.train_labels to default all\n",
      "INFO:root:Set configuration value data.left_out_class_labels to default ['Film Photography', 'Binoculars & Scopes', 'Video Surveillance']\n",
      "INFO:root:Set configuration value data.preprocessing to default none\n",
      "INFO:root:Set configuration value data.ood_sampling_strategy to default all\n",
      "INFO:root:Set configuration value data.train_portion to default 20\n",
      "INFO:root:Set configuration value data.test_portion_fixed to default 0.2\n",
      "INFO:root:Set configuration value data.split_type to default uniform\n",
      "INFO:root:Set configuration value data.type to default npz\n",
      "INFO:root:Set configuration value data.drop_train_vertices_portion to default 0.1\n",
      "INFO:root:Set configuration value data.precompute_k_hop_neighbourhood to default 2\n",
      "INFO:root:Set configuration value model.hidden_sizes to default [64]\n",
      "INFO:root:Set configuration value data.base_labels to all\n",
      "INFO:root:Set configuration value data.corpus_labels to all\n",
      "INFO:root:Set configuration value data.left_out_class_labels to []\n",
      "INFO:root:Set configuration value data.base_labels to default all\n",
      "INFO:root:Set configuration value data.corpus_labels to default all\n",
      "INFO:root:Set configuration value data.train_labels to default all\n",
      "INFO:root:Set configuration value data.left_out_class_labels to default ['Film Photography', 'Binoculars & Scopes', 'Video Surveillance']\n",
      "INFO:root:Set configuration value data.preprocessing to default none\n",
      "INFO:root:Set configuration value data.ood_sampling_strategy to default all\n",
      "INFO:root:Set configuration value data.train_portion to default 20\n",
      "INFO:root:Set configuration value data.test_portion_fixed to default 0.2\n",
      "INFO:root:Set configuration value data.split_type to default uniform\n",
      "INFO:root:Set configuration value data.type to default npz\n",
      "INFO:root:Set configuration value data.drop_train_vertices_portion to default 0.1\n",
      "INFO:root:Set configuration value data.precompute_k_hop_neighbourhood to default 2\n",
      "INFO:root:Set configuration value model.hidden_sizes to default [64]\n",
      "INFO:root:Set configuration value data.base_labels to all\n",
      "INFO:root:Set configuration value data.corpus_labels to all\n",
      "INFO:root:Set configuration value data.left_out_class_labels to []\n"
     ]
    },
    {
     "name": "stdout",
     "output_type": "stream",
     "text": [
      "True\n"
     ]
    }
   ],
   "source": [
    "dataset = dconst.AMAZON_PHOTO\n",
    "\n",
    "spectral_norm_conf = {'model' : {\n",
    "        'use_spectral_norm' : True,\n",
    "        'residual' : True,\n",
    "        'weight_scale' : 200.0,\n",
    "    },}\n",
    "\n",
    "config = configuration.ExperimentConfiguration(\n",
    "    data={\n",
    "        'dataset' : dataset,\n",
    "        'setting' : dconst.HYBRID,\n",
    "        'ood_type' : dconst.PERTURBATION,\n",
    "        'use_dataset_registry' : False,\n",
    "    },\n",
    "    # **spectral_norm_conf,\n",
    "    run = {\n",
    "        'use_default_configuration' : True,\n",
    "    },\n",
    ")\n",
    "config_norm = configuration.ExperimentConfiguration(\n",
    "    data={\n",
    "        'dataset' : dataset,\n",
    "        'setting' : dconst.HYBRID,\n",
    "        'ood_type' : dconst.PERTURBATION,\n",
    "        'use_dataset_registry' : False,\n",
    "    },\n",
    "    **spectral_norm_conf,\n",
    "    run = {\n",
    "        'use_default_configuration' : True,\n",
    "    },\n",
    ")\n",
    "if config.run.use_default_configuration:\n",
    "    configuration.update_with_default_configuration(config)\n",
    "    configuration.update_with_default_configuration(config_norm)\n",
    "    \n",
    "print(config.run.use_default_configuration)"
   ]
  },
  {
   "cell_type": "code",
   "execution_count": 6,
   "id": "88e46ff0",
   "metadata": {},
   "outputs": [
    {
     "data": {
      "text/plain": [
       "'hybrid'"
      ]
     },
     "execution_count": 6,
     "metadata": {},
     "output_type": "execute_result"
    }
   ],
   "source": [
    "config.data.setting"
   ]
  },
  {
   "cell_type": "code",
   "execution_count": 7,
   "id": "98b238c8",
   "metadata": {},
   "outputs": [],
   "source": [
    "config.model.use_bias = True\n",
    "config_norm.model.use_bias = True"
   ]
  },
  {
   "cell_type": "code",
   "execution_count": 8,
   "id": "9d304c4d",
   "metadata": {},
   "outputs": [
    {
     "name": "stderr",
     "output_type": "stream",
     "text": [
      "INFO:root:Did not find precomputed dataset split.\n",
      "INFO:root:Data Loading - Loaded adjacency matrix.\n",
      "INFO:root:Data Loading - Did not find vertex names in amazon_photo. Generating default names...\n",
      "INFO:root:Data Loading - Built attribute matrix.\n"
     ]
    },
    {
     "name": "stdout",
     "output_type": "stream",
     "text": [
      "Build SingleGraphDataset with additional attribute dict_keys(['feature_to_idx'])\n",
      "Build SingleGraphDataset with additional attribute dict_keys(['feature_to_idx'])\n"
     ]
    },
    {
     "name": "stderr",
     "output_type": "stream",
     "text": [
      "INFO:root:Precompute <= 2 neighbourhoods of ood graph.\n"
     ]
    },
    {
     "name": "stdout",
     "output_type": "stream",
     "text": [
      "Build SingleGraphDataset with additional attribute dict_keys(['feature_to_idx'])\n",
      "Build SingleGraphDataset with additional attribute dict_keys(['feature_to_idx'])\n",
      "Build SingleGraphDataset with additional attribute dict_keys(['feature_to_idx'])\n",
      "Build SingleGraphDataset with additional attribute dict_keys(['is_train_graph_vertex', 'feature_to_idx', '0_hop_neighbourhood_indptr', '0_hop_neighbourhood_indices', '1_hop_neighbourhood_indptr', '1_hop_neighbourhood_indices', '2_hop_neighbourhood_indptr', '2_hop_neighbourhood_indices'])\n",
      "Build SingleGraphDataset with additional attribute dict_keys(['is_train_graph_vertex', 'feature_to_idx', '0_hop_neighbourhood_indptr', '0_hop_neighbourhood_indices', '1_hop_neighbourhood_indptr', '1_hop_neighbourhood_indices', '2_hop_neighbourhood_indptr', '2_hop_neighbourhood_indices'])\n"
     ]
    },
    {
     "name": "stderr",
     "output_type": "stream",
     "text": [
      "/nfs/homedirs/fuchsgru/miniconda3/lib/python3.9/site-packages/torch_geometric/deprecation.py:13: UserWarning: 'data.DataLoader' is deprecated, use 'loader.DataLoader' instead\n",
      "  warnings.warn(out)\n"
     ]
    }
   ],
   "source": [
    "data_split_seed = seed.data_split_seeds()[config.run.split_idx]\n",
    "config.registry.split_seed = data_split_seed\n",
    "model_seed_generator = iter(seed.SeedIterator(seed.model_seeds()[config.run.initialization_idx]))\n",
    "data_dict, fixed_vertices = data.build.load_data_from_configuration(config.data, data_split_seed)\n",
    "data_loaders = {\n",
    "    name : DataLoader(data, batch_size=1, shuffle=False) for name, data in data_dict.items()\n",
    "}"
   ]
  },
  {
   "cell_type": "code",
   "execution_count": 9,
   "id": "783c2a46",
   "metadata": {},
   "outputs": [
    {
     "name": "stdout",
     "output_type": "stream",
     "text": [
      "\n"
     ]
    }
   ],
   "source": [
    "for batch in data_loaders[dconst.TRAIN]:\n",
    "    print()"
   ]
  },
  {
   "cell_type": "code",
   "execution_count": 10,
   "id": "d1b6e644",
   "metadata": {},
   "outputs": [],
   "source": [
    "_ = data_dict[dconst.TRAIN][0].feature_to_idx"
   ]
  },
  {
   "cell_type": "code",
   "execution_count": 11,
   "id": "a55d30a5",
   "metadata": {},
   "outputs": [
    {
     "data": {
      "text/plain": [
       "tensor(0.3486)"
      ]
     },
     "execution_count": 11,
     "metadata": {},
     "output_type": "execute_result"
    }
   ],
   "source": [
    "(data_dict[dconst.TRAIN][0].x > 0).float().mean(1).mean(0)"
   ]
  },
  {
   "cell_type": "code",
   "execution_count": 12,
   "id": "f9714a90",
   "metadata": {},
   "outputs": [],
   "source": [
    "model_seed = next(model_seed_generator)"
   ]
  },
  {
   "cell_type": "code",
   "execution_count": 13,
   "id": "0e817d96",
   "metadata": {},
   "outputs": [],
   "source": [
    "run_artifact_dir = artifact_dir = osp.join(config.logging.artifact_dir, 'spectral-structure')"
   ]
  },
  {
   "cell_type": "code",
   "execution_count": 14,
   "id": "5c678632",
   "metadata": {},
   "outputs": [],
   "source": [
    "config.run.use_pretrained_model = False # We need to re-train the models\n",
    "config_norm.run.use_pretrained_model = False # We need to re-train the models"
   ]
  },
  {
   "cell_type": "code",
   "execution_count": 15,
   "id": "976f1473",
   "metadata": {},
   "outputs": [
    {
     "data": {
      "text/plain": [
       "(0, 0)"
      ]
     },
     "execution_count": 15,
     "metadata": {},
     "output_type": "execute_result"
    }
   ],
   "source": [
    "if not torch.cuda.is_available():\n",
    "    config.training.gpus = 0\n",
    "    config_norm.training.gpus = 0\n",
    "config.training.gpus, config_norm.training.gpus"
   ]
  },
  {
   "cell_type": "code",
   "execution_count": null,
   "id": "38fe2559",
   "metadata": {},
   "outputs": [],
   "source": []
  },
  {
   "cell_type": "code",
   "execution_count": 16,
   "id": "614cab0a",
   "metadata": {},
   "outputs": [],
   "source": [
    "# Create a callback that logs the weight matrix svd\n",
    "from collections import defaultdict\n",
    "\n",
    "class LogWeightMatrixSpectrum(pl.callbacks.Callback):\n",
    "    \"\"\" Finds all weight matrices and logs their spectrum every epoch. \"\"\"\n",
    "\n",
    "    def __init__(self, log_every_epoch=1):\n",
    "        super().__init__()\n",
    "        self.log_every_epoch = log_every_epoch\n",
    "        self._buffer = defaultdict(list)\n",
    "        self._epoch_buffer = []\n",
    "\n",
    "    def on_validation_epoch_start(self, trainer: pl.Trainer, model: pl.LightningModule):\n",
    "        if trainer.global_step % self.log_every_epoch == 0:\n",
    "            self._epoch_buffer.append(trainer.global_step)\n",
    "            weights = model.get_weights()\n",
    "            for name, weight in weights.items():\n",
    "                u, s, v = np.linalg.svd(weight.detach().cpu().numpy(), full_matrices=False)\n",
    "                self._buffer[name].append((u, s, v))"
   ]
  },
  {
   "cell_type": "code",
   "execution_count": 17,
   "id": "c162b213",
   "metadata": {},
   "outputs": [],
   "source": [
    "svd_callback = LogWeightMatrixSpectrum()"
   ]
  },
  {
   "cell_type": "code",
   "execution_count": 18,
   "id": "f2a216b8",
   "metadata": {},
   "outputs": [],
   "source": [
    "svd_callback_norm = LogWeightMatrixSpectrum()"
   ]
  },
  {
   "cell_type": "code",
   "execution_count": 19,
   "id": "73676f68",
   "metadata": {},
   "outputs": [
    {
     "name": "stderr",
     "output_type": "stream",
     "text": [
      "Global seed set to 1952926171\n",
      "GPU available: False, used: False\n",
      "TPU available: False, using: 0 TPU cores\n",
      "IPU available: False, using: 0 IPUs\n",
      "INFO:root:Starting model training.\n",
      "\n",
      "  | Name     | Type | Params\n",
      "----------------------------------\n",
      "0 | backbone | GCN  | 48.3 K\n",
      "----------------------------------\n",
      "48.3 K    Trainable params\n",
      "0         Non-trainable params\n",
      "48.3 K    Total params\n",
      "0.193     Total estimated model params size (MB)\n"
     ]
    },
    {
     "name": "stdout",
     "output_type": "stream",
     "text": [
      "SemiSupervisedNodeClassification(\n",
      "  (backbone): GCN(\n",
      "    (convs): ModuleList(\n",
      "      (0): BasicBlock(\n",
      "        (conv): GCNConv\n",
      "          LinearWithParametrization(\n",
      "            (linear): Linear(in_features=745, out_features=64, bias=True)\n",
      "          )\n",
      "        (act): LeakyReLU(negative_slope=0.01)\n",
      "      )\n",
      "      (1): BasicBlock(\n",
      "        (conv): GCNConv\n",
      "          LinearWithParametrization(\n",
      "            (linear): Linear(in_features=64, out_features=8, bias=True)\n",
      "          )\n",
      "      )\n",
      "    )\n",
      "  )\n",
      ")\n"
     ]
    },
    {
     "name": "stderr",
     "output_type": "stream",
     "text": [
      "Global seed set to 1952926171\n",
      "INFO:root:Paths ['/nfs/students/fuchsgru/model_registry/-7904550698936965973-1650715092-0778632-1887091165.ckpt'] were overwritten with /nfs/students/fuchsgru/model_registry/-6905525589867655496-1650730082-9574614-2003114875.ckpt (copied from /nfs/students/fuchsgru/artifacts/spectral-structure/epoch=999-step=999.ckpt).\n",
      "INFO:root:Loading model for evaluation from /nfs/students/fuchsgru/model_registry/-6905525589867655496-1650730082-9574614-2003114875.ckpt.\n"
     ]
    }
   ],
   "source": [
    "config.registry.model_seed = model_seed\n",
    "pl.seed_everything(model_seed)\n",
    "model = make_model(config, data_get_num_attributes(data_dict[dconst.TRAIN][0]), \n",
    "    data_get_num_classes(data_dict[dconst.TRAIN][0]))\n",
    "print(model)\n",
    "model = train_model(model, config, artifact_dir, data_loaders, logger=None, callbacks=[svd_callback]).eval()"
   ]
  },
  {
   "cell_type": "code",
   "execution_count": 20,
   "id": "7e920bff",
   "metadata": {},
   "outputs": [
    {
     "name": "stderr",
     "output_type": "stream",
     "text": [
      "Global seed set to 1952926171\n",
      "GPU available: False, used: False\n",
      "TPU available: False, using: 0 TPU cores\n",
      "IPU available: False, using: 0 IPUs\n",
      "INFO:root:Starting model training.\n",
      "\n",
      "  | Name     | Type | Params\n",
      "----------------------------------\n",
      "0 | backbone | GCN  | 96.1 K\n",
      "----------------------------------\n",
      "96.1 K    Trainable params\n",
      "0         Non-trainable params\n",
      "96.1 K    Total params\n",
      "0.384     Total estimated model params size (MB)\n"
     ]
    },
    {
     "name": "stdout",
     "output_type": "stream",
     "text": [
      "SemiSupervisedNodeClassification(\n",
      "  (backbone): GCN(\n",
      "    (convs): ModuleList(\n",
      "      (0): ResidualBlock(\n",
      "        (conv): GCNConv\n",
      "          LinearWithParametrization(\n",
      "            (linear): ParametrizedLinear(\n",
      "              in_features=745, out_features=64, bias=True\n",
      "              (parametrizations): ModuleDict(\n",
      "                (weight): ParametrizationList(\n",
      "                  (0): SpectralNorm(rescaling=200.0, n_iter=1)\n",
      "                )\n",
      "              )\n",
      "            )\n",
      "          )\n",
      "        (act): LeakyReLU(negative_slope=0.01)\n",
      "        (input_projection): LinearWithParametrization(\n",
      "          (linear): ParametrizedLinear(\n",
      "            in_features=745, out_features=64, bias=True\n",
      "            (parametrizations): ModuleDict(\n",
      "              (weight): ParametrizationList(\n",
      "                (0): SpectralNorm(rescaling=200.0, n_iter=1)\n",
      "              )\n",
      "            )\n",
      "          )\n",
      "        )\n",
      "      )\n",
      "      (1): BasicBlock(\n",
      "        (conv): GCNConv\n",
      "          LinearWithParametrization(\n",
      "            (linear): Linear(in_features=64, out_features=8, bias=True)\n",
      "          )\n",
      "      )\n",
      "    )\n",
      "  )\n",
      ")\n"
     ]
    },
    {
     "name": "stderr",
     "output_type": "stream",
     "text": [
      "Global seed set to 1952926171\n",
      "INFO:root:Paths ['/nfs/students/fuchsgru/model_registry/-6905525589867655496-1650730082-9574614-2003114875.ckpt'] were overwritten with /nfs/students/fuchsgru/model_registry/-6905525589867655496-1650730879-2264602-2003114875.ckpt (copied from /nfs/students/fuchsgru/artifacts/spectral-structure/epoch=439-step=439.ckpt).\n",
      "INFO:root:Loading model for evaluation from /nfs/students/fuchsgru/model_registry/-6905525589867655496-1650730879-2264602-2003114875.ckpt.\n"
     ]
    }
   ],
   "source": [
    "config_norm.registry.model_seed = model_seed\n",
    "pl.seed_everything(model_seed)\n",
    "model_norm = make_model(config_norm, data_get_num_attributes(data_dict[dconst.TRAIN][0]), \n",
    "    data_get_num_classes(data_dict[dconst.TRAIN][0]))\n",
    "print(model_norm)\n",
    "model = train_model(model_norm, config, artifact_dir, data_loaders, logger=None, callbacks=[svd_callback_norm]).eval()"
   ]
  },
  {
   "cell_type": "code",
   "execution_count": null,
   "id": "0244df5e",
   "metadata": {},
   "outputs": [],
   "source": []
  },
  {
   "cell_type": "code",
   "execution_count": 21,
   "id": "a274ed99",
   "metadata": {},
   "outputs": [
    {
     "data": {
      "text/plain": [
       "(dict_keys(['backbone.conv0.lin.weight', 'backbone.conv1.lin.weight']),\n",
       " dict_keys(['backbone.conv0.lin.weight', 'backbone.conv0.residual_projection.weight', 'backbone.conv1.lin.weight']))"
      ]
     },
     "execution_count": 21,
     "metadata": {},
     "output_type": "execute_result"
    }
   ],
   "source": [
    "svd_callback._buffer.keys(), svd_callback_norm._buffer.keys()"
   ]
  },
  {
   "cell_type": "code",
   "execution_count": 22,
   "id": "cc307bc6",
   "metadata": {},
   "outputs": [],
   "source": [
    "svs = {\n",
    "    k : np.array([s for u, s, v in buf]) for k, buf in svd_callback._buffer.items()\n",
    "}\n",
    "svs_norm = {\n",
    "    k : np.array([s for u, s, v in buf]) for k, buf in svd_callback_norm._buffer.items()\n",
    "}"
   ]
  },
  {
   "cell_type": "code",
   "execution_count": 23,
   "id": "895671a1",
   "metadata": {},
   "outputs": [
    {
     "data": {
      "text/plain": [
       "[419,\n",
       " 420,\n",
       " 421,\n",
       " 422,\n",
       " 423,\n",
       " 424,\n",
       " 425,\n",
       " 426,\n",
       " 427,\n",
       " 428,\n",
       " 429,\n",
       " 430,\n",
       " 431,\n",
       " 432,\n",
       " 433,\n",
       " 434,\n",
       " 435,\n",
       " 436,\n",
       " 437,\n",
       " 438,\n",
       " 439,\n",
       " 440,\n",
       " 441,\n",
       " 442,\n",
       " 443]"
      ]
     },
     "execution_count": 23,
     "metadata": {},
     "output_type": "execute_result"
    }
   ],
   "source": [
    "svd_callback_norm._epoch_buffer[-25:]"
   ]
  },
  {
   "cell_type": "code",
   "execution_count": 24,
   "id": "f6ab9b4d",
   "metadata": {},
   "outputs": [
    {
     "data": {
      "text/plain": [
       "(dict_keys(['backbone.conv0.lin.weight', 'backbone.conv1.lin.weight']),\n",
       " dict_keys(['backbone.conv0.lin.weight', 'backbone.conv0.residual_projection.weight', 'backbone.conv1.lin.weight']))"
      ]
     },
     "execution_count": 24,
     "metadata": {},
     "output_type": "execute_result"
    }
   ],
   "source": [
    "svs.keys(), svs_norm.keys()"
   ]
  },
  {
   "cell_type": "code",
   "execution_count": 25,
   "id": "cc53ab69",
   "metadata": {},
   "outputs": [],
   "source": [
    "from typing import Tuple, Any, Optional\n",
    "from matplotlib import cm\n",
    "from matplotlib.colors import ListedColormap, LinearSegmentedColormap\n",
    "\n",
    "def plot_histogram_evolution(values: np.ndarray, num_bins: int = 25, figsize: Tuple[float, float]=(10, 5), value_name: Optional[str]=None,\n",
    "        time_name: Optional[str]='Epoch', time_interval: int=1) -> Tuple[plt.Figure, Any]:\n",
    "    \"\"\" Plots the evolution of a 1d distribution as a 2d heatmap with time on the x axis.\n",
    "    \n",
    "    Parameters:\n",
    "    -----------\n",
    "    values : ndarray, shape [sequence_length, num_observations]\n",
    "        The observations to plot the distribution of.\n",
    "    num_bins : int, optional, default: 25\n",
    "        How many bins to use for the observations.\n",
    "    figsize : Tuple[float, float], optional, default: (10, 5)\n",
    "        The size of the plt figure.\n",
    "    value_name : str, optional, default: None\n",
    "        If given, what the observations are called.\n",
    "    time_name : str, optional, default: 'Epoch'\n",
    "        If given, what the temporal axis should be labeled with.\n",
    "    time_interval : int, optional, default: 1\n",
    "        The step in which the temporal x axis goes.\n",
    "    \n",
    "    Returns:\n",
    "    --------\n",
    "    fig : plt.Figure\n",
    "        The figure.\n",
    "    ax : plt.axes.Axes\n",
    "        The axis.\n",
    "    \"\"\" \n",
    "    bin_centers = np.linspace(np.round(values.min() - 0.5, 0), np.round(values.max() + 0.5, 0), num_bins)\n",
    "\n",
    "    distances = np.abs(values.flatten()[:, None] - bin_centers[None, :])\n",
    "    bin_idxs = distances.argmin(1).reshape(values.shape)\n",
    "\n",
    "    counts = np.zeros((num_bins, values.shape[0]))\n",
    "    for epoch in range(values.shape[0]):\n",
    "        for bin_idx in bin_idxs[epoch]:\n",
    "            counts[bin_idx, epoch] += 1\n",
    "\n",
    "    counts = pd.DataFrame(counts, index=np.round(bin_centers, 2), columns=[i * time_interval for i in range(values.shape[0])])\n",
    "    if value_name:\n",
    "        counts.index.name = value_name\n",
    "    if time_name:\n",
    "        counts.columns.name = time_name\n",
    "\n",
    "    fig, ax = plt.subplots(figsize=figsize)\n",
    "    \n",
    "    viridis = cm.get_cmap('viridis', 256)\n",
    "    newcolors = viridis(np.linspace(0, 1, 256))\n",
    "    newcolors[:1, :] = [1, 1, 1, 1]\n",
    "    newcmp = ListedColormap(newcolors)\n",
    "    \n",
    "    sns.heatmap(counts, robust=True, ax=ax, cmap=newcmp, cbar_kws={'label' : 'Count'})\n",
    "    return fig, ax\n"
   ]
  },
  {
   "cell_type": "code",
   "execution_count": 26,
   "id": "57ab0888",
   "metadata": {},
   "outputs": [],
   "source": [
    "def counts(values, num_bins=25):\n",
    "    bin_centers = np.linspace(np.round(values.min() - 0.5, 0), np.round(values.max() + 0.5, 0), num_bins)\n",
    "\n",
    "    distances = np.abs(values.flatten()[:, None] - bin_centers[None, :])\n",
    "    bin_idxs = distances.argmin(1).reshape(values.shape)\n",
    "\n",
    "    counts = np.zeros((num_bins, values.shape[0]))\n",
    "    for epoch in range(values.shape[0]):\n",
    "        for bin_idx in bin_idxs[epoch]:\n",
    "            counts[bin_idx, epoch] += 1\n",
    "\n",
    "    counts = pd.DataFrame(counts, index=np.round(bin_centers, 2), columns=[i for i in range(values.shape[0])])\n",
    "    return counts\n",
    "    "
   ]
  },
  {
   "cell_type": "code",
   "execution_count": 27,
   "id": "3d04fc4c",
   "metadata": {},
   "outputs": [],
   "source": [
    "def plot_heatmap2d(ax: Any, values: np.ndarray, figsize: Tuple[float, float]=(10, 5), value_name: Optional[str]=None,\n",
    "        time_name: Optional[str]='Epoch', time_interval: int=1, log_scale: bool=True, cbar_label: Optional[str]=None) -> Tuple[plt.Figure, Any]:\n",
    "    \"\"\" Plots a 2d heatmap.\n",
    "    \n",
    "    Parameters:\n",
    "    -----------\n",
    "    values : ndarray, shape [sequence_length, num_observations]\n",
    "        The observations to plot the distribution of.\n",
    "    figsize : Tuple[float, float], optional, default: (10, 5)\n",
    "        The size of the plt figure.\n",
    "    value_name : str, optional, default: None\n",
    "        If given, what the observations are called.\n",
    "    time_name : str, optional, default: 'Epoch'\n",
    "        If given, what the temporal axis should be labeled with.\n",
    "    time_interval : int, optional, default: 1\n",
    "        The step in which the temporal x axis goes.\n",
    "    \n",
    "    Returns:\n",
    "    --------\n",
    "    fig : plt.Figure\n",
    "        The figure.\n",
    "    ax : plt.axes.Axes\n",
    "        The axis.\n",
    "    \"\"\" \n",
    "    if log_scale:\n",
    "        values = np.log(values)\n",
    "        if cbar_label:\n",
    "            cbar_label = f'Log {cbar_label}'\n",
    "    df = pd.DataFrame(values.T, columns=time_interval * np.arange(values.shape[0]))\n",
    "    if value_name:\n",
    "        df.index.name = value_name\n",
    "    if time_name:\n",
    "        df.columns.name = time_name\n",
    "    if cbar_label:\n",
    "        cbar_kwargs = {\n",
    "            'label' : cbar_label\n",
    "        }\n",
    "    else:\n",
    "        cbar_kwargs = {}\n",
    "    sns.heatmap(df, ax=ax, cbar_kws=cbar_kwargs, cmap='viridis')\n",
    "    return fig, ax"
   ]
  },
  {
   "cell_type": "code",
   "execution_count": 28,
   "id": "fbf83934",
   "metadata": {},
   "outputs": [],
   "source": [
    "def despine(ax):\n",
    "    ax.spines['top'].set_visible(False)\n",
    "    ax.spines['right'].set_visible(False)\n",
    "    ax.spines['bottom'].set_visible(False)\n",
    "    ax.spines['left'].set_visible(False)"
   ]
  },
  {
   "cell_type": "code",
   "execution_count": 29,
   "id": "3449dbbf",
   "metadata": {},
   "outputs": [
    {
     "data": {
      "image/png": "[encoded data removed]",
      "text/plain": [
       "<Figure size 504x288 with 6 Axes>"
      ]
     },
     "metadata": {
      "needs_background": "light"
     },
     "output_type": "display_data"
    }
   ],
   "source": [
    "eps = 0.08\n",
    "fig, axs = plt.subplots(2, 2, sharey=False, sharex='col', figsize=(7, 4),\n",
    "    gridspec_kw = {'width_ratios' : [1.0 - eps, 1.0 + eps], 'wspace' : 0.3}\n",
    "                       )\n",
    "\n",
    "# Upper row, individual values\n",
    "log_svs = np.log(svs['backbone.conv0.lin.weight'])\n",
    "log_svs_norm = np.log(svs_norm['backbone.conv0.lin.weight'])\n",
    "\n",
    "vmin, vmax = max(-5, min(log_svs.min(), log_svs_norm.min())), max(log_svs.max(), log_svs_norm.max())\n",
    "\n",
    "axs[0, 0].imshow(log_svs[:-1].T, cmap='viridis', vmin=vmin, vmax=vmax, aspect='auto', interpolation='none')\n",
    "#despine(axs[0, 0])\n",
    "im = axs[0, 1].imshow(log_svs_norm[:-1].T, cmap='viridis', vmin=vmin, vmax=vmax, aspect='auto', interpolation='none')\n",
    "#despine(axs[0, 1])\n",
    "cbar = fig.colorbar(im, ax=axs[0, 1], drawedges=False)\n",
    "cbar.set_label('Log Magnitude', labelpad=14)\n",
    "cbar.outline.set_visible(False)\n",
    "cbar.solids.set_edgecolor(\"face\")\n",
    "\n",
    "#sns.heatmap(log_svs.T, ax=axs[0, 0], cmap='viridis', vmin=vmin, vmax=vmax, cbar=False, linewidths=0)\n",
    "#sns.heatmap(log_svs_norm.T, ax=axs[0, 1], cmap='viridis', vmin=vmin, vmax=vmax, cbar_kws={'label' : 'Log Magnitude'}, linewidths=0)\n",
    "axs[0, 0].set_ylabel('Singular Value\\nIndex')\n",
    "\n",
    "# Lower row, histogram of values\n",
    "\n",
    "\n",
    "viridis = cm.get_cmap('viridis', 256)\n",
    "newcolors = viridis(np.linspace(0, 1, 256))\n",
    "newcolors[:1, :-1] = [1, 0, 1]\n",
    "newcmp = ListedColormap(newcolors)\n",
    "\n",
    "\n",
    "num_bins = 20\n",
    "sv_count = counts(svs['backbone.conv0.lin.weight'], num_bins=num_bins)\n",
    "sv_count_norm = counts(svs_norm['backbone.conv0.lin.weight'], num_bins=num_bins)\n",
    "bins_count, bins_count_norm = sv_count.index.to_numpy(), sv_count_norm.index.to_numpy()\n",
    "\n",
    "vmin, vmax = min(sv_count.to_numpy().min(), sv_count_norm.to_numpy().min()), max(sv_count.to_numpy().max(), sv_count_norm.to_numpy().max())\n",
    "\n",
    "# Hacky way to get a nicer cbar\n",
    "newcolors_2 = newcolors.copy()\n",
    "newcolors_2[:10, :-1] = [1, 0, 1] # More space for the purple\n",
    "im_cbar = axs[1, 1].imshow(np.zeros_like(sv_count), cmap=ListedColormap(newcolors_2), aspect='auto', vmin=vmin, vmax=vmax, interpolation='none')\n",
    "\n",
    "\n",
    "axs[1, 0].imshow(sv_count.to_numpy()[:, :-1], cmap=newcmp, aspect='auto', vmin=vmin, vmax=vmax, interpolation='none')\n",
    "#despine(axs[1, 0])\n",
    "im = axs[1, 1].imshow(sv_count_norm.to_numpy()[:, :-1], cmap=newcmp, aspect='auto', vmin=vmin, vmax=vmax, interpolation='none')\n",
    "#despine(axs[1, 1])\n",
    "cbar = fig.colorbar(im_cbar, ax=axs[1, 1], drawedges=False)\n",
    "cbar.set_label('Count', labelpad=14)\n",
    "cbar.outline.set_visible(False)\n",
    "cbar.solids.set_edgecolor(\"face\")\n",
    "\n",
    "\n",
    "#sns.heatmap(sv_count, ax=axs[1, 0], cmap=newcmp, cbar=False, xticklabels=250, linewidths=0)\n",
    "#sns.heatmap(sv_count_norm, ax=axs[1, 1], cmap=newcmp, cbar_kws={'label' : 'Count'}, xticklabels=100, linewidths=0)\n",
    "\n",
    "yticks = list(range(0, num_bins, 5))\n",
    "axs[1, 0].set_yticks(yticks)\n",
    "axs[1, 0].set_yticklabels(bins_count[yticks].round(1))\n",
    "axs[1, 1].set_yticks(yticks)\n",
    "axs[1, 1].set_yticklabels(bins_count_norm[yticks].round(1))\n",
    "\n",
    "axs[1, 0].set_xlabel('Epoch')\n",
    "axs[1, 0].set_ylabel('Singular Value\\nMagnitude')\n",
    "\n",
    "axs[1, 1].set_xlabel('Epoch')\n",
    "\n",
    "axs[0, 0].set_title('Vanilla GCN', fontsize=10)\n",
    "axs[0, 1].set_title('GCN + Spectral Norm.', fontsize=10)\n",
    "\n",
    "\n",
    "#plot_heatmap2d(axs[0, 0], svs['backbone.conv0.lin.weight'], value_name='Singular Value Index', time_name='Epoch', time_interval=1, \n",
    "#                    cbar_label='Magnitude', log_scale=True, figsize=(2.5, 2))\n",
    "#plot_heatmap2d(axs[0, 1], svs_norm['backbone.conv0.lin.weight'], value_name='Singular Value Index', time_name='Epoch', time_interval=1, \n",
    "#                    cbar_label='Magnitude', log_scale=True, figsize=(2.5, 2))\n",
    "\n",
    "fig.savefig(f'thesis_nbs/spectral_structure_{dataset}.pdf', bbox_inches='tight')"
   ]
  },
  {
   "cell_type": "code",
   "execution_count": 45,
   "id": "9ed76ab5",
   "metadata": {},
   "outputs": [
    {
     "data": {
      "text/plain": [
       "'amazon_photo'"
      ]
     },
     "execution_count": 45,
     "metadata": {},
     "output_type": "execute_result"
    }
   ],
   "source": [
    "dataset"
   ]
  },
  {
   "cell_type": "markdown",
   "id": "edbc1d77",
   "metadata": {},
   "source": [
    "# Correlating input features"
   ]
  },
  {
   "cell_type": "code",
   "execution_count": 31,
   "id": "a997f6bf",
   "metadata": {},
   "outputs": [],
   "source": [
    "idx_to_features = {v : k for k, v in data_loaders[dconst.OOD_VAL].dataset[0].feature_to_idx.items()}\n",
    "idx_to_features = np.array([idx_to_features[i] for i in range(len(idx_to_features))])\n"
   ]
  },
  {
   "cell_type": "code",
   "execution_count": 32,
   "id": "7e6cb3db",
   "metadata": {},
   "outputs": [],
   "source": [
    "svecs = svd_callback._buffer['backbone.conv0.lin.weight'][-2][2]\n",
    "svecs_norm = svd_callback_norm._buffer['backbone.conv0.lin.weight'][-2][2]"
   ]
  },
  {
   "cell_type": "code",
   "execution_count": null,
   "id": "ed5daf7a",
   "metadata": {},
   "outputs": [],
   "source": []
  },
  {
   "cell_type": "code",
   "execution_count": null,
   "id": "fb746049",
   "metadata": {},
   "outputs": [],
   "source": []
  },
  {
   "cell_type": "code",
   "execution_count": 33,
   "id": "f5c9da2b",
   "metadata": {},
   "outputs": [
    {
     "name": "stdout",
     "output_type": "stream",
     "text": [
      "$1$st & \\makecell{\\texttt{feature_244}, \\texttt{feature_483}, \\texttt{feature_675},\\\\ \\texttt{feature_690}, \\texttt{feature_625}} & \\makecell{\\texttt{feature_416}, \\texttt{feature_625}, \\texttt{feature_723},\\\\ \\texttt{feature_566}, \\texttt{feature_491}} \\\\ \\hline\n",
      "$2$nd & \\makecell{\\texttt{feature_351}, \\texttt{feature_416}, \\texttt{feature_744},\\\\ \\texttt{feature_353}, \\texttt{feature_569}} & \\makecell{\\texttt{feature_402}, \\texttt{feature_475}, \\texttt{feature_535},\\\\ \\texttt{feature_293}, \\texttt{feature_547}} \\\\ \\hline\n",
      "$3$rd & \\makecell{\\texttt{feature_403}, \\texttt{feature_675}, \\texttt{feature_288},\\\\ \\texttt{feature_366}, \\texttt{feature_40}} & \\makecell{\\texttt{feature_569}, \\texttt{feature_629}, \\texttt{feature_471},\\\\ \\texttt{feature_42}, \\texttt{feature_571}} \\\\ \\hline\n",
      "$4$th & \\makecell{\\texttt{feature_239}, \\texttt{feature_703}, \\texttt{feature_515},\\\\ \\texttt{feature_94}, \\texttt{feature_55}} & \\makecell{\\texttt{feature_416}, \\texttt{feature_203}, \\texttt{feature_198},\\\\ \\texttt{feature_281}, \\texttt{feature_625}} \\\\ \\hline\n",
      "$5$th & \\makecell{\\texttt{feature_566}, \\texttt{feature_169}, \\texttt{feature_239},\\\\ \\texttt{feature_463}, \\texttt{feature_387}} & \\makecell{\\texttt{feature_675}, \\texttt{feature_547}, \\texttt{feature_607},\\\\ \\texttt{feature_349}, \\texttt{feature_145}} \\\\ \\hline\n"
     ]
    }
   ],
   "source": [
    "for idx, num in enumerate([\n",
    "    '$1$st',\n",
    "    '$2$nd',\n",
    "    '$3$rd',\n",
    "    '$4$th',\n",
    "    '$5$th',\n",
    "]):\n",
    "    words = ['\\\\texttt{' + w + '}' for w in idx_to_features[(-np.abs(svecs[:10])).argsort(axis=1)[:, :5]][idx]]\n",
    "    words_norm = ['\\\\texttt{' + w + '}' for w in idx_to_features[(-np.abs(svecs_norm[:10])).argsort(axis=1)[:, :5]][idx]]\n",
    "    \n",
    "    words = ', '.join(words[:3]) + ',\\\\\\\\ ' + ', '.join(words[3:])\n",
    "    words_norm = ', '.join(words_norm[:3]) + ',\\\\\\\\ ' + ', '.join(words_norm[3:])\n",
    "    \n",
    "    \n",
    "    print(f'{num} & \\\\makecell' + '{' + f'{words}' + '} & \\\\makecell{' + f'{words_norm}' + '} \\\\\\\\ \\hline')\n",
    "    "
   ]
  },
  {
   "cell_type": "code",
   "execution_count": 34,
   "id": "738e0414",
   "metadata": {},
   "outputs": [
    {
     "data": {
      "text/plain": [
       "array([['feature_416', 'feature_625', 'feature_723', 'feature_566',\n",
       "        'feature_491'],\n",
       "       ['feature_402', 'feature_475', 'feature_535', 'feature_293',\n",
       "        'feature_547'],\n",
       "       ['feature_569', 'feature_629', 'feature_471', 'feature_42',\n",
       "        'feature_571'],\n",
       "       ['feature_416', 'feature_203', 'feature_198', 'feature_281',\n",
       "        'feature_625'],\n",
       "       ['feature_675', 'feature_547', 'feature_607', 'feature_349',\n",
       "        'feature_145'],\n",
       "       ['feature_90', 'feature_89', 'feature_57', 'feature_403',\n",
       "        'feature_626'],\n",
       "       ['feature_132', 'feature_125', 'feature_673', 'feature_387',\n",
       "        'feature_220'],\n",
       "       ['feature_729', 'feature_573', 'feature_510', 'feature_640',\n",
       "        'feature_537'],\n",
       "       ['feature_387', 'feature_678', 'feature_400', 'feature_108',\n",
       "        'feature_180'],\n",
       "       ['feature_108', 'feature_55', 'feature_581', 'feature_65',\n",
       "        'feature_578']], dtype='<U11')"
      ]
     },
     "execution_count": 34,
     "metadata": {},
     "output_type": "execute_result"
    }
   ],
   "source": [
    "idx_to_features[(-np.abs(svecs_norm[:10])).argsort(axis=1)[:, :5]]"
   ]
  },
  {
   "cell_type": "code",
   "execution_count": 35,
   "id": "bc0c6e40",
   "metadata": {},
   "outputs": [
    {
     "data": {
      "text/plain": [
       "(64, 745)"
      ]
     },
     "execution_count": 35,
     "metadata": {},
     "output_type": "execute_result"
    }
   ],
   "source": [
    "svd_callback_norm._buffer['backbone.conv0.lin.weight'][-1][2].shape"
   ]
  },
  {
   "cell_type": "markdown",
   "id": "66294f29",
   "metadata": {},
   "source": [
    "## Visualize activations"
   ]
  },
  {
   "cell_type": "code",
   "execution_count": 36,
   "id": "c025049c",
   "metadata": {},
   "outputs": [],
   "source": [
    "from data.transform import PerturbationTransform\n",
    "\n",
    "data_ood = PerturbationTransform(noise_type='bernoulli', p=.5)(data_dict[dconst.OOD_VAL][0])\n",
    "data_ood.is_out_of_distribution.sum()\n",
    "\n",
    "x_ood = data_ood.x[data_ood.is_out_of_distribution]\n",
    "x_id = data_ood.x[~data_ood.is_out_of_distribution]\n"
   ]
  },
  {
   "cell_type": "code",
   "execution_count": 37,
   "id": "bf8888d8",
   "metadata": {},
   "outputs": [
    {
     "data": {
      "text/plain": [
       "(torch.Size([6741, 64]), torch.Size([746, 64]))"
      ]
     },
     "execution_count": 37,
     "metadata": {},
     "output_type": "execute_result"
    }
   ],
   "source": [
    "proj_id = (x_id @ svecs.T)\n",
    "proj_ood = (x_ood @ svecs.T)\n",
    "\n",
    "proj_id_norm = (x_id @ svecs_norm.T)\n",
    "proj_ood_norm = (x_ood @ svecs_norm.T)\n",
    "\n",
    "proj_id.size(), proj_ood.size()"
   ]
  },
  {
   "cell_type": "code",
   "execution_count": 38,
   "id": "8d10215d",
   "metadata": {},
   "outputs": [],
   "source": [
    "def colorbar(mappable, label=None):\n",
    "    from mpl_toolkits.axes_grid1 import make_axes_locatable\n",
    "    import matplotlib.pyplot as plt\n",
    "    last_axes = plt.gca()\n",
    "    ax = mappable.axes\n",
    "    fig = ax.figure\n",
    "    divider = make_axes_locatable(ax)\n",
    "    cax = divider.append_axes(\"right\", size=\"5%\", pad=0.05)\n",
    "    cbar = fig.colorbar(mappable, cax=cax)\n",
    "    plt.sca(last_axes)\n",
    "    if label:\n",
    "        cbar.set_label(label, rotation=270, labelpad=10)\n",
    "    cbar.outline.set_visible(False)\n",
    "    cbar.solids.set_edgecolor(\"face\")\n",
    "    return cbar\n"
   ]
  },
  {
   "cell_type": "code",
   "execution_count": 39,
   "id": "713ed874",
   "metadata": {},
   "outputs": [
    {
     "data": {
      "text/plain": [
       "(array([1.52800e+03, 1.24100e+03, 1.42400e+03, 1.52500e+03, 2.21000e+03,\n",
       "        1.19690e+04, 3.45809e+05, 6.31010e+04, 2.59800e+03, 1.90000e+01]),\n",
       " array([-0.8443862 , -0.718152  , -0.59191775, -0.4656835 , -0.33944926,\n",
       "        -0.21321501, -0.08698077,  0.03925348,  0.16548772,  0.29172197,\n",
       "         0.4179562 ], dtype=float32),\n",
       " <BarContainer object of 10 artists>)"
      ]
     },
     "execution_count": 39,
     "metadata": {},
     "output_type": "execute_result"
    },
    {
     "data": {
      "image/png": "[encoded data removed]",
      "text/plain": [
       "<Figure size 432x288 with 1 Axes>"
      ]
     },
     "metadata": {
      "needs_background": "light"
     },
     "output_type": "display_data"
    }
   ],
   "source": [
    "plt.hist(proj_id.numpy().flatten())"
   ]
  },
  {
   "cell_type": "code",
   "execution_count": 40,
   "id": "91d06266",
   "metadata": {},
   "outputs": [
    {
     "data": {
      "image/png": "[encoded data removed]",
      "text/plain": [
       "<Figure size 432x252 with 12 Axes>"
      ]
     },
     "metadata": {
      "needs_background": "light"
     },
     "output_type": "display_data"
    }
   ],
   "source": [
    "fig, axs = plt.subplots(3, 2, figsize=(6, 3.5), sharex=True, sharey=True, gridspec_kw = {\n",
    "    'height_ratios' : [1, 1, 0.35], 'wspace' : 0.3, 'hspace' : .2\n",
    "})\n",
    "\n",
    "\n",
    "vmax = max(np.abs(proj_id).max(), np.abs(proj_ood).max())\n",
    "vmin = -vmax\n",
    "\n",
    "vmax_norm = max(np.abs(proj_id_norm).max(), np.abs(proj_ood_norm).max())\n",
    "vmin_norm = -vmax_norm\n",
    "\n",
    "# Upper row, id instances\n",
    "im = axs[0, 0].imshow((proj_id.numpy()), aspect='auto', vmin=vmin, vmax=vmax, cmap='PiYG', interpolation='none')\n",
    "# cbar = fig.colorbar(im, cax=axs[0, 1], ax=axs[0, 0], drawedges=False)\n",
    "cbar = colorbar(im)# , label='Activation')\n",
    "\n",
    "im = axs[0, 1].imshow((proj_id_norm.numpy()), aspect='auto', vmin=vmin_norm, vmax=vmax_norm, cmap='PiYG', interpolation='none')\n",
    "cbar = colorbar(im, label='Activation')\n",
    "\n",
    "# Lower row, ood instances\n",
    "im = axs[1, 0].imshow((proj_ood.numpy()), aspect='auto', vmin=vmin, vmax=vmax, cmap='PiYG', interpolation='none')\n",
    "cbar = colorbar(im) #, label='Activation')\n",
    "im = axs[1, 1].imshow((proj_ood_norm.numpy()), aspect='auto', vmin=vmin_norm, vmax=vmax_norm, cmap='PiYG', interpolation='none')\n",
    "cbar = colorbar(im, label='Activation')\n",
    "\n",
    "# Spectrum\n",
    "\n",
    "#vmin, vmax = min(log_svs[-1].min(), log_svs_norm[-1].min()), max(log_svs[-1].max(), log_svs_norm[-1].max())\n",
    "\n",
    "axs[2, 0].set_ylim(0.0, .5)\n",
    "im = axs[2, 0].imshow(np.log(svs['backbone.conv0.lin.weight'][-2]).reshape((1, -1)), aspect='auto', interpolation='none') #, vmin=vmin, vmax=vmax)\n",
    "# remove_ticks(axs[2, 0])\n",
    "#despine(axs[2, 0])\n",
    "axs[2, 0].tick_params(axis='y', labelleft=False, left=False)\n",
    "cbar = colorbar(im, label='')\n",
    "# cbar.remove()\n",
    "\n",
    "\n",
    "axs[2, 1].set_ylim(0.0, .5)\n",
    "im = axs[2, 1].imshow(np.log(svs_norm['backbone.conv0.lin.weight'][-2]).reshape((1, -1)), aspect='auto', interpolation='none') #, vmin=vmin, vmax=vmax)\n",
    "axs[2, 1].tick_params(axis='y', labelleft=False, left=False)\n",
    "cbar = colorbar(im, label='Log\\nMagnitude')\n",
    "cbar.set_label('Log\\nMagnitude', labelpad=29)\n",
    "# cbar.remove()\n",
    "\n",
    "for ax in axs.flatten():\n",
    "    # despine(ax)\n",
    "    ax.tick_params(axis='y', labelleft=False, left=False)\n",
    "    \n",
    "axs[0, 0].set_ylabel('In Distr.\\nInstances')\n",
    "axs[1, 0].set_ylabel('Out of Distr.\\nInstances')\n",
    "axs[2, 0].set_xlabel('Singular Value Index')\n",
    "axs[2, 1].set_xlabel('Singular Value Index')\n",
    "axs[0, 0].set_title('Vanilla GCN', fontsize=10)\n",
    "axs[0, 1].set_title('GCN + Spectral Norm.', fontsize=10)\n",
    "#axs[2, 0].set_title('Singular Value Log Magnitude', fontsize=10)\n",
    "#axs[2, 1].set_title('Singular Value Log Magnitude', fontsize=10)\n",
    "\n",
    "fig.savefig(f'thesis_nbs/spectral_activation_{dataset}.pdf', bbox_inches='tight')"
   ]
  },
  {
   "cell_type": "code",
   "execution_count": 41,
   "id": "1f3cbed1",
   "metadata": {},
   "outputs": [
    {
     "data": {
      "text/plain": [
       "tensor([[-0.2372, -0.4549, -0.2071,  ...,  0.0103, -0.0602,  0.0294],\n",
       "        [-0.1739, -0.4779, -0.2023,  ...,  0.0130, -0.0446, -0.0432],\n",
       "        [-0.1971, -0.4545, -0.2552,  ..., -0.0042, -0.0239,  0.0271],\n",
       "        ...,\n",
       "        [-0.1513, -0.4590, -0.2364,  ...,  0.0216,  0.0135, -0.0016],\n",
       "        [-0.2078, -0.4663, -0.2478,  ..., -0.0079,  0.0210,  0.0427],\n",
       "        [-0.2050, -0.4077, -0.2699,  ...,  0.0464, -0.0047, -0.0222]])"
      ]
     },
     "execution_count": 41,
     "metadata": {},
     "output_type": "execute_result"
    }
   ],
   "source": [
    "proj_ood_norm"
   ]
  },
  {
   "cell_type": "code",
   "execution_count": 42,
   "id": "9706b336",
   "metadata": {},
   "outputs": [
    {
     "data": {
      "text/plain": [
       "(array([206.76422 , 204.00658 , 198.4637  , 196.00606 , 178.68895 ,\n",
       "        177.16895 , 172.30688 , 163.61528 , 160.63264 , 158.5446  ,\n",
       "        156.36229 , 155.23352 , 152.47124 , 151.41049 , 150.72792 ,\n",
       "        149.55418 , 147.45473 , 146.68448 , 144.95068 , 143.34906 ,\n",
       "        141.68797 , 140.8939  , 139.80183 , 138.75339 , 137.99059 ,\n",
       "        135.96341 , 134.57791 , 133.3576  , 133.14662 , 131.98012 ,\n",
       "        131.356   , 129.99199 , 129.63963 , 128.09927 , 126.64549 ,\n",
       "        125.552666, 124.588   , 121.935   , 121.2125  , 120.07977 ,\n",
       "        118.754135, 117.61177 , 115.726715, 115.131386, 114.75048 ,\n",
       "        112.75966 , 112.484726, 112.39584 , 109.93639 , 109.2501  ,\n",
       "        106.248   , 105.056335, 104.53087 , 102.78874 , 101.53673 ,\n",
       "        100.20054 ,  98.93713 ,  98.211105,  96.16154 ,  92.72939 ,\n",
       "         90.64734 ,  88.99543 ,  88.37083 ,  85.07843 ], dtype=float32),\n",
       " array([9.42558861e+00, 8.43988037e+00, 7.91220140e+00, 6.77355957e+00,\n",
       "        6.41593599e+00, 5.67698002e+00, 3.17919493e+00, 8.26514661e-01,\n",
       "        1.47886083e-01, 1.32984340e-01, 1.21485502e-01, 1.10753581e-01,\n",
       "        1.09365143e-01, 1.03025235e-01, 8.68902355e-02, 7.98124224e-02,\n",
       "        7.84056634e-02, 7.53044710e-02, 7.21930191e-02, 6.60790354e-02,\n",
       "        6.15821779e-02, 6.00572564e-02, 5.74753322e-02, 5.08917533e-02,\n",
       "        4.91723344e-02, 4.71076481e-02, 4.51658256e-02, 4.32188548e-02,\n",
       "        4.17115055e-02, 3.95136587e-02, 3.61737348e-02, 3.57347578e-02,\n",
       "        3.36335152e-02, 3.14714238e-02, 3.13518122e-02, 3.08673047e-02,\n",
       "        2.91315075e-02, 2.68236957e-02, 2.61117071e-02, 2.53181458e-02,\n",
       "        2.44431831e-02, 2.41904799e-02, 2.29317583e-02, 2.19908953e-02,\n",
       "        2.05711145e-02, 2.00454462e-02, 1.95314717e-02, 1.80695932e-02,\n",
       "        1.80327613e-02, 1.60864703e-02, 1.51573205e-02, 1.50178503e-02,\n",
       "        1.43796382e-02, 1.41644366e-02, 1.34276282e-02, 1.17332395e-02,\n",
       "        1.10427532e-02, 1.08686825e-02, 8.96546431e-03, 7.33762747e-03,\n",
       "        6.86441641e-03, 4.90557811e-12, 2.37954123e-12, 3.50014139e-14],\n",
       "       dtype=float32))"
      ]
     },
     "execution_count": 42,
     "metadata": {},
     "output_type": "execute_result"
    }
   ],
   "source": [
    "svs_norm['backbone.conv0.lin.weight'][-2], svs['backbone.conv0.lin.weight'][-1]\n"
   ]
  },
  {
   "cell_type": "code",
   "execution_count": 43,
   "id": "3b24c880",
   "metadata": {},
   "outputs": [],
   "source": [
    "u, s, v = np.linalg.svd(model_norm.backbone.convs[0].conv.lin.linear.weight.detach().cpu().numpy(), full_matrices=False)"
   ]
  },
  {
   "cell_type": "code",
   "execution_count": 44,
   "id": "b79ddd5e",
   "metadata": {},
   "outputs": [
    {
     "data": {
      "text/plain": [
       "array([206.54657 , 203.79182 , 198.25479 , 195.79973 , 178.50085 ,\n",
       "       176.98245 , 172.1255  , 163.44304 , 160.46355 , 158.3777  ,\n",
       "       156.1977  , 155.07011 , 152.31073 , 151.25111 , 150.56924 ,\n",
       "       149.39674 , 147.2995  , 146.53008 , 144.7981  , 143.19817 ,\n",
       "       141.53883 , 140.74559 , 139.65466 , 138.60732 , 137.84532 ,\n",
       "       135.82028 , 134.43625 , 133.21722 , 133.00645 , 131.84119 ,\n",
       "       131.21773 , 129.85515 , 129.50317 , 127.96443 , 126.51218 ,\n",
       "       125.4205  , 124.45685 , 121.80664 , 121.08491 , 119.95337 ,\n",
       "       118.62913 , 117.48797 , 115.60489 , 115.010185, 114.629684,\n",
       "       112.64096 , 112.36632 , 112.27753 , 109.82066 , 109.13509 ,\n",
       "       106.13616 , 104.94575 , 104.42083 , 102.68054 , 101.42985 ,\n",
       "       100.09506 ,  98.83299 ,  98.10773 ,  96.06031 ,  92.63178 ,\n",
       "        90.55192 ,  88.90175 ,  88.2778  ,  84.98887 ], dtype=float32)"
      ]
     },
     "execution_count": 44,
     "metadata": {},
     "output_type": "execute_result"
    }
   ],
   "source": [
    "s"
   ]
  },
  {
   "cell_type": "code",
   "execution_count": null,
   "id": "852234ef",
   "metadata": {},
   "outputs": [],
   "source": []
  },
  {
   "cell_type": "code",
   "execution_count": null,
   "id": "50335bc0",
   "metadata": {},
   "outputs": [],
   "source": []
  },
  {
   "cell_type": "code",
   "execution_count": null,
   "id": "5a90e5c3",
   "metadata": {},
   "outputs": [],
   "source": []
  }
 ],
 "metadata": {
  "kernelspec": {
   "display_name": "Python 3",
   "language": "python",
   "name": "python3"
  },
  "language_info": {
   "codemirror_mode": {
    "name": "ipython",
    "version": 3
   },
   "file_extension": ".py",
   "mimetype": "text/x-python",
   "name": "python",
   "nbconvert_exporter": "python",
   "pygments_lexer": "ipython3",
   "version": "3.9.5"
  }
 },
 "nbformat": 4,
 "nbformat_minor": 5
}
