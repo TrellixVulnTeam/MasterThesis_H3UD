{
 "cells": [
  {
   "cell_type": "code",
   "execution_count": 1,
   "id": "faae246e",
   "metadata": {},
   "outputs": [],
   "source": [
    "import matplotlib.pyplot as plt\n",
    "import numpy as np\n",
    "import seml\n",
    "import pandas as pd\n",
    "import json\n",
    "from collections import defaultdict, Counter\n",
    "from functools import reduce\n",
    "import seaborn as sns\n",
    "from scipy.stats import binned_statistic\n",
    "from matplotlib.lines import Line2D\n",
    "import torch"
   ]
  },
  {
   "cell_type": "code",
   "execution_count": 2,
   "id": "6a1c5f8e",
   "metadata": {},
   "outputs": [
    {
     "name": "stdout",
     "output_type": "stream",
     "text": [
      "/nfs/homedirs/fuchsgru/MastersThesis\n"
     ]
    }
   ],
   "source": [
    "%cd ../.."
   ]
  },
  {
   "cell_type": "code",
   "execution_count": 3,
   "id": "23bae72e",
   "metadata": {},
   "outputs": [],
   "source": [
    "import data.constants as dc"
   ]
  },
  {
   "cell_type": "code",
   "execution_count": 4,
   "id": "36470906",
   "metadata": {},
   "outputs": [],
   "source": [
    "weight_scales = [0.5, 0.9, 1.0, 1.1, 1.5, 2.0, 5.0, 10.0, 15.0, 20.0, 30.0, 50.0, 100.0, 125.0, 150.0, 200.0]"
   ]
  },
  {
   "cell_type": "code",
   "execution_count": 5,
   "id": "f5f773ae",
   "metadata": {},
   "outputs": [],
   "source": [
    "import configuration\n",
    "import model_registry\n",
    "import data.build\n",
    "import data.constants as dconst\n",
    "import model.constants as mconst\n",
    "from data.util import data_get_num_attributes, data_get_num_classes\n",
    "from model.semi_supervised_node_classification import SemiSupervisedNodeClassification, Ensemble\n",
    "from evaluation.util import get_data_loader, run_model_on_datasets, separate_distributions\n",
    "import evaluation.callbacks as ecbs\n",
    "from metrics import expected_calibration_error\n",
    "from plot.calibration import plot_calibration\n",
    "from data.util import label_binarize\n",
    "from model.density import get_density_model\n",
    "import seed\n",
    "from train import train_model\n",
    "from model.build import make_model"
   ]
  },
  {
   "cell_type": "code",
   "execution_count": 6,
   "id": "0eb2c773",
   "metadata": {},
   "outputs": [],
   "source": [
    "import logging as l\n",
    "\n",
    "l.basicConfig(level=l.INFO)"
   ]
  },
  {
   "cell_type": "code",
   "execution_count": 7,
   "id": "471283c0",
   "metadata": {},
   "outputs": [],
   "source": [
    "registry = model_registry.ModelRegistry()"
   ]
  },
  {
   "cell_type": "code",
   "execution_count": 8,
   "id": "a426e94a",
   "metadata": {},
   "outputs": [
    {
     "name": "stderr",
     "output_type": "stream",
     "text": [
      "INFO:root:Set configuration value data.base_labels to default ['Artificial_Intelligence/Machine_Learning/Case-Based', 'Artificial_Intelligence/Machine_Learning/Theory', 'Artificial_Intelligence/Machine_Learning/Genetic_Algorithms', 'Artificial_Intelligence/Machine_Learning/Probabilistic_Methods', 'Artificial_Intelligence/Machine_Learning/Neural_Networks', 'Artificial_Intelligence/Machine_Learning/Rule_Learning', 'Artificial_Intelligence/Machine_Learning/Reinforcement_Learning', 'Operating_Systems/Distributed', 'Operating_Systems/Memory_Management', 'Operating_Systems/Realtime', 'Operating_Systems/Fault_Tolerance']\n",
      "INFO:root:Set configuration value data.corpus_labels to default ['Artificial_Intelligence/Machine_Learning/Case-Based', 'Artificial_Intelligence/Machine_Learning/Theory', 'Artificial_Intelligence/Machine_Learning/Genetic_Algorithms', 'Artificial_Intelligence/Machine_Learning/Probabilistic_Methods', 'Artificial_Intelligence/Machine_Learning/Neural_Networks', 'Artificial_Intelligence/Machine_Learning/Rule_Learning', 'Artificial_Intelligence/Machine_Learning/Reinforcement_Learning']\n",
      "INFO:root:Set configuration value data.train_labels to default ['Artificial_Intelligence/Machine_Learning/Case-Based', 'Artificial_Intelligence/Machine_Learning/Theory', 'Artificial_Intelligence/Machine_Learning/Genetic_Algorithms', 'Artificial_Intelligence/Machine_Learning/Probabilistic_Methods', 'Artificial_Intelligence/Machine_Learning/Neural_Networks', 'Artificial_Intelligence/Machine_Learning/Rule_Learning', 'Artificial_Intelligence/Machine_Learning/Reinforcement_Learning']\n",
      "INFO:root:Set configuration value data.left_out_class_labels to default ['Operating_Systems/Distributed', 'Operating_Systems/Memory_Management', 'Operating_Systems/Realtime', 'Operating_Systems/Fault_Tolerance']\n",
      "INFO:root:Set configuration value data.preprocessing to default none\n",
      "INFO:root:Set configuration value data.ood_sampling_strategy to default all\n",
      "INFO:root:Set configuration value data.train_portion to default 20\n",
      "INFO:root:Set configuration value data.test_portion_fixed to default 0.2\n",
      "INFO:root:Set configuration value data.split_type to default uniform\n",
      "INFO:root:Set configuration value data.type to default npz\n",
      "INFO:root:Set configuration value data.drop_train_vertices_portion to default 0.1\n",
      "INFO:root:Set configuration value data.precompute_k_hop_neighbourhood to default 2\n",
      "INFO:root:Set configuration value model.hidden_sizes to default [64]\n",
      "INFO:root:Set configuration value data.base_labels to ['Artificial_Intelligence/Machine_Learning/Case-Based', 'Artificial_Intelligence/Machine_Learning/Theory', 'Artificial_Intelligence/Machine_Learning/Genetic_Algorithms', 'Artificial_Intelligence/Machine_Learning/Probabilistic_Methods', 'Artificial_Intelligence/Machine_Learning/Neural_Networks', 'Artificial_Intelligence/Machine_Learning/Rule_Learning', 'Artificial_Intelligence/Machine_Learning/Reinforcement_Learning']\n",
      "INFO:root:Set configuration value data.corpus_labels to ['Artificial_Intelligence/Machine_Learning/Case-Based', 'Artificial_Intelligence/Machine_Learning/Theory', 'Artificial_Intelligence/Machine_Learning/Genetic_Algorithms', 'Artificial_Intelligence/Machine_Learning/Probabilistic_Methods', 'Artificial_Intelligence/Machine_Learning/Neural_Networks', 'Artificial_Intelligence/Machine_Learning/Rule_Learning', 'Artificial_Intelligence/Machine_Learning/Reinforcement_Learning']\n",
      "INFO:root:Set configuration value data.left_out_class_labels to []\n"
     ]
    },
    {
     "name": "stdout",
     "output_type": "stream",
     "text": [
      "True\n"
     ]
    }
   ],
   "source": [
    "dataset = dconst.CORA_FULL\n",
    "\n",
    "spectral_norm_conf = {'model' : {\n",
    "        'use_spectral_norm' : True,\n",
    "        'residual' : True,\n",
    "        'weight_scale' : 200.0,\n",
    "    },}\n",
    "\n",
    "config = configuration.ExperimentConfiguration(\n",
    "    data={\n",
    "        'dataset' : dataset,\n",
    "        'setting' : dconst.HYBRID,\n",
    "        'ood_type' : dconst.PERTURBATION,\n",
    "    },\n",
    "    **(spectral_norm_conf),\n",
    "    run = {\n",
    "        'use_default_configuration' : True,\n",
    "    },\n",
    ")\n",
    "config.model.use_bias = True\n",
    "if config.run.use_default_configuration:\n",
    "    configuration.update_with_default_configuration(config)\n",
    "    \n",
    "print(config.run.use_default_configuration)"
   ]
  },
  {
   "cell_type": "code",
   "execution_count": 9,
   "id": "b754782c",
   "metadata": {},
   "outputs": [],
   "source": [
    "data_split_seed = seed.data_split_seeds()[config.run.split_idx]\n",
    "model_seed_generator = iter(seed.SeedIterator(seed.model_seeds()[config.run.initialization_idx]))\n",
    "model_seed = next(model_seed_generator)\n",
    "config.registry.model_seed = model_seed\n",
    "config.registry.split_seed = data_split_seed\n",
    "config.training.early_stopping.patience = 50\n",
    "config.training.early_stopping.min_delta = 0.01"
   ]
  },
  {
   "cell_type": "code",
   "execution_count": 10,
   "id": "4aed0f24",
   "metadata": {},
   "outputs": [
    {
     "name": "stderr",
     "output_type": "stream",
     "text": [
      "INFO:root:Found precomputed dataset split at /nfs/students/fuchsgru/dataset_registry/2361285485.pt\n"
     ]
    }
   ],
   "source": [
    "data_dict, fixed_vertices = data.build.load_data_from_configuration(config.data, data_split_seed)"
   ]
  },
  {
   "cell_type": "code",
   "execution_count": 11,
   "id": "c3e716bc",
   "metadata": {},
   "outputs": [
    {
     "name": "stderr",
     "output_type": "stream",
     "text": [
      "/nfs/homedirs/fuchsgru/miniconda3/lib/python3.9/site-packages/torch_geometric/deprecation.py:13: UserWarning: 'data.DataLoader' is deprecated, use 'loader.DataLoader' instead\n",
      "  warnings.warn(out)\n"
     ]
    }
   ],
   "source": [
    "from torch_geometric.data import DataLoader\n",
    "data_loaders = {\n",
    "    name : DataLoader(data, batch_size=1, shuffle=False) for name, data in data_dict.items()\n",
    "}"
   ]
  },
  {
   "cell_type": "code",
   "execution_count": 12,
   "id": "bdc69297",
   "metadata": {},
   "outputs": [
    {
     "data": {
      "text/plain": [
       "'/nfs/students/fuchsgru/model_registry/3556468068.ckpt'"
      ]
     },
     "execution_count": 12,
     "metadata": {},
     "output_type": "execute_result"
    }
   ],
   "source": [
    "registry[config]"
   ]
  },
  {
   "cell_type": "code",
   "execution_count": 13,
   "id": "d1ce069e",
   "metadata": {},
   "outputs": [],
   "source": [
    "# Find model checkpoints for all weight scales\n",
    "from copy import deepcopy\n",
    "\n",
    "weight_scale_to_path = {}\n",
    "for w in weight_scales:\n",
    "    config_w = deepcopy(config)\n",
    "    config_w.model.weight_scale = w\n",
    "    weight_scale_to_path[w] = registry[config_w]\n",
    "    "
   ]
  },
  {
   "cell_type": "code",
   "execution_count": 14,
   "id": "7c8e0925",
   "metadata": {},
   "outputs": [],
   "source": [
    "config_no_sn = deepcopy(config)\n",
    "config_no_sn.model.use_spectral_norm = False\n",
    "config_no_sn.model.weight_scale = 1.0\n",
    "config_no_sn.model.residual = False\n",
    "weight_scale_to_path[np.nan] = registry[config_no_sn]"
   ]
  },
  {
   "cell_type": "code",
   "execution_count": 15,
   "id": "700edf2a",
   "metadata": {},
   "outputs": [
    {
     "data": {
      "text/plain": [
       "'/nfs/students/fuchsgru/model_registry/463723298332759286-1650045600-1699502-1451882634.ckpt'"
      ]
     },
     "execution_count": 15,
     "metadata": {},
     "output_type": "execute_result"
    }
   ],
   "source": [
    "weight_scale_to_path[np.nan]"
   ]
  },
  {
   "cell_type": "code",
   "execution_count": 16,
   "id": "047af687",
   "metadata": {},
   "outputs": [
    {
     "data": {
      "text/plain": [
       "{0.5: '/nfs/students/fuchsgru/model_registry/499666249.ckpt',\n",
       " 0.9: '/nfs/students/fuchsgru/model_registry/3138328699.ckpt',\n",
       " 1.0: '/nfs/students/fuchsgru/model_registry/2390243716.ckpt',\n",
       " 1.1: '/nfs/students/fuchsgru/model_registry/3449236635.ckpt',\n",
       " 1.5: '/nfs/students/fuchsgru/model_registry/3287463577.ckpt',\n",
       " 2.0: '/nfs/students/fuchsgru/model_registry/2688770595.ckpt',\n",
       " 5.0: '/nfs/students/fuchsgru/model_registry/1119208936.ckpt',\n",
       " 10.0: '/nfs/students/fuchsgru/model_registry/3110587511.ckpt',\n",
       " 15.0: '/nfs/students/fuchsgru/model_registry/3344602273.ckpt',\n",
       " 20.0: '/nfs/students/fuchsgru/model_registry/92374506.ckpt',\n",
       " 30.0: '/nfs/students/fuchsgru/model_registry/1708154259.ckpt',\n",
       " 50.0: '/nfs/students/fuchsgru/model_registry/47177914.ckpt',\n",
       " 100.0: '/nfs/students/fuchsgru/model_registry/2763998846.ckpt',\n",
       " 125.0: '/nfs/students/fuchsgru/model_registry/5462121987510569481-1649882376-2096922-718461544.ckpt',\n",
       " 150.0: '/nfs/students/fuchsgru/model_registry/<built-in function hash>-1649881518-241675-3387505085.ckpt',\n",
       " 200.0: '/nfs/students/fuchsgru/model_registry/3556468068.ckpt',\n",
       " nan: '/nfs/students/fuchsgru/model_registry/463723298332759286-1650045600-1699502-1451882634.ckpt'}"
      ]
     },
     "execution_count": 16,
     "metadata": {},
     "output_type": "execute_result"
    }
   ],
   "source": [
    "weight_scale_to_path"
   ]
  },
  {
   "cell_type": "code",
   "execution_count": 17,
   "id": "76273ad7",
   "metadata": {},
   "outputs": [
    {
     "data": {
      "text/plain": [
       "TrainingConfiguration(max_epochs=1000, min_epochs=None, learning_rate=0.001, early_stopping=EarlyStoppingConfiguration(patience=50, mode='min', monitor='val_loss', min_delta=0.01), gpus=0, weight_decay=0.001, suppress_stdout=True, train_model=True, self_training=False, num_warmup_epochs=50, singular_value_bounding=False, singular_value_bounding_eps=0.01, orthonormal_weight_regularization_strength=0.0, orthonormal_weight_scale=1.0, finetuning=FinetuningConfiguration(max_epochs=10, min_epochs=1, enable=False, reconstruction=None, feature_reconstruction=None, reconstruction_weight=None, feature_reconstruction_weight=None), temperature_scaling=None)"
      ]
     },
     "execution_count": 17,
     "metadata": {},
     "output_type": "execute_result"
    }
   ],
   "source": [
    "config.run.use_pretrained_model = True\n",
    "\n",
    "if not torch.cuda.is_available():\n",
    "    config.training.gpus = 0\n",
    "    \n",
    "config.training"
   ]
  },
  {
   "cell_type": "code",
   "execution_count": 18,
   "id": "7fe419a0",
   "metadata": {},
   "outputs": [],
   "source": [
    "import os.path as osp\n",
    "run_artifact_dir = artifact_dir = osp.join(config.logging.artifact_dir, 'spectral-structure')"
   ]
  },
  {
   "cell_type": "code",
   "execution_count": 19,
   "id": "21d4f798",
   "metadata": {},
   "outputs": [
    {
     "name": "stderr",
     "output_type": "stream",
     "text": [
      "  0%|          | 0/17 [00:00<?, ?it/s]GPU available: False, used: False\n",
      "TPU available: False, using: 0 TPU cores\n",
      "IPU available: False, using: 0 IPUs\n",
      "INFO:root:Found pre-trained model at /nfs/students/fuchsgru/model_registry/499666249.ckpt\n",
      "INFO:root:Loading model for evaluation from /nfs/students/fuchsgru/model_registry/499666249.ckpt.\n",
      "INFO:root:<class 'model.nn.GCNConv'> disabled cache.\n",
      "INFO:root:<class 'model.nn.GCNConv'> disabled cache.\n",
      "  6%|▌         | 1/17 [00:02<00:41,  2.61s/it]"
     ]
    },
    {
     "name": "stdout",
     "output_type": "stream",
     "text": [
      "0.5 0.22857142984867096\n"
     ]
    },
    {
     "name": "stderr",
     "output_type": "stream",
     "text": [
      "GPU available: False, used: False\n",
      "TPU available: False, using: 0 TPU cores\n",
      "IPU available: False, using: 0 IPUs\n",
      "INFO:root:Found pre-trained model at /nfs/students/fuchsgru/model_registry/3138328699.ckpt\n",
      "INFO:root:Loading model for evaluation from /nfs/students/fuchsgru/model_registry/3138328699.ckpt.\n",
      "INFO:root:<class 'model.nn.GCNConv'> disabled cache.\n",
      "INFO:root:<class 'model.nn.GCNConv'> disabled cache.\n"
     ]
    },
    {
     "name": "stdout",
     "output_type": "stream",
     "text": [
      "0.9 0.7571428418159485\n"
     ]
    },
    {
     "name": "stderr",
     "output_type": "stream",
     "text": [
      " 12%|█▏        | 2/17 [00:05<00:41,  2.78s/it]GPU available: False, used: False\n",
      "TPU available: False, using: 0 TPU cores\n",
      "IPU available: False, using: 0 IPUs\n",
      "INFO:root:Found pre-trained model at /nfs/students/fuchsgru/model_registry/2390243716.ckpt\n",
      "INFO:root:Loading model for evaluation from /nfs/students/fuchsgru/model_registry/2390243716.ckpt.\n",
      "INFO:root:<class 'model.nn.GCNConv'> disabled cache.\n",
      "INFO:root:<class 'model.nn.GCNConv'> disabled cache.\n",
      " 18%|█▊        | 3/17 [00:11<01:02,  4.47s/it]"
     ]
    },
    {
     "name": "stdout",
     "output_type": "stream",
     "text": [
      "1.0 0.8214285969734192\n"
     ]
    },
    {
     "name": "stderr",
     "output_type": "stream",
     "text": [
      "GPU available: False, used: False\n",
      "TPU available: False, using: 0 TPU cores\n",
      "IPU available: False, using: 0 IPUs\n",
      "INFO:root:Found pre-trained model at /nfs/students/fuchsgru/model_registry/3449236635.ckpt\n",
      "INFO:root:Loading model for evaluation from /nfs/students/fuchsgru/model_registry/3449236635.ckpt.\n",
      "INFO:root:<class 'model.nn.GCNConv'> disabled cache.\n",
      "INFO:root:<class 'model.nn.GCNConv'> disabled cache.\n",
      " 24%|██▎       | 4/17 [00:14<00:49,  3.78s/it]"
     ]
    },
    {
     "name": "stdout",
     "output_type": "stream",
     "text": [
      "1.1 0.800000011920929\n"
     ]
    },
    {
     "name": "stderr",
     "output_type": "stream",
     "text": [
      "GPU available: False, used: False\n",
      "TPU available: False, using: 0 TPU cores\n",
      "IPU available: False, using: 0 IPUs\n",
      "INFO:root:Found pre-trained model at /nfs/students/fuchsgru/model_registry/3287463577.ckpt\n",
      "INFO:root:Loading model for evaluation from /nfs/students/fuchsgru/model_registry/3287463577.ckpt.\n",
      "INFO:root:<class 'model.nn.GCNConv'> disabled cache.\n",
      "INFO:root:<class 'model.nn.GCNConv'> disabled cache.\n"
     ]
    },
    {
     "name": "stdout",
     "output_type": "stream",
     "text": [
      "1.5 0.8357142806053162\n"
     ]
    },
    {
     "name": "stderr",
     "output_type": "stream",
     "text": [
      " 29%|██▉       | 5/17 [00:17<00:40,  3.40s/it]GPU available: False, used: False\n",
      "TPU available: False, using: 0 TPU cores\n",
      "IPU available: False, using: 0 IPUs\n",
      "INFO:root:Found pre-trained model at /nfs/students/fuchsgru/model_registry/2688770595.ckpt\n",
      "INFO:root:Loading model for evaluation from /nfs/students/fuchsgru/model_registry/2688770595.ckpt.\n",
      "INFO:root:<class 'model.nn.GCNConv'> disabled cache.\n",
      "INFO:root:<class 'model.nn.GCNConv'> disabled cache.\n"
     ]
    },
    {
     "name": "stdout",
     "output_type": "stream",
     "text": [
      "2.0 0.8285714387893677\n"
     ]
    },
    {
     "name": "stderr",
     "output_type": "stream",
     "text": [
      " 35%|███▌      | 6/17 [00:20<00:37,  3.42s/it]GPU available: False, used: False\n",
      "TPU available: False, using: 0 TPU cores\n",
      "IPU available: False, using: 0 IPUs\n",
      "INFO:root:Found pre-trained model at /nfs/students/fuchsgru/model_registry/1119208936.ckpt\n",
      "INFO:root:Loading model for evaluation from /nfs/students/fuchsgru/model_registry/1119208936.ckpt.\n",
      "INFO:root:<class 'model.nn.GCNConv'> disabled cache.\n",
      "INFO:root:<class 'model.nn.GCNConv'> disabled cache.\n",
      " 41%|████      | 7/17 [00:24<00:33,  3.36s/it]"
     ]
    },
    {
     "name": "stdout",
     "output_type": "stream",
     "text": [
      "5.0 0.8500000238418579\n"
     ]
    },
    {
     "name": "stderr",
     "output_type": "stream",
     "text": [
      "GPU available: False, used: False\n",
      "TPU available: False, using: 0 TPU cores\n",
      "IPU available: False, using: 0 IPUs\n",
      "INFO:root:Found pre-trained model at /nfs/students/fuchsgru/model_registry/3110587511.ckpt\n",
      "INFO:root:Loading model for evaluation from /nfs/students/fuchsgru/model_registry/3110587511.ckpt.\n",
      "INFO:root:<class 'model.nn.GCNConv'> disabled cache.\n",
      "INFO:root:<class 'model.nn.GCNConv'> disabled cache.\n",
      " 47%|████▋     | 8/17 [00:27<00:29,  3.31s/it]"
     ]
    },
    {
     "name": "stdout",
     "output_type": "stream",
     "text": [
      "10.0 0.8357142806053162\n"
     ]
    },
    {
     "name": "stderr",
     "output_type": "stream",
     "text": [
      "GPU available: False, used: False\n",
      "TPU available: False, using: 0 TPU cores\n",
      "IPU available: False, using: 0 IPUs\n",
      "INFO:root:Found pre-trained model at /nfs/students/fuchsgru/model_registry/3344602273.ckpt\n",
      "INFO:root:Loading model for evaluation from /nfs/students/fuchsgru/model_registry/3344602273.ckpt.\n",
      "INFO:root:<class 'model.nn.GCNConv'> disabled cache.\n",
      "INFO:root:<class 'model.nn.GCNConv'> disabled cache.\n",
      " 53%|█████▎    | 9/17 [00:29<00:24,  3.06s/it]"
     ]
    },
    {
     "name": "stdout",
     "output_type": "stream",
     "text": [
      "15.0 0.8357142806053162\n"
     ]
    },
    {
     "name": "stderr",
     "output_type": "stream",
     "text": [
      "GPU available: False, used: False\n",
      "TPU available: False, using: 0 TPU cores\n",
      "IPU available: False, using: 0 IPUs\n",
      "INFO:root:Found pre-trained model at /nfs/students/fuchsgru/model_registry/92374506.ckpt\n",
      "INFO:root:Loading model for evaluation from /nfs/students/fuchsgru/model_registry/92374506.ckpt.\n",
      "INFO:root:<class 'model.nn.GCNConv'> disabled cache.\n",
      "INFO:root:<class 'model.nn.GCNConv'> disabled cache.\n"
     ]
    },
    {
     "name": "stdout",
     "output_type": "stream",
     "text": [
      "20.0 0.8285714387893677\n"
     ]
    },
    {
     "name": "stderr",
     "output_type": "stream",
     "text": [
      " 59%|█████▉    | 10/17 [00:33<00:22,  3.18s/it]GPU available: False, used: False\n",
      "TPU available: False, using: 0 TPU cores\n",
      "IPU available: False, using: 0 IPUs\n",
      "INFO:root:Found pre-trained model at /nfs/students/fuchsgru/model_registry/1708154259.ckpt\n",
      "INFO:root:Loading model for evaluation from /nfs/students/fuchsgru/model_registry/1708154259.ckpt.\n",
      "INFO:root:<class 'model.nn.GCNConv'> disabled cache.\n",
      "INFO:root:<class 'model.nn.GCNConv'> disabled cache.\n"
     ]
    },
    {
     "name": "stdout",
     "output_type": "stream",
     "text": [
      "30.0 0.8214285969734192\n"
     ]
    },
    {
     "name": "stderr",
     "output_type": "stream",
     "text": [
      " 65%|██████▍   | 11/17 [00:36<00:19,  3.31s/it]GPU available: False, used: False\n",
      "TPU available: False, using: 0 TPU cores\n",
      "IPU available: False, using: 0 IPUs\n",
      "INFO:root:Found pre-trained model at /nfs/students/fuchsgru/model_registry/47177914.ckpt\n",
      "INFO:root:Loading model for evaluation from /nfs/students/fuchsgru/model_registry/47177914.ckpt.\n",
      "INFO:root:<class 'model.nn.GCNConv'> disabled cache.\n",
      "INFO:root:<class 'model.nn.GCNConv'> disabled cache.\n"
     ]
    },
    {
     "name": "stdout",
     "output_type": "stream",
     "text": [
      "50.0 0.8142856955528259\n"
     ]
    },
    {
     "name": "stderr",
     "output_type": "stream",
     "text": [
      " 71%|███████   | 12/17 [00:40<00:16,  3.39s/it]GPU available: False, used: False\n",
      "TPU available: False, using: 0 TPU cores\n",
      "IPU available: False, using: 0 IPUs\n",
      "INFO:root:Found pre-trained model at /nfs/students/fuchsgru/model_registry/2763998846.ckpt\n",
      "INFO:root:Loading model for evaluation from /nfs/students/fuchsgru/model_registry/2763998846.ckpt.\n",
      "INFO:root:<class 'model.nn.GCNConv'> disabled cache.\n",
      "INFO:root:<class 'model.nn.GCNConv'> disabled cache.\n"
     ]
    },
    {
     "name": "stdout",
     "output_type": "stream",
     "text": [
      "100.0 0.8214285969734192\n"
     ]
    },
    {
     "name": "stderr",
     "output_type": "stream",
     "text": [
      " 76%|███████▋  | 13/17 [00:43<00:12,  3.14s/it]GPU available: False, used: False\n",
      "TPU available: False, using: 0 TPU cores\n",
      "IPU available: False, using: 0 IPUs\n",
      "INFO:root:Found pre-trained model at /nfs/students/fuchsgru/model_registry/5462121987510569481-1649882376-2096922-718461544.ckpt\n",
      "INFO:root:Loading model for evaluation from /nfs/students/fuchsgru/model_registry/5462121987510569481-1649882376-2096922-718461544.ckpt.\n",
      "INFO:root:<class 'model.nn.GCNConv'> disabled cache.\n",
      "INFO:root:<class 'model.nn.GCNConv'> disabled cache.\n"
     ]
    },
    {
     "name": "stdout",
     "output_type": "stream",
     "text": [
      "125.0 0.8214285969734192\n"
     ]
    },
    {
     "name": "stderr",
     "output_type": "stream",
     "text": [
      " 82%|████████▏ | 14/17 [00:50<00:12,  4.32s/it]GPU available: False, used: False\n",
      "TPU available: False, using: 0 TPU cores\n",
      "IPU available: False, using: 0 IPUs\n",
      "INFO:root:Found pre-trained model at /nfs/students/fuchsgru/model_registry/<built-in function hash>-1649881518-241675-3387505085.ckpt\n",
      "INFO:root:Loading model for evaluation from /nfs/students/fuchsgru/model_registry/<built-in function hash>-1649881518-241675-3387505085.ckpt.\n",
      "INFO:root:<class 'model.nn.GCNConv'> disabled cache.\n",
      "INFO:root:<class 'model.nn.GCNConv'> disabled cache.\n"
     ]
    },
    {
     "name": "stdout",
     "output_type": "stream",
     "text": [
      "150.0 0.8428571224212646\n"
     ]
    },
    {
     "name": "stderr",
     "output_type": "stream",
     "text": [
      " 88%|████████▊ | 15/17 [00:56<00:10,  5.04s/it]GPU available: False, used: False\n",
      "TPU available: False, using: 0 TPU cores\n",
      "IPU available: False, using: 0 IPUs\n",
      "INFO:root:Found pre-trained model at /nfs/students/fuchsgru/model_registry/3556468068.ckpt\n",
      "INFO:root:Loading model for evaluation from /nfs/students/fuchsgru/model_registry/3556468068.ckpt.\n",
      "INFO:root:<class 'model.nn.GCNConv'> disabled cache.\n",
      "INFO:root:<class 'model.nn.GCNConv'> disabled cache.\n"
     ]
    },
    {
     "name": "stdout",
     "output_type": "stream",
     "text": [
      "200.0 0.8428571224212646\n"
     ]
    },
    {
     "name": "stderr",
     "output_type": "stream",
     "text": [
      " 94%|█████████▍| 16/17 [00:59<00:04,  4.43s/it]GPU available: False, used: False\n",
      "TPU available: False, using: 0 TPU cores\n",
      "IPU available: False, using: 0 IPUs\n",
      "INFO:root:Found pre-trained model at /nfs/students/fuchsgru/model_registry/463723298332759286-1650045600-1699502-1451882634.ckpt\n",
      "INFO:root:Loading model for evaluation from /nfs/students/fuchsgru/model_registry/463723298332759286-1650045600-1699502-1451882634.ckpt.\n",
      "INFO:root:<class 'model.nn.GCNConv'> disabled cache.\n",
      "INFO:root:<class 'model.nn.GCNConv'> disabled cache.\n",
      "100%|██████████| 17/17 [01:07<00:00,  3.97s/it]"
     ]
    },
    {
     "name": "stdout",
     "output_type": "stream",
     "text": [
      "nan 0.8428571224212646\n"
     ]
    },
    {
     "name": "stderr",
     "output_type": "stream",
     "text": [
      "\n"
     ]
    }
   ],
   "source": [
    "weight_scale_to_spectrum = {}\n",
    "\n",
    "from tqdm import tqdm\n",
    "for weight_scale, path in tqdm(weight_scale_to_path.items()):\n",
    "    \n",
    "    config_w = deepcopy(config)\n",
    "    if not np.isfinite(weight_scale):\n",
    "        config_w.model.weight_scale = 1.0\n",
    "        config_w.model.use_spectral_norm = False\n",
    "        config_w.model.residual = False\n",
    "    else:\n",
    "        config_w.model.weight_scale = weight_scale\n",
    "    \n",
    "    model = make_model(config_w, data_get_num_attributes(data_dict[dconst.TRAIN][0]), \n",
    "    data_get_num_classes(data_dict[dconst.TRAIN][0])).eval()\n",
    "    model = train_model(model, config_w, run_artifact_dir, data_loaders, logger=None).eval()\n",
    "    model.clear_and_disable_cache()\n",
    "        \n",
    "    data_val = data_dict[dconst.VAL][0]\n",
    "    with torch.no_grad():\n",
    "        acc = (model(data_val).get_predictions().argmax(1)[data_val.mask] == data_val.y[data_val.mask]).float().mean().item()\n",
    "        print(weight_scale, acc)\n",
    "        \n",
    "    weight = (model.backbone.convs[0].conv.lin.linear.weight.detach().cpu().numpy())\n",
    "    u, s, v = np.linalg.svd(weight, full_matrices=False)\n",
    "    weight_scale_to_spectrum[weight_scale] = s\n",
    "  "
   ]
  },
  {
   "cell_type": "code",
   "execution_count": 20,
   "id": "2af9937e",
   "metadata": {},
   "outputs": [
    {
     "name": "stderr",
     "output_type": "stream",
     "text": [
      "  0%|          | 0/17 [00:00<?, ?it/s]GPU available: False, used: False\n",
      "TPU available: False, using: 0 TPU cores\n",
      "IPU available: False, using: 0 IPUs\n",
      "INFO:root:Found pre-trained model at /nfs/students/fuchsgru/model_registry/499136641.ckpt\n",
      "INFO:root:Loading model for evaluation from /nfs/students/fuchsgru/model_registry/499136641.ckpt.\n",
      "INFO:root:<class 'model.nn.GCNConv'> disabled cache.\n",
      "INFO:root:<class 'model.nn.GCNConv'> disabled cache.\n",
      "  6%|▌         | 1/17 [00:06<01:46,  6.65s/it]"
     ]
    },
    {
     "name": "stdout",
     "output_type": "stream",
     "text": [
      "nan 0.8428571224212646\n"
     ]
    },
    {
     "name": "stderr",
     "output_type": "stream",
     "text": [
      "GPU available: False, used: False\n",
      "TPU available: False, using: 0 TPU cores\n",
      "IPU available: False, using: 0 IPUs\n",
      "INFO:root:Found pre-trained model at /nfs/students/fuchsgru/model_registry/3401992236.ckpt\n",
      "INFO:root:Loading model for evaluation from /nfs/students/fuchsgru/model_registry/3401992236.ckpt.\n",
      "INFO:root:<class 'model.nn.GCNConv'> disabled cache.\n",
      "INFO:root:<class 'model.nn.GCNConv'> disabled cache.\n"
     ]
    },
    {
     "name": "stdout",
     "output_type": "stream",
     "text": [
      "0.5 0.7857142686843872\n"
     ]
    },
    {
     "name": "stderr",
     "output_type": "stream",
     "text": [
      " 12%|█▏        | 2/17 [00:13<01:41,  6.73s/it]GPU available: False, used: False\n",
      "TPU available: False, using: 0 TPU cores\n",
      "IPU available: False, using: 0 IPUs\n",
      "INFO:root:Found pre-trained model at /nfs/students/fuchsgru/model_registry/2291140496.ckpt\n",
      "INFO:root:Loading model for evaluation from /nfs/students/fuchsgru/model_registry/2291140496.ckpt.\n",
      "INFO:root:<class 'model.nn.GCNConv'> disabled cache.\n",
      "INFO:root:<class 'model.nn.GCNConv'> disabled cache.\n",
      " 18%|█▊        | 3/17 [00:19<01:31,  6.56s/it]"
     ]
    },
    {
     "name": "stdout",
     "output_type": "stream",
     "text": [
      "0.9 0.8500000238418579\n"
     ]
    },
    {
     "name": "stderr",
     "output_type": "stream",
     "text": [
      "GPU available: False, used: False\n",
      "TPU available: False, using: 0 TPU cores\n",
      "IPU available: False, using: 0 IPUs\n",
      "INFO:root:Found pre-trained model at /nfs/students/fuchsgru/model_registry/1340392845.ckpt\n",
      "INFO:root:Loading model for evaluation from /nfs/students/fuchsgru/model_registry/1340392845.ckpt.\n",
      "INFO:root:<class 'model.nn.GCNConv'> disabled cache.\n",
      "INFO:root:<class 'model.nn.GCNConv'> disabled cache.\n"
     ]
    },
    {
     "name": "stdout",
     "output_type": "stream",
     "text": [
      "1.0 0.8285714387893677\n"
     ]
    },
    {
     "name": "stderr",
     "output_type": "stream",
     "text": [
      " 24%|██▎       | 4/17 [00:25<01:23,  6.39s/it]GPU available: False, used: False\n",
      "TPU available: False, using: 0 TPU cores\n",
      "IPU available: False, using: 0 IPUs\n",
      "INFO:root:Found pre-trained model at /nfs/students/fuchsgru/model_registry/1319606793.ckpt\n",
      "INFO:root:Loading model for evaluation from /nfs/students/fuchsgru/model_registry/1319606793.ckpt.\n",
      "INFO:root:<class 'model.nn.GCNConv'> disabled cache.\n",
      "INFO:root:<class 'model.nn.GCNConv'> disabled cache.\n"
     ]
    },
    {
     "name": "stdout",
     "output_type": "stream",
     "text": [
      "1.1 0.8500000238418579\n"
     ]
    },
    {
     "name": "stderr",
     "output_type": "stream",
     "text": [
      " 29%|██▉       | 5/17 [00:32<01:16,  6.37s/it]GPU available: False, used: False\n",
      "TPU available: False, using: 0 TPU cores\n",
      "IPU available: False, using: 0 IPUs\n",
      "INFO:root:Found pre-trained model at /nfs/students/fuchsgru/model_registry/3308592915.ckpt\n",
      "INFO:root:Loading model for evaluation from /nfs/students/fuchsgru/model_registry/3308592915.ckpt.\n",
      "INFO:root:<class 'model.nn.GCNConv'> disabled cache.\n",
      "INFO:root:<class 'model.nn.GCNConv'> disabled cache.\n"
     ]
    },
    {
     "name": "stdout",
     "output_type": "stream",
     "text": [
      "1.5 0.8642857074737549\n"
     ]
    },
    {
     "name": "stderr",
     "output_type": "stream",
     "text": [
      " 35%|███▌      | 6/17 [00:38<01:11,  6.48s/it]GPU available: False, used: False\n",
      "TPU available: False, using: 0 TPU cores\n",
      "IPU available: False, using: 0 IPUs\n",
      "INFO:root:Found pre-trained model at /nfs/students/fuchsgru/model_registry/518399070.ckpt\n",
      "INFO:root:Loading model for evaluation from /nfs/students/fuchsgru/model_registry/518399070.ckpt.\n",
      "INFO:root:<class 'model.nn.GCNConv'> disabled cache.\n",
      "INFO:root:<class 'model.nn.GCNConv'> disabled cache.\n"
     ]
    },
    {
     "name": "stdout",
     "output_type": "stream",
     "text": [
      "2.0 0.8642857074737549\n"
     ]
    },
    {
     "name": "stderr",
     "output_type": "stream",
     "text": [
      " 41%|████      | 7/17 [00:45<01:04,  6.45s/it]GPU available: False, used: False\n",
      "TPU available: False, using: 0 TPU cores\n",
      "IPU available: False, using: 0 IPUs\n",
      "INFO:root:Found pre-trained model at /nfs/students/fuchsgru/model_registry/220533074.ckpt\n",
      "INFO:root:Loading model for evaluation from /nfs/students/fuchsgru/model_registry/220533074.ckpt.\n",
      "INFO:root:<class 'model.nn.GCNConv'> disabled cache.\n",
      "INFO:root:<class 'model.nn.GCNConv'> disabled cache.\n"
     ]
    },
    {
     "name": "stdout",
     "output_type": "stream",
     "text": [
      "5.0 0.8428571224212646\n"
     ]
    },
    {
     "name": "stderr",
     "output_type": "stream",
     "text": [
      " 47%|████▋     | 8/17 [00:51<00:56,  6.33s/it]GPU available: False, used: False\n",
      "TPU available: False, using: 0 TPU cores\n",
      "IPU available: False, using: 0 IPUs\n",
      "INFO:root:Found pre-trained model at /nfs/students/fuchsgru/model_registry/1861577590.ckpt\n",
      "INFO:root:Loading model for evaluation from /nfs/students/fuchsgru/model_registry/1861577590.ckpt.\n",
      "INFO:root:<class 'model.nn.GCNConv'> disabled cache.\n",
      "INFO:root:<class 'model.nn.GCNConv'> disabled cache.\n",
      " 53%|█████▎    | 9/17 [00:57<00:49,  6.23s/it]"
     ]
    },
    {
     "name": "stdout",
     "output_type": "stream",
     "text": [
      "10.0 0.8357142806053162\n"
     ]
    },
    {
     "name": "stderr",
     "output_type": "stream",
     "text": [
      "GPU available: False, used: False\n",
      "TPU available: False, using: 0 TPU cores\n",
      "IPU available: False, using: 0 IPUs\n",
      "INFO:root:Found pre-trained model at /nfs/students/fuchsgru/model_registry/1989941200.ckpt\n",
      "INFO:root:Loading model for evaluation from /nfs/students/fuchsgru/model_registry/1989941200.ckpt.\n",
      "INFO:root:<class 'model.nn.GCNConv'> disabled cache.\n",
      "INFO:root:<class 'model.nn.GCNConv'> disabled cache.\n"
     ]
    },
    {
     "name": "stdout",
     "output_type": "stream",
     "text": [
      "15.0 0.8214285969734192\n"
     ]
    },
    {
     "name": "stderr",
     "output_type": "stream",
     "text": [
      " 59%|█████▉    | 10/17 [01:03<00:44,  6.31s/it]GPU available: False, used: False\n",
      "TPU available: False, using: 0 TPU cores\n",
      "IPU available: False, using: 0 IPUs\n",
      "INFO:root:Found pre-trained model at /nfs/students/fuchsgru/model_registry/932497260.ckpt\n",
      "INFO:root:Loading model for evaluation from /nfs/students/fuchsgru/model_registry/932497260.ckpt.\n",
      "INFO:root:<class 'model.nn.GCNConv'> disabled cache.\n",
      "INFO:root:<class 'model.nn.GCNConv'> disabled cache.\n"
     ]
    },
    {
     "name": "stdout",
     "output_type": "stream",
     "text": [
      "20.0 0.8214285969734192\n"
     ]
    },
    {
     "name": "stderr",
     "output_type": "stream",
     "text": [
      " 65%|██████▍   | 11/17 [01:10<00:38,  6.43s/it]GPU available: False, used: False\n",
      "TPU available: False, using: 0 TPU cores\n",
      "IPU available: False, using: 0 IPUs\n",
      "INFO:root:Found pre-trained model at /nfs/students/fuchsgru/model_registry/76676086.ckpt\n",
      "INFO:root:Loading model for evaluation from /nfs/students/fuchsgru/model_registry/76676086.ckpt.\n",
      "INFO:root:<class 'model.nn.GCNConv'> disabled cache.\n",
      "INFO:root:<class 'model.nn.GCNConv'> disabled cache.\n"
     ]
    },
    {
     "name": "stdout",
     "output_type": "stream",
     "text": [
      "30.0 0.8214285969734192\n"
     ]
    },
    {
     "name": "stderr",
     "output_type": "stream",
     "text": [
      " 71%|███████   | 12/17 [01:16<00:31,  6.37s/it]GPU available: False, used: False\n",
      "TPU available: False, using: 0 TPU cores\n",
      "IPU available: False, using: 0 IPUs\n",
      "INFO:root:Found pre-trained model at /nfs/students/fuchsgru/model_registry/2814679549.ckpt\n",
      "INFO:root:Loading model for evaluation from /nfs/students/fuchsgru/model_registry/2814679549.ckpt.\n",
      "INFO:root:<class 'model.nn.GCNConv'> disabled cache.\n",
      "INFO:root:<class 'model.nn.GCNConv'> disabled cache.\n",
      " 76%|███████▋  | 13/17 [01:23<00:25,  6.35s/it]"
     ]
    },
    {
     "name": "stdout",
     "output_type": "stream",
     "text": [
      "50.0 0.8357142806053162\n"
     ]
    },
    {
     "name": "stderr",
     "output_type": "stream",
     "text": [
      "GPU available: False, used: False\n",
      "TPU available: False, using: 0 TPU cores\n",
      "IPU available: False, using: 0 IPUs\n",
      "INFO:root:Found pre-trained model at /nfs/students/fuchsgru/model_registry/1495764648.ckpt\n",
      "INFO:root:Loading model for evaluation from /nfs/students/fuchsgru/model_registry/1495764648.ckpt.\n",
      "INFO:root:<class 'model.nn.GCNConv'> disabled cache.\n",
      "INFO:root:<class 'model.nn.GCNConv'> disabled cache.\n"
     ]
    },
    {
     "name": "stdout",
     "output_type": "stream",
     "text": [
      "100.0 0.8428571224212646\n"
     ]
    },
    {
     "name": "stderr",
     "output_type": "stream",
     "text": [
      " 82%|████████▏ | 14/17 [01:29<00:18,  6.21s/it]GPU available: False, used: False\n",
      "TPU available: False, using: 0 TPU cores\n",
      "IPU available: False, using: 0 IPUs\n",
      "INFO:root:Found pre-trained model at /nfs/students/fuchsgru/model_registry/-7177346471657512231-1649883028-8262556-3600097468.ckpt\n",
      "INFO:root:Loading model for evaluation from /nfs/students/fuchsgru/model_registry/-7177346471657512231-1649883028-8262556-3600097468.ckpt.\n",
      "INFO:root:<class 'model.nn.GCNConv'> disabled cache.\n",
      "INFO:root:<class 'model.nn.GCNConv'> disabled cache.\n"
     ]
    },
    {
     "name": "stdout",
     "output_type": "stream",
     "text": [
      "125.0 0.8285714387893677\n"
     ]
    },
    {
     "name": "stderr",
     "output_type": "stream",
     "text": [
      " 88%|████████▊ | 15/17 [01:36<00:13,  6.51s/it]GPU available: False, used: False\n",
      "TPU available: False, using: 0 TPU cores\n",
      "IPU available: False, using: 0 IPUs\n",
      "INFO:root:Found pre-trained model at /nfs/students/fuchsgru/model_registry/<built-in function hash>-1649867619-1816854-2904736419.ckpt\n",
      "INFO:root:Loading model for evaluation from /nfs/students/fuchsgru/model_registry/<built-in function hash>-1649867619-1816854-2904736419.ckpt.\n",
      "INFO:root:<class 'model.nn.GCNConv'> disabled cache.\n",
      "INFO:root:<class 'model.nn.GCNConv'> disabled cache.\n"
     ]
    },
    {
     "name": "stdout",
     "output_type": "stream",
     "text": [
      "150.0 0.8142856955528259\n"
     ]
    },
    {
     "name": "stderr",
     "output_type": "stream",
     "text": [
      " 94%|█████████▍| 16/17 [01:43<00:06,  6.69s/it]GPU available: False, used: False\n",
      "TPU available: False, using: 0 TPU cores\n",
      "IPU available: False, using: 0 IPUs\n",
      "INFO:root:Found pre-trained model at /nfs/students/fuchsgru/model_registry/3202218202.ckpt\n",
      "INFO:root:Loading model for evaluation from /nfs/students/fuchsgru/model_registry/3202218202.ckpt.\n",
      "INFO:root:<class 'model.nn.GCNConv'> disabled cache.\n",
      "INFO:root:<class 'model.nn.GCNConv'> disabled cache.\n",
      "100%|██████████| 17/17 [01:49<00:00,  6.42s/it]"
     ]
    },
    {
     "name": "stdout",
     "output_type": "stream",
     "text": [
      "200.0 0.8214285969734192\n"
     ]
    },
    {
     "name": "stderr",
     "output_type": "stream",
     "text": [
      "\n"
     ]
    }
   ],
   "source": [
    "weight_scale_to_spectrum_reco = {}\n",
    "\n",
    "from tqdm import tqdm\n",
    "for weight_scale in tqdm([np.nan] + weight_scales):\n",
    "    \n",
    "    config_w = deepcopy(config)\n",
    "    config_w.model.reconstruction.loss_weight = 1.0\n",
    "    config_w.model.reconstruction.reconstruction_type = mconst.ENERGY\n",
    "    \n",
    "    if not np.isfinite(weight_scale):\n",
    "        config_w.model.weight_scale = 1.0\n",
    "        config_w.model.use_spectral_norm = False\n",
    "        config_w.model.residual = False\n",
    "    else:\n",
    "        config_w.model.weight_scale = weight_scale\n",
    "    \n",
    "    model = make_model(config_w, data_get_num_attributes(data_dict[dconst.TRAIN][0]), \n",
    "    data_get_num_classes(data_dict[dconst.TRAIN][0])).eval()\n",
    "    model = train_model(model, config_w, run_artifact_dir, data_loaders, logger=None).eval()\n",
    "    model.clear_and_disable_cache()\n",
    "        \n",
    "    data_val = data_dict[dconst.VAL][0]\n",
    "    with torch.no_grad():\n",
    "        acc = (model(data_val).get_predictions().argmax(1)[data_val.mask] == data_val.y[data_val.mask]).float().mean().item()\n",
    "        print(weight_scale, acc)\n",
    "        \n",
    "    weight = (model.backbone.convs[0].conv.lin.linear.weight.detach().cpu().numpy())\n",
    "    u, s, v = np.linalg.svd(weight, full_matrices=False)\n",
    "    weight_scale_to_spectrum_reco[weight_scale] = s\n",
    "  "
   ]
  },
  {
   "cell_type": "code",
   "execution_count": 22,
   "id": "4b6f60f1",
   "metadata": {},
   "outputs": [
    {
     "data": {
      "image/png": "[encoded data removed]",
      "text/plain": [
       "<Figure size 576x216 with 7 Axes>"
      ]
     },
     "metadata": {
      "needs_background": "light"
     },
     "output_type": "display_data"
    }
   ],
   "source": [
    "\n",
    "xs = [np.nan] + list(sorted(weight_scales))\n",
    "spectrums = np.array([weight_scale_to_spectrum[ws] for ws in xs])\n",
    "spectrums /= spectrums.max(axis=1, keepdims=True)\n",
    "\n",
    "spectrums_reco = np.array([weight_scale_to_spectrum_reco[ws] for ws in xs])\n",
    "spectrums_reco /= spectrums_reco.max(axis=1, keepdims=True)\n",
    "\n",
    "fig, axs = plt.subplots(1, 3 * 2, figsize=(8, 3), gridspec_kw = {\n",
    "            'width_ratios' : [0.8, 0.075, 0.05] * 2, 'wspace' : 0.1, 'hspace' : 0.1,\n",
    "    }, sharey=True, sharex=False, squeeze=False)\n",
    "\n",
    "im = axs[0, 0].imshow(spectrums[1:].T, aspect='auto', interpolation='none')\n",
    "_ = axs[0, 1].imshow(spectrums[:1].T, aspect='auto', interpolation='none')\n",
    "im_reco = axs[0, 3].imshow(spectrums_reco[1:].T, aspect='auto', interpolation='none')\n",
    "_ = axs[0, 4].imshow(spectrums_reco[:1].T, aspect='auto', interpolation='none')\n",
    "\n",
    "for ax in axs[0, 0::3].flatten():\n",
    "    ax.set_xticks(np.arange(len(xs) - 1))\n",
    "    ax.set_xticklabels(xs[1:], rotation=90)\n",
    "    ax.set_xlabel('Weight Scale $\\\\sigma^\\\\prime$', fontsize=12)\n",
    "    ax.set_xticks(np.arange(len(xs) - 1) - 0.5, minor=True)\n",
    "    ax.grid(which='minor', color='w', axis='x', linestyle='-', linewidth=1)\n",
    "                  \n",
    "axs[0, 0].set_title('No Edge Reconstruction', fontsize=12)\n",
    "axs[0, 3].set_title('Edge Reconstruction', fontsize=12)\n",
    "\n",
    "for ax in axs[0, 1::3].flatten():\n",
    "    ax.set_xticks([0])\n",
    "    ax.set_xticklabels(['No Spectral\\nNorm.'], rotation=90)\n",
    "    \n",
    "axs[0, 0].set_ylabel('Singular Value Index', fontsize=12)\n",
    "for ax in axs[:, 2::3].flatten():\n",
    "    ax.set_visible(False)\n",
    "    \n",
    "cb = fig.colorbar(im, ax=axs[0, 5], fraction=1.0)\n",
    "cb.set_label('Normalized Singular\\nValue Magnitude', fontsize=12, rotation=270, labelpad=34)\n",
    "cb.outline.set_visible(False)\n",
    "\n",
    "fig.savefig(f'thesis_nbs/spectral_structure_vs_weight_scale_and_reco_{dataset}.pdf', bbox_inches='tight')"
   ]
  },
  {
   "cell_type": "code",
   "execution_count": null,
   "id": "5f29a8dd",
   "metadata": {},
   "outputs": [],
   "source": []
  },
  {
   "cell_type": "code",
   "execution_count": null,
   "id": "6753d1fc",
   "metadata": {},
   "outputs": [],
   "source": []
  },
  {
   "cell_type": "code",
   "execution_count": 21,
   "id": "f0a7ac70",
   "metadata": {},
   "outputs": [
    {
     "data": {
      "text/plain": [
       "3"
      ]
     },
     "execution_count": 21,
     "metadata": {},
     "output_type": "execute_result"
    }
   ],
   "source": [
    "3"
   ]
  },
  {
   "cell_type": "code",
   "execution_count": 22,
   "id": "7bf82e64",
   "metadata": {},
   "outputs": [],
   "source": [
    "xs = [np.nan] + list(sorted(weight_scales))\n",
    "\n",
    "spectrums = np.zeros((len(xs), config.model.hidden_sizes[-1]))\n",
    "spectrums[...] = np.nan\n",
    "spectrums_reco = spectrums.copy()\n",
    "\n",
    "for ws, sp in weight_scale_to_spectrum.items():\n",
    "    spectrums[xs.index(ws)] = sp\n",
    "    \n",
    "for ws, sp in weight_scale_to_spectrum_reco.items():\n",
    "    spectrums_reco[xs.index(ws)] = sp"
   ]
  },
  {
   "cell_type": "code",
   "execution_count": null,
   "id": "33870df0",
   "metadata": {},
   "outputs": [],
   "source": []
  },
  {
   "cell_type": "code",
   "execution_count": null,
   "id": "0aa259a9",
   "metadata": {},
   "outputs": [],
   "source": []
  },
  {
   "cell_type": "code",
   "execution_count": 23,
   "id": "57927db5",
   "metadata": {},
   "outputs": [
    {
     "data": {
      "text/plain": [
       "<matplotlib.colorbar.Colorbar at 0x7f897102fcd0>"
      ]
     },
     "execution_count": 23,
     "metadata": {},
     "output_type": "execute_result"
    },
    {
     "data": {
      "image/png": "[encoded data removed]",
      "text/plain": [
       "<Figure size 648x288 with 4 Axes>"
      ]
     },
     "metadata": {
      "needs_background": "light"
     },
     "output_type": "display_data"
    }
   ],
   "source": [
    "fig, axs = plt.subplots(1, 2, figsize=(9, 4), sharex=True, sharey=True)\n",
    "normalized = spectrums / spectrums.max(1, keepdims=True)\n",
    "normalized_reco = spectrums_reco / spectrums_reco.max(1, keepdims=True)\n",
    "\n",
    "pad = 3\n",
    "im = np.zeros((pad * len(xs), spectrums.shape[1]))\n",
    "im[...] = np.nan\n",
    "im_norm = im.copy()\n",
    "\n",
    "im[::pad] = spectrums\n",
    "im[1::pad] = spectrums_reco\n",
    "im_norm[::pad] = normalized\n",
    "im_norm[1::pad] = normalized_reco\n",
    "m1 = axs[0].imshow(im.T, aspect='auto')\n",
    "m2 = axs[1].imshow(im_norm.T, aspect='auto')\n",
    "\n",
    "for ax in axs.flatten():\n",
    "    ax.set_xticks(np.arange(len(xs) * pad)[::pad] + 0.1 * pad)\n",
    "    ax.set_xticklabels(xs, rotation=90)\n",
    "    ax.set_xlabel('Weight Scale')\n",
    "    ax.set_ylabel('Singular Value Index')\n",
    "    \n",
    "fig.colorbar(m1, ax=axs[0])\n",
    "fig.colorbar(m2, ax=axs[1])\n",
    "\n"
   ]
  },
  {
   "cell_type": "code",
   "execution_count": 24,
   "id": "43dc3a52",
   "metadata": {},
   "outputs": [
    {
     "data": {
      "text/plain": [
       "(array([200.00004578,  69.28833008,  42.71522141,  36.44332504,\n",
       "         35.69011688,  34.71691132,  34.23143387,  32.73820496,\n",
       "         32.64463043,  32.42222214,  32.13044357,  31.58028984,\n",
       "         31.52342606,  31.12657166,  30.77138329,  30.59985352,\n",
       "         30.4170475 ,  30.24229813,  30.1465168 ,  29.74454689,\n",
       "         29.61998749,  29.43000221,  29.24287415,  29.0708313 ,\n",
       "         28.96914101,  28.93482971,  28.71854973,  28.64015579,\n",
       "         28.50154495,  28.42829514,  28.17277718,  28.10844803,\n",
       "         27.99074554,  27.88973999,  27.79063416,  27.73232079,\n",
       "         27.61681175,  27.36782837,  27.26861382,  27.21893692,\n",
       "         27.06132507,  26.92279625,  26.75756073,  26.69062424,\n",
       "         26.57859421,  26.39891624,  26.3042717 ,  26.15546989,\n",
       "         26.06428719,  26.05530357,  26.00053024,  25.78278923,\n",
       "         25.59965324,  25.38969231,  25.25441933,  25.02100563,\n",
       "         24.97411156,  24.79941368,  24.72810173,  24.43125153,\n",
       "         24.3802433 ,  24.14924622,  23.88648224,  23.46571541]),\n",
       " array([208.69496155, 206.08848572, 197.44096375, 195.10652161,\n",
       "        189.2220459 , 181.46058655, 180.71080017, 175.16278076,\n",
       "        170.70376587, 170.09919739, 169.33146667, 168.60623169,\n",
       "        167.81640625, 167.51541138, 166.99917603, 166.61764526,\n",
       "        166.1697998 , 166.07667542, 165.31375122, 164.77461243,\n",
       "        164.41038513, 163.99237061, 163.72453308, 163.18106079,\n",
       "        163.02903748, 162.65626526, 162.29847717, 161.7494812 ,\n",
       "        161.56826782, 160.92112732, 160.72007751, 160.49533081,\n",
       "        160.07553101, 159.93000793, 158.88597107, 158.86553955,\n",
       "        158.71463013, 158.51777649, 157.68623352, 157.33154297,\n",
       "        157.13841248, 156.86940002, 156.47146606, 155.93458557,\n",
       "        155.29290771, 155.24398804, 154.93087769, 154.71363831,\n",
       "        154.4407959 , 153.73580933, 153.64529419, 153.02333069,\n",
       "        152.3653717 , 152.15167236, 151.79577637, 151.08387756,\n",
       "        150.92314148, 150.50537109, 149.37724304, 149.22167969,\n",
       "        148.31097412, 147.85906982, 146.88230896, 145.86700439]))"
      ]
     },
     "execution_count": 24,
     "metadata": {},
     "output_type": "execute_result"
    }
   ],
   "source": [
    "spectrums_reco[-1], spectrums[-1]"
   ]
  },
  {
   "cell_type": "code",
   "execution_count": 25,
   "id": "c7eb63b6",
   "metadata": {},
   "outputs": [
    {
     "data": {
      "text/plain": [
       "<matplotlib.colorbar.Colorbar at 0x7f891f99b640>"
      ]
     },
     "execution_count": 25,
     "metadata": {},
     "output_type": "execute_result"
    },
    {
     "data": {
      "image/png": "[encoded data removed]",
      "text/plain": [
       "<Figure size 432x288 with 2 Axes>"
      ]
     },
     "metadata": {
      "needs_background": "light"
     },
     "output_type": "display_data"
    }
   ],
   "source": [
    "fig, ax = plt.subplots()\n",
    "m2 = ax.imshow(im_norm.T, aspect='auto')\n",
    "\n",
    "ax.set_xticks(np.arange(len(xs) * pad)[::pad] + 0.1 * pad)\n",
    "ax.set_xticklabels(xs, rotation=90)\n",
    "ax.set_xlabel('Weight Scale')\n",
    "ax.set_ylabel('Singular Value Index')\n",
    "\n",
    "fig.colorbar(m2)"
   ]
  },
  {
   "cell_type": "code",
   "execution_count": null,
   "id": "9f25bfa1",
   "metadata": {},
   "outputs": [],
   "source": []
  },
  {
   "cell_type": "code",
   "execution_count": null,
   "id": "0099d545",
   "metadata": {},
   "outputs": [],
   "source": []
  },
  {
   "cell_type": "code",
   "execution_count": 26,
   "id": "391165ba",
   "metadata": {},
   "outputs": [
    {
     "data": {
      "text/plain": [
       "<matplotlib.colorbar.Colorbar at 0x7fa3deb7bd30>"
      ]
     },
     "execution_count": 26,
     "metadata": {},
     "output_type": "execute_result"
    }
   ],
   "source": [
    "\n",
    "\n",
    "\n",
    "\n",
    "m1 = axs[0].imshow((spectrums), aspect='auto')\n",
    "m2 = axs[1].imshow((normalized), aspect='auto')\n",
    "axs[0].set_title('Unnormalized')\n",
    "axs[1].set_title('Normalized')\n",
    "for ax in axs.flatten():\n",
    "    ax.set_xticks(range(len(weight_scales + [np.nan])))\n",
    "    ax.set_xticklabels(weight_scales + [np.nan])\n",
    "    ax.set_xlabel('Weight Scale')\n",
    "    ax.set_ylabel('Singular Value Index')\n",
    "    \n",
    "fig.colorbar(m1, ax=axs[0])\n",
    "fig.colorbar(m2, ax=axs[1])\n",
    "\n",
    "\n"
   ]
  },
  {
   "cell_type": "code",
   "execution_count": 116,
   "id": "519d8bcc",
   "metadata": {},
   "outputs": [
    {
     "data": {
      "text/plain": [
       "<matplotlib.colorbar.Colorbar at 0x7fe2760aa250>"
      ]
     },
     "execution_count": 116,
     "metadata": {},
     "output_type": "execute_result"
    },
    {
     "data": {
      "image/png": "[encoded data removed]",
      "text/plain": [
       "<Figure size 720x504 with 2 Axes>"
      ]
     },
     "metadata": {
      "needs_background": "light"
     },
     "output_type": "display_data"
    }
   ],
   "source": [
    "fig, ax = plt.subplots(figsize=(10, 7))\n",
    "m = ax.imshow((spectrums[:, ::-1]), aspect='auto')\n",
    "fig.colorbar(m)"
   ]
  },
  {
   "cell_type": "code",
   "execution_count": 117,
   "id": "63334097",
   "metadata": {},
   "outputs": [
    {
     "data": {
      "text/plain": [
       "(14, 64)"
      ]
     },
     "execution_count": 117,
     "metadata": {},
     "output_type": "execute_result"
    }
   ],
   "source": [
    "spectrums.shape"
   ]
  },
  {
   "cell_type": "code",
   "execution_count": null,
   "id": "7354a11f",
   "metadata": {},
   "outputs": [],
   "source": []
  },
  {
   "cell_type": "code",
   "execution_count": null,
   "id": "4fdcaf9d",
   "metadata": {},
   "outputs": [],
   "source": []
  },
  {
   "cell_type": "code",
   "execution_count": 75,
   "id": "0a417f2e",
   "metadata": {},
   "outputs": [
    {
     "data": {
      "text/plain": [
       "{'epoch': 46,\n",
       " 'global_step': 46,\n",
       " 'pytorch-lightning_version': '1.5.10',\n",
       " 'state_dict': OrderedDict([('backbone.convs.0.conv.bias',\n",
       "               tensor([ 0.0186,  0.0079,  0.0062,  0.0169, -0.0052,  0.0171,  0.0165,  0.0125,\n",
       "                        0.0307,  0.0120,  0.0274,  0.0236,  0.0029, -0.0055,  0.0072,  0.0208,\n",
       "                        0.0080,  0.0046, -0.0072,  0.0084,  0.0206,  0.0184,  0.0149,  0.0135,\n",
       "                        0.0046,  0.0315,  0.0082,  0.0254,  0.0293,  0.0092, -0.0014,  0.0057,\n",
       "                        0.0076,  0.0020,  0.0046,  0.0200, -0.0012,  0.0023,  0.0050, -0.0013,\n",
       "                        0.0150,  0.0199,  0.0283,  0.0210,  0.0287, -0.0032, -0.0021, -0.0089,\n",
       "                       -0.0036,  0.0279,  0.0290,  0.0080,  0.0077,  0.0170,  0.0214,  0.0118,\n",
       "                        0.0096,  0.0092,  0.0093, -0.0033,  0.0217,  0.0095,  0.0122,  0.0267])),\n",
       "              ('backbone.convs.0.conv.lin.linear.bias',\n",
       "               tensor([-0.0021,  0.0223,  0.0112, -0.0009,  0.0350,  0.0016,  0.0159,  0.0020,\n",
       "                        0.0019,  0.0213,  0.0132,  0.0038,  0.0273,  0.0276,  0.0044,  0.0182,\n",
       "                        0.0064,  0.0168, -0.0084,  0.0089, -0.0013,  0.0038,  0.0124,  0.0057,\n",
       "                        0.0278, -0.0021,  0.0140,  0.0182, -0.0028,  0.0095,  0.0347,  0.0234,\n",
       "                        0.0114,  0.0192,  0.0222, -0.0006,  0.0321,  0.0293,  0.0222,  0.0271,\n",
       "                        0.0183, -0.0006,  0.0045, -0.0012, -0.0002,  0.0314,  0.0290, -0.0040,\n",
       "                       -0.0031, -0.0017,  0.0045,  0.0291,  0.0117,  0.0140,  0.0286,  0.0361,\n",
       "                        0.0052,  0.0206,  0.0209, -0.0010,  0.0006,  0.0206,  0.0237,  0.0040])),\n",
       "              ('backbone.convs.0.conv.lin.linear.parametrizations.weight.original',\n",
       "               tensor([[-0.0057, -0.0004,  0.0011,  ..., -0.0021,  0.0027,  0.0021],\n",
       "                       [-0.0008, -0.0017,  0.0010,  ..., -0.0049,  0.0012,  0.0033],\n",
       "                       [ 0.0007,  0.0001, -0.0007,  ..., -0.0006,  0.0015, -0.0011],\n",
       "                       ...,\n",
       "                       [-0.0039, -0.0006,  0.0007,  ..., -0.0056,  0.0055,  0.0027],\n",
       "                       [-0.0043, -0.0016,  0.0008,  ..., -0.0081,  0.0059,  0.0040],\n",
       "                       [ 0.0023, -0.0007, -0.0009,  ..., -0.0038,  0.0023,  0.0021]])),\n",
       "              ('backbone.convs.0.conv.lin.linear.parametrizations.weight.0.u',\n",
       "               tensor([ 0.0418, -0.2025,  0.2173, -0.1400,  0.1529,  0.2118, -0.1054,  0.1440,\n",
       "                        0.0147,  0.0180,  0.1049,  0.1125,  0.1188, -0.1004,  0.0587, -0.1380,\n",
       "                        0.0662, -0.0565, -0.0013, -0.0786,  0.0366, -0.0336, -0.1223, -0.0267,\n",
       "                       -0.1273, -0.0053, -0.0150,  0.1731,  0.1288,  0.1690, -0.1157, -0.0713,\n",
       "                        0.1387,  0.1306, -0.1927, -0.0089, -0.2283, -0.0716, -0.1213, -0.2468,\n",
       "                       -0.0902, -0.0336,  0.0319,  0.1057,  0.1377, -0.1600, -0.0477, -0.0068,\n",
       "                       -0.0053,  0.1708,  0.1741,  0.2039,  0.1628, -0.1020, -0.0120,  0.1708,\n",
       "                       -0.1109, -0.1891, -0.1317, -0.0095, -0.0737,  0.0781,  0.1365,  0.1996])),\n",
       "              ('backbone.convs.0.conv.lin.linear.parametrizations.weight.0.v',\n",
       "               tensor([-2.7480e-03, -2.5181e-04, -2.6627e-04,  ..., -1.7509e-03,\n",
       "                        1.7408e-03,  3.8402e-05])),\n",
       "              ('backbone.convs.0.input_projection.linear.bias',\n",
       "               tensor([ 0.0295, -0.0366, -0.0297,  0.0238, -0.0317,  0.0332,  0.0227,  0.0141,\n",
       "                        0.0360,  0.0125,  0.0270,  0.0245, -0.0266, -0.0238,  0.0226, -0.0011,\n",
       "                       -0.0226, -0.0257, -0.0188,  0.0033,  0.0330,  0.0289, -0.0304,  0.0085,\n",
       "                       -0.0316,  0.0268, -0.0215,  0.0299,  0.0412, -0.0376, -0.0217, -0.0267,\n",
       "                       -0.0297, -0.0286, -0.0208,  0.0321, -0.0249, -0.0385, -0.0408, -0.0359,\n",
       "                        0.0209,  0.0169,  0.0205,  0.0277,  0.0419, -0.0287, -0.0291, -0.0266,\n",
       "                       -0.0179,  0.0333,  0.0299, -0.0119, -0.0334,  0.0337,  0.0264, -0.0049,\n",
       "                       -0.0191, -0.0460, -0.0152, -0.0106, -0.0276, -0.0185,  0.0033,  0.0241])),\n",
       "              ('backbone.convs.0.input_projection.linear.parametrizations.weight.original',\n",
       "               tensor([[-1.2261e-03, -2.3695e-04,  7.7782e-04,  ...,  5.1173e-04,\n",
       "                        -3.1355e-03, -1.0045e-03],\n",
       "                       [-1.0920e-03,  1.6747e-03, -5.7269e-05,  ...,  2.1458e-03,\n",
       "                        -2.3076e-03, -1.9367e-03],\n",
       "                       [ 3.7778e-04, -2.4453e-03,  2.3719e-04,  ...,  1.3785e-03,\n",
       "                        -2.0369e-03,  1.2380e-03],\n",
       "                       ...,\n",
       "                       [-1.4755e-03,  1.0569e-03,  1.4638e-04,  ...,  2.8500e-03,\n",
       "                        -2.7182e-03, -3.1016e-03],\n",
       "                       [ 5.2813e-04, -9.7690e-04,  4.3514e-05,  ...,  2.1839e-03,\n",
       "                        -1.7058e-03, -1.8118e-03],\n",
       "                       [-3.2350e-03, -1.1816e-03, -2.3959e-04,  ...,  1.8374e-03,\n",
       "                        -2.5513e-03, -2.2163e-03]])),\n",
       "              ('backbone.convs.0.input_projection.linear.parametrizations.weight.0.u',\n",
       "               tensor([-0.2836,  0.0529,  0.1490, -0.0539, -0.0360,  0.0053,  0.0958,  0.0352,\n",
       "                        0.0120,  0.2060, -0.0820, -0.0901,  0.0970,  0.0506,  0.0041,  0.2295,\n",
       "                       -0.0256, -0.0147, -0.0272,  0.0474, -0.0768,  0.1463,  0.0606,  0.0026,\n",
       "                        0.0799, -0.1562,  0.2818, -0.2493, -0.1930,  0.2196,  0.0034,  0.0826,\n",
       "                        0.1522,  0.1144, -0.0296, -0.1089, -0.0151,  0.0103,  0.1469,  0.1463,\n",
       "                        0.1040,  0.0611,  0.0637, -0.1705, -0.2569,  0.0155,  0.2627, -0.1454,\n",
       "                       -0.1426, -0.0398, -0.0539,  0.0496, -0.1419, -0.1097,  0.0123, -0.0205,\n",
       "                        0.0410,  0.1503,  0.1910, -0.1160, -0.0105,  0.0569,  0.0087, -0.1561])),\n",
       "              ('backbone.convs.0.input_projection.linear.parametrizations.weight.0.v',\n",
       "               tensor([ 4.9688e-03,  6.3693e-04,  1.0533e-04,  ...,  7.5099e-05,\n",
       "                       -8.8759e-05, -1.0143e-03])),\n",
       "              ('backbone.convs.1.conv.bias',\n",
       "               tensor([ 0.0446, -0.0528,  0.0229,  0.0360, -0.0123, -0.0370,  0.0510])),\n",
       "              ('backbone.convs.1.conv.lin.linear.weight',\n",
       "               tensor([[-0.1118, -0.1544,  0.1491, -0.0543, -0.0244,  0.1070, -0.1006,  0.1410,\n",
       "                        -0.0859,  0.0786,  0.0899, -0.1568, -0.1027, -0.0813,  0.0350,  0.0967,\n",
       "                         0.0627, -0.1607,  0.1226,  0.0760, -0.1218,  0.0519,  0.1549,  0.1196,\n",
       "                        -0.1588, -0.0824,  0.0865,  0.0484,  0.1055,  0.1454, -0.1188, -0.1132,\n",
       "                         0.0892,  0.1600, -0.0612, -0.1075, -0.0949, -0.0124, -0.0704, -0.1633,\n",
       "                        -0.1197,  0.0905,  0.1379,  0.0618, -0.0282, -0.1502,  0.0002, -0.0491,\n",
       "                         0.1465,  0.0408,  0.0718,  0.0651,  0.1608, -0.0473, -0.0190,  0.0519,\n",
       "                        -0.0670, -0.1228, -0.1557,  0.0500, -0.0224, -0.1124, -0.1115, -0.0717],\n",
       "                       [ 0.0685,  0.0623,  0.0132,  0.0604,  0.0088,  0.1051,  0.0986,  0.1610,\n",
       "                         0.1328,  0.1055,  0.0307,  0.1569, -0.0005, -0.0939,  0.0770, -0.0986,\n",
       "                        -0.1098, -0.0907, -0.1542,  0.1320,  0.0843,  0.1449, -0.1512,  0.1401,\n",
       "                        -0.1375,  0.1121,  0.0864,  0.1543,  0.0654, -0.1500, -0.1441, -0.0612,\n",
       "                        -0.1461, -0.1413,  0.0227,  0.0862, -0.1650, -0.0131, -0.0859, -0.1023,\n",
       "                         0.0940,  0.1257,  0.1067,  0.1531,  0.1672, -0.0761, -0.1506, -0.0026,\n",
       "                        -0.1373,  0.1542, -0.0640, -0.0723, -0.0357,  0.1284,  0.1452, -0.1181,\n",
       "                        -0.1041, -0.0856,  0.1108, -0.1612, -0.1228,  0.0850,  0.0661,  0.1462],\n",
       "                       [-0.1190,  0.0908, -0.1024,  0.0740, -0.1438, -0.0915,  0.0898,  0.0038,\n",
       "                        -0.0472,  0.1465, -0.0193, -0.0969, -0.1496,  0.0298, -0.0627,  0.1656,\n",
       "                        -0.1551, -0.0977,  0.0637,  0.1551, -0.1477,  0.1147,  0.1100,  0.1159,\n",
       "                         0.0874, -0.0430,  0.1729, -0.0292, -0.0821, -0.1389,  0.0085,  0.0837,\n",
       "                        -0.1232, -0.0687,  0.1429, -0.1028,  0.1310,  0.1485,  0.0962,  0.1524,\n",
       "                         0.1355,  0.1132,  0.1119, -0.1009, -0.1311,  0.0391,  0.0492, -0.1387,\n",
       "                        -0.0915, -0.1598, -0.1304, -0.1049, -0.1377,  0.0914,  0.1347, -0.1243,\n",
       "                        -0.0290,  0.1101,  0.1653,  0.0093, -0.0720, -0.0560, -0.0835, -0.1358],\n",
       "                       [-0.1525,  0.0992,  0.0550, -0.0479, -0.1330, -0.1114,  0.1215,  0.0307,\n",
       "                         0.1335,  0.0538, -0.1006,  0.1445,  0.0933, -0.0920, -0.0874,  0.0730,\n",
       "                         0.0565,  0.1167, -0.0552, -0.1455,  0.0696,  0.1152,  0.1586, -0.1090,\n",
       "                         0.0522,  0.1466,  0.0949, -0.0926, -0.0336,  0.1685, -0.1198,  0.0444,\n",
       "                         0.0648, -0.0253, -0.1483,  0.1349, -0.1291, -0.0339,  0.0892, -0.1602,\n",
       "                         0.1279, -0.1344,  0.1565, -0.1433,  0.0812, -0.1070,  0.0794, -0.0083,\n",
       "                        -0.1130,  0.1216,  0.0353,  0.0829, -0.1725, -0.1570, -0.0095,  0.0655,\n",
       "                         0.0920, -0.1083, -0.0355, -0.1548,  0.0908,  0.1348,  0.0256,  0.0823],\n",
       "                       [ 0.0710, -0.0620, -0.1570, -0.0548, -0.1565, -0.1211, -0.0369, -0.0709,\n",
       "                        -0.1173, -0.0624,  0.1330,  0.1439, -0.1197, -0.1119, -0.0581,  0.0581,\n",
       "                        -0.1312, -0.0643,  0.1081, -0.1363, -0.1217, -0.0821,  0.1662, -0.1411,\n",
       "                         0.1686,  0.1491, -0.0915,  0.1416,  0.0936, -0.1412,  0.0268,  0.1392,\n",
       "                        -0.1466, -0.0611, -0.0574, -0.0367,  0.0833,  0.1508,  0.0722, -0.1546,\n",
       "                         0.1066, -0.1361,  0.1118, -0.1636,  0.1355, -0.1103, -0.1303,  0.0450,\n",
       "                         0.0756, -0.1373,  0.1398,  0.0828, -0.1311, -0.0589,  0.1261,  0.1664,\n",
       "                        -0.1061, -0.0896, -0.1112,  0.1326, -0.0801,  0.0212,  0.0367,  0.1610],\n",
       "                       [ 0.0676,  0.1389, -0.1479,  0.1547, -0.0949, -0.1623, -0.0412,  0.0204,\n",
       "                         0.0592, -0.1532, -0.0994, -0.1012, -0.1267,  0.0616, -0.1141, -0.1086,\n",
       "                         0.1497,  0.1488,  0.0686,  0.0451,  0.0769, -0.0550,  0.1204,  0.1111,\n",
       "                        -0.1239,  0.1246, -0.1488,  0.0946,  0.1092, -0.1380, -0.1022, -0.1406,\n",
       "                        -0.1153, -0.0760,  0.1597,  0.1515,  0.1052, -0.0043, -0.1010, -0.0055,\n",
       "                        -0.0989, -0.0708, -0.0376,  0.1519,  0.1360,  0.0715, -0.1081,  0.0617,\n",
       "                         0.1596,  0.0294, -0.1426, -0.1642,  0.1369,  0.1498, -0.0598, -0.1501,\n",
       "                         0.0935, -0.1046, -0.1459,  0.0103,  0.0946, -0.0960, -0.1392, -0.0941],\n",
       "                       [-0.1165,  0.1076,  0.1619, -0.0862,  0.1601, -0.0622, -0.0374,  0.1286,\n",
       "                        -0.1176,  0.0504, -0.1103, -0.0473,  0.1587,  0.1342,  0.0557, -0.1648,\n",
       "                         0.0474,  0.1486, -0.0358,  0.0444, -0.1581, -0.0777, -0.0474, -0.0122,\n",
       "                         0.1221, -0.1130,  0.0829,  0.0551, -0.1220,  0.0505, -0.0091,  0.1425,\n",
       "                         0.0309,  0.1211,  0.1106, -0.0976,  0.1006,  0.1600,  0.0675,  0.1526,\n",
       "                         0.1131, -0.1451, -0.1549, -0.1355, -0.1640,  0.0657,  0.0757,  0.1453,\n",
       "                         0.1507, -0.0827, -0.1473,  0.1025,  0.1638, -0.0133,  0.0514,  0.0719,\n",
       "                        -0.0702,  0.1020,  0.1049, -0.1213, -0.1093,  0.1576,  0.1397, -0.0691]])),\n",
       "              ('backbone.convs.1.conv.lin.linear.bias',\n",
       "               tensor([-0.1303,  0.0323, -0.0379, -0.0728, -0.0048,  0.0778, -0.1192]))]),\n",
       " 'callbacks': {\"EarlyStopping{'monitor': 'val_loss', 'mode': 'min'}\": {'wait_count': 43,\n",
       "   'stopped_epoch': 0,\n",
       "   'best_score': tensor(1.8879),\n",
       "   'patience': 50},\n",
       "  \"ModelCheckpoint{'monitor': 'val_loss', 'mode': 'min', 'every_n_train_steps': 0, 'every_n_epochs': 1, 'train_time_interval': None, 'save_on_train_epoch_end': True}\": {'monitor': 'val_loss',\n",
       "   'best_model_score': tensor(1.8803),\n",
       "   'best_model_path': '/nfs/students/fuchsgru/artifacts/week22_lipschitz_son/dataset:cora_full-setting:hybrid-son:F-residual:T-spectral_norm-T-weight_scale0.5-ood_type:per/0-0-0/epoch=45-step=45.ckpt',\n",
       "   'current_score': tensor(1.8803),\n",
       "   'dirpath': '/nfs/students/fuchsgru/artifacts/week22_lipschitz_son/dataset:cora_full-setting:hybrid-son:F-residual:T-spectral_norm-T-weight_scale0.5-ood_type:per/0-0-0',\n",
       "   'best_k_models': {'/nfs/students/fuchsgru/artifacts/week22_lipschitz_son/dataset:cora_full-setting:hybrid-son:F-residual:T-spectral_norm-T-weight_scale0.5-ood_type:per/0-0-0/epoch=45-step=45.ckpt': tensor(1.8803)},\n",
       "   'kth_best_model_path': '/nfs/students/fuchsgru/artifacts/week22_lipschitz_son/dataset:cora_full-setting:hybrid-son:F-residual:T-spectral_norm-T-weight_scale0.5-ood_type:per/0-0-0/epoch=45-step=45.ckpt',\n",
       "   'kth_value': tensor(1.8803),\n",
       "   'last_model_path': ''}},\n",
       " 'optimizer_states': [{'state': {0: {'step': 46,\n",
       "     'exp_avg': tensor([-5.3620e-04, -2.6642e-04,  1.7288e-04, -7.3439e-04,  2.5548e-04,\n",
       "             -6.4334e-05,  4.5282e-05, -8.7632e-05, -6.7342e-04,  2.6281e-04,\n",
       "             -2.8949e-04, -5.6554e-04, -2.6587e-05,  1.1464e-04, -1.2389e-04,\n",
       "             -5.0951e-04, -1.9696e-04, -4.4965e-04, -4.9508e-06,  6.4751e-05,\n",
       "             -9.1815e-04, -2.0938e-04, -1.1210e-04,  4.8706e-05,  8.7961e-05,\n",
       "             -7.0634e-04,  3.2504e-04, -3.7213e-04, -7.8788e-04, -9.6231e-05,\n",
       "              1.4806e-05,  1.0925e-04,  2.5075e-04,  2.3334e-04,  4.2393e-05,\n",
       "             -8.9509e-04,  3.6212e-05,  5.3344e-05, -1.9318e-04, -1.1059e-04,\n",
       "             -1.7136e-04, -4.4179e-04, -8.8832e-04, -1.7474e-03, -1.2750e-03,\n",
       "              3.7597e-05,  1.2649e-05,  5.6069e-05, -3.3507e-06, -1.1413e-03,\n",
       "             -2.7772e-04,  1.1532e-04, -2.3786e-04, -1.7890e-04, -9.0193e-05,\n",
       "             -4.0810e-05, -2.0085e-04, -3.9343e-04, -3.0010e-04, -6.7729e-06,\n",
       "             -2.9516e-04,  1.3909e-04,  7.4870e-05, -7.1190e-04]),\n",
       "     'exp_avg_sq': tensor([2.7615e-07, 3.0601e-07, 3.7351e-07, 1.0723e-07, 1.2385e-07, 2.5237e-07,\n",
       "             1.2998e-07, 1.1425e-07, 1.3112e-07, 2.7203e-07, 8.3178e-08, 3.3166e-07,\n",
       "             3.4174e-08, 1.6420e-07, 4.0763e-08, 8.1933e-08, 4.7582e-07, 8.1091e-07,\n",
       "             3.9580e-09, 3.8543e-07, 4.1590e-07, 2.1242e-07, 1.3773e-07, 2.6498e-07,\n",
       "             8.6317e-07, 1.8067e-07, 4.7600e-07, 1.3372e-07, 1.1296e-07, 5.6611e-07,\n",
       "             3.9850e-08, 6.0391e-07, 1.2856e-07, 1.8372e-07, 3.7385e-07, 3.0848e-07,\n",
       "             2.6872e-07, 2.0532e-07, 2.0238e-07, 2.4894e-07, 2.6002e-07, 2.7998e-07,\n",
       "             2.7706e-07, 5.8732e-07, 5.4658e-07, 8.6534e-08, 3.6127e-08, 2.4991e-09,\n",
       "             1.3105e-09, 2.2172e-07, 6.9428e-08, 2.0417e-07, 6.3045e-07, 1.7003e-07,\n",
       "             9.1543e-08, 8.4487e-08, 2.0861e-07, 2.9088e-07, 6.0450e-07, 7.7092e-11,\n",
       "             4.4113e-08, 1.2001e-07, 9.1856e-08, 2.5608e-07])},\n",
       "    1: {'step': 46,\n",
       "     'exp_avg': tensor([ 1.1740e-03, -9.9768e-04, -1.1082e-03, -3.6054e-04, -1.6639e-03,\n",
       "              1.0519e-03,  7.2915e-04, -4.4756e-04,  7.1876e-04, -3.0145e-04,\n",
       "              7.6546e-04,  8.5957e-04, -1.4198e-03, -2.3603e-03, -3.1813e-04,\n",
       "             -3.7091e-04,  9.5442e-05, -1.7726e-03, -1.5086e-05, -2.8697e-04,\n",
       "              1.3307e-04,  6.3364e-04, -5.5122e-05,  9.1766e-04, -3.2928e-03,\n",
       "              1.2836e-03, -7.3138e-04,  4.6194e-04,  2.2480e-04, -6.7411e-04,\n",
       "             -1.7616e-03, -2.8361e-03, -5.0355e-04, -1.7460e-03, -1.6673e-03,\n",
       "             -3.8455e-04, -3.1514e-03, -2.5379e-03, -2.0604e-03, -4.0633e-03,\n",
       "             -1.5177e-03,  7.1116e-05,  4.2834e-04, -1.4362e-04,  1.0183e-03,\n",
       "             -1.7421e-03, -2.0599e-03,  1.4504e-04, -2.2399e-05, -5.1660e-04,\n",
       "              1.2900e-03, -1.1676e-03, -1.4293e-03,  4.2706e-04, -4.1058e-04,\n",
       "             -1.2457e-03,  3.5284e-04, -3.3962e-03, -2.2948e-03, -9.0044e-06,\n",
       "              1.4985e-04, -9.1534e-04, -1.2768e-03,  6.3953e-04]),\n",
       "     'exp_avg_sq': tensor([3.0055e-07, 3.1378e-07, 4.3425e-07, 1.0389e-07, 2.1956e-07, 2.4386e-07,\n",
       "             1.1380e-07, 1.2358e-07, 1.1730e-07, 2.8467e-07, 5.6634e-08, 3.0477e-07,\n",
       "             1.1069e-07, 3.0503e-07, 3.1996e-08, 1.4579e-07, 4.0758e-07, 8.9189e-07,\n",
       "             2.2577e-09, 4.4348e-07, 4.2477e-07, 1.8299e-07, 1.5364e-07, 2.2541e-07,\n",
       "             1.2907e-06, 2.0184e-07, 5.1772e-07, 9.3581e-08, 1.4528e-07, 5.7550e-07,\n",
       "             1.2184e-07, 9.5580e-07, 1.6506e-07, 3.1159e-07, 4.5218e-07, 2.6509e-07,\n",
       "             5.1971e-07, 4.3245e-07, 3.0914e-07, 1.0285e-06, 3.6430e-07, 2.7341e-07,\n",
       "             2.9659e-07, 6.4164e-07, 6.8449e-07, 1.5238e-07, 1.9944e-07, 1.7457e-08,\n",
       "             5.6567e-10, 1.6041e-07, 5.7022e-08, 2.5892e-07, 7.7718e-07, 1.3955e-07,\n",
       "             1.0360e-07, 1.4970e-07, 1.9767e-07, 5.3425e-07, 9.1985e-07, 3.3673e-11,\n",
       "             5.0093e-08, 1.7824e-07, 1.9511e-07, 2.4977e-07])},\n",
       "    2: {'step': 46,\n",
       "     'exp_avg': tensor([[ 6.0948e-06, -2.8457e-07,  4.7530e-07,  ...,  3.8327e-06,\n",
       "              -2.6711e-06, -4.9949e-07],\n",
       "             [ 1.5385e-05,  2.2283e-07, -7.9619e-07,  ...,  6.2236e-06,\n",
       "              -6.9557e-06, -7.4135e-08],\n",
       "             [-9.2282e-06, -7.7548e-08,  6.5886e-08,  ..., -3.2646e-06,\n",
       "               1.0232e-06,  1.4278e-06],\n",
       "             ...,\n",
       "             [-4.7104e-06,  2.9449e-07,  1.5006e-07,  ...,  1.1302e-06,\n",
       "              -1.2257e-06,  1.4117e-06],\n",
       "             [-4.6514e-06, -2.8825e-07,  2.3664e-07,  ...,  8.2407e-07,\n",
       "              -2.3874e-06,  1.8101e-06],\n",
       "             [-8.6823e-06, -7.8582e-07, -3.4336e-07,  ..., -2.7419e-06,\n",
       "               1.4228e-06,  9.6095e-07]]),\n",
       "     'exp_avg_sq': tensor([[5.1250e-12, 1.2993e-13, 6.4010e-13,  ..., 5.9372e-12, 6.2133e-12,\n",
       "              1.2373e-12],\n",
       "             [3.6980e-11, 1.3623e-13, 5.3609e-12,  ..., 3.4039e-12, 7.5831e-12,\n",
       "              7.5838e-13],\n",
       "             [9.4965e-12, 7.4121e-13, 1.5530e-12,  ..., 6.2166e-12, 6.0412e-12,\n",
       "              2.1472e-12],\n",
       "             ...,\n",
       "             [2.0980e-11, 5.9593e-13, 2.4336e-12,  ..., 6.9928e-12, 8.2134e-12,\n",
       "              1.6271e-12],\n",
       "             [1.4580e-11, 2.2082e-13, 2.5478e-12,  ..., 6.3655e-12, 8.9711e-12,\n",
       "              1.5549e-12],\n",
       "             [1.0344e-11, 3.2744e-13, 1.6095e-12,  ..., 6.0155e-12, 1.0023e-11,\n",
       "              1.6817e-12]])},\n",
       "    3: {'step': 46,\n",
       "     'exp_avg': tensor([-4.8274e-04,  1.1576e-04,  4.7481e-04, -1.3555e-04,  2.6377e-04,\n",
       "              1.6854e-05,  7.4237e-05,  1.7524e-04, -8.2064e-05,  2.9582e-04,\n",
       "             -2.8285e-04, -3.4814e-04,  3.2501e-04,  2.7492e-04,  7.9302e-05,\n",
       "              7.6013e-05,  1.1742e-04,  1.5834e-04, -2.0813e-05,  1.6648e-04,\n",
       "             -2.3933e-04,  1.0998e-04, -1.1330e-05,  8.7860e-05,  1.2327e-04,\n",
       "             -4.5084e-04,  4.2106e-04, -3.5393e-04, -3.8984e-04,  4.3634e-04,\n",
       "              1.0022e-05,  1.3554e-04,  3.4365e-04,  3.4642e-04,  6.7301e-05,\n",
       "             -2.3354e-04,  9.7566e-05,  4.9641e-05,  1.7516e-04,  4.4746e-04,\n",
       "              1.2572e-04,  3.8412e-06, -1.9786e-04, -2.7349e-04, -6.5249e-04,\n",
       "              1.3149e-04,  4.9651e-04, -4.7916e-05,  1.8616e-05, -1.0239e-04,\n",
       "             -2.7295e-04,  1.2907e-04,  1.3064e-04, -1.3613e-04, -7.2438e-05,\n",
       "             -3.7512e-05,  8.5819e-05,  3.0757e-04,  3.2444e-04, -2.6919e-04,\n",
       "             -2.3825e-05,  1.5202e-04,  9.3659e-05, -4.4677e-04]),\n",
       "     'exp_avg_sq': tensor([5.4709e-08, 1.6552e-08, 3.7721e-08, 3.5922e-09, 4.0921e-08, 6.1465e-08,\n",
       "             8.0096e-09, 2.5400e-09, 4.5551e-08, 1.6178e-08, 4.5768e-08, 1.4461e-07,\n",
       "             2.6457e-08, 8.3107e-08, 1.0896e-08, 1.2414e-09, 4.5569e-08, 9.0086e-08,\n",
       "             5.1077e-08, 3.0129e-09, 5.9436e-08, 3.7579e-08, 5.5379e-08, 2.4475e-09,\n",
       "             3.8531e-08, 7.6016e-08, 8.6032e-09, 4.5001e-08, 4.2043e-08, 4.4880e-08,\n",
       "             7.9532e-09, 9.5451e-09, 3.4480e-08, 8.5024e-08, 2.5000e-08, 1.9458e-08,\n",
       "             1.5195e-07, 1.5172e-08, 1.4678e-08, 1.4801e-07, 2.7643e-09, 4.9798e-08,\n",
       "             9.5267e-08, 5.9464e-08, 2.2922e-07, 3.4137e-08, 9.8240e-08, 9.4407e-09,\n",
       "             1.2170e-07, 8.5187e-08, 5.0236e-08, 3.7336e-09, 5.1138e-08, 7.7143e-09,\n",
       "             2.4809e-08, 2.1392e-09, 2.3726e-08, 3.8978e-08, 4.6149e-09, 2.9943e-09,\n",
       "             1.2559e-08, 1.0089e-09, 8.5250e-10, 1.8591e-07])},\n",
       "    4: {'step': 46,\n",
       "     'exp_avg': tensor([[-1.3724e-05, -3.7399e-06, -1.5272e-07,  ...,  1.9966e-06,\n",
       "              -2.9805e-06, -2.1633e-06],\n",
       "             [ 1.3933e-06,  8.5527e-07,  1.3199e-07,  ...,  1.2946e-07,\n",
       "              -1.2933e-06,  7.4240e-07],\n",
       "             [ 3.3837e-07,  1.0084e-06,  5.5776e-07,  ..., -3.3435e-06,\n",
       "               1.4306e-06,  1.1853e-06],\n",
       "             ...,\n",
       "             [-4.5637e-06,  1.2372e-06, -1.3409e-07,  ..., -6.2181e-08,\n",
       "              -6.4191e-07, -1.7770e-06],\n",
       "             [-8.7394e-06,  3.6591e-07, -7.6486e-08,  ..., -1.0252e-06,\n",
       "               1.1006e-06, -4.1634e-07],\n",
       "             [-1.6094e-05,  1.8050e-08,  2.0552e-07,  ...,  1.2616e-06,\n",
       "               6.0483e-07, -2.7840e-06]]),\n",
       "     'exp_avg_sq': tensor([[3.4332e-11, 1.3206e-11, 5.6996e-13,  ..., 1.9220e-11, 2.5478e-11,\n",
       "              1.2468e-11],\n",
       "             [2.7626e-11, 7.8367e-13, 7.7037e-14,  ..., 5.5456e-12, 4.6581e-12,\n",
       "              4.3344e-12],\n",
       "             [3.9210e-11, 8.7964e-13, 4.5845e-13,  ..., 1.2941e-11, 1.2755e-11,\n",
       "              6.6045e-12],\n",
       "             ...,\n",
       "             [4.0172e-11, 1.2554e-12, 2.2802e-13,  ..., 7.5905e-12, 8.0453e-12,\n",
       "              3.1853e-12],\n",
       "             [1.4326e-11, 7.5493e-13, 1.3910e-13,  ..., 5.6158e-12, 5.3018e-12,\n",
       "              4.3510e-12],\n",
       "             [1.0127e-11, 7.5070e-13, 4.2348e-13,  ..., 4.8866e-12, 4.2125e-12,\n",
       "              4.2756e-12]])},\n",
       "    5: {'step': 46,\n",
       "     'exp_avg': tensor([-0.0086,  0.0214, -0.0035, -0.0011,  0.0026,  0.0058, -0.0166]),\n",
       "     'exp_avg_sq': tensor([3.4437e-06, 1.4001e-05, 3.4587e-07, 1.0063e-07, 1.8209e-07, 3.4292e-06,\n",
       "             8.8702e-06])},\n",
       "    6: {'step': 46,\n",
       "     'exp_avg': tensor([[ 9.8201e-04,  3.1371e-03, -2.7507e-03,  1.0651e-03, -4.3887e-04,\n",
       "              -2.6856e-03,  2.2180e-03, -1.5335e-03,  1.0973e-03, -7.2250e-04,\n",
       "              -1.7378e-03,  2.5271e-03,  1.1422e-03,  1.0234e-03, -7.6850e-04,\n",
       "              -1.2669e-03, -1.6579e-03,  2.2287e-03, -9.7971e-04, -7.8420e-04,\n",
       "               9.5942e-04, -4.6915e-04, -1.4568e-03, -1.5232e-03,  2.6863e-03,\n",
       "               1.9158e-03, -8.2509e-04, -1.4485e-04, -1.6581e-03, -3.0932e-03,\n",
       "               1.2541e-03,  2.1867e-03, -2.7737e-03, -3.0734e-03,  1.6422e-03,\n",
       "               1.6483e-03,  1.9614e-03,  1.3637e-03,  1.6755e-03,  2.0670e-03,\n",
       "               2.9470e-03, -1.7490e-03, -1.4553e-03, -1.7401e-03,  4.4094e-04,\n",
       "               2.0141e-03, -1.0471e-04,  7.0898e-04, -8.2658e-04, -1.1387e-03,\n",
       "              -1.9716e-03, -1.2194e-03, -2.7016e-03,  1.0598e-03,  1.7381e-03,\n",
       "              -9.0289e-04,  5.7946e-04,  1.7491e-03,  2.5625e-03, -7.1798e-04,\n",
       "              -3.6118e-05,  2.1351e-03,  1.8121e-03,  1.1587e-03],\n",
       "             [-2.3457e-03, -2.3913e-04, -5.7464e-04, -5.9237e-04, -1.6778e-03,\n",
       "              -2.5626e-03, -1.0746e-03, -2.0841e-03, -2.4540e-03, -7.3692e-04,\n",
       "              -1.9791e-04, -2.7835e-03, -6.2949e-04,  1.0660e-03, -1.2525e-03,\n",
       "               2.8666e-03,  1.0880e-03,  8.3928e-04,  1.5076e-03, -1.3451e-03,\n",
       "              -2.4670e-03, -1.4867e-03,  4.2467e-03, -1.4245e-03,  2.3127e-03,\n",
       "              -1.2733e-03, -1.0005e-04, -2.0037e-03, -1.0485e-03,  1.3452e-03,\n",
       "               1.9044e-03,  1.5424e-03,  1.3851e-03,  1.7932e-03,  1.5646e-04,\n",
       "              -1.6799e-03,  3.3441e-03,  1.6277e-03,  2.3596e-03,  1.4143e-03,\n",
       "               8.0960e-06, -1.6312e-03, -1.5785e-04, -2.7289e-03, -2.5532e-03,\n",
       "               6.5162e-04,  1.8500e-03, -2.4523e-04,  1.3333e-03, -3.1262e-03,\n",
       "               3.2778e-04,  6.9042e-04, -3.3203e-04, -1.4142e-03, -1.2863e-03,\n",
       "               1.4077e-03,  9.8730e-04,  1.5790e-03, -1.4897e-03,  1.1584e-03,\n",
       "               1.3928e-03, -1.5305e-03, -1.5989e-03, -2.7279e-03],\n",
       "             [ 2.2732e-03, -1.5714e-03,  2.0842e-03, -1.3847e-03,  2.2532e-03,\n",
       "               1.8031e-03, -1.9367e-03,  2.0370e-03,  8.4326e-04, -2.1915e-03,\n",
       "               2.2354e-04,  2.2558e-03,  1.6590e-03, -1.1354e-03,  6.9937e-04,\n",
       "              -3.8971e-03,  2.2862e-03,  1.0263e-03, -6.3387e-04, -1.6843e-03,\n",
       "               1.9744e-03, -1.9115e-03, -2.0679e-03, -9.1257e-04, -2.5226e-03,\n",
       "               1.6936e-03, -2.5601e-03,  3.4119e-03,  2.6536e-03,  1.3262e-03,\n",
       "              -2.2342e-03, -1.7502e-03,  1.0366e-03,  8.3626e-04, -1.9291e-03,\n",
       "               1.8232e-03, -2.8918e-03, -1.7839e-03, -2.7850e-03, -3.3951e-03,\n",
       "              -2.0594e-03, -1.9483e-03, -9.9755e-04,  2.3057e-03,  3.6159e-03,\n",
       "              -1.5868e-03, -2.0892e-03,  1.6115e-03,  8.7421e-04,  3.0433e-03,\n",
       "               1.7496e-03,  2.0350e-03,  3.0188e-03, -7.7117e-04, -1.1877e-03,\n",
       "               1.8662e-03, -4.7035e-04, -3.3000e-03, -2.8051e-03, -3.4014e-04,\n",
       "               1.1741e-04,  1.4356e-03,  1.8817e-03,  3.0104e-03],\n",
       "             [ 2.1028e-03, -8.9653e-04, -7.4687e-04,  7.5734e-04,  1.3773e-03,\n",
       "               6.6458e-04, -1.7564e-03,  3.1036e-04, -2.4249e-03, -4.5897e-04,\n",
       "               1.4486e-03, -1.7863e-03, -1.8969e-03,  1.3078e-03,  9.5952e-04,\n",
       "              -1.4431e-03, -7.0351e-04, -1.1776e-03,  7.6033e-04,  2.3280e-03,\n",
       "              -1.4132e-03, -1.6194e-03, -1.1735e-03,  2.1607e-03, -3.6349e-04,\n",
       "              -1.2208e-03, -9.2212e-04,  2.6611e-03,  8.8343e-04, -2.7858e-03,\n",
       "               8.6952e-04, -1.4135e-04, -1.7397e-03,  3.3603e-04,  2.4916e-03,\n",
       "              -1.5971e-03,  2.0188e-03,  1.4908e-03, -1.1328e-03,  1.3297e-03,\n",
       "              -9.3274e-04,  1.1582e-03, -1.4479e-03,  1.7307e-03, -4.4145e-04,\n",
       "               9.1223e-04, -1.5763e-03,  4.2809e-04,  1.2228e-03, -1.3208e-03,\n",
       "              -7.2479e-04, -6.0659e-04,  2.7765e-03,  2.4608e-03,  9.8079e-04,\n",
       "              -4.4278e-04, -1.9651e-03,  1.1288e-03,  1.6059e-04,  1.0885e-03,\n",
       "              -1.8994e-03, -1.3272e-03,  3.9681e-05, -5.8575e-04],\n",
       "             [-1.8790e-03,  2.7915e-03,  1.9235e-03,  1.8604e-03,  1.1418e-03,\n",
       "               7.7106e-04,  7.7379e-04,  2.3082e-03,  2.2688e-03,  1.1910e-03,\n",
       "              -2.8263e-03, -2.6614e-03,  6.9099e-04,  1.5917e-03, -7.4414e-05,\n",
       "              -8.4482e-04,  2.8652e-03,  8.2493e-04, -5.2753e-04,  2.6821e-03,\n",
       "               1.6635e-03,  2.0466e-03, -1.0778e-03,  3.1663e-03, -3.1301e-03,\n",
       "              -1.7980e-03,  1.9072e-03, -2.4978e-03, -1.1084e-03,  1.6553e-03,\n",
       "              -2.4580e-03, -2.7940e-03,  1.6848e-03,  9.1554e-04,  1.9225e-03,\n",
       "               1.0003e-03, -1.6220e-03, -2.4000e-03, -1.7461e-03,  1.4228e-03,\n",
       "              -1.7473e-03,  1.9423e-03, -6.8469e-04,  2.6004e-03, -1.4274e-03,\n",
       "               1.6398e-03,  1.8566e-03, -5.8487e-04, -3.7612e-04,  2.4890e-03,\n",
       "              -3.1803e-03, -2.2987e-03,  2.6283e-03,  1.6015e-03, -1.6990e-03,\n",
       "              -3.5607e-03,  2.2033e-03,  2.7252e-04,  1.3655e-03, -1.5567e-03,\n",
       "               1.2046e-03, -7.3235e-04, -2.0068e-03, -3.2958e-03],\n",
       "             [-1.9227e-03, -2.0235e-03,  2.3107e-03, -3.1093e-03,  5.8225e-04,\n",
       "               1.5040e-03,  9.8891e-04,  9.9956e-05, -1.5435e-03,  3.4033e-03,\n",
       "               1.8670e-03,  2.1038e-03,  1.8661e-03, -1.3509e-03,  1.2852e-03,\n",
       "               2.1815e-03, -3.0917e-03, -1.7863e-03, -3.6597e-04, -9.2647e-04,\n",
       "              -2.6073e-03,  1.3711e-03, -3.4691e-04, -1.7985e-03,  2.7499e-03,\n",
       "              -1.5156e-03,  3.2887e-03, -2.6123e-04, -1.7146e-03,  2.0791e-03,\n",
       "               1.4153e-03,  3.2876e-03,  1.1312e-03,  1.3620e-03, -2.5474e-03,\n",
       "              -2.7552e-03, -1.1225e-03,  1.9640e-03,  2.4878e-03, -1.0174e-04,\n",
       "               3.2028e-03,  1.6687e-04,  1.8078e-03, -3.7394e-03, -2.1478e-03,\n",
       "              -2.0386e-03,  1.2458e-03, -6.6868e-04, -1.1310e-03, -1.1447e-03,\n",
       "               2.1329e-03,  3.4741e-03, -2.7661e-03, -2.8234e-03,  2.1955e-03,\n",
       "               3.0884e-03, -2.5995e-03,  1.2220e-03,  2.2104e-03, -3.1326e-04,\n",
       "              -2.4928e-03,  2.5284e-03,  2.7863e-03,  1.9950e-03],\n",
       "             [ 5.0814e-04, -9.4322e-04, -2.2847e-03,  1.4603e-03, -3.6107e-03,\n",
       "               1.8863e-04,  8.9219e-04, -7.2685e-04,  2.1802e-03, -2.9457e-04,\n",
       "               1.1603e-03,  3.9688e-04, -3.0655e-03, -2.6451e-03, -1.0021e-03,\n",
       "               2.4168e-03, -8.7395e-04, -1.9463e-03,  3.4831e-04, -1.2681e-04,\n",
       "               1.5826e-03,  2.2712e-03,  2.3575e-03,  5.4398e-04, -1.7287e-03,\n",
       "               2.4807e-03, -5.3080e-04, -8.0978e-04,  2.1181e-03, -7.1718e-04,\n",
       "              -1.1976e-03, -2.2424e-03, -1.0571e-03, -2.2321e-03, -1.5635e-03,\n",
       "               1.5940e-03, -1.6664e-03, -1.8598e-03, -7.9865e-04, -3.0011e-03,\n",
       "              -1.0911e-03,  1.9117e-03,  3.3397e-03,  1.4083e-03,  2.6971e-03,\n",
       "              -1.8509e-03, -1.3718e-03, -1.2028e-03, -9.1765e-04,  1.1567e-03,\n",
       "               1.4372e-03, -2.0923e-03, -2.6378e-03, -1.9671e-05, -3.7937e-04,\n",
       "              -1.5001e-03,  1.0879e-03, -2.9164e-03, -2.0682e-03,  4.4100e-04,\n",
       "               1.4990e-03, -2.3822e-03, -2.9835e-03,  4.7416e-04]]),\n",
       "     'exp_avg_sq': tensor([[7.9323e-08, 5.2141e-07, 3.0732e-07, 6.7750e-08, 9.7054e-09, 3.2936e-07,\n",
       "              3.3703e-07, 9.7193e-08, 9.1621e-08, 3.5824e-08, 1.2955e-07, 2.7754e-07,\n",
       "              3.3572e-08, 2.7711e-08, 1.7997e-08, 1.0834e-07, 1.7416e-07, 1.6788e-07,\n",
       "              5.5965e-08, 3.0074e-08, 9.6823e-08, 9.1380e-09, 1.1780e-07, 1.3235e-07,\n",
       "              3.3329e-07, 2.6697e-07, 4.3884e-08, 9.9069e-09, 9.5206e-08, 3.8895e-07,\n",
       "              7.3082e-08, 2.1155e-07, 3.7745e-07, 4.6635e-07, 1.1503e-07, 1.8426e-07,\n",
       "              1.3724e-07, 6.9719e-08, 1.2132e-07, 1.3436e-07, 3.4999e-07, 1.3750e-07,\n",
       "              8.0724e-08, 8.2055e-08, 1.8682e-08, 1.9401e-07, 6.4179e-09, 1.4463e-08,\n",
       "              3.6890e-08, 3.8533e-08, 1.4031e-07, 8.3613e-08, 3.4253e-07, 5.8949e-08,\n",
       "              2.0935e-07, 3.4710e-08, 1.3877e-08, 9.5497e-08, 2.6720e-07, 3.7756e-08,\n",
       "              2.3801e-09, 2.2117e-07, 1.6886e-07, 8.7927e-08],\n",
       "             [1.5822e-07, 5.6663e-09, 8.5593e-09, 1.9480e-08, 8.7900e-08, 2.1830e-07,\n",
       "              1.3010e-07, 1.6574e-07, 2.8645e-07, 1.1718e-07, 1.8854e-08, 3.1914e-07,\n",
       "              2.0790e-08, 6.1547e-08, 7.6360e-08, 2.8644e-07, 1.2470e-07, 3.7809e-08,\n",
       "              1.0853e-07, 7.5289e-08, 3.1024e-07, 2.0082e-07, 6.9748e-07, 8.5222e-08,\n",
       "              1.7129e-07, 8.7624e-08, 3.6258e-08, 2.0678e-07, 3.2546e-08, 7.5238e-08,\n",
       "              1.1415e-07, 5.5180e-08, 8.5553e-08, 1.4611e-07, 3.8522e-09, 1.1448e-07,\n",
       "              4.1354e-07, 8.9913e-08, 1.5815e-07, 5.2438e-08, 3.9399e-08, 1.1935e-07,\n",
       "              5.3911e-08, 1.7533e-07, 2.2815e-07, 2.3762e-08, 8.6045e-08, 8.0351e-09,\n",
       "              6.7646e-08, 4.3343e-07, 6.0323e-09, 1.7347e-08, 1.9661e-08, 1.0703e-07,\n",
       "              2.0196e-07, 6.8227e-08, 8.6789e-08, 5.7503e-08, 1.5114e-07, 8.4059e-08,\n",
       "              1.3926e-07, 1.6974e-07, 2.3666e-07, 3.0147e-07],\n",
       "             [1.3269e-07, 8.5520e-08, 1.2999e-07, 7.3846e-08, 1.7662e-07, 9.6265e-08,\n",
       "              1.1772e-07, 1.3028e-07, 3.4145e-08, 1.7707e-07, 2.3909e-09, 1.5350e-07,\n",
       "              7.9531e-08, 3.3104e-08, 2.1609e-08, 5.3325e-07, 1.9046e-07, 3.8741e-08,\n",
       "              1.4345e-08, 1.1376e-07, 1.7778e-07, 1.2724e-07, 1.2483e-07, 4.2355e-08,\n",
       "              2.0734e-07, 1.0629e-07, 1.9624e-07, 3.8981e-07, 2.3929e-07, 6.5067e-08,\n",
       "              1.7356e-07, 1.0098e-07, 3.9281e-08, 2.7264e-08, 1.5502e-07, 1.3043e-07,\n",
       "              2.8332e-07, 1.1268e-07, 2.4951e-07, 3.2997e-07, 1.3254e-07, 1.6355e-07,\n",
       "              2.9200e-08, 1.3163e-07, 4.1845e-07, 1.0379e-07, 1.0660e-07, 9.8155e-08,\n",
       "              2.0032e-08, 3.6680e-07, 1.2070e-07, 2.0550e-07, 2.6707e-07, 3.2441e-08,\n",
       "              5.7540e-08, 1.6544e-07, 1.6343e-08, 3.0395e-07, 2.6476e-07, 8.2878e-09,\n",
       "              1.2593e-08, 8.3831e-08, 1.3857e-07, 2.8522e-07],\n",
       "             [1.2730e-07, 6.3680e-08, 2.2597e-08, 5.2110e-08, 6.0831e-08, 2.9999e-08,\n",
       "              1.7871e-07, 8.1191e-09, 2.6266e-07, 1.5095e-08, 1.1379e-07, 9.8501e-08,\n",
       "              1.0405e-07, 6.7182e-08, 2.7312e-08, 5.8887e-08, 2.2614e-08, 6.4420e-08,\n",
       "              3.2286e-08, 2.0989e-07, 1.3345e-07, 1.3665e-07, 4.5064e-08, 2.4832e-07,\n",
       "              2.1723e-08, 6.7525e-08, 5.5681e-08, 3.6531e-07, 3.4395e-08, 2.7446e-07,\n",
       "              3.7268e-08, 6.2282e-09, 1.1040e-07, 4.0453e-09, 2.6892e-07, 1.3549e-07,\n",
       "              1.7252e-07, 8.0142e-08, 7.3248e-08, 4.8599e-08, 3.2533e-08, 8.9472e-08,\n",
       "              9.6749e-08, 7.7703e-08, 7.1245e-09, 4.8924e-08, 7.1290e-08, 6.1739e-09,\n",
       "              5.0415e-08, 1.2130e-07, 3.2608e-08, 6.4232e-08, 2.6519e-07, 2.9529e-07,\n",
       "              3.4490e-08, 3.5697e-08, 1.8724e-07, 3.3336e-08, 2.6990e-09, 5.3119e-08,\n",
       "              1.5711e-07, 1.3682e-07, 2.0605e-08, 1.8277e-08],\n",
       "             [1.5483e-07, 2.2610e-07, 1.6750e-07, 8.3325e-08, 8.3957e-08, 4.8288e-08,\n",
       "              1.2658e-08, 2.1605e-07, 1.3587e-07, 1.2407e-07, 2.7320e-07, 1.9787e-07,\n",
       "              2.6291e-08, 8.6992e-08, 5.1629e-09, 2.5007e-08, 2.6255e-07, 1.5732e-08,\n",
       "              9.6638e-09, 2.1894e-07, 7.2306e-08, 1.5787e-07, 5.0098e-08, 3.3411e-07,\n",
       "              3.1341e-07, 2.2189e-07, 2.1769e-07, 3.0219e-07, 1.1510e-07, 1.3700e-07,\n",
       "              2.2344e-07, 2.0407e-07, 1.5143e-07, 9.1072e-08, 1.0048e-07, 2.8320e-08,\n",
       "              1.2179e-07, 1.9096e-07, 7.9603e-08, 6.0036e-08, 8.3800e-08, 1.3997e-07,\n",
       "              2.1717e-08, 1.5213e-07, 1.0862e-07, 7.7569e-08, 1.1963e-07, 8.0105e-09,\n",
       "              4.2525e-09, 2.0936e-07, 3.1044e-07, 1.4144e-07, 2.3956e-07, 7.5906e-08,\n",
       "              1.0253e-07, 3.9296e-07, 1.3774e-07, 2.0164e-08, 7.9765e-08, 8.1339e-08,\n",
       "              3.3811e-08, 1.2120e-08, 8.7029e-08, 3.2702e-07],\n",
       "             [1.1080e-07, 1.1801e-07, 1.8024e-07, 3.6638e-07, 2.0286e-08, 1.0503e-07,\n",
       "              9.5484e-08, 2.9919e-08, 5.6328e-08, 5.2268e-07, 9.8259e-08, 1.0962e-07,\n",
       "              1.0123e-07, 7.2115e-08, 5.8136e-08, 1.6350e-07, 2.9300e-07, 8.9385e-08,\n",
       "              1.4006e-08, 1.9994e-08, 1.9339e-07, 1.9464e-07, 2.8776e-08, 8.5790e-08,\n",
       "              2.1427e-07, 7.1626e-08, 4.6923e-07, 6.8187e-09, 8.8610e-08, 1.5339e-07,\n",
       "              4.8083e-08, 2.9854e-07, 5.4653e-08, 5.3351e-08, 2.1932e-07, 2.2437e-07,\n",
       "              8.1378e-08, 9.3449e-08, 1.8070e-07, 3.3431e-09, 2.9918e-07, 1.5390e-08,\n",
       "              1.5490e-07, 3.0708e-07, 1.2046e-07, 1.6455e-07, 3.5411e-08, 1.5506e-08,\n",
       "              3.7815e-08, 3.5797e-08, 1.3963e-07, 4.3309e-07, 2.2570e-07, 2.6843e-07,\n",
       "              1.9295e-07, 2.8711e-07, 2.1533e-07, 2.9771e-08, 1.7907e-07, 1.7107e-08,\n",
       "              2.0533e-07, 2.4742e-07, 2.9027e-07, 1.0296e-07],\n",
       "             [9.3724e-09, 6.0111e-08, 1.7404e-07, 7.9930e-08, 5.9391e-07, 4.0550e-09,\n",
       "              2.4715e-08, 3.2784e-08, 1.6111e-07, 2.6585e-09, 1.0536e-07, 8.4095e-09,\n",
       "              2.7133e-07, 2.8067e-07, 3.1759e-08, 2.4126e-07, 4.6938e-08, 1.2106e-07,\n",
       "              5.0615e-09, 1.2103e-09, 1.0788e-07, 1.8499e-07, 2.2109e-07, 1.1124e-08,\n",
       "              9.7514e-08, 2.4273e-07, 1.4840e-08, 2.0629e-08, 1.8856e-07, 3.4957e-08,\n",
       "              3.4815e-08, 1.3663e-07, 5.3573e-08, 1.7337e-07, 7.6764e-08, 8.9923e-08,\n",
       "              7.5997e-08, 8.2002e-08, 2.1414e-08, 2.3493e-07, 2.4520e-08, 1.1358e-07,\n",
       "              5.0014e-07, 4.2172e-08, 2.3716e-07, 1.4241e-07, 5.0372e-08, 6.0218e-08,\n",
       "              2.1445e-08, 5.0380e-08, 9.3091e-08, 1.5110e-07, 2.4257e-07, 7.4405e-09,\n",
       "              5.0349e-09, 6.2899e-08, 2.8771e-08, 2.1995e-07, 1.3084e-07, 1.0408e-08,\n",
       "              7.0101e-08, 1.8077e-07, 2.8860e-07, 1.6179e-08]])},\n",
       "    7: {'step': 46,\n",
       "     'exp_avg': tensor([ 0.0002, -0.0011,  0.0010,  0.0005, -0.0016, -0.0005,  0.0013]),\n",
       "     'exp_avg_sq': tensor([1.2873e-08, 3.9466e-06, 4.8987e-07, 3.3126e-08, 5.5185e-07, 5.2425e-07,\n",
       "             1.5768e-06])}},\n",
       "   'param_groups': [{'lr': 0.001,\n",
       "     'betas': (0.9, 0.999),\n",
       "     'eps': 1e-08,\n",
       "     'weight_decay': 0.001,\n",
       "     'amsgrad': False,\n",
       "     'params': [0, 1, 2, 3, 4, 5, 6, 7]}]}],\n",
       " 'lr_schedulers': [],\n",
       " 'hparams_name': 'kwargs',\n",
       " 'hyper_parameters': {'num_input_features': 8710,\n",
       "  'num_classes': 7,\n",
       "  'learning_rate': 0.001,\n",
       "  'weight_decay': 0.001,\n",
       "  'orthnormal_regularizer': 0.0,\n",
       "  'orthonormal_weight_scale': 1.0}}"
      ]
     },
     "execution_count": 75,
     "metadata": {},
     "output_type": "execute_result"
    }
   ],
   "source": [
    "import torch\n",
    "torch.load(weight_scale_to_path[0.5], map_location=torch.device('cpu'))"
   ]
  },
  {
   "cell_type": "code",
   "execution_count": null,
   "id": "2fad7be7",
   "metadata": {},
   "outputs": [],
   "source": []
  },
  {
   "cell_type": "code",
   "execution_count": null,
   "id": "92de2e72",
   "metadata": {},
   "outputs": [],
   "source": []
  },
  {
   "cell_type": "code",
   "execution_count": null,
   "id": "b637a7ee",
   "metadata": {},
   "outputs": [],
   "source": []
  },
  {
   "cell_type": "code",
   "execution_count": null,
   "id": "46fa02a0",
   "metadata": {},
   "outputs": [],
   "source": []
  },
  {
   "cell_type": "code",
   "execution_count": 65,
   "id": "001957f9",
   "metadata": {},
   "outputs": [],
   "source": [
    "from collections import Counter\n",
    "cfgs = defaultdict(list)\n",
    "\n",
    "for cfg, path in registry.items():\n",
    "    if cfg.data.dataset == dc.CORA_FULL and cfg.data.ood_type == dc.PERTURBATION and \\\n",
    "        cfg.data.setting == dc.HYBRID and cfg.model.weight_scale == 200 and cfg.model.residual and \\\n",
    "        not cfg.model.use_spectral_norm_on_last_layer and cfg.model.reconstruction.loss_weight == 0:\n",
    "        \n",
    "        cfgs[(cfg.registry.model_seed, cfg.registry.split_seed)].append(cfg)"
   ]
  },
  {
   "cell_type": "code",
   "execution_count": 66,
   "id": "09e3c879",
   "metadata": {},
   "outputs": [
    {
     "data": {
      "text/plain": [
       "{'model': {'hidden_sizes': [64],\n",
       "  'linear_classification': False,\n",
       "  'weight_scale': 200.0,\n",
       "  'use_spectral_norm': True,\n",
       "  'model_type': 'gcn',\n",
       "  'use_bias': True,\n",
       "  'activation': 'leaky_relu',\n",
       "  'leaky_relu_slope': 0.01,\n",
       "  'residual': True,\n",
       "  'residual_pre_activation': True,\n",
       "  'freeze_residual_projection': False,\n",
       "  'dropout': 0.0,\n",
       "  'drop_edge': 0.0,\n",
       "  'use_spectral_norm_on_last_layer': False,\n",
       "  'use_bjorck_norm_on_last_layer': False,\n",
       "  'use_forbenius_norm_on_last_layer': False,\n",
       "  'use_rescaling_on_last_layer': False,\n",
       "  'use_residual_on_last_layer': False,\n",
       "  'use_rescaling': False,\n",
       "  'cached': True,\n",
       "  'self_loop_fill_value': 1.0,\n",
       "  'use_forbenius_norm': False,\n",
       "  'use_bjorck_norm': False,\n",
       "  'forbenius_norm': 1.0,\n",
       "  'initialization_scale': 1.0,\n",
       "  'reconstruction': {'loss_weight': 0.0,\n",
       "   'sample': True,\n",
       "   'num_samples': 100,\n",
       "   'seed': 1337,\n",
       "   'reconstruction_type': 'autoencoder',\n",
       "   'cached': True,\n",
       "   'margin_constrastive_loss': 0.0},\n",
       "  'feature_reconstruction': {'loss_weight': 0.0,\n",
       "   'loss': 'l2',\n",
       "   'mirror_encoder': True,\n",
       "   'activation_on_last_layer': False,\n",
       "   'num_samples': -1,\n",
       "   'seed': 1337},\n",
       "  'gat': None,\n",
       "  'appnp': None,\n",
       "  'bgcn': None,\n",
       "  'laplace': None,\n",
       "  'orthogonal': None,\n",
       "  'input_distance': None,\n",
       "  'gdk': None},\n",
       " 'data': {'dataset': 'cora_full',\n",
       "  'train_portion': 20,\n",
       "  'val_portion': 20,\n",
       "  'test_portion_fixed': 0.2,\n",
       "  'base_labels': ['Artificial_Intelligence/Machine_Learning/Case-Based',\n",
       "   'Artificial_Intelligence/Machine_Learning/Theory',\n",
       "   'Artificial_Intelligence/Machine_Learning/Genetic_Algorithms',\n",
       "   'Artificial_Intelligence/Machine_Learning/Probabilistic_Methods',\n",
       "   'Artificial_Intelligence/Machine_Learning/Neural_Networks',\n",
       "   'Artificial_Intelligence/Machine_Learning/Rule_Learning',\n",
       "   'Artificial_Intelligence/Machine_Learning/Reinforcement_Learning'],\n",
       "  'train_labels': ['Artificial_Intelligence/Machine_Learning/Case-Based',\n",
       "   'Artificial_Intelligence/Machine_Learning/Theory',\n",
       "   'Artificial_Intelligence/Machine_Learning/Genetic_Algorithms',\n",
       "   'Artificial_Intelligence/Machine_Learning/Probabilistic_Methods',\n",
       "   'Artificial_Intelligence/Machine_Learning/Neural_Networks',\n",
       "   'Artificial_Intelligence/Machine_Learning/Rule_Learning',\n",
       "   'Artificial_Intelligence/Machine_Learning/Reinforcement_Learning'],\n",
       "  'corpus_labels': ['Artificial_Intelligence/Machine_Learning/Case-Based',\n",
       "   'Artificial_Intelligence/Machine_Learning/Theory',\n",
       "   'Artificial_Intelligence/Machine_Learning/Genetic_Algorithms',\n",
       "   'Artificial_Intelligence/Machine_Learning/Probabilistic_Methods',\n",
       "   'Artificial_Intelligence/Machine_Learning/Neural_Networks',\n",
       "   'Artificial_Intelligence/Machine_Learning/Rule_Learning',\n",
       "   'Artificial_Intelligence/Machine_Learning/Reinforcement_Learning'],\n",
       "  'left_out_class_labels': [],\n",
       "  'max_attempts_per_split': 5,\n",
       "  'drop_train_vertices_portion': 0.1,\n",
       "  'setting': 'hybrid',\n",
       "  'ood_type': 'perturbations',\n",
       "  'ood_sampling_strategy': 'all',\n",
       "  'split_type': 'uniform',\n",
       "  'type': 'npz',\n",
       "  'perturbation_budget': 0.1,\n",
       "  'min_token_frequency': 10,\n",
       "  'preprocessing': 'none',\n",
       "  'language_model': 'bert-base-uncased',\n",
       "  'normalize': 'l2',\n",
       "  'vectorizer': 'tf-idf',\n",
       "  'feature_scale': 1.0,\n",
       "  'precompute_k_hop_neighbourhood': 2},\n",
       " 'training': {'max_epochs': 1000,\n",
       "  'min_epochs': None,\n",
       "  'learning_rate': 0.001,\n",
       "  'early_stopping': {'patience': 50,\n",
       "   'mode': 'min',\n",
       "   'monitor': 'val_loss',\n",
       "   'min_delta': 0.01},\n",
       "  'weight_decay': 0.001,\n",
       "  'self_training': False,\n",
       "  'num_warmup_epochs': 50,\n",
       "  'singular_value_bounding': False,\n",
       "  'singular_value_bounding_eps': 0.01,\n",
       "  'orthonormal_weight_regularization_strength': 0.0,\n",
       "  'orthonormal_weight_scale': 1.0,\n",
       "  'finetuning': {'max_epochs': 10,\n",
       "   'enable': False,\n",
       "   'reconstruction_weight': None,\n",
       "   'feature_reconstruction_weight': None}},\n",
       " 'run': {},\n",
       " 'ensemble': {},\n",
       " 'registry': {'split_seed': 3362550210, 'model_seed': 1952926171}}"
      ]
     },
     "execution_count": 66,
     "metadata": {},
     "output_type": "execute_result"
    }
   ],
   "source": [
    "cfgs[(1952926171, 3362550210)][0].registry_configuration"
   ]
  },
  {
   "cell_type": "code",
   "execution_count": 50,
   "id": "757fe49d",
   "metadata": {},
   "outputs": [],
   "source": [
    "def deepdictcmp(a, b, prefix=[]):\n",
    "    keys = set(a.keys()).union(set(b.keys()))\n",
    "    for k in keys:\n",
    "        k_print = '.'.join(prefix + [k])\n",
    "        if k not in a:\n",
    "            print(f'{k_print} not in first but second')\n",
    "        elif k not in b:\n",
    "            print(f'{k_print} not in second but first')\n",
    "        else:\n",
    "            v_a, v_b = a[k], b[k]\n",
    "            if type(v_a) != type(v_b):\n",
    "                print(f'Mismatching types for {k_print}: First: {type(v_a)}, second : {(type(v_b))}')\n",
    "            elif isinstance(v_a, dict):\n",
    "                deepdictcmp(v_a, v_b, prefix=prefix + [k])\n",
    "            elif v_a != v_b:\n",
    "                print(f'Mismatch at {k_print}: First : {v_a}, Second: {v_b}')\n",
    "            \n",
    "        \n",
    "        \n",
    "    \n",
    "    "
   ]
  },
  {
   "cell_type": "code",
   "execution_count": 69,
   "id": "8cb54d6b",
   "metadata": {},
   "outputs": [
    {
     "name": "stdout",
     "output_type": "stream",
     "text": [
      "Mismatching types for registry.split_seed: First: <class 'int'>, second : <class 'bson.int64.Int64'>\n",
      "Next\n",
      "Mismatching types for registry.split_seed: First: <class 'int'>, second : <class 'bson.int64.Int64'>\n",
      "Mismatch at registry.model_seed: First : 1952926171, Second: 272560664\n",
      "Next\n",
      "Mismatching types for registry.split_seed: First: <class 'int'>, second : <class 'bson.int64.Int64'>\n",
      "Next\n",
      "Mismatching types for registry.split_seed: First: <class 'int'>, second : <class 'bson.int64.Int64'>\n",
      "Mismatch at registry.model_seed: First : 1952926171, Second: 272560664\n",
      "Next\n",
      "Mismatching types for registry.split_seed: First: <class 'int'>, second : <class 'bson.int64.Int64'>\n",
      "Mismatching types for registry.model_seed: First: <class 'int'>, second : <class 'bson.int64.Int64'>\n",
      "Next\n",
      "Mismatching types for registry.split_seed: First: <class 'int'>, second : <class 'bson.int64.Int64'>\n",
      "Mismatching types for registry.model_seed: First: <class 'int'>, second : <class 'bson.int64.Int64'>\n",
      "Next\n",
      "Mismatching types for registry.split_seed: First: <class 'int'>, second : <class 'bson.int64.Int64'>\n",
      "Next\n",
      "Mismatching types for registry.split_seed: First: <class 'int'>, second : <class 'bson.int64.Int64'>\n",
      "Mismatch at registry.model_seed: First : 1952926171, Second: 272560664\n",
      "Next\n",
      "Mismatching types for registry.split_seed: First: <class 'int'>, second : <class 'bson.int64.Int64'>\n",
      "Mismatching types for registry.model_seed: First: <class 'int'>, second : <class 'bson.int64.Int64'>\n",
      "Next\n",
      "Mismatch at model.use_bias: First : True, Second: False\n",
      "Mismatch at training.early_stopping.patience: First : 50, Second: 100\n",
      "Mismatch at training.early_stopping.min_delta: First : 0.01, Second: 0.001\n",
      "Mismatch at registry.split_seed: First : 2612666288, Second: 0\n",
      "Next\n"
     ]
    }
   ],
   "source": [
    "for other_l in cfgs.values():\n",
    "    for other in other_l:\n",
    "        deepdictcmp(config.registry_configuration, other.registry_configuration)\n",
    "        print('Next')"
   ]
  },
  {
   "cell_type": "code",
   "execution_count": 28,
   "id": "b81a5322",
   "metadata": {},
   "outputs": [
    {
     "data": {
      "text/plain": [
       "<module 'seml.database' from '/nfs/homedirs/fuchsgru/seml/seml/database.py'>"
      ]
     },
     "execution_count": 28,
     "metadata": {},
     "output_type": "execute_result"
    }
   ],
   "source": []
  },
  {
   "cell_type": "code",
   "execution_count": 45,
   "id": "e79e4e75",
   "metadata": {},
   "outputs": [],
   "source": [
    "docs = [d for d in registry.database.get_collection(registry.collection_name).find()]"
   ]
  },
  {
   "cell_type": "code",
   "execution_count": 46,
   "id": "28ea3eac",
   "metadata": {},
   "outputs": [
    {
     "data": {
      "text/plain": [
       "['2022-04-09 15:58:38.454963',\n",
       " '2022-04-09 23:38:03.060795',\n",
       " '2022-04-11 10:45:10.796594',\n",
       " '2022-04-11 14:33:22.539656',\n",
       " '2022-04-11 15:04:04.729638']"
      ]
     },
     "execution_count": 46,
     "metadata": {},
     "output_type": "execute_result"
    }
   ],
   "source": [
    "[d['time'] for d in docs][-5:]"
   ]
  },
  {
   "cell_type": "code",
   "execution_count": 47,
   "id": "a0ec45a6",
   "metadata": {},
   "outputs": [
    {
     "data": {
      "text/plain": [
       "ModelConfiguration(hidden_sizes=[64], linear_classification=False, weight_scale=0.5, use_spectral_norm=True, model_type='gcn', use_bias=True, activation='leaky_relu', leaky_relu_slope=0.01, residual=True, residual_pre_activation=True, freeze_residual_projection=False, dropout=0.0, drop_edge=0.0, use_spectral_norm_on_last_layer=False, use_bjorck_norm_on_last_layer=False, use_forbenius_norm_on_last_layer=False, use_rescaling_on_last_layer=False, use_residual_on_last_layer=False, use_rescaling=False, cached=True, self_loop_fill_value=1.0, use_forbenius_norm=False, use_bjorck_norm=False, forbenius_norm=1.0, initialization_scale=1.0, reconstruction=ReconstructionConfiguration(loss_weight=1.0, sample=True, num_samples=100, seed=1337, reconstruction_type='energy', cached=True, margin_constrastive_loss=0.0), feature_reconstruction=FeatureReconstructionConfiguration(loss_weight=0.0, loss='l2', mirror_encoder=True, activation_on_last_layer=False, log_metrics_every=1, num_samples=-1, seed=1337), gat=None, appnp=None, bgcn=None, laplace=None, orthogonal=None, input_distance=None, gdk=None)"
      ]
     },
     "execution_count": 47,
     "metadata": {},
     "output_type": "execute_result"
    }
   ],
   "source": [
    "cfg_last = configuration.ExperimentConfiguration(**docs[-1]['config'])\n",
    "cfg_last.model"
   ]
  },
  {
   "cell_type": "code",
   "execution_count": 51,
   "id": "f4eb74c3",
   "metadata": {},
   "outputs": [
    {
     "name": "stdout",
     "output_type": "stream",
     "text": [
      "Mismatch at model.reconstruction.reconstruction_type: First : autoencoder, Second: energy\n",
      "Mismatching types for registry.split_seed: First: <class 'int'>, second : <class 'bson.int64.Int64'>\n"
     ]
    }
   ],
   "source": [
    "deepdictcmp(config_w.registry_configuration, cfg_last.registry_configuration)"
   ]
  },
  {
   "cell_type": "code",
   "execution_count": 53,
   "id": "f0b6fb9b",
   "metadata": {},
   "outputs": [
    {
     "data": {
      "text/plain": [
       "'autoencoder'"
      ]
     },
     "execution_count": 53,
     "metadata": {},
     "output_type": "execute_result"
    }
   ],
   "source": []
  },
  {
   "cell_type": "code",
   "execution_count": null,
   "id": "44fc4d45",
   "metadata": {},
   "outputs": [],
   "source": []
  }
 ],
 "metadata": {
  "kernelspec": {
   "display_name": "Python 3",
   "language": "python",
   "name": "python3"
  },
  "language_info": {
   "codemirror_mode": {
    "name": "ipython",
    "version": 3
   },
   "file_extension": ".py",
   "mimetype": "text/x-python",
   "name": "python",
   "nbconvert_exporter": "python",
   "pygments_lexer": "ipython3",
   "version": "3.9.5"
  }
 },
 "nbformat": 4,
 "nbformat_minor": 5
}
