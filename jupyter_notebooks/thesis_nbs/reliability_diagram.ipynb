{
 "cells": [
  {
   "cell_type": "code",
   "execution_count": 1,
   "id": "44631567",
   "metadata": {},
   "outputs": [],
   "source": [
    "import matplotlib.pyplot as plt\n",
    "import numpy as np\n",
    "import seml\n",
    "import pandas as pd\n",
    "import json\n",
    "from collections import defaultdict, Counter\n",
    "from functools import reduce\n",
    "import seaborn as sns\n",
    "from scipy.stats import binned_statistic\n",
    "from matplotlib.lines import Line2D\n",
    "import torch"
   ]
  },
  {
   "cell_type": "code",
   "execution_count": 2,
   "id": "7d526c4c",
   "metadata": {},
   "outputs": [
    {
     "name": "stdout",
     "output_type": "stream",
     "text": [
      "/nfs/homedirs/fuchsgru/MastersThesis\n"
     ]
    }
   ],
   "source": [
    "%cd .."
   ]
  },
  {
   "cell_type": "code",
   "execution_count": 3,
   "id": "ee92a389",
   "metadata": {},
   "outputs": [],
   "source": [
    "import configuration\n",
    "import model_registry\n",
    "import data.build\n",
    "import data.constants as dconst\n",
    "import model.constants as mconst\n",
    "from data.util import data_get_num_attributes, data_get_num_classes\n",
    "from model.semi_supervised_node_classification import SemiSupervisedNodeClassification, Ensemble\n",
    "from evaluation.util import get_data_loader, run_model_on_datasets, separate_distributions\n",
    "import evaluation.callbacks as ecbs\n",
    "from metrics import expected_calibration_error\n",
    "from plot.calibration import plot_calibration\n",
    "from data.util import label_binarize\n",
    "from model.density import get_density_model\n",
    "import seed\n",
    "from train import train_model\n",
    "from model.build import make_model"
   ]
  },
  {
   "cell_type": "code",
   "execution_count": 4,
   "id": "78c98371",
   "metadata": {},
   "outputs": [],
   "source": [
    "import logging as l\n",
    "\n",
    "l.basicConfig(level=l.INFO)"
   ]
  },
  {
   "cell_type": "code",
   "execution_count": 5,
   "id": "f2b221a8",
   "metadata": {},
   "outputs": [],
   "source": [
    "dataset = dconst.AMAZON_PHOTO"
   ]
  },
  {
   "cell_type": "code",
   "execution_count": 6,
   "id": "c955ba8b",
   "metadata": {},
   "outputs": [
    {
     "name": "stderr",
     "output_type": "stream",
     "text": [
      "INFO:root:Set configuration value data.base_labels to default all\n",
      "INFO:root:Set configuration value data.corpus_labels to default all\n",
      "INFO:root:Set configuration value data.train_labels to default all\n",
      "INFO:root:Set configuration value data.left_out_class_labels to default ['Film Photography', 'Binoculars & Scopes', 'Video Surveillance']\n",
      "INFO:root:Set configuration value data.preprocessing to default none\n",
      "INFO:root:Set configuration value data.ood_sampling_strategy to default all\n",
      "INFO:root:Set configuration value data.train_portion to default 20\n",
      "INFO:root:Set configuration value data.test_portion_fixed to default 0.2\n",
      "INFO:root:Set configuration value data.split_type to default uniform\n",
      "INFO:root:Set configuration value data.type to default npz\n",
      "INFO:root:Set configuration value data.drop_train_vertices_portion to default 0.1\n",
      "INFO:root:Set configuration value data.precompute_k_hop_neighbourhood to default 2\n",
      "INFO:root:Set configuration value model.hidden_sizes to default [64]\n",
      "INFO:root:Set configuration value data.base_labels to all\n",
      "INFO:root:Set configuration value data.corpus_labels to all\n",
      "INFO:root:Set configuration value data.left_out_class_labels to []\n"
     ]
    },
    {
     "name": "stdout",
     "output_type": "stream",
     "text": [
      "True\n"
     ]
    }
   ],
   "source": [
    "config = configuration.ExperimentConfiguration(\n",
    "    data={\n",
    "        'dataset' : dataset,\n",
    "        'setting' : dconst.HYBRID,\n",
    "        'ood_type' : dconst.PERTURBATION,\n",
    "    },\n",
    "    run = {\n",
    "        'use_default_configuration' : True,\n",
    "    },\n",
    ")\n",
    "config.model.use_bias = True\n",
    "if config.run.use_default_configuration:\n",
    "    configuration.update_with_default_configuration(config)\n",
    "    \n",
    "print(config.run.use_default_configuration)"
   ]
  },
  {
   "cell_type": "code",
   "execution_count": 7,
   "id": "c7bed0fb",
   "metadata": {},
   "outputs": [],
   "source": [
    "data_split_seed = seed.data_split_seeds()[config.run.split_idx]\n",
    "model_seed_generator = iter(seed.SeedIterator(seed.model_seeds()[config.run.initialization_idx]))\n",
    "model_seed = next(model_seed_generator)\n",
    "config.registry.model_seed = model_seed\n",
    "config.registry.split_seed = data_split_seed\n",
    "config.training.early_stopping.patience = 50\n",
    "config.training.early_stopping.min_delta = 0.01"
   ]
  },
  {
   "cell_type": "code",
   "execution_count": 8,
   "id": "8ec605d6",
   "metadata": {},
   "outputs": [
    {
     "name": "stderr",
     "output_type": "stream",
     "text": [
      "INFO:root:Found precomputed dataset split at /nfs/students/fuchsgru/dataset_registry/3384787171.pt\n"
     ]
    }
   ],
   "source": [
    "data_dict, fixed_vertices = data.build.load_data_from_configuration(config.data, data_split_seed)"
   ]
  },
  {
   "cell_type": "code",
   "execution_count": 9,
   "id": "ead3e8c3",
   "metadata": {},
   "outputs": [
    {
     "name": "stderr",
     "output_type": "stream",
     "text": [
      "/nfs/homedirs/fuchsgru/miniconda3/lib/python3.9/site-packages/torch_geometric/deprecation.py:13: UserWarning: 'data.DataLoader' is deprecated, use 'loader.DataLoader' instead\n",
      "  warnings.warn(out)\n"
     ]
    }
   ],
   "source": [
    "from torch_geometric.data import DataLoader\n",
    "data_loaders = {\n",
    "    name : DataLoader(data, batch_size=1, shuffle=False) for name, data in data_dict.items()\n",
    "}"
   ]
  },
  {
   "cell_type": "code",
   "execution_count": 10,
   "id": "e095934b",
   "metadata": {},
   "outputs": [],
   "source": [
    "import os.path as osp\n",
    "run_artifact_dir = artifact_dir = osp.join(config.logging.artifact_dir, 'reliability-diagram')"
   ]
  },
  {
   "cell_type": "code",
   "execution_count": 11,
   "id": "5dd1fb94",
   "metadata": {},
   "outputs": [
    {
     "data": {
      "text/plain": [
       "TrainingConfiguration(max_epochs=1000, min_epochs=None, learning_rate=0.001, early_stopping=EarlyStoppingConfiguration(patience=50, mode='min', monitor='val_loss', min_delta=0.01), gpus=0, weight_decay=0.001, suppress_stdout=True, train_model=True, self_training=False, num_warmup_epochs=50, singular_value_bounding=False, singular_value_bounding_eps=0.01, orthonormal_weight_regularization_strength=0.0, orthonormal_weight_scale=1.0, finetuning=FinetuningConfiguration(max_epochs=10, min_epochs=1, enable=False, reconstruction=None, feature_reconstruction=None, reconstruction_weight=None, feature_reconstruction_weight=None), temperature_scaling=None)"
      ]
     },
     "execution_count": 11,
     "metadata": {},
     "output_type": "execute_result"
    }
   ],
   "source": [
    "config.run.use_pretrained_model = True\n",
    "\n",
    "if not torch.cuda.is_available():\n",
    "    config.training.gpus = 0\n",
    "    \n",
    "config.training"
   ]
  },
  {
   "cell_type": "code",
   "execution_count": 12,
   "id": "d6624df9",
   "metadata": {},
   "outputs": [
    {
     "name": "stderr",
     "output_type": "stream",
     "text": [
      "GPU available: False, used: False\n",
      "TPU available: False, using: 0 TPU cores\n",
      "IPU available: False, using: 0 IPUs\n",
      "INFO:root:Found pre-trained model at /nfs/students/fuchsgru/model_registry/1088774128.ckpt\n",
      "INFO:root:Loading model for evaluation from /nfs/students/fuchsgru/model_registry/1088774128.ckpt.\n",
      "INFO:root:<class 'model.nn.GCNConv'> disabled cache.\n",
      "INFO:root:<class 'model.nn.GCNConv'> disabled cache.\n"
     ]
    }
   ],
   "source": [
    "model = make_model(config, data_get_num_attributes(data_dict[dconst.TRAIN][0]), \n",
    "    data_get_num_classes(data_dict[dconst.TRAIN][0])).eval()\n",
    "model = train_model(model, config, run_artifact_dir, data_loaders, logger=None).eval()\n",
    "model.clear_and_disable_cache()"
   ]
  },
  {
   "cell_type": "code",
   "execution_count": 13,
   "id": "f9261dd8",
   "metadata": {},
   "outputs": [
    {
     "name": "stderr",
     "output_type": "stream",
     "text": [
      "GPU available: False, used: False\n",
      "TPU available: False, using: 0 TPU cores\n",
      "IPU available: False, using: 0 IPUs\n",
      "INFO:root:Found pre-trained model at /nfs/students/fuchsgru/model_registry/860031892.ckpt\n",
      "INFO:root:Loading model for evaluation from /nfs/students/fuchsgru/model_registry/860031892.ckpt.\n",
      "INFO:root:<class 'model.nn.GCNConv'> disabled cache.\n",
      "INFO:root:<class 'model.nn.GCNConv'> disabled cache.\n"
     ]
    }
   ],
   "source": [
    "from copy import deepcopy\n",
    "config_sn = deepcopy(config)\n",
    "config_sn.model.use_spectral_norm = True\n",
    "config_sn.model.residual = True\n",
    "config_sn.model.weight_scale = 200.0\n",
    "\n",
    "model_sn = make_model(config_sn, data_get_num_attributes(data_dict[dconst.TRAIN][0]), \n",
    "    data_get_num_classes(data_dict[dconst.TRAIN][0])).eval()\n",
    "model_sn = train_model(model_sn, config_sn, run_artifact_dir, data_loaders, logger=None).eval()\n",
    "model_sn.clear_and_disable_cache()"
   ]
  },
  {
   "cell_type": "code",
   "execution_count": 14,
   "id": "8bb839fe",
   "metadata": {},
   "outputs": [
    {
     "name": "stderr",
     "output_type": "stream",
     "text": [
      "GPU available: False, used: False\n",
      "TPU available: False, using: 0 TPU cores\n",
      "IPU available: False, using: 0 IPUs\n",
      "INFO:root:Found pre-trained model at /nfs/students/fuchsgru/model_registry/663886643.ckpt\n",
      "INFO:root:Loading model for evaluation from /nfs/students/fuchsgru/model_registry/663886643.ckpt.\n",
      "INFO:root:<class 'model.nn.GCNConv'> disabled cache.\n",
      "INFO:root:<class 'model.nn.GCNConv'> disabled cache.\n"
     ]
    }
   ],
   "source": [
    "from copy import deepcopy\n",
    "config_rc = deepcopy(config)\n",
    "config_rc.model.reconstruction.loss_weight = 1.0\n",
    "config_rc.model.reconstruction.reconstruction_type = mconst.ENERGY\n",
    "\n",
    "\n",
    "model_rc = make_model(config_rc, data_get_num_attributes(data_dict[dconst.TRAIN][0]), \n",
    "    data_get_num_classes(data_dict[dconst.TRAIN][0])).eval()\n",
    "model_rc = train_model(model_rc, config_rc, run_artifact_dir, data_loaders, logger=None).eval()\n",
    "model_rc.clear_and_disable_cache()"
   ]
  },
  {
   "cell_type": "code",
   "execution_count": 15,
   "id": "b6777527",
   "metadata": {},
   "outputs": [
    {
     "name": "stderr",
     "output_type": "stream",
     "text": [
      "GPU available: False, used: False\n",
      "TPU available: False, using: 0 TPU cores\n",
      "IPU available: False, using: 0 IPUs\n",
      "INFO:root:Found pre-trained model at /nfs/students/fuchsgru/model_registry/1063075210066617360-1651070102-6772926-1496782358.ckpt\n",
      "INFO:root:Loading model for evaluation from /nfs/students/fuchsgru/model_registry/1063075210066617360-1651070102-6772926-1496782358.ckpt.\n",
      "INFO:root:<class 'model.nn.GCNConv'> disabled cache.\n",
      "INFO:root:<class 'model.nn.GCNConv'> disabled cache.\n"
     ]
    }
   ],
   "source": [
    "from copy import deepcopy\n",
    "config_ts = deepcopy(config)\n",
    "config_ts.training.temperature_scaling = configuration.TemperatureScalingConfiguration()\n",
    "\n",
    "model_ts = make_model(config_ts, data_get_num_attributes(data_dict[dconst.TRAIN][0]), \n",
    "    data_get_num_classes(data_dict[dconst.TRAIN][0])).eval()\n",
    "model_ts = train_model(model_ts, config_ts, run_artifact_dir, data_loaders, logger=None).eval()\n",
    "model_ts.clear_and_disable_cache()"
   ]
  },
  {
   "cell_type": "code",
   "execution_count": 16,
   "id": "d32f5479",
   "metadata": {},
   "outputs": [
    {
     "name": "stderr",
     "output_type": "stream",
     "text": [
      "GPU available: False, used: False\n",
      "TPU available: False, using: 0 TPU cores\n",
      "IPU available: False, using: 0 IPUs\n",
      "INFO:root:Found pre-trained model at /nfs/students/fuchsgru/model_registry/1500661578638478049-1651075134-751009-3948178703.ckpt\n",
      "INFO:root:Loading model for evaluation from /nfs/students/fuchsgru/model_registry/1500661578638478049-1651075134-751009-3948178703.ckpt.\n",
      "INFO:root:<class 'model.nn.GCNConv'> disabled cache.\n",
      "INFO:root:<class 'model.nn.GCNConv'> disabled cache.\n"
     ]
    }
   ],
   "source": [
    "from copy import deepcopy\n",
    "config_sn_ts = deepcopy(config)\n",
    "config_sn_ts.model.use_spectral_norm = True\n",
    "config_sn_ts.model.residual = True\n",
    "config_sn_ts.model.weight_scale = 200.0\n",
    "config_sn_ts.training.temperature_scaling = configuration.TemperatureScalingConfiguration()\n",
    "\n",
    "model_sn_ts = make_model(config_sn_ts, data_get_num_attributes(data_dict[dconst.TRAIN][0]), \n",
    "    data_get_num_classes(data_dict[dconst.TRAIN][0])).eval()\n",
    "model_sn_ts = train_model(model_sn_ts, config_sn_ts, run_artifact_dir, data_loaders, logger=None).eval()\n",
    "model_sn_ts.clear_and_disable_cache()"
   ]
  },
  {
   "cell_type": "code",
   "execution_count": 17,
   "id": "a971a862",
   "metadata": {},
   "outputs": [
    {
     "name": "stderr",
     "output_type": "stream",
     "text": [
      "GPU available: False, used: False\n",
      "TPU available: False, using: 0 TPU cores\n",
      "IPU available: False, using: 0 IPUs\n",
      "INFO:root:Found pre-trained model at /nfs/students/fuchsgru/model_registry/-5217458571423062807-1651072533-6575155-1074682396.ckpt\n",
      "INFO:root:Loading model for evaluation from /nfs/students/fuchsgru/model_registry/-5217458571423062807-1651072533-6575155-1074682396.ckpt.\n",
      "INFO:root:<class 'model.nn.GCNConv'> disabled cache.\n",
      "INFO:root:<class 'model.nn.GCNConv'> disabled cache.\n"
     ]
    }
   ],
   "source": [
    "from copy import deepcopy\n",
    "config_rc_ts = deepcopy(config)\n",
    "config_rc_ts.model.reconstruction.loss_weight = 1.0\n",
    "config_rc_ts.model.reconstruction.reconstruction_type = mconst.ENERGY\n",
    "config_rc_ts.training.temperature_scaling = configuration.TemperatureScalingConfiguration()\n",
    "\n",
    "\n",
    "model_rc_ts = make_model(config_rc_ts, data_get_num_attributes(data_dict[dconst.TRAIN][0]), \n",
    "    data_get_num_classes(data_dict[dconst.TRAIN][0])).eval()\n",
    "model_rc_ts = train_model(model_rc_ts, config_rc_ts, run_artifact_dir, data_loaders, logger=None).eval()\n",
    "model_rc_ts.clear_and_disable_cache()\n"
   ]
  },
  {
   "cell_type": "code",
   "execution_count": 18,
   "id": "cd1db272",
   "metadata": {},
   "outputs": [],
   "source": [
    "data_test = data_dict[dconst.TEST][0]"
   ]
  },
  {
   "cell_type": "code",
   "execution_count": 19,
   "id": "5d772201",
   "metadata": {},
   "outputs": [],
   "source": [
    "with torch.no_grad():\n",
    "    scores_pred = model(data_test).get_predictions()[data_test.mask]\n",
    "    scores_pred_sn = model_sn(data_test).get_predictions()[data_test.mask]\n",
    "    scores_pred_rc = model_rc(data_test).get_predictions()[data_test.mask]\n",
    "    scores_pred_ts = model_ts(data_test).get_predictions()[data_test.mask]\n",
    "    scores_pred_sn_ts = model_sn_ts(data_test).get_predictions()[data_test.mask]\n",
    "    scores_pred_rc_ts = model_rc_ts(data_test).get_predictions()[data_test.mask]\n",
    "    \n",
    "    y_true = data_test.y[data_test.mask]\n",
    "    "
   ]
  },
  {
   "cell_type": "code",
   "execution_count": 20,
   "id": "4af3bdd1",
   "metadata": {},
   "outputs": [
    {
     "data": {
      "text/plain": [
       "(tensor(0.9050),\n",
       " tensor(0.9009),\n",
       " tensor(0.9042),\n",
       " tensor(0.9050),\n",
       " tensor(0.9009),\n",
       " tensor(0.9042))"
      ]
     },
     "execution_count": 20,
     "metadata": {},
     "output_type": "execute_result"
    }
   ],
   "source": [
    "(scores_pred.argmax(1) == y_true).float().mean(), \\\n",
    "(scores_pred_sn.argmax(1) == y_true).float().mean(), \\\n",
    "(scores_pred_rc.argmax(1) == y_true).float().mean(), \\\n",
    "(scores_pred_ts.argmax(1) == y_true).float().mean(), \\\n",
    "(scores_pred_sn_ts.argmax(1) == y_true).float().mean(), \\\n",
    "(scores_pred_rc_ts.argmax(1) == y_true).float().mean()"
   ]
  },
  {
   "cell_type": "code",
   "execution_count": 21,
   "id": "04aee37a",
   "metadata": {},
   "outputs": [
    {
     "name": "stdout",
     "output_type": "stream",
     "text": [
      "thesis_nbs/reliability_diagrams-amazon_photo.pdf\n"
     ]
    },
    {
     "data": {
      "image/png": "[encoded data removed]",
      "text/plain": [
       "<Figure size 486x378 with 12 Axes>"
      ]
     },
     "metadata": {
      "needs_background": "light"
     },
     "output_type": "display_data"
    }
   ],
   "source": [
    "import numpy as np\n",
    "import matplotlib.pyplot as plt\n",
    "from util import calibration_curve\n",
    "from metrics import expected_calibration_error\n",
    "\n",
    "fig, axs = plt.subplots(4, 3, figsize=(9 * .75, 7 * .75), sharex=True, sharey=False, squeeze=False, gridspec_kw = {\n",
    "            'height_ratios' : [0.85, 0.15] * 2,\n",
    "            'wspace' : .1,\n",
    "            'hspace' : .8,\n",
    "    })\n",
    "\n",
    "\n",
    "for row, _line in enumerate([\n",
    "    [('Vanilla GCN', scores_pred), ('GCN\\n+Spectral Norm.', scores_pred_sn), ('GCN\\n+Edge Reco.', scores_pred_rc)],\n",
    "    [('Vanilla GCN', scores_pred_ts), ('GCN\\n+Spectral Norm.', scores_pred_sn_ts), \n",
    "     ('GCN\\n+Edge Reco.', scores_pred_rc_ts)],\n",
    "]):\n",
    "    for col, (name, probs) in enumerate(_line):\n",
    "        pass\n",
    "\n",
    "    \n",
    "        edges, bin_conf, bin_acc, bin_density = calibration_curve(probs, y_true, bins=10, eps=1e-12)\n",
    "        ece = expected_calibration_error(probs, y_true, bins=10)\n",
    "        widths = edges[1:] - edges[:-1]\n",
    "        centers = 0.5 * (edges[1:] + edges[:-1])\n",
    "\n",
    "        ax = axs[2 * row, col]\n",
    "        ax.plot([0, 1], [0, 1], ls='--')\n",
    "        ax.bar(centers, bin_conf, widths, label='Confidence', alpha=0.5, color='tab:red', zorder=4)\n",
    "        ax.bar(centers, bin_acc, widths, label='Accuracy', alpha = 0.5, color='tab:green', zorder=4)\n",
    "\n",
    "        axs[2 * row + 1, col].bar(centers, bin_density, widths, label='Density', zorder=4)\n",
    "        if row == 0:\n",
    "            ax.set_title(name, fontsize=12)\n",
    "        axs[2 * row + 1, col].set_title('Confidence\\nDistribution')\n",
    "\n",
    "        props = dict(alpha=0.9, facecolor='white', edgecolor=None)\n",
    "        # place a text box in upper left in axes coords\n",
    "        ax.text(0.45, 0.25, f'ECE ${ece:.2f}$', transform=ax.transAxes, fontsize=12,\n",
    "                verticalalignment='top', bbox=props, zorder=5)\n",
    "\n",
    "        if col > 0:\n",
    "            ax.set_yticklabels([])\n",
    "\n",
    "        if col == axs.shape[1] - 1 and row == 0:\n",
    "            legend = ax.legend(fontsize=12, bbox_to_anchor=(1.05, 1.0))\n",
    "            legend.get_frame().set_facecolor('none')\n",
    "            legend.get_frame().set_edgecolor('none')\n",
    "\n",
    "        ax.set_ylim(0, 1.0)\n",
    "        ax.set_xlim(1 / probs.size(1), 1.0)\n",
    "        ax.grid(which='major', axis='both')\n",
    "        axs[2 * row + 1, col].grid(which='major', axis='both')\n",
    "        axs[2 * row + 1, col].set_yticklabels([])\n",
    "        axs[2 * row + 1, col].set_xlabel(r'Confidence', fontsize=12)\n",
    "        \n",
    "axs[0, 0].set_ylabel('w/o Temperature\\nScaling', fontsize=12)\n",
    "axs[2, 0].set_ylabel('w/ Temperature\\nScaling', fontsize=12)\n",
    "\n",
    "path = f'thesis_nbs/reliability_diagrams-{dataset}.pdf'\n",
    "fig.savefig(path, bbox_inches='tight')\n",
    "print(path)"
   ]
  },
  {
   "cell_type": "code",
   "execution_count": null,
   "id": "219d3d22",
   "metadata": {},
   "outputs": [],
   "source": []
  },
  {
   "cell_type": "code",
   "execution_count": null,
   "id": "e2c73527",
   "metadata": {},
   "outputs": [],
   "source": []
  },
  {
   "cell_type": "code",
   "execution_count": null,
   "id": "5dd21723",
   "metadata": {},
   "outputs": [],
   "source": []
  }
 ],
 "metadata": {
  "kernelspec": {
   "display_name": "Python 3",
   "language": "python",
   "name": "python3"
  },
  "language_info": {
   "codemirror_mode": {
    "name": "ipython",
    "version": 3
   },
   "file_extension": ".py",
   "mimetype": "text/x-python",
   "name": "python",
   "nbconvert_exporter": "python",
   "pygments_lexer": "ipython3",
   "version": "3.9.5"
  }
 },
 "nbformat": 4,
 "nbformat_minor": 5
}
