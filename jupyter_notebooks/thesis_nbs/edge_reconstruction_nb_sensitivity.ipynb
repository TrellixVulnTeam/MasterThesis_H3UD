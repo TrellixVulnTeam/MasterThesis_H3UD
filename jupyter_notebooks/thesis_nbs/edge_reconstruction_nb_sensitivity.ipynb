{
 "cells": [
  {
   "cell_type": "code",
   "execution_count": 1,
   "id": "57b130ba",
   "metadata": {},
   "outputs": [],
   "source": [
    "import numpy as np\n",
    "import matplotlib.pyplot as plt\n",
    "import pandas as pd\n",
    "import seaborn as sns\n",
    "import torch\n",
    "import pytorch_lightning as pl\n",
    "\n",
    "from torch_geometric.data import DataLoader\n",
    "import pytorch_lightning as pl\n",
    "import os.path as osp\n",
    "\n",
    "from tqdm import tqdm\n",
    "\n",
    "from sklearn.metrics import roc_auc_score, precision_recall_curve, auc"
   ]
  },
  {
   "cell_type": "code",
   "execution_count": 2,
   "id": "0e2bfde8",
   "metadata": {},
   "outputs": [
    {
     "name": "stdout",
     "output_type": "stream",
     "text": [
      "/nfs/homedirs/fuchsgru/MastersThesis\n"
     ]
    }
   ],
   "source": [
    "%cd .."
   ]
  },
  {
   "cell_type": "code",
   "execution_count": 3,
   "id": "9ebcb496",
   "metadata": {},
   "outputs": [],
   "source": [
    "import configuration\n",
    "import model_registry\n",
    "import data.build\n",
    "import data.constants as dconst\n",
    "import model.constants as mconst\n",
    "from data.util import data_get_num_attributes, data_get_num_classes\n",
    "from model.semi_supervised_node_classification import SemiSupervisedNodeClassification, Ensemble\n",
    "from evaluation.util import get_data_loader, run_model_on_datasets, separate_distributions\n",
    "import evaluation.callbacks as ecbs\n",
    "from metrics import expected_calibration_error\n",
    "from plot.calibration import plot_calibration\n",
    "from data.util import label_binarize\n",
    "from model.density import get_density_model\n",
    "import seed\n",
    "from train import train_model\n",
    "from model.build import make_model"
   ]
  },
  {
   "cell_type": "code",
   "execution_count": 4,
   "id": "3fdda37a",
   "metadata": {},
   "outputs": [],
   "source": [
    "import logging as l\n",
    "\n",
    "l.basicConfig(level=l.INFO)"
   ]
  },
  {
   "cell_type": "code",
   "execution_count": 5,
   "id": "231ba4e1",
   "metadata": {},
   "outputs": [],
   "source": [
    "registry = model_registry.ModelRegistry()"
   ]
  },
  {
   "cell_type": "code",
   "execution_count": 6,
   "id": "5494e625",
   "metadata": {},
   "outputs": [
    {
     "name": "stderr",
     "output_type": "stream",
     "text": [
      "INFO:root:Set configuration value data.base_labels to default all\n",
      "INFO:root:Set configuration value data.corpus_labels to default all\n",
      "INFO:root:Set configuration value data.train_labels to default all\n",
      "INFO:root:Set configuration value data.left_out_class_labels to default ['Film Photography', 'Binoculars & Scopes', 'Video Surveillance']\n",
      "INFO:root:Set configuration value data.preprocessing to default none\n",
      "INFO:root:Set configuration value data.ood_sampling_strategy to default all\n",
      "INFO:root:Set configuration value data.train_portion to default 20\n",
      "INFO:root:Set configuration value data.test_portion_fixed to default 0.2\n",
      "INFO:root:Set configuration value data.split_type to default uniform\n",
      "INFO:root:Set configuration value data.type to default npz\n",
      "INFO:root:Set configuration value data.drop_train_vertices_portion to default 0.1\n",
      "INFO:root:Set configuration value data.precompute_k_hop_neighbourhood to default 2\n",
      "INFO:root:Set configuration value model.hidden_sizes to default [64]\n",
      "INFO:root:Set configuration value data.base_labels to default all\n",
      "INFO:root:Set configuration value data.corpus_labels to default all\n",
      "INFO:root:Set configuration value data.train_labels to default all\n",
      "INFO:root:Set configuration value data.left_out_class_labels to default ['Film Photography', 'Binoculars & Scopes', 'Video Surveillance']\n",
      "INFO:root:Set configuration value data.preprocessing to default none\n",
      "INFO:root:Set configuration value data.ood_sampling_strategy to default all\n",
      "INFO:root:Set configuration value data.train_portion to default 20\n",
      "INFO:root:Set configuration value data.test_portion_fixed to default 0.2\n",
      "INFO:root:Set configuration value data.split_type to default uniform\n",
      "INFO:root:Set configuration value data.type to default npz\n",
      "INFO:root:Set configuration value data.drop_train_vertices_portion to default 0.1\n",
      "INFO:root:Set configuration value data.precompute_k_hop_neighbourhood to default 2\n",
      "INFO:root:Set configuration value model.hidden_sizes to default [64]\n"
     ]
    },
    {
     "name": "stdout",
     "output_type": "stream",
     "text": [
      "True\n"
     ]
    }
   ],
   "source": [
    "dataset = dconst.AMAZON_PHOTO\n",
    "\n",
    "reco_conf = {'model' : {\n",
    "        'reconstruction' : {\n",
    "            'loss_weight' : 1.0, # Use for BCE-based  and mconstants.ENERGY\n",
    "            'reconstruction_type' : mconst.ENERGY,\n",
    "        }\n",
    "    },}\n",
    "\n",
    "training_cfg = {\n",
    "    'early_stopping' : {\n",
    "        'patience' : 50,\n",
    "        'min_delta' : 0.01,\n",
    "    }\n",
    "}\n",
    "\n",
    "setting = dconst.HYBRID\n",
    "\n",
    "config = configuration.ExperimentConfiguration(\n",
    "    data={\n",
    "        'dataset' : dataset,\n",
    "        'setting' : setting,\n",
    "        'ood_type' : dconst.LEFT_OUT_CLASSES,\n",
    "        # 'use_dataset_registry' : False,\n",
    "    },\n",
    "    run = {\n",
    "        'use_default_configuration' : True,\n",
    "    },\n",
    "    model = {\n",
    "        'use_bias' : True,\n",
    "    },\n",
    "    training = training_cfg,\n",
    ")\n",
    "config_norm = configuration.ExperimentConfiguration(\n",
    "    data={\n",
    "        'dataset' : dataset,\n",
    "        'setting' : setting,\n",
    "        'ood_type' : dconst.LEFT_OUT_CLASSES,\n",
    "        # 'use_dataset_registry' : False,\n",
    "    },\n",
    "    **reco_conf,\n",
    "    run = {\n",
    "        'use_default_configuration' : True,\n",
    "    },\n",
    "    training = training_cfg,\n",
    ")\n",
    "if config.run.use_default_configuration:\n",
    "    configuration.update_with_default_configuration(config)\n",
    "    configuration.update_with_default_configuration(config_norm)\n",
    "    \n",
    "config.model.use_bias = True\n",
    "config_norm.model.use_bias = True\n",
    "    \n",
    "print(config.run.use_default_configuration)"
   ]
  },
  {
   "cell_type": "code",
   "execution_count": 7,
   "id": "4ad09d7b",
   "metadata": {},
   "outputs": [
    {
     "data": {
      "text/plain": [
       "'hybrid'"
      ]
     },
     "execution_count": 7,
     "metadata": {},
     "output_type": "execute_result"
    }
   ],
   "source": [
    "config.data.setting"
   ]
  },
  {
   "cell_type": "code",
   "execution_count": 8,
   "id": "b812f208",
   "metadata": {},
   "outputs": [],
   "source": [
    "if torch.cuda.is_available():\n",
    "    config.training.gpus = 1\n",
    "    config_norm.training.gpus = 1\n",
    "    \n",
    "config.training.gpus = 0\n",
    "config_norm.training.gpus = 0\n",
    "    "
   ]
  },
  {
   "cell_type": "code",
   "execution_count": 9,
   "id": "5390393a",
   "metadata": {},
   "outputs": [],
   "source": [
    "config.run.use_pretrained_model = True\n",
    "config_norm.run.use_pretrained_model = True"
   ]
  },
  {
   "cell_type": "code",
   "execution_count": 10,
   "id": "40cec405",
   "metadata": {},
   "outputs": [
    {
     "name": "stderr",
     "output_type": "stream",
     "text": [
      "INFO:root:Found precomputed dataset split at /nfs/students/fuchsgru/dataset_registry/2111899493.pt\n",
      "/nfs/homedirs/fuchsgru/miniconda3/lib/python3.9/site-packages/torch_geometric/deprecation.py:13: UserWarning: 'data.DataLoader' is deprecated, use 'loader.DataLoader' instead\n",
      "  warnings.warn(out)\n"
     ]
    }
   ],
   "source": [
    "data_split_seed = seed.data_split_seeds()[config.run.split_idx]\n",
    "config.registry.split_seed = data_split_seed\n",
    "model_seed_generator = iter(seed.SeedIterator(seed.model_seeds()[config.run.initialization_idx]))\n",
    "data_dict, fixed_vertices = data.build.load_data_from_configuration(config.data, data_split_seed)\n",
    "data_loaders = {\n",
    "    name : DataLoader(data, batch_size=1, shuffle=False) for name, data in data_dict.items()\n",
    "}"
   ]
  },
  {
   "cell_type": "code",
   "execution_count": 11,
   "id": "b6b624cc",
   "metadata": {},
   "outputs": [],
   "source": [
    "model_seed = next(model_seed_generator)"
   ]
  },
  {
   "cell_type": "code",
   "execution_count": 12,
   "id": "b7497874",
   "metadata": {},
   "outputs": [],
   "source": [
    "run_artifact_dir = artifact_dir = osp.join(config.logging.artifact_dir, 'edge-reco-nb-sensitivity')"
   ]
  },
  {
   "cell_type": "code",
   "execution_count": 13,
   "id": "60549d56",
   "metadata": {},
   "outputs": [],
   "source": [
    "class LoggingCallback(pl.callbacks.Callback):\n",
    "    \n",
    "    def on_train_batch_end(self, trainer, pl_module, outputs, batch, batch_idx):\n",
    "        if trainer.global_step % 100 != 0:\n",
    "            return\n",
    "        \n",
    "        l.info(' '.join(\n",
    "            map(str, ['Epoch', trainer.global_step, 'acc', (pl_module(batch).get_predictions()[batch.mask].argmax(1) == batch.y[batch.mask]).float().mean().item()])\n",
    "        \n",
    "        ))\n",
    "        "
   ]
  },
  {
   "cell_type": "code",
   "execution_count": 14,
   "id": "606a89bc",
   "metadata": {},
   "outputs": [
    {
     "name": "stderr",
     "output_type": "stream",
     "text": [
      "Global seed set to 1952926171\n",
      "GPU available: False, used: False\n",
      "TPU available: False, using: 0 TPU cores\n",
      "IPU available: False, using: 0 IPUs\n"
     ]
    },
    {
     "name": "stdout",
     "output_type": "stream",
     "text": [
      "Parameter containing:\n",
      "tensor([0.], requires_grad=True)\n",
      "SemiSupervisedNodeClassification(\n",
      "  (backbone): GCN(\n",
      "    (convs): ModuleList(\n",
      "      (0): BasicBlock(\n",
      "        (conv): GCNConv\n",
      "          LinearWithParametrization(\n",
      "            (linear): Linear(in_features=745, out_features=64, bias=True)\n",
      "          )\n",
      "        (act): LeakyReLU(negative_slope=0.01)\n",
      "      )\n",
      "      (1): BasicBlock(\n",
      "        (conv): GCNConv\n",
      "          LinearWithParametrization(\n",
      "            (linear): Linear(in_features=64, out_features=5, bias=True)\n",
      "          )\n",
      "      )\n",
      "    )\n",
      "  )\n",
      ")\n"
     ]
    },
    {
     "name": "stderr",
     "output_type": "stream",
     "text": [
      "INFO:root:Found pre-trained model at /nfs/students/fuchsgru/model_registry/2570722568.ckpt\n",
      "INFO:root:Loading model for evaluation from /nfs/students/fuchsgru/model_registry/2570722568.ckpt.\n"
     ]
    }
   ],
   "source": [
    "config.registry.model_seed = model_seed\n",
    "pl.seed_everything(model_seed)\n",
    "model = make_model(config, data_get_num_attributes(data_dict[dconst.TRAIN][0]), \n",
    "    data_get_num_classes(data_dict[dconst.TRAIN][0]))\n",
    "print(model.log_temperature)\n",
    "print(model)\n",
    "model = train_model(model, config, artifact_dir, data_loaders, logger=None, callbacks=[LoggingCallback()]).eval()"
   ]
  },
  {
   "cell_type": "code",
   "execution_count": 15,
   "id": "d41c3033",
   "metadata": {},
   "outputs": [
    {
     "data": {
      "text/plain": [
       "Parameter containing:\n",
       "tensor([0.], requires_grad=True)"
      ]
     },
     "execution_count": 15,
     "metadata": {},
     "output_type": "execute_result"
    }
   ],
   "source": [
    "model.log_temperature"
   ]
  },
  {
   "cell_type": "code",
   "execution_count": 16,
   "id": "63fd1469",
   "metadata": {},
   "outputs": [
    {
     "data": {
      "text/plain": [
       "array([1.03236408e+01, 9.40070152e+00, 8.68776608e+00, 6.99364519e+00,\n",
       "       1.42674041e+00, 3.81743461e-01, 3.56806040e-01, 3.02712351e-01,\n",
       "       2.64687777e-01, 2.28835657e-01, 2.23916546e-01, 1.89318880e-01,\n",
       "       1.80258796e-01, 1.52832404e-01, 1.36781752e-01, 1.25691637e-01,\n",
       "       1.15259156e-01, 1.03797570e-01, 9.99646708e-02, 9.24702659e-02,\n",
       "       8.11942369e-02, 7.87171870e-02, 7.41377026e-02, 6.94893971e-02,\n",
       "       6.82131499e-02, 6.17875457e-02, 5.89106642e-02, 5.71015477e-02,\n",
       "       5.55034466e-02, 5.47363162e-02, 5.35092950e-02, 4.66101356e-02,\n",
       "       4.50047031e-02, 4.38851416e-02, 4.09625135e-02, 4.00405303e-02,\n",
       "       3.63002568e-02, 3.51366587e-02, 3.48738246e-02, 3.41494530e-02,\n",
       "       3.20229381e-02, 3.02844755e-02, 2.85519958e-02, 2.72201654e-02,\n",
       "       2.62432545e-02, 2.56277863e-02, 2.41468586e-02, 2.34889071e-02,\n",
       "       2.25407928e-02, 2.23594718e-02, 2.09206901e-02, 1.80283077e-02,\n",
       "       1.74863301e-02, 1.62263494e-02, 1.51571864e-02, 1.37564661e-02,\n",
       "       1.34591041e-02, 1.23266429e-02, 8.43856391e-03, 7.43428711e-03,\n",
       "       5.30085387e-03, 4.30182600e-03, 1.69876984e-08, 6.85317969e-10],\n",
       "      dtype=float32)"
      ]
     },
     "execution_count": 16,
     "metadata": {},
     "output_type": "execute_result"
    }
   ],
   "source": [
    "np.linalg.svd(model.get_weights()['backbone.conv0.lin.weight'].cpu().detach().numpy(), full_matrices=False)[1]"
   ]
  },
  {
   "cell_type": "code",
   "execution_count": 17,
   "id": "91e53869",
   "metadata": {},
   "outputs": [
    {
     "name": "stderr",
     "output_type": "stream",
     "text": [
      "Global seed set to 1952926171\n",
      "GPU available: False, used: False\n",
      "TPU available: False, using: 0 TPU cores\n",
      "IPU available: False, using: 0 IPUs\n"
     ]
    },
    {
     "name": "stdout",
     "output_type": "stream",
     "text": [
      "SemiSupervisedNodeClassification(\n",
      "  (backbone): GCN(\n",
      "    (convs): ModuleList(\n",
      "      (0): BasicBlock(\n",
      "        (conv): GCNConv\n",
      "          LinearWithParametrization(\n",
      "            (linear): Linear(in_features=745, out_features=64, bias=True)\n",
      "          )\n",
      "        (act): LeakyReLU(negative_slope=0.01)\n",
      "      )\n",
      "      (1): BasicBlock(\n",
      "        (conv): GCNConv\n",
      "          LinearWithParametrization(\n",
      "            (linear): Linear(in_features=64, out_features=5, bias=True)\n",
      "          )\n",
      "      )\n",
      "    )\n",
      "  )\n",
      "  (reconstruction_loss): ReconstructionLoss()\n",
      ")\n"
     ]
    },
    {
     "name": "stderr",
     "output_type": "stream",
     "text": [
      "INFO:root:Found pre-trained model at /nfs/students/fuchsgru/model_registry/8913873511487021889-1650807815-918064-3458505500.ckpt\n",
      "INFO:root:Loading model for evaluation from /nfs/students/fuchsgru/model_registry/8913873511487021889-1650807815-918064-3458505500.ckpt.\n"
     ]
    }
   ],
   "source": [
    "config_norm.registry.model_seed = model_seed\n",
    "pl.seed_everything(model_seed)\n",
    "model_norm = make_model(config_norm, data_get_num_attributes(data_dict[dconst.TRAIN][0]), \n",
    "    data_get_num_classes(data_dict[dconst.TRAIN][0]))\n",
    "print(model_norm)\n",
    "model_norm = train_model(model_norm, config_norm, artifact_dir, data_loaders, logger=None, callbacks=[LoggingCallback()]).eval()"
   ]
  },
  {
   "cell_type": "code",
   "execution_count": 18,
   "id": "4e752b11",
   "metadata": {},
   "outputs": [],
   "source": [
    "model = model.cpu()\n",
    "model_norm = model_norm.cpu()"
   ]
  },
  {
   "cell_type": "code",
   "execution_count": 19,
   "id": "536eade9",
   "metadata": {},
   "outputs": [
    {
     "name": "stderr",
     "output_type": "stream",
     "text": [
      "INFO:root:<class 'model.nn.GCNConv'> disabled cache.\n",
      "INFO:root:<class 'model.nn.GCNConv'> disabled cache.\n",
      "INFO:root:<class 'model.nn.GCNConv'> disabled cache.\n",
      "INFO:root:<class 'model.nn.GCNConv'> disabled cache.\n"
     ]
    }
   ],
   "source": [
    "model.clear_and_disable_cache()\n",
    "model_norm.clear_and_disable_cache()"
   ]
  },
  {
   "cell_type": "code",
   "execution_count": 20,
   "id": "38261201",
   "metadata": {},
   "outputs": [
    {
     "name": "stdout",
     "output_type": "stream",
     "text": [
      "tensor(0.9200) tensor(0.9300)\n"
     ]
    }
   ],
   "source": [
    "# Check accuracy of both models\n",
    "with torch.no_grad():\n",
    "    data_val = data_dict[dconst.VAL][0]\n",
    "    pred_val = model(data_val)\n",
    "    pred_val_norm = model_norm(data_val)\n",
    "    \n",
    "    acc_val = (pred_val.get_predictions()[data_val.mask].argmax(1) == data_val.y[data_val.mask]).float().mean()\n",
    "    acc_val_norm = (pred_val_norm.get_predictions()[data_val.mask].argmax(1) == data_val.y[data_val.mask]).float().mean()\n",
    "\n",
    "    print(acc_val, acc_val_norm)"
   ]
  },
  {
   "cell_type": "code",
   "execution_count": 21,
   "id": "de8d11c4",
   "metadata": {},
   "outputs": [
    {
     "data": {
      "text/plain": [
       "tensor(0.9200)"
      ]
     },
     "execution_count": 21,
     "metadata": {},
     "output_type": "execute_result"
    }
   ],
   "source": [
    "(pred_val.get_predictions()[data_val.mask].argmax(1) == data_val.y[data_val.mask]).float().mean()"
   ]
  },
  {
   "cell_type": "code",
   "execution_count": 22,
   "id": "04f841d3",
   "metadata": {},
   "outputs": [
    {
     "data": {
      "text/plain": [
       "array([1.03236408e+01, 9.40070152e+00, 8.68776608e+00, 6.99364519e+00,\n",
       "       1.42674041e+00, 3.81743461e-01, 3.56806040e-01, 3.02712351e-01,\n",
       "       2.64687777e-01, 2.28835657e-01, 2.23916546e-01, 1.89318880e-01,\n",
       "       1.80258796e-01, 1.52832404e-01, 1.36781752e-01, 1.25691637e-01,\n",
       "       1.15259156e-01, 1.03797570e-01, 9.99646708e-02, 9.24702659e-02,\n",
       "       8.11942369e-02, 7.87171870e-02, 7.41377026e-02, 6.94893971e-02,\n",
       "       6.82131499e-02, 6.17875457e-02, 5.89106642e-02, 5.71015477e-02,\n",
       "       5.55034466e-02, 5.47363162e-02, 5.35092950e-02, 4.66101356e-02,\n",
       "       4.50047031e-02, 4.38851416e-02, 4.09625135e-02, 4.00405303e-02,\n",
       "       3.63002568e-02, 3.51366587e-02, 3.48738246e-02, 3.41494530e-02,\n",
       "       3.20229381e-02, 3.02844755e-02, 2.85519958e-02, 2.72201654e-02,\n",
       "       2.62432545e-02, 2.56277863e-02, 2.41468586e-02, 2.34889071e-02,\n",
       "       2.25407928e-02, 2.23594718e-02, 2.09206901e-02, 1.80283077e-02,\n",
       "       1.74863301e-02, 1.62263494e-02, 1.51571864e-02, 1.37564661e-02,\n",
       "       1.34591041e-02, 1.23266429e-02, 8.43856391e-03, 7.43428711e-03,\n",
       "       5.30085387e-03, 4.30182600e-03, 1.69876984e-08, 6.85317969e-10],\n",
       "      dtype=float32)"
      ]
     },
     "execution_count": 22,
     "metadata": {},
     "output_type": "execute_result"
    }
   ],
   "source": [
    "np.linalg.svd(model.get_weights()['backbone.conv0.lin.weight'].cpu().detach().numpy(), full_matrices=False)[1]"
   ]
  },
  {
   "cell_type": "code",
   "execution_count": 23,
   "id": "ea587eb7",
   "metadata": {},
   "outputs": [
    {
     "data": {
      "text/plain": [
       "False"
      ]
     },
     "execution_count": 23,
     "metadata": {},
     "output_type": "execute_result"
    }
   ],
   "source": [
    "torch.allclose(pred_val.get_predictions() , pred_val_norm.get_predictions())"
   ]
  },
  {
   "cell_type": "code",
   "execution_count": 24,
   "id": "52fc0a81",
   "metadata": {},
   "outputs": [],
   "source": [
    "from data.transform import PerturbationTransform"
   ]
  },
  {
   "cell_type": "code",
   "execution_count": 25,
   "id": "3c0d15ae",
   "metadata": {},
   "outputs": [],
   "source": [
    "data_train = data_dict[dconst.TRAIN][0]\n",
    "data_val = data_dict[dconst.VAL][0]"
   ]
  },
  {
   "cell_type": "code",
   "execution_count": 26,
   "id": "6f58e1ec",
   "metadata": {},
   "outputs": [
    {
     "data": {
      "text/plain": [
       "tensor([1., 1., 1.,  ..., 1., 1., 1.])"
      ]
     },
     "execution_count": 26,
     "metadata": {},
     "output_type": "execute_result"
    }
   ],
   "source": [
    "# The ground truth is used for fitting labeled data (train and val)\n",
    "gnd_binary = torch.zeros(data_train.x.size(0), int(data_train.y.max() + 1))\n",
    "gnd_binary[torch.arange(gnd_binary.size(0)), data_train.y] = 1\n",
    "\n",
    "gnd_binary.sum(1)"
   ]
  },
  {
   "cell_type": "code",
   "execution_count": 27,
   "id": "09280454",
   "metadata": {},
   "outputs": [],
   "source": [
    "with torch.no_grad():\n",
    "    pred_train = model(data_train)\n",
    "    pred_val = model(data_val)\n",
    "    density_model = get_density_model(\n",
    "        density_type='GaussianPerClass',\n",
    "        covariance='diag',\n",
    "        regularization=False,\n",
    "        fit_val=True,\n",
    "    )\n",
    "    density_model.fit(\n",
    "        pred_train.get_features(-2)[data_train.mask], \n",
    "        gnd_binary[data_train.mask], \n",
    "        pred_val.get_features(-2)[data_val.mask],\n",
    "        gnd_binary[data_val.mask],\n",
    "    )"
   ]
  },
  {
   "cell_type": "code",
   "execution_count": 28,
   "id": "6a993e9f",
   "metadata": {},
   "outputs": [],
   "source": [
    "with torch.no_grad():\n",
    "    pred_train_norm = model_norm(data_train)\n",
    "    pred_val_norm = model_norm(data_val)\n",
    "    density_model_norm = get_density_model(\n",
    "        density_type='GaussianPerClass',\n",
    "        covariance='diag',\n",
    "        regularization=False,\n",
    "        fit_val=True,\n",
    "    )\n",
    "    density_model_norm.fit(\n",
    "        pred_train_norm.get_features(-2)[data_train.mask], \n",
    "        gnd_binary[data_train.mask], \n",
    "        pred_val_norm.get_features(-2)[data_val.mask],\n",
    "        gnd_binary[data_val.mask],\n",
    "    )\n",
    "    "
   ]
  },
  {
   "cell_type": "markdown",
   "id": "cd785dce",
   "metadata": {},
   "source": [
    "# Sensitivity to Ego-Graph purity"
   ]
  },
  {
   "cell_type": "code",
   "execution_count": 29,
   "id": "ca7c2cfc",
   "metadata": {},
   "outputs": [],
   "source": [
    "from evaluation.util import *"
   ]
  },
  {
   "cell_type": "code",
   "execution_count": 30,
   "id": "9edcad44",
   "metadata": {},
   "outputs": [
    {
     "data": {
      "text/plain": [
       "(torch.Size([7487, 745]), tensor(7))"
      ]
     },
     "execution_count": 30,
     "metadata": {},
     "output_type": "execute_result"
    }
   ],
   "source": [
    "data_ood = data_loaders[dconst.OOD_TEST].dataset[0]\n",
    "data_ood.x.size(), data_ood.y.max()"
   ]
  },
  {
   "cell_type": "code",
   "execution_count": 31,
   "id": "d86677a1",
   "metadata": {},
   "outputs": [],
   "source": [
    "with torch.no_grad():\n",
    "    pred_ood = model(data_ood)\n",
    "    pred_ood_norm = model_norm(data_ood)"
   ]
  },
  {
   "cell_type": "code",
   "execution_count": 32,
   "id": "41a23630",
   "metadata": {},
   "outputs": [],
   "source": [
    "fraction_id_nbs = count_id_neighbours(\n",
    "    [data_loaders[dconst.OOD_TEST]],\n",
    "    2,\n",
    "    mask=True,\n",
    "    fraction=True\n",
    ")"
   ]
  },
  {
   "cell_type": "code",
   "execution_count": 33,
   "id": "8dc21c2c",
   "metadata": {},
   "outputs": [
    {
     "data": {
      "text/plain": [
       "(torch.Size([480, 3]), tensor(480))"
      ]
     },
     "execution_count": 33,
     "metadata": {},
     "output_type": "execute_result"
    }
   ],
   "source": [
    "fraction_id_nbs.size(), data_ood.mask.sum()"
   ]
  },
  {
   "cell_type": "code",
   "execution_count": 34,
   "id": "d68620ce",
   "metadata": {},
   "outputs": [],
   "source": [
    "ood_distribution_labels = get_ood_distribution_labels(\n",
    "fraction_id_nbs, threshold=.1)\n",
    "ood_labels, ood_mask = separate_distributions(ood_distribution_labels, 'ood-and-neighbourhood')"
   ]
  },
  {
   "cell_type": "code",
   "execution_count": 35,
   "id": "8744d11f",
   "metadata": {},
   "outputs": [
    {
     "data": {
      "text/plain": [
       "(torch.Size([480]), torch.Size([480]), tensor(401))"
      ]
     },
     "execution_count": 35,
     "metadata": {},
     "output_type": "execute_result"
    }
   ],
   "source": [
    "ood_labels.size(), ood_mask.size(), ood_mask.sum()"
   ]
  },
  {
   "cell_type": "code",
   "execution_count": 36,
   "id": "57e76c00",
   "metadata": {},
   "outputs": [],
   "source": [
    "# Use effective labels\n",
    "\n",
    "is_id = ood_labels\n",
    "emb = pred_ood.get_features(-2)[data_ood.mask]\n",
    "emb_norm = pred_ood_norm.get_features(-2)[data_ood.mask]\n",
    "density_emb = density_model(emb)\n",
    "density_emb_norm = density_model_norm(emb_norm)\n"
   ]
  },
  {
   "cell_type": "code",
   "execution_count": 37,
   "id": "ff575720",
   "metadata": {},
   "outputs": [],
   "source": [
    "alea = pred_ood.get_predictions()[data_ood.mask].max(dim=1)[0]\n",
    "alea_norm = pred_ood_norm.get_predictions()[data_ood.mask].max(dim=1)[0]"
   ]
  },
  {
   "cell_type": "code",
   "execution_count": 38,
   "id": "72afaf96",
   "metadata": {},
   "outputs": [
    {
     "data": {
      "text/plain": [
       "0.75"
      ]
     },
     "execution_count": 38,
     "metadata": {},
     "output_type": "execute_result"
    }
   ],
   "source": [
    "roc_auc_score(\n",
    "    is_id[ood_mask].cpu().numpy(),\n",
    "    density_emb[ood_mask].cpu().numpy(),\n",
    ")"
   ]
  },
  {
   "cell_type": "code",
   "execution_count": 39,
   "id": "c14348fb",
   "metadata": {},
   "outputs": [
    {
     "data": {
      "text/plain": [
       "0.8926767676767677"
      ]
     },
     "execution_count": 39,
     "metadata": {},
     "output_type": "execute_result"
    }
   ],
   "source": [
    "roc_auc_score(\n",
    "    is_id[ood_mask].cpu().numpy(),\n",
    "    density_emb_norm[ood_mask].cpu().numpy(),\n",
    ")"
   ]
  },
  {
   "cell_type": "code",
   "execution_count": 40,
   "id": "ad3f19e6",
   "metadata": {},
   "outputs": [],
   "source": [
    "from plot.density import *"
   ]
  },
  {
   "cell_type": "code",
   "execution_count": 41,
   "id": "8b161d50",
   "metadata": {},
   "outputs": [],
   "source": [
    "features_fit = torch.cat([pred_train.get_features(-2)[data_train.mask], pred_train.get_features(-2)[data_val.mask]])\n",
    "features_fit_norm = torch.cat([pred_train_norm.get_features(-2)[data_train.mask], pred_train_norm.get_features(-2)[data_val.mask]])"
   ]
  },
  {
   "cell_type": "code",
   "execution_count": 42,
   "id": "a76389b2",
   "metadata": {},
   "outputs": [],
   "source": [
    "embs, is_fit, grids, grid_inverses = get_dimensionality_reduction_to_plot(\n",
    "    features_fit, emb, ['umap']\n",
    ")"
   ]
  },
  {
   "cell_type": "code",
   "execution_count": 43,
   "id": "8240d3bd",
   "metadata": {},
   "outputs": [],
   "source": [
    "embs_norm, is_fit_norm, grids_norm, grid_inverses_norm = get_dimensionality_reduction_to_plot(\n",
    "    features_fit_norm, emb_norm, ['umap']\n",
    ")"
   ]
  },
  {
   "cell_type": "code",
   "execution_count": 44,
   "id": "a1e60fcc",
   "metadata": {},
   "outputs": [],
   "source": [
    "nx, ny = grids['umap'].shape[0], grids['umap'].shape[1]\n",
    "density_grid = density_model(torch.from_numpy(grid_inverses['umap'].reshape(nx * ny, -1))).cpu().numpy().reshape((nx, ny))"
   ]
  },
  {
   "cell_type": "code",
   "execution_count": 45,
   "id": "4ffaa04e",
   "metadata": {},
   "outputs": [],
   "source": [
    "nx, ny = grids_norm['umap'].shape[0], grids_norm['umap'].shape[1]\n",
    "density_grid_norm = density_model_norm(torch.from_numpy(grid_inverses_norm['umap'].reshape(nx * ny, -1))).cpu().numpy().reshape((nx, ny))"
   ]
  },
  {
   "cell_type": "code",
   "execution_count": 46,
   "id": "c065a4d2",
   "metadata": {},
   "outputs": [],
   "source": [
    "# Plotting"
   ]
  },
  {
   "cell_type": "code",
   "execution_count": 47,
   "id": "247fa827",
   "metadata": {},
   "outputs": [],
   "source": [
    "def limits_to_levels(x, res=10, n=10, conf=.95):\n",
    "    \n",
    "    s = x.clone().cpu().numpy()\n",
    "    s.sort()\n",
    "    first = int(s.shape[0] * (1 - conf) / 2)\n",
    "    last = int(s.shape[0] * (conf + (1 - conf) / 2))\n",
    "    vmin = int(s[first] / res)\n",
    "    vmax = int(s[last] / res)\n",
    "    #vmin = int((x.mean() - x.std()).item() / res)\n",
    "    #vmax = int((x.mean() + x.std()).item() / res)\n",
    "    print(s)\n",
    "    print(res * vmin, res * vmax)\n",
    "    return res * np.linspace(vmin, vmax, n + 1)"
   ]
  },
  {
   "cell_type": "code",
   "execution_count": 48,
   "id": "dd7f0d8d",
   "metadata": {},
   "outputs": [],
   "source": [
    "import matplotlib.colors as mc\n",
    "cmap_arr = np.ones((256, 4))\n",
    "cmap_arr[:, :3] *= np.linspace(1, 0.4, 256)[:, None]\n",
    "cmap = mc.ListedColormap(cmap_arr)"
   ]
  },
  {
   "cell_type": "code",
   "execution_count": 49,
   "id": "a5e96a9d",
   "metadata": {},
   "outputs": [
    {
     "name": "stderr",
     "output_type": "stream",
     "text": [
      "<ipython-input-49-741fa30a58ad>:3: MatplotlibDeprecationWarning: Support for setting an rcParam that expects a str value to a non-str value is deprecated since 3.5 and support will be removed two minor releases later.\n",
      "  mpl.rcParams['text.latex.preamble'] = [] #for \\text command\n"
     ]
    }
   ],
   "source": [
    "import matplotlib as mpl\n",
    "mpl.rcParams['text.usetex'] = False\n",
    "mpl.rcParams['text.latex.preamble'] = [] #for \\text command"
   ]
  },
  {
   "cell_type": "code",
   "execution_count": 50,
   "id": "6ea83900",
   "metadata": {},
   "outputs": [
    {
     "name": "stdout",
     "output_type": "stream",
     "text": [
      "[-7.41043091e+02 -4.02122528e+02 -2.37582153e+02 -2.29342590e+02\n",
      " -1.97196686e+02 -1.84358459e+02 -1.39345093e+02 -1.35249207e+02\n",
      " -9.39910889e+01 -9.22152710e+01 -8.36719971e+01 -5.42039795e+01\n",
      " -5.32002106e+01 -5.26378479e+01 -5.23767700e+01 -4.81614380e+01\n",
      " -4.49628601e+01 -4.28628235e+01 -3.75164948e+01 -3.72122345e+01\n",
      " -3.70469360e+01 -3.48848877e+01 -3.44383011e+01 -3.30715179e+01\n",
      " -2.83989887e+01 -2.79407978e+01 -2.60793629e+01 -2.43970966e+01\n",
      " -2.36692982e+01 -2.28478260e+01 -2.27939167e+01 -2.23169136e+01\n",
      " -2.16843433e+01 -1.78050251e+01 -1.69621563e+01 -1.66493855e+01\n",
      " -1.64053059e+01 -1.52989521e+01 -1.48048573e+01 -1.26537189e+01\n",
      " -8.75341988e+00 -8.72591877e+00 -7.12592888e+00 -6.72236824e+00\n",
      " -6.53907967e+00 -4.35388374e+00 -3.46237373e+00 -3.12965584e+00\n",
      " -7.62987137e-01 -6.24177933e-01 -7.96072185e-02  6.42256737e-02\n",
      "  4.32016581e-01  1.49733341e+00  1.90682185e+00  2.25597954e+00\n",
      "  3.00481224e+00  3.16100597e+00  3.96541405e+00  4.21824455e+00\n",
      "  4.76884317e+00  4.81765461e+00  5.71952629e+00  6.70879936e+00\n",
      "  6.76093864e+00  7.27868176e+00  7.36280537e+00  8.45771027e+00\n",
      "  1.15104046e+01  1.17988720e+01  1.20187664e+01  1.20215130e+01\n",
      "  1.20342884e+01  1.29063854e+01  1.29715643e+01  1.29970093e+01\n",
      "  1.32527885e+01  1.37840557e+01  1.40357103e+01  1.40772533e+01\n",
      "  1.40975609e+01  1.41185436e+01  1.45131359e+01  1.47171307e+01\n",
      "  1.47222738e+01  1.58401623e+01  1.61747723e+01  1.62451153e+01\n",
      "  1.70792828e+01  1.73947277e+01  1.76685791e+01  1.80479908e+01\n",
      "  1.83905163e+01  1.84849072e+01  1.86452923e+01  1.99246101e+01\n",
      "  2.00117626e+01  2.06470623e+01  2.06999798e+01  2.28863735e+01\n",
      "  2.41384945e+01  2.41422310e+01  2.42549343e+01  2.46631145e+01\n",
      "  2.49810925e+01  2.50444851e+01  2.59712753e+01  2.63577557e+01\n",
      "  2.68204632e+01  2.73966808e+01  2.74904308e+01  2.82132282e+01\n",
      "  2.84256268e+01  2.98859921e+01  3.03776741e+01  3.07470512e+01\n",
      "  3.09535866e+01  3.11332340e+01  3.11609478e+01  3.12717419e+01\n",
      "  3.14619465e+01  3.18335171e+01  3.20740738e+01  3.22915306e+01\n",
      "  3.25200729e+01  3.25280075e+01  3.30355835e+01  3.32444000e+01\n",
      "  3.39208870e+01  3.40540009e+01  3.42519379e+01  3.43663864e+01\n",
      "  3.45606308e+01  3.47093353e+01  3.50199738e+01  3.51627121e+01\n",
      "  3.59651489e+01  3.62503395e+01  3.63577194e+01  3.67778320e+01\n",
      "  3.69913788e+01  3.74281540e+01  3.77161446e+01  3.80439415e+01\n",
      "  3.81089172e+01  3.83272400e+01  3.91807976e+01  3.95272217e+01\n",
      "  3.97822037e+01  4.02933044e+01  4.03712311e+01  4.05407600e+01\n",
      "  4.06107826e+01  4.06895180e+01  4.09645844e+01  4.09943542e+01\n",
      "  4.10978546e+01  4.12721863e+01  4.14999847e+01  4.16503448e+01\n",
      "  4.16920471e+01  4.18310890e+01  4.18462830e+01  4.18643456e+01\n",
      "  4.24094696e+01  4.26354828e+01  4.28715782e+01  4.34851761e+01\n",
      "  4.36166229e+01  4.36302528e+01  4.36497726e+01  4.37607422e+01\n",
      "  4.37749290e+01  4.44333878e+01  4.44535103e+01  4.45793991e+01\n",
      "  4.46198730e+01  4.49358826e+01  4.49569321e+01  4.50917664e+01\n",
      "  4.52781296e+01  4.53892746e+01  4.55671539e+01  4.55961380e+01\n",
      "  4.58341904e+01  4.60421715e+01  4.60709190e+01  4.62096100e+01\n",
      "  4.62513580e+01  4.62811165e+01  4.64338837e+01  4.64945374e+01\n",
      "  4.65622864e+01  4.67476730e+01  4.68541565e+01  4.69033813e+01\n",
      "  4.69118195e+01  4.69144096e+01  4.69699898e+01  4.70216026e+01\n",
      "  4.71440659e+01  4.73120956e+01  4.74626617e+01  4.75193710e+01\n",
      "  4.75604820e+01  4.76822624e+01  4.79245605e+01  4.81662140e+01\n",
      "  4.84894638e+01  4.92658997e+01  4.95550537e+01  4.99159698e+01\n",
      "  4.99393616e+01  4.99511414e+01  5.00853920e+01  5.00901604e+01\n",
      "  5.03211975e+01  5.04387703e+01  5.05016899e+01  5.05469398e+01\n",
      "  5.06966095e+01  5.13329315e+01  5.14378853e+01  5.16819305e+01\n",
      "  5.17372284e+01  5.18293915e+01  5.18729820e+01  5.19038696e+01\n",
      "  5.19283142e+01  5.19326401e+01  5.19538345e+01  5.21017151e+01\n",
      "  5.22367554e+01  5.22414856e+01  5.23865356e+01  5.27649117e+01\n",
      "  5.32206879e+01  5.32872925e+01  5.38350906e+01  5.40854645e+01\n",
      "  5.41877441e+01  5.42083359e+01  5.45878143e+01  5.46012878e+01\n",
      "  5.47295837e+01  5.47622833e+01  5.49205475e+01  5.52034760e+01\n",
      "  5.52673874e+01  5.53571091e+01  5.54052811e+01  5.57865295e+01\n",
      "  5.57904968e+01  5.58171692e+01  5.58538361e+01  5.59575500e+01\n",
      "  5.59887238e+01  5.60629425e+01  5.61970139e+01  5.64059906e+01\n",
      "  5.65212173e+01  5.67677078e+01  5.68147125e+01  5.68303757e+01\n",
      "  5.71308746e+01  5.74479828e+01  5.76238632e+01  5.76305542e+01\n",
      "  5.76381989e+01  5.77029114e+01  5.81031418e+01  5.81171722e+01\n",
      "  5.81306763e+01  5.81629639e+01  5.83881149e+01  5.85013809e+01\n",
      "  5.85306931e+01  5.85633774e+01  5.85642700e+01  5.86263962e+01\n",
      "  5.87170715e+01  5.88841209e+01  5.89650879e+01  5.89679756e+01\n",
      "  5.89755249e+01  5.89806328e+01  5.94899597e+01  5.96125641e+01\n",
      "  5.96158028e+01  5.96931229e+01  5.97640533e+01  5.99986572e+01\n",
      "  6.00001907e+01  6.01694946e+01  6.02899628e+01  6.04850159e+01\n",
      "  6.05996399e+01  6.06931763e+01  6.09472809e+01  6.09631577e+01\n",
      "  6.09936981e+01  6.11827202e+01  6.12870255e+01  6.13418732e+01\n",
      "  6.15852661e+01  6.19168320e+01  6.19781494e+01  6.20809021e+01\n",
      "  6.20828247e+01  6.23425980e+01  6.24029922e+01  6.24956436e+01\n",
      "  6.25741501e+01  6.26327209e+01  6.26485062e+01  6.31861877e+01\n",
      "  6.33099747e+01  6.34330444e+01  6.35038452e+01  6.35328979e+01\n",
      "  6.35817108e+01  6.36023331e+01  6.39630814e+01  6.42412186e+01\n",
      "  6.42735901e+01  6.43338928e+01  6.43442993e+01  6.43794174e+01\n",
      "  6.43971710e+01  6.44771347e+01  6.45865631e+01  6.47325439e+01\n",
      "  6.49635239e+01  6.56690674e+01  6.59196777e+01  6.59639587e+01\n",
      "  6.61744308e+01  6.62582092e+01  6.63340225e+01  6.64425201e+01\n",
      "  6.67531738e+01  6.69157028e+01  6.69520111e+01  6.69928970e+01\n",
      "  6.70291443e+01  6.70739899e+01  6.75689621e+01  6.76123810e+01\n",
      "  6.76461716e+01  6.76840363e+01  6.77828369e+01  6.77981262e+01\n",
      "  6.82012253e+01  6.83484650e+01  6.89388962e+01  6.89611206e+01\n",
      "  7.02614441e+01  7.03112183e+01  7.03648682e+01  7.03827667e+01\n",
      "  7.03953781e+01  7.05604248e+01  7.06825790e+01  7.06865616e+01\n",
      "  7.09838486e+01  7.11028748e+01  7.12761688e+01  7.14895630e+01\n",
      "  7.15335846e+01  7.20809021e+01  7.21951370e+01  7.22752762e+01\n",
      "  7.23739166e+01  7.24261780e+01  7.28016663e+01  7.30759735e+01\n",
      "  7.33419342e+01  7.33554688e+01  7.35014038e+01  7.35016098e+01\n",
      "  7.35053787e+01  7.35099411e+01  7.37371368e+01  7.37688217e+01\n",
      "  7.39031982e+01  7.39494019e+01  7.40098572e+01  7.42897644e+01\n",
      "  7.44386215e+01  7.45070343e+01  7.45462570e+01  7.46531372e+01\n",
      "  7.46613998e+01  7.50444183e+01  7.52092896e+01  7.53197479e+01\n",
      "  7.53426819e+01  7.55123367e+01  7.55135422e+01  7.58424988e+01\n",
      "  7.58768768e+01  7.59382782e+01  7.59568634e+01  7.60780487e+01\n",
      "  7.61881256e+01  7.62123642e+01  7.66026459e+01  7.67188721e+01\n",
      "  7.71856003e+01  7.76372986e+01  7.77764206e+01  7.77878494e+01\n",
      "  7.78352966e+01  7.81434860e+01  7.83468552e+01  7.86203918e+01\n",
      "  7.91186447e+01  7.92701645e+01  7.94059525e+01  7.95900879e+01\n",
      "  7.96339340e+01  7.99720459e+01  8.00378036e+01  8.01756897e+01\n",
      "  8.02077866e+01  8.04214478e+01  8.04930267e+01  8.08321075e+01\n",
      "  8.09141235e+01  8.09845352e+01  8.13638077e+01  8.13765335e+01\n",
      "  8.14008102e+01  8.14709091e+01  8.15762787e+01  8.18481445e+01\n",
      "  8.20105286e+01  8.23343048e+01  8.28347855e+01  8.29336472e+01\n",
      "  8.35853958e+01  8.36699371e+01  8.36940536e+01  8.45925598e+01\n",
      "  8.48593292e+01  8.52008972e+01  8.58524246e+01  8.60280533e+01\n",
      "  8.63321991e+01  8.66759949e+01  8.68445282e+01  8.70722885e+01\n",
      "  8.73418884e+01  8.73645935e+01  8.74749374e+01  8.75045166e+01\n",
      "  8.80303574e+01  8.84718933e+01  8.85109253e+01  8.91262665e+01\n",
      "  8.92914200e+01  9.01230087e+01  9.11418076e+01  9.17006302e+01\n",
      "  9.20130615e+01  9.20474701e+01  9.22558136e+01  9.27046204e+01\n",
      "  9.31657486e+01  9.31974106e+01  9.43585052e+01  9.49121399e+01\n",
      "  9.66066818e+01  9.71390915e+01  9.73577881e+01  9.86715317e+01\n",
      "  9.90996780e+01  9.91415176e+01  1.01306244e+02  1.01622498e+02]\n",
      "-50 90\n",
      "[-189.13142     -42.189243    -37.654068    -37.140976    -37.12584\n",
      "  -35.069534    -34.457115    -31.596758    -29.064167    -27.583317\n",
      "  -23.257454    -23.182734    -22.730732    -18.06087     -17.852373\n",
      "  -16.657549    -13.022951    -11.2080765    -9.743914     -8.212938\n",
      "   -7.5567493    -6.3586597    -5.3642764    -4.781542     -3.4004247\n",
      "   -2.8581104    -2.8193448    -2.5539722    -1.1987782    -0.95520735\n",
      "    0.29252434    0.5450878     2.9992504     3.188928      4.092665\n",
      "    4.163148      4.780607      5.003506      5.4354076     5.5742474\n",
      "    5.6285534     6.1746197     6.391554      6.891279      6.958357\n",
      "    7.205183      8.105818      8.673948      8.72645       8.832533\n",
      "    9.344371      9.71092       9.772902     10.7524395    10.8305645\n",
      "   10.930235     10.996717     11.3861065    12.334257     12.364698\n",
      "   12.954741     13.386915     14.20825      14.606611     15.957197\n",
      "   18.239433     18.664139     19.294432     19.656706     20.074873\n",
      "   20.075623     21.494417     22.736952     22.820234     23.410597\n",
      "   23.723799     23.882902     23.88545      24.081938     24.611006\n",
      "   24.73233      24.815535     24.89015      25.020063     27.56198\n",
      "   27.669188     27.863447     28.357588     28.392738     29.373762\n",
      "   29.873976     29.943922     30.046246     30.186628     30.39662\n",
      "   30.979872     31.13864      31.364729     32.170776     32.178604\n",
      "   32.305466     32.472275     32.487366     32.553528     32.67447\n",
      "   33.070293     33.313156     33.731766     34.25444      34.38466\n",
      "   34.61827      34.66661      35.004974     35.083023     35.75662\n",
      "   36.19142      36.267685     36.307327     36.41526      36.57263\n",
      "   36.576916     37.366318     37.45508      37.731155     37.79773\n",
      "   38.01381      38.285324     38.58867      38.59076      38.694748\n",
      "   38.752533     38.911102     38.990524     39.170456     39.30919\n",
      "   39.35814      39.642914     39.691086     39.726784     39.780777\n",
      "   40.07898      40.229446     40.947235     41.230835     41.51735\n",
      "   41.53534      41.787613     42.49579      42.648315     42.66368\n",
      "   42.687912     43.360004     44.083996     44.47888      44.61815\n",
      "   44.9821       44.99538      45.073944     45.356094     45.56021\n",
      "   45.59117      45.687393     46.47644      46.826187     46.908997\n",
      "   47.722183     48.391388     48.662125     48.826935     48.99176\n",
      "   49.133133     49.54933      49.943146     50.013855     50.2065\n",
      "   50.225235     50.233597     50.24524      50.493927     50.559235\n",
      "   50.58322      50.756897     50.949142     51.00638      51.01848\n",
      "   51.032013     51.19774      51.6324       52.314957     52.47136\n",
      "   52.821457     52.87607      53.016815     53.12657      53.308838\n",
      "   53.309006     53.351532     53.838406     54.018494     54.16194\n",
      "   54.228333     54.27246      54.53105      54.647095     54.697693\n",
      "   55.01039      55.51799      55.728333     55.85626      56.116196\n",
      "   56.1527       56.169662     56.27771      56.35652      56.65541\n",
      "   56.897354     56.94635      57.217346     57.378296     57.408997\n",
      "   57.515182     57.58641      57.671707     57.765823     57.845707\n",
      "   57.956146     58.219925     58.56978      58.728683     58.860794\n",
      "   59.07277      59.17885      60.79805      60.807297     61.371674\n",
      "   61.56053      61.59523      61.89427      62.03636      62.75871\n",
      "   62.89348      63.4256       63.729767     64.18294      64.660446\n",
      "   64.78843      64.87607      64.91542      65.6024       65.78718\n",
      "   65.82114      66.16609      66.27001      66.3134       66.41954\n",
      "   66.864555     66.9506       67.34965      67.43416      67.52962\n",
      "   67.9867       68.446075     68.60813      69.29497      69.40024\n",
      "   69.54654      69.58246      69.5906       69.819405     70.22928\n",
      "   70.374084     70.650406     70.84752      71.267166     71.388855\n",
      "   71.94273      72.39814      72.493835     72.633934     72.77502\n",
      "   72.77716      72.89093      72.96712      73.00592      73.03235\n",
      "   73.53842      73.63973      73.78711      73.83323      73.97789\n",
      "   73.985504     74.22835      74.27232      74.31825      74.56275\n",
      "   75.16075      75.28377      75.409966     75.52856      75.6294\n",
      "   75.76221      76.03357      76.42438      76.76246      76.82565\n",
      "   76.90806      77.03885      77.25315      77.508156     77.69905\n",
      "   77.78249      77.81434      77.99481      78.19302      78.78634\n",
      "   78.93914      79.313866     79.336044     79.62573      79.711105\n",
      "   79.7173       80.153755     80.56587      80.6218       80.6578\n",
      "   81.2847       81.39602      82.02448      82.29149      82.426506\n",
      "   82.70734      83.252174     83.36149      83.53847      83.55696\n",
      "   83.77202      84.75856      85.03383      85.40781      85.91182\n",
      "   87.0038       87.37799      87.38521      87.732254     87.76384\n",
      "   88.239456     88.38565      89.26227      89.69061      89.80542\n",
      "   90.206055     90.21891      90.5168       91.033356     91.882\n",
      "   92.04085      92.61952      92.81653      93.15134      94.77597\n",
      "   94.81169      95.63873      95.99895      96.32188      96.3436\n",
      "   96.71981      97.755554     98.108315     98.23871      98.59559\n",
      "   98.97789      99.11926      99.172        99.77063      99.94467\n",
      "  100.0415      100.22643     101.15703     102.6505      103.95512\n",
      "  104.677895    104.902466    104.99647     105.496124    105.716446\n",
      "  106.132935    106.63959     106.654785    106.74892     107.01306\n",
      "  108.22024     108.48828     108.77943     109.22969     109.87072\n",
      "  110.23981     110.48563     110.877235    112.24829     112.295296\n",
      "  112.98711     113.05023     113.11014     113.2984      113.30165\n",
      "  113.34499     114.15302     114.562546    115.293686    115.665245\n",
      "  116.07324     116.26846     117.066345    117.12305     117.44208\n",
      "  117.45437     119.38075     119.41012     120.1286      120.257126\n",
      "  120.84483     120.85144     120.89007     120.89885     121.11877\n",
      "  121.15515     121.24646     121.41891     121.508835    121.765755\n",
      "  121.93245     122.30637     122.59536     122.65033     123.18834\n",
      "  123.30432     123.42869     123.47473     123.71517     124.11649\n",
      "  124.122604    124.574905    124.80586     124.87513     125.91503\n",
      "  126.43713     126.56024     126.696365    127.25757     127.545074\n",
      "  127.57475     127.62152     127.962875    128.15854     128.95369\n",
      "  129.2398      129.6417      129.69046     129.98877     130.46579\n",
      "  132.00139     132.03479     132.1055      132.92386     133.02643\n",
      "  133.20995     135.57434     136.23166     136.35278     136.43146\n",
      "  138.42285     139.34175     139.39807     144.85666     148.40631\n",
      "  149.08664     149.98407     150.64035     155.03021     155.89151   ]\n",
      "-20 130\n"
     ]
    },
    {
     "name": "stderr",
     "output_type": "stream",
     "text": [
      "INFO:matplotlib.mathtext:Substituting symbol N from STIXNonUnicode\n",
      "INFO:matplotlib.mathtext:Substituting symbol N from STIXNonUnicode\n",
      "INFO:matplotlib.mathtext:Substituting symbol N from STIXNonUnicode\n",
      "INFO:matplotlib.mathtext:Substituting symbol N from STIXNonUnicode\n",
      "INFO:matplotlib.mathtext:Substituting symbol N from STIXNonUnicode\n",
      "INFO:matplotlib.mathtext:Substituting symbol N from STIXNonUnicode\n",
      "INFO:matplotlib.mathtext:Substituting symbol N from STIXNonUnicode\n",
      "INFO:matplotlib.mathtext:Substituting symbol N from STIXNonUnicode\n",
      "INFO:matplotlib.mathtext:Substituting symbol N from STIXNonUnicode\n",
      "INFO:matplotlib.mathtext:Substituting symbol N from STIXNonUnicode\n",
      "INFO:matplotlib.mathtext:Substituting symbol N from STIXNonUnicode\n",
      "INFO:matplotlib.mathtext:Substituting symbol N from STIXNonUnicode\n",
      "INFO:matplotlib.mathtext:Substituting symbol N from STIXNonUnicode\n",
      "INFO:matplotlib.mathtext:Substituting symbol N from STIXNonUnicode\n",
      "INFO:matplotlib.mathtext:Substituting symbol N from STIXNonUnicode\n"
     ]
    },
    {
     "name": "stdout",
     "output_type": "stream",
     "text": [
      "thesis_nbs/edge_reconstruction_nb_sensitivity/amazon_photo-hybrid.pdf\n"
     ]
    },
    {
     "name": "stderr",
     "output_type": "stream",
     "text": [
      "INFO:matplotlib.mathtext:Substituting symbol N from STIXNonUnicode\n",
      "INFO:matplotlib.mathtext:Substituting symbol N from STIXNonUnicode\n",
      "INFO:matplotlib.mathtext:Substituting symbol N from STIXNonUnicode\n",
      "INFO:matplotlib.mathtext:Substituting symbol N from STIXNonUnicode\n",
      "INFO:matplotlib.mathtext:Substituting symbol N from STIXNonUnicode\n"
     ]
    },
    {
     "data": {
      "image/png": "[encoded data removed]",
      "text/plain": [
       "<Figure size 576x288 with 21 Axes>"
      ]
     },
     "metadata": {
      "needs_background": "light"
     },
     "output_type": "display_data"
    }
   ],
   "source": [
    "fig, axs2 = plt.subplots(3, 7, figsize=(8, 4), gridspec_kw={\n",
    "    'wspace' : 0.1, 'hspace' : 0.2, 'width_ratios' : [0.8, 0.05, 0.1, 0.8, 0.05, 0.3, 0.05],\n",
    "    'height_ratios' : [0.3, 0.2, 0.2],\n",
    "})\n",
    "\n",
    "axs = axs2[:, [0, 3, 4, 5, 6]]\n",
    "for ax in axs2[1:, [1, 2]].flatten():\n",
    "    ax.set_visible(False)\n",
    "axs2[0, 2].set_visible(False)\n",
    "\n",
    "c = axs[0, 0].contourf(grids['umap'][..., 0], grids['umap'][..., 1], density_grid,\n",
    "                 cmap=cmap, \n",
    "                       levels=limits_to_levels(density_emb.clone()), \n",
    "                       extend='both')\n",
    "for cnt in c.collections:\n",
    "    cnt.set_edgecolor(\"face\")\n",
    "    \n",
    "cbar = fig.colorbar(c, ax=axs[0, 0], cax=axs2[0, 1])\n",
    "    \n",
    "axs[0, 0].scatter(embs['umap'][:, 0][is_fit], embs['umap'][:, 1][is_fit], marker='x', alpha=.2, c='red', rasterized=True)\n",
    "axs[0, 0].scatter(embs['umap'][:, 0][~is_fit], embs['umap'][:, 1][~is_fit], marker='.', alpha=.2, c=1 - fraction_id_nbs[:, 1], rasterized=True)\n",
    "\n",
    "\n",
    "c = axs[0, 1].contourf(grids_norm['umap'][..., 0], grids_norm['umap'][..., 1], density_grid_norm,\n",
    "                 cmap=cmap, \n",
    "                       levels=limits_to_levels(density_emb_norm.clone()), \n",
    "                       extend='both')\n",
    "for cnt in c.collections:\n",
    "    cnt.set_edgecolor(\"face\")\n",
    "    \n",
    "cbar = fig.colorbar(c, ax=axs[0, 1], cax=axs[0, 2])\n",
    "cbar.set_label('Epistemic\\nConfidence', fontsize=12, rotation=270, labelpad=28)\n",
    "\n",
    "    \n",
    "axs[0, 1].scatter(embs_norm['umap'][:, 0][is_fit_norm], embs_norm['umap'][:, 1][is_fit_norm], marker='x', alpha=.2, c='red', rasterized=True)\n",
    "axs[0, 1].scatter(embs_norm['umap'][:, 0][~is_fit_norm], embs_norm['umap'][:, 1][~is_fit_norm], marker='.', alpha=.2, c=1 - fraction_id_nbs[:, 1], rasterized=True)\n",
    "\n",
    "c = axs[0, 3].scatter([0, 0], [0, 0], c=[0, 1], cmap='viridis', marker='.')\n",
    "    \n",
    "cbar = fig.colorbar(c, ax=axs[0, 1], cax=axs[0, 4])\n",
    "cbar.set_label('Fraction of' + '\\n' + r'LoC instances' + '\\n' + r'in $\\mathcal{N}^{(1)}$', \n",
    "               fontsize=12, rotation=270, labelpad=46)\n",
    "\n",
    "handles = []\n",
    "handles.append(axs[0, 3].scatter([0], [0], c='red', marker='x'))\n",
    "handles.append(axs[0, 3].scatter([0], [0], c='black', marker='o'))\n",
    "\n",
    "ly = 0.05\n",
    "\n",
    "legend = fig.legend(handles, ['Labeled (i.d.)', 'Unlabeled'],\n",
    "                   bbox_to_anchor=(1.01, 0.525 + ly), loc='upper right', frameon=False, fontsize=12, title='Instances')\n",
    "plt.setp(legend.get_title(),fontsize=12)\n",
    "legend._legend_box.align = \"left\"\n",
    "\n",
    "\n",
    "for ax in axs[1:, 2:].flatten():\n",
    "    ax.set_visible(False)\n",
    "for ax in axs[0, :2].flatten():\n",
    "    ax.set_xticks([])\n",
    "    ax.set_yticks([])\n",
    "for ax in axs[1:].flatten():\n",
    "    ax.grid(which='major', axis='both')\n",
    "for ax in axs[:-1, :].flatten():\n",
    "    ax.set_xticklabels([])\n",
    "axs[0, 3].set_visible(False)\n",
    "    \n",
    "axs[0, 0].set_ylabel('Latent Space', fontsize=12)\n",
    "axs[1, 0].set_ylabel('Epistemic\\nConf.', fontsize=12)\n",
    "axs[2, 0].set_ylabel('Aleatoric\\nConf.', fontsize=12)\n",
    "\n",
    "axs[0, 0].set_title('Vanilla GCN', fontsize=12)\n",
    "axs[0, 1].set_title('GCN + Edge Reconstruction', fontsize=12)\n",
    "\n",
    "for ax in axs[-1, :].flatten():\n",
    "    ax.set_xlabel(r'Fraction of LoC' + '\\n' + r'instances in $\\mathcal{N}^{(k)}$', fontsize=12)\n",
    "\n",
    "def binned_xy(x, y):\n",
    "    \n",
    "    bin_centers = np.linspace(0, 1, 10)\n",
    "    bin_idxs = np.argmin(np.abs(x[:, None] - bin_centers[None, :]), axis=1)\n",
    "    \n",
    "    xr, yr, sr = [], [], []\n",
    "    for bin_idx in range(bin_centers.shape[0]):\n",
    "        idxs = bin_idxs == bin_idx\n",
    "        if idxs.sum() > 0:\n",
    "            xr.append(bin_centers[bin_idx])\n",
    "            yr.append(y[idxs].mean())\n",
    "            sr.append(y[idxs].std())\n",
    "    return np.array(xr), np.array(yr), np.array(sr)\n",
    "\n",
    "handles = []\n",
    "handle_names = []\n",
    "for hops, col in enumerate(('tab:blue', 'tab:orange', 'tab:green')):\n",
    "    \n",
    "    xr, yr, sr = binned_xy(1 - fraction_id_nbs[:, hops].numpy(), density_emb.numpy())\n",
    "    handles += (axs[1, 0].plot(xr, yr, c=col))\n",
    "    handle_names.append(f'{hops}-hops '+ r'$\\mathcal{N}^{(' + str(hops) + r')}$')\n",
    "    axs[1, 0].fill_between(xr, yr - sr, yr + sr, alpha=.2, color=col)\n",
    "    \n",
    "    \n",
    "    xr, yr, sr = binned_xy(1 - fraction_id_nbs[:, hops].numpy(), alea.numpy())\n",
    "    axs[2, 0].plot(xr, yr, c=col)\n",
    "    axs[2, 0].fill_between(xr, yr - sr, yr + sr, alpha=.2, color=col)\n",
    "\n",
    "\n",
    "    xr, yr, sr = binned_xy(1 - fraction_id_nbs[:, hops].numpy(), density_emb_norm.numpy())\n",
    "    axs[1, 1].plot(xr, yr, c=col)\n",
    "    axs[1, 1].fill_between(xr, yr - sr, yr + sr, alpha=.2, color=col)\n",
    "    \n",
    "    xr, yr, sr = binned_xy(1 - fraction_id_nbs[:, hops].numpy(), alea_norm.numpy())\n",
    "    axs[2, 1].plot(xr, yr, c=col)\n",
    "    axs[2, 1].fill_between(xr, yr - sr, yr + sr, alpha=.2, color=col)\n",
    "\n",
    "    \n",
    "legend = fig.legend(handles, handle_names,\n",
    "                   bbox_to_anchor=(0.99, 0.32 + ly), loc='upper right', frameon=False, fontsize=12, title='Neighbourhood')\n",
    "plt.setp(legend.get_title(),fontsize=12)\n",
    "legend._legend_box.align = \"left\"\n",
    "#axs[1, 0].scatter(fraction_id_nbs[:, 1], density_emb, c=fraction_id_nbs[:, 1], alpha=.1)\n",
    "#axs[1, 1].scatter(fraction_id_nbs[:, 1], density_emb_norm, c=fraction_id_nbs[:, 1], alpha=.1)\n",
    "\n",
    "path = f'thesis_nbs/edge_reconstruction_nb_sensitivity/{dataset}-{setting}.pdf'\n",
    "fig.savefig(path, bbox_inches='tight', dpi=200)\n",
    "print(path)"
   ]
  },
  {
   "cell_type": "code",
   "execution_count": 51,
   "id": "651598c6",
   "metadata": {},
   "outputs": [
    {
     "data": {
      "text/plain": [
       "9"
      ]
     },
     "execution_count": 51,
     "metadata": {},
     "output_type": "execute_result"
    }
   ],
   "source": [
    "9"
   ]
  },
  {
   "cell_type": "code",
   "execution_count": null,
   "id": "59038b00",
   "metadata": {},
   "outputs": [],
   "source": []
  },
  {
   "cell_type": "code",
   "execution_count": null,
   "id": "15ea83e2",
   "metadata": {},
   "outputs": [],
   "source": []
  },
  {
   "cell_type": "code",
   "execution_count": null,
   "id": "940f15ae",
   "metadata": {},
   "outputs": [],
   "source": []
  }
 ],
 "metadata": {
  "kernelspec": {
   "display_name": "Python 3",
   "language": "python",
   "name": "python3"
  },
  "language_info": {
   "codemirror_mode": {
    "name": "ipython",
    "version": 3
   },
   "file_extension": ".py",
   "mimetype": "text/x-python",
   "name": "python",
   "nbconvert_exporter": "python",
   "pygments_lexer": "ipython3",
   "version": "3.9.5"
  }
 },
 "nbformat": 4,
 "nbformat_minor": 5
}
