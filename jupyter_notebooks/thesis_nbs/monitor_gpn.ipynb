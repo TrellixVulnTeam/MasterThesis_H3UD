{
 "cells": [
  {
   "cell_type": "code",
   "execution_count": 1,
   "id": "5614af05",
   "metadata": {},
   "outputs": [],
   "source": [
    "import os.path as osp\n",
    "import os"
   ]
  },
  {
   "cell_type": "code",
   "execution_count": 2,
   "id": "9e05583c",
   "metadata": {},
   "outputs": [
    {
     "name": "stdout",
     "output_type": "stream",
     "text": [
      "/nfs/homedirs/fuchsgru/MastersThesis\n"
     ]
    }
   ],
   "source": [
    "%cd ../.."
   ]
  },
  {
   "cell_type": "code",
   "execution_count": 3,
   "id": "316bc11c",
   "metadata": {},
   "outputs": [],
   "source": [
    "datasets = ['amazon_photo', 'citeseer', 'coauthor_cs', 'cora_full', 'pubmed', 'ogbn-arxiv']"
   ]
  },
  {
   "cell_type": "code",
   "execution_count": 4,
   "id": "b0161533",
   "metadata": {},
   "outputs": [],
   "source": [
    "import seml"
   ]
  },
  {
   "cell_type": "code",
   "execution_count": 5,
   "id": "6d089b66",
   "metadata": {},
   "outputs": [],
   "source": [
    "collection = seml.database.get_collection('gpn')"
   ]
  },
  {
   "cell_type": "code",
   "execution_count": 6,
   "id": "ebd3b40e",
   "metadata": {},
   "outputs": [],
   "source": [
    "for doc in collection.find():\n",
    "    if doc['status'] == 'STAGED':\n",
    "        \n",
    "        doc['config']['run']['num_inits'] = 3\n",
    "        doc['config']['run']['num_splits'] = 3\n",
    "        \n",
    "        x = collection.update_one({'_id' : doc['_id']}, {'$set' : {'config.run.num_inits' : 3, 'config.run.num_splits' : 3}})\n",
    "        print(x.modified_count)"
   ]
  },
  {
   "cell_type": "code",
   "execution_count": 7,
   "id": "fd35a5a2",
   "metadata": {},
   "outputs": [
    {
     "name": "stdout",
     "output_type": "stream",
     "text": [
      "cora_full\n",
      "cora_full\n",
      "cora_full\n",
      "cora_full\n",
      "cora_full\n",
      "cora_full\n",
      "citeseer\n",
      "citeseer\n",
      "citeseer\n",
      "citeseer\n",
      "citeseer\n",
      "citeseer\n",
      "amazon_photo\n",
      "amazon_photo\n",
      "amazon_photo\n",
      "amazon_photo\n",
      "amazon_photo\n",
      "amazon_photo\n",
      "coauthor_cs\n",
      "coauthor_cs\n",
      "coauthor_cs\n",
      "coauthor_cs\n",
      "coauthor_cs\n",
      "coauthor_cs\n",
      "pubmed\n",
      "pubmed\n",
      "pubmed\n",
      "pubmed\n",
      "pubmed\n",
      "pubmed\n"
     ]
    }
   ],
   "source": [
    "for doc in collection.find():\n",
    "    print(doc['config']['data']['directory'].split('/')[-2])\n",
    "        "
   ]
  },
  {
   "cell_type": "code",
   "execution_count": 8,
   "id": "e960752b",
   "metadata": {},
   "outputs": [
    {
     "data": {
      "text/plain": [
       "dict_keys(['_id', 'batch_id', 'status', 'seml', 'slurm', 'config', 'config_hash', 'add_time', 'git', 'artifacts', 'captured_out', 'command', 'experiment', 'format', 'heartbeat', 'host', 'info', 'meta', 'resources', 'start_time', 'result', 'stats', 'stop_time'])"
      ]
     },
     "execution_count": 8,
     "metadata": {},
     "output_type": "execute_result"
    }
   ],
   "source": [
    "doc.keys()"
   ]
  },
  {
   "cell_type": "code",
   "execution_count": 11,
   "id": "0c5ab78b",
   "metadata": {},
   "outputs": [
    {
     "name": "stdout",
     "output_type": "stream",
     "text": [
      "Dataset amazon_photo : Settings (6 / 6)\n",
      "\ttransductive-loc : 20 / 25\n",
      "\thybrid-normal : 25 / 25\n",
      "\thybrid-loc : 25 / 25\n",
      "\thybrid-ber : 25 / 25\n",
      "\ttransductive-normal : 13 / 25\n",
      "\ttransductive-ber : 25 / 25\n",
      "-> 133 / 150\n",
      "\n",
      "Dataset citeseer : Settings (6 / 6)\n",
      "\ttransductive-loc : 25 / 25\n",
      "\thybrid-normal : 25 / 25\n",
      "\thybrid-loc : 25 / 25\n",
      "\thybrid-ber : 25 / 25\n",
      "\ttransductive-normal : 25 / 25\n",
      "\ttransductive-ber : 25 / 25\n",
      "-> 150 / 150\n",
      "\n",
      "Dataset coauthor_cs : Settings (6 / 6)\n",
      "\ttransductive-loc : 11 / 25\n",
      "\thybrid-normal : 10 / 25\n",
      "\thybrid-loc : 13 / 25\n",
      "\thybrid-ber : 11 / 25\n",
      "\ttransductive-normal : 11 / 25\n",
      "\ttransductive-ber : 7 / 25\n",
      "-> 63 / 150\n",
      "\n",
      "Dataset cora_full : Settings (6 / 6)\n",
      "\ttransductive-loc : 25 / 25\n",
      "\thybrid-normal : 25 / 25\n",
      "\thybrid-loc : 25 / 25\n",
      "\thybrid-ber : 25 / 25\n",
      "\ttransductive-normal : 25 / 25\n",
      "\ttransductive-ber : 25 / 25\n",
      "-> 150 / 150\n",
      "\n",
      "Dataset pubmed : Settings (6 / 6)\n",
      "\ttransductive-loc : 25 / 25\n",
      "\thybrid-normal : 12 / 25\n",
      "\thybrid-loc : 25 / 25\n",
      "\thybrid-ber : 9 / 25\n",
      "\ttransductive-normal : 21 / 25\n",
      "\ttransductive-ber : 11 / 25\n",
      "-> 103 / 150\n",
      "\n"
     ]
    }
   ],
   "source": [
    "for dataset in datasets:\n",
    "    bp = osp.join('../Graph-Posterior-Network/saved_experiments', 'gpn', dataset)\n",
    "    if (osp.exists(bp)):\n",
    "        subexps = os.listdir(bp)\n",
    "        print(f'Dataset {dataset} : Settings ({len(subexps)} / 6)')\n",
    "        nall = 0\n",
    "        for subexp in subexps:\n",
    "            num = 0\n",
    "            sd = osp.join(bp, subexp, 'GPN')\n",
    "            splits = os.listdir(sd)\n",
    "            for split in splits:\n",
    "                num += len(os.listdir(osp.join(sd, split)))\n",
    "            print(f'\\t{subexp} : {num} / 25')\n",
    "            nall += num\n",
    "            \n",
    "        print(f'-> {nall} / 150')\n",
    "        print()\n",
    "        \n",
    "        "
   ]
  },
  {
   "cell_type": "code",
   "execution_count": null,
   "id": "49fd5c2c",
   "metadata": {},
   "outputs": [],
   "source": []
  },
  {
   "cell_type": "code",
   "execution_count": null,
   "id": "19d6930a",
   "metadata": {},
   "outputs": [],
   "source": []
  }
 ],
 "metadata": {
  "kernelspec": {
   "display_name": "Python 3",
   "language": "python",
   "name": "python3"
  },
  "language_info": {
   "codemirror_mode": {
    "name": "ipython",
    "version": 3
   },
   "file_extension": ".py",
   "mimetype": "text/x-python",
   "name": "python",
   "nbconvert_exporter": "python",
   "pygments_lexer": "ipython3",
   "version": "3.9.5"
  }
 },
 "nbformat": 4,
 "nbformat_minor": 5
}
