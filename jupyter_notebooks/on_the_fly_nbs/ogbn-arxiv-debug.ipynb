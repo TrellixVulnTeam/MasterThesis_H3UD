{
 "cells": [
  {
   "cell_type": "code",
   "execution_count": 1,
   "id": "b03737a4",
   "metadata": {},
   "outputs": [],
   "source": [
    "import numpy as np\n",
    "import matplotlib.pyplot as plt"
   ]
  },
  {
   "cell_type": "code",
   "execution_count": 2,
   "id": "0d49e3c5",
   "metadata": {},
   "outputs": [
    {
     "name": "stdout",
     "output_type": "stream",
     "text": [
      "/nfs/homedirs/fuchsgru/MastersThesis\n"
     ]
    }
   ],
   "source": [
    "%cd ../.."
   ]
  },
  {
   "cell_type": "code",
   "execution_count": 3,
   "id": "5ac1f1bd",
   "metadata": {},
   "outputs": [],
   "source": [
    "import data.constants as dc\n",
    "from configuration import *\n",
    "from data.build import load_data_from_configuration\n",
    "import seed"
   ]
  },
  {
   "cell_type": "code",
   "execution_count": 4,
   "id": "c23b6351",
   "metadata": {},
   "outputs": [],
   "source": [
    "base_config = get_default_configuration_by_dataset(dc.OGBN_ARXIV)"
   ]
  },
  {
   "cell_type": "code",
   "execution_count": 5,
   "id": "7d30b51c",
   "metadata": {},
   "outputs": [],
   "source": [
    "config = ExperimentConfiguration(data = DataConfiguration(\n",
    "    dataset=dc.OGBN_ARXIV, \n",
    "    ood_type = dc.PERTURBATION,\n",
    "    setting = dc.HYBRID,\n",
    "    integrity_assertion = False,\n",
    "    **base_config['data'],\n",
    "),\n",
    "    model=ModelConfiguration(**base_config['model'])\n",
    ")"
   ]
  },
  {
   "cell_type": "code",
   "execution_count": 6,
   "id": "0fe96f51",
   "metadata": {},
   "outputs": [],
   "source": [
    "update_with_default_configuration(config)"
   ]
  },
  {
   "cell_type": "code",
   "execution_count": 7,
   "id": "a027aaaa",
   "metadata": {},
   "outputs": [
    {
     "data": {
      "text/plain": [
       "DataConfiguration(dataset='ogbn_arxiv', train_portion=20, val_portion=20, test_portion_fixed=1.0, base_labels='all', train_labels='all', corpus_labels='all', left_out_class_labels=[], max_attempts_per_split=5, drop_train_vertices_portion=0.1, setting='hybrid', ood_type='perturbations', ood_sampling_strategy='all', split_type='predefined', type='npz', perturbation_budget=0.1, min_token_frequency=10, preprocessing='none', language_model='bert-base-uncased', normalize='l2', vectorizer='tf-idf', feature_scale=1.0, integrity_assertion=False)"
      ]
     },
     "execution_count": 7,
     "metadata": {},
     "output_type": "execute_result"
    }
   ],
   "source": [
    "config.data"
   ]
  },
  {
   "cell_type": "code",
   "execution_count": 8,
   "id": "dc0bf1d0",
   "metadata": {},
   "outputs": [
    {
     "name": "stdout",
     "output_type": "stream",
     "text": [
      "0.2754082097319802 0.21599321445881484\n",
      "0.09989784047761054 0.09988012495349675\n"
     ]
    }
   ],
   "source": [
    "\n",
    "data_split_seed = seed.data_split_seeds()[0]\n",
    "\n",
    "data_dict, fixed_vertices = load_data_from_configuration(config.data, data_split_seed)"
   ]
  },
  {
   "cell_type": "code",
   "execution_count": 9,
   "id": "52f33dbe",
   "metadata": {},
   "outputs": [],
   "source": [
    "data_ood_test = data_dict[dc.OOD_TEST][0]"
   ]
  },
  {
   "cell_type": "code",
   "execution_count": 10,
   "id": "4923288d",
   "metadata": {},
   "outputs": [
    {
     "data": {
      "text/plain": [
       "tensor(0.7803)"
      ]
     },
     "execution_count": 10,
     "metadata": {},
     "output_type": "execute_result"
    }
   ],
   "source": [
    "data_ood_test.is_train_graph_vertex.sum() / data_ood_test.is_train_graph_vertex.size(0)"
   ]
  },
  {
   "cell_type": "code",
   "execution_count": 11,
   "id": "fd03c6f9",
   "metadata": {},
   "outputs": [
    {
     "data": {
      "text/plain": [
       "(0.1, 0.1)"
      ]
     },
     "execution_count": 11,
     "metadata": {},
     "output_type": "execute_result"
    }
   ],
   "source": [
    "config.data.drop_train_vertices_portion, config.data.perturbation_budget"
   ]
  },
  {
   "cell_type": "code",
   "execution_count": 15,
   "id": "5fc50a15",
   "metadata": {},
   "outputs": [
    {
     "data": {
      "text/plain": [
       "tensor([1.0000, 1.0000, 1.0000,  ..., 1.0000, 1.0000, 1.0000])"
      ]
     },
     "execution_count": 15,
     "metadata": {},
     "output_type": "execute_result"
    }
   ],
   "source": [
    "import torch\n",
    "torch.norm(data_ood_test.x, dim=1)"
   ]
  },
  {
   "cell_type": "code",
   "execution_count": null,
   "id": "b733cd0e",
   "metadata": {},
   "outputs": [],
   "source": []
  }
 ],
 "metadata": {
  "kernelspec": {
   "display_name": "Python 3",
   "language": "python",
   "name": "python3"
  },
  "language_info": {
   "codemirror_mode": {
    "name": "ipython",
    "version": 3
   },
   "file_extension": ".py",
   "mimetype": "text/x-python",
   "name": "python",
   "nbconvert_exporter": "python",
   "pygments_lexer": "ipython3",
   "version": "3.9.5"
  }
 },
 "nbformat": 4,
 "nbformat_minor": 5
}
