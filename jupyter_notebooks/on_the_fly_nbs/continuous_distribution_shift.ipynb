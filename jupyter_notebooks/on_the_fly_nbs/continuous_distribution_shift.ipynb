{
 "cells": [
  {
   "cell_type": "code",
   "execution_count": 1,
   "id": "4ed5e0ac",
   "metadata": {},
   "outputs": [],
   "source": [
    "import numpy as np\n",
    "import matplotlib.pyplot as plt\n",
    "import torch\n",
    "import pandas as pd\n",
    "import seaborn as sns\n",
    "\n",
    "from torch_geometric.data import DataLoader\n",
    "import pytorch_lightning as pl\n",
    "import os.path as osp\n",
    "\n",
    "from tqdm import tqdm\n",
    "\n",
    "from sklearn.metrics import roc_auc_score, precision_recall_curve, auc"
   ]
  },
  {
   "cell_type": "code",
   "execution_count": 2,
   "id": "f1e193a9",
   "metadata": {},
   "outputs": [
    {
     "name": "stdout",
     "output_type": "stream",
     "text": [
      "/nfs/homedirs/fuchsgru/MastersThesis\n"
     ]
    }
   ],
   "source": [
    "%cd .."
   ]
  },
  {
   "cell_type": "code",
   "execution_count": 4,
   "id": "c7b5a3d3",
   "metadata": {},
   "outputs": [],
   "source": [
    "import configuration\n",
    "import model_registry\n",
    "import data.build\n",
    "import data.constants as dconst\n",
    "from data.util import data_get_num_attributes, data_get_num_classes\n",
    "from model.semi_supervised_node_classification import SemiSupervisedNodeClassification, Ensemble\n",
    "from evaluation.util import get_data_loader, run_model_on_datasets, separate_distributions\n",
    "import evaluation.callbacks as ecbs\n",
    "from metrics import expected_calibration_error\n",
    "from plot.calibration import plot_calibration\n",
    "from data.util import label_binarize\n",
    "from model.density import get_density_model\n",
    "import seed\n",
    "from train import train_model\n",
    "from model.build import make_model"
   ]
  },
  {
   "cell_type": "code",
   "execution_count": 5,
   "id": "1deade13",
   "metadata": {},
   "outputs": [
    {
     "name": "stdout",
     "output_type": "stream",
     "text": [
      "True\n"
     ]
    }
   ],
   "source": [
    "spectral_norm_conf = {'model' : {\n",
    "        'use_spectral_norm' : True,\n",
    "        'residual' : True,\n",
    "        'weight_scale' : 200.0,\n",
    "    },}\n",
    "\n",
    "config = configuration.ExperimentConfiguration(\n",
    "    data={\n",
    "        'dataset' : dconst.CORA_FULL,\n",
    "        'setting' : dconst.HYBRID,\n",
    "        'ood_type' : dconst.PERTURBATION,\n",
    "    },\n",
    "    # **spectral_norm_conf,\n",
    "    run = {\n",
    "        'use_default_configuration' : True,\n",
    "        # 'use_pretrained_model' : False,\n",
    "    },\n",
    ")\n",
    "if config.run.use_default_configuration:\n",
    "    configuration.update_with_default_configuration(config)\n",
    "    \n",
    "print(config.run.use_default_configuration)"
   ]
  },
  {
   "cell_type": "code",
   "execution_count": 6,
   "id": "58438cea",
   "metadata": {},
   "outputs": [
    {
     "name": "stderr",
     "output_type": "stream",
     "text": [
      "/nfs/homedirs/fuchsgru/miniconda3/lib/python3.9/site-packages/torch_geometric/deprecation.py:13: UserWarning: 'data.DataLoader' is deprecated, use 'loader.DataLoader' instead\n",
      "  warnings.warn(out)\n"
     ]
    }
   ],
   "source": [
    "data_split_seed = seed.data_split_seeds()[config.run.split_idx]\n",
    "config.registry.split_seed = data_split_seed\n",
    "model_seed_generator = iter(seed.SeedIterator(seed.model_seeds()[config.run.initialization_idx]))\n",
    "data_dict, fixed_vertices = data.build.load_data_from_configuration(config.data, data_split_seed)\n",
    "data_loaders = {\n",
    "    name : DataLoader(data, batch_size=1, shuffle=False) for name, data in data_dict.items()\n",
    "}"
   ]
  },
  {
   "cell_type": "code",
   "execution_count": 7,
   "id": "6a3e3435",
   "metadata": {},
   "outputs": [
    {
     "data": {
      "text/plain": [
       "{'000': 0,\n",
       " '0001': 1,\n",
       " '0035': 2,\n",
       " '0050': 3,\n",
       " '01': 4,\n",
       " '0114': 5,\n",
       " '02': 6,\n",
       " '02139': 7,\n",
       " '0229': 8,\n",
       " '03': 9,\n",
       " '04': 10,\n",
       " '0481': 11,\n",
       " '05': 12,\n",
       " '06': 13,\n",
       " '0686': 14,\n",
       " '07': 15,\n",
       " '08': 16,\n",
       " '08855': 17,\n",
       " '09': 18,\n",
       " '10': 19,\n",
       " '100': 20,\n",
       " '1000': 21,\n",
       " '10036': 22,\n",
       " '1024': 23,\n",
       " '103': 24,\n",
       " '104': 25,\n",
       " '109': 26,\n",
       " '11': 27,\n",
       " '110': 28,\n",
       " '1100': 29,\n",
       " '111': 30,\n",
       " '112': 31,\n",
       " '115': 32,\n",
       " '12': 33,\n",
       " '120': 34,\n",
       " '121': 35,\n",
       " '125': 36,\n",
       " '128': 37,\n",
       " '13': 38,\n",
       " '130': 39,\n",
       " '1330': 40,\n",
       " '1331': 41,\n",
       " '14': 42,\n",
       " '15': 43,\n",
       " '150': 44,\n",
       " '1515': 45,\n",
       " '15213': 46,\n",
       " '155': 47,\n",
       " '15th': 48,\n",
       " '16': 49,\n",
       " '160': 50,\n",
       " '17': 51,\n",
       " '18': 52,\n",
       " '180': 53,\n",
       " '1879': 54,\n",
       " '19': 55,\n",
       " '1947': 56,\n",
       " '1972': 57,\n",
       " '1973': 58,\n",
       " '1975': 59,\n",
       " '1976': 60,\n",
       " '1977': 61,\n",
       " '1978': 62,\n",
       " '1979': 63,\n",
       " '1980': 64,\n",
       " '1981': 65,\n",
       " '1982': 66,\n",
       " '1983': 67,\n",
       " '1984': 68,\n",
       " '1985': 69,\n",
       " '1986': 70,\n",
       " '1987': 71,\n",
       " '1988': 72,\n",
       " '1989': 73,\n",
       " '1990': 74,\n",
       " '1991': 75,\n",
       " '1992': 76,\n",
       " '1993': 77,\n",
       " '1994': 78,\n",
       " '1994a': 79,\n",
       " '1995': 80,\n",
       " '1996': 81,\n",
       " '1997': 82,\n",
       " '1998': 83,\n",
       " '19999': 84,\n",
       " '1g': 85,\n",
       " '1id': 86,\n",
       " '20': 87,\n",
       " '200': 88,\n",
       " '2000': 89,\n",
       " '20742': 90,\n",
       " '21': 91,\n",
       " '212': 92,\n",
       " '22': 93,\n",
       " '23': 94,\n",
       " '24': 95,\n",
       " '240': 96,\n",
       " '25': 97,\n",
       " '250': 98,\n",
       " '251': 99,\n",
       " '256': 100,\n",
       " '26': 101,\n",
       " '27': 102,\n",
       " '28': 103,\n",
       " '288': 104,\n",
       " '29': 105,\n",
       " '2d': 106,\n",
       " '2k': 107,\n",
       " '2n': 108,\n",
       " '2nd': 109,\n",
       " '30': 110,\n",
       " '300': 111,\n",
       " '3000': 112,\n",
       " '301': 113,\n",
       " '31': 114,\n",
       " '32': 115,\n",
       " '324': 116,\n",
       " '32611': 117,\n",
       " '33': 118,\n",
       " '34': 119,\n",
       " '35': 120,\n",
       " '36': 121,\n",
       " '37': 122,\n",
       " '38': 123,\n",
       " '39': 124,\n",
       " '3966': 125,\n",
       " '3d': 126,\n",
       " '3rd': 127,\n",
       " '3sat': 128,\n",
       " '40': 129,\n",
       " '400': 130,\n",
       " '4038': 131,\n",
       " '41': 132,\n",
       " '42': 133,\n",
       " '43': 134,\n",
       " '430': 135,\n",
       " '44': 136,\n",
       " '445': 137,\n",
       " '45': 138,\n",
       " '46': 139,\n",
       " '47': 140,\n",
       " '48': 141,\n",
       " '49': 142,\n",
       " '50': 143,\n",
       " '500': 144,\n",
       " '5000': 145,\n",
       " '51': 146,\n",
       " '512': 147,\n",
       " '52': 148,\n",
       " '53': 149,\n",
       " '54': 150,\n",
       " '55': 151,\n",
       " '56': 152,\n",
       " '562': 153,\n",
       " '57': 154,\n",
       " '58': 155,\n",
       " '59': 156,\n",
       " '5th': 157,\n",
       " '60': 158,\n",
       " '600': 159,\n",
       " '6000': 160,\n",
       " '61': 161,\n",
       " '62': 162,\n",
       " '63': 163,\n",
       " '64': 164,\n",
       " '65': 165,\n",
       " '66': 166,\n",
       " '67': 167,\n",
       " '68': 168,\n",
       " '69': 169,\n",
       " '70': 170,\n",
       " '71': 171,\n",
       " '72': 172,\n",
       " '73': 173,\n",
       " '74': 174,\n",
       " '75': 175,\n",
       " '76': 176,\n",
       " '77': 177,\n",
       " '78712': 178,\n",
       " '79': 179,\n",
       " '80': 180,\n",
       " '800': 181,\n",
       " '80309': 182,\n",
       " '81': 183,\n",
       " '82': 184,\n",
       " '83': 185,\n",
       " '84': 186,\n",
       " '85': 187,\n",
       " '86': 188,\n",
       " '860': 189,\n",
       " '869': 190,\n",
       " '87': 191,\n",
       " '88': 192,\n",
       " '89': 193,\n",
       " '8919038': 194,\n",
       " '90': 195,\n",
       " '9024618': 196,\n",
       " '908': 197,\n",
       " '91': 198,\n",
       " '9157366': 199,\n",
       " '92': 200,\n",
       " '9203895': 201,\n",
       " '92093': 202,\n",
       " '9217041': 203,\n",
       " '9225097': 204,\n",
       " '93': 205,\n",
       " '94': 206,\n",
       " '94704': 207,\n",
       " '94720': 208,\n",
       " '95': 209,\n",
       " '9500': 210,\n",
       " '96': 211,\n",
       " '97': 212,\n",
       " '98': 213,\n",
       " '98195': 214,\n",
       " '99': 215,\n",
       " '9th': 216,\n",
       " 'aaai': 217,\n",
       " 'ab': 218,\n",
       " 'abadi': 219,\n",
       " 'abbreviated': 220,\n",
       " 'abduction': 221,\n",
       " 'abductive': 222,\n",
       " 'abilities': 223,\n",
       " 'ability': 224,\n",
       " 'able': 225,\n",
       " 'abnormal': 226,\n",
       " 'abort': 227,\n",
       " 'aborted': 228,\n",
       " 'abr': 229,\n",
       " 'abridged': 230,\n",
       " 'abrupt': 231,\n",
       " 'absence': 232,\n",
       " 'absent': 233,\n",
       " 'absolute': 234,\n",
       " 'absolutely': 235,\n",
       " 'abstract': 236,\n",
       " 'abstracted': 237,\n",
       " 'abstracting': 238,\n",
       " 'abstraction': 239,\n",
       " 'abstractions': 240,\n",
       " 'abstractly': 241,\n",
       " 'abstracts': 242,\n",
       " 'ac': 243,\n",
       " 'academic': 244,\n",
       " 'academy': 245,\n",
       " 'accelerate': 246,\n",
       " 'accelerated': 247,\n",
       " 'acceleration': 248,\n",
       " 'accept': 249,\n",
       " 'acceptable': 250,\n",
       " 'acceptance': 251,\n",
       " 'accepted': 252,\n",
       " 'accepting': 253,\n",
       " 'accepts': 254,\n",
       " 'access': 255,\n",
       " 'accessed': 256,\n",
       " 'accesses': 257,\n",
       " 'accessibility': 258,\n",
       " 'accessible': 259,\n",
       " 'accessing': 260,\n",
       " 'accidental': 261,\n",
       " 'accommodate': 262,\n",
       " 'accommodated': 263,\n",
       " 'accommodates': 264,\n",
       " 'accommodating': 265,\n",
       " 'accompanied': 266,\n",
       " 'accompanying': 267,\n",
       " 'accomplish': 268,\n",
       " 'accomplished': 269,\n",
       " 'accomplishes': 270,\n",
       " 'accomplishing': 271,\n",
       " 'accordance': 272,\n",
       " 'according': 273,\n",
       " 'accordingly': 274,\n",
       " 'account': 275,\n",
       " 'accounted': 276,\n",
       " 'accounting': 277,\n",
       " 'accounts': 278,\n",
       " 'accumulate': 279,\n",
       " 'accumulated': 280,\n",
       " 'accumulation': 281,\n",
       " 'accuracies': 282,\n",
       " 'accuracy': 283,\n",
       " 'accurate': 284,\n",
       " 'accurately': 285,\n",
       " 'ace': 286,\n",
       " 'achievable': 287,\n",
       " 'achieve': 288,\n",
       " 'achieved': 289,\n",
       " 'achievement': 290,\n",
       " 'achieves': 291,\n",
       " 'achieving': 292,\n",
       " 'acid': 293,\n",
       " 'acknowledge': 294,\n",
       " 'acknowledged': 295,\n",
       " 'acknowledgements': 296,\n",
       " 'acknowledges': 297,\n",
       " 'acknowledgment': 298,\n",
       " 'acknowledgments': 299,\n",
       " 'acm': 300,\n",
       " 'acoustic': 301,\n",
       " 'acquire': 302,\n",
       " 'acquired': 303,\n",
       " 'acquires': 304,\n",
       " 'acquiring': 305,\n",
       " 'acquisition': 306,\n",
       " 'act': 307,\n",
       " 'acting': 308,\n",
       " 'action': 309,\n",
       " 'actions': 310,\n",
       " 'activated': 311,\n",
       " 'activation': 312,\n",
       " 'activations': 313,\n",
       " 'active': 314,\n",
       " 'actively': 315,\n",
       " 'activities': 316,\n",
       " 'activity': 317,\n",
       " 'actor': 318,\n",
       " 'actors': 319,\n",
       " 'acts': 320,\n",
       " 'actual': 321,\n",
       " 'actually': 322,\n",
       " 'actuation': 323,\n",
       " 'actuator': 324,\n",
       " 'actuators': 325,\n",
       " 'acyclic': 326,\n",
       " 'ad': 327,\n",
       " 'ada': 328,\n",
       " 'adapt': 329,\n",
       " 'adaptability': 330,\n",
       " 'adaptable': 331,\n",
       " 'adaptation': 332,\n",
       " 'adaptations': 333,\n",
       " 'adapted': 334,\n",
       " 'adapter': 335,\n",
       " 'adapters': 336,\n",
       " 'adapting': 337,\n",
       " 'adaptive': 338,\n",
       " 'adaptively': 339,\n",
       " 'adaptivity': 340,\n",
       " 'adapts': 341,\n",
       " 'add': 342,\n",
       " 'added': 343,\n",
       " 'adder': 344,\n",
       " 'adders': 345,\n",
       " 'adding': 346,\n",
       " 'addison': 347,\n",
       " 'addition': 348,\n",
       " 'additional': 349,\n",
       " 'additionally': 350,\n",
       " 'additions': 351,\n",
       " 'additive': 352,\n",
       " 'address': 353,\n",
       " 'addressed': 354,\n",
       " 'addresses': 355,\n",
       " 'addressing': 356,\n",
       " 'adds': 357,\n",
       " 'adequacy': 358,\n",
       " 'adequate': 359,\n",
       " 'adequately': 360,\n",
       " 'adhere': 361,\n",
       " 'adherence': 362,\n",
       " 'adiabatic': 363,\n",
       " 'adifor': 364,\n",
       " 'adjacency': 365,\n",
       " 'adjacent': 366,\n",
       " 'adjoint': 367,\n",
       " 'adjust': 368,\n",
       " 'adjustable': 369,\n",
       " 'adjusted': 370,\n",
       " 'adjusting': 371,\n",
       " 'adjustment': 372,\n",
       " 'adjusts': 373,\n",
       " 'adl': 374,\n",
       " 'administered': 375,\n",
       " 'administration': 376,\n",
       " 'administrative': 377,\n",
       " 'administrator': 378,\n",
       " 'administrators': 379,\n",
       " 'admissible': 380,\n",
       " 'admission': 381,\n",
       " 'admit': 382,\n",
       " 'admits': 383,\n",
       " 'admitted': 384,\n",
       " 'admitting': 385,\n",
       " 'adopt': 386,\n",
       " 'adopted': 387,\n",
       " 'adopting': 388,\n",
       " 'adoption': 389,\n",
       " 'adopts': 390,\n",
       " 'adrian': 391,\n",
       " 'adt': 392,\n",
       " 'advance': 393,\n",
       " 'advanced': 394,\n",
       " 'advances': 395,\n",
       " 'advantage': 396,\n",
       " 'advantageous': 397,\n",
       " 'advantages': 398,\n",
       " 'advent': 399,\n",
       " 'adversarial': 400,\n",
       " 'adversaries': 401,\n",
       " 'adversary': 402,\n",
       " 'adverse': 403,\n",
       " 'adversely': 404,\n",
       " 'advertising': 405,\n",
       " 'advice': 406,\n",
       " 'advisor': 407,\n",
       " 'advocate': 408,\n",
       " 'advocated': 409,\n",
       " 'advocates': 410,\n",
       " 'aegis': 411,\n",
       " 'aerial': 412,\n",
       " 'aeronautical': 413,\n",
       " 'aeronautics': 414,\n",
       " 'af': 415,\n",
       " 'affect': 416,\n",
       " 'affected': 417,\n",
       " 'affecting': 418,\n",
       " 'affective': 419,\n",
       " 'affects': 420,\n",
       " 'affiliated': 421,\n",
       " 'affine': 422,\n",
       " 'affinity': 423,\n",
       " 'affirmative': 424,\n",
       " 'afford': 425,\n",
       " 'affordable': 426,\n",
       " 'afforded': 427,\n",
       " 'affords': 428,\n",
       " 'aforementioned': 429,\n",
       " 'afosr': 430,\n",
       " 'africa': 431,\n",
       " 'afs': 432,\n",
       " 'ag': 433,\n",
       " 'age': 434,\n",
       " 'agencies': 435,\n",
       " 'agency': 436,\n",
       " 'agenda': 437,\n",
       " 'agent': 438,\n",
       " 'agents': 439,\n",
       " 'aggregate': 440,\n",
       " 'aggregated': 441,\n",
       " 'aggregates': 442,\n",
       " 'aggregating': 443,\n",
       " 'aggregation': 444,\n",
       " 'aggressive': 445,\n",
       " 'aggressively': 446,\n",
       " 'ago': 447,\n",
       " 'agree': 448,\n",
       " 'agreed': 449,\n",
       " 'agreement': 450,\n",
       " 'agreements': 451,\n",
       " 'agrees': 452,\n",
       " 'ahead': 453,\n",
       " 'ahs': 454,\n",
       " 'ai': 455,\n",
       " 'aid': 456,\n",
       " 'aided': 457,\n",
       " 'aids': 458,\n",
       " 'aim': 459,\n",
       " 'aimed': 460,\n",
       " 'aiming': 461,\n",
       " 'aims': 462,\n",
       " 'air': 463,\n",
       " 'aircraft': 464,\n",
       " 'al': 465,\n",
       " 'alarm': 466,\n",
       " 'alarms': 467,\n",
       " 'albeit': 468,\n",
       " 'alcom': 469,\n",
       " 'alewife': 470,\n",
       " 'alexander': 471,\n",
       " 'alexandria': 472,\n",
       " 'alfred': 473,\n",
       " 'algebra': 474,\n",
       " 'algebraic': 475,\n",
       " 'algebraically': 476,\n",
       " 'algebras': 477,\n",
       " 'algo': 478,\n",
       " 'algorithm': 479,\n",
       " 'algorithmic': 480,\n",
       " 'algorithmically': 481,\n",
       " 'algorithms': 482,\n",
       " 'alias': 483,\n",
       " 'aliases': 484,\n",
       " 'aliasing': 485,\n",
       " 'align': 486,\n",
       " 'aligned': 487,\n",
       " 'alignment': 488,\n",
       " 'alignments': 489,\n",
       " 'alive': 490,\n",
       " 'allen': 491,\n",
       " 'alleviate': 492,\n",
       " 'alleviated': 493,\n",
       " 'alleviates': 494,\n",
       " 'allocate': 495,\n",
       " 'allocated': 496,\n",
       " 'allocates': 497,\n",
       " 'allocating': 498,\n",
       " 'allocation': 499,\n",
       " 'allocations': 500,\n",
       " 'allow': 501,\n",
       " 'allowable': 502,\n",
       " 'allowed': 503,\n",
       " 'allowing': 504,\n",
       " 'allows': 505,\n",
       " 'ally': 506,\n",
       " 'almaden': 507,\n",
       " 'alpha': 508,\n",
       " 'alphabet': 509,\n",
       " 'alphaserver': 510,\n",
       " 'alter': 511,\n",
       " 'altered': 512,\n",
       " 'altering': 513,\n",
       " 'alternate': 514,\n",
       " 'alternates': 515,\n",
       " 'alternating': 516,\n",
       " 'alternative': 517,\n",
       " 'alternatively': 518,\n",
       " 'alternatives': 519,\n",
       " 'alters': 520,\n",
       " 'alto': 521,\n",
       " 'altogether': 522,\n",
       " 'ambiguities': 523,\n",
       " 'ambiguity': 524,\n",
       " 'ambiguous': 525,\n",
       " 'amenable': 526,\n",
       " 'america': 527,\n",
       " 'american': 528,\n",
       " 'ames': 529,\n",
       " 'amherst': 530,\n",
       " 'amortized': 531,\n",
       " 'amounts': 532,\n",
       " 'amplification': 533,\n",
       " 'amplitude': 534,\n",
       " 'amplitudes': 535,\n",
       " 'ams': 536,\n",
       " 'amsterdam': 537,\n",
       " 'analog': 538,\n",
       " 'analogical': 539,\n",
       " 'analogies': 540,\n",
       " 'analogous': 541,\n",
       " 'analogue': 542,\n",
       " 'analogues': 543,\n",
       " 'analogy': 544,\n",
       " 'analyse': 545,\n",
       " 'analysed': 546,\n",
       " 'analyses': 547,\n",
       " 'analysing': 548,\n",
       " 'analysis': 549,\n",
       " 'analyst': 550,\n",
       " 'analysts': 551,\n",
       " 'analytic': 552,\n",
       " 'analytical': 553,\n",
       " 'analytically': 554,\n",
       " 'analyze': 555,\n",
       " 'analyzed': 556,\n",
       " 'analyzer': 557,\n",
       " 'analyzers': 558,\n",
       " 'analyzes': 559,\n",
       " 'analyzing': 560,\n",
       " 'anatomical': 561,\n",
       " 'anatomy': 562,\n",
       " 'anderson': 563,\n",
       " 'andrew': 564,\n",
       " 'angeles': 565,\n",
       " 'angle': 566,\n",
       " 'angles': 567,\n",
       " 'angluin': 568,\n",
       " 'angular': 569,\n",
       " 'animal': 570,\n",
       " 'animals': 571,\n",
       " 'animate': 572,\n",
       " 'animated': 573,\n",
       " 'animating': 574,\n",
       " 'animation': 575,\n",
       " 'animations': 576,\n",
       " 'ann': 577,\n",
       " 'annealing': 578,\n",
       " 'annotate': 579,\n",
       " 'annotated': 580,\n",
       " 'annotating': 581,\n",
       " 'annotation': 582,\n",
       " 'annotations': 583,\n",
       " 'anns': 584,\n",
       " 'annual': 585,\n",
       " 'anomalies': 586,\n",
       " 'anomalous': 587,\n",
       " 'anomaly': 588,\n",
       " 'anonymity': 589,\n",
       " 'anonymous': 590,\n",
       " 'ansi': 591,\n",
       " 'answer': 592,\n",
       " 'answered': 593,\n",
       " 'answering': 594,\n",
       " 'answers': 595,\n",
       " 'ant': 596,\n",
       " 'anti': 597,\n",
       " 'anticipate': 598,\n",
       " 'anticipated': 599,\n",
       " 'anticipation': 600,\n",
       " 'anytime': 601,\n",
       " 'ap': 602,\n",
       " 'apart': 603,\n",
       " 'aperture': 604,\n",
       " 'api': 605,\n",
       " 'apparatus': 606,\n",
       " 'apparent': 607,\n",
       " 'apparently': 608,\n",
       " 'appeal': 609,\n",
       " 'appealing': 610,\n",
       " 'appear': 611,\n",
       " 'appearance': 612,\n",
       " 'appeared': 613,\n",
       " 'appearing': 614,\n",
       " 'appears': 615,\n",
       " 'appendix': 616,\n",
       " 'apple': 617,\n",
       " 'applet': 618,\n",
       " 'applets': 619,\n",
       " 'applicability': 620,\n",
       " 'applicable': 621,\n",
       " 'application': 622,\n",
       " 'applications': 623,\n",
       " 'applicationspecific': 624,\n",
       " 'applicative': 625,\n",
       " 'applied': 626,\n",
       " 'applies': 627,\n",
       " 'apply': 628,\n",
       " 'applying': 629,\n",
       " 'approach': 630,\n",
       " 'approached': 631,\n",
       " 'approaches': 632,\n",
       " 'approaching': 633,\n",
       " 'appropriate': 634,\n",
       " 'appropriately': 635,\n",
       " 'appropriateness': 636,\n",
       " 'approval': 637,\n",
       " 'approved': 638,\n",
       " 'approximability': 639,\n",
       " 'approximate': 640,\n",
       " 'approximated': 641,\n",
       " 'approximately': 642,\n",
       " 'approximates': 643,\n",
       " 'approximating': 644,\n",
       " 'approximation': 645,\n",
       " 'approximations': 646,\n",
       " 'approximator': 647,\n",
       " 'approximators': 648,\n",
       " 'april': 649,\n",
       " 'aq': 650,\n",
       " 'ar': 651,\n",
       " 'arbitrarily': 652,\n",
       " 'arbitrary': 653,\n",
       " 'arbitration': 654,\n",
       " 'arbor': 655,\n",
       " 'arc': 656,\n",
       " 'architect': 657,\n",
       " 'architects': 658,\n",
       " 'architectural': 659,\n",
       " 'architecture': 660,\n",
       " 'architectures': 661,\n",
       " 'archive': 662,\n",
       " 'archived': 663,\n",
       " 'archives': 664,\n",
       " 'arcs': 665,\n",
       " 'area': 666,\n",
       " 'areas': 667,\n",
       " 'arena': 668,\n",
       " 'argonne': 669,\n",
       " 'arguably': 670,\n",
       " 'argue': 671,\n",
       " 'argued': 672,\n",
       " 'argues': 673,\n",
       " 'arguing': 674,\n",
       " 'argument': 675,\n",
       " 'arguments': 676,\n",
       " 'arise': 677,\n",
       " 'arises': 678,\n",
       " 'arising': 679,\n",
       " 'arithmetic': 680,\n",
       " 'arity': 681,\n",
       " 'arizona': 682,\n",
       " 'arm': 683,\n",
       " 'arms': 684,\n",
       " 'army': 685,\n",
       " 'aro': 686,\n",
       " 'arose': 687,\n",
       " 'arpa': 688,\n",
       " 'arranged': 689,\n",
       " 'arrangement': 690,\n",
       " 'arrangements': 691,\n",
       " 'array': 692,\n",
       " 'arrays': 693,\n",
       " 'arrival': 694,\n",
       " 'arrivals': 695,\n",
       " 'arrive': 696,\n",
       " 'arrives': 697,\n",
       " 'arriving': 698,\n",
       " 'art': 699,\n",
       " 'arthur': 700,\n",
       " 'article': 701,\n",
       " 'articles': 702,\n",
       " 'articulated': 703,\n",
       " 'artifact': 704,\n",
       " 'artifacts': 705,\n",
       " 'artificial': 706,\n",
       " 'artificially': 707,\n",
       " 'ary': 708,\n",
       " 'asc': 709,\n",
       " 'ascent': 710,\n",
       " 'ascii': 711,\n",
       " 'asic': 712,\n",
       " 'aside': 713,\n",
       " 'ask': 714,\n",
       " 'asked': 715,\n",
       " 'asking': 716,\n",
       " 'asks': 717,\n",
       " 'asm': 718,\n",
       " 'asms': 719,\n",
       " 'asocs': 720,\n",
       " 'aspect': 721,\n",
       " 'aspects': 722,\n",
       " 'asr': 723,\n",
       " 'assemble': 724,\n",
       " 'assembled': 725,\n",
       " 'assembler': 726,\n",
       " 'assemblies': 727,\n",
       " 'assembling': 728,\n",
       " 'assembly': 729,\n",
       " 'assert': 730,\n",
       " 'assertion': 731,\n",
       " 'assertions': 732,\n",
       " 'assess': 733,\n",
       " 'assessed': 734,\n",
       " 'assesses': 735,\n",
       " 'assessing': 736,\n",
       " 'assessment': 737,\n",
       " 'assessments': 738,\n",
       " 'assign': 739,\n",
       " 'assigned': 740,\n",
       " 'assigning': 741,\n",
       " 'assignment': 742,\n",
       " 'assignments': 743,\n",
       " 'assigns': 744,\n",
       " 'assimilation': 745,\n",
       " 'assist': 746,\n",
       " 'assistance': 747,\n",
       " 'assistant': 748,\n",
       " 'assistants': 749,\n",
       " 'assisted': 750,\n",
       " 'assisting': 751,\n",
       " 'assists': 752,\n",
       " 'associate': 753,\n",
       " 'associated': 754,\n",
       " 'associates': 755,\n",
       " 'associating': 756,\n",
       " 'association': 757,\n",
       " 'associations': 758,\n",
       " 'associative': 759,\n",
       " 'associativity': 760,\n",
       " 'assume': 761,\n",
       " 'assumed': 762,\n",
       " 'assumes': 763,\n",
       " 'assuming': 764,\n",
       " 'assumption': 765,\n",
       " 'assumptions': 766,\n",
       " 'assurance': 767,\n",
       " 'assure': 768,\n",
       " 'assured': 769,\n",
       " 'asymmetric': 770,\n",
       " 'asymmetry': 771,\n",
       " 'asymptotic': 772,\n",
       " 'asymptotically': 773,\n",
       " 'asymptotics': 774,\n",
       " 'asynchronous': 775,\n",
       " 'asynchronously': 776,\n",
       " 'asynchrony': 777,\n",
       " 'atis': 778,\n",
       " 'atlanta': 779,\n",
       " 'atlantic': 780,\n",
       " 'atm': 781,\n",
       " 'atmosphere': 782,\n",
       " 'atmospheric': 783,\n",
       " 'atms': 784,\n",
       " 'atom': 785,\n",
       " 'atomic': 786,\n",
       " 'atomically': 787,\n",
       " 'atomicity': 788,\n",
       " 'atoms': 789,\n",
       " 'atr': 790,\n",
       " 'att': 791,\n",
       " 'attached': 792,\n",
       " 'attachment': 793,\n",
       " 'attack': 794,\n",
       " 'attacking': 795,\n",
       " 'attacks': 796,\n",
       " 'attain': 797,\n",
       " 'attainable': 798,\n",
       " 'attained': 799,\n",
       " 'attains': 800,\n",
       " 'attempt': 801,\n",
       " 'attempted': 802,\n",
       " 'attempting': 803,\n",
       " 'attempts': 804,\n",
       " 'attention': 805,\n",
       " 'attentional': 806,\n",
       " 'attitude': 807,\n",
       " 'attitudes': 808,\n",
       " 'attracted': 809,\n",
       " 'attraction': 810,\n",
       " 'attractive': 811,\n",
       " 'attractor': 812,\n",
       " 'attribute': 813,\n",
       " 'attributed': 814,\n",
       " 'attributes': 815,\n",
       " 'au': 816,\n",
       " 'auction': 817,\n",
       " 'auctions': 818,\n",
       " 'audience': 819,\n",
       " 'audio': 820,\n",
       " 'audit': 821,\n",
       " 'auditory': 822,\n",
       " 'augment': 823,\n",
       " 'augmentation': 824,\n",
       " 'augmented': 825,\n",
       " 'augmenting': 826,\n",
       " 'augments': 827,\n",
       " 'august': 828,\n",
       " 'austin': 829,\n",
       " 'australia': 830,\n",
       " 'austria': 831,\n",
       " 'authenticated': 832,\n",
       " 'authenticating': 833,\n",
       " 'authentication': 834,\n",
       " 'author': 835,\n",
       " 'authoring': 836,\n",
       " 'authority': 837,\n",
       " 'authorization': 838,\n",
       " 'authorized': 839,\n",
       " 'authors': 840,\n",
       " 'auto': 841,\n",
       " 'autocorrelation': 842,\n",
       " 'automata': 843,\n",
       " 'automate': 844,\n",
       " 'automated': 845,\n",
       " 'automates': 846,\n",
       " 'automatic': 847,\n",
       " 'automatically': 848,\n",
       " 'automating': 849,\n",
       " 'automation': 850,\n",
       " 'automaton': 851,\n",
       " 'automobile': 852,\n",
       " 'autonomous': 853,\n",
       " 'autonomously': 854,\n",
       " 'autonomy': 855,\n",
       " 'autoregressive': 856,\n",
       " 'auxiliary': 857,\n",
       " 'availability': 858,\n",
       " 'available': 859,\n",
       " 'avenue': 860,\n",
       " 'avenues': 861,\n",
       " 'average': 862,\n",
       " 'averaged': 863,\n",
       " 'averages': 864,\n",
       " 'averaging': 865,\n",
       " 'avionics': 866,\n",
       " 'aviv': 867,\n",
       " 'avoid': 868,\n",
       " 'avoidance': 869,\n",
       " 'avoided': 870,\n",
       " 'avoiding': 871,\n",
       " 'avoids': 872,\n",
       " 'avs': 873,\n",
       " 'award': 874,\n",
       " 'aware': 875,\n",
       " 'awareness': 876,\n",
       " 'away': 877,\n",
       " 'awkward': 878,\n",
       " 'ax': 879,\n",
       " 'axes': 880,\n",
       " 'axiom': 881,\n",
       " 'axiomatic': 882,\n",
       " 'axiomatization': 883,\n",
       " 'axioms': 884,\n",
       " 'axis': 885,\n",
       " 'backbone': 886,\n",
       " 'backed': 887,\n",
       " 'background': 888,\n",
       " 'backgrounds': 889,\n",
       " 'backing': 890,\n",
       " 'backpropagation': 891,\n",
       " 'backtrack': 892,\n",
       " 'backtracking': 893,\n",
       " 'backup': 894,\n",
       " 'backward': 895,\n",
       " 'backwards': 896,\n",
       " 'bad': 897,\n",
       " 'badly': 898,\n",
       " 'bag': 899,\n",
       " 'bagging': 900,\n",
       " 'balance': 901,\n",
       " 'balanced': 902,\n",
       " 'balances': 903,\n",
       " 'balancing': 904,\n",
       " 'baldwin': 905,\n",
       " 'ball': 906,\n",
       " 'balls': 907,\n",
       " 'band': 908,\n",
       " 'banded': 909,\n",
       " 'bands': 910,\n",
       " 'bandwidth': 911,\n",
       " 'bandwidths': 912,\n",
       " 'bank': 913,\n",
       " 'banking': 914,\n",
       " 'banks': 915,\n",
       " 'bar': 916,\n",
       " 'barbara': 917,\n",
       " 'barnes': 918,\n",
       " 'barrier': 919,\n",
       " 'barriers': 920,\n",
       " 'bars': 921,\n",
       " 'barto': 922,\n",
       " 'base': 923,\n",
       " 'based': 924,\n",
       " 'baseline': 925,\n",
       " 'bases': 926,\n",
       " 'basic': 927,\n",
       " 'basically': 928,\n",
       " 'basing': 929,\n",
       " 'basis': 930,\n",
       " 'batch': 931,\n",
       " 'batching': 932,\n",
       " 'battery': 933,\n",
       " 'baum': 934,\n",
       " 'bayes': 935,\n",
       " 'bayesian': 936,\n",
       " 'bbn': 937,\n",
       " 'bcm': 938,\n",
       " 'bdd': 939,\n",
       " 'bdds': 940,\n",
       " 'beam': 941,\n",
       " 'bear': 942,\n",
       " 'bearing': 943,\n",
       " 'beat': 944,\n",
       " 'bed': 945,\n",
       " 'began': 946,\n",
       " 'begin': 947,\n",
       " 'beginning': 948,\n",
       " 'begins': 949,\n",
       " 'begun': 950,\n",
       " 'behalf': 951,\n",
       " 'behave': 952,\n",
       " 'behaved': 953,\n",
       " 'behaves': 954,\n",
       " 'behavior': 955,\n",
       " 'behavioral': 956,\n",
       " 'behaviors': 957,\n",
       " 'behaviour': 958,\n",
       " 'behaviours': 959,\n",
       " 'belief': 960,\n",
       " 'beliefs': 961,\n",
       " 'believe': 962,\n",
       " 'believed': 963,\n",
       " 'bell': 964,\n",
       " 'bellcore': 965,\n",
       " 'bellman': 966,\n",
       " 'belong': 967,\n",
       " 'belonging': 968,\n",
       " 'belongs': 969,\n",
       " 'ben': 970,\n",
       " 'benchmark': 971,\n",
       " 'benchmarked': 972,\n",
       " 'benchmarking': 973,\n",
       " 'benchmarks': 974,\n",
       " 'beneficial': 975,\n",
       " 'benefit': 976,\n",
       " 'benefits': 977,\n",
       " 'benign': 978,\n",
       " 'ber': 979,\n",
       " 'berkeley': 980,\n",
       " 'berlin': 981,\n",
       " 'bernoulli': 982,\n",
       " 'berry': 983,\n",
       " 'best': 984,\n",
       " 'beta': 985,\n",
       " 'better': 986,\n",
       " 'bezier': 987,\n",
       " 'bi': 988,\n",
       " 'bias': 989,\n",
       " 'biased': 990,\n",
       " 'biases': 991,\n",
       " 'bibliographic': 992,\n",
       " 'bibliography': 993,\n",
       " 'bidirectional': 994,\n",
       " 'big': 995,\n",
       " 'bigger': 996,\n",
       " 'bigram': 997,\n",
       " 'bilinear': 998,\n",
       " 'bilingual': 999,\n",
       " ...}"
      ]
     },
     "execution_count": 7,
     "metadata": {},
     "output_type": "execute_result"
    }
   ],
   "source": [
    "data_dict[dconst.TRAIN][0].feature_to_idx"
   ]
  },
  {
   "cell_type": "code",
   "execution_count": 8,
   "id": "bbd314c3",
   "metadata": {},
   "outputs": [],
   "source": [
    "model_seed = next(model_seed_generator)"
   ]
  },
  {
   "cell_type": "code",
   "execution_count": 9,
   "id": "d65dfa0f",
   "metadata": {},
   "outputs": [],
   "source": [
    "run_artifact_dir = artifact_dir = osp.join(config.logging.artifact_dir, 'continuous-distribution-shift')"
   ]
  },
  {
   "cell_type": "code",
   "execution_count": 10,
   "id": "5368adf2",
   "metadata": {},
   "outputs": [
    {
     "data": {
      "text/plain": [
       "0"
      ]
     },
     "execution_count": 10,
     "metadata": {},
     "output_type": "execute_result"
    }
   ],
   "source": [
    "if not torch.cuda.is_available():\n",
    "    config.training.gpus = 0\n",
    "config.training.gpus"
   ]
  },
  {
   "cell_type": "code",
   "execution_count": 40,
   "id": "8518e440",
   "metadata": {},
   "outputs": [
    {
     "name": "stderr",
     "output_type": "stream",
     "text": [
      "Global seed set to 1952926171\n",
      "GPU available: False, used: False\n",
      "TPU available: False, using: 0 TPU cores\n",
      "IPU available: False, using: 0 IPUs\n"
     ]
    },
    {
     "name": "stdout",
     "output_type": "stream",
     "text": [
      "SemiSupervisedNodeClassification(\n",
      "  (backbone): GCN(\n",
      "    (convs): ModuleList(\n",
      "      (0): BasicBlock(\n",
      "        (conv): GCNConv\n",
      "          LinearWithParametrization(\n",
      "            (linear): Linear(in_features=8710, out_features=64, bias=False)\n",
      "          )\n",
      "        (act): LeakyReLU(negative_slope=0.01)\n",
      "      )\n",
      "      (1): BasicBlock(\n",
      "        (conv): GCNConv\n",
      "          LinearWithParametrization(\n",
      "            (linear): Linear(in_features=64, out_features=7, bias=False)\n",
      "          )\n",
      "      )\n",
      "    )\n",
      "  )\n",
      ")\n"
     ]
    }
   ],
   "source": [
    "config.registry.model_seed = model_seed\n",
    "pl.seed_everything(model_seed)\n",
    "model = make_model(config, data_get_num_attributes(data_dict[dconst.TRAIN][0]), \n",
    "    data_get_num_classes(data_dict[dconst.TRAIN][0])) \n",
    "print(model)\n",
    "model = train_model(model, config, artifact_dir, data_loaders, logger=None).eval()"
   ]
  },
  {
   "cell_type": "code",
   "execution_count": null,
   "id": "40957fe5",
   "metadata": {},
   "outputs": [],
   "source": []
  },
  {
   "cell_type": "code",
   "execution_count": 12,
   "id": "0afccbe5",
   "metadata": {},
   "outputs": [
    {
     "data": {
      "text/plain": [
       "Ensemble(\n",
       "  (members): ModuleList(\n",
       "    (0): SemiSupervisedNodeClassification(\n",
       "      (backbone): GCN(\n",
       "        (convs): ModuleList(\n",
       "          (0): BasicBlock(\n",
       "            (conv): GCNConv\n",
       "              LinearWithParametrization(\n",
       "                (linear): Linear(in_features=8710, out_features=64, bias=False)\n",
       "              )\n",
       "            (act): LeakyReLU(negative_slope=0.01)\n",
       "          )\n",
       "          (1): BasicBlock(\n",
       "            (conv): GCNConv\n",
       "              LinearWithParametrization(\n",
       "                (linear): Linear(in_features=64, out_features=7, bias=False)\n",
       "              )\n",
       "          )\n",
       "        )\n",
       "      )\n",
       "    )\n",
       "  )\n",
       ")"
      ]
     },
     "execution_count": 12,
     "metadata": {},
     "output_type": "execute_result"
    }
   ],
   "source": [
    "model = Ensemble([model], config.ensemble.num_samples, sample_at_eval=config.evaluation.sample)\n",
    "model.clear_and_disable_cache()\n",
    "model.eval()"
   ]
  },
  {
   "cell_type": "code",
   "execution_count": 13,
   "id": "9d786721",
   "metadata": {},
   "outputs": [
    {
     "name": "stdout",
     "output_type": "stream",
     "text": [
      "tensor(0.8357)\n"
     ]
    }
   ],
   "source": [
    "with torch.no_grad():\n",
    "    pred_val = model(data_loaders[dconst.VAL].dataset[0])\n",
    "    y_pred = pred_val.get_predictions().argmax(dim=1)[data_loaders[dconst.VAL].dataset[0].mask]\n",
    "    y_gnd = data_loaders[dconst.VAL].dataset[0].y[data_loaders[dconst.VAL].dataset[0].mask]\n",
    "    print((y_pred == y_gnd).float().mean())\n",
    "    "
   ]
  },
  {
   "cell_type": "code",
   "execution_count": 14,
   "id": "bec0f62a",
   "metadata": {},
   "outputs": [],
   "source": [
    "from data.transform import PerturbationTransform"
   ]
  },
  {
   "cell_type": "code",
   "execution_count": null,
   "id": "c338a1d5",
   "metadata": {},
   "outputs": [],
   "source": []
  },
  {
   "cell_type": "code",
   "execution_count": 15,
   "id": "36585fec",
   "metadata": {},
   "outputs": [],
   "source": [
    "data_ood_val_ber = PerturbationTransform(noise_type='bernoulli', p=.5)(data_loaders[dconst.OOD_VAL].dataset[0])"
   ]
  },
  {
   "cell_type": "code",
   "execution_count": 16,
   "id": "9efb6b9b",
   "metadata": {},
   "outputs": [],
   "source": [
    "\n",
    "data_train, data_val = data_loaders[dconst.TRAIN].dataset[0], data_loaders[dconst.VAL].dataset[0]\n",
    "with torch.no_grad():\n",
    "    pred_train = model(data_train)\n",
    "    pred_val = model(data_val)\n"
   ]
  },
  {
   "cell_type": "code",
   "execution_count": 17,
   "id": "dce9930a",
   "metadata": {},
   "outputs": [],
   "source": [
    "density_model = get_density_model(\n",
    "    density_type='GaussianPerClass',\n",
    "    covariance='diag',\n",
    "    regularization=False,\n",
    "    fit_val=True,\n",
    ")\n",
    "density_model.fit(\n",
    "    pred_train.get_features(-2)[data_train.mask], \n",
    "    pred_train.get_predictions()[data_train.mask], \n",
    "    pred_val.get_features(-2)[data_val.mask],\n",
    "    pred_val.get_predictions()[data_val.mask],\n",
    ")"
   ]
  },
  {
   "cell_type": "code",
   "execution_count": 18,
   "id": "8ac7b8c1",
   "metadata": {},
   "outputs": [],
   "source": [
    "with torch.no_grad():\n",
    "    features_ood_val = model(data_ood_val_ber).get_features(-2)\n",
    "    density_ood_val = density_model(features_ood_val)"
   ]
  },
  {
   "cell_type": "code",
   "execution_count": 19,
   "id": "59d60028",
   "metadata": {},
   "outputs": [
    {
     "data": {
      "text/plain": [
       "0.5948151237142063"
      ]
     },
     "execution_count": 19,
     "metadata": {},
     "output_type": "execute_result"
    }
   ],
   "source": [
    "roc_auc_score(\n",
    "    (~data_ood_val_ber.is_out_of_distribution).cpu().numpy()[data_ood_val_ber.mask],\n",
    "    density_ood_val.cpu().numpy()[data_ood_val_ber.mask],\n",
    ")"
   ]
  },
  {
   "cell_type": "markdown",
   "id": "5e7506f7",
   "metadata": {},
   "source": [
    "## Vary success probability"
   ]
  },
  {
   "cell_type": "code",
   "execution_count": 20,
   "id": "7f9068fe",
   "metadata": {},
   "outputs": [
    {
     "name": "stderr",
     "output_type": "stream",
     "text": [
      "100%|██████████| 100/100 [02:33<00:00,  1.54s/it]\n"
     ]
    }
   ],
   "source": [
    "ps, aurocs_density = [], []\n",
    "aurocs_max_score = []\n",
    "\n",
    "for p in tqdm(np.linspace(0.0, 1.0, 100)):\n",
    "    for _ in range(10):\n",
    "        data_p = PerturbationTransform(noise_type='bernoulli', p=p, seed=np.random.randint(0xFFFFFF))(data_loaders[dconst.OOD_VAL].dataset[0])\n",
    "        ps.append(p)\n",
    "        with torch.no_grad():\n",
    "            pred_p = model(data_p, remove_edges=True)\n",
    "            density_p = density_model(pred_p.get_features(-2))\n",
    "            aurocs_density.append(roc_auc_score(\n",
    "                (~data_p.is_out_of_distribution).cpu().numpy()[data_p.mask],\n",
    "                density_p.cpu().numpy()[data_p.mask],\n",
    "            ))\n",
    "            aurocs_max_score.append(roc_auc_score(\n",
    "                (~data_p.is_out_of_distribution).cpu().numpy()[data_p.mask],\n",
    "                pred_p.get_predictions().cpu().numpy().max(axis=1)[data_p.mask],\n",
    "                \n",
    "            ))\n",
    "            \n",
    "        \n",
    "    \n",
    "    "
   ]
  },
  {
   "cell_type": "code",
   "execution_count": 21,
   "id": "21055c56",
   "metadata": {},
   "outputs": [],
   "source": [
    "avg_sparsity = ((data_loaders[dconst.TRAIN].dataset[0].x > 0).sum(1) / data_loaders[dconst.TRAIN].dataset[0].x.size(1)).mean()\n",
    "max_sparsity = ((data_loaders[dconst.TRAIN].dataset[0].x > 0).sum(1) / data_loaders[dconst.TRAIN].dataset[0].x.size(1)).max()"
   ]
  },
  {
   "cell_type": "code",
   "execution_count": 22,
   "id": "250c85ff",
   "metadata": {},
   "outputs": [
    {
     "data": {
      "text/plain": [
       "(array([101., 431., 809., 513., 172.,  56.,  24.,  10.,   5.,   4.]),\n",
       " array([0.00022962, 0.00244546, 0.00466131, 0.00687715, 0.009093  ,\n",
       "        0.01130884, 0.01352468, 0.01574053, 0.01795637, 0.02017222,\n",
       "        0.02238806], dtype=float32),\n",
       " <BarContainer object of 10 artists>)"
      ]
     },
     "execution_count": 22,
     "metadata": {},
     "output_type": "execute_result"
    },
    {
     "data": {
      "image/png": "[encoded data removed]",
      "text/plain": [
       "<Figure size 432x288 with 1 Axes>"
      ]
     },
     "metadata": {
      "needs_background": "light"
     },
     "output_type": "display_data"
    }
   ],
   "source": [
    "instance_sparsity = (data_loaders[dconst.TRAIN].dataset[0].x > 0).sum(1) / data_loaders[dconst.TRAIN].dataset[0].x.size(1)\n",
    "fig, ax = plt.subplots()\n",
    "ax.hist(instance_sparsity.cpu().numpy())"
   ]
  },
  {
   "cell_type": "code",
   "execution_count": 23,
   "id": "9d5c8daf",
   "metadata": {},
   "outputs": [
    {
     "data": {
      "text/plain": [
       "Text(0, 0.5, 'AUC-ROC')"
      ]
     },
     "execution_count": 23,
     "metadata": {},
     "output_type": "execute_result"
    },
    {
     "data": {
      "image/png": "[encoded data removed]",
      "text/plain": [
       "<Figure size 432x288 with 1 Axes>"
      ]
     },
     "metadata": {
      "needs_background": "light"
     },
     "output_type": "display_data"
    }
   ],
   "source": [
    "fig, ax = plt.subplots()\n",
    "ax.scatter(ps, aurocs_density, alpha=.1, c='tab:blue')\n",
    "ax.scatter([], [], label='Density', c='tab:blue')\n",
    "ax.scatter(ps, aurocs_max_score, alpha=.1, c='tab:orange')\n",
    "ax.scatter([], [], label='Max Score', c='tab:orange')\n",
    "ax.axvline(avg_sparsity, ls='--', label='average train instance nnz', c='grey')\n",
    "ax.axvline(max_sparsity, ls='--', label='max train instance nnz', c='red')\n",
    "ax.legend()\n",
    "ax.set_xlabel('Bernoulli p')\n",
    "ax.set_ylabel('AUC-ROC')"
   ]
  },
  {
   "cell_type": "code",
   "execution_count": null,
   "id": "fd452a6a",
   "metadata": {},
   "outputs": [],
   "source": []
  },
  {
   "cell_type": "markdown",
   "id": "e1850203",
   "metadata": {},
   "source": [
    "## Distribution on discriminative features"
   ]
  },
  {
   "cell_type": "code",
   "execution_count": 24,
   "id": "3da154aa",
   "metadata": {},
   "outputs": [],
   "source": [
    "# Find discriminative features by looking at svd"
   ]
  },
  {
   "cell_type": "code",
   "execution_count": 25,
   "id": "bb3aff53",
   "metadata": {},
   "outputs": [],
   "source": [
    "u, s, v = np.linalg.svd(model.get_weights()['member0.backbone.conv0.lin.weight'].detach().cpu().numpy(), full_matrices=False)"
   ]
  },
  {
   "cell_type": "code",
   "execution_count": 26,
   "id": "39c6cd54",
   "metadata": {},
   "outputs": [],
   "source": [
    "idx_to_feature = {v : k for k, v in data_dict[dconst.TRAIN][0].feature_to_idx.items()}"
   ]
  },
  {
   "cell_type": "code",
   "execution_count": 27,
   "id": "ae55b0e8",
   "metadata": {},
   "outputs": [
    {
     "data": {
      "text/plain": [
       "array([7.3500643 , 7.2486315 , 6.9464374 , 6.8717046 , 6.6502132 ,\n",
       "       6.07743   , 5.928793  , 0.62572145, 0.5676463 , 0.42227274,\n",
       "       0.41436982, 0.39672515, 0.37418535, 0.34894034, 0.3271857 ,\n",
       "       0.30382672, 0.29163814, 0.28520247, 0.2714197 , 0.23986183,\n",
       "       0.22537352, 0.20999251, 0.2007187 , 0.18866901, 0.17828143,\n",
       "       0.17053044, 0.16343138, 0.14406781, 0.13307981, 0.12777345,\n",
       "       0.12572554, 0.11923011, 0.1133079 , 0.10570592, 0.09991175,\n",
       "       0.09576888, 0.09297574, 0.08967987, 0.08709768, 0.08072134,\n",
       "       0.07573973, 0.07477368, 0.06788231, 0.0656491 , 0.0639345 ,\n",
       "       0.05901476, 0.05781831, 0.05429827, 0.04771967, 0.04135595,\n",
       "       0.0403362 , 0.02915326, 0.02440181, 0.02264988, 0.02093903,\n",
       "       0.01977686, 0.01861701, 0.01720856, 0.01640318, 0.01431907,\n",
       "       0.01341079, 0.01323337, 0.01213536, 0.01091178], dtype=float32)"
      ]
     },
     "execution_count": 27,
     "metadata": {},
     "output_type": "execute_result"
    }
   ],
   "source": [
    "s"
   ]
  },
  {
   "cell_type": "code",
   "execution_count": 28,
   "id": "4f96d4a7",
   "metadata": {},
   "outputs": [],
   "source": [
    "discriminative_tokens = set()\n",
    "\n",
    "num_svs = 7\n",
    "num_tokens = 5\n",
    "for tk in (-np.abs(v[:num_svs, ])).argsort()[:, :num_tokens].flatten():\n",
    "    discriminative_tokens.add(tk)\n",
    "    \n",
    "discriminative_tokens = sorted(list(discriminative_tokens))"
   ]
  },
  {
   "cell_type": "code",
   "execution_count": 29,
   "id": "b7c5a45e",
   "metadata": {},
   "outputs": [
    {
     "data": {
      "text/plain": [
       "'bayesian, case, decision, error, evolutionary, ga, genetic, ilp, inductive, knowledge, learning, methods, network, networks, neural, policy, probability, reinforcement, theory, trees'"
      ]
     },
     "execution_count": 29,
     "metadata": {},
     "output_type": "execute_result"
    }
   ],
   "source": [
    "', '.join([idx_to_feature[tk] for tk in discriminative_tokens])"
   ]
  },
  {
   "cell_type": "code",
   "execution_count": 30,
   "id": "2d336bbb",
   "metadata": {},
   "outputs": [],
   "source": [
    "nnz = (data_loaders[dconst.TRAIN].dataset[0].x[:, discriminative_tokens] > 0).sum(1) / len(discriminative_tokens)\n",
    "\n",
    "nnz_avg = nnz.mean()\n",
    "nnz_max = nnz.max()"
   ]
  },
  {
   "cell_type": "code",
   "execution_count": 31,
   "id": "849cdb35",
   "metadata": {},
   "outputs": [
    {
     "data": {
      "text/plain": [
       "(tensor(0.1184), tensor(0.4000))"
      ]
     },
     "execution_count": 31,
     "metadata": {},
     "output_type": "execute_result"
    }
   ],
   "source": [
    "nnz_avg, nnz_max"
   ]
  },
  {
   "cell_type": "code",
   "execution_count": 32,
   "id": "d99b93d4",
   "metadata": {},
   "outputs": [
    {
     "name": "stderr",
     "output_type": "stream",
     "text": [
      "100%|██████████| 100/100 [02:32<00:00,  1.52s/it]\n"
     ]
    }
   ],
   "source": [
    "ps, aurocs_density = [], []\n",
    "aurocs_max_score = []\n",
    "\n",
    "\n",
    "for p in tqdm(np.linspace(0.0, 1.0, 100)):\n",
    "    for _ in range(10):\n",
    "        data_p = PerturbationTransform(noise_type='bernoulli', p=p, seed=np.random.randint(0xFFFFFF))(data_loaders[dconst.OOD_VAL].dataset[0])\n",
    "        \n",
    "        mask = torch.zeros_like(data_p.x)\n",
    "        mask[:, discriminative_tokens] = 1.0\n",
    "        data_p.x *= mask\n",
    "        ps.append(p)\n",
    "        with torch.no_grad():\n",
    "            pred_p = model(data_p, remove_edges=True)\n",
    "            density_p = density_model(pred_p.get_features(-2))\n",
    "            aurocs_density.append(roc_auc_score(\n",
    "                (~data_p.is_out_of_distribution).cpu().numpy()[data_p.mask],\n",
    "                density_p.cpu().numpy()[data_p.mask],\n",
    "            ))\n",
    "            aurocs_max_score.append(roc_auc_score(\n",
    "                (~data_p.is_out_of_distribution).cpu().numpy()[data_p.mask],\n",
    "                pred_p.get_predictions().cpu().numpy().max(axis=1)[data_p.mask],\n",
    "                \n",
    "            ))\n",
    "            \n",
    "        "
   ]
  },
  {
   "cell_type": "code",
   "execution_count": 33,
   "id": "fd635628",
   "metadata": {},
   "outputs": [
    {
     "data": {
      "text/plain": [
       "Text(0, 0.5, 'AUC-ROC')"
      ]
     },
     "execution_count": 33,
     "metadata": {},
     "output_type": "execute_result"
    },
    {
     "data": {
      "image/png": "[encoded data removed]",
      "text/plain": [
       "<Figure size 432x288 with 1 Axes>"
      ]
     },
     "metadata": {
      "needs_background": "light"
     },
     "output_type": "display_data"
    }
   ],
   "source": [
    "fig, ax = plt.subplots()\n",
    "ax.scatter(ps, aurocs_density, alpha=.1, c='tab:blue')\n",
    "ax.scatter([], [], label='Density', c='tab:blue')\n",
    "ax.scatter(ps, aurocs_max_score, alpha=.1, c='tab:orange')\n",
    "ax.scatter([], [], label='Max Score', c='tab:orange')\n",
    "ax.axvline(nnz_avg, ls='--', label='average train instance nnz', c='grey')\n",
    "ax.axvline(nnz_max, ls='--', label='max train instance nnz', c='red')\n",
    "ax.legend()\n",
    "ax.set_xlabel('Bernoulli p')\n",
    "ax.set_ylabel('AUC-ROC')"
   ]
  },
  {
   "cell_type": "markdown",
   "id": "c48a88c0",
   "metadata": {},
   "source": [
    "# Model class conditional counts"
   ]
  },
  {
   "cell_type": "code",
   "execution_count": 34,
   "id": "155d6624",
   "metadata": {},
   "outputs": [],
   "source": [
    "ps = {}\n",
    "X, y = data_dict[dconst.TRAIN][0].x, data_dict[dconst.TRAIN][0].y\n",
    "\n",
    "for class_idx in range(y[data_dict[dconst.TRAIN][0].mask].max() + 1):\n",
    "    ps[class_idx] = (X[y == class_idx] > 0).float().mean(dim=0).detach().cpu().numpy()\n",
    "    \n",
    "    \n"
   ]
  },
  {
   "cell_type": "code",
   "execution_count": 35,
   "id": "f18bab45",
   "metadata": {},
   "outputs": [
    {
     "name": "stderr",
     "output_type": "stream",
     "text": [
      "drawing from class conditional: 100%|██████████| 7/7 [00:12<00:00,  1.76s/it]\n"
     ]
    }
   ],
   "source": [
    "aurocs_density, aurocs_max_score = [], []\n",
    "\n",
    "for c, p_c in tqdm(ps.items(), 'drawing from class conditional'):\n",
    "    aurocs_density_c, aurocs_max_score_c = [], []\n",
    "    for _ in range(10):\n",
    "        data_p = PerturbationTransform(noise_type='bernoulli', p=.5, seed=np.random.randint(0xFFFFFF))(data_loaders[dconst.OOD_VAL].dataset[0])\n",
    "        noise = np.random.rand(int(data_p.is_out_of_distribution.sum()), data_p.x.size(1))\n",
    "        success = (noise <= p_c[None, :]).astype(float)\n",
    "        success /= np.linalg.norm(success, axis=1, keepdims=True)        \n",
    "        data_p.x[data_p.is_out_of_distribution] = torch.from_numpy(success).float()\n",
    "        \n",
    "        with torch.no_grad():\n",
    "            pred_p = model(data_p, remove_edges=True)\n",
    "            density_p = density_model(pred_p.get_features(-2))\n",
    "            aurocs_density_c.append(roc_auc_score(\n",
    "                (~data_p.is_out_of_distribution).cpu().numpy()[data_p.mask],\n",
    "                density_p.cpu().numpy()[data_p.mask],\n",
    "            ))\n",
    "            aurocs_max_score_c.append(roc_auc_score(\n",
    "                (~data_p.is_out_of_distribution).cpu().numpy()[data_p.mask],\n",
    "                pred_p.get_predictions().cpu().numpy().max(axis=1)[data_p.mask],\n",
    "                \n",
    "            ))\n",
    "    aurocs_density.append(aurocs_density_c)\n",
    "    aurocs_max_score.append(aurocs_max_score_c)\n",
    "    "
   ]
  },
  {
   "cell_type": "code",
   "execution_count": 36,
   "id": "24b35742",
   "metadata": {},
   "outputs": [],
   "source": [
    "idx_to_label = {v : k for k, v in data_dict[dconst.TRAIN][0].label_to_idx.items()}"
   ]
  },
  {
   "cell_type": "code",
   "execution_count": 37,
   "id": "22be20fd",
   "metadata": {},
   "outputs": [],
   "source": [
    "df = pd.DataFrame({\n",
    "    'Density' : np.array(aurocs_density).flatten(),\n",
    "    'Max Score' : np.array(aurocs_max_score).flatten(),\n",
    "    'Label' : [idx_to_label[l].split('/')[-1] for l in np.array([[c for _ in arr] for c, arr in enumerate(aurocs_density)]).flatten()],\n",
    "})"
   ]
  },
  {
   "cell_type": "code",
   "execution_count": null,
   "id": "60a74779",
   "metadata": {},
   "outputs": [],
   "source": []
  },
  {
   "cell_type": "code",
   "execution_count": 38,
   "id": "9f16bdd9",
   "metadata": {
    "scrolled": true
   },
   "outputs": [
    {
     "data": {
      "text/plain": [
       "[Text(0, 0, 'Case-Based'),\n",
       " Text(1, 0, 'Theory'),\n",
       " Text(2, 0, 'Genetic_Algorithms'),\n",
       " Text(3, 0, 'Probabilistic_Methods'),\n",
       " Text(4, 0, 'Neural_Networks'),\n",
       " Text(5, 0, 'Rule_Learning'),\n",
       " Text(6, 0, 'Reinforcement_Learning')]"
      ]
     },
     "execution_count": 38,
     "metadata": {},
     "output_type": "execute_result"
    },
    {
     "data": {
      "image/png": "[encoded data removed]",
      "text/plain": [
       "<Figure size 432x288 with 1 Axes>"
      ]
     },
     "metadata": {
      "needs_background": "light"
     },
     "output_type": "display_data"
    }
   ],
   "source": [
    "fig, ax = plt.subplots()\n",
    "sns.boxplot(data=df.melt(id_vars='Label', var_name='Proxy', value_name='AUROC'), x='Label', hue='Proxy', y='AUROC', ax=ax)\n",
    "ax.set_xticklabels(ax.get_xticklabels(), rotation = 90)"
   ]
  },
  {
   "cell_type": "code",
   "execution_count": null,
   "id": "1bc5872b",
   "metadata": {},
   "outputs": [],
   "source": []
  },
  {
   "cell_type": "code",
   "execution_count": 39,
   "id": "b70714b9",
   "metadata": {},
   "outputs": [
    {
     "name": "stdout",
     "output_type": "stream",
     "text": [
      "Case-Based : based : (68.0%), paper : (66.4%), learning : (50.6%), case : (47.1%), reasoning : (39.4%)\n",
      "Theory : learning : (71.2%), algorithm : (50.0%), paper : (47.0%), results : (38.7%), algorithms : (36.4%)\n",
      "Genetic_Algorithms : genetic : (74.1%), paper : (50.7%), problem : (41.6%), algorithms : (39.6%), results : (38.2%)\n",
      "Probabilistic_Methods : paper : (43.6%), bayesian : (38.2%), model : (36.8%), algorithm : (31.4%), models : (31.4%)\n",
      "Neural_Networks : neural : (51.7%), network : (43.7%), networks : (40.5%), learning : (39.7%), paper : (37.6%)\n",
      "Rule_Learning : learning : (68.8%), paper : (59.8%), algorithm : (42.9%), problem : (42.9%), results : (38.4%)\n",
      "Reinforcement_Learning : learning : (83.1%), reinforcement : (65.4%), paper : (58.0%), problem : (38.5%), based : (34.6%)\n"
     ]
    }
   ],
   "source": [
    "for c, p in ps.items():\n",
    "    print(idx_to_label[c].split('/')[-1], ':',  ', '.join(f'{idx_to_feature[tk]} : ({p[tk] * 100:.1f}%)' for tk in (-p).argsort()[:5]))"
   ]
  },
  {
   "cell_type": "markdown",
   "id": "376eb16e",
   "metadata": {},
   "source": [
    "# Swap features from classes\n"
   ]
  },
  {
   "cell_type": "code",
   "execution_count": 41,
   "id": "5beb487e",
   "metadata": {},
   "outputs": [],
   "source": [
    "# Use edges this time..."
   ]
  },
  {
   "cell_type": "code",
   "execution_count": 50,
   "id": "d90d9fd8",
   "metadata": {},
   "outputs": [],
   "source": [
    "from copy import deepcopy"
   ]
  },
  {
   "cell_type": "code",
   "execution_count": 64,
   "id": "438c6ab8",
   "metadata": {},
   "outputs": [
    {
     "name": "stderr",
     "output_type": "stream",
     "text": [
      "Source class...:  14%|█▍        | 1/7 [00:00<00:04,  1.39it/s]"
     ]
    },
    {
     "name": "stdout",
     "output_type": "stream",
     "text": [
      "0.49594988344988344 0.5153117715617717\n"
     ]
    },
    {
     "name": "stderr",
     "output_type": "stream",
     "text": [
      "\r",
      "Source class...:  29%|██▊       | 2/7 [00:01<00:03,  1.48it/s]"
     ]
    },
    {
     "name": "stdout",
     "output_type": "stream",
     "text": [
      "0.48384195783576595 0.49091110128261833\n"
     ]
    },
    {
     "name": "stderr",
     "output_type": "stream",
     "text": [
      "\r",
      "Source class...:  43%|████▎     | 3/7 [00:02<00:02,  1.44it/s]"
     ]
    },
    {
     "name": "stdout",
     "output_type": "stream",
     "text": [
      "0.4720156555772994 0.47669727532741224\n"
     ]
    },
    {
     "name": "stderr",
     "output_type": "stream",
     "text": [
      "\r",
      "Source class...:  57%|█████▋    | 4/7 [00:02<00:02,  1.48it/s]"
     ]
    },
    {
     "name": "stdout",
     "output_type": "stream",
     "text": [
      "0.4692261309488793 0.4473866109771163\n"
     ]
    },
    {
     "name": "stderr",
     "output_type": "stream",
     "text": [
      "\r",
      "Source class...:  71%|███████▏  | 5/7 [00:03<00:01,  1.55it/s]"
     ]
    },
    {
     "name": "stdout",
     "output_type": "stream",
     "text": [
      "0.4833251674016005 0.4831455169034787\n"
     ]
    },
    {
     "name": "stderr",
     "output_type": "stream",
     "text": [
      "\r",
      "Source class...:  86%|████████▌ | 6/7 [00:03<00:00,  1.58it/s]"
     ]
    },
    {
     "name": "stdout",
     "output_type": "stream",
     "text": [
      "0.4997668503603222 0.48579200226084496\n"
     ]
    },
    {
     "name": "stderr",
     "output_type": "stream",
     "text": [
      "Source class...: 100%|██████████| 7/7 [00:04<00:00,  1.55it/s]"
     ]
    },
    {
     "name": "stdout",
     "output_type": "stream",
     "text": [
      "0.49632138694638694 0.5152607808857809\n"
     ]
    },
    {
     "name": "stderr",
     "output_type": "stream",
     "text": [
      "\n"
     ]
    }
   ],
   "source": [
    "df_swap = {}\n",
    "\n",
    "num_classes = int(data_dict[dconst.TRAIN][0].y.max() + 1)\n",
    "for src_class in tqdm(range(num_classes), 'Source class...'):\n",
    "    mask_target = (data_dict[dconst.OOD_VAL][0].y != src_class) # & (data_dict[dconst.OOD_VAL][0].mask) & (data_dict[dconst.OOD_VAL][0].is_out_of_distribution)\n",
    "    mask_src = (data_dict[dconst.OOD_VAL][0].y == src_class) & (data_dict[dconst.OOD_VAL][0].mask)\n",
    "    \n",
    "    for _ in range(10):\n",
    "        sample_src = np.random.choice(torch.where(mask_src)[0].cpu().numpy(), int(mask_target.sum()), replace=True)\n",
    "\n",
    "        data_ood = data_dict[dconst.OOD_VAL][0].clone()\n",
    "        data_ood.x[mask_target] = data_ood.x[sample_src]\n",
    "        \n",
    "        with torch.no_grad():\n",
    "            pred_ood = model(data_ood)\n",
    "            density_ood = density_model(pred_ood.get_features(-2))\n",
    "            \n",
    "            \n",
    "            # Consider all ID samples and the target mask\n",
    "            auroc_density = roc_auc_score(\n",
    "                (~(data_ood.is_out_of_distribution & mask_target)).cpu().numpy()[data_ood.mask],\n",
    "                density_ood.cpu().numpy()[data_ood.mask],\n",
    "            )\n",
    "            auroc_max_score = roc_auc_score(\n",
    "                (~(data_ood.is_out_of_distribution & mask_target)).cpu().numpy()[data_ood.mask],\n",
    "                pred_ood.get_predictions().cpu().numpy().max(axis=1)[data_ood.mask],\n",
    "            )\n",
    "            print(auroc_density, auroc_max_score)\n",
    "            \n",
    "            \n",
    "            \n",
    "            \n",
    "        \n",
    "        break\n",
    "    \n",
    "    \n",
    "    "
   ]
  },
  {
   "cell_type": "code",
   "execution_count": null,
   "id": "7e89089e",
   "metadata": {},
   "outputs": [],
   "source": []
  }
 ],
 "metadata": {
  "kernelspec": {
   "display_name": "Python 3",
   "language": "python",
   "name": "python3"
  },
  "language_info": {
   "codemirror_mode": {
    "name": "ipython",
    "version": 3
   },
   "file_extension": ".py",
   "mimetype": "text/x-python",
   "name": "python",
   "nbconvert_exporter": "python",
   "pygments_lexer": "ipython3",
   "version": "3.9.5"
  }
 },
 "nbformat": 4,
 "nbformat_minor": 5
}
