{
 "cells": [
  {
   "cell_type": "code",
   "execution_count": 1,
   "id": "3cb6f574",
   "metadata": {},
   "outputs": [],
   "source": [
    "import numpy as np\n",
    "import seml"
   ]
  },
  {
   "cell_type": "code",
   "execution_count": 2,
   "id": "ed353a91",
   "metadata": {},
   "outputs": [
    {
     "name": "stdout",
     "output_type": "stream",
     "text": [
      "/nfs/homedirs/fuchsgru/MastersThesis\n"
     ]
    }
   ],
   "source": [
    "%cd ../.."
   ]
  },
  {
   "cell_type": "code",
   "execution_count": 3,
   "id": "00ed740d",
   "metadata": {},
   "outputs": [],
   "source": [
    "from model_registry import ModelRegistry"
   ]
  },
  {
   "cell_type": "code",
   "execution_count": 9,
   "id": "521fd32f",
   "metadata": {},
   "outputs": [],
   "source": [
    "from util import deepdictcmp"
   ]
  },
  {
   "cell_type": "code",
   "execution_count": 4,
   "id": "8184f018",
   "metadata": {},
   "outputs": [],
   "source": [
    "registry = ModelRegistry()"
   ]
  },
  {
   "cell_type": "code",
   "execution_count": 24,
   "id": "570c1109",
   "metadata": {},
   "outputs": [],
   "source": [
    "path_to_cfg = {\n",
    "    path : cfg for cfg, path in registry.items()\n",
    "}"
   ]
  },
  {
   "cell_type": "code",
   "execution_count": 25,
   "id": "03120bc6",
   "metadata": {},
   "outputs": [],
   "source": [
    "cfg = path_to_cfg['/nfs/students/fuchsgru/model_registry/4357078597371287699-1650046178-805452-3716551021.ckpt']"
   ]
  },
  {
   "cell_type": "code",
   "execution_count": 28,
   "id": "60becf17",
   "metadata": {},
   "outputs": [
    {
     "data": {
      "text/plain": [
       "['/nfs/students/fuchsgru/model_registry/466494071897690944-1650046599-2313595-3879036694.ckpt']"
      ]
     },
     "execution_count": 28,
     "metadata": {},
     "output_type": "execute_result"
    }
   ],
   "source": [
    "registry.remove(cfg)"
   ]
  },
  {
   "cell_type": "code",
   "execution_count": null,
   "id": "3341326b",
   "metadata": {},
   "outputs": [],
   "source": []
  },
  {
   "cell_type": "code",
   "execution_count": null,
   "id": "06c89af4",
   "metadata": {},
   "outputs": [],
   "source": []
  },
  {
   "cell_type": "code",
   "execution_count": null,
   "id": "27767e61",
   "metadata": {},
   "outputs": [],
   "source": []
  },
  {
   "cell_type": "code",
   "execution_count": null,
   "id": "eaca53e9",
   "metadata": {},
   "outputs": [],
   "source": []
  },
  {
   "cell_type": "code",
   "execution_count": null,
   "id": "9b311382",
   "metadata": {},
   "outputs": [],
   "source": []
  },
  {
   "cell_type": "code",
   "execution_count": 14,
   "id": "a91a97a5",
   "metadata": {},
   "outputs": [],
   "source": [
    "first = path_to_cfg['/nfs/students/fuchsgru/model_registry/-8475695365035130549-1649970608-2864926-1369343462.ckpt']\n",
    "second = path_to_cfg['/nfs/students/fuchsgru/model_registry/4852098461042294421-1650029799-9567437-2928944249.ckpt']"
   ]
  },
  {
   "cell_type": "code",
   "execution_count": 15,
   "id": "1b67c601",
   "metadata": {},
   "outputs": [
    {
     "name": "stdout",
     "output_type": "stream",
     "text": [
      "Mismatching types for training.temperature_scaling: First: <class 'NoneType'>, second : <class 'dict'>\n"
     ]
    }
   ],
   "source": [
    "deepdictcmp(\n",
    "    first.registry_configuration,\n",
    "    second.registry_configuration\n",
    ")"
   ]
  },
  {
   "cell_type": "code",
   "execution_count": 17,
   "id": "3718c6f7",
   "metadata": {},
   "outputs": [],
   "source": [
    "first.training.temperature_scaling"
   ]
  },
  {
   "cell_type": "code",
   "execution_count": 18,
   "id": "8c9a5f93",
   "metadata": {},
   "outputs": [
    {
     "data": {
      "text/plain": [
       "TemperatureScalingConfiguration(criterion='nll', learning_rate=0.01, max_epochs=50)"
      ]
     },
     "execution_count": 18,
     "metadata": {},
     "output_type": "execute_result"
    }
   ],
   "source": [
    "second.training.temperature_scaling"
   ]
  },
  {
   "cell_type": "code",
   "execution_count": 7,
   "id": "07d35e49",
   "metadata": {},
   "outputs": [
    {
     "data": {
      "text/plain": [
       "'/nfs/students/fuchsgru/model_registry/1660441368.ckpt'"
      ]
     },
     "execution_count": 7,
     "metadata": {},
     "output_type": "execute_result"
    }
   ],
   "source": [
    "list(path_to_cfg)[0]"
   ]
  },
  {
   "cell_type": "code",
   "execution_count": 23,
   "id": "642a4a1a",
   "metadata": {},
   "outputs": [
    {
     "data": {
      "text/plain": [
       "[]"
      ]
     },
     "execution_count": 23,
     "metadata": {},
     "output_type": "execute_result"
    }
   ],
   "source": [
    "registry.remove(second)"
   ]
  },
  {
   "cell_type": "code",
   "execution_count": null,
   "id": "32905a8c",
   "metadata": {},
   "outputs": [],
   "source": []
  }
 ],
 "metadata": {
  "kernelspec": {
   "display_name": "Python 3",
   "language": "python",
   "name": "python3"
  },
  "language_info": {
   "codemirror_mode": {
    "name": "ipython",
    "version": 3
   },
   "file_extension": ".py",
   "mimetype": "text/x-python",
   "name": "python",
   "nbconvert_exporter": "python",
   "pygments_lexer": "ipython3",
   "version": "3.9.5"
  }
 },
 "nbformat": 4,
 "nbformat_minor": 5
}
