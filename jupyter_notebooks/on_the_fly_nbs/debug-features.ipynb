{
 "cells": [
  {
   "cell_type": "code",
   "execution_count": 1,
   "id": "d70a974d",
   "metadata": {},
   "outputs": [],
   "source": [
    "import torch\n",
    "import numpy as np\n",
    "import matplotlib.pyplot as plt\n",
    "\n",
    "from torch.distributions.multivariate_normal import MultivariateNormal"
   ]
  },
  {
   "cell_type": "code",
   "execution_count": 2,
   "id": "2ce4995e",
   "metadata": {},
   "outputs": [],
   "source": [
    "from sklearn.decomposition import PCA\n",
    "\n",
    "from sklearn.metrics import roc_auc_score"
   ]
  },
  {
   "cell_type": "code",
   "execution_count": 3,
   "id": "7d7586e8",
   "metadata": {},
   "outputs": [],
   "source": [
    "def cov_and_mean(x, rowvar=False, bias=False, ddof=None, aweights=None):\n",
    "    \"\"\"Estimates covariance matrix like numpy.cov and also returns the weighted mean.\n",
    "\n",
    "    Parameters:\n",
    "    -----------\n",
    "    x : torch.Tensor, shape [N, D]\n",
    "        The tensor to estimate covariance of.\n",
    "    rowvar : bool\n",
    "        If given, columns are treated as observations.\n",
    "    bias : bool\n",
    "        If given, use correction for the empirical covariance.\n",
    "    aweights : torch.Tensor, shape [N] or None\n",
    "        Weights for each observation.\n",
    "    \n",
    "    Returns:\n",
    "    --------\n",
    "    cov : torch.Tensor, shape [D, D]\n",
    "        Empirical covariance.\n",
    "    mean : torch.Tensor, shape [D]\n",
    "        Empirical means.\n",
    "\n",
    "    References:\n",
    "    -----------\n",
    "    From: https://github.com/pytorch/pytorch/issues/19037#issue-430654869\n",
    "    \"\"\"\n",
    "    # ensure at least 2D\n",
    "    if x.dim() == 1:\n",
    "        x = x.view(-1, 1)\n",
    "\n",
    "    # treat each column as a data point, each row as a variable\n",
    "    if rowvar and x.shape[0] != 1:\n",
    "        x = x.t()\n",
    "\n",
    "    if ddof is None:\n",
    "        if bias == 0:\n",
    "            ddof = 1\n",
    "        else:\n",
    "            ddof = 0\n",
    "\n",
    "    w = aweights\n",
    "    if w is not None:\n",
    "        if not torch.is_tensor(w):\n",
    "            w = torch.tensor(w, dtype=torch.float)\n",
    "        w_sum = torch.sum(w)\n",
    "        avg = torch.sum(x * (w/w_sum)[:,None], 0)\n",
    "    else:\n",
    "        avg = torch.mean(x, 0)\n",
    "\n",
    "    # Determine the normalization\n",
    "    if w is None:\n",
    "        fact = x.shape[0] - ddof\n",
    "    elif ddof == 0:\n",
    "        fact = w_sum\n",
    "    elif aweights is None:\n",
    "        fact = w_sum - ddof\n",
    "    else:\n",
    "        fact = w_sum - ddof * torch.sum(w * w) / w_sum\n",
    "\n",
    "    xm = x.sub(avg.expand_as(x))\n",
    "\n",
    "    if w is None:\n",
    "        X_T = xm.t()\n",
    "    else:\n",
    "        X_T = torch.mm(torch.diag(w), xm).t()\n",
    "\n",
    "    c = torch.mm(X_T, xm)\n",
    "    c = c / fact\n",
    "\n",
    "    return c.squeeze(), avg\n"
   ]
  },
  {
   "cell_type": "code",
   "execution_count": 4,
   "id": "396256af",
   "metadata": {},
   "outputs": [
    {
     "name": "stdout",
     "output_type": "stream",
     "text": [
      "/nfs/homedirs/fuchsgru/MastersThesis\n"
     ]
    }
   ],
   "source": [
    "%cd .."
   ]
  },
  {
   "cell_type": "code",
   "execution_count": 5,
   "id": "a44beae7",
   "metadata": {},
   "outputs": [],
   "source": [
    "x = torch.load('features_debug.pt')"
   ]
  },
  {
   "cell_type": "code",
   "execution_count": 6,
   "id": "5dc6dc98",
   "metadata": {},
   "outputs": [],
   "source": [
    "features_fit = x['features_fit']\n",
    "pred_fit = x['predictions_fit']\n",
    "labels_fit = x['labels_fit']\n",
    "features_eval = x['features_eval']\n",
    "pred_eval = x['predictions_eval']\n",
    "labels_eval = x['labels_eval']"
   ]
  },
  {
   "cell_type": "code",
   "execution_count": 7,
   "id": "c1794514",
   "metadata": {},
   "outputs": [],
   "source": [
    "is_ood_label = labels_eval >= pred_eval.size(1)"
   ]
  },
  {
   "cell_type": "code",
   "execution_count": 8,
   "id": "f839c617",
   "metadata": {},
   "outputs": [],
   "source": [
    "means = torch.stack([features_fit[labels_fit == i].mean(0) for i in range(pred_fit.size(1))])\n",
    "distances_to_mean = torch.cdist(features_eval, means)\n",
    "distances_to_mean_s, _ = torch.sort(distances_to_mean, dim=-1)\n",
    "distances_to_fit = torch.cdist(features_eval, features_fit)\n",
    "distances_to_fit_s, _ = torch.sort(distances_to_fit, dim=-1)\n"
   ]
  },
  {
   "cell_type": "code",
   "execution_count": 9,
   "id": "3a1ae46e",
   "metadata": {},
   "outputs": [
    {
     "data": {
      "text/plain": [
       "torch.Size([7, 64])"
      ]
     },
     "execution_count": 9,
     "metadata": {},
     "output_type": "execute_result"
    }
   ],
   "source": [
    "means.size()"
   ]
  },
  {
   "cell_type": "code",
   "execution_count": 10,
   "id": "6b3b2aaf",
   "metadata": {},
   "outputs": [
    {
     "data": {
      "text/plain": [
       "0.9838236337484922"
      ]
     },
     "execution_count": 10,
     "metadata": {},
     "output_type": "execute_result"
    },
    {
     "data": {
      "image/png": "[encoded data removed]",
      "text/plain": [
       "<Figure size 360x360 with 1 Axes>"
      ]
     },
     "metadata": {
      "needs_background": "light"
     },
     "output_type": "display_data"
    }
   ],
   "source": [
    "fig, ax = plt.subplots(figsize=(5, 5))\n",
    "ax.hist(distances_to_mean[is_ood_label].min(-1)[0].numpy(), density=True, alpha=.5, label='ood label')\n",
    "ax.hist(distances_to_mean[~is_ood_label].min(-1)[0].numpy(), density=True, alpha=.5, label='id label')\n",
    "ax.legend()\n",
    "roc_auc_score((~is_ood_label).numpy().astype(int), -distances_to_mean.min(-1)[0].numpy())"
   ]
  },
  {
   "cell_type": "code",
   "execution_count": 11,
   "id": "54e0a7a3",
   "metadata": {},
   "outputs": [],
   "source": [
    "class_log_densities = []\n"
   ]
  },
  {
   "cell_type": "code",
   "execution_count": 12,
   "id": "431543e5",
   "metadata": {},
   "outputs": [
    {
     "data": {
      "text/plain": [
       "0.9758515489451178"
      ]
     },
     "execution_count": 12,
     "metadata": {},
     "output_type": "execute_result"
    },
    {
     "data": {
      "image/png": "[encoded data removed]",
      "text/plain": [
       "<Figure size 360x360 with 1 Axes>"
      ]
     },
     "metadata": {
      "needs_background": "light"
     },
     "output_type": "display_data"
    }
   ],
   "source": [
    "fig, ax = plt.subplots(figsize=(5, 5))\n",
    "ax.hist(distances_to_fit_s[is_ood_label][:, :5].mean(-1).numpy(), density=True, alpha=.5, label='ood label')\n",
    "ax.hist(distances_to_fit_s[~is_ood_label][:, :5].mean(-1).numpy(), density=True, alpha=.5, label='id label')\n",
    "roc_auc_score((~is_ood_label).numpy().astype(int), -distances_to_fit_s[:, :5].min(-1)[0].numpy())"
   ]
  },
  {
   "cell_type": "code",
   "execution_count": 13,
   "id": "9dbbed09",
   "metadata": {},
   "outputs": [
    {
     "data": {
      "text/plain": [
       "0.8892663876006993"
      ]
     },
     "execution_count": 13,
     "metadata": {},
     "output_type": "execute_result"
    },
    {
     "data": {
      "image/png": "[encoded data removed]",
      "text/plain": [
       "<Figure size 360x360 with 1 Axes>"
      ]
     },
     "metadata": {
      "needs_background": "light"
     },
     "output_type": "display_data"
    }
   ],
   "source": [
    "dists = [MultivariateNormal(means[i], covariance_matrix=torch.eye(64)) for i in range(pred_fit.size(1))]\n",
    "log_probs = torch.stack([d.log_prob(features_eval) for d in dists]).T\n",
    "\n",
    "fig, ax = plt.subplots(figsize=(5, 5))\n",
    "ax.hist(torch.logsumexp(log_probs, 1)[is_ood_label].numpy(), density=True, alpha=.5, label='ood label')\n",
    "ax.hist(torch.logsumexp(log_probs, 1)[~is_ood_label].numpy(), density=True, alpha=.5, label='id label')\n",
    "\n",
    "\n",
    "roc_auc_score((~is_ood_label).numpy().astype(int), torch.logsumexp(log_probs, 1).numpy())"
   ]
  },
  {
   "cell_type": "code",
   "execution_count": 14,
   "id": "8de8ec3e",
   "metadata": {},
   "outputs": [
    {
     "ename": "NameError",
     "evalue": "name 'covs' is not defined",
     "output_type": "error",
     "traceback": [
      "\u001b[0;31m--------------------------------------------------------------------------\u001b[0m",
      "\u001b[0;31mNameError\u001b[0m                                Traceback (most recent call last)",
      "\u001b[0;32m<ipython-input-14-70550fb39357>\u001b[0m in \u001b[0;36m<module>\u001b[0;34m\u001b[0m\n\u001b[0;32m----> 1\u001b[0;31m \u001b[0mdists\u001b[0m \u001b[0;34m=\u001b[0m \u001b[0;34m[\u001b[0m\u001b[0mMultivariateNormal\u001b[0m\u001b[0;34m(\u001b[0m\u001b[0mmeans\u001b[0m\u001b[0;34m[\u001b[0m\u001b[0mi\u001b[0m\u001b[0;34m]\u001b[0m\u001b[0;34m,\u001b[0m \u001b[0mcovariance_matrix\u001b[0m\u001b[0;34m=\u001b[0m\u001b[0mcovs\u001b[0m\u001b[0;34m[\u001b[0m\u001b[0mi\u001b[0m\u001b[0;34m]\u001b[0m \u001b[0;34m+\u001b[0m \u001b[0;36m1e-8\u001b[0m \u001b[0;34m*\u001b[0m \u001b[0mtorch\u001b[0m\u001b[0;34m.\u001b[0m\u001b[0meye\u001b[0m\u001b[0;34m(\u001b[0m\u001b[0;36m64\u001b[0m\u001b[0;34m)\u001b[0m\u001b[0;34m)\u001b[0m \u001b[0;32mfor\u001b[0m \u001b[0mi\u001b[0m \u001b[0;32min\u001b[0m \u001b[0mrange\u001b[0m\u001b[0;34m(\u001b[0m\u001b[0mpred_fit\u001b[0m\u001b[0;34m.\u001b[0m\u001b[0msize\u001b[0m\u001b[0;34m(\u001b[0m\u001b[0;36m1\u001b[0m\u001b[0;34m)\u001b[0m\u001b[0;34m)\u001b[0m\u001b[0;34m]\u001b[0m\u001b[0;34m\u001b[0m\u001b[0;34m\u001b[0m\u001b[0m\n\u001b[0m\u001b[1;32m      2\u001b[0m \u001b[0mlog_probs\u001b[0m \u001b[0;34m=\u001b[0m \u001b[0mtorch\u001b[0m\u001b[0;34m.\u001b[0m\u001b[0mstack\u001b[0m\u001b[0;34m(\u001b[0m\u001b[0;34m[\u001b[0m\u001b[0md\u001b[0m\u001b[0;34m.\u001b[0m\u001b[0mlog_prob\u001b[0m\u001b[0;34m(\u001b[0m\u001b[0mfeatures_eval\u001b[0m\u001b[0;34m)\u001b[0m \u001b[0;32mfor\u001b[0m \u001b[0md\u001b[0m \u001b[0;32min\u001b[0m \u001b[0mdists\u001b[0m\u001b[0;34m]\u001b[0m\u001b[0;34m)\u001b[0m\u001b[0;34m.\u001b[0m\u001b[0mT\u001b[0m\u001b[0;34m\u001b[0m\u001b[0;34m\u001b[0m\u001b[0m\n\u001b[1;32m      3\u001b[0m \u001b[0;34m\u001b[0m\u001b[0m\n\u001b[1;32m      4\u001b[0m \u001b[0mfig\u001b[0m\u001b[0;34m,\u001b[0m \u001b[0max\u001b[0m \u001b[0;34m=\u001b[0m \u001b[0mplt\u001b[0m\u001b[0;34m.\u001b[0m\u001b[0msubplots\u001b[0m\u001b[0;34m(\u001b[0m\u001b[0mfigsize\u001b[0m\u001b[0;34m=\u001b[0m\u001b[0;34m(\u001b[0m\u001b[0;36m5\u001b[0m\u001b[0;34m,\u001b[0m \u001b[0;36m5\u001b[0m\u001b[0;34m)\u001b[0m\u001b[0;34m)\u001b[0m\u001b[0;34m\u001b[0m\u001b[0;34m\u001b[0m\u001b[0m\n\u001b[1;32m      5\u001b[0m \u001b[0max\u001b[0m\u001b[0;34m.\u001b[0m\u001b[0mhist\u001b[0m\u001b[0;34m(\u001b[0m\u001b[0mlog_probs\u001b[0m\u001b[0;34m.\u001b[0m\u001b[0mmax\u001b[0m\u001b[0;34m(\u001b[0m\u001b[0;36m1\u001b[0m\u001b[0;34m)\u001b[0m\u001b[0;34m[\u001b[0m\u001b[0;36m0\u001b[0m\u001b[0;34m]\u001b[0m\u001b[0;34m[\u001b[0m\u001b[0mis_ood_label\u001b[0m\u001b[0;34m]\u001b[0m\u001b[0;34m.\u001b[0m\u001b[0mnumpy\u001b[0m\u001b[0;34m(\u001b[0m\u001b[0;34m)\u001b[0m\u001b[0;34m,\u001b[0m \u001b[0mdensity\u001b[0m\u001b[0;34m=\u001b[0m\u001b[0;32mTrue\u001b[0m\u001b[0;34m,\u001b[0m \u001b[0malpha\u001b[0m\u001b[0;34m=\u001b[0m\u001b[0;36m.5\u001b[0m\u001b[0;34m,\u001b[0m \u001b[0mlabel\u001b[0m\u001b[0;34m=\u001b[0m\u001b[0;34m'ood label'\u001b[0m\u001b[0;34m)\u001b[0m\u001b[0;34m\u001b[0m\u001b[0;34m\u001b[0m\u001b[0m\n",
      "\u001b[0;32m<ipython-input-14-70550fb39357>\u001b[0m in \u001b[0;36m<listcomp>\u001b[0;34m(.0)\u001b[0m\n\u001b[0;32m----> 1\u001b[0;31m \u001b[0mdists\u001b[0m \u001b[0;34m=\u001b[0m \u001b[0;34m[\u001b[0m\u001b[0mMultivariateNormal\u001b[0m\u001b[0;34m(\u001b[0m\u001b[0mmeans\u001b[0m\u001b[0;34m[\u001b[0m\u001b[0mi\u001b[0m\u001b[0;34m]\u001b[0m\u001b[0;34m,\u001b[0m \u001b[0mcovariance_matrix\u001b[0m\u001b[0;34m=\u001b[0m\u001b[0mcovs\u001b[0m\u001b[0;34m[\u001b[0m\u001b[0mi\u001b[0m\u001b[0;34m]\u001b[0m \u001b[0;34m+\u001b[0m \u001b[0;36m1e-8\u001b[0m \u001b[0;34m*\u001b[0m \u001b[0mtorch\u001b[0m\u001b[0;34m.\u001b[0m\u001b[0meye\u001b[0m\u001b[0;34m(\u001b[0m\u001b[0;36m64\u001b[0m\u001b[0;34m)\u001b[0m\u001b[0;34m)\u001b[0m \u001b[0;32mfor\u001b[0m \u001b[0mi\u001b[0m \u001b[0;32min\u001b[0m \u001b[0mrange\u001b[0m\u001b[0;34m(\u001b[0m\u001b[0mpred_fit\u001b[0m\u001b[0;34m.\u001b[0m\u001b[0msize\u001b[0m\u001b[0;34m(\u001b[0m\u001b[0;36m1\u001b[0m\u001b[0;34m)\u001b[0m\u001b[0;34m)\u001b[0m\u001b[0;34m]\u001b[0m\u001b[0;34m\u001b[0m\u001b[0;34m\u001b[0m\u001b[0m\n\u001b[0m\u001b[1;32m      2\u001b[0m \u001b[0mlog_probs\u001b[0m \u001b[0;34m=\u001b[0m \u001b[0mtorch\u001b[0m\u001b[0;34m.\u001b[0m\u001b[0mstack\u001b[0m\u001b[0;34m(\u001b[0m\u001b[0;34m[\u001b[0m\u001b[0md\u001b[0m\u001b[0;34m.\u001b[0m\u001b[0mlog_prob\u001b[0m\u001b[0;34m(\u001b[0m\u001b[0mfeatures_eval\u001b[0m\u001b[0;34m)\u001b[0m \u001b[0;32mfor\u001b[0m \u001b[0md\u001b[0m \u001b[0;32min\u001b[0m \u001b[0mdists\u001b[0m\u001b[0;34m]\u001b[0m\u001b[0;34m)\u001b[0m\u001b[0;34m.\u001b[0m\u001b[0mT\u001b[0m\u001b[0;34m\u001b[0m\u001b[0;34m\u001b[0m\u001b[0m\n\u001b[1;32m      3\u001b[0m \u001b[0;34m\u001b[0m\u001b[0m\n\u001b[1;32m      4\u001b[0m \u001b[0mfig\u001b[0m\u001b[0;34m,\u001b[0m \u001b[0max\u001b[0m \u001b[0;34m=\u001b[0m \u001b[0mplt\u001b[0m\u001b[0;34m.\u001b[0m\u001b[0msubplots\u001b[0m\u001b[0;34m(\u001b[0m\u001b[0mfigsize\u001b[0m\u001b[0;34m=\u001b[0m\u001b[0;34m(\u001b[0m\u001b[0;36m5\u001b[0m\u001b[0;34m,\u001b[0m \u001b[0;36m5\u001b[0m\u001b[0;34m)\u001b[0m\u001b[0;34m)\u001b[0m\u001b[0;34m\u001b[0m\u001b[0;34m\u001b[0m\u001b[0m\n\u001b[1;32m      5\u001b[0m \u001b[0max\u001b[0m\u001b[0;34m.\u001b[0m\u001b[0mhist\u001b[0m\u001b[0;34m(\u001b[0m\u001b[0mlog_probs\u001b[0m\u001b[0;34m.\u001b[0m\u001b[0mmax\u001b[0m\u001b[0;34m(\u001b[0m\u001b[0;36m1\u001b[0m\u001b[0;34m)\u001b[0m\u001b[0;34m[\u001b[0m\u001b[0;36m0\u001b[0m\u001b[0;34m]\u001b[0m\u001b[0;34m[\u001b[0m\u001b[0mis_ood_label\u001b[0m\u001b[0;34m]\u001b[0m\u001b[0;34m.\u001b[0m\u001b[0mnumpy\u001b[0m\u001b[0;34m(\u001b[0m\u001b[0;34m)\u001b[0m\u001b[0;34m,\u001b[0m \u001b[0mdensity\u001b[0m\u001b[0;34m=\u001b[0m\u001b[0;32mTrue\u001b[0m\u001b[0;34m,\u001b[0m \u001b[0malpha\u001b[0m\u001b[0;34m=\u001b[0m\u001b[0;36m.5\u001b[0m\u001b[0;34m,\u001b[0m \u001b[0mlabel\u001b[0m\u001b[0;34m=\u001b[0m\u001b[0;34m'ood label'\u001b[0m\u001b[0;34m)\u001b[0m\u001b[0;34m\u001b[0m\u001b[0;34m\u001b[0m\u001b[0m\n",
      "\u001b[0;31mNameError\u001b[0m: name 'covs' is not defined"
     ]
    }
   ],
   "source": [
    "dists = [MultivariateNormal(means[i], covariance_matrix=covs[i] + 1e-8 * torch.eye(64)) for i in range(pred_fit.size(1))]\n",
    "log_probs = torch.stack([d.log_prob(features_eval) for d in dists]).T\n",
    "\n",
    "fig, ax = plt.subplots(figsize=(5, 5))\n",
    "ax.hist(log_probs.max(1)[0][is_ood_label].numpy(), density=True, alpha=.5, label='ood label')\n",
    "ax.hist(log_probs.max(1)[0][~is_ood_label].numpy(), density=True, alpha=.5, label='id label')\n",
    "ax.legend()\n",
    "\n",
    "roc_auc_score((~is_ood_label).numpy().astype(int), log_probs.max(1)[0].numpy())"
   ]
  },
  {
   "cell_type": "code",
   "execution_count": 146,
   "id": "8b264196",
   "metadata": {},
   "outputs": [
    {
     "data": {
      "text/plain": [
       "tensor([[1., 0., 0.,  ..., 0., 0., 0.],\n",
       "        [0., 1., 0.,  ..., 0., 0., 0.],\n",
       "        [0., 0., 1.,  ..., 0., 0., 0.],\n",
       "        ...,\n",
       "        [0., 0., 0.,  ..., 1., 0., 0.],\n",
       "        [0., 0., 0.,  ..., 0., 1., 0.],\n",
       "        [0., 0., 0.,  ..., 0., 0., 1.]])"
      ]
     },
     "execution_count": 146,
     "metadata": {},
     "output_type": "execute_result"
    }
   ],
   "source": [
    "covs[2]"
   ]
  },
  {
   "cell_type": "code",
   "execution_count": null,
   "id": "2d0a54e4",
   "metadata": {},
   "outputs": [],
   "source": []
  },
  {
   "cell_type": "code",
   "execution_count": null,
   "id": "31dec076",
   "metadata": {},
   "outputs": [],
   "source": []
  },
  {
   "cell_type": "code",
   "execution_count": null,
   "id": "9ce7b933",
   "metadata": {},
   "outputs": [],
   "source": []
  },
  {
   "cell_type": "code",
   "execution_count": 147,
   "id": "ccc15fb3",
   "metadata": {},
   "outputs": [],
   "source": [
    "covs, means, norms = {}, {}, {}\n",
    "for i in range(pred_fit.size(1)):\n",
    "    covs[i], means[i] = cov_and_mean(features_fit[labels_fit == i])\n",
    "    # covs[i] = torch.eye(64)\n",
    "    norms[i] = MultivariateNormal(means[i], covariance_matrix=covs[i] * torch.eye(64), validate_args=False)\n",
    "    "
   ]
  },
  {
   "cell_type": "code",
   "execution_count": 95,
   "id": "36c978fb",
   "metadata": {},
   "outputs": [],
   "source": [
    "def density(h, norms, max_=False):\n",
    "    log_densities = torch.stack([n.log_prob(h) for n in norms.values()])\n",
    "    w = torch.ones(len(norms)).view(-1, 1)\n",
    "    w /= len(norms)\n",
    "    if max_:\n",
    "        return torch.max(log_densities, 0)[0]\n",
    "    else:\n",
    "        return torch.logsumexp(log_densities + torch.log(w), 0)"
   ]
  },
  {
   "cell_type": "code",
   "execution_count": 100,
   "id": "c2be6ecb",
   "metadata": {},
   "outputs": [
    {
     "data": {
      "text/plain": [
       "(array([0.00475486, 0.00118872, 0.00237742, 0.00237743, 0.00237743,\n",
       "        0.0071323 , 0.02020817, 0.05111447, 1.07222175, 0.46003306]),\n",
       " array([-65.      , -64.384155, -63.76831 , -63.152462, -62.536617,\n",
       "        -61.920773, -61.304928, -60.689083, -60.073235, -59.45739 ,\n",
       "        -58.841545], dtype=float32),\n",
       " <BarContainer object of 10 artists>)"
      ]
     },
     "execution_count": 100,
     "metadata": {},
     "output_type": "execute_result"
    },
    {
     "data": {
      "image/png": "[encoded data removed]",
      "text/plain": [
       "<Figure size 360x360 with 1 Axes>"
      ]
     },
     "metadata": {
      "needs_background": "light"
     },
     "output_type": "display_data"
    }
   ],
   "source": [
    "f, ax = plt.subplots(figsize=(5, 5))\n",
    "ax.hist(torch.clamp(density(features_eval[labels_eval < pred_eval.size(1)], norms, max_=True), -65, -50).numpy(), alpha=.5, label='id', density=True)\n",
    "ax.hist(torch.clamp(density(features_eval[labels_eval >= pred_eval.size(1)], norms, max_=True), -65, 50).numpy(), alpha=.5, label='ood', density=True)"
   ]
  },
  {
   "cell_type": "code",
   "execution_count": 97,
   "id": "3f460fb6",
   "metadata": {},
   "outputs": [
    {
     "data": {
      "text/plain": [
       "(array([0.00158293, 0.        , 0.00158293, 0.        , 0.00158292,\n",
       "        0.00237439, 0.00316586, 0.01662068, 0.11871961, 0.93551054]),\n",
       " array([-68.09105 , -67.1661  , -66.24115 , -65.3162  , -64.39125 ,\n",
       "        -63.466297, -62.541348, -61.616398, -60.691444, -59.766495,\n",
       "        -58.841545], dtype=float32),\n",
       " <BarContainer object of 10 artists>)"
      ]
     },
     "execution_count": 97,
     "metadata": {},
     "output_type": "execute_result"
    },
    {
     "data": {
      "image/png": "[encoded data removed]",
      "text/plain": [
       "<Figure size 360x360 with 1 Axes>"
      ]
     },
     "metadata": {
      "needs_background": "light"
     },
     "output_type": "display_data"
    }
   ],
   "source": [
    "f, ax = plt.subplots(figsize=(5, 5))\n",
    "ax.hist(torch.clamp(density(features_eval[labels_eval < pred_eval.size(1)], norms, max_=True), -200, 200).numpy(), alpha=.5, label='id', density=True)\n",
    "ax.hist(torch.clamp(density(features_eval[labels_eval >= pred_eval.size(1)], norms, max_=True), -200, 200).numpy(), alpha=.5, label='ood', density=True)"
   ]
  },
  {
   "cell_type": "code",
   "execution_count": 77,
   "id": "4d61ad55",
   "metadata": {},
   "outputs": [
    {
     "data": {
      "image/png": "[encoded data removed]",
      "text/plain": [
       "<Figure size 1080x1080 with 9 Axes>"
      ]
     },
     "metadata": {
      "needs_background": "light"
     },
     "output_type": "display_data"
    }
   ],
   "source": [
    "fig, axs = plt.subplots(3, 3, figsize=(15, 15), sharex=False, sharey=False)\n",
    "for y in range(pred_fit.size(1)):\n",
    "    ax = axs.flatten()[y]\n",
    "    ax.hist(norms[y].log_prob(features_fit[labels_fit == y]).numpy(), density=True, alpha=0.5, label='fit')\n",
    "    \n",
    "    norms_id_eval = norms[y].log_prob(features_eval[labels_eval == y]).numpy()\n",
    "    norms_id_eval[norms_id_eval < -200] = -200\n",
    "    ax.hist(norms_id_eval, density=True, alpha=0.5, label='id')\n",
    "    \n",
    "    norms_eval = norms[y].log_prob(features_eval[labels_eval >= pred_eval.size(1)]).numpy()\n",
    "    norms_eval[norms_eval < -200] = -200\n",
    "    \n",
    "    ax.hist(norms_eval, density=True, alpha=0.5, label='ood')\n",
    "    ax.legend()\n",
    "    "
   ]
  },
  {
   "cell_type": "code",
   "execution_count": null,
   "id": "d9c44df7",
   "metadata": {},
   "outputs": [],
   "source": []
  },
  {
   "cell_type": "code",
   "execution_count": 15,
   "id": "efd9a234",
   "metadata": {},
   "outputs": [],
   "source": [
    "pcafit = PCA(2)\n",
    "features_fit_proj = pcafit.fit_transform(features_fit.numpy())\n",
    "features_eval_proj_fit = pcafit.transform(features_eval.numpy())"
   ]
  },
  {
   "cell_type": "code",
   "execution_count": 105,
   "id": "0eb39ffe",
   "metadata": {},
   "outputs": [
    {
     "data": {
      "text/plain": [
       "tensor([0.0026, 0.2308, 0.1460, 0.2361, 0.3034, 0.2023, 0.2083, 0.0147, 0.0048,\n",
       "        0.0125, 0.2757, 0.2297, 0.0141, 0.0140, 0.0178, 0.1978, 0.0124, 0.2678,\n",
       "        0.0072, 0.0123, 0.0125, 0.0048, 0.1536, 0.2630, 0.0076, 0.2742, 0.0041,\n",
       "        0.0121, 0.2837, 0.0126, 0.0054, 0.2633, 0.0135, 0.2023, 0.1925, 0.1831,\n",
       "        0.0114, 0.2177, 0.0057, 0.0110, 0.2064, 0.0261, 0.1725, 0.2616, 0.0182,\n",
       "        0.1981, 0.0040, 0.1547, 0.0164, 0.0354, 0.0222, 0.2434, 0.2375, 0.1195,\n",
       "        0.1872, 0.0187, 0.1865, 0.0093, 0.0143, 0.0065, 0.0108, 0.2259, 0.0065,\n",
       "        0.2121])"
      ]
     },
     "execution_count": 105,
     "metadata": {},
     "output_type": "execute_result"
    }
   ],
   "source": []
  },
  {
   "cell_type": "code",
   "execution_count": 107,
   "id": "6ca7c1f2",
   "metadata": {},
   "outputs": [
    {
     "data": {
      "image/png": "[encoded data removed]",
      "text/plain": [
       "<Figure size 1080x1080 with 9 Axes>"
      ]
     },
     "metadata": {
      "needs_background": "light"
     },
     "output_type": "display_data"
    }
   ],
   "source": [
    "fig, axs = plt.subplots(3, 3, figsize=(15, 15), sharex=True, sharey=True)\n",
    "for y in range(pred_fit.size(1)):\n",
    "    mean = pcafit.transform(means[y].reshape((1, -1)))\n",
    "    axs.flatten()[y].scatter(features_fit_proj[labels_fit == y][:, 0], features_fit_proj[labels_fit == y][:, 1])\n",
    "    axs.flatten()[y].scatter(mean[:, 0], mean[:, 1], marker='x', s=50)\n",
    "    "
   ]
  },
  {
   "cell_type": "code",
   "execution_count": 19,
   "id": "c3fd3179",
   "metadata": {},
   "outputs": [
    {
     "data": {
      "text/plain": [
       "<matplotlib.collections.PathCollection at 0x7fd0101846d0>"
      ]
     },
     "execution_count": 19,
     "metadata": {},
     "output_type": "execute_result"
    },
    {
     "data": {
      "image/png": "[encoded data removed]",
      "text/plain": [
       "<Figure size 432x288 with 1 Axes>"
      ]
     },
     "metadata": {
      "needs_background": "light"
     },
     "output_type": "display_data"
    }
   ],
   "source": [
    "plt.scatter(features_fit_proj[:, 0], features_fit_proj[:, 1])"
   ]
  },
  {
   "cell_type": "code",
   "execution_count": null,
   "id": "cd3e7f53",
   "metadata": {},
   "outputs": [],
   "source": []
  }
 ],
 "metadata": {
  "kernelspec": {
   "display_name": "Python 3",
   "language": "python",
   "name": "python3"
  },
  "language_info": {
   "codemirror_mode": {
    "name": "ipython",
    "version": 3
   },
   "file_extension": ".py",
   "mimetype": "text/x-python",
   "name": "python",
   "nbconvert_exporter": "python",
   "pygments_lexer": "ipython3",
   "version": "3.9.5"
  }
 },
 "nbformat": 4,
 "nbformat_minor": 5
}
