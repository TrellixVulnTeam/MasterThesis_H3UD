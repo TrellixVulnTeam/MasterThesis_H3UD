{
 "cells": [
  {
   "cell_type": "code",
   "execution_count": 4,
   "id": "a373e3ea",
   "metadata": {},
   "outputs": [],
   "source": [
    "import numpy as np\n",
    "import torch\n",
    "import matplotlib.pyplot as plt\n",
    "import seaborn as sns\n",
    "import pandas as pd\n",
    "from scipy.spatial import distance_matrix\n",
    "import itertools"
   ]
  },
  {
   "cell_type": "code",
   "execution_count": 2,
   "id": "0d4ec1d5",
   "metadata": {},
   "outputs": [
    {
     "name": "stdout",
     "output_type": "stream",
     "text": [
      "/nfs/homedirs/fuchsgru/MastersThesis\n"
     ]
    }
   ],
   "source": [
    "%cd ../.."
   ]
  },
  {
   "cell_type": "code",
   "execution_count": 3,
   "id": "d3ab58ab",
   "metadata": {},
   "outputs": [],
   "source": [
    "from data.construct import load_data_from_configuration\n",
    "import configuration"
   ]
  },
  {
   "cell_type": "code",
   "execution_count": null,
   "id": "097b1968",
   "metadata": {},
   "outputs": [],
   "source": []
  },
  {
   "cell_type": "code",
   "execution_count": null,
   "id": "436be467",
   "metadata": {},
   "outputs": [],
   "source": []
  },
  {
   "cell_type": "code",
   "execution_count": 2,
   "id": "0f8e4686",
   "metadata": {},
   "outputs": [],
   "source": [
    "import gust"
   ]
  },
  {
   "cell_type": "code",
   "execution_count": 3,
   "id": "7d507672",
   "metadata": {},
   "outputs": [],
   "source": [
    "dataset_name = 'pubmed'\n",
    "dataset = gust.datasets.load_dataset(dataset_name)"
   ]
  },
  {
   "cell_type": "code",
   "execution_count": 4,
   "id": "6808f495",
   "metadata": {},
   "outputs": [],
   "source": [
    "graph = dataset.standardize(\n",
    "        make_unweighted = True, make_undirected = True,\n",
    "        no_self_loops = True, select_lcc = True\n",
    "    )"
   ]
  },
  {
   "cell_type": "code",
   "execution_count": 5,
   "id": "4f1df93b",
   "metadata": {},
   "outputs": [
    {
     "data": {
      "text/plain": [
       "<Undirected, unweighted and connected SparseGraph with 88648 edges (no self-loops). Data: adj_matrix (19717x19717), attr_matrix (19717x500), labels (19717)>"
      ]
     },
     "execution_count": 5,
     "metadata": {},
     "output_type": "execute_result"
    }
   ],
   "source": [
    "graph"
   ]
  },
  {
   "cell_type": "code",
   "execution_count": 6,
   "id": "65d9efaa",
   "metadata": {},
   "outputs": [],
   "source": [
    "\n",
    "\n",
    "    \n",
    "if dataset_name == 'cora_ml':\n",
    "    class_names = np.array([cn.split('/')[-1] for cn in graph.class_names])\n",
    "else:\n",
    "    class_names = graph.class_names\n",
    "if class_names is None:\n",
    "    class_names = np.array([f'{label}' for label in range(graph.labels.max() + 1)])\n",
    "#g = sns.JointGrid(data=num_intra_cluster_edges)"
   ]
  },
  {
   "cell_type": "code",
   "execution_count": 7,
   "id": "8923a222",
   "metadata": {},
   "outputs": [],
   "source": [
    "# Count intra-cluster edges\n",
    "num_intra_cluster_edges = np.zeros((len(np.unique(graph.labels)), len(np.unique(graph.labels))), dtype=int)\n",
    "for label_i in range(len(class_names)):\n",
    "    for label_j in range(len(class_names)):\n",
    "        num_intra_cluster_edges[label_i, label_j] = graph.adj_matrix[graph.labels == label_i][:, graph.labels == label_j].nnz\n"
   ]
  },
  {
   "cell_type": "code",
   "execution_count": 8,
   "id": "1ef7fa30",
   "metadata": {},
   "outputs": [
    {
     "data": {
      "text/plain": [
       "<AxesSubplot:>"
      ]
     },
     "execution_count": 8,
     "metadata": {},
     "output_type": "execute_result"
    },
    {
     "data": {
      "image/png": "[encoded data removed]",
      "text/plain": [
       "<Figure size 432x288 with 2 Axes>"
      ]
     },
     "metadata": {
      "needs_background": "light"
     },
     "output_type": "display_data"
    }
   ],
   "source": [
    "\n",
    "sns.heatmap(pd.DataFrame(num_intra_cluster_edges, class_names, class_names), vmax=500)"
   ]
  },
  {
   "cell_type": "code",
   "execution_count": 9,
   "id": "7f347117",
   "metadata": {},
   "outputs": [],
   "source": [
    "# Get all partitions of labels into two sets (2^(num_lables - 1) - 1, as we exclude empty partions)\n",
    "partitions = [mask for mask in [np.array([False] + list(m)) for m in itertools.product([True, False], repeat=len(class_names) - 1)] if mask.sum() > 0]"
   ]
  },
  {
   "cell_type": "code",
   "execution_count": 10,
   "id": "b4d46e97",
   "metadata": {},
   "outputs": [],
   "source": [
    "# Calculate the edge density within a partition and between partitions\n",
    "partition_inter_densities = []\n",
    "for mask in partitions:\n",
    "    # Treat the two partitions as classes\n",
    "    edges_inter = num_intra_cluster_edges[mask][:, mask].sum() + num_intra_cluster_edges[~mask][:, ~mask].sum()\n",
    "    density_inter = edges_inter / num_intra_cluster_edges.sum()\n",
    "    \n",
    "    # Compute densities for each partition\n",
    "    density_inter_first = num_intra_cluster_edges[mask][:, mask].sum() / num_intra_cluster_edges[mask].sum()\n",
    "    density_inter_second = num_intra_cluster_edges[~mask][:, ~mask].sum() / num_intra_cluster_edges[~mask].sum()\n",
    "    \n",
    "    \n",
    "    partition_inter_densities.append({\n",
    "        'Average inter partition density' : density_inter,\n",
    "        'Intra partition density first' : density_inter_first,\n",
    "        'Intra partition density second' : density_inter_second,\n",
    "        'Min partition density both' : min(density_inter_first, density_inter_second),\n",
    "        'First' : tuple(class_names[mask]), \n",
    "        'Second' : tuple(class_names[~mask]),\n",
    "    })\n",
    "    \n",
    "df_partition_densities = pd.DataFrame(partition_inter_densities)\n"
   ]
  },
  {
   "cell_type": "code",
   "execution_count": 11,
   "id": "06f27d24",
   "metadata": {},
   "outputs": [
    {
     "data": {
      "text/html": [
       "<div>\n",
       "<style scoped>\n",
       "    .dataframe tbody tr th:only-of-type {\n",
       "        vertical-align: middle;\n",
       "    }\n",
       "\n",
       "    .dataframe tbody tr th {\n",
       "        vertical-align: top;\n",
       "    }\n",
       "\n",
       "    .dataframe thead th {\n",
       "        text-align: right;\n",
       "    }\n",
       "</style>\n",
       "<table border=\"1\" class=\"dataframe\">\n",
       "  <thead>\n",
       "    <tr style=\"text-align: right;\">\n",
       "      <th></th>\n",
       "      <th>Average inter partition density</th>\n",
       "      <th>Intra partition density first</th>\n",
       "      <th>Intra partition density second</th>\n",
       "      <th>Min partition density both</th>\n",
       "      <th>First</th>\n",
       "      <th>Second</th>\n",
       "    </tr>\n",
       "  </thead>\n",
       "  <tbody>\n",
       "    <tr>\n",
       "      <th>1</th>\n",
       "      <td>0.886405</td>\n",
       "      <td>0.852610</td>\n",
       "      <td>0.907593</td>\n",
       "      <td>0.852610</td>\n",
       "      <td>(1,)</td>\n",
       "      <td>(0, 2)</td>\n",
       "    </tr>\n",
       "    <tr>\n",
       "      <th>2</th>\n",
       "      <td>0.840064</td>\n",
       "      <td>0.816675</td>\n",
       "      <td>0.858160</td>\n",
       "      <td>0.816675</td>\n",
       "      <td>(2,)</td>\n",
       "      <td>(0, 1)</td>\n",
       "    </tr>\n",
       "    <tr>\n",
       "      <th>0</th>\n",
       "      <td>0.878305</td>\n",
       "      <td>0.925937</td>\n",
       "      <td>0.658996</td>\n",
       "      <td>0.658996</td>\n",
       "      <td>(1, 2)</td>\n",
       "      <td>(0,)</td>\n",
       "    </tr>\n",
       "  </tbody>\n",
       "</table>\n",
       "</div>"
      ],
      "text/plain": [
       "   Average inter partition density  Intra partition density first  \\\n",
       "1                         0.886405                       0.852610   \n",
       "2                         0.840064                       0.816675   \n",
       "0                         0.878305                       0.925937   \n",
       "\n",
       "   Intra partition density second  Min partition density both   First  Second  \n",
       "1                        0.907593                    0.852610    (1,)  (0, 2)  \n",
       "2                        0.858160                    0.816675    (2,)  (0, 1)  \n",
       "0                        0.658996                    0.658996  (1, 2)    (0,)  "
      ]
     },
     "execution_count": 11,
     "metadata": {},
     "output_type": "execute_result"
    }
   ],
   "source": [
    "df_partition_densities.sort_values(by='Min partition density both', ascending=False)"
   ]
  },
  {
   "cell_type": "markdown",
   "id": "65b43233",
   "metadata": {},
   "source": [
    "# Attributes"
   ]
  },
  {
   "cell_type": "markdown",
   "id": "5c49357f",
   "metadata": {},
   "source": [
    "## Pairwise distances between class centroids"
   ]
  },
  {
   "cell_type": "code",
   "execution_count": 13,
   "id": "2933c2af",
   "metadata": {},
   "outputs": [],
   "source": [
    "df_attributes = pd.DataFrame(graph.attr_matrix.toarray(), columns=graph.attr_names)\n",
    "df_attributes['class_label'] = [class_names[i].split('/')[-1] for i in graph.labels]\n",
    "mean_attributes_df = df_attributes.groupby('class_label').mean()"
   ]
  },
  {
   "cell_type": "code",
   "execution_count": 14,
   "id": "f42bcbaf",
   "metadata": {},
   "outputs": [
    {
     "data": {
      "text/plain": [
       "array([[0.        , 0.116697  , 0.11375902],\n",
       "       [0.116697  , 0.        , 0.0737297 ],\n",
       "       [0.11375902, 0.0737297 , 0.        ]], dtype=float32)"
      ]
     },
     "execution_count": 14,
     "metadata": {},
     "output_type": "execute_result"
    }
   ],
   "source": [
    "mean_attributes = mean_attributes_df.to_numpy()\n",
    "distances = np.linalg.norm(mean_attributes[:, None, :] - mean_attributes[None, :, :], axis=-1)\n",
    "distances"
   ]
  },
  {
   "cell_type": "code",
   "execution_count": 15,
   "id": "dcb78916",
   "metadata": {},
   "outputs": [
    {
     "data": {
      "text/plain": [
       "<AxesSubplot:xlabel='class_label', ylabel='class_label'>"
      ]
     },
     "execution_count": 15,
     "metadata": {},
     "output_type": "execute_result"
    },
    {
     "data": {
      "image/png": "[encoded data removed]",
      "text/plain": [
       "<Figure size 432x288 with 2 Axes>"
      ]
     },
     "metadata": {
      "needs_background": "light"
     },
     "output_type": "display_data"
    }
   ],
   "source": [
    "\n",
    "sns.heatmap(pd.DataFrame(distances, mean_attributes_df.index, mean_attributes_df.index), )"
   ]
  },
  {
   "cell_type": "markdown",
   "id": "4038706e",
   "metadata": {},
   "source": [
    "## Distribution of distances from class centroids (variance within class)"
   ]
  },
  {
   "cell_type": "code",
   "execution_count": 16,
   "id": "1f92a13d",
   "metadata": {},
   "outputs": [],
   "source": [
    "mean_attributes = np.array([mean_attributes_df.loc[cn] for cn in class_names]) # Has the same order as class names"
   ]
  },
  {
   "cell_type": "code",
   "execution_count": 17,
   "id": "bbb5ada4",
   "metadata": {},
   "outputs": [
    {
     "data": {
      "text/plain": [
       "<AxesSubplot:xlabel='difference', ylabel='label'>"
      ]
     },
     "execution_count": 17,
     "metadata": {},
     "output_type": "execute_result"
    },
    {
     "data": {
      "image/png": "[encoded data removed]",
      "text/plain": [
       "<Figure size 432x288 with 1 Axes>"
      ]
     },
     "metadata": {
      "needs_background": "light"
     },
     "output_type": "display_data"
    }
   ],
   "source": [
    "\n",
    "df_attribute_differences = pd.DataFrame({'difference' : np.linalg.norm(graph.attr_matrix.toarray() - mean_attributes[graph.labels], axis=-1), 'label' : class_names[graph.labels]},)\n",
    "sns.histplot(df_attribute_differences, x='difference', y='label', hue='label', legend=False,\n",
    "                     common_norm=False,)"
   ]
  },
  {
   "cell_type": "markdown",
   "id": "1dbfc37a",
   "metadata": {},
   "source": [
    "## Average pairwise feature distances within community pairs"
   ]
  },
  {
   "cell_type": "code",
   "execution_count": 18,
   "id": "4e1e5810",
   "metadata": {},
   "outputs": [],
   "source": [
    "from sklearn.metrics import pairwise_distances\n",
    "attr_mat = graph.attr_matrix.toarray()\n",
    "pairwise_distances = pairwise_distances(graph.attr_matrix, graph.attr_matrix, n_jobs=-1)"
   ]
  },
  {
   "cell_type": "code",
   "execution_count": 19,
   "id": "42c58d23",
   "metadata": {},
   "outputs": [],
   "source": [
    "avg_distances_per_class = np.zeros((len(np.unique(graph.labels)), len(np.unique(graph.labels))))\n",
    "for label_i in range(len(np.unique(graph.labels))):\n",
    "    for label_j in range(len(np.unique(graph.labels))):\n",
    "        avg_distances_per_class[label_i, label_j] = pairwise_distances[graph.labels == label_i][:, graph.labels == label_j].mean()"
   ]
  },
  {
   "cell_type": "code",
   "execution_count": 20,
   "id": "3e08fe03",
   "metadata": {},
   "outputs": [
    {
     "data": {
      "text/plain": [
       "<AxesSubplot:>"
      ]
     },
     "execution_count": 20,
     "metadata": {},
     "output_type": "execute_result"
    },
    {
     "data": {
      "image/png": "[encoded data removed]",
      "text/plain": [
       "<Figure size 432x288 with 2 Axes>"
      ]
     },
     "metadata": {
      "needs_background": "light"
     },
     "output_type": "display_data"
    }
   ],
   "source": [
    "sns.heatmap(pd.DataFrame(avg_distances_per_class, class_names, class_names))"
   ]
  },
  {
   "cell_type": "markdown",
   "id": "739e8eda",
   "metadata": {},
   "source": [
    "## Plot of attributes with high values per class"
   ]
  },
  {
   "cell_type": "code",
   "execution_count": 21,
   "id": "1ea8cc75",
   "metadata": {},
   "outputs": [
    {
     "data": {
      "text/html": [
       "<div>\n",
       "<style scoped>\n",
       "    .dataframe tbody tr th:only-of-type {\n",
       "        vertical-align: middle;\n",
       "    }\n",
       "\n",
       "    .dataframe tbody tr th {\n",
       "        vertical-align: top;\n",
       "    }\n",
       "\n",
       "    .dataframe thead th {\n",
       "        text-align: right;\n",
       "    }\n",
       "</style>\n",
       "<table border=\"1\" class=\"dataframe\">\n",
       "  <thead>\n",
       "    <tr style=\"text-align: right;\">\n",
       "      <th></th>\n",
       "      <th>0</th>\n",
       "      <th>1</th>\n",
       "      <th>2</th>\n",
       "      <th>3</th>\n",
       "      <th>4</th>\n",
       "      <th>5</th>\n",
       "      <th>6</th>\n",
       "      <th>7</th>\n",
       "      <th>8</th>\n",
       "      <th>9</th>\n",
       "      <th>...</th>\n",
       "      <th>490</th>\n",
       "      <th>491</th>\n",
       "      <th>492</th>\n",
       "      <th>493</th>\n",
       "      <th>494</th>\n",
       "      <th>495</th>\n",
       "      <th>496</th>\n",
       "      <th>497</th>\n",
       "      <th>498</th>\n",
       "      <th>499</th>\n",
       "    </tr>\n",
       "    <tr>\n",
       "      <th>class_label</th>\n",
       "      <th></th>\n",
       "      <th></th>\n",
       "      <th></th>\n",
       "      <th></th>\n",
       "      <th></th>\n",
       "      <th></th>\n",
       "      <th></th>\n",
       "      <th></th>\n",
       "      <th></th>\n",
       "      <th></th>\n",
       "      <th></th>\n",
       "      <th></th>\n",
       "      <th></th>\n",
       "      <th></th>\n",
       "      <th></th>\n",
       "      <th></th>\n",
       "      <th></th>\n",
       "      <th></th>\n",
       "      <th></th>\n",
       "      <th></th>\n",
       "      <th></th>\n",
       "    </tr>\n",
       "  </thead>\n",
       "  <tbody>\n",
       "    <tr>\n",
       "      <th>0</th>\n",
       "      <td>0.067827</td>\n",
       "      <td>0.001321</td>\n",
       "      <td>0.005390</td>\n",
       "      <td>0.005574</td>\n",
       "      <td>0.002938</td>\n",
       "      <td>0.002440</td>\n",
       "      <td>0.005050</td>\n",
       "      <td>0.005440</td>\n",
       "      <td>0.021504</td>\n",
       "      <td>0.006975</td>\n",
       "      <td>...</td>\n",
       "      <td>0.009735</td>\n",
       "      <td>0.002837</td>\n",
       "      <td>0.003489</td>\n",
       "      <td>0.000403</td>\n",
       "      <td>0.000212</td>\n",
       "      <td>0.000205</td>\n",
       "      <td>0.001143</td>\n",
       "      <td>0.004188</td>\n",
       "      <td>0.004088</td>\n",
       "      <td>0.000778</td>\n",
       "    </tr>\n",
       "    <tr>\n",
       "      <th>1</th>\n",
       "      <td>0.004011</td>\n",
       "      <td>0.004171</td>\n",
       "      <td>0.007176</td>\n",
       "      <td>0.004531</td>\n",
       "      <td>0.002097</td>\n",
       "      <td>0.004578</td>\n",
       "      <td>0.001026</td>\n",
       "      <td>0.006655</td>\n",
       "      <td>0.001549</td>\n",
       "      <td>0.004928</td>\n",
       "      <td>...</td>\n",
       "      <td>0.001179</td>\n",
       "      <td>0.002203</td>\n",
       "      <td>0.002551</td>\n",
       "      <td>0.002602</td>\n",
       "      <td>0.000246</td>\n",
       "      <td>0.001907</td>\n",
       "      <td>0.000097</td>\n",
       "      <td>0.003061</td>\n",
       "      <td>0.001497</td>\n",
       "      <td>0.006924</td>\n",
       "    </tr>\n",
       "    <tr>\n",
       "      <th>2</th>\n",
       "      <td>0.004485</td>\n",
       "      <td>0.003095</td>\n",
       "      <td>0.006806</td>\n",
       "      <td>0.003789</td>\n",
       "      <td>0.003359</td>\n",
       "      <td>0.006521</td>\n",
       "      <td>0.004981</td>\n",
       "      <td>0.006050</td>\n",
       "      <td>0.002962</td>\n",
       "      <td>0.005316</td>\n",
       "      <td>...</td>\n",
       "      <td>0.002234</td>\n",
       "      <td>0.002894</td>\n",
       "      <td>0.000826</td>\n",
       "      <td>0.002255</td>\n",
       "      <td>0.005506</td>\n",
       "      <td>0.004024</td>\n",
       "      <td>0.007451</td>\n",
       "      <td>0.002581</td>\n",
       "      <td>0.003266</td>\n",
       "      <td>0.003420</td>\n",
       "    </tr>\n",
       "  </tbody>\n",
       "</table>\n",
       "<p>3 rows × 500 columns</p>\n",
       "</div>"
      ],
      "text/plain": [
       "                  0         1         2         3         4         5    \\\n",
       "class_label                                                               \n",
       "0            0.067827  0.001321  0.005390  0.005574  0.002938  0.002440   \n",
       "1            0.004011  0.004171  0.007176  0.004531  0.002097  0.004578   \n",
       "2            0.004485  0.003095  0.006806  0.003789  0.003359  0.006521   \n",
       "\n",
       "                  6         7         8         9    ...       490       491  \\\n",
       "class_label                                          ...                       \n",
       "0            0.005050  0.005440  0.021504  0.006975  ...  0.009735  0.002837   \n",
       "1            0.001026  0.006655  0.001549  0.004928  ...  0.001179  0.002203   \n",
       "2            0.004981  0.006050  0.002962  0.005316  ...  0.002234  0.002894   \n",
       "\n",
       "                  492       493       494       495       496       497  \\\n",
       "class_label                                                               \n",
       "0            0.003489  0.000403  0.000212  0.000205  0.001143  0.004188   \n",
       "1            0.002551  0.002602  0.000246  0.001907  0.000097  0.003061   \n",
       "2            0.000826  0.002255  0.005506  0.004024  0.007451  0.002581   \n",
       "\n",
       "                  498       499  \n",
       "class_label                      \n",
       "0            0.004088  0.000778  \n",
       "1            0.001497  0.006924  \n",
       "2            0.003266  0.003420  \n",
       "\n",
       "[3 rows x 500 columns]"
      ]
     },
     "execution_count": 21,
     "metadata": {},
     "output_type": "execute_result"
    }
   ],
   "source": [
    "mean_attributes_df"
   ]
  },
  {
   "cell_type": "markdown",
   "id": "121ee63c",
   "metadata": {},
   "source": [
    "### Distribution of mean values of all features and classes (to determine thresholds for \"frequent attributes\")"
   ]
  },
  {
   "cell_type": "code",
   "execution_count": 22,
   "id": "71dc9a14",
   "metadata": {},
   "outputs": [
    {
     "data": {
      "text/plain": [
       "<AxesSubplot:ylabel='Count'>"
      ]
     },
     "execution_count": 22,
     "metadata": {},
     "output_type": "execute_result"
    },
    {
     "data": {
      "image/png": "[encoded data removed]",
      "text/plain": [
       "<Figure size 432x288 with 1 Axes>"
      ]
     },
     "metadata": {
      "needs_background": "light"
     },
     "output_type": "display_data"
    }
   ],
   "source": [
    "sns.histplot(mean_attributes_df.to_numpy().flatten())"
   ]
  },
  {
   "cell_type": "code",
   "execution_count": null,
   "id": "f0967a78",
   "metadata": {},
   "outputs": [],
   "source": []
  },
  {
   "cell_type": "code",
   "execution_count": null,
   "id": "7a1b0e39",
   "metadata": {},
   "outputs": [],
   "source": []
  },
  {
   "cell_type": "code",
   "execution_count": 23,
   "id": "3d4aa260",
   "metadata": {},
   "outputs": [
    {
     "ename": "ValueError",
     "evalue": "zero-size array to reduction operation fmin which has no identity",
     "output_type": "error",
     "traceback": [
      "\u001b[0;31m---------------------------------------------------------------------------\u001b[0m",
      "\u001b[0;31mValueError\u001b[0m                                Traceback (most recent call last)",
      "\u001b[0;32m/tmp/ipykernel_32130/1161032333.py\u001b[0m in \u001b[0;36m<module>\u001b[0;34m\u001b[0m\n\u001b[1;32m      2\u001b[0m \u001b[0mcolumns_above_threshold\u001b[0m \u001b[0;34m=\u001b[0m \u001b[0;34m[\u001b[0m\u001b[0mc\u001b[0m \u001b[0;32mfor\u001b[0m \u001b[0mc\u001b[0m \u001b[0;32min\u001b[0m \u001b[0mmean_attributes_df\u001b[0m\u001b[0;34m.\u001b[0m\u001b[0mcolumns\u001b[0m \u001b[0;32mif\u001b[0m \u001b[0;34m(\u001b[0m\u001b[0mmean_attributes_df\u001b[0m\u001b[0;34m[\u001b[0m\u001b[0mc\u001b[0m\u001b[0;34m]\u001b[0m \u001b[0;34m>=\u001b[0m \u001b[0mthreshold\u001b[0m\u001b[0;34m)\u001b[0m\u001b[0;34m.\u001b[0m\u001b[0many\u001b[0m\u001b[0;34m(\u001b[0m\u001b[0;34m)\u001b[0m\u001b[0;34m]\u001b[0m\u001b[0;34m\u001b[0m\u001b[0;34m\u001b[0m\u001b[0m\n\u001b[1;32m      3\u001b[0m \u001b[0mplt\u001b[0m\u001b[0;34m.\u001b[0m\u001b[0mfigure\u001b[0m\u001b[0;34m(\u001b[0m\u001b[0mfigsize\u001b[0m\u001b[0;34m=\u001b[0m\u001b[0;34m(\u001b[0m\u001b[0;36m15\u001b[0m\u001b[0;34m,\u001b[0m \u001b[0;36m5\u001b[0m\u001b[0;34m)\u001b[0m\u001b[0;34m)\u001b[0m\u001b[0;34m\u001b[0m\u001b[0;34m\u001b[0m\u001b[0m\n\u001b[0;32m----> 4\u001b[0;31m \u001b[0msns\u001b[0m\u001b[0;34m.\u001b[0m\u001b[0mheatmap\u001b[0m\u001b[0;34m(\u001b[0m\u001b[0mmean_attributes_df\u001b[0m\u001b[0;34m[\u001b[0m\u001b[0mcolumns_above_threshold\u001b[0m\u001b[0;34m]\u001b[0m\u001b[0;34m)\u001b[0m\u001b[0;34m\u001b[0m\u001b[0;34m\u001b[0m\u001b[0m\n\u001b[0m",
      "\u001b[0;32m~/miniconda3/lib/python3.9/site-packages/seaborn/_decorators.py\u001b[0m in \u001b[0;36minner_f\u001b[0;34m(*args, **kwargs)\u001b[0m\n\u001b[1;32m     44\u001b[0m             )\n\u001b[1;32m     45\u001b[0m         \u001b[0mkwargs\u001b[0m\u001b[0;34m.\u001b[0m\u001b[0mupdate\u001b[0m\u001b[0;34m(\u001b[0m\u001b[0;34m{\u001b[0m\u001b[0mk\u001b[0m\u001b[0;34m:\u001b[0m \u001b[0marg\u001b[0m \u001b[0;32mfor\u001b[0m \u001b[0mk\u001b[0m\u001b[0;34m,\u001b[0m \u001b[0marg\u001b[0m \u001b[0;32min\u001b[0m \u001b[0mzip\u001b[0m\u001b[0;34m(\u001b[0m\u001b[0msig\u001b[0m\u001b[0;34m.\u001b[0m\u001b[0mparameters\u001b[0m\u001b[0;34m,\u001b[0m \u001b[0margs\u001b[0m\u001b[0;34m)\u001b[0m\u001b[0;34m}\u001b[0m\u001b[0;34m)\u001b[0m\u001b[0;34m\u001b[0m\u001b[0;34m\u001b[0m\u001b[0m\n\u001b[0;32m---> 46\u001b[0;31m         \u001b[0;32mreturn\u001b[0m \u001b[0mf\u001b[0m\u001b[0;34m(\u001b[0m\u001b[0;34m**\u001b[0m\u001b[0mkwargs\u001b[0m\u001b[0;34m)\u001b[0m\u001b[0;34m\u001b[0m\u001b[0;34m\u001b[0m\u001b[0m\n\u001b[0m\u001b[1;32m     47\u001b[0m     \u001b[0;32mreturn\u001b[0m \u001b[0minner_f\u001b[0m\u001b[0;34m\u001b[0m\u001b[0;34m\u001b[0m\u001b[0m\n\u001b[1;32m     48\u001b[0m \u001b[0;34m\u001b[0m\u001b[0m\n",
      "\u001b[0;32m~/miniconda3/lib/python3.9/site-packages/seaborn/matrix.py\u001b[0m in \u001b[0;36mheatmap\u001b[0;34m(data, vmin, vmax, cmap, center, robust, annot, fmt, annot_kws, linewidths, linecolor, cbar, cbar_kws, cbar_ax, square, xticklabels, yticklabels, mask, ax, **kwargs)\u001b[0m\n\u001b[1;32m    538\u001b[0m     \"\"\"\n\u001b[1;32m    539\u001b[0m     \u001b[0;31m# Initialize the plotter object\u001b[0m\u001b[0;34m\u001b[0m\u001b[0;34m\u001b[0m\u001b[0;34m\u001b[0m\u001b[0m\n\u001b[0;32m--> 540\u001b[0;31m     plotter = _HeatMapper(data, vmin, vmax, cmap, center, robust, annot, fmt,\n\u001b[0m\u001b[1;32m    541\u001b[0m                           \u001b[0mannot_kws\u001b[0m\u001b[0;34m,\u001b[0m \u001b[0mcbar\u001b[0m\u001b[0;34m,\u001b[0m \u001b[0mcbar_kws\u001b[0m\u001b[0;34m,\u001b[0m \u001b[0mxticklabels\u001b[0m\u001b[0;34m,\u001b[0m\u001b[0;34m\u001b[0m\u001b[0;34m\u001b[0m\u001b[0m\n\u001b[1;32m    542\u001b[0m                           yticklabels, mask)\n",
      "\u001b[0;32m~/miniconda3/lib/python3.9/site-packages/seaborn/matrix.py\u001b[0m in \u001b[0;36m__init__\u001b[0;34m(self, data, vmin, vmax, cmap, center, robust, annot, fmt, annot_kws, cbar, cbar_kws, xticklabels, yticklabels, mask)\u001b[0m\n\u001b[1;32m    157\u001b[0m \u001b[0;34m\u001b[0m\u001b[0m\n\u001b[1;32m    158\u001b[0m         \u001b[0;31m# Determine good default values for the colormapping\u001b[0m\u001b[0;34m\u001b[0m\u001b[0;34m\u001b[0m\u001b[0;34m\u001b[0m\u001b[0m\n\u001b[0;32m--> 159\u001b[0;31m         self._determine_cmap_params(plot_data, vmin, vmax,\n\u001b[0m\u001b[1;32m    160\u001b[0m                                     cmap, center, robust)\n\u001b[1;32m    161\u001b[0m \u001b[0;34m\u001b[0m\u001b[0m\n",
      "\u001b[0;32m~/miniconda3/lib/python3.9/site-packages/seaborn/matrix.py\u001b[0m in \u001b[0;36m_determine_cmap_params\u001b[0;34m(self, plot_data, vmin, vmax, cmap, center, robust)\u001b[0m\n\u001b[1;32m    196\u001b[0m                 \u001b[0mvmin\u001b[0m \u001b[0;34m=\u001b[0m \u001b[0mnp\u001b[0m\u001b[0;34m.\u001b[0m\u001b[0mnanpercentile\u001b[0m\u001b[0;34m(\u001b[0m\u001b[0mcalc_data\u001b[0m\u001b[0;34m,\u001b[0m \u001b[0;36m2\u001b[0m\u001b[0;34m)\u001b[0m\u001b[0;34m\u001b[0m\u001b[0;34m\u001b[0m\u001b[0m\n\u001b[1;32m    197\u001b[0m             \u001b[0;32melse\u001b[0m\u001b[0;34m:\u001b[0m\u001b[0;34m\u001b[0m\u001b[0;34m\u001b[0m\u001b[0m\n\u001b[0;32m--> 198\u001b[0;31m                 \u001b[0mvmin\u001b[0m \u001b[0;34m=\u001b[0m \u001b[0mnp\u001b[0m\u001b[0;34m.\u001b[0m\u001b[0mnanmin\u001b[0m\u001b[0;34m(\u001b[0m\u001b[0mcalc_data\u001b[0m\u001b[0;34m)\u001b[0m\u001b[0;34m\u001b[0m\u001b[0;34m\u001b[0m\u001b[0m\n\u001b[0m\u001b[1;32m    199\u001b[0m         \u001b[0;32mif\u001b[0m \u001b[0mvmax\u001b[0m \u001b[0;32mis\u001b[0m \u001b[0;32mNone\u001b[0m\u001b[0;34m:\u001b[0m\u001b[0;34m\u001b[0m\u001b[0;34m\u001b[0m\u001b[0m\n\u001b[1;32m    200\u001b[0m             \u001b[0;32mif\u001b[0m \u001b[0mrobust\u001b[0m\u001b[0;34m:\u001b[0m\u001b[0;34m\u001b[0m\u001b[0;34m\u001b[0m\u001b[0m\n",
      "\u001b[0;32m<__array_function__ internals>\u001b[0m in \u001b[0;36mnanmin\u001b[0;34m(*args, **kwargs)\u001b[0m\n",
      "\u001b[0;32m~/miniconda3/lib/python3.9/site-packages/numpy/lib/nanfunctions.py\u001b[0m in \u001b[0;36mnanmin\u001b[0;34m(a, axis, out, keepdims)\u001b[0m\n\u001b[1;32m    317\u001b[0m         \u001b[0;31m# Fast, but not safe for subclasses of ndarray, or object arrays,\u001b[0m\u001b[0;34m\u001b[0m\u001b[0;34m\u001b[0m\u001b[0;34m\u001b[0m\u001b[0m\n\u001b[1;32m    318\u001b[0m         \u001b[0;31m# which do not implement isnan (gh-9009), or fmin correctly (gh-8975)\u001b[0m\u001b[0;34m\u001b[0m\u001b[0;34m\u001b[0m\u001b[0;34m\u001b[0m\u001b[0m\n\u001b[0;32m--> 319\u001b[0;31m         \u001b[0mres\u001b[0m \u001b[0;34m=\u001b[0m \u001b[0mnp\u001b[0m\u001b[0;34m.\u001b[0m\u001b[0mfmin\u001b[0m\u001b[0;34m.\u001b[0m\u001b[0mreduce\u001b[0m\u001b[0;34m(\u001b[0m\u001b[0ma\u001b[0m\u001b[0;34m,\u001b[0m \u001b[0maxis\u001b[0m\u001b[0;34m=\u001b[0m\u001b[0maxis\u001b[0m\u001b[0;34m,\u001b[0m \u001b[0mout\u001b[0m\u001b[0;34m=\u001b[0m\u001b[0mout\u001b[0m\u001b[0;34m,\u001b[0m \u001b[0;34m**\u001b[0m\u001b[0mkwargs\u001b[0m\u001b[0;34m)\u001b[0m\u001b[0;34m\u001b[0m\u001b[0;34m\u001b[0m\u001b[0m\n\u001b[0m\u001b[1;32m    320\u001b[0m         \u001b[0;32mif\u001b[0m \u001b[0mnp\u001b[0m\u001b[0;34m.\u001b[0m\u001b[0misnan\u001b[0m\u001b[0;34m(\u001b[0m\u001b[0mres\u001b[0m\u001b[0;34m)\u001b[0m\u001b[0;34m.\u001b[0m\u001b[0many\u001b[0m\u001b[0;34m(\u001b[0m\u001b[0;34m)\u001b[0m\u001b[0;34m:\u001b[0m\u001b[0;34m\u001b[0m\u001b[0;34m\u001b[0m\u001b[0m\n\u001b[1;32m    321\u001b[0m             warnings.warn(\"All-NaN slice encountered\", RuntimeWarning,\n",
      "\u001b[0;31mValueError\u001b[0m: zero-size array to reduction operation fmin which has no identity"
     ]
    },
    {
     "data": {
      "text/plain": [
       "<Figure size 1080x360 with 0 Axes>"
      ]
     },
     "metadata": {},
     "output_type": "display_data"
    }
   ],
   "source": [
    "threshold = 0.2 # Attributes with a mean per class that is higher than that are considered \"frequent\"\n",
    "columns_above_threshold = [c for c in mean_attributes_df.columns if (mean_attributes_df[c] >= threshold).any()]\n",
    "plt.figure(figsize=(15, 5))\n",
    "sns.heatmap(mean_attributes_df[columns_above_threshold])"
   ]
  },
  {
   "cell_type": "code",
   "execution_count": null,
   "id": "257dde7f",
   "metadata": {},
   "outputs": [],
   "source": []
  }
 ],
 "metadata": {
  "kernelspec": {
   "display_name": "Python 3",
   "language": "python",
   "name": "python3"
  },
  "language_info": {
   "codemirror_mode": {
    "name": "ipython",
    "version": 3
   },
   "file_extension": ".py",
   "mimetype": "text/x-python",
   "name": "python",
   "nbconvert_exporter": "python",
   "pygments_lexer": "ipython3",
   "version": "3.9.5"
  }
 },
 "nbformat": 4,
 "nbformat_minor": 5
}
