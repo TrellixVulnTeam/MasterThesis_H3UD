{
 "cells": [
  {
   "cell_type": "code",
   "execution_count": 1,
   "id": "307f5b93",
   "metadata": {},
   "outputs": [],
   "source": [
    "import numpy as np\n",
    "import matplotlib.pyplot as plt\n",
    "import torch\n",
    "import torch.nn as nn\n",
    "import pandas as pd\n",
    "import seaborn as sns"
   ]
  },
  {
   "cell_type": "code",
   "execution_count": 2,
   "id": "c9882104",
   "metadata": {},
   "outputs": [
    {
     "name": "stdout",
     "output_type": "stream",
     "text": [
      "/nfs/homedirs/fuchsgru/MastersThesis\n"
     ]
    }
   ],
   "source": [
    "%cd .."
   ]
  },
  {
   "cell_type": "code",
   "execution_count": 3,
   "id": "b507d6dc",
   "metadata": {},
   "outputs": [],
   "source": [
    "import training_semi_supervised_node_classification"
   ]
  },
  {
   "cell_type": "code",
   "execution_count": 4,
   "id": "beeeff65",
   "metadata": {},
   "outputs": [],
   "source": [
    "import model.normalizing_flow\n",
    "import model.density\n",
    "import plot.density"
   ]
  },
  {
   "cell_type": "code",
   "execution_count": 5,
   "id": "bad1debb",
   "metadata": {},
   "outputs": [],
   "source": [
    "x = torch.zeros(3).cuda()"
   ]
  },
  {
   "cell_type": "code",
   "execution_count": 6,
   "id": "4dc74abb",
   "metadata": {},
   "outputs": [],
   "source": [
    "# Create a multimodal distribution\n",
    "D = 64\n",
    "n = 20\n",
    "mode1 = torch.distributions.MultivariateNormal(\n",
    "                torch.tensor([1.0] * D), \n",
    "                covariance_matrix=torch.diag(torch.tensor([.6] * D)), \n",
    "                validate_args=False\n",
    "    )\n",
    "mode2 = torch.distributions.MultivariateNormal(\n",
    "                torch.tensor([-1.3] * D), \n",
    "                covariance_matrix=torch.diag(torch.tensor([.1] * D)), \n",
    "                validate_args=False\n",
    "    )\n",
    "mode3 = torch.distributions.MultivariateNormal(\n",
    "                torch.tensor([0, 1.2] * (D // 2)), \n",
    "                covariance_matrix=torch.diag(torch.tensor([.3] * D)), \n",
    "                validate_args=False\n",
    "    )\n",
    "x = torch.cat([\n",
    "    mode1.rsample((n,)),\n",
    "    mode2.rsample((n,)),\n",
    "    mode3.rsample((n,)),\n",
    "], 0).float()"
   ]
  },
  {
   "cell_type": "code",
   "execution_count": 7,
   "id": "8d4c61ea",
   "metadata": {},
   "outputs": [],
   "source": [
    "y = torch.tensor([0] * n + [1] * n + [2] * n).long()"
   ]
  },
  {
   "cell_type": "code",
   "execution_count": 8,
   "id": "46a9baf7",
   "metadata": {},
   "outputs": [],
   "source": [
    "def modes_log_density(x):\n",
    "    probs = torch.stack([mode1.log_prob(x), mode2.log_prob(x), mode3.log_prob(x)])\n",
    "    return torch.logsumexp(probs, 0)"
   ]
  },
  {
   "cell_type": "code",
   "execution_count": 9,
   "id": "7b6ed3ea",
   "metadata": {},
   "outputs": [],
   "source": [
    "soft = torch.zeros(x.size(0), 3)\n",
    "soft[:n, 0] = 1.0\n",
    "soft[n : 2 * n, 1] = 1.0\n",
    "soft[2 * n :, 2] = 1.0"
   ]
  },
  {
   "cell_type": "code",
   "execution_count": 24,
   "id": "5d8e93fd",
   "metadata": {},
   "outputs": [
    {
     "name": "stdout",
     "output_type": "stream",
     "text": [
      "Fit normalizing flow with GPU acceleration.\n"
     ]
    },
    {
     "name": "stderr",
     "output_type": "stream",
     "text": [
      "100%|██████████| 50/50 [00:01<00:00, 27.48it/s]\n"
     ]
    },
    {
     "name": "stdout",
     "output_type": "stream",
     "text": [
      "Fit normalizing flow with GPU acceleration.\n"
     ]
    },
    {
     "name": "stderr",
     "output_type": "stream",
     "text": [
      "100%|██████████| 50/50 [00:01<00:00, 27.27it/s]\n"
     ]
    },
    {
     "name": "stdout",
     "output_type": "stream",
     "text": [
      "Fit normalizing flow with GPU acceleration.\n"
     ]
    },
    {
     "name": "stderr",
     "output_type": "stream",
     "text": [
      "100%|██████████| 50/50 [00:01<00:00, 27.07it/s]\n"
     ]
    }
   ],
   "source": [
    "density = model.density.get_density_model(\n",
    "    'FeatureSpaceDensityNormalizingFlowPerClass',\n",
    "    flow_type = 'maf',\n",
    "    num_layers = 10,\n",
    "    gpu=True,\n",
    "    verbose = True,\n",
    "    iterations = 50,\n",
    ")\n",
    "density.fit(\n",
    "    x,\n",
    "    soft,\n",
    ")"
   ]
  },
  {
   "cell_type": "code",
   "execution_count": 25,
   "id": "e7b6a736",
   "metadata": {},
   "outputs": [
    {
     "data": {
      "text/plain": [
       "(<Figure size 432x288 with 2 Axes>, <AxesSubplot:>)"
      ]
     },
     "execution_count": 25,
     "metadata": {},
     "output_type": "execute_result"
    },
    {
     "data": {
      "image/png": "[encoded data removed]",
      "text/plain": [
       "<Figure size 432x288 with 2 Axes>"
      ]
     },
     "metadata": {
      "needs_background": "light"
     },
     "output_type": "display_data"
    }
   ],
   "source": [
    "plot.density.plot_density(x[:1], x, density, y, {i : str(i) for i in range(3)}, \n",
    "                seed=1337, bins=20, levels=20, dimensionality_reduction='pca', num_samples=50000,\n",
    "            sampling_stragey = 'random')"
   ]
  },
  {
   "cell_type": "code",
   "execution_count": 18,
   "id": "c338864c",
   "metadata": {},
   "outputs": [
    {
     "name": "stdout",
     "output_type": "stream",
     "text": [
      "Fit normalizing flow with GPU acceleration.\n"
     ]
    },
    {
     "name": "stderr",
     "output_type": "stream",
     "text": [
      "100%|██████████| 10000/10000 [06:06<00:00, 27.27it/s]\n"
     ]
    },
    {
     "name": "stdout",
     "output_type": "stream",
     "text": [
      "Fit normalizing flow with GPU acceleration.\n"
     ]
    },
    {
     "name": "stderr",
     "output_type": "stream",
     "text": [
      "100%|██████████| 10000/10000 [06:07<00:00, 27.23it/s]\n"
     ]
    },
    {
     "name": "stdout",
     "output_type": "stream",
     "text": [
      "Fit normalizing flow with GPU acceleration.\n"
     ]
    },
    {
     "name": "stderr",
     "output_type": "stream",
     "text": [
      "100%|██████████| 10000/10000 [06:07<00:00, 27.22it/s]\n"
     ]
    }
   ],
   "source": [
    "density = model.density.get_density_model(\n",
    "    'FeatureSpaceDensityNormalizingFlowPerClass',\n",
    "    flow_type = 'maf',\n",
    "    num_layers = 10,\n",
    "    gpu=True,\n",
    "    verbose = True,\n",
    "    iterations = 10000,\n",
    ")\n",
    "density.fit(\n",
    "    x,\n",
    "    soft,\n",
    ")"
   ]
  },
  {
   "cell_type": "code",
   "execution_count": 19,
   "id": "94a3fb42",
   "metadata": {},
   "outputs": [
    {
     "data": {
      "text/plain": [
       "(<Figure size 432x288 with 2 Axes>, <AxesSubplot:>)"
      ]
     },
     "execution_count": 19,
     "metadata": {},
     "output_type": "execute_result"
    },
    {
     "data": {
      "image/png": "[encoded data removed]",
      "text/plain": [
       "<Figure size 432x288 with 2 Axes>"
      ]
     },
     "metadata": {
      "needs_background": "light"
     },
     "output_type": "display_data"
    }
   ],
   "source": [
    "plot.density.plot_density(x[:1], x, density, y, {i : str(i) for i in range(3)}, \n",
    "                seed=1337, bins=20, levels=20, dimensionality_reduction='pca', num_samples=50000,\n",
    "            sampling_stragey = 'random')"
   ]
  },
  {
   "cell_type": "code",
   "execution_count": 17,
   "id": "285ce3f8",
   "metadata": {},
   "outputs": [
    {
     "data": {
      "text/plain": [
       "(<Figure size 432x288 with 2 Axes>, <AxesSubplot:>)"
      ]
     },
     "execution_count": 17,
     "metadata": {},
     "output_type": "execute_result"
    },
    {
     "data": {
      "image/png": "[encoded data removed]",
      "text/plain": [
       "<Figure size 432x288 with 2 Axes>"
      ]
     },
     "metadata": {
      "needs_background": "light"
     },
     "output_type": "display_data"
    }
   ],
   "source": [
    "plot.density.plot_density(x[:1], x, density, y, {i : str(i) for i in range(3)}, \n",
    "                seed=1337, bins=20, levels=20, dimensionality_reduction='pca', num_samples=50000,\n",
    "            sampling_stragey = 'random')"
   ]
  },
  {
   "cell_type": "code",
   "execution_count": 10,
   "id": "9634880f",
   "metadata": {},
   "outputs": [],
   "source": [
    "soft2 = soft.clone()\n",
    "# soft2[:n] = 0.0\n",
    "density = model.density.get_density_model(\n",
    "    'FeatureSpaceDensityNormalizingFlowPerClass',\n",
    "    flow_type = 'maf',\n",
    "    num_layers = 10,\n",
    ")\n",
    "density.fit(\n",
    "    x,\n",
    "    soft2\n",
    ")"
   ]
  },
  {
   "cell_type": "code",
   "execution_count": 11,
   "id": "66b3ecda",
   "metadata": {},
   "outputs": [
    {
     "data": {
      "text/plain": [
       "<AxesSubplot:xlabel='density', ylabel='Density'>"
      ]
     },
     "execution_count": 11,
     "metadata": {},
     "output_type": "execute_result"
    },
    {
     "data": {
      "image/png": "[encoded data removed]",
      "text/plain": [
       "<Figure size 432x288 with 1 Axes>"
      ]
     },
     "metadata": {
      "needs_background": "light"
     },
     "output_type": "display_data"
    }
   ],
   "source": [
    "df = pd.DataFrame({\n",
    "    'density' : density(x),\n",
    "    'mode' : y,\n",
    "})\n",
    "sns.histplot(df, x='density', hue='mode', stat='density', common_norm=False, kde=True)"
   ]
  },
  {
   "cell_type": "code",
   "execution_count": 30,
   "id": "16522954",
   "metadata": {},
   "outputs": [
    {
     "name": "stdout",
     "output_type": "stream",
     "text": [
      "Covariance not positive semi-definite. Adding 1e-06 to the diagnoal.\n",
      "Covariance not positive semi-definite. Adding 9.999999999999999e-06 to the diagnoal.\n",
      "Covariance not positive semi-definite. Adding 1e-06 to the diagnoal.\n",
      "Covariance not positive semi-definite. Adding 9.999999999999999e-06 to the diagnoal.\n",
      "Covariance not positive semi-definite. Adding 1e-06 to the diagnoal.\n",
      "Covariance not positive semi-definite. Adding 9.999999999999999e-06 to the diagnoal.\n",
      "Covariance not positive semi-definite. Adding 1e-06 to the diagnoal.\n",
      "Covariance not positive semi-definite. Adding 9.999999999999999e-06 to the diagnoal.\n"
     ]
    }
   ],
   "source": [
    "soft2 = soft.clone()\n",
    "# soft2[:n, 0] = 0.0\n",
    "density = model.density.get_density_model(\n",
    "    'GaussianPerClass',\n",
    "    relative=True,\n",
    ")\n",
    "density.fit(\n",
    "    x,\n",
    "    soft2\n",
    ")"
   ]
  },
  {
   "cell_type": "code",
   "execution_count": 31,
   "id": "15eaa208",
   "metadata": {},
   "outputs": [
    {
     "data": {
      "image/png": "[encoded data removed]",
      "text/plain": [
       "<Figure size 432x288 with 2 Axes>"
      ]
     },
     "metadata": {
      "needs_background": "light"
     },
     "output_type": "display_data"
    }
   ],
   "source": [
    "plot.density.plot_density(x[:1], x, density, y, {i : str(i) for i in range(3)}, \n",
    "                seed=1337, bins=20, levels=20, dimensionality_reduction='pca', num_samples=50000,\n",
    "            sampling_stragey = 'random')\n",
    "df = pd.DataFrame({\n",
    "    'density' : density(x),\n",
    "    'mode' : y,\n",
    "})"
   ]
  },
  {
   "cell_type": "code",
   "execution_count": 14,
   "id": "04d1e0a3",
   "metadata": {},
   "outputs": [
    {
     "data": {
      "text/plain": [
       "<AxesSubplot:xlabel='density', ylabel='Density'>"
      ]
     },
     "execution_count": 14,
     "metadata": {},
     "output_type": "execute_result"
    },
    {
     "data": {
      "image/png": "[encoded data removed]",
      "text/plain": [
       "<Figure size 432x288 with 1 Axes>"
      ]
     },
     "metadata": {
      "needs_background": "light"
     },
     "output_type": "display_data"
    }
   ],
   "source": [
    "\n",
    "sns.histplot(df, x='density', hue='mode', stat='density', common_norm=False, kde=True)"
   ]
  },
  {
   "cell_type": "code",
   "execution_count": 15,
   "id": "03f0febf",
   "metadata": {},
   "outputs": [
    {
     "data": {
      "text/plain": [
       "(<Figure size 432x288 with 2 Axes>, <AxesSubplot:>)"
      ]
     },
     "execution_count": 15,
     "metadata": {},
     "output_type": "execute_result"
    },
    {
     "data": {
      "image/png": "[encoded data removed]",
      "text/plain": [
       "<Figure size 432x288 with 2 Axes>"
      ]
     },
     "metadata": {
      "needs_background": "light"
     },
     "output_type": "display_data"
    }
   ],
   "source": [
    "flow = model.normalizing_flow.NormalizingFlow('maf', 10, D, seed=1337, num_hidden=2)\n",
    "flow.fit(x, weights = torch.tensor([2.0] * n + [0.0005] * n + [1.0] * n).float(), iterations=1000)\n",
    "plot.density.plot_density(x[:1], x, flow, y, {i : str(i) for i in range(3)}, \n",
    "                seed=1337, bins=20, levels=20, dimensionality_reduction='pca', num_samples=50000,\n",
    "            sampling_stragey = 'random')"
   ]
  },
  {
   "cell_type": "code",
   "execution_count": 16,
   "id": "6a1190a6",
   "metadata": {},
   "outputs": [
    {
     "data": {
      "text/plain": [
       "[Parameter containing:\n",
       " tensor([[-0.1675, -0.0011,  0.0308,  ..., -0.0999, -0.1040,  0.0090],\n",
       "         [ 0.1537, -0.0696, -0.1185,  ..., -0.1009,  0.0120,  0.0776],\n",
       "         [ 0.1759,  0.1479,  0.1576,  ..., -0.0786, -0.0115, -0.0951],\n",
       "         ...,\n",
       "         [-0.0435,  0.0669, -0.0939,  ..., -0.0401, -0.0023, -0.0313],\n",
       "         [ 0.0099, -0.0706, -0.0099,  ..., -0.0029,  0.0126,  0.0551],\n",
       "         [ 0.0863,  0.0489, -0.0346,  ..., -0.1152, -0.1062,  0.0167]],\n",
       "        requires_grad=True),\n",
       " Parameter containing:\n",
       " tensor([-0.0277, -0.0664,  0.0125, -0.1087, -0.0527,  0.1771,  0.0175, -0.0595,\n",
       "          0.1079,  0.0787, -0.0165,  0.0207, -0.0315,  0.0810,  0.0100,  0.1005,\n",
       "         -0.0098,  0.1155, -0.0459, -0.0223,  0.0867, -0.0335, -0.0791,  0.0207,\n",
       "          0.0477, -0.0724,  0.0119,  0.0987, -0.0522,  0.1084, -0.0066,  0.0284,\n",
       "         -0.0015, -0.1093,  0.1048, -0.1084,  0.0512,  0.1668,  0.0203, -0.0087,\n",
       "         -0.0230,  0.1204, -0.0486,  0.0367,  0.0878, -0.0986, -0.0804, -0.1172,\n",
       "         -0.0798,  0.0730, -0.0403, -0.0548,  0.0715,  0.0904, -0.0283,  0.0924,\n",
       "         -0.0867, -0.0649, -0.0609,  0.0814,  0.0285, -0.0085, -0.0006,  0.0445],\n",
       "        requires_grad=True),\n",
       " Parameter containing:\n",
       " tensor([[ 0.1317, -0.1131,  0.1088,  ..., -0.0237, -0.0750, -0.1169],\n",
       "         [-0.1449,  0.0878, -0.0844,  ...,  0.0049,  0.0744, -0.0990],\n",
       "         [ 0.1219,  0.1878, -0.0640,  ..., -0.0736, -0.0431, -0.1387],\n",
       "         ...,\n",
       "         [-0.0822,  0.0016, -0.1240,  ...,  0.1122, -0.1000, -0.1357],\n",
       "         [-0.0718, -0.0389,  0.1509,  ...,  0.0807,  0.0485,  0.0303],\n",
       "         [-0.1135, -0.0541,  0.0193,  ..., -0.0205,  0.0616, -0.1597]],\n",
       "        requires_grad=True),\n",
       " Parameter containing:\n",
       " tensor([-0.0561,  0.0259,  0.1062, -0.0253, -0.0659,  0.0512,  0.0260,  0.0829,\n",
       "          0.0646,  0.1701, -0.0499,  0.0925, -0.0794, -0.0670,  0.0515,  0.1424,\n",
       "          0.1138, -0.0458, -0.0832, -0.0464, -0.0741,  0.0047, -0.0655,  0.1054,\n",
       "          0.0699, -0.0742, -0.0588, -0.0178, -0.0232,  0.1137,  0.0009,  0.0699,\n",
       "          0.0003,  0.0229, -0.0139, -0.1198,  0.0469, -0.0789, -0.0925, -0.0036,\n",
       "          0.0434,  0.0216,  0.1212,  0.0413,  0.0713, -0.0632,  0.0678,  0.1577,\n",
       "         -0.0750, -0.0043,  0.1399,  0.0790,  0.1163, -0.1303,  0.1407,  0.0024,\n",
       "         -0.0746, -0.0326,  0.1057,  0.0811, -0.0947, -0.0849, -0.0954,  0.0455],\n",
       "        requires_grad=True),\n",
       " Parameter containing:\n",
       " tensor([[ 0.0761, -0.1211, -0.0873,  ..., -0.0311,  0.0429, -0.0129],\n",
       "         [-0.0789,  0.0110,  0.1026,  ...,  0.1142, -0.0435, -0.1748],\n",
       "         [ 0.0061, -0.0556, -0.0664,  ...,  0.0567, -0.0229, -0.0204],\n",
       "         ...,\n",
       "         [-0.0855,  0.0308,  0.0803,  ..., -0.0582, -0.0524, -0.0211],\n",
       "         [ 0.1510,  0.1236, -0.0329,  ...,  0.1004,  0.0388, -0.0407],\n",
       "         [ 0.0156, -0.0073, -0.0445,  ...,  0.0443, -0.1145,  0.0058]],\n",
       "        requires_grad=True),\n",
       " Parameter containing:\n",
       " tensor([-0.0802, -0.1193,  0.1222,  0.0337,  0.0772,  0.0336,  0.0518,  0.0962,\n",
       "         -0.2325,  0.0266, -0.0079, -0.1366,  0.1635,  0.0139,  0.0494, -0.1110,\n",
       "         -0.0535,  0.1630, -0.1148, -0.1176, -0.0478, -0.1676,  0.0190, -0.1911,\n",
       "         -0.0051, -0.0506,  0.1211,  0.0088, -0.0274,  0.0885, -0.0017,  0.1046,\n",
       "         -0.1893, -0.0157, -0.1954, -0.1397,  0.0443, -0.0028,  0.0660,  0.0253,\n",
       "          0.0248,  0.0231, -0.0726, -0.0623, -0.0426,  0.0697,  0.0341, -0.0017,\n",
       "          0.0243,  0.0006, -0.0450, -0.0829,  0.0981, -0.0378, -0.1350, -0.0649,\n",
       "          0.0099,  0.1276,  0.0702, -0.0214,  0.1257,  0.0511, -0.0903, -0.1582,\n",
       "         -0.0335, -0.0748,  0.1620,  0.0821, -0.1350, -0.0049, -0.0126, -0.1583,\n",
       "         -0.0339,  0.0070, -0.0227, -0.0340,  0.0120, -0.0036,  0.0238, -0.0699,\n",
       "         -0.0989, -0.0981, -0.1231,  0.0484,  0.0170,  0.0154, -0.0071,  0.0083,\n",
       "          0.0974, -0.0233,  0.0944,  0.1585,  0.0363,  0.0259, -0.0465, -0.1238,\n",
       "          0.0108,  0.0203,  0.0790,  0.0413,  0.0680,  0.0010, -0.0674, -0.0080,\n",
       "          0.0153, -0.0523, -0.0732,  0.0569, -0.0377, -0.0013,  0.0599, -0.0019,\n",
       "         -0.0495,  0.0645,  0.0306,  0.0022, -0.0418, -0.0912,  0.1553,  0.0862,\n",
       "          0.1234,  0.0585,  0.0617, -0.0364, -0.0263,  0.0653, -0.1380,  0.0055],\n",
       "        requires_grad=True),\n",
       " Parameter containing:\n",
       " tensor([-0.0445, -0.0539, -0.0041, -0.1006, -0.0649, -0.0395, -0.0423, -0.0484,\n",
       "         -0.0640, -0.0732, -0.0733, -0.0333, -0.0966, -0.0868, -0.0678, -0.0396,\n",
       "         -0.0295, -0.0201, -0.0403, -0.0138, -0.0661, -0.0637, -0.0572, -0.1053,\n",
       "         -0.0431, -0.0657,  0.0477, -0.0628, -0.0035, -0.0728,  0.0739, -0.0648,\n",
       "          0.0551, -0.0528,  0.0733,  0.0274,  0.0700, -0.0006,  0.0899,  0.0336,\n",
       "          0.0646,  0.0425, -0.0018,  0.0610, -0.0871,  0.0413,  0.0138,  0.0045,\n",
       "          0.0515,  0.0182,  0.0799, -0.0012,  0.0638,  0.0466,  0.0615,  0.0838,\n",
       "          0.0745,  0.0393,  0.0698,  0.0588,  0.0567,  0.0689,  0.0804,  0.0629],\n",
       "        requires_grad=True),\n",
       " Parameter containing:\n",
       " tensor([ 0.0407, -0.0344, -0.0050,  0.0296,  0.0805,  0.0103,  0.0682,  0.0029,\n",
       "          0.1196,  0.0063, -0.0559, -0.0178,  0.0419,  0.0459,  0.0704,  0.0562,\n",
       "         -0.0225, -0.0003,  0.0122,  0.0045, -0.0129,  0.0662,  0.0426, -0.0225,\n",
       "          0.0340, -0.0677, -0.0118, -0.0050,  0.0200, -0.0547,  0.0106, -0.0372,\n",
       "         -0.0312,  0.0289,  0.0018, -0.0281,  0.0126,  0.0377,  0.0723,  0.0374,\n",
       "         -0.0137, -0.0167, -0.0078, -0.0333, -0.0292, -0.0184, -0.0417, -0.0028,\n",
       "         -0.0104,  0.0349, -0.0198,  0.0387, -0.0280, -0.0770, -0.0241,  0.0081,\n",
       "         -0.0175,  0.0097, -0.0270, -0.0512, -0.0084, -0.0192, -0.0389, -0.0471],\n",
       "        requires_grad=True),\n",
       " Parameter containing:\n",
       " tensor([[-0.1070,  0.0870, -0.0476,  ..., -0.0231,  0.1135,  0.0097],\n",
       "         [-0.1502, -0.1306,  0.0323,  ...,  0.0602,  0.0684, -0.1226],\n",
       "         [-0.1264, -0.0178,  0.0477,  ...,  0.0926,  0.1172, -0.0356],\n",
       "         ...,\n",
       "         [ 0.0957,  0.1171, -0.1340,  ..., -0.0609, -0.0291,  0.1233],\n",
       "         [ 0.0957,  0.1164,  0.1151,  ..., -0.0687,  0.1429,  0.1167],\n",
       "         [ 0.1864, -0.0089, -0.1128,  ...,  0.0539, -0.0673, -0.0339]],\n",
       "        requires_grad=True),\n",
       " Parameter containing:\n",
       " tensor([ 1.1610e-01,  1.0320e-01,  1.6400e-01,  9.1968e-02, -2.3273e-02,\n",
       "         -2.6244e-02, -8.7267e-02, -1.0778e-01, -3.1156e-02,  1.0116e-01,\n",
       "         -1.7728e-02,  2.8890e-02, -3.5236e-02,  3.8407e-02,  4.1046e-02,\n",
       "          4.8634e-02, -1.1106e-01,  1.0215e-01, -5.1372e-02,  8.5024e-02,\n",
       "          7.7168e-02,  4.0824e-02, -4.6955e-02, -6.9299e-02, -3.3455e-02,\n",
       "         -9.0127e-02,  7.4911e-03,  3.8080e-02,  1.0471e-01, -5.3053e-03,\n",
       "         -7.8094e-03, -1.1651e-02,  2.3587e-02, -3.0762e-02,  2.1651e-02,\n",
       "         -1.5947e-02,  1.4248e-01,  1.0067e-01, -9.0413e-02, -5.9994e-02,\n",
       "          9.8395e-02,  4.0878e-02,  8.8671e-02, -5.2049e-02,  1.0444e-01,\n",
       "          9.6595e-02, -8.7606e-02, -5.6929e-02, -7.7482e-02,  1.1762e-01,\n",
       "         -1.5640e-02, -8.9770e-02, -6.8792e-02,  5.0659e-02, -9.8120e-02,\n",
       "         -1.6073e-02, -4.7728e-05, -2.3760e-02, -3.1684e-02,  1.4649e-01,\n",
       "          1.1120e-01, -2.0875e-02, -1.0739e-01, -3.2925e-02],\n",
       "        requires_grad=True),\n",
       " Parameter containing:\n",
       " tensor([[ 0.1831,  0.0405,  0.1102,  ...,  0.0364, -0.0254, -0.0015],\n",
       "         [ 0.1085, -0.0882, -0.1081,  ...,  0.0862, -0.0347, -0.1624],\n",
       "         [-0.1454, -0.1134,  0.0122,  ..., -0.0030, -0.0647,  0.0802],\n",
       "         ...,\n",
       "         [ 0.1125,  0.0242,  0.0401,  ...,  0.0777,  0.0974, -0.0787],\n",
       "         [ 0.0027, -0.0924, -0.0185,  ..., -0.1475, -0.0404, -0.0210],\n",
       "         [-0.1559,  0.0615, -0.0530,  ...,  0.0290, -0.0208,  0.1610]],\n",
       "        requires_grad=True),\n",
       " Parameter containing:\n",
       " tensor([ 0.0027, -0.0097,  0.0850,  0.1234,  0.0985,  0.0869,  0.1215,  0.0216,\n",
       "          0.0081, -0.0231,  0.0480,  0.1379, -0.0312,  0.1381,  0.0830,  0.1460,\n",
       "         -0.0876,  0.1411,  0.0506,  0.0945, -0.0629,  0.1109,  0.1374,  0.0637,\n",
       "         -0.0151,  0.1123, -0.0554,  0.1225, -0.0885, -0.0320, -0.1180, -0.0121,\n",
       "          0.1064,  0.1317,  0.0305,  0.0701, -0.0356,  0.0984, -0.0794, -0.0325,\n",
       "          0.0904, -0.0681,  0.0275, -0.0782, -0.0922, -0.0175, -0.1200,  0.1319,\n",
       "          0.1612, -0.0514, -0.0794, -0.0714, -0.0501,  0.0831,  0.0414,  0.1008,\n",
       "          0.1130,  0.0157,  0.1009, -0.0238, -0.0695,  0.0356, -0.0123,  0.0263],\n",
       "        requires_grad=True),\n",
       " Parameter containing:\n",
       " tensor([[ 0.1162,  0.1095,  0.0302,  ...,  0.1146,  0.1162, -0.0325],\n",
       "         [-0.0691,  0.1236, -0.0107,  ..., -0.0341,  0.1080,  0.2078],\n",
       "         [-0.0885, -0.0610,  0.0289,  ..., -0.1210, -0.0649,  0.0033],\n",
       "         ...,\n",
       "         [-0.1081,  0.1105, -0.0830,  ...,  0.0552,  0.1188, -0.0166],\n",
       "         [-0.0351,  0.0928, -0.0163,  ...,  0.1167, -0.0847, -0.0849],\n",
       "         [ 0.0846,  0.1562, -0.1262,  ...,  0.1409, -0.0531, -0.1523]],\n",
       "        requires_grad=True),\n",
       " Parameter containing:\n",
       " tensor([-0.0527, -0.0310, -0.0810, -0.0837,  0.0751, -0.0369,  0.1245, -0.0250,\n",
       "          0.1250, -0.0617,  0.0617, -0.0799,  0.0032,  0.0919, -0.0250, -0.1057,\n",
       "         -0.1891, -0.0423, -0.0862,  0.1710, -0.0997, -0.0638, -0.1648, -0.0321,\n",
       "          0.0102, -0.1573, -0.1953,  0.0271, -0.0760,  0.0125, -0.1343, -0.0468,\n",
       "          0.0053, -0.1034,  0.1332, -0.0976,  0.0503,  0.0179,  0.0597,  0.0513,\n",
       "         -0.0223,  0.0119, -0.1723, -0.0920, -0.0738,  0.0537, -0.0648,  0.1049,\n",
       "         -0.0081,  0.0202,  0.0764,  0.0581, -0.0204, -0.0265,  0.0522, -0.1207,\n",
       "         -0.0852, -0.1326, -0.0945, -0.1548,  0.0471,  0.0753,  0.1197, -0.0840,\n",
       "         -0.0056, -0.0571, -0.0277, -0.0745,  0.0137,  0.0543,  0.0066, -0.0724,\n",
       "          0.0021, -0.0073,  0.1080,  0.0036,  0.0357,  0.0551, -0.0432, -0.0595,\n",
       "          0.0218, -0.0186, -0.0123, -0.0366,  0.0503, -0.0286, -0.0706,  0.0042,\n",
       "         -0.0530, -0.0738,  0.0456,  0.0590,  0.0969, -0.0061,  0.0338, -0.0241,\n",
       "         -0.0551, -0.0211,  0.0228, -0.0062, -0.0723,  0.0377,  0.0259, -0.0635,\n",
       "          0.0133,  0.0512, -0.1267,  0.0138,  0.0689,  0.0545,  0.0457, -0.1237,\n",
       "          0.0984, -0.1386, -0.1127, -0.0441,  0.0431, -0.1431, -0.0539, -0.0034,\n",
       "         -0.0352, -0.0191, -0.0127,  0.0433,  0.1363,  0.0788,  0.0731, -0.0058],\n",
       "        requires_grad=True),\n",
       " Parameter containing:\n",
       " tensor([-0.0553, -0.0538, -0.0631, -0.0821, -0.0599, -0.0576, -0.0436, -0.0569,\n",
       "         -0.0084, -0.0991, -0.0690, -0.0393, -0.0431, -0.0241, -0.0267,  0.0061,\n",
       "         -0.0375, -0.0697, -0.0758, -0.0421, -0.0961, -0.0365, -0.0842, -0.0365,\n",
       "         -0.0602, -0.0538, -0.0236,  0.0483, -0.0513, -0.0432, -0.0697, -0.0529,\n",
       "          0.0636, -0.0399,  0.0462,  0.0625,  0.0588,  0.0125,  0.0631,  0.0357,\n",
       "         -0.0257,  0.0648,  0.0913,  0.0367,  0.0431,  0.0651,  0.0970,  0.0677,\n",
       "          0.0577,  0.0308,  0.0897,  0.0592,  0.0677,  0.0455,  0.0756,  0.0284,\n",
       "          0.0553,  0.0531,  0.0923,  0.0766,  0.0947,  0.0613,  0.0499,  0.0621],\n",
       "        requires_grad=True),\n",
       " Parameter containing:\n",
       " tensor([ 2.7370e-02, -1.7903e-02, -2.4436e-03,  4.3417e-02, -3.0798e-02,\n",
       "          6.0067e-02, -1.2468e-03, -1.2220e-03,  1.0470e-01,  8.3999e-02,\n",
       "         -1.4075e-02,  4.2793e-02, -4.1377e-03, -4.4055e-02, -2.0716e-02,\n",
       "         -4.9709e-02, -1.7175e-02, -4.2451e-02,  1.4035e-02, -9.9461e-03,\n",
       "         -7.4138e-02,  6.4626e-03,  8.3132e-02,  3.7988e-02, -3.2518e-02,\n",
       "         -4.8710e-02, -3.6446e-03, -6.3818e-03,  1.5341e-02, -1.1709e-02,\n",
       "         -3.6506e-02,  7.3898e-02, -4.6353e-02, -4.0753e-02,  5.1510e-02,\n",
       "         -6.6781e-06, -9.0824e-04,  4.7091e-02, -3.4239e-02, -2.3051e-02,\n",
       "         -1.9988e-02, -4.1955e-02,  4.0972e-02, -3.3835e-02, -4.4386e-02,\n",
       "         -4.5434e-02, -2.7163e-02, -2.1717e-02, -2.0938e-02,  5.4350e-02,\n",
       "         -1.7847e-03,  5.5692e-02,  5.1441e-02,  4.6997e-02,  5.9308e-02,\n",
       "         -4.6782e-02, -8.9639e-02, -8.1218e-02, -2.5774e-02, -4.5720e-02,\n",
       "         -1.0803e-02, -5.6916e-02,  5.9942e-02, -2.7140e-02],\n",
       "        requires_grad=True),\n",
       " Parameter containing:\n",
       " tensor([[ 0.1789,  0.0706, -0.0825,  ...,  0.0280, -0.0225,  0.0140],\n",
       "         [ 0.1918,  0.0703,  0.0054,  ...,  0.0313, -0.0649,  0.0468],\n",
       "         [-0.1732,  0.1062, -0.1048,  ..., -0.0701, -0.0164, -0.0979],\n",
       "         ...,\n",
       "         [-0.0451,  0.1601,  0.0185,  ..., -0.1047,  0.1238, -0.0457],\n",
       "         [-0.0729, -0.0410, -0.1071,  ..., -0.1773, -0.1072,  0.0151],\n",
       "         [-0.0478,  0.0250,  0.0533,  ..., -0.0863,  0.1229,  0.0672]],\n",
       "        requires_grad=True),\n",
       " Parameter containing:\n",
       " tensor([ 0.1112, -0.0497, -0.0135,  0.0221,  0.0122,  0.1299,  0.0268, -0.0354,\n",
       "          0.0767,  0.0432,  0.1083,  0.0101, -0.0069,  0.0828,  0.0847,  0.0334,\n",
       "          0.0879,  0.0676,  0.0801,  0.0349,  0.1738, -0.0457,  0.0874, -0.0747,\n",
       "         -0.0555, -0.0423,  0.1657,  0.1532,  0.0927,  0.0649, -0.0096,  0.0701,\n",
       "         -0.0030,  0.1658,  0.0751,  0.0773, -0.0185,  0.0536, -0.0403,  0.1057,\n",
       "          0.0775,  0.0002, -0.0279,  0.1219,  0.0186,  0.0972, -0.0050, -0.0301,\n",
       "          0.0322,  0.0046, -0.0568, -0.0507,  0.1001, -0.0082,  0.0970, -0.0771,\n",
       "          0.0535, -0.1004,  0.0685,  0.1814,  0.0100,  0.0019, -0.0216,  0.1383],\n",
       "        requires_grad=True),\n",
       " Parameter containing:\n",
       " tensor([[-0.1001,  0.0253,  0.0389,  ..., -0.0523, -0.1147,  0.0562],\n",
       "         [ 0.0917, -0.1455, -0.0932,  ..., -0.0542, -0.0763, -0.1069],\n",
       "         [ 0.1248,  0.1377,  0.1082,  ...,  0.1097,  0.0643, -0.0482],\n",
       "         ...,\n",
       "         [ 0.0631, -0.0248,  0.0305,  ...,  0.0727, -0.0874,  0.0891],\n",
       "         [ 0.0409, -0.1121, -0.0712,  ..., -0.1094,  0.1529,  0.0210],\n",
       "         [ 0.1779, -0.0526,  0.0292,  ...,  0.0570,  0.0431, -0.0141]],\n",
       "        requires_grad=True),\n",
       " Parameter containing:\n",
       " tensor([-0.0208, -0.0142,  0.0691, -0.1492,  0.0812,  0.1330,  0.0162,  0.1144,\n",
       "         -0.0433, -0.1044, -0.0604,  0.0559,  0.1031,  0.0737,  0.0503,  0.1452,\n",
       "          0.1118, -0.0051,  0.0633, -0.0590, -0.0752, -0.0676,  0.1240,  0.1253,\n",
       "          0.1650, -0.0568, -0.1150,  0.0431,  0.1141,  0.0207, -0.0102,  0.1019,\n",
       "          0.0144, -0.0106,  0.0695,  0.0429,  0.0750, -0.1104,  0.0721,  0.0134,\n",
       "          0.1267, -0.0305, -0.0775,  0.0296,  0.1514, -0.0604,  0.0438, -0.0134,\n",
       "         -0.0115,  0.1095,  0.0861,  0.0814, -0.0402,  0.0127,  0.1156,  0.1064,\n",
       "         -0.0912,  0.1145,  0.0526,  0.0311,  0.1262,  0.0932,  0.0044,  0.1422],\n",
       "        requires_grad=True),\n",
       " Parameter containing:\n",
       " tensor([[-0.0557, -0.0650, -0.0136,  ..., -0.0083,  0.1127,  0.1193],\n",
       "         [-0.1811, -0.0263,  0.0803,  ...,  0.1164, -0.0005,  0.0471],\n",
       "         [ 0.0865,  0.0069, -0.1025,  ...,  0.1000, -0.0683, -0.1178],\n",
       "         ...,\n",
       "         [-0.0347,  0.0247, -0.0472,  ..., -0.0233,  0.0497, -0.0213],\n",
       "         [ 0.1576,  0.0197, -0.1338,  ...,  0.1832, -0.1152, -0.1329],\n",
       "         [ 0.1596, -0.0542, -0.0412,  ..., -0.1999,  0.1752, -0.1228]],\n",
       "        requires_grad=True),\n",
       " Parameter containing:\n",
       " tensor([-0.0320,  0.0263, -0.0339,  0.0191, -0.0597, -0.0885,  0.0649, -0.0702,\n",
       "         -0.0536, -0.0530, -0.0723, -0.0372,  0.0965, -0.2335, -0.1410, -0.0847,\n",
       "         -0.0885, -0.0783,  0.0106,  0.0908,  0.0159, -0.0542, -0.0647, -0.1301,\n",
       "         -0.0447,  0.1111, -0.1093, -0.0832,  0.0050,  0.0057,  0.0511, -0.0348,\n",
       "         -0.1659,  0.0958, -0.0517,  0.0209,  0.0525,  0.0997, -0.0741, -0.0347,\n",
       "         -0.2097, -0.0945,  0.0250,  0.1989,  0.0900, -0.0630, -0.0514, -0.0729,\n",
       "         -0.0225,  0.0214,  0.0874, -0.0171,  0.0209,  0.0210, -0.1467, -0.0485,\n",
       "         -0.0757, -0.0778, -0.1392,  0.0143, -0.0297, -0.0098, -0.0271,  0.0784,\n",
       "         -0.0514,  0.0519,  0.0218, -0.1077,  0.0453,  0.0224,  0.0016,  0.0950,\n",
       "          0.0203, -0.0228,  0.0186,  0.0121,  0.0186, -0.0083, -0.0645,  0.0389,\n",
       "          0.0209, -0.0380, -0.0334, -0.0477, -0.0285, -0.0527,  0.0695,  0.0008,\n",
       "         -0.0228, -0.0393,  0.0381, -0.0045,  0.0258, -0.0098,  0.0096, -0.0586,\n",
       "         -0.0513,  0.0254, -0.0018,  0.0514,  0.0674,  0.0706,  0.1340,  0.1297,\n",
       "          0.0955,  0.0584, -0.1456,  0.0292,  0.0368, -0.0444, -0.1021, -0.0875,\n",
       "          0.0318,  0.0532,  0.0315,  0.0538, -0.0988, -0.0370, -0.0890, -0.0504,\n",
       "         -0.0775, -0.0562,  0.0918, -0.0970, -0.0862,  0.0006,  0.0067, -0.0037],\n",
       "        requires_grad=True),\n",
       " Parameter containing:\n",
       " tensor([-0.0638, -0.0146, -0.0644, -0.0598, -0.0634, -0.0482, -0.0165, -0.1201,\n",
       "         -0.1519, -0.0942, -0.0923, -0.0890, -0.0730, -0.0928, -0.0697, -0.1241,\n",
       "         -0.1058, -0.0450, -0.0942,  0.0035, -0.1051, -0.0842, -0.0244,  0.0166,\n",
       "         -0.0748, -0.0801,  0.0157,  0.0403, -0.0665, -0.0336, -0.0739, -0.1179,\n",
       "          0.0126,  0.0509,  0.0584, -0.0228,  0.0501,  0.0808,  0.0833,  0.0510,\n",
       "          0.0720,  0.0887,  0.0142,  0.0974,  0.0040,  0.0787,  0.0773,  0.0850,\n",
       "          0.0950,  0.0866,  0.0746,  0.1189,  0.0697,  0.1045,  0.0896,  0.0776,\n",
       "          0.0865,  0.0871,  0.0902,  0.0925,  0.0489,  0.0871,  0.0649,  0.0773],\n",
       "        requires_grad=True),\n",
       " Parameter containing:\n",
       " tensor([-0.0075, -0.0545,  0.0699,  0.0249,  0.0766,  0.0167,  0.0306, -0.0115,\n",
       "          0.0608, -0.0058,  0.0097,  0.0392,  0.0545,  0.0226,  0.0183,  0.0498,\n",
       "          0.0300, -0.0790, -0.0019, -0.0012, -0.0160,  0.0478,  0.0296,  0.0227,\n",
       "          0.0962, -0.0343,  0.0426, -0.0220, -0.0669,  0.0506, -0.0224, -0.0990,\n",
       "         -0.0383,  0.0797, -0.0266,  0.0322, -0.0183,  0.0242, -0.0290,  0.0161,\n",
       "          0.0310, -0.0327,  0.0158, -0.0369, -0.0320,  0.0228,  0.0081,  0.0282,\n",
       "         -0.0089, -0.0584,  0.0281, -0.0532,  0.0030, -0.0262,  0.0167,  0.0222,\n",
       "         -0.0627,  0.0207, -0.0321,  0.0644,  0.0291,  0.0520, -0.0442,  0.0229],\n",
       "        requires_grad=True),\n",
       " Parameter containing:\n",
       " tensor([[ 0.0621, -0.1058, -0.0167,  ...,  0.0216, -0.0152,  0.0555],\n",
       "         [ 0.2133, -0.0913, -0.0872,  ...,  0.1182,  0.0757,  0.0495],\n",
       "         [ 0.0559, -0.0668, -0.1156,  ...,  0.0593, -0.0026, -0.0226],\n",
       "         ...,\n",
       "         [-0.0064, -0.1168, -0.0304,  ...,  0.0692, -0.0484, -0.0262],\n",
       "         [ 0.0607, -0.0910,  0.1414,  ...,  0.1509,  0.0254, -0.0953],\n",
       "         [ 0.1433,  0.1130,  0.0685,  ...,  0.0286, -0.0584, -0.1205]],\n",
       "        requires_grad=True),\n",
       " Parameter containing:\n",
       " tensor([-0.1887, -0.0754,  0.0640, -0.0296,  0.1358,  0.0202,  0.0778,  0.0244,\n",
       "         -0.0154,  0.0054, -0.0335, -0.0594,  0.1134, -0.0043,  0.0614, -0.0563,\n",
       "          0.1023, -0.0132,  0.0495,  0.0368,  0.0592, -0.0214,  0.1651,  0.0654,\n",
       "          0.0558, -0.0007, -0.0030, -0.0029,  0.0158, -0.0650,  0.0759, -0.0713,\n",
       "          0.0823,  0.1372, -0.0179, -0.0141,  0.0471,  0.1071, -0.0005,  0.0170,\n",
       "          0.0801, -0.1072,  0.1490,  0.1736,  0.0781, -0.0823,  0.1028, -0.1179,\n",
       "         -0.0675,  0.0873,  0.0737,  0.0454, -0.0405, -0.0091,  0.0916, -0.0123,\n",
       "          0.1054,  0.1565,  0.0859, -0.1167,  0.0173,  0.0867,  0.0603,  0.0410],\n",
       "        requires_grad=True),\n",
       " Parameter containing:\n",
       " tensor([[ 0.0550,  0.0052,  0.0301,  ...,  0.0901,  0.0259,  0.2108],\n",
       "         [ 0.1793,  0.2439, -0.0499,  ..., -0.0685,  0.0852,  0.2140],\n",
       "         [-0.0912, -0.1374, -0.0754,  ...,  0.1203, -0.0840, -0.2543],\n",
       "         ...,\n",
       "         [ 0.0653, -0.0704,  0.1063,  ...,  0.0694,  0.1025, -0.0862],\n",
       "         [-0.0608,  0.0263,  0.0999,  ..., -0.0863,  0.1603, -0.0805],\n",
       "         [-0.2366, -0.1176,  0.0327,  ...,  0.0936, -0.0923, -0.1507]],\n",
       "        requires_grad=True),\n",
       " Parameter containing:\n",
       " tensor([-1.0142e-01,  1.1295e-02,  1.7440e-01, -1.5482e-01,  1.2975e-01,\n",
       "          4.9112e-02,  1.2380e-02,  1.4306e-02, -1.1940e-01,  8.5171e-02,\n",
       "         -8.1845e-02,  1.4284e-01, -1.1967e-02,  1.4083e-01,  6.5195e-02,\n",
       "          2.3000e-02,  1.0007e-01, -4.8479e-02, -7.1522e-02,  1.1872e-01,\n",
       "         -1.9661e-02,  8.3979e-02,  3.7792e-02, -6.1281e-02, -3.3798e-02,\n",
       "          1.5753e-01,  1.6470e-01,  8.2217e-02,  1.2023e-01,  1.0090e-04,\n",
       "          9.1947e-02, -4.5701e-02,  4.2141e-02,  6.2072e-02,  3.4083e-02,\n",
       "          4.3527e-02, -8.2883e-02,  9.3906e-02, -7.3792e-02, -1.3541e-01,\n",
       "          5.0213e-03,  3.7833e-02, -3.9119e-02,  4.9269e-02, -6.5508e-02,\n",
       "          2.2513e-02, -9.8036e-02,  1.8357e-02,  8.7946e-02,  5.7991e-02,\n",
       "          1.1371e-01,  9.9172e-03, -7.7143e-02,  1.3169e-01, -7.1005e-02,\n",
       "          1.0000e-01,  1.2358e-01, -1.0034e-01,  6.4928e-03, -7.3346e-02,\n",
       "         -7.6604e-02, -5.6295e-02,  1.7219e-02, -1.2010e-01],\n",
       "        requires_grad=True),\n",
       " Parameter containing:\n",
       " tensor([[-0.0601,  0.0466, -0.1144,  ...,  0.0851,  0.0806, -0.0999],\n",
       "         [-0.0181,  0.0657, -0.0565,  ...,  0.0171,  0.0013, -0.0776],\n",
       "         [ 0.0131, -0.0587, -0.0259,  ...,  0.0018,  0.0431,  0.1960],\n",
       "         ...,\n",
       "         [ 0.0619,  0.0169, -0.0800,  ...,  0.1249,  0.0846,  0.0727],\n",
       "         [-0.0307, -0.0135,  0.1369,  ..., -0.1539,  0.0619, -0.0900],\n",
       "         [ 0.0972,  0.0416, -0.0746,  ...,  0.0200, -0.1501,  0.1411]],\n",
       "        requires_grad=True),\n",
       " Parameter containing:\n",
       " tensor([-0.1048,  0.0335,  0.0733,  0.0278,  0.0689, -0.1653,  0.0673,  0.0775,\n",
       "          0.1070,  0.0027, -0.0753, -0.0806, -0.0160,  0.0216,  0.1832, -0.1288,\n",
       "          0.2786,  0.1826, -0.0077, -0.0453, -0.1596,  0.1125,  0.1260, -0.1611,\n",
       "         -0.0416, -0.0295,  0.1128, -0.0682,  0.0719,  0.1651, -0.2302,  0.0961,\n",
       "          0.0387, -0.0506, -0.1622,  0.1684, -0.0531,  0.1209,  0.0642, -0.0754,\n",
       "          0.0940, -0.0959,  0.0179, -0.0523, -0.0525,  0.0766,  0.1315,  0.0691,\n",
       "          0.0305,  0.0312, -0.0213, -0.1795, -0.1414,  0.0904,  0.0634, -0.0987,\n",
       "         -0.0853, -0.1016,  0.0883, -0.0594, -0.0507, -0.0854,  0.0385,  0.0030,\n",
       "          0.1688, -0.0106, -0.1776, -0.0086, -0.0750,  0.0511,  0.1514, -0.0529,\n",
       "         -0.0246,  0.0610,  0.0241, -0.1036, -0.0169,  0.0764, -0.0366,  0.0035,\n",
       "          0.0771,  0.0430, -0.0010, -0.0916, -0.0749,  0.0288,  0.0814, -0.0599,\n",
       "          0.1977,  0.1085, -0.0121, -0.0532,  0.0534, -0.1100,  0.0973,  0.0270,\n",
       "          0.1329,  0.0397, -0.0180,  0.0802,  0.0157, -0.0447,  0.0222,  0.0333,\n",
       "         -0.0275,  0.1001,  0.0491, -0.0307,  0.0451,  0.0221,  0.0272,  0.1407,\n",
       "         -0.0598,  0.0717,  0.0231, -0.0367,  0.0482,  0.1097,  0.0637,  0.0173,\n",
       "          0.0773, -0.0127,  0.0213, -0.1061,  0.0150,  0.0570,  0.0677,  0.0469],\n",
       "        requires_grad=True),\n",
       " Parameter containing:\n",
       " tensor([-0.0634, -0.0532, -0.0502, -0.0700, -0.0631, -0.0253, -0.0614, -0.0279,\n",
       "         -0.0806,  0.0119, -0.0924, -0.0862, -0.0791, -0.0984, -0.0482, -0.0536,\n",
       "         -0.0937, -0.0618, -0.0921, -0.0823, -0.0709, -0.0140, -0.0432, -0.0490,\n",
       "         -0.0511,  0.0189, -0.0213, -0.0480,  0.0803, -0.0280,  0.0059, -0.0418,\n",
       "          0.0002, -0.0196, -0.0406,  0.0198,  0.0671, -0.0010,  0.0080,  0.0251,\n",
       "          0.0795,  0.0871,  0.0932,  0.0260,  0.0756,  0.0513,  0.0778,  0.0076,\n",
       "          0.0988,  0.0722,  0.0855,  0.0818,  0.0488,  0.1020,  0.0586,  0.1124,\n",
       "          0.0617,  0.0726,  0.0827,  0.0835,  0.0956,  0.0924,  0.0577,  0.0684],\n",
       "        requires_grad=True),\n",
       " Parameter containing:\n",
       " tensor([ 0.0331,  0.0067, -0.0234,  0.0013,  0.0352, -0.0553, -0.0334, -0.0078,\n",
       "         -0.0278,  0.0428,  0.0928,  0.0230,  0.0755,  0.0354, -0.0350,  0.0237,\n",
       "         -0.0020, -0.0232, -0.0178,  0.0377, -0.0030, -0.0372, -0.0499,  0.0513,\n",
       "         -0.0361,  0.0599,  0.0662, -0.0075,  0.0749,  0.0799, -0.0398,  0.0561,\n",
       "          0.0258,  0.0490, -0.0340,  0.0195, -0.0802, -0.0103,  0.0698,  0.0028,\n",
       "          0.0699,  0.0179,  0.0634,  0.0643, -0.0473,  0.0187, -0.0052, -0.0156,\n",
       "         -0.0155, -0.0281,  0.0422,  0.0484, -0.0022,  0.0219, -0.0807,  0.0608,\n",
       "         -0.0522,  0.0349, -0.0404, -0.0135,  0.0160,  0.0551, -0.0467,  0.0412],\n",
       "        requires_grad=True),\n",
       " Parameter containing:\n",
       " tensor([[-0.0124, -0.1067, -0.0808,  ..., -0.0634, -0.0461, -0.0653],\n",
       "         [-0.0630, -0.0012,  0.0060,  ..., -0.0120, -0.0592,  0.0166],\n",
       "         [-0.1476,  0.1040,  0.1082,  ...,  0.0450,  0.0152, -0.1043],\n",
       "         ...,\n",
       "         [ 0.1409,  0.1175, -0.0955,  ...,  0.0015, -0.0892,  0.0404],\n",
       "         [ 0.0708,  0.0664, -0.1549,  ..., -0.1287, -0.1711,  0.0448],\n",
       "         [-0.0895,  0.0839, -0.0968,  ...,  0.0437, -0.1140, -0.0893]],\n",
       "        requires_grad=True),\n",
       " Parameter containing:\n",
       " tensor([-0.1486,  0.2208,  0.0572,  0.1345,  0.1488, -0.1141,  0.1547,  0.1279,\n",
       "          0.1318,  0.1025,  0.0516,  0.0371, -0.0628,  0.0371,  0.1132, -0.0255,\n",
       "          0.1832,  0.0263,  0.0379,  0.1054,  0.0274,  0.1846,  0.0552,  0.1440,\n",
       "          0.0102, -0.0154,  0.0308,  0.0599, -0.0291,  0.0410, -0.0424, -0.0017,\n",
       "          0.0647,  0.0887,  0.0509,  0.0657, -0.0410,  0.1719, -0.0185,  0.0862,\n",
       "          0.0335,  0.1100,  0.0390, -0.0476,  0.1668,  0.0244, -0.0129,  0.0205,\n",
       "          0.0983, -0.0109,  0.0508, -0.0006,  0.1145, -0.0656,  0.0666, -0.0024,\n",
       "         -0.0156,  0.1531, -0.0126,  0.0213, -0.0515,  0.0103,  0.0942,  0.0053],\n",
       "        requires_grad=True),\n",
       " Parameter containing:\n",
       " tensor([[ 0.0698,  0.0788, -0.0873,  ...,  0.0491,  0.0639, -0.0899],\n",
       "         [ 0.0704, -0.0776, -0.1119,  ...,  0.1055, -0.0767,  0.0870],\n",
       "         [-0.1092, -0.0078,  0.2717,  ..., -0.1240, -0.0652, -0.1534],\n",
       "         ...,\n",
       "         [-0.0531, -0.0558, -0.0010,  ..., -0.0904, -0.0394, -0.1239],\n",
       "         [-0.0030,  0.0870,  0.1170,  ...,  0.1754,  0.1681,  0.1756],\n",
       "         [-0.0402, -0.1030,  0.0719,  ..., -0.0515, -0.0646, -0.1230]],\n",
       "        requires_grad=True),\n",
       " Parameter containing:\n",
       " tensor([-0.0467,  0.1306,  0.1166, -0.0432, -0.1365, -0.0423, -0.0200,  0.1019,\n",
       "          0.1557,  0.0894,  0.0821,  0.0281,  0.0740,  0.0918,  0.0987,  0.1354,\n",
       "         -0.0136,  0.0125,  0.0053,  0.0348,  0.1208,  0.0267, -0.0358, -0.0178,\n",
       "          0.0649,  0.0594,  0.0154, -0.1109, -0.0038,  0.0601,  0.0511,  0.1302,\n",
       "         -0.0515,  0.0024,  0.1476,  0.0447,  0.0740, -0.0301,  0.1281,  0.1163,\n",
       "         -0.0361,  0.1623,  0.0112, -0.1237, -0.0228,  0.0055,  0.1347,  0.0588,\n",
       "          0.0059,  0.0709,  0.1227,  0.0797,  0.0004, -0.0456,  0.1186,  0.0438,\n",
       "          0.1296,  0.0217,  0.1168,  0.0339,  0.0883,  0.0359,  0.0640, -0.1034],\n",
       "        requires_grad=True),\n",
       " Parameter containing:\n",
       " tensor([[-0.0213,  0.1240, -0.0956,  ...,  0.0302,  0.0102, -0.1121],\n",
       "         [-0.0362, -0.0212, -0.0114,  ..., -0.0983, -0.1070,  0.1245],\n",
       "         [-0.0294,  0.0463, -0.1024,  ...,  0.1120,  0.0104, -0.0621],\n",
       "         ...,\n",
       "         [ 0.0157, -0.0013, -0.0170,  ...,  0.0192,  0.0563, -0.0777],\n",
       "         [-0.0621,  0.0118, -0.0426,  ...,  0.1158,  0.0896, -0.0807],\n",
       "         [ 0.0795,  0.0602,  0.0328,  ...,  0.0087, -0.1982, -0.0188]],\n",
       "        requires_grad=True),\n",
       " Parameter containing:\n",
       " tensor([ 0.0844, -0.0409,  0.0218, -0.1230,  0.0080, -0.0140, -0.0106,  0.0970,\n",
       "         -0.0391, -0.0190, -0.0607,  0.0608,  0.0638, -0.0446, -0.0496,  0.1533,\n",
       "          0.1011,  0.0268, -0.0123, -0.0364, -0.0369, -0.0625,  0.1474, -0.1305,\n",
       "         -0.0428,  0.0361,  0.0079,  0.2004,  0.1590,  0.0603, -0.1766,  0.0891,\n",
       "         -0.2639,  0.0026, -0.2307, -0.1183,  0.0696,  0.0194, -0.1868,  0.0030,\n",
       "          0.0603,  0.1225, -0.0370, -0.0719, -0.1409,  0.0078, -0.0641,  0.0665,\n",
       "         -0.0211, -0.0190,  0.0714, -0.0468, -0.1043,  0.0040, -0.0355,  0.0702,\n",
       "          0.0368, -0.0749,  0.1119, -0.1554, -0.1111, -0.1018, -0.1043, -0.1055,\n",
       "         -0.1127, -0.0391, -0.1087, -0.0208,  0.1093, -0.1249,  0.0049,  0.1889,\n",
       "         -0.0740, -0.0370,  0.1717,  0.0366,  0.1380, -0.0121, -0.0260, -0.0435,\n",
       "          0.0603, -0.0135,  0.0308, -0.0310, -0.0522, -0.0484, -0.0414,  0.0816,\n",
       "          0.0722, -0.0226,  0.0646,  0.1338, -0.0646,  0.0034, -0.1065, -0.1076,\n",
       "         -0.0852, -0.0144,  0.1048, -0.0359, -0.0021,  0.0845,  0.0263, -0.0477,\n",
       "          0.1802, -0.0283, -0.1324, -0.0944,  0.1007, -0.1133, -0.0322,  0.0034,\n",
       "          0.0789,  0.1147,  0.0818,  0.1502, -0.0079, -0.0912, -0.0331, -0.0266,\n",
       "         -0.0095,  0.0016,  0.1394, -0.0585,  0.0574,  0.0096,  0.0358,  0.0660],\n",
       "        requires_grad=True),\n",
       " Parameter containing:\n",
       " tensor([-0.0286, -0.0477, -0.0347, -0.1030, -0.0328, -0.0366, -0.0817, -0.0706,\n",
       "         -0.0959, -0.0247, -0.0930, -0.0551, -0.0986, -0.0993, -0.0894, -0.1234,\n",
       "         -0.0446, -0.1054, -0.0977, -0.1190, -0.0659,  0.0396, -0.1054, -0.0824,\n",
       "         -0.0171,  0.0111,  0.0746,  0.0743, -0.0017, -0.0639, -0.0630,  0.0326,\n",
       "          0.0778,  0.0183, -0.0861,  0.0614,  0.0374, -0.0022, -0.0498,  0.1043,\n",
       "         -0.0305,  0.0794,  0.0552,  0.0895,  0.1611,  0.0465,  0.0961,  0.1108,\n",
       "          0.0960,  0.1082,  0.0743,  0.0185,  0.1011,  0.0836,  0.0869,  0.1342,\n",
       "          0.0945,  0.0607,  0.0992,  0.1024,  0.0594,  0.0985,  0.1011,  0.0931],\n",
       "        requires_grad=True),\n",
       " Parameter containing:\n",
       " tensor([ 0.0109,  0.0989,  0.0093, -0.0273,  0.0295, -0.0085,  0.0677, -0.0274,\n",
       "          0.0816,  0.0074, -0.0947, -0.0288,  0.0226, -0.0133, -0.0068, -0.0453,\n",
       "         -0.0279, -0.0137,  0.0399,  0.0792, -0.0237, -0.0041,  0.0644,  0.0866,\n",
       "         -0.0113,  0.0154, -0.0622,  0.0243, -0.0409,  0.0387, -0.0233, -0.0220,\n",
       "          0.0734, -0.0333,  0.1147, -0.0538, -0.0604,  0.0382, -0.0610,  0.0045,\n",
       "          0.0357, -0.0634, -0.0411,  0.0903, -0.0839,  0.0956,  0.0394, -0.0719,\n",
       "         -0.0499,  0.0960, -0.0756,  0.0855,  0.0367, -0.0368, -0.0157,  0.0545,\n",
       "         -0.0131, -0.0812, -0.0562, -0.0130, -0.0750, -0.0211,  0.0770, -0.0019],\n",
       "        requires_grad=True),\n",
       " Parameter containing:\n",
       " tensor([[ 0.2335, -0.0545, -0.0926,  ...,  0.0888,  0.1190, -0.0943],\n",
       "         [ 0.0592,  0.2612,  0.0869,  ..., -0.0022,  0.1142, -0.0301],\n",
       "         [-0.1932, -0.0732, -0.0828,  ...,  0.0306,  0.1143, -0.0499],\n",
       "         ...,\n",
       "         [ 0.0933,  0.0914, -0.1479,  ..., -0.1027, -0.1026, -0.0434],\n",
       "         [ 0.0657,  0.1068,  0.0195,  ...,  0.0894, -0.0973, -0.0349],\n",
       "         [ 0.1669, -0.0221, -0.0481,  ..., -0.1085, -0.0557,  0.1024]],\n",
       "        requires_grad=True),\n",
       " Parameter containing:\n",
       " tensor([ 8.7975e-02, -1.8015e-02, -1.7705e-02,  2.0464e-01,  1.6337e-01,\n",
       "          2.9809e-02,  5.1564e-02,  2.3090e-01,  7.2870e-02,  1.5516e-01,\n",
       "         -3.0188e-03,  2.2316e-02,  7.3010e-02,  1.6132e-03,  2.0581e-01,\n",
       "         -3.0028e-02,  8.4957e-02,  6.7014e-02,  1.3292e-01,  7.1062e-02,\n",
       "          3.5511e-02, -2.7135e-02,  1.5790e-01,  4.7160e-02,  5.4241e-02,\n",
       "         -4.1238e-02, -1.3898e-01,  1.1190e-02,  1.0243e-01,  1.3285e-01,\n",
       "          3.5866e-02,  1.7591e-02,  2.1474e-01, -5.0756e-02,  4.2854e-02,\n",
       "          1.0237e-01, -7.8557e-02, -7.1525e-03, -1.3825e-02,  1.3678e-01,\n",
       "          5.4153e-02, -5.3322e-02,  9.1260e-02, -1.5675e-04,  7.6820e-02,\n",
       "          8.3263e-02,  6.9100e-02, -2.5773e-02,  9.5696e-02, -6.1261e-02,\n",
       "          1.7664e-01, -9.3473e-03,  4.0480e-03, -2.1860e-02,  3.7038e-02,\n",
       "         -1.0466e-01, -2.9758e-02,  3.9264e-02,  1.8156e-01,  1.7175e-01,\n",
       "         -3.6813e-02,  9.5580e-02,  1.4662e-01, -5.7954e-02],\n",
       "        requires_grad=True),\n",
       " Parameter containing:\n",
       " tensor([[-0.1637,  0.1191,  0.0652,  ...,  0.0354,  0.1232, -0.1151],\n",
       "         [-0.0221,  0.2564,  0.1051,  ..., -0.1149, -0.1218, -0.0223],\n",
       "         [ 0.2356,  0.1647, -0.1611,  ..., -0.0937, -0.0047,  0.1117],\n",
       "         ...,\n",
       "         [-0.0227, -0.1594, -0.0714,  ...,  0.1852,  0.0982,  0.0725],\n",
       "         [ 0.0599,  0.1105,  0.0596,  ...,  0.2190, -0.1540, -0.0863],\n",
       "         [-0.1414,  0.1013, -0.0295,  ..., -0.0050, -0.0774, -0.2009]],\n",
       "        requires_grad=True),\n",
       " Parameter containing:\n",
       " tensor([ 0.1651,  0.0184, -0.0024, -0.0375, -0.0600, -0.0558,  0.1460,  0.1203,\n",
       "         -0.1054,  0.1436, -0.0018,  0.1348,  0.0463,  0.1115, -0.0032,  0.1153,\n",
       "          0.1335, -0.0387, -0.0225,  0.1924, -0.0145,  0.2143,  0.0686,  0.1512,\n",
       "          0.0445,  0.0512, -0.0184, -0.0237, -0.0279, -0.0086,  0.1198, -0.0237,\n",
       "         -0.0256, -0.0906,  0.0124,  0.0367, -0.0244,  0.0568,  0.0405,  0.0330,\n",
       "          0.0071,  0.1079,  0.0979, -0.0655,  0.1139,  0.0722, -0.0920, -0.0903,\n",
       "          0.1550, -0.0782,  0.1056,  0.0076,  0.0318,  0.0251, -0.0428, -0.0651,\n",
       "          0.0631, -0.0007,  0.1129, -0.0123,  0.1248,  0.1416,  0.1195,  0.1830],\n",
       "        requires_grad=True),\n",
       " Parameter containing:\n",
       " tensor([[-0.0820, -0.1087, -0.0376,  ...,  0.0368, -0.0781,  0.0976],\n",
       "         [-0.1885, -0.0544, -0.0259,  ..., -0.0887, -0.0082, -0.1450],\n",
       "         [ 0.1604, -0.0549, -0.0596,  ...,  0.0954, -0.0331,  0.1202],\n",
       "         ...,\n",
       "         [-0.1003, -0.0114, -0.0286,  ...,  0.0602,  0.0774, -0.1098],\n",
       "         [ 0.0661, -0.1485, -0.1500,  ..., -0.0619, -0.0406,  0.0993],\n",
       "         [ 0.0528, -0.0287,  0.0526,  ..., -0.0907,  0.1836,  0.1608]],\n",
       "        requires_grad=True),\n",
       " Parameter containing:\n",
       " tensor([-0.0240, -0.0247, -0.0358, -0.1139, -0.1087, -0.0165, -0.0399, -0.2341,\n",
       "          0.0405, -0.0109, -0.1450, -0.0964, -0.0007,  0.0736, -0.0866, -0.1494,\n",
       "         -0.0444, -0.1677, -0.1697, -0.0296,  0.1511,  0.0204, -0.0124, -0.1751,\n",
       "          0.1639,  0.0334,  0.0470,  0.0430, -0.0263, -0.2439,  0.0337, -0.0347,\n",
       "         -0.1143,  0.1426, -0.0675,  0.2137, -0.0608,  0.1052,  0.0865,  0.0147,\n",
       "         -0.1576, -0.1380, -0.0865,  0.0523, -0.0664,  0.0288, -0.1043,  0.1026,\n",
       "          0.0265,  0.1267, -0.0343, -0.0337,  0.0586,  0.0247, -0.0256, -0.0918,\n",
       "         -0.0284, -0.1495, -0.0380,  0.0061,  0.0770,  0.0170, -0.1096,  0.0527,\n",
       "         -0.1192,  0.0786,  0.1096,  0.0120,  0.0012, -0.1268,  0.0566,  0.0066,\n",
       "         -0.0316, -0.0855, -0.0335, -0.0175,  0.0385,  0.0127,  0.0427,  0.0543,\n",
       "          0.0142,  0.0506,  0.1187, -0.1505,  0.2217,  0.0674, -0.1106, -0.1324,\n",
       "          0.1758, -0.0459,  0.0392,  0.1033,  0.1258, -0.1817,  0.0695,  0.0922,\n",
       "          0.0965,  0.0499, -0.0103,  0.1082, -0.1831,  0.1099,  0.0339,  0.0658,\n",
       "          0.0605, -0.0070,  0.0525, -0.1421,  0.0345, -0.1462,  0.0251, -0.0769,\n",
       "         -0.0804, -0.0836, -0.0553, -0.0646, -0.0548,  0.1309,  0.0110,  0.0805,\n",
       "          0.1117,  0.0280,  0.0143,  0.0965,  0.0249, -0.1020,  0.0131,  0.0341],\n",
       "        requires_grad=True),\n",
       " Parameter containing:\n",
       " tensor([-0.0404, -0.0843, -0.0790, -0.0697, -0.0752, -0.1057, -0.0217, -0.0795,\n",
       "         -0.0553, -0.0886, -0.1106, -0.0718, -0.0869, -0.1238, -0.1146, -0.1460,\n",
       "         -0.1249, -0.0826, -0.0255, -0.1700, -0.2020, -0.1125, -0.0552, -0.0521,\n",
       "         -0.1187,  0.0301, -0.0350, -0.0274, -0.0641, -0.1621,  0.0084, -0.0997,\n",
       "          0.0174, -0.1002,  0.0059,  0.0334,  0.1067,  0.1133,  0.1142,  0.0917,\n",
       "          0.0267,  0.1454,  0.1132,  0.1406,  0.0629,  0.1118,  0.0563,  0.1436,\n",
       "          0.0548,  0.1200,  0.0720,  0.1168,  0.0671,  0.0417,  0.1475,  0.1081,\n",
       "          0.1016,  0.0690,  0.0910,  0.1353,  0.1150,  0.1861,  0.1113,  0.1183],\n",
       "        requires_grad=True),\n",
       " Parameter containing:\n",
       " tensor([ 0.0520,  0.0173,  0.0862,  0.0452,  0.0178,  0.0149, -0.0061,  0.0727,\n",
       "         -0.0017,  0.0023, -0.0257, -0.0945, -0.0268,  0.0588,  0.0526, -0.0899,\n",
       "         -0.0115, -0.0672, -0.0160, -0.0138,  0.0871, -0.1254,  0.0456,  0.0642,\n",
       "          0.1106,  0.0894, -0.0177,  0.0093,  0.0343,  0.0273, -0.0273,  0.0749,\n",
       "         -0.0561, -0.0061,  0.0490,  0.0331,  0.0483,  0.0082,  0.0050,  0.0183,\n",
       "          0.0225,  0.0220,  0.0590, -0.0386, -0.0018,  0.0375, -0.0727,  0.0355,\n",
       "         -0.0463,  0.0266,  0.0205, -0.0844, -0.0502,  0.0803,  0.0127,  0.0205,\n",
       "          0.1015,  0.0266,  0.0434, -0.0290, -0.0235,  0.0051, -0.0324,  0.0898],\n",
       "        requires_grad=True),\n",
       " Parameter containing:\n",
       " tensor([[-0.1358, -0.1200, -0.0413,  ...,  0.0646,  0.0762,  0.1059],\n",
       "         [ 0.1731, -0.2121,  0.0400,  ...,  0.0699, -0.0568, -0.1211],\n",
       "         [-0.1056,  0.0604, -0.2453,  ..., -0.1089, -0.1100,  0.0901],\n",
       "         ...,\n",
       "         [ 0.1016,  0.0863, -0.0030,  ..., -0.0704,  0.0638, -0.0948],\n",
       "         [-0.0662, -0.1313, -0.0989,  ...,  0.1070, -0.0970, -0.0970],\n",
       "         [-0.0849, -0.0510,  0.0200,  ..., -0.0192, -0.0249,  0.1194]],\n",
       "        requires_grad=True),\n",
       " Parameter containing:\n",
       " tensor([-0.0632,  0.2433,  0.1562, -0.0223,  0.2023, -0.0190,  0.0713,  0.1632,\n",
       "          0.0773,  0.0849,  0.0618, -0.0199,  0.2004,  0.0920,  0.2017, -0.0012,\n",
       "          0.0855,  0.0205,  0.0892,  0.1242, -0.0242, -0.0620,  0.0342,  0.2330,\n",
       "          0.0629, -0.0355,  0.0829,  0.1277,  0.1402, -0.0361,  0.1298,  0.0265,\n",
       "          0.0608,  0.0611, -0.0087,  0.0520,  0.1632, -0.0445,  0.1308,  0.0767,\n",
       "         -0.0335,  0.0284,  0.1008,  0.0313,  0.1011,  0.0010, -0.1213,  0.1442,\n",
       "          0.1389,  0.1780,  0.0518, -0.0602,  0.0536,  0.1516, -0.0326, -0.0878,\n",
       "         -0.0156, -0.1290,  0.0957,  0.1756, -0.0149,  0.0071, -0.1063,  0.1297],\n",
       "        requires_grad=True),\n",
       " Parameter containing:\n",
       " tensor([[ 2.0968e-01, -7.0412e-02,  1.3602e-02,  ...,  7.4952e-02,\n",
       "          -9.7415e-02,  1.9965e-01],\n",
       "         [-1.1815e-01, -2.0641e-01,  1.1664e-01,  ...,  7.8500e-02,\n",
       "           1.1800e-01, -4.7622e-02],\n",
       "         [-2.6000e-04, -2.2975e-01,  3.2427e-01,  ...,  1.1780e-01,\n",
       "           3.6642e-02,  1.9424e-02],\n",
       "         ...,\n",
       "         [-2.0636e-03,  1.0994e-01, -1.2670e-01,  ...,  1.4436e-01,\n",
       "           7.5068e-02, -1.8860e-01],\n",
       "         [-1.3042e-02,  8.9605e-02,  1.6097e-01,  ...,  3.4720e-02,\n",
       "          -1.2988e-01,  4.0452e-02],\n",
       "         [ 2.3468e-01, -3.0454e-02,  1.6137e-02,  ..., -5.6314e-02,\n",
       "          -7.2019e-02,  2.4078e-01]], requires_grad=True),\n",
       " Parameter containing:\n",
       " tensor([ 3.2643e-02, -8.9391e-02,  5.2820e-02, -1.0145e-01,  1.3987e-01,\n",
       "          1.8650e-02,  1.4680e-01,  1.2418e-01,  1.8717e-01, -5.3445e-02,\n",
       "          4.2720e-02,  2.7692e-02,  7.6365e-02,  2.1085e-01, -1.2157e-01,\n",
       "          1.1930e-02,  8.5208e-02,  2.3767e-01,  1.6104e-01, -2.2518e-01,\n",
       "         -3.4982e-02,  6.5878e-02,  7.4879e-02, -9.4050e-02,  1.2574e-01,\n",
       "         -4.4846e-02,  1.5168e-01,  2.0111e-01,  1.6260e-01,  3.7478e-02,\n",
       "          1.7376e-01,  8.6942e-02,  1.2907e-02,  6.8298e-02,  5.5158e-03,\n",
       "         -1.1015e-01,  5.3281e-02, -5.3651e-03, -6.0659e-02,  1.3960e-01,\n",
       "          5.4615e-02, -5.4936e-02, -2.3798e-02,  1.0824e-01,  1.1609e-01,\n",
       "         -1.2176e-03, -7.1205e-03,  6.5871e-02, -6.9179e-02, -1.4378e-04,\n",
       "          1.9565e-02, -1.1141e-01,  1.3301e-01, -2.2792e-02, -3.4237e-03,\n",
       "          1.6111e-01, -1.4078e-01,  1.7426e-01,  1.0795e-01,  7.3325e-02,\n",
       "          1.0482e-01,  2.1501e-02, -5.8415e-02, -1.8796e-01],\n",
       "        requires_grad=True),\n",
       " Parameter containing:\n",
       " tensor([[ 0.0589,  0.0141,  0.1161,  ..., -0.0437, -0.1238,  0.1208],\n",
       "         [-0.1222, -0.0400,  0.1050,  ...,  0.1241, -0.0377, -0.0125],\n",
       "         [ 0.1283, -0.0023, -0.0924,  ..., -0.0380, -0.0771,  0.1166],\n",
       "         ...,\n",
       "         [-0.0748,  0.0523,  0.0731,  ...,  0.1126, -0.0781,  0.1379],\n",
       "         [ 0.1437, -0.1232,  0.0528,  ...,  0.0562,  0.1074, -0.0101],\n",
       "         [-0.0783,  0.1421,  0.0443,  ...,  0.0254,  0.1872,  0.0577]],\n",
       "        requires_grad=True),\n",
       " Parameter containing:\n",
       " tensor([ 7.2571e-02, -1.5000e-02, -9.0735e-02, -8.5974e-03, -1.8953e-01,\n",
       "          2.5240e-05, -7.5267e-02, -2.0067e-01, -2.0757e-01,  7.0633e-02,\n",
       "         -1.5017e-01,  2.0105e-01, -9.8375e-02,  2.4940e-01, -3.3589e-02,\n",
       "          2.7358e-01, -1.1164e-01, -1.5135e-02,  2.9930e-02,  2.7461e-02,\n",
       "          7.3267e-02, -1.7149e-01,  9.8820e-02,  3.2204e-02, -1.9284e-02,\n",
       "          1.2062e-01,  1.3660e-01, -1.2183e-01, -8.2010e-02, -9.9184e-03,\n",
       "          7.4876e-02, -3.4154e-03, -1.9768e-01, -4.7977e-02, -1.0469e-01,\n",
       "         -1.4307e-01, -4.8829e-02, -1.2352e-01, -2.2467e-01, -6.3972e-02,\n",
       "         -6.7268e-02,  1.0170e-01,  1.7418e-01, -1.5636e-01,  6.6371e-02,\n",
       "         -2.6797e-02,  1.8257e-01,  8.9061e-02,  1.7393e-01, -1.1032e-02,\n",
       "          1.9954e-02, -7.2702e-02, -1.8554e-02, -6.8732e-02, -9.2282e-02,\n",
       "          7.3064e-02, -2.4092e-02,  2.2560e-02, -1.0194e-01, -4.2411e-02,\n",
       "         -4.2800e-02, -1.9513e-01,  6.8743e-04, -4.0952e-02,  7.0913e-02,\n",
       "          1.4799e-01, -7.5972e-03, -1.8274e-02,  7.0731e-03,  1.3265e-01,\n",
       "         -3.2054e-02,  4.1801e-02, -3.3613e-02, -1.2481e-01, -2.4216e-02,\n",
       "          2.2261e-02,  7.9189e-02,  8.7415e-02, -1.5196e-01, -2.2220e-01,\n",
       "          5.6082e-02, -6.7777e-02,  1.0550e-02, -4.7037e-02,  6.0318e-02,\n",
       "          1.2543e-04, -8.8297e-03, -1.6259e-01,  3.8905e-02, -6.6388e-02,\n",
       "          2.6478e-02, -6.5573e-02, -2.1199e-01, -5.4561e-02,  4.9456e-02,\n",
       "          6.8313e-02,  3.5025e-02, -1.4294e-02,  1.2237e-01, -6.0217e-02,\n",
       "          1.5316e-01,  1.7072e-02,  4.9167e-02, -1.1453e-01,  8.8959e-02,\n",
       "         -5.2753e-02, -1.9979e-02,  1.2008e-01,  1.5042e-01, -8.8107e-02,\n",
       "          2.3119e-01,  4.3411e-02, -1.1367e-02,  1.5855e-01, -4.0055e-02,\n",
       "         -7.2531e-02,  2.2327e-01,  1.3367e-01, -4.7934e-02,  4.4989e-02,\n",
       "         -3.3874e-02, -3.2877e-02, -7.8222e-03, -3.8649e-02, -2.3725e-02,\n",
       "          3.1116e-02,  6.2621e-02, -1.1582e-01], requires_grad=True),\n",
       " Parameter containing:\n",
       " tensor([-0.0854, -0.0681, -0.0447, -0.0898, -0.0959, -0.0997, -0.0741, -0.1620,\n",
       "         -0.0266, -0.0853, -0.0848, -0.1444, -0.0855, -0.1164,  0.0017, -0.1234,\n",
       "         -0.1365, -0.0498, -0.0964, -0.1089, -0.1332, -0.0544, -0.0520, -0.0042,\n",
       "         -0.0807, -0.1249, -0.0792, -0.0027,  0.0902, -0.0526,  0.0264, -0.0687,\n",
       "          0.0994,  0.0011,  0.1104,  0.0100,  0.0808,  0.0683,  0.1108,  0.1584,\n",
       "          0.1135,  0.1166, -0.0198,  0.0628,  0.0960,  0.1107,  0.1360,  0.1004,\n",
       "          0.1366,  0.1733,  0.1635,  0.1492,  0.1565,  0.1240,  0.1642,  0.1520,\n",
       "          0.1653,  0.1422,  0.1149,  0.1799,  0.1314,  0.0712,  0.1448,  0.1167],\n",
       "        requires_grad=True),\n",
       " Parameter containing:\n",
       " tensor([ 0.0721,  0.0555,  0.0588,  0.0336,  0.0772, -0.0279,  0.0939,  0.1108,\n",
       "         -0.0357, -0.0575,  0.0235,  0.0260,  0.0510, -0.0829, -0.0301, -0.0768,\n",
       "          0.0478,  0.0464, -0.0157, -0.0499,  0.0298, -0.1086,  0.1070,  0.0531,\n",
       "          0.0050, -0.0745,  0.0830, -0.1019,  0.1382,  0.0365,  0.0351, -0.0341,\n",
       "         -0.0278,  0.1614,  0.1942, -0.0129,  0.0840,  0.0573,  0.1365,  0.0118,\n",
       "          0.1270,  0.1352,  0.0706,  0.0602, -0.1495, -0.0237, -0.0484, -0.1642,\n",
       "          0.0945,  0.1124, -0.0235,  0.0704,  0.1019,  0.1005, -0.0877, -0.0802,\n",
       "          0.1332, -0.0446, -0.0150,  0.1245, -0.0778,  0.1563,  0.0233, -0.1019],\n",
       "        requires_grad=True),\n",
       " Parameter containing:\n",
       " tensor([[-0.3314, -0.0241,  0.0238,  ...,  0.1001,  0.0983,  0.0433],\n",
       "         [-0.1420, -0.0432, -0.0206,  ...,  0.1094, -0.1020, -0.1223],\n",
       "         [-0.0305, -0.3737,  0.0324,  ..., -0.0664, -0.0637, -0.0722],\n",
       "         ...,\n",
       "         [ 0.0670,  0.0823,  0.0784,  ...,  0.0083, -0.0915,  0.0936],\n",
       "         [-0.0459, -0.1345, -0.0983,  ..., -0.1582,  0.0787, -0.0452],\n",
       "         [ 0.0853, -0.1152,  0.0223,  ...,  0.0586, -0.0076, -0.0069]],\n",
       "        requires_grad=True),\n",
       " Parameter containing:\n",
       " tensor([ 0.0629,  0.0921,  0.0970,  0.1105,  0.1228,  0.2322,  0.2219, -0.0723,\n",
       "          0.0338,  0.1261,  0.1822,  0.0850,  0.0990,  0.2098,  0.1887,  0.1015,\n",
       "          0.1432,  0.1214,  0.2835,  0.1179,  0.0076,  0.0602,  0.1064,  0.0854,\n",
       "         -0.0388,  0.1924,  0.0008,  0.0537,  0.0025,  0.2708,  0.1920,  0.0649,\n",
       "         -0.0223,  0.1723,  0.0114,  0.0140,  0.1079,  0.1149,  0.0444,  0.1623,\n",
       "          0.1672,  0.1528,  0.0322,  0.0108,  0.1197, -0.0095,  0.0553, -0.0704,\n",
       "          0.0648,  0.0503, -0.0610,  0.0017,  0.0585, -0.0675,  0.0872,  0.1000,\n",
       "          0.1031,  0.0265,  0.1903,  0.0702,  0.0163,  0.0413,  0.1100,  0.2268],\n",
       "        requires_grad=True),\n",
       " Parameter containing:\n",
       " tensor([[ 0.2192,  0.0403, -0.1139,  ...,  0.1205, -0.0830, -0.1679],\n",
       "         [ 0.1307,  0.1203, -0.1223,  ..., -0.0484,  0.0125, -0.2461],\n",
       "         [ 0.0932,  0.1949,  0.1700,  ..., -0.1186, -0.1116, -0.1403],\n",
       "         ...,\n",
       "         [-0.1258, -0.0459,  0.0435,  ...,  0.0413, -0.0762, -0.0171],\n",
       "         [ 0.0411, -0.0491,  0.0126,  ...,  0.1833, -0.1047,  0.1338],\n",
       "         [ 0.3660,  0.0533, -0.1116,  ...,  0.0203,  0.1052, -0.0035]],\n",
       "        requires_grad=True),\n",
       " Parameter containing:\n",
       " tensor([ 0.0247, -0.1506,  0.1255,  0.1031,  0.1383,  0.1868,  0.1471,  0.1938,\n",
       "         -0.0691,  0.1026, -0.1373,  0.0918,  0.1904,  0.0652, -0.0698,  0.2194,\n",
       "         -0.0590,  0.1891,  0.0855,  0.1388,  0.1175,  0.1904,  0.0165,  0.0279,\n",
       "          0.1595,  0.0905, -0.1113,  0.1089,  0.1863,  0.0382, -0.0402,  0.1910,\n",
       "          0.0983,  0.0874,  0.1284,  0.0594,  0.0088, -0.0134,  0.0272,  0.1808,\n",
       "          0.1925,  0.0801,  0.0293,  0.0517,  0.0343,  0.0314, -0.0875, -0.0606,\n",
       "         -0.0198, -0.0091, -0.0482,  0.0579, -0.0639,  0.0309,  0.0223,  0.1259,\n",
       "          0.0162,  0.1222, -0.0440,  0.0678,  0.1877,  0.0558,  0.1475,  0.0178],\n",
       "        requires_grad=True),\n",
       " Parameter containing:\n",
       " tensor([[ 0.1162,  0.1116,  0.0470,  ...,  0.0218,  0.1144, -0.1031],\n",
       "         [-0.1602,  0.1233, -0.0107,  ..., -0.0624, -0.0677, -0.0500],\n",
       "         [ 0.0054, -0.0098, -0.0418,  ...,  0.0825, -0.0601,  0.0050],\n",
       "         ...,\n",
       "         [-0.0177, -0.0073, -0.0652,  ...,  0.0481,  0.0275, -0.0674],\n",
       "         [-0.1685, -0.1040,  0.0601,  ..., -0.0212,  0.0109, -0.1652],\n",
       "         [ 0.1372,  0.0924,  0.1048,  ..., -0.1282, -0.0785,  0.0269]],\n",
       "        requires_grad=True),\n",
       " Parameter containing:\n",
       " tensor([ 0.0215,  0.2367, -0.0580, -0.1812,  0.0824, -0.1223,  0.1240,  0.0399,\n",
       "          0.0822,  0.0899, -0.1238, -0.1563, -0.0364, -0.1238,  0.0929, -0.1179,\n",
       "          0.0170,  0.0199, -0.0523,  0.1393, -0.0492, -0.0190,  0.1859,  0.2022,\n",
       "         -0.0456,  0.1070, -0.0853, -0.1574,  0.0621, -0.1795, -0.1558,  0.1182,\n",
       "          0.0624,  0.0651, -0.0583, -0.1228,  0.1672, -0.1261,  0.0868, -0.1052,\n",
       "          0.0650, -0.0977,  0.0553, -0.0092,  0.0540, -0.0989, -0.1013, -0.1256,\n",
       "          0.0298,  0.1203,  0.0945, -0.0521, -0.0203,  0.0633,  0.0984, -0.0116,\n",
       "         -0.1824, -0.2094,  0.0758,  0.0136,  0.0239, -0.0288, -0.1131, -0.1356,\n",
       "          0.1418, -0.0286,  0.0474, -0.0059, -0.0614,  0.0411, -0.1513,  0.0805,\n",
       "         -0.0105, -0.0479, -0.0292, -0.0107, -0.1164, -0.0634,  0.0269, -0.1095,\n",
       "          0.0441,  0.0539, -0.0929,  0.0789,  0.1531,  0.0403,  0.1582, -0.0162,\n",
       "         -0.1509, -0.1039,  0.1980, -0.0559,  0.1556,  0.0855, -0.0509,  0.0804,\n",
       "          0.0628,  0.0378,  0.0525,  0.2148, -0.1207, -0.0291,  0.2248,  0.0525,\n",
       "          0.1323,  0.1365,  0.1936,  0.0452,  0.2321,  0.1058,  0.0168, -0.1226,\n",
       "          0.1234,  0.0505,  0.0826, -0.0204,  0.0561,  0.0458,  0.0650,  0.0437,\n",
       "         -0.0476, -0.0783, -0.0582,  0.0564, -0.0186,  0.0282,  0.0855,  0.0120],\n",
       "        requires_grad=True),\n",
       " Parameter containing:\n",
       " tensor([-0.0695, -0.0481, -0.0548, -0.0627, -0.1266, -0.0592, -0.1071, -0.0735,\n",
       "         -0.0894, -0.1809, -0.1740, -0.1494, -0.0845, -0.1784, -0.2132, -0.1073,\n",
       "         -0.1282, -0.1207,  0.0575, -0.0948, -0.1258, -0.1732, -0.0052, -0.0734,\n",
       "         -0.1511, -0.0237,  0.0180,  0.0463, -0.1590,  0.0067, -0.0067,  0.0641,\n",
       "         -0.0426, -0.0769, -0.0592,  0.0465,  0.1237,  0.0865,  0.1262,  0.1048,\n",
       "          0.1579,  0.1510,  0.1608,  0.2130,  0.1137,  0.0208,  0.1069,  0.1641,\n",
       "          0.1841,  0.1400,  0.1962,  0.2044,  0.1709,  0.1866,  0.1535,  0.2000,\n",
       "          0.1442,  0.1803,  0.1597,  0.1889,  0.2509,  0.2471,  0.2945,  0.2225],\n",
       "        requires_grad=True),\n",
       " Parameter containing:\n",
       " tensor([-7.3936e-02,  7.1717e-02, -5.4350e-02, -3.2155e-03, -2.8214e-02,\n",
       "          2.6346e-02,  2.6146e-02,  9.3110e-02, -2.9310e-03,  2.6481e-02,\n",
       "         -1.7801e-01, -5.1838e-02, -7.3938e-02,  9.1163e-02,  2.4960e-02,\n",
       "         -2.9138e-03, -8.1757e-02, -1.3437e-01, -5.5497e-02,  8.6789e-02,\n",
       "         -1.4516e-01,  5.1450e-02, -6.2581e-02, -9.0478e-05,  1.0802e-01,\n",
       "         -4.9296e-02, -6.3797e-02, -4.2161e-03,  1.2630e-01, -4.6119e-02,\n",
       "         -1.9919e-01,  8.6554e-03, -1.2721e-02,  3.3113e-02, -1.2936e-03,\n",
       "         -1.2087e-01, -3.0558e-02, -5.4395e-02, -5.1330e-02,  1.0991e-01,\n",
       "         -5.0734e-02,  2.5921e-02,  8.4741e-02,  6.1936e-03, -9.3337e-02,\n",
       "          1.3154e-01, -2.9088e-03, -4.1459e-02,  6.9038e-02,  1.0546e-01,\n",
       "          9.0863e-02,  1.6324e-01,  1.1075e-01, -1.0448e-01,  9.8613e-02,\n",
       "         -1.7111e-02, -8.6118e-02, -7.6019e-02,  9.2192e-02, -2.9302e-02,\n",
       "          1.2863e-01,  1.4265e-01,  3.8693e-02,  1.6878e-01],\n",
       "        requires_grad=True),\n",
       " Parameter containing:\n",
       " tensor([[ 1.9973e-01,  8.4140e-02, -7.4506e-02,  ..., -1.1556e-01,\n",
       "          -8.4256e-02,  7.9183e-02],\n",
       "         [ 3.0959e-02, -8.7609e-02,  7.6637e-02,  ...,  1.0054e-01,\n",
       "           3.0708e-02,  1.1356e-02],\n",
       "         [ 3.1941e-01, -1.3481e-01,  2.6867e-01,  ...,  5.8357e-02,\n",
       "          -1.5236e-03, -1.1983e-01],\n",
       "         ...,\n",
       "         [-7.7980e-03, -1.4669e-04,  9.5309e-02,  ...,  2.5838e-02,\n",
       "           1.1981e-01, -3.8882e-02],\n",
       "         [ 1.1036e-01,  9.3960e-02, -5.6162e-02,  ..., -1.0761e-01,\n",
       "          -2.9647e-01, -4.1012e-02],\n",
       "         [ 2.7789e-01,  1.0291e-01, -2.6580e-02,  ...,  3.9294e-02,\n",
       "          -1.1661e-01, -5.5021e-02]], requires_grad=True),\n",
       " Parameter containing:\n",
       " tensor([ 0.2215, -0.0681,  0.2229,  0.3056,  0.0133,  0.0824,  0.0406,  0.1722,\n",
       "          0.0688,  0.0435,  0.0708,  0.0569,  0.0879,  0.1734,  0.1199,  0.2597,\n",
       "          0.1777,  0.1276, -0.0257,  0.1479,  0.0515,  0.1474,  0.0047,  0.1064,\n",
       "          0.0406, -0.0375,  0.0882,  0.0590,  0.1170,  0.1221,  0.0471,  0.2478,\n",
       "          0.0724,  0.0276,  0.1778,  0.2090,  0.0971,  0.0573,  0.1294,  0.1202,\n",
       "          0.1913,  0.2059,  0.1214,  0.0850,  0.0440,  0.0393,  0.1352,  0.0395,\n",
       "          0.0463,  0.1270,  0.1103,  0.0116,  0.1925,  0.0613, -0.0311,  0.1022,\n",
       "          0.0598, -0.0635, -0.0474, -0.0300,  0.0770,  0.0431, -0.0124,  0.1242],\n",
       "        requires_grad=True),\n",
       " Parameter containing:\n",
       " tensor([[-0.1856, -0.0469,  0.0573,  ..., -0.0708,  0.1141, -0.2385],\n",
       "         [-0.2524,  0.0233, -0.1075,  ..., -0.0638,  0.0967, -0.2851],\n",
       "         [ 0.1703, -0.1698, -0.1886,  ...,  0.0934, -0.1028,  0.1551],\n",
       "         ...,\n",
       "         [-0.0252, -0.0226,  0.0511,  ...,  0.1380, -0.0299,  0.0134],\n",
       "         [ 0.0591, -0.0049,  0.0847,  ...,  0.0429, -0.1013, -0.1266],\n",
       "         [-0.3059,  0.0523,  0.0257,  ..., -0.0242, -0.0094, -0.1178]],\n",
       "        requires_grad=True),\n",
       " Parameter containing:\n",
       " tensor([ 0.2389, -0.3014,  0.3079, -0.0217,  0.3153,  0.1281, -0.0024, -0.0848,\n",
       "          0.1403,  0.0251,  0.0705, -0.1131, -0.0358,  0.0750,  0.2343,  0.0416,\n",
       "          0.0283,  0.1958,  0.2253, -0.0484,  0.1097,  0.1342, -0.0379,  0.0883,\n",
       "          0.0144,  0.1257,  0.1125,  0.0645, -0.1687,  0.0846,  0.1191, -0.0144,\n",
       "         -0.1022,  0.1380,  0.0300, -0.0739,  0.1732, -0.0688, -0.0289,  0.0101,\n",
       "          0.1218,  0.0130,  0.0570,  0.0362,  0.1860,  0.0791,  0.0583,  0.0158,\n",
       "          0.1804,  0.0793,  0.1582,  0.1328,  0.0772,  0.0765,  0.0687,  0.0815,\n",
       "          0.0469, -0.0362,  0.1049,  0.1570, -0.0134, -0.0779,  0.1318,  0.3219],\n",
       "        requires_grad=True),\n",
       " Parameter containing:\n",
       " tensor([[-0.0772, -0.0243,  0.0913,  ..., -0.0041, -0.0788,  0.0578],\n",
       "         [-0.2011, -0.0173, -0.0667,  ..., -0.0973, -0.0543, -0.1072],\n",
       "         [ 0.0342, -0.0879, -0.0993,  ...,  0.1146,  0.1057, -0.1373],\n",
       "         ...,\n",
       "         [ 0.0954,  0.0366, -0.0252,  ...,  0.1116, -0.1041, -0.0017],\n",
       "         [ 0.0279,  0.1858, -0.1749,  ..., -0.0570,  0.1147,  0.0130],\n",
       "         [-0.2289,  0.1586, -0.1169,  ...,  0.0435,  0.1472, -0.1876]],\n",
       "        requires_grad=True),\n",
       " Parameter containing:\n",
       " tensor([ 7.5318e-02,  4.6887e-03,  3.0921e-02,  1.4331e-01,  8.0427e-02,\n",
       "          7.1001e-02, -1.1745e-01, -1.2539e-02,  1.4743e-02,  8.2774e-02,\n",
       "         -2.2991e-01,  1.4382e-01, -8.3938e-03, -1.9229e-01, -1.1114e-02,\n",
       "         -2.8500e-01, -1.7028e-01, -2.1037e-01,  1.9914e-02,  1.2346e-01,\n",
       "          5.5261e-02, -8.4541e-02,  2.2161e-04,  1.7637e-02,  1.5967e-01,\n",
       "         -2.2684e-01, -5.5899e-02, -4.6524e-02,  1.5628e-02, -1.3753e-01,\n",
       "          9.2006e-02, -2.0527e-01, -1.2557e-01,  2.8145e-01,  1.0093e-01,\n",
       "         -3.1142e-02,  1.7075e-01,  2.0575e-01,  2.6554e-02, -1.2859e-01,\n",
       "         -3.5002e-02,  9.1131e-02, -7.5869e-03,  1.9991e-01, -6.0588e-02,\n",
       "          1.4803e-02,  2.1776e-01, -4.1111e-02, -8.6060e-02,  1.9879e-02,\n",
       "         -1.6193e-02,  1.8893e-01,  9.2123e-02,  9.2878e-02, -1.5851e-02,\n",
       "         -3.7615e-02, -1.8355e-01, -1.2614e-01,  6.3684e-02,  1.3440e-01,\n",
       "         -1.0684e-01,  6.3378e-03, -7.2169e-02,  9.2533e-02,  9.7522e-02,\n",
       "         -2.2466e-02, -3.0062e-02,  1.8802e-01,  5.7037e-02, -2.3194e-02,\n",
       "          6.3172e-02, -3.4155e-01,  2.7494e-01, -6.2068e-03,  5.1352e-02,\n",
       "         -3.1084e-02, -4.0048e-02, -1.9694e-01,  8.0729e-02,  1.4477e-02,\n",
       "          2.9523e-01, -1.9188e-01,  1.0387e-01,  1.0532e-01, -3.9155e-02,\n",
       "         -1.5342e-01, -1.1548e-01,  1.1266e-02, -5.0026e-01,  1.2284e-01,\n",
       "          1.1816e-01,  2.8702e-01,  4.8398e-02,  3.4390e-02,  3.8959e-02,\n",
       "         -1.5934e-02,  2.7220e-01,  3.7662e-01,  1.9867e-01,  1.8333e-01,\n",
       "          5.2283e-01,  3.1972e-01,  2.4333e-01,  1.9351e-01,  1.3140e-01,\n",
       "          2.5548e-02,  6.6737e-02,  9.7039e-03,  2.7978e-01,  1.7534e-01,\n",
       "          4.6558e-02,  3.9625e-01,  1.4784e-01,  1.6714e-01,  8.6178e-02,\n",
       "         -1.3399e-01, -2.6132e-01,  1.1021e-01,  9.6378e-02, -1.0123e-01,\n",
       "         -1.9900e-02, -2.5096e-02,  1.0251e-01, -2.3306e-02, -2.4308e-02,\n",
       "          1.3008e-02, -3.5222e-02, -1.2905e-01], requires_grad=True),\n",
       " Parameter containing:\n",
       " tensor([-0.0375, -0.0866, -0.1099, -0.3609, -0.0659, -0.0510, -0.0610, -0.1771,\n",
       "         -0.2196, -0.0731, -0.0735, -0.1289, -0.0494, -0.0127, -0.1674, -0.1074,\n",
       "         -0.0882, -0.1853, -0.1021, -0.1213, -0.2735, -0.0949, -0.1583, -0.1689,\n",
       "         -0.0194, -0.1216, -0.1018, -0.0849, -0.0888,  0.0318, -0.0924, -0.1138,\n",
       "         -0.0990, -0.1552,  0.0738, -0.1870, -0.0342,  0.0117,  0.1330,  0.0755,\n",
       "          0.0127,  0.2145,  0.0576,  0.2383,  0.1368,  0.2636,  0.1978,  0.2617,\n",
       "          0.1726,  0.1480,  0.3150, -0.1391,  0.2197,  0.2222,  0.2438,  0.2875,\n",
       "          0.2417,  0.2934,  0.2769,  0.0411,  0.2643,  0.2767,  0.3117,  0.2339],\n",
       "        requires_grad=True),\n",
       " Parameter containing:\n",
       " tensor([-0.0375,  0.0117, -0.1148,  0.0071, -0.1691, -0.1184, -0.1185,  0.0777,\n",
       "         -0.1017,  0.0109,  0.0798, -0.2091, -0.2170, -0.1349,  0.0635, -0.0427,\n",
       "          0.0796, -0.0336,  0.0685,  0.1662,  0.0690,  0.0441,  0.1453, -0.2995,\n",
       "         -0.1669, -0.0010,  0.1614, -0.1668, -0.0552, -0.1312, -0.1081, -0.2240,\n",
       "         -0.0631, -0.0972, -0.2582, -0.0954, -0.1737,  0.1452,  0.2766, -0.0355,\n",
       "          0.2159, -0.1179,  0.0268,  0.0499, -0.1809,  0.0423,  0.1522, -0.0238,\n",
       "          0.0754,  0.0598, -0.0912, -0.0344,  0.0707, -0.0677,  0.0659, -0.0307,\n",
       "          0.1208,  0.1442, -0.1688,  0.0198, -0.1208,  0.1659,  0.0276,  0.0899],\n",
       "        requires_grad=True),\n",
       " Parameter containing:\n",
       " tensor([[ 0.3829, -0.1134, -0.0642,  ...,  0.1130,  0.0946,  0.0237],\n",
       "         [ 0.1610,  0.3567, -0.0009,  ..., -0.0172, -0.0669,  0.0803],\n",
       "         [ 0.3813, -0.2649, -0.0769,  ..., -0.0184,  0.0422, -0.0923],\n",
       "         ...,\n",
       "         [ 0.1225, -0.0035, -0.0024,  ..., -0.0334,  0.0467, -0.0069],\n",
       "         [-0.0380,  0.0278,  0.0497,  ..., -0.0489,  0.0005,  0.0703],\n",
       "         [-0.3914,  0.0159,  0.0358,  ...,  0.0286,  0.0394, -0.0811]],\n",
       "        requires_grad=True),\n",
       " Parameter containing:\n",
       " tensor([ 1.5500e-01,  2.6320e-01,  4.0682e-01,  2.9225e-01,  4.0301e-01,\n",
       "          1.4448e-01,  2.0292e-01,  3.1439e-01,  1.0920e-01,  1.4906e-01,\n",
       "          8.1410e-02,  2.5538e-01,  2.5198e-01,  1.5062e-01,  2.2835e-01,\n",
       "          1.7389e-01,  1.2053e-01,  1.4323e-01,  3.9566e-01,  1.6694e-01,\n",
       "          1.2694e-01,  1.8693e-01,  2.6207e-01,  2.5562e-02,  2.2214e-01,\n",
       "          2.5731e-01,  6.7085e-02,  4.2310e-02,  7.0671e-02,  4.2181e-02,\n",
       "          9.8845e-02,  8.3915e-02,  1.5153e-01,  1.6003e-01, -1.1303e-02,\n",
       "          1.9308e-01,  1.3729e-01,  1.1893e-01,  1.6160e-02,  1.4140e-01,\n",
       "          2.4402e-01,  9.9944e-02, -3.6216e-02,  4.7566e-02,  1.9080e-01,\n",
       "          7.0375e-02,  2.1997e-01,  1.5845e-01, -7.6740e-02,  1.2636e-01,\n",
       "          1.6842e-01,  1.9947e-01,  3.0340e-05,  2.0294e-01,  2.1811e-01,\n",
       "          5.7308e-02,  4.0632e-02,  5.1830e-02,  5.0330e-03,  2.0881e-01,\n",
       "          6.7076e-02, -5.4399e-02,  1.2887e-01,  6.2119e-01],\n",
       "        requires_grad=True),\n",
       " Parameter containing:\n",
       " tensor([[-0.5734, -0.0585,  0.0503,  ...,  0.0171,  0.0951,  0.1373],\n",
       "         [ 0.2536,  0.5101, -0.0584,  ..., -0.1022,  0.0931, -0.3634],\n",
       "         [ 0.3764,  0.0277,  0.6203,  ...,  0.1159, -0.0340, -0.0681],\n",
       "         ...,\n",
       "         [ 0.1112,  0.1186,  0.0294,  ..., -0.2600, -0.1170, -0.0102],\n",
       "         [-0.2254, -0.1012, -0.1574,  ...,  0.1598, -0.1849,  0.0384],\n",
       "         [-0.3105, -0.1190, -0.0315,  ..., -0.0934, -0.0123,  0.6390]],\n",
       "        requires_grad=True),\n",
       " Parameter containing:\n",
       " tensor([-6.1973e-01,  1.0160e-01,  4.1868e-01, -2.4099e-02,  2.3627e-01,\n",
       "         -6.0635e-02,  2.6392e-02,  5.2117e-02, -3.8556e-02,  1.8100e-01,\n",
       "          3.7386e-01, -1.3063e-01, -4.5876e-02,  4.6116e-02, -3.5701e-03,\n",
       "          2.7088e-01,  2.1798e-01,  2.1620e-01, -4.9167e-02, -3.1652e-02,\n",
       "          2.2379e-02,  1.5755e-01,  6.2922e-02,  9.4857e-02,  1.0273e-01,\n",
       "          3.7835e-01, -4.4889e-02,  2.1144e-01,  8.3673e-02,  1.5120e-02,\n",
       "          4.6806e-02,  4.5533e-02,  1.2754e-02,  3.0721e-01,  9.2952e-02,\n",
       "          1.8087e-01, -2.7894e-02,  1.6610e-01,  1.1514e-01,  2.0230e-01,\n",
       "          5.8012e-02,  6.9289e-03,  1.5981e-01,  7.9694e-02,  1.4874e-01,\n",
       "          5.4670e-02,  1.5908e-01,  2.6107e-03, -3.2657e-05,  1.0618e-01,\n",
       "          8.9090e-02, -4.2648e-02,  6.8083e-02,  6.1767e-02,  1.3608e-01,\n",
       "         -8.4663e-02, -1.3641e-02,  1.1502e-01,  1.3579e-01,  7.1907e-02,\n",
       "          3.9530e-02,  1.8922e-01,  6.4852e-02,  5.4892e-01],\n",
       "        requires_grad=True),\n",
       " Parameter containing:\n",
       " tensor([[-0.0030,  0.0057,  0.0553,  ..., -0.0260,  0.0286, -0.0247],\n",
       "         [-0.9373, -0.1228, -0.0159,  ..., -0.0850,  0.0818,  0.0910],\n",
       "         [ 0.3290, -0.1799, -0.1214,  ...,  0.0889,  0.0252,  0.5230],\n",
       "         ...,\n",
       "         [ 0.0031, -0.0400,  0.1389,  ..., -0.0443,  0.1164, -0.0836],\n",
       "         [ 0.0236,  0.0086, -0.0086,  ..., -0.3141,  0.0510, -0.0354],\n",
       "         [-0.0237, -0.0077,  0.0770,  ...,  0.0939, -0.1328, -0.0728]],\n",
       "        requires_grad=True),\n",
       " Parameter containing:\n",
       " tensor([-0.0916,  0.4616, -0.5446,  0.6353,  0.2665,  0.6672,  0.1687, -1.1965,\n",
       "          0.2497,  0.7107, -0.0124, -0.4647,  0.0197, -0.0564,  0.4451,  0.0897,\n",
       "          0.1715, -0.0659, -0.4264,  0.0556,  0.5740,  0.0721,  0.3552, -0.3114,\n",
       "          0.0923, -0.4092, -0.1237,  0.1801,  0.1879,  0.2596, -0.0483,  0.0202,\n",
       "          0.2662,  0.1313,  0.0254,  0.0455,  0.1675, -0.0913, -0.0256,  0.1967,\n",
       "          0.2065, -0.2452, -0.0916,  0.0200, -0.0418, -0.0853,  0.0915, -0.1356,\n",
       "          0.1670, -0.1332,  0.1528,  0.2313,  0.2811, -0.1546, -0.0314,  0.1307,\n",
       "          0.0446,  0.0112,  0.2280,  0.2400,  0.0648,  0.1644, -0.0820,  0.1212,\n",
       "          0.1422,  1.0428,  0.3454,  0.1643,  0.1230,  0.8721,  1.0059,  0.0605,\n",
       "          1.0516, -0.8695, -0.7726,  0.6805, -0.2115,  0.8298,  0.6268,  0.8462,\n",
       "          0.9987, -0.4280,  0.7199,  0.5401,  0.2791,  0.1347, -0.2468,  0.2966,\n",
       "          0.1750,  0.0169,  0.3026,  0.4356,  0.3516,  0.0417,  0.3539,  0.4639,\n",
       "          0.0688,  0.0557,  0.1953,  0.3076,  0.2696, -0.0268,  0.1884, -0.3144,\n",
       "         -0.0415,  0.0319, -0.1877,  0.0897,  0.0896,  0.0394,  0.3649,  0.1192,\n",
       "          0.2921, -0.0109,  0.2377, -0.0123, -0.2023,  0.2237,  0.0866,  0.0364,\n",
       "          0.1191,  0.1854,  0.0152, -0.0148,  0.1306,  0.0061,  0.0659, -0.1010],\n",
       "        requires_grad=True),\n",
       " Parameter containing:\n",
       " tensor([-2.3413e-01, -1.6047e-01, -2.3155e-01, -1.1807e-01,  3.1918e-01,\n",
       "         -1.6970e-01, -1.1267e-01, -2.5443e-02, -1.0334e-01, -1.0309e-01,\n",
       "          2.0756e-01, -1.6842e-03,  2.9310e-01, -1.1934e-01,  1.9008e-01,\n",
       "         -1.0441e-01,  1.5123e-01, -1.5878e-02,  8.6638e-02,  8.7484e-02,\n",
       "         -4.2823e-02,  4.8098e-01,  2.6182e-01,  3.3050e-02, -2.4012e-02,\n",
       "          2.9866e-01,  2.9544e-02,  1.9036e-01, -6.8377e-02,  1.9965e-02,\n",
       "          1.4979e-01, -3.8348e-02,  2.8567e-02,  1.9318e-01, -2.3200e-02,\n",
       "          3.7427e-01,  3.3725e-01,  2.5383e-02,  1.6961e-04,  4.8257e-01,\n",
       "          2.0455e-01,  1.7120e-01,  2.9062e-01,  9.4164e-02, -4.7032e-02,\n",
       "          3.6968e-01,  6.9546e-02,  1.3284e-02,  1.9018e-01,  7.0946e-02,\n",
       "          2.3663e-01,  2.5182e-01,  4.1816e-01,  1.3208e-01,  3.4143e-01,\n",
       "          2.2616e-01,  3.5968e-01,  2.6847e-01,  2.9115e-01,  2.0487e-01,\n",
       "          2.5454e-01,  1.4763e-01,  1.9072e-01,  9.3569e-02],\n",
       "        requires_grad=True),\n",
       " Parameter containing:\n",
       " tensor([-0.1010, -0.2435, -0.1552, -0.3397, -0.5174, -0.0557, -0.2087, -0.3007,\n",
       "         -0.0455, -0.1424, -0.5673, -0.4357, -0.0532,  0.0195, -0.5242, -0.0821,\n",
       "         -0.5125,  0.0164, -0.4030,  0.4221, -0.1871,  0.0770,  0.0632, -0.3323,\n",
       "          0.0313, -0.1160, -0.2606,  0.4872, -0.2159,  0.1482, -0.3338, -0.2759,\n",
       "         -0.1628,  0.1018, -0.2201,  0.0050,  0.1740,  0.1803, -0.3508, -0.0168,\n",
       "         -0.0745,  0.0037, -0.1654, -0.3985, -0.1544, -0.1874, -0.0152, -0.1485,\n",
       "         -0.3607,  0.3499, -0.1384,  0.1008,  0.0202, -0.1179,  0.0390, -0.2139,\n",
       "         -0.3046,  0.0186,  0.0205, -0.0036,  0.0532,  0.0135, -0.0588, -0.0232],\n",
       "        requires_grad=True)]"
      ]
     },
     "execution_count": 16,
     "metadata": {},
     "output_type": "execute_result"
    }
   ],
   "source": [
    "list(flow.xflow.parameters())"
   ]
  },
  {
   "cell_type": "code",
   "execution_count": 17,
   "id": "9331817b",
   "metadata": {},
   "outputs": [
    {
     "data": {
      "text/plain": [
       "(<Figure size 432x288 with 2 Axes>, <AxesSubplot:>)"
      ]
     },
     "execution_count": 17,
     "metadata": {},
     "output_type": "execute_result"
    },
    {
     "data": {
      "image/png": "[encoded data removed]",
      "text/plain": [
       "<Figure size 432x288 with 2 Axes>"
      ]
     },
     "metadata": {
      "needs_background": "light"
     },
     "output_type": "display_data"
    }
   ],
   "source": [
    "flow = model.normalizing_flow.NormalizingFlow('maf', 10, D, seed=1337, num_hidden=2)\n",
    "flow.fit(x[2*n:], iterations=50)\n",
    "plot.density.plot_density(x[:1], x, flow, y, {i : str(i) for i in range(3)}, \n",
    "                seed=1337, bins=20, levels=20, dimensionality_reduction='pca', num_samples=50000,\n",
    "            sampling_stragey = 'random')"
   ]
  },
  {
   "cell_type": "code",
   "execution_count": 18,
   "id": "3fd969c9",
   "metadata": {},
   "outputs": [],
   "source": [
    "flow2 = model.normalizing_flow.NormalizingFlow('maf', 10, D, seed=1337, num_hidden=2)\n",
    "flow2.fit(x[10:20], iterations=100)"
   ]
  },
  {
   "cell_type": "code",
   "execution_count": 19,
   "id": "18989839",
   "metadata": {},
   "outputs": [
    {
     "data": {
      "text/plain": [
       "(<Figure size 432x288 with 2 Axes>, <AxesSubplot:>)"
      ]
     },
     "execution_count": 19,
     "metadata": {},
     "output_type": "execute_result"
    },
    {
     "data": {
      "image/png": "[encoded data removed]",
      "text/plain": [
       "<Figure size 432x288 with 2 Axes>"
      ]
     },
     "metadata": {
      "needs_background": "light"
     },
     "output_type": "display_data"
    }
   ],
   "source": [
    "plot.density.plot_density(x[:20], x, flow2, y, {i : str(i) for i in range(3)}, \n",
    "                seed=1337, bins=20, levels=20, dimensionality_reduction='pca', num_samples=50000,\n",
    "            sampling_stragey = 'random')"
   ]
  },
  {
   "cell_type": "code",
   "execution_count": 20,
   "id": "a56cc8a0",
   "metadata": {},
   "outputs": [],
   "source": [
    "flow3 = model.normalizing_flow.NormalizingFlow('maf', 10, D, seed=1337, num_hidden=2)\n",
    "flow3.fit(x[10:20], iterations=100)"
   ]
  },
  {
   "cell_type": "code",
   "execution_count": null,
   "id": "0087b534",
   "metadata": {},
   "outputs": [],
   "source": []
  }
 ],
 "metadata": {
  "kernelspec": {
   "display_name": "Python 3",
   "language": "python",
   "name": "python3"
  },
  "language_info": {
   "codemirror_mode": {
    "name": "ipython",
    "version": 3
   },
   "file_extension": ".py",
   "mimetype": "text/x-python",
   "name": "python",
   "nbconvert_exporter": "python",
   "pygments_lexer": "ipython3",
   "version": "3.9.5"
  }
 },
 "nbformat": 4,
 "nbformat_minor": 5
}
