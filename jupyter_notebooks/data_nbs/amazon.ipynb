{
 "cells": [
  {
   "cell_type": "code",
   "execution_count": 1,
   "id": "f82daf74",
   "metadata": {},
   "outputs": [],
   "source": [
    "import numpy as np"
   ]
  },
  {
   "cell_type": "code",
   "execution_count": 4,
   "id": "6fefe675",
   "metadata": {},
   "outputs": [
    {
     "name": "stdout",
     "output_type": "stream",
     "text": [
      "/nfs/homedirs/fuchsgru/MastersThesis\n"
     ]
    }
   ],
   "source": [
    "%cd .."
   ]
  },
  {
   "cell_type": "code",
   "execution_count": 5,
   "id": "3461dd0a",
   "metadata": {},
   "outputs": [],
   "source": [
    "data_computers = np.load('data/raw/amazon_electronics_computers.npz', allow_pickle=True)"
   ]
  },
  {
   "cell_type": "code",
   "execution_count": 7,
   "id": "9fa1fbbf",
   "metadata": {},
   "outputs": [
    {
     "data": {
      "text/plain": [
       "['adj_data',\n",
       " 'adj_indices',\n",
       " 'adj_indptr',\n",
       " 'adj_shape',\n",
       " 'attr_data',\n",
       " 'attr_indices',\n",
       " 'attr_indptr',\n",
       " 'attr_shape',\n",
       " 'labels',\n",
       " 'class_names']"
      ]
     },
     "execution_count": 7,
     "metadata": {},
     "output_type": "execute_result"
    }
   ],
   "source": [
    "list(data_computers.keys())"
   ]
  },
  {
   "cell_type": "code",
   "execution_count": null,
   "id": "31d64672",
   "metadata": {},
   "outputs": [],
   "source": []
  }
 ],
 "metadata": {
  "kernelspec": {
   "display_name": "Python 3",
   "language": "python",
   "name": "python3"
  },
  "language_info": {
   "codemirror_mode": {
    "name": "ipython",
    "version": 3
   },
   "file_extension": ".py",
   "mimetype": "text/x-python",
   "name": "python",
   "nbconvert_exporter": "python",
   "pygments_lexer": "ipython3",
   "version": "3.9.5"
  }
 },
 "nbformat": 4,
 "nbformat_minor": 5
}
