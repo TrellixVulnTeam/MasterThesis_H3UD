{
 "cells": [
  {
   "cell_type": "markdown",
   "id": "769c168e",
   "metadata": {},
   "source": [
    "## Quick and dirty nb to create the ogbn-arxiv dataset with text information"
   ]
  },
  {
   "cell_type": "markdown",
   "id": "8b9290a5",
   "metadata": {},
   "source": [
    "- Download data from: http://snap.stanford.edu/ogb/data/nodeproppred/arxiv.zip to ~/data/ogbn-arxiv\n",
    "- Download text data from: https://snap.stanford.edu/ogb/data/misc/ogbn_arxiv/titleabs.tsv.gz"
   ]
  },
  {
   "cell_type": "code",
   "execution_count": 1,
   "id": "e06b0d2c",
   "metadata": {},
   "outputs": [],
   "source": [
    "import numpy as np\n",
    "import scipy.sparse as sp"
   ]
  },
  {
   "cell_type": "code",
   "execution_count": 4,
   "id": "32e411a7",
   "metadata": {},
   "outputs": [],
   "source": [
    "import gzip\n",
    "import os.path as osp"
   ]
  },
  {
   "cell_type": "code",
   "execution_count": 9,
   "id": "ccac5be9",
   "metadata": {},
   "outputs": [
    {
     "data": {
      "text/plain": [
       "True"
      ]
     },
     "execution_count": 9,
     "metadata": {},
     "output_type": "execute_result"
    }
   ],
   "source": [
    "base_dir = osp.expanduser(osp.join('~', 'data', 'ogbn-arxiv'))\n",
    "osp.exists(base_dir)"
   ]
  },
  {
   "cell_type": "code",
   "execution_count": 84,
   "id": "b9ac770b",
   "metadata": {},
   "outputs": [],
   "source": [
    "with gzip.open(osp.join(base_dir, 'raw', 'edge.csv.gz')) as f:\n",
    "    edges = [list(map(int, line.decode('utf-8').split(','))) for line in f.read().splitlines()]"
   ]
  },
  {
   "cell_type": "code",
   "execution_count": 44,
   "id": "c140bce4",
   "metadata": {},
   "outputs": [],
   "source": [
    "with gzip.open(osp.join(base_dir, 'raw', 'node-label.csv.gz')) as f:\n",
    "    y = [int(line.decode('utf-8')) for line in f.read().splitlines()]"
   ]
  },
  {
   "cell_type": "code",
   "execution_count": 34,
   "id": "8e06c60b",
   "metadata": {},
   "outputs": [],
   "source": [
    "with gzip.open(osp.join(base_dir, 'raw', 'node-feat.csv.gz')) as f:\n",
    "    x = [[float(v) for v in line.decode('utf-8').split(',')] for line in f.read().splitlines()]"
   ]
  },
  {
   "cell_type": "code",
   "execution_count": 45,
   "id": "91ed8d74",
   "metadata": {},
   "outputs": [],
   "source": [
    "with gzip.open(osp.join(base_dir, 'raw', 'node_year.csv.gz')) as f:\n",
    "    year = [int(line.decode('utf-8')) for line in f.read().splitlines()]"
   ]
  },
  {
   "cell_type": "code",
   "execution_count": 48,
   "id": "cc9f597f",
   "metadata": {},
   "outputs": [],
   "source": [
    "x = np.array(x)\n",
    "y = np.array(y)\n",
    "year = np.array(year)"
   ]
  },
  {
   "cell_type": "code",
   "execution_count": 50,
   "id": "89646842",
   "metadata": {},
   "outputs": [
    {
     "data": {
      "text/plain": [
       "((169343,), (169343,), (169343, 128))"
      ]
     },
     "execution_count": 50,
     "metadata": {},
     "output_type": "execute_result"
    }
   ],
   "source": [
    "year.shape, y.shape, x.shape"
   ]
  },
  {
   "cell_type": "code",
   "execution_count": 75,
   "id": "2e2c9881",
   "metadata": {},
   "outputs": [],
   "source": [
    "with gzip.open(osp.join(base_dir, 'mapping', 'labelidx2arxivcategeory.csv.gz')) as f:\n",
    "    idx_to_label = {}\n",
    "    for line in [line.decode('utf-8') for line in f.read().splitlines()][1:]:\n",
    "        idx, label = line.split(',')\n",
    "        idx_to_label[int(idx)] = label\n",
    "    \n",
    "    "
   ]
  },
  {
   "cell_type": "code",
   "execution_count": 76,
   "id": "d8f1b0f5",
   "metadata": {},
   "outputs": [
    {
     "data": {
      "text/plain": [
       "True"
      ]
     },
     "execution_count": 76,
     "metadata": {},
     "output_type": "execute_result"
    }
   ],
   "source": [
    "set(range(len(idx_to_label))) == set(idx_to_label.keys())"
   ]
  },
  {
   "cell_type": "code",
   "execution_count": 78,
   "id": "69929fca",
   "metadata": {},
   "outputs": [],
   "source": [
    "# nodeidx2paperid.csv.gz\n",
    "with gzip.open(osp.join(base_dir, 'mapping', 'nodeidx2paperid.csv.gz')) as f:\n",
    "    idx_to_vertex = {}\n",
    "    for line in [line.decode('utf-8') for line in f.read().splitlines()][1:]:\n",
    "        idx, vertex = line.split(',')\n",
    "        idx_to_vertex[int(idx)] = vertex"
   ]
  },
  {
   "cell_type": "code",
   "execution_count": 79,
   "id": "14316ee3",
   "metadata": {},
   "outputs": [
    {
     "data": {
      "text/plain": [
       "True"
      ]
     },
     "execution_count": 79,
     "metadata": {},
     "output_type": "execute_result"
    }
   ],
   "source": [
    "set(range(len(idx_to_vertex))) == set(idx_to_vertex.keys())"
   ]
  },
  {
   "cell_type": "code",
   "execution_count": 87,
   "id": "679fabaa",
   "metadata": {},
   "outputs": [],
   "source": [
    "with gzip.open(osp.join(base_dir, 'split', 'time', 'train.csv.gz')) as f:\n",
    "    idx_train = [int(line.decode('utf-8')) for line in f.read().splitlines()]\n",
    "with gzip.open(osp.join(base_dir, 'split', 'time', 'valid.csv.gz')) as f:\n",
    "    idx_val = [int(line.decode('utf-8')) for line in f.read().splitlines()]\n",
    "with gzip.open(osp.join(base_dir, 'split', 'time', 'test.csv.gz')) as f:\n",
    "    idx_test = [int(line.decode('utf-8')) for line in f.read().splitlines()]"
   ]
  },
  {
   "cell_type": "code",
   "execution_count": 90,
   "id": "320c437f",
   "metadata": {},
   "outputs": [
    {
     "data": {
      "text/plain": [
       "(set(), set(), set())"
      ]
     },
     "execution_count": 90,
     "metadata": {},
     "output_type": "execute_result"
    }
   ],
   "source": [
    "set(idx_train).intersection(set(idx_val)), set(idx_train).intersection(set(idx_test)), set(idx_val).intersection(set(idx_test))"
   ]
  },
  {
   "cell_type": "code",
   "execution_count": 91,
   "id": "5b07e293",
   "metadata": {},
   "outputs": [
    {
     "data": {
      "text/plain": [
       "169343"
      ]
     },
     "execution_count": 91,
     "metadata": {},
     "output_type": "execute_result"
    }
   ],
   "source": [
    "len(idx_train + idx_val + idx_test)"
   ]
  },
  {
   "cell_type": "code",
   "execution_count": 99,
   "id": "b32b7d4e",
   "metadata": {},
   "outputs": [],
   "source": [
    "with open(osp.join(base_dir, 'titleabs.tsv')) as f:\n",
    "    tokens = [line.split('\\t') for line in f.read().splitlines()][1:]"
   ]
  },
  {
   "cell_type": "code",
   "execution_count": 109,
   "id": "dffb0bba",
   "metadata": {},
   "outputs": [
    {
     "name": "stderr",
     "output_type": "stream",
     "text": [
      "80252it [00:00, 394959.60it/s]"
     ]
    },
    {
     "name": "stdout",
     "output_type": "stream",
     "text": [
      "16891\n",
      "16892\n",
      "16893\n",
      "63262\n"
     ]
    },
    {
     "name": "stderr",
     "output_type": "stream",
     "text": [
      "179723it [00:00, 440035.74it/s]"
     ]
    },
    {
     "name": "stdout",
     "output_type": "stream",
     "text": [
      "179722\n"
     ]
    },
    {
     "name": "stderr",
     "output_type": "stream",
     "text": [
      "\n"
     ]
    }
   ],
   "source": [
    "from tqdm import tqdm\n",
    "texts = {}\n",
    "for idx, t in tqdm(enumerate(tokens)):\n",
    "    if len(t)  != 3 :\n",
    "        print(idx)\n",
    "    else:\n",
    "        texts[t[0]] = t[1] + '. ' + t[2]"
   ]
  },
  {
   "cell_type": "code",
   "execution_count": 116,
   "id": "d5dab6d9",
   "metadata": {},
   "outputs": [],
   "source": [
    "for v in idx_to_vertex.values():\n",
    "    if v not in texts:\n",
    "        print(v)"
   ]
  },
  {
   "cell_type": "code",
   "execution_count": null,
   "id": "f0dc197a",
   "metadata": {},
   "outputs": [],
   "source": []
  },
  {
   "cell_type": "code",
   "execution_count": 118,
   "id": "98ddad39",
   "metadata": {},
   "outputs": [],
   "source": [
    "edges = np.array(edges)"
   ]
  },
  {
   "cell_type": "code",
   "execution_count": 121,
   "id": "225c3331",
   "metadata": {},
   "outputs": [],
   "source": [
    "n = len(idx_to_vertex)\n",
    "A = sp.coo_matrix((np.ones(edges.T.shape[1]), edges.T), shape=(n, n)).tocsr()"
   ]
  },
  {
   "cell_type": "code",
   "execution_count": 125,
   "id": "2a002cff",
   "metadata": {},
   "outputs": [
    {
     "data": {
      "text/plain": [
       "((169343, 169343), (169343, 128), (169343,), (169343,))"
      ]
     },
     "execution_count": 125,
     "metadata": {},
     "output_type": "execute_result"
    }
   ],
   "source": [
    "A.shape, x.shape, y.shape, year.shape"
   ]
  },
  {
   "cell_type": "code",
   "execution_count": 129,
   "id": "366f6daa",
   "metadata": {},
   "outputs": [],
   "source": [
    "mask_train = np.zeros(n, dtype=bool)\n",
    "mask_train[idx_train] = True\n",
    "mask_val = np.zeros(n, dtype=bool)\n",
    "mask_val[idx_val] = True\n",
    "mask_test = np.zeros(n, dtype=bool)\n",
    "mask_test[idx_test] = True"
   ]
  },
  {
   "cell_type": "code",
   "execution_count": 134,
   "id": "60752b33",
   "metadata": {},
   "outputs": [
    {
     "data": {
      "text/plain": [
       "(array([90941, 29799, 48603]), True)"
      ]
     },
     "execution_count": 134,
     "metadata": {},
     "output_type": "execute_result"
    }
   ],
   "source": [
    "masks = np.stack((mask_train, mask_val, mask_test), 1)\n",
    "masks.astype(int).sum(0), (masks.astype(int).sum(1) == 1).all()"
   ]
  },
  {
   "cell_type": "code",
   "execution_count": 136,
   "id": "60eaa858",
   "metadata": {},
   "outputs": [],
   "source": [
    "texts_arr = []\n",
    "for idx in range(n):\n",
    "    texts_arr.append(texts[idx_to_vertex[idx]])\n",
    "    "
   ]
  },
  {
   "cell_type": "code",
   "execution_count": 137,
   "id": "e8065194",
   "metadata": {},
   "outputs": [
    {
     "data": {
      "text/plain": [
       "169343"
      ]
     },
     "execution_count": 137,
     "metadata": {},
     "output_type": "execute_result"
    }
   ],
   "source": [
    "len(texts_arr)"
   ]
  },
  {
   "cell_type": "code",
   "execution_count": 141,
   "id": "842ff633",
   "metadata": {},
   "outputs": [],
   "source": [
    "for i in range(n):\n",
    "    if not texts_arr[i] == texts[idx_to_vertex[i]]:\n",
    "        raise RuntimeError"
   ]
  },
  {
   "cell_type": "code",
   "execution_count": 151,
   "id": "ab748088",
   "metadata": {},
   "outputs": [
    {
     "ename": "ValueError",
     "evalue": "The truth value of an array with more than one element is ambiguous. Use a.any() or a.all()",
     "output_type": "error",
     "traceback": [
      "\u001b[0;31m---------------------------------------------------------------------------\u001b[0m",
      "\u001b[0;31mValueError\u001b[0m                                Traceback (most recent call last)",
      "\u001b[0;32m<ipython-input-151-03a50eaa1a3a>\u001b[0m in \u001b[0;36m<module>\u001b[0;34m\u001b[0m\n\u001b[0;32m----> 1\u001b[0;31m \u001b[0mnp\u001b[0m\u001b[0;34m.\u001b[0m\u001b[0marange\u001b[0m\u001b[0;34m(\u001b[0m\u001b[0;36m4\u001b[0m\u001b[0;34m)\u001b[0m \u001b[0;32mor\u001b[0m \u001b[0mnp\u001b[0m\u001b[0;34m.\u001b[0m\u001b[0marange\u001b[0m\u001b[0;34m(\u001b[0m\u001b[0;36m3\u001b[0m\u001b[0;34m)\u001b[0m\u001b[0;34m\u001b[0m\u001b[0;34m\u001b[0m\u001b[0m\n\u001b[0m",
      "\u001b[0;31mValueError\u001b[0m: The truth value of an array with more than one element is ambiguous. Use a.any() or a.all()"
     ]
    }
   ],
   "source": [
    "np.arange(4) or np.arange(3)"
   ]
  },
  {
   "cell_type": "code",
   "execution_count": 143,
   "id": "6c2fe21a",
   "metadata": {},
   "outputs": [
    {
     "name": "stdout",
     "output_type": "stream",
     "text": [
      "/nfs/homedirs/fuchsgru/MastersThesis\n"
     ]
    }
   ],
   "source": [
    "%cd .."
   ]
  },
  {
   "cell_type": "code",
   "execution_count": 146,
   "id": "1b8c97d8",
   "metadata": {},
   "outputs": [
    {
     "data": {
      "text/plain": [
       "(array([1., 1., 1., ..., 1., 1., 1.]),\n",
       " array([      0,       2,       3, ..., 1166224, 1166241, 1166243],\n",
       "       dtype=int32),\n",
       " array([ 52893,  93487, 141692, ..., 163274,  27824, 158981], dtype=int32))"
      ]
     },
     "execution_count": 146,
     "metadata": {},
     "output_type": "execute_result"
    }
   ],
   "source": [
    "A.data, A.indptr, A.indices"
   ]
  },
  {
   "cell_type": "code",
   "execution_count": 149,
   "id": "84c52b40",
   "metadata": {},
   "outputs": [],
   "source": [
    "np.savez_compressed('data/raw/ogbn-arxiv.npz', \n",
    "    adj_data = A.data,\n",
    "    adj_indices = A.indices,\n",
    "    adj_indptr = A.indptr,\n",
    "    adj_shape = A.shape,\n",
    "    attr_text = texts_arr,\n",
    "    features = x,\n",
    "    labels = y,\n",
    "    year = year,\n",
    "    idx_to_class = idx_to_label,\n",
    "    idx_to_node = idx_to_vertex,\n",
    "    mask_train = mask_train,\n",
    "    mask_val = mask_val,\n",
    "    mask_test = mask_test,    \n",
    ")"
   ]
  },
  {
   "cell_type": "code",
   "execution_count": null,
   "id": "20bea2c5",
   "metadata": {},
   "outputs": [],
   "source": []
  }
 ],
 "metadata": {
  "kernelspec": {
   "display_name": "Python 3",
   "language": "python",
   "name": "python3"
  },
  "language_info": {
   "codemirror_mode": {
    "name": "ipython",
    "version": 3
   },
   "file_extension": ".py",
   "mimetype": "text/x-python",
   "name": "python",
   "nbconvert_exporter": "python",
   "pygments_lexer": "ipython3",
   "version": "3.9.5"
  }
 },
 "nbformat": 4,
 "nbformat_minor": 5
}
