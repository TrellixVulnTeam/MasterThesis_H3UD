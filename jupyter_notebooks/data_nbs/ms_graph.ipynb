{
 "cells": [
  {
   "cell_type": "code",
   "execution_count": 1,
   "id": "38f82fad",
   "metadata": {},
   "outputs": [],
   "source": [
    "import numpy as np\n",
    "from collections import defaultdict"
   ]
  },
  {
   "cell_type": "code",
   "execution_count": 2,
   "id": "73f8ccfb",
   "metadata": {},
   "outputs": [
    {
     "name": "stdout",
     "output_type": "stream",
     "text": [
      "/nfs/homedirs/fuchsgru/MastersThesis\n"
     ]
    }
   ],
   "source": [
    "%cd ../.."
   ]
  },
  {
   "cell_type": "code",
   "execution_count": 29,
   "id": "6f9d6957",
   "metadata": {},
   "outputs": [],
   "source": [
    "data_phy = np.load('data/raw/ms_academic_phy.npz', allow_pickle=True)\n",
    "data_cs = np.load('data/raw/ms_academic_cs.npz', allow_pickle=True)"
   ]
  },
  {
   "cell_type": "code",
   "execution_count": 4,
   "id": "854a5a8a",
   "metadata": {},
   "outputs": [],
   "source": [
    "node_names = set(data_phy['node_names']) | set(data_cs['node_names']) # Nodes are authors"
   ]
  },
  {
   "cell_type": "code",
   "execution_count": 5,
   "id": "54c794c4",
   "metadata": {},
   "outputs": [],
   "source": [
    "papers = defaultdict(set)"
   ]
  },
  {
   "cell_type": "code",
   "execution_count": 6,
   "id": "d13df93a",
   "metadata": {},
   "outputs": [
    {
     "name": "stdout",
     "output_type": "stream",
     "text": [
      "Iteration (in 10M) 0\n",
      "Iteration (in 10M) 1\n",
      "Iteration (in 10M) 2\n",
      "Iteration (in 10M) 3\n",
      "Iteration (in 10M) 4\n",
      "Iteration (in 10M) 5\n",
      "Iteration (in 10M) 6\n",
      "Iteration (in 10M) 7\n",
      "Iteration (in 10M) 8\n",
      "Iteration (in 10M) 9\n",
      "Iteration (in 10M) 10\n",
      "Iteration (in 10M) 11\n",
      "Iteration (in 10M) 12\n",
      "Iteration (in 10M) 13\n",
      "Iteration (in 10M) 14\n",
      "Iteration (in 10M) 15\n",
      "Iteration (in 10M) 16\n",
      "Iteration (in 10M) 17\n",
      "Iteration (in 10M) 18\n",
      "Iteration (in 10M) 19\n",
      "Iteration (in 10M) 20\n",
      "Iteration (in 10M) 21\n",
      "Iteration (in 10M) 22\n",
      "Iteration (in 10M) 23\n",
      "Iteration (in 10M) 24\n",
      "Iteration (in 10M) 25\n",
      "Iteration (in 10M) 26\n",
      "Iteration (in 10M) 27\n",
      "Iteration (in 10M) 28\n",
      "Iteration (in 10M) 29\n",
      "Iteration (in 10M) 30\n",
      "Iteration (in 10M) 31\n",
      "Iteration (in 10M) 32\n",
      "Iteration (in 10M) 33\n"
     ]
    }
   ],
   "source": [
    "\n",
    "with open('/nfs/shared/dominik/microsoft-academic/raw/PaperAuthorAffiliations.txt') as f:\n",
    "    it = 0\n",
    "    for line in f:\n",
    "        if it % 10000000 == 0: print('Iteration (in 10M)', it // 10000000)\n",
    "        it += 1\n",
    "        tokens = line.split('\\t')\n",
    "        if len(tokens) >= 2:\n",
    "            if tokens[1] in node_names:\n",
    "                papers[tokens[1]].add(tokens[0])"
   ]
  },
  {
   "cell_type": "code",
   "execution_count": 8,
   "id": "7cb6c995",
   "metadata": {},
   "outputs": [
    {
     "data": {
      "text/plain": [
       "True"
      ]
     },
     "execution_count": 8,
     "metadata": {},
     "output_type": "execute_result"
    }
   ],
   "source": [
    "set(papers.keys()) == set(node_names)"
   ]
  },
  {
   "cell_type": "code",
   "execution_count": 10,
   "id": "45ec0988",
   "metadata": {},
   "outputs": [
    {
     "name": "stdout",
     "output_type": "stream",
     "text": [
      "Iteration (in 10M) 0\n",
      "Iteration (in 10M) 1\n",
      "Iteration (in 10M) 2\n",
      "Iteration (in 10M) 3\n",
      "Iteration (in 10M) 4\n",
      "Iteration (in 10M) 5\n",
      "Iteration (in 10M) 6\n",
      "Iteration (in 10M) 7\n",
      "Iteration (in 10M) 8\n",
      "Iteration (in 10M) 9\n",
      "Iteration (in 10M) 10\n",
      "Iteration (in 10M) 11\n",
      "Iteration (in 10M) 12\n",
      "Iteration (in 10M) 13\n",
      "Iteration (in 10M) 14\n",
      "Iteration (in 10M) 15\n"
     ]
    }
   ],
   "source": [
    "paper_to_keyword = {}\n",
    "with open('/nfs/shared/dominik/microsoft-academic/raw/PaperKeywords.txt') as f:\n",
    "    it = 0\n",
    "    for line in f:\n",
    "        if it % 10000000 == 0: print('Iteration (in 10M)', it // 10000000)\n",
    "        it += 1\n",
    "        tokens = line.split('\\t')\n",
    "        if len(tokens) >= 2:\n",
    "            paper_to_keyword[tokens[0]] = tokens[1]\n",
    "            \n",
    "    "
   ]
  },
  {
   "cell_type": "code",
   "execution_count": 11,
   "id": "337f4d13",
   "metadata": {},
   "outputs": [],
   "source": [
    "# Substitute \\s with _ to have each keyword be a token"
   ]
  },
  {
   "cell_type": "code",
   "execution_count": 12,
   "id": "5064f8a0",
   "metadata": {},
   "outputs": [],
   "source": [
    "paper_to_keyword_clean = {paper : keyword.replace(' ', '_') for paper, keyword in paper_to_keyword.items()}"
   ]
  },
  {
   "cell_type": "code",
   "execution_count": 13,
   "id": "5a82e52e",
   "metadata": {},
   "outputs": [],
   "source": [
    "kws = set(paper_to_keyword_clean.values())"
   ]
  },
  {
   "cell_type": "code",
   "execution_count": 14,
   "id": "f8c4d89a",
   "metadata": {},
   "outputs": [
    {
     "data": {
      "text/plain": [
       "['on_off_keying',\n",
       " 'recovery',\n",
       " 'internal_transcribed_spacer',\n",
       " 'armamentarium',\n",
       " 'land_locked_countries',\n",
       " 'particulate_radiation',\n",
       " 'differential_geometry_of_surfaces',\n",
       " 'pagers',\n",
       " 'mean_reversion',\n",
       " 'link_state_routing_protocol',\n",
       " 'telephone_numbers',\n",
       " 'linear_no_threshold_model',\n",
       " 'insectivorous_birds',\n",
       " 'infrared_light',\n",
       " 'disaster_management',\n",
       " 'file_metadata',\n",
       " 'nameplate_capacity',\n",
       " 'uv_mapping',\n",
       " 'prewitt',\n",
       " 'late_follicular_phase',\n",
       " 'therm',\n",
       " 'hypertext_transfer_protocol',\n",
       " 'bicinchoninic_acid',\n",
       " 'computer_privacy',\n",
       " 'broadbanding',\n",
       " 'cytochrome_p450_2b6',\n",
       " 'correlation_dimension',\n",
       " 'opamps',\n",
       " 'chief_cell',\n",
       " 'biolistic_particle_delivery_system',\n",
       " 'thermohydraulics',\n",
       " 'earth_ellipsoid',\n",
       " 'gsk3',\n",
       " 'tkip',\n",
       " 'mod',\n",
       " 'ice_cores',\n",
       " 'data_warehouses',\n",
       " 'ell',\n",
       " 'pci_express',\n",
       " 'gas_slug',\n",
       " 'magnetron',\n",
       " 'torsion_pendulum',\n",
       " 'precipitation_reaction',\n",
       " 'instruction_sets',\n",
       " 'estrogen_receptor',\n",
       " 'cognitive_thinking',\n",
       " 'ransac_algorithm',\n",
       " 'automation_system',\n",
       " 'erlanger_program',\n",
       " 'common_spatial_pattern']"
      ]
     },
     "execution_count": 14,
     "metadata": {},
     "output_type": "execute_result"
    }
   ],
   "source": [
    "list(kws)[:50]"
   ]
  },
  {
   "cell_type": "code",
   "execution_count": 22,
   "id": "a0c0c388",
   "metadata": {},
   "outputs": [],
   "source": [
    "papers_text_phy = []\n",
    "for author in data_phy['node_names']:\n",
    "    papers_a = papers[author]\n",
    "    papers_text_phy.append(' '.join([\n",
    "        paper_to_keyword_clean[paper] for paper in papers_a if paper in paper_to_keyword_clean\n",
    "    ]))\n"
   ]
  },
  {
   "cell_type": "code",
   "execution_count": 23,
   "id": "7a4fb965",
   "metadata": {},
   "outputs": [],
   "source": [
    "papers_text_cs = []\n",
    "for author in data_cs['node_names']:\n",
    "    papers_a = papers[author]\n",
    "    papers_text_cs.append(' '.join([\n",
    "        paper_to_keyword_clean[paper] for paper in papers_a if paper in paper_to_keyword_clean\n",
    "    ]))\n"
   ]
  },
  {
   "cell_type": "code",
   "execution_count": 25,
   "id": "b5cf8015",
   "metadata": {},
   "outputs": [
    {
     "data": {
      "text/plain": [
       "'ensemble_learning part_of_speech active_learning quantitative_analysis distributed_processing locality_sensitive_hashing natural_language natural_language machine_translation machine_learning prior_distribution low_frequency model_selection natural_language_processing system_performance natural_language_processing distance_metric machine_learning em_algorithm computational_complexity human_language_technology natural_language natural_language_processing computational_linguistics machine_translation machine_learning latent_variable_model machine_translation active_learning word_order word_frequency ensemble_learning locality_sensitive_hashing natural_language component_model prior_distribution learning_to_rank distance stochastic_model maximum_entropy feature_selection machine_translation natural_language'"
      ]
     },
     "execution_count": 25,
     "metadata": {},
     "output_type": "execute_result"
    }
   ],
   "source": [
    "papers_text_cs[6688]"
   ]
  },
  {
   "cell_type": "code",
   "execution_count": 30,
   "id": "4aa7c13a",
   "metadata": {},
   "outputs": [],
   "source": [
    "np.savez('data/raw/ms_academic_phy_with_text.npz', **{k : data_phy[k] for k in data_phy.keys()}, attr_text=np.array(papers_text_phy))"
   ]
  },
  {
   "cell_type": "code",
   "execution_count": 31,
   "id": "8f2021df",
   "metadata": {},
   "outputs": [],
   "source": [
    "phy_wt = np.load('data/raw/ms_academic_phy_with_text.npz', allow_pickle=True)"
   ]
  },
  {
   "cell_type": "code",
   "execution_count": 32,
   "id": "4fafd711",
   "metadata": {},
   "outputs": [
    {
     "name": "stdout",
     "output_type": "stream",
     "text": [
      "adj_data (495924,)\n",
      "adj_indices (495924,)\n",
      "adj_indptr (34494,)\n",
      "adj_shape (2,)\n",
      "attr_data (1137311,)\n",
      "attr_indices (1137311,)\n",
      "attr_indptr (34494,)\n",
      "attr_shape (2,)\n",
      "labels (34493,)\n",
      "node_names (34493,)\n",
      "attr_names (8415,)\n",
      "class_names (5,)\n",
      "attr_text (34493,)\n"
     ]
    }
   ],
   "source": [
    "for k in phy_wt:\n",
    "    v = phy_wt[k]\n",
    "    if isinstance(v, np.ndarray):\n",
    "        print(k, v.shape)"
   ]
  },
  {
   "cell_type": "code",
   "execution_count": 33,
   "id": "68d162b8",
   "metadata": {},
   "outputs": [],
   "source": [
    "np.savez('data/raw/ms_academic_cs_with_text.npz', **{k : data_cs[k] for k in data_cs.keys()}, attr_text=np.array(papers_text_cs))"
   ]
  },
  {
   "cell_type": "code",
   "execution_count": 34,
   "id": "0383d3f9",
   "metadata": {},
   "outputs": [],
   "source": [
    "cs_wt = np.load('data/raw/ms_academic_cs_with_text.npz', allow_pickle=True)"
   ]
  },
  {
   "cell_type": "code",
   "execution_count": 35,
   "id": "10e38d03",
   "metadata": {},
   "outputs": [
    {
     "name": "stdout",
     "output_type": "stream",
     "text": [
      "adj_data (163788,)\n",
      "adj_indices (163788,)\n",
      "adj_indptr (18334,)\n",
      "adj_shape (2,)\n",
      "attr_data (1092079,)\n",
      "attr_indices (1092079,)\n",
      "attr_indptr (18334,)\n",
      "attr_shape (2,)\n",
      "labels (18333,)\n",
      "node_names (18333,)\n",
      "attr_names (6805,)\n",
      "class_names (15,)\n",
      "attr_text (18333,)\n"
     ]
    }
   ],
   "source": [
    "for k in cs_wt:\n",
    "    v = cs_wt[k]\n",
    "    if isinstance(v, np.ndarray):\n",
    "        print(k, v.shape)"
   ]
  },
  {
   "cell_type": "code",
   "execution_count": 43,
   "id": "c7c13593",
   "metadata": {},
   "outputs": [
    {
     "data": {
      "text/plain": [
       "'cognitive load'"
      ]
     },
     "execution_count": 43,
     "metadata": {},
     "output_type": "execute_result"
    }
   ],
   "source": [
    "cs_wt['attr_names'][838]"
   ]
  },
  {
   "cell_type": "code",
   "execution_count": null,
   "id": "6f6acf36",
   "metadata": {},
   "outputs": [],
   "source": []
  }
 ],
 "metadata": {
  "kernelspec": {
   "display_name": "Python 3",
   "language": "python",
   "name": "python3"
  },
  "language_info": {
   "codemirror_mode": {
    "name": "ipython",
    "version": 3
   },
   "file_extension": ".py",
   "mimetype": "text/x-python",
   "name": "python",
   "nbconvert_exporter": "python",
   "pygments_lexer": "ipython3",
   "version": "3.9.5"
  }
 },
 "nbformat": 4,
 "nbformat_minor": 5
}
