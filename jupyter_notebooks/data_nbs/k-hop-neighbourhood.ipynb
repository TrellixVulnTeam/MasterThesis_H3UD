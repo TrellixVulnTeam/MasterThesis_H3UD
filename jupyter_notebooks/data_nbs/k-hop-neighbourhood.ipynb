{
 "cells": [
  {
   "cell_type": "code",
   "execution_count": 1,
   "id": "e157d8ce",
   "metadata": {},
   "outputs": [],
   "source": [
    "import numpy as np\n",
    "import torch\n",
    "import matplotlib.pyplot as plt\n",
    "import seaborn as sns\n",
    "import pandas as pd\n",
    "from scipy.spatial import distance_matrix\n",
    "import itertools\n",
    "import scipy.sparse as sp\n",
    "from tqdm import tqdm\n",
    "import operator\n",
    "import functools\n",
    "import yaml\n",
    "import math\n",
    "from collections import defaultdict"
   ]
  },
  {
   "cell_type": "code",
   "execution_count": 2,
   "id": "4ba8a741",
   "metadata": {},
   "outputs": [
    {
     "name": "stdout",
     "output_type": "stream",
     "text": [
      "/nfs/homedirs/fuchsgru/MastersThesis\n"
     ]
    }
   ],
   "source": [
    "%cd ../.."
   ]
  },
  {
   "cell_type": "code",
   "execution_count": 3,
   "id": "e54ba82c",
   "metadata": {},
   "outputs": [],
   "source": [
    "from data.construct import load_data_from_configuration, load_base_data_from_configuration\n",
    "import configuration\n",
    "import data.constants as dc"
   ]
  },
  {
   "cell_type": "code",
   "execution_count": 17,
   "id": "f988d26e",
   "metadata": {},
   "outputs": [],
   "source": [
    "config = configuration.DataConfiguration(\n",
    "    dataset='ogbn_arxiv', \n",
    "    preprocessing='none',\n",
    "    type='npz',\n",
    "    #preprocessing='word_embedding',\n",
    "    #language_model = 'bert-base-uncased',\n",
    "    #language_model = 'sentence-transformers/paraphrase-multilingual-MiniLM-L12-v2',\n",
    "    #language_model = 'allenai/longformer-base-4096',\n",
    "    drop_train_vertices_portion = 0.1,\n",
    ")"
   ]
  },
  {
   "cell_type": "code",
   "execution_count": 18,
   "id": "651789f5",
   "metadata": {},
   "outputs": [
    {
     "data": {
      "text/plain": [
       "['adj_data',\n",
       " 'adj_indices',\n",
       " 'adj_indptr',\n",
       " 'adj_shape',\n",
       " 'attr_text',\n",
       " 'features',\n",
       " 'labels',\n",
       " 'year',\n",
       " 'idx_to_class',\n",
       " 'idx_to_node',\n",
       " 'mask_train',\n",
       " 'mask_val',\n",
       " 'mask_test']"
      ]
     },
     "execution_count": 18,
     "metadata": {},
     "output_type": "execute_result"
    }
   ],
   "source": [
    "import data.npz\n",
    "\n",
    "npz_data = np.load(data.npz.NpzDataset.raw_files[config.dataset], allow_pickle=True)\n",
    "list(npz_data.keys())"
   ]
  },
  {
   "cell_type": "code",
   "execution_count": 19,
   "id": "d38c9001",
   "metadata": {},
   "outputs": [],
   "source": [
    "from data.split import _make_base_data\n",
    "_, _, mask_fixed, mask_non_fixed, x_base, edge_index_base, y_base, vertex_to_idx_base, label_to_idx_base, base_labels, train_labels, \\\n",
    "    left_out_class_labels = _make_base_data(load_base_data_from_configuration(config), config)\n"
   ]
  },
  {
   "cell_type": "code",
   "execution_count": 20,
   "id": "5d549a4d",
   "metadata": {},
   "outputs": [],
   "source": [
    "edge_index = edge_index_base.copy()\n",
    "n = int(edge_index.max() + 1)"
   ]
  },
  {
   "cell_type": "code",
   "execution_count": 21,
   "id": "d28aa019",
   "metadata": {},
   "outputs": [],
   "source": [
    "A = sp.coo_matrix((np.ones(edge_index.shape[1]), edge_index), shape=(n, n), dtype=bool)"
   ]
  },
  {
   "cell_type": "code",
   "execution_count": 22,
   "id": "6c067cd6",
   "metadata": {},
   "outputs": [],
   "source": [
    "from tqdm import tqdm\n",
    "\n",
    "def k_hop_neighbourhood(A, k, strict=True):\n",
    "    A = A.tocsc().astype(bool)\n",
    "    powers = [sp.identity(A.shape[0], dtype=bool, format='csr')]\n",
    "    for _ in tqdm(range(k), desc='Iterations'):\n",
    "        powers.append((powers[-1] @ A).astype(bool))\n",
    "        \n",
    "    print('To lil...')\n",
    "    result = powers[-1].tolil()\n",
    "    \n",
    "    # for idx, p in enumerate(powers):\n",
    "        # print(idx, np.where(p.tocsr()[1].todense() > 0)[1])\n",
    "    \n",
    "    if strict:\n",
    "        # Subtract the < k neighbourhoods\n",
    "        for prev in tqdm(powers[:-1], desc='stricting...'):\n",
    "            result[prev.nonzero()] = False\n",
    "            # print(np.where(result.tocsr()[1].todense() > 0)[1])\n",
    "    print('To csr')\n",
    "    result = result.tocsr()\n",
    "    result.eliminate_zeros()\n",
    "    \n",
    "    return result\n",
    "\n"
   ]
  },
  {
   "cell_type": "code",
   "execution_count": 23,
   "id": "97832422",
   "metadata": {},
   "outputs": [],
   "source": [
    "def k_hop_neighbourhood(A, k):\n",
    "     \n",
    "    mat = sp.identity(A.shape[0], dtype=bool, format='csr')\n",
    "    result = sp.identity(A.shape[0], dtype=int, format='csr')\n",
    "    A = A.tocsc().astype(bool) # csr x csc is fast\n",
    "    \n",
    "    # The k-i hop neighbourhood will have a value of 2^i in the resulting matrix\n",
    "    # Therefore, the biggest power of 2 represents the bfs numbers\n",
    "    # i.e. entries with a 1 will have a bfs number of k\n",
    "    for it in tqdm(range(k)):\n",
    "        mat = (mat @ A).astype(bool)\n",
    "        result *= 2\n",
    "        result += mat\n",
    "        \n",
    "    result = (result == 1)\n",
    "    result.eliminate_zeros()\n",
    "    return result\n",
    "        \n",
    "    "
   ]
  },
  {
   "cell_type": "code",
   "execution_count": 24,
   "id": "4af9dae2",
   "metadata": {},
   "outputs": [
    {
     "name": "stderr",
     "output_type": "stream",
     "text": [
      " 33%|███▎      | 1/3 [00:00<00:00,  8.74it/s]"
     ]
    },
    {
     "name": "stdout",
     "output_type": "stream",
     "text": [
      "mul\n",
      "add\n",
      "mul\n",
      "add\n"
     ]
    },
    {
     "name": "stderr",
     "output_type": "stream",
     "text": [
      "\r",
      " 67%|██████▋   | 2/3 [00:26<00:15, 15.55s/it]"
     ]
    },
    {
     "name": "stdout",
     "output_type": "stream",
     "text": [
      "mul\n",
      "add\n"
     ]
    },
    {
     "name": "stderr",
     "output_type": "stream",
     "text": [
      "100%|██████████| 3/3 [07:33<00:00, 151.16s/it]\n"
     ]
    },
    {
     "name": "stdout",
     "output_type": "stream",
     "text": [
      "cmp\n",
      "elim\n"
     ]
    }
   ],
   "source": [
    "three_hops = k_hop_neighbourhood_loop(A, 3)"
   ]
  },
  {
   "cell_type": "code",
   "execution_count": 16,
   "id": "adebfb38",
   "metadata": {},
   "outputs": [
    {
     "name": "stderr",
     "output_type": "stream",
     "text": [
      "Iterations: 100%|██████████| 4/4 [00:00<00:00, 21.42it/s]\n"
     ]
    },
    {
     "name": "stdout",
     "output_type": "stream",
     "text": [
      "To lil...\n"
     ]
    },
    {
     "name": "stderr",
     "output_type": "stream",
     "text": [
      "stricting...: 100%|██████████| 4/4 [00:00<00:00, 12.20it/s]\n"
     ]
    },
    {
     "name": "stdout",
     "output_type": "stream",
     "text": [
      "To csr\n"
     ]
    },
    {
     "name": "stderr",
     "output_type": "stream",
     "text": [
      "100%|██████████| 4/4 [00:00<00:00, 20.78it/s]\n"
     ]
    },
    {
     "name": "stdout",
     "output_type": "stream",
     "text": [
      "Computing result\n"
     ]
    },
    {
     "data": {
      "text/plain": [
       "True"
      ]
     },
     "execution_count": 16,
     "metadata": {},
     "output_type": "execute_result"
    }
   ],
   "source": [
    "(k_hop_neighbourhood(A, 4) == k_hop_neighbourhood_loop(A, 4)).todense().all()"
   ]
  },
  {
   "cell_type": "code",
   "execution_count": null,
   "id": "5b1f93b6",
   "metadata": {},
   "outputs": [],
   "source": []
  },
  {
   "cell_type": "code",
   "execution_count": null,
   "id": "973d61d0",
   "metadata": {},
   "outputs": [],
   "source": []
  },
  {
   "cell_type": "code",
   "execution_count": 12,
   "id": "294827e2",
   "metadata": {},
   "outputs": [
    {
     "name": "stderr",
     "output_type": "stream",
     "text": [
      "100%|██████████| 169343/169343 [00:23<00:00, 7071.23it/s]\n",
      " 21%|██▏       | 36318/169343 [02:43<09:58, 222.22it/s]\n"
     ]
    },
    {
     "ename": "KeyboardInterrupt",
     "evalue": "",
     "output_type": "error",
     "traceback": [
      "\u001b[0;31m---------------------------------------------------------------------------\u001b[0m",
      "\u001b[0;31mKeyboardInterrupt\u001b[0m                         Traceback (most recent call last)",
      "\u001b[0;32m<ipython-input-12-e322bfbe1830>\u001b[0m in \u001b[0;36m<module>\u001b[0;34m\u001b[0m\n\u001b[1;32m     13\u001b[0m                     \u001b[0mhops\u001b[0m\u001b[0;34m[\u001b[0m\u001b[0mk\u001b[0m\u001b[0;34m]\u001b[0m \u001b[0;34m=\u001b[0m \u001b[0mit\u001b[0m\u001b[0;34m\u001b[0m\u001b[0;34m\u001b[0m\u001b[0m\n\u001b[1;32m     14\u001b[0m \u001b[0;34m\u001b[0m\u001b[0m\n\u001b[0;32m---> 15\u001b[0;31m \u001b[0mk_hop_neighbourhood_loop\u001b[0m\u001b[0;34m(\u001b[0m\u001b[0mA\u001b[0m\u001b[0;34m,\u001b[0m \u001b[0;36m3\u001b[0m\u001b[0;34m)\u001b[0m\u001b[0;34m\u001b[0m\u001b[0;34m\u001b[0m\u001b[0m\n\u001b[0m\u001b[1;32m     16\u001b[0m \u001b[0;34m\u001b[0m\u001b[0m\n\u001b[1;32m     17\u001b[0m \u001b[0;34m\u001b[0m\u001b[0m\n",
      "\u001b[0;32m<ipython-input-12-e322bfbe1830>\u001b[0m in \u001b[0;36mk_hop_neighbourhood_loop\u001b[0;34m(A, k)\u001b[0m\n\u001b[1;32m      9\u001b[0m         \u001b[0mmat\u001b[0m \u001b[0;34m=\u001b[0m \u001b[0;34m(\u001b[0m\u001b[0mmat\u001b[0m \u001b[0;34m@\u001b[0m \u001b[0mA\u001b[0m\u001b[0;34m)\u001b[0m\u001b[0;34m.\u001b[0m\u001b[0mastype\u001b[0m\u001b[0;34m(\u001b[0m\u001b[0mbool\u001b[0m\u001b[0;34m)\u001b[0m\u001b[0;34m\u001b[0m\u001b[0;34m\u001b[0m\u001b[0m\n\u001b[1;32m     10\u001b[0m         \u001b[0;32mfor\u001b[0m \u001b[0mv\u001b[0m \u001b[0;32min\u001b[0m \u001b[0mtqdm\u001b[0m\u001b[0;34m(\u001b[0m\u001b[0mrange\u001b[0m\u001b[0;34m(\u001b[0m\u001b[0mA\u001b[0m\u001b[0;34m.\u001b[0m\u001b[0mshape\u001b[0m\u001b[0;34m[\u001b[0m\u001b[0;36m0\u001b[0m\u001b[0;34m]\u001b[0m\u001b[0;34m)\u001b[0m\u001b[0;34m)\u001b[0m\u001b[0;34m:\u001b[0m\u001b[0;34m\u001b[0m\u001b[0;34m\u001b[0m\u001b[0m\n\u001b[0;32m---> 11\u001b[0;31m             \u001b[0;32mfor\u001b[0m \u001b[0mk\u001b[0m \u001b[0;32min\u001b[0m \u001b[0mmat\u001b[0m\u001b[0;34m[\u001b[0m\u001b[0mv\u001b[0m\u001b[0;34m,\u001b[0m \u001b[0;34m:\u001b[0m\u001b[0;34m]\u001b[0m\u001b[0;34m.\u001b[0m\u001b[0mnonzero\u001b[0m\u001b[0;34m(\u001b[0m\u001b[0;34m)\u001b[0m\u001b[0;34m[\u001b[0m\u001b[0;36m0\u001b[0m\u001b[0;34m]\u001b[0m\u001b[0;34m:\u001b[0m\u001b[0;34m\u001b[0m\u001b[0;34m\u001b[0m\u001b[0m\n\u001b[0m\u001b[1;32m     12\u001b[0m                 \u001b[0;32mif\u001b[0m \u001b[0mk\u001b[0m \u001b[0;32mnot\u001b[0m \u001b[0;32min\u001b[0m \u001b[0mhops\u001b[0m\u001b[0;34m:\u001b[0m\u001b[0;34m\u001b[0m\u001b[0;34m\u001b[0m\u001b[0m\n\u001b[1;32m     13\u001b[0m                     \u001b[0mhops\u001b[0m\u001b[0;34m[\u001b[0m\u001b[0mk\u001b[0m\u001b[0;34m]\u001b[0m \u001b[0;34m=\u001b[0m \u001b[0mit\u001b[0m\u001b[0;34m\u001b[0m\u001b[0;34m\u001b[0m\u001b[0m\n",
      "\u001b[0;31mKeyboardInterrupt\u001b[0m: "
     ]
    }
   ],
   "source": [
    "from collections import defaultdict\n",
    "def k_hop_neighbourhood_loop(A, k):\n",
    "    \n",
    "    hops = {i : 0 for i in range(A.shape[0])}\n",
    "    mat = sp.identity(A.shape[0], dtype=bool, format='csr')\n",
    "    A = A.tocsc().astype(bool)\n",
    "    \n",
    "    for it in range(k):\n",
    "        mat = (mat @ A).astype(bool)\n",
    "        for v in tqdm(range(A.shape[0])):\n",
    "            for k in mat[v, :].nonzero()[0]:\n",
    "                if k not in hops:\n",
    "                    hops[k] = it\n",
    "\n",
    "k_hop_neighbourhood_loop(A, 3)\n",
    "                \n",
    "            \n",
    "    \n",
    "    "
   ]
  },
  {
   "cell_type": "code",
   "execution_count": 11,
   "id": "1e40940d",
   "metadata": {},
   "outputs": [
    {
     "name": "stderr",
     "output_type": "stream",
     "text": [
      "Iterations: 100%|██████████| 3/3 [00:00<00:00, 66.37it/s]\n"
     ]
    },
    {
     "name": "stdout",
     "output_type": "stream",
     "text": [
      "To lil...\n"
     ]
    },
    {
     "name": "stderr",
     "output_type": "stream",
     "text": [
      "stricting...: 100%|██████████| 3/3 [00:00<00:00, 51.61it/s]"
     ]
    },
    {
     "name": "stdout",
     "output_type": "stream",
     "text": [
      "To csr\n"
     ]
    },
    {
     "name": "stderr",
     "output_type": "stream",
     "text": [
      "\n"
     ]
    }
   ],
   "source": [
    "K3 = k_hop_neighbourhood(A, 3)"
   ]
  },
  {
   "cell_type": "code",
   "execution_count": null,
   "id": "a447a917",
   "metadata": {},
   "outputs": [],
   "source": []
  },
  {
   "cell_type": "code",
   "execution_count": null,
   "id": "9f556afb",
   "metadata": {},
   "outputs": [],
   "source": []
  },
  {
   "cell_type": "code",
   "execution_count": null,
   "id": "3ab1e95c",
   "metadata": {},
   "outputs": [],
   "source": []
  },
  {
   "cell_type": "code",
   "execution_count": 246,
   "id": "a53bb2ea",
   "metadata": {},
   "outputs": [
    {
     "name": "stderr",
     "output_type": "stream",
     "text": [
      "Iterations: 100%|██████████| 2/2 [00:26<00:00, 13.36s/it]\n"
     ]
    },
    {
     "name": "stdout",
     "output_type": "stream",
     "text": [
      "To lil...\n"
     ]
    },
    {
     "name": "stderr",
     "output_type": "stream",
     "text": [
      "stricting...: 100%|██████████| 2/2 [00:09<00:00,  4.72s/it]\n"
     ]
    },
    {
     "name": "stdout",
     "output_type": "stream",
     "text": [
      "To csr\n"
     ]
    }
   ],
   "source": [
    "\n",
    "A_2hops = k_hop_neighbourhood(A, 2)"
   ]
  },
  {
   "cell_type": "code",
   "execution_count": 230,
   "id": "5c031837",
   "metadata": {},
   "outputs": [],
   "source": [
    "A_2hops_adj_list = {k : set(v) for k, v in get_k_hop_neighbourhood(torch.tensor(edge_index), 2, k_min=2).items()}"
   ]
  },
  {
   "cell_type": "code",
   "execution_count": 231,
   "id": "5ae479ed",
   "metadata": {},
   "outputs": [],
   "source": [
    "A_2hops_adj_list2 = defaultdict(set)\n",
    "for u, v in zip(*A_2hops.nonzero()):\n",
    "    A_2hops_adj_list2[u].add(v)\n"
   ]
  },
  {
   "cell_type": "code",
   "execution_count": 232,
   "id": "43d25516",
   "metadata": {},
   "outputs": [
    {
     "data": {
      "text/plain": [
       "(set(), set())"
      ]
     },
     "execution_count": 232,
     "metadata": {},
     "output_type": "execute_result"
    }
   ],
   "source": [
    "A_2hops_adj_list2[1] - A_2hops_adj_list[1], A_2hops_adj_list[1] - A_2hops_adj_list2[1]"
   ]
  },
  {
   "cell_type": "code",
   "execution_count": 233,
   "id": "11ef7f42",
   "metadata": {},
   "outputs": [
    {
     "data": {
      "text/plain": [
       "True"
      ]
     },
     "execution_count": 233,
     "metadata": {},
     "output_type": "execute_result"
    }
   ],
   "source": [
    "A_2hops_adj_list2 == A_2hops_adj_list"
   ]
  },
  {
   "cell_type": "code",
   "execution_count": null,
   "id": "055d3e11",
   "metadata": {},
   "outputs": [],
   "source": []
  },
  {
   "cell_type": "code",
   "execution_count": 226,
   "id": "ce8a060a",
   "metadata": {},
   "outputs": [],
   "source": [
    "for k in A_2hops_adj_list2.keys():\n",
    "    if not A_2hops_adj_list2[k] == A_2hops_adj_list[k]:\n",
    "        print(k)"
   ]
  },
  {
   "cell_type": "code",
   "execution_count": 161,
   "id": "e7427fab",
   "metadata": {},
   "outputs": [
    {
     "data": {
      "text/plain": [
       "{1200,\n",
       " 1255,\n",
       " 1282,\n",
       " 1288,\n",
       " 1472,\n",
       " 1474,\n",
       " 1477,\n",
       " 1582,\n",
       " 1583,\n",
       " 1668,\n",
       " 1669,\n",
       " 1674,\n",
       " 2242,\n",
       " 2247,\n",
       " 2397,\n",
       " 2677}"
      ]
     },
     "execution_count": 161,
     "metadata": {},
     "output_type": "execute_result"
    }
   ],
   "source": [
    "A_2hops_adj_list[0]"
   ]
  },
  {
   "cell_type": "code",
   "execution_count": 144,
   "id": "d9660db0",
   "metadata": {},
   "outputs": [
    {
     "data": {
      "text/plain": [
       "{0,\n",
       " 1200,\n",
       " 1255,\n",
       " 1282,\n",
       " 1288,\n",
       " 1472,\n",
       " 1474,\n",
       " 1477,\n",
       " 1579,\n",
       " 1581,\n",
       " 1582,\n",
       " 1583,\n",
       " 1668,\n",
       " 1669,\n",
       " 1674,\n",
       " 2241,\n",
       " 2242,\n",
       " 2247,\n",
       " 2397,\n",
       " 2677}"
      ]
     },
     "execution_count": 144,
     "metadata": {},
     "output_type": "execute_result"
    }
   ],
   "source": [
    "A_2hops_adj_list2[0]"
   ]
  },
  {
   "cell_type": "code",
   "execution_count": 139,
   "id": "a6ac5d86",
   "metadata": {},
   "outputs": [
    {
     "data": {
      "text/plain": [
       "array([1579, 1581, 2241])"
      ]
     },
     "execution_count": 139,
     "metadata": {},
     "output_type": "execute_result"
    }
   ],
   "source": [
    "np.where(A.tocsr()[0].todense() > 0)[1]"
   ]
  },
  {
   "cell_type": "code",
   "execution_count": 140,
   "id": "31a97011",
   "metadata": {},
   "outputs": [
    {
     "data": {
      "text/plain": [
       "{0, 1579, 1581, 2241}"
      ]
     },
     "execution_count": 140,
     "metadata": {},
     "output_type": "execute_result"
    }
   ],
   "source": [
    "A_2hops_adj_list2[0] - A_2hops_adj_list[0]"
   ]
  },
  {
   "cell_type": "code",
   "execution_count": 44,
   "id": "2715bb2b",
   "metadata": {},
   "outputs": [
    {
     "data": {
      "text/plain": [
       "matrix([[3., 0., 0., ..., 0., 0., 0.],\n",
       "        [0., 7., 1., ..., 0., 0., 0.],\n",
       "        [0., 1., 7., ..., 0., 0., 0.],\n",
       "        ...,\n",
       "        [0., 0., 0., ..., 2., 0., 0.],\n",
       "        [0., 0., 0., ..., 0., 3., 0.],\n",
       "        [0., 0., 0., ..., 0., 0., 1.]])"
      ]
     },
     "execution_count": 44,
     "metadata": {},
     "output_type": "execute_result"
    }
   ],
   "source": [
    "test = test.reshape((-1, 1))\n",
    "A2.multiply(test).nnz, A2.nnz\n",
    "A2.todense()"
   ]
  },
  {
   "cell_type": "code",
   "execution_count": 30,
   "id": "23c4cb98",
   "metadata": {},
   "outputs": [],
   "source": [
    "nnz = np.array(A2.nonzero())"
   ]
  },
  {
   "cell_type": "code",
   "execution_count": null,
   "id": "2ff2d1b0",
   "metadata": {},
   "outputs": [],
   "source": []
  },
  {
   "cell_type": "code",
   "execution_count": 31,
   "id": "c4997bc4",
   "metadata": {},
   "outputs": [
    {
     "data": {
      "text/plain": [
       "(2, 212634)"
      ]
     },
     "execution_count": 31,
     "metadata": {},
     "output_type": "execute_result"
    }
   ],
   "source": [
    "nnz.shape"
   ]
  },
  {
   "cell_type": "code",
   "execution_count": 9,
   "id": "188afa9a",
   "metadata": {},
   "outputs": [],
   "source": [
    "from util import get_k_hop_neighbourhood"
   ]
  },
  {
   "cell_type": "code",
   "execution_count": null,
   "id": "94f5344f",
   "metadata": {},
   "outputs": [],
   "source": []
  },
  {
   "cell_type": "code",
   "execution_count": 237,
   "id": "b9c07763",
   "metadata": {},
   "outputs": [
    {
     "data": {
      "text/plain": [
       "tensor([0, 1, 2, 1])"
      ]
     },
     "execution_count": 237,
     "metadata": {},
     "output_type": "execute_result"
    }
   ],
   "source": [
    "A = sp.csr_matrix(np.array([\n",
    "    [0, 1, 1, 0],\n",
    "    [1, 0, 0, 0],\n",
    "    [1, 0, 0, 1],\n",
    "    [0, 0, 0, 1]\n",
    "])).astype(bool)\n",
    "\n",
    "attr = np.array([\n",
    "    True, False, False, True\n",
    "])\n",
    "\n",
    "torch.tensor(A.multiply(attr[None, :]).sum(1)).squeeze()"
   ]
  },
  {
   "cell_type": "code",
   "execution_count": 56,
   "id": "731fbefd",
   "metadata": {},
   "outputs": [
    {
     "data": {
      "text/plain": [
       "matrix([[ True, False, False,  True],\n",
       "        [False,  True,  True, False],\n",
       "        [False,  True,  True,  True],\n",
       "        [False, False, False,  True]])"
      ]
     },
     "execution_count": 56,
     "metadata": {},
     "output_type": "execute_result"
    }
   ],
   "source": [
    "(A @ A).todense()"
   ]
  },
  {
   "cell_type": "code",
   "execution_count": null,
   "id": "bd3f70f9",
   "metadata": {},
   "outputs": [],
   "source": []
  },
  {
   "cell_type": "code",
   "execution_count": null,
   "id": "d9103087",
   "metadata": {},
   "outputs": [],
   "source": []
  }
 ],
 "metadata": {
  "kernelspec": {
   "display_name": "Python 3",
   "language": "python",
   "name": "python3"
  },
  "language_info": {
   "codemirror_mode": {
    "name": "ipython",
    "version": 3
   },
   "file_extension": ".py",
   "mimetype": "text/x-python",
   "name": "python",
   "nbconvert_exporter": "python",
   "pygments_lexer": "ipython3",
   "version": "3.9.5"
  }
 },
 "nbformat": 4,
 "nbformat_minor": 5
}
