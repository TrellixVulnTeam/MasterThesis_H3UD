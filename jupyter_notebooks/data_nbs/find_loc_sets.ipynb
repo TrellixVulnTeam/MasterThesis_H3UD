{
 "cells": [
  {
   "cell_type": "code",
   "execution_count": 1,
   "id": "4a7e25ad",
   "metadata": {},
   "outputs": [],
   "source": [
    "import numpy as np\n",
    "import torch\n",
    "import matplotlib.pyplot as plt\n",
    "import seaborn as sns\n",
    "import pandas as pd\n",
    "from scipy.spatial import distance_matrix\n",
    "import itertools\n",
    "import scipy.sparse as sp\n",
    "from tqdm import tqdm\n",
    "import operator\n",
    "import functools\n",
    "import yaml\n",
    "import math"
   ]
  },
  {
   "cell_type": "code",
   "execution_count": 2,
   "id": "1168d480",
   "metadata": {},
   "outputs": [],
   "source": [
    "import logging as l\n",
    "\n",
    "l.basicConfig(level=l.INFO)"
   ]
  },
  {
   "cell_type": "code",
   "execution_count": 3,
   "id": "3df6dc9f",
   "metadata": {},
   "outputs": [
    {
     "name": "stdout",
     "output_type": "stream",
     "text": [
      "/nfs/homedirs/fuchsgru/MastersThesis\n"
     ]
    }
   ],
   "source": [
    "%cd ../.."
   ]
  },
  {
   "cell_type": "code",
   "execution_count": 4,
   "id": "5bded75d",
   "metadata": {},
   "outputs": [],
   "source": [
    "from data.construct import load_data_from_configuration, load_base_data_from_configuration\n",
    "import configuration\n",
    "import data.constants as dc"
   ]
  },
  {
   "cell_type": "code",
   "execution_count": 5,
   "id": "a3eb6994",
   "metadata": {},
   "outputs": [],
   "source": [
    "config = configuration.DataConfiguration(\n",
    "    dataset='ogbn_arxiv', \n",
    "    preprocessing='none',\n",
    "    type='npz',\n",
    "    #preprocessing='word_embedding',\n",
    "    #language_model = 'bert-base-uncased',\n",
    "    #language_model = 'sentence-transformers/paraphrase-multilingual-MiniLM-L12-v2',\n",
    "    #language_model = 'allenai/longformer-base-4096',\n",
    "    drop_train_vertices_portion = 0.1,\n",
    ")"
   ]
  },
  {
   "cell_type": "code",
   "execution_count": 6,
   "id": "56280252",
   "metadata": {},
   "outputs": [],
   "source": [
    "if config.dataset == 'cora_full':\n",
    "    config.base_labels = ['Artificial_Intelligence/Machine_Learning/Case-Based', 'Artificial_Intelligence/Machine_Learning/Theory', 'Artificial_Intelligence/Machine_Learning/Genetic_Algorithms', 'Artificial_Intelligence/Machine_Learning/Probabilistic_Methods', 'Artificial_Intelligence/Machine_Learning/Neural_Networks','Artificial_Intelligence/Machine_Learning/Rule_Learning','Artificial_Intelligence/Machine_Learning/Reinforcement_Learning','Operating_Systems/Distributed', 'Operating_Systems/Memory_Management', 'Operating_Systems/Realtime', 'Operating_Systems/Fault_Tolerance']"
   ]
  },
  {
   "cell_type": "code",
   "execution_count": 7,
   "id": "d57e05b7",
   "metadata": {},
   "outputs": [
    {
     "data": {
      "text/plain": [
       "DataConfiguration(dataset='ogbn_arxiv', train_portion=20, val_portion=20, test_portion_fixed=1.0, base_labels='all', train_labels='all', corpus_labels='all', left_out_class_labels=[], max_attempts_per_split=5, drop_train_vertices_portion=0.1, setting='transductive', ood_type='perturbations', ood_sampling_strategy='all', split_type='uniform', type='npz', perturbation_budget=0.1, min_token_frequency=10, preprocessing='none', language_model='bert-base-uncased', normalize='l2', vectorizer='tf-idf', integrity_assertion=True)"
      ]
     },
     "execution_count": 7,
     "metadata": {},
     "output_type": "execute_result"
    }
   ],
   "source": [
    "config"
   ]
  },
  {
   "cell_type": "code",
   "execution_count": 8,
   "id": "5b896507",
   "metadata": {},
   "outputs": [
    {
     "data": {
      "text/plain": [
       "['adj_data',\n",
       " 'adj_indices',\n",
       " 'adj_indptr',\n",
       " 'adj_shape',\n",
       " 'attr_text',\n",
       " 'features',\n",
       " 'labels',\n",
       " 'year',\n",
       " 'idx_to_class',\n",
       " 'idx_to_node',\n",
       " 'mask_train',\n",
       " 'mask_val',\n",
       " 'mask_test']"
      ]
     },
     "execution_count": 8,
     "metadata": {},
     "output_type": "execute_result"
    }
   ],
   "source": [
    "import data.npz\n",
    "\n",
    "npz_data = np.load(data.npz.NpzDataset.raw_files[config.dataset], allow_pickle=True)\n",
    "list(npz_data.keys())"
   ]
  },
  {
   "cell_type": "code",
   "execution_count": 9,
   "id": "ea4fea9d",
   "metadata": {},
   "outputs": [
    {
     "name": "stderr",
     "output_type": "stream",
     "text": [
      "INFO:root:Data Loading - Loaded adjacency matrix.\n",
      "INFO:root:Data Loading - Built attribute matrix.\n"
     ]
    }
   ],
   "source": [
    "from data.split import _make_base_data\n",
    "_, _, mask_fixed, mask_non_fixed, x_base, edge_index_base, y_base, vertex_to_idx_base, label_to_idx_base, base_labels, train_labels, \\\n",
    "    left_out_class_labels = _make_base_data(load_base_data_from_configuration(config), config)\n"
   ]
  },
  {
   "cell_type": "code",
   "execution_count": 10,
   "id": "0e2aec2f",
   "metadata": {},
   "outputs": [
    {
     "data": {
      "text/plain": [
       "{(0, 565),\n",
       " (1, 687),\n",
       " (2, 4839),\n",
       " (3, 2080),\n",
       " (4, 5862),\n",
       " (5, 4958),\n",
       " (6, 1618),\n",
       " (7, 589),\n",
       " (8, 6232),\n",
       " (9, 2820),\n",
       " (10, 7869),\n",
       " (11, 750),\n",
       " (12, 29),\n",
       " (13, 2358),\n",
       " (14, 597),\n",
       " (15, 403),\n",
       " (16, 27321),\n",
       " (17, 515),\n",
       " (18, 749),\n",
       " (19, 2877),\n",
       " (20, 2076),\n",
       " (21, 393),\n",
       " (22, 1903),\n",
       " (23, 2834),\n",
       " (24, 22187),\n",
       " (25, 1257),\n",
       " (26, 4605),\n",
       " (27, 4801),\n",
       " (28, 21406),\n",
       " (29, 416),\n",
       " (30, 11814),\n",
       " (31, 2828),\n",
       " (32, 411),\n",
       " (33, 1271),\n",
       " (34, 7867),\n",
       " (35, 127),\n",
       " (36, 3524),\n",
       " (37, 2369),\n",
       " (38, 1507),\n",
       " (39, 2029)}"
      ]
     },
     "execution_count": 10,
     "metadata": {},
     "output_type": "execute_result"
    }
   ],
   "source": [
    "{*zip(*np.unique(np.load(data.npz.NpzDataset.raw_files[config.dataset], allow_pickle=True)['labels'], return_counts=True))}"
   ]
  },
  {
   "cell_type": "code",
   "execution_count": 11,
   "id": "9cbb6a6f",
   "metadata": {},
   "outputs": [
    {
     "data": {
      "text/plain": [
       "{(0, 565),\n",
       " (1, 687),\n",
       " (2, 4839),\n",
       " (3, 2080),\n",
       " (4, 5862),\n",
       " (5, 4958),\n",
       " (6, 1618),\n",
       " (7, 589),\n",
       " (8, 6232),\n",
       " (9, 2820),\n",
       " (10, 7869),\n",
       " (11, 750),\n",
       " (12, 29),\n",
       " (13, 2358),\n",
       " (14, 597),\n",
       " (15, 403),\n",
       " (16, 27321),\n",
       " (17, 515),\n",
       " (18, 749),\n",
       " (19, 2877),\n",
       " (20, 2076),\n",
       " (21, 393),\n",
       " (22, 1903),\n",
       " (23, 2834),\n",
       " (24, 22187),\n",
       " (25, 1257),\n",
       " (26, 4605),\n",
       " (27, 4801),\n",
       " (28, 21406),\n",
       " (29, 416),\n",
       " (30, 11814),\n",
       " (31, 2828),\n",
       " (32, 411),\n",
       " (33, 1271),\n",
       " (34, 7867),\n",
       " (35, 127),\n",
       " (36, 3524),\n",
       " (37, 2369),\n",
       " (38, 1507),\n",
       " (39, 2029)}"
      ]
     },
     "execution_count": 11,
     "metadata": {},
     "output_type": "execute_result"
    }
   ],
   "source": [
    "{*zip(*np.unique(y_base, return_counts=True))}"
   ]
  },
  {
   "cell_type": "code",
   "execution_count": 12,
   "id": "498310ec",
   "metadata": {},
   "outputs": [],
   "source": [
    "n = x_base.shape[0]\n",
    "A = sp.coo_matrix((np.ones(edge_index_base.shape[1]), edge_index_base), shape=(n, n)).tocsr()"
   ]
  },
  {
   "cell_type": "code",
   "execution_count": 13,
   "id": "ce81350d",
   "metadata": {},
   "outputs": [],
   "source": [
    "# Calculate community affiliation matrix\n",
    "num_classes = y_base.max() + 1\n",
    "communities_num_edges = np.zeros((num_classes, num_classes), dtype=int)\n",
    "for i, j in itertools.product(range(num_classes), repeat=2):\n",
    "    communities_num_edges[i, j] = A[y_base == i][:, y_base == j].nnz\n"
   ]
  },
  {
   "cell_type": "code",
   "execution_count": 14,
   "id": "aedb945b",
   "metadata": {},
   "outputs": [],
   "source": [
    "class_names = [None for _ in range(num_classes)]\n",
    "for label, idx in label_to_idx_base.items():\n",
    "    class_names[idx] = label\n",
    "class_names = np.array(class_names)\n"
   ]
  },
  {
   "cell_type": "markdown",
   "id": "6791bcff",
   "metadata": {},
   "source": [
    "# Row normalized community affiliations"
   ]
  },
  {
   "cell_type": "code",
   "execution_count": 15,
   "id": "a5dba1fa",
   "metadata": {},
   "outputs": [
    {
     "data": {
      "text/plain": [
       "<AxesSubplot:>"
      ]
     },
     "execution_count": 15,
     "metadata": {},
     "output_type": "execute_result"
    },
    {
     "data": {
      "image/png": "[encoded data removed]",
      "text/plain": [
       "<Figure size 432x288 with 2 Axes>"
      ]
     },
     "metadata": {
      "needs_background": "light"
     },
     "output_type": "display_data"
    }
   ],
   "source": [
    "# Row normalize\n",
    "communities_num_edges_norm = communities_num_edges / communities_num_edges.sum(1)[:, None]\n",
    "sns.heatmap(pd.DataFrame(communities_num_edges_norm, class_names, class_names))"
   ]
  },
  {
   "cell_type": "markdown",
   "id": "93b5bdf6",
   "metadata": {},
   "source": [
    "# Get homophily ratios between different sets of communites\n",
    "### Use this to detect a suitable set of OOD classes"
   ]
  },
  {
   "cell_type": "code",
   "execution_count": 19,
   "id": "4290627d",
   "metadata": {},
   "outputs": [
    {
     "name": "stdout",
     "output_type": "stream",
     "text": [
      "847660528 potential loc sets\n"
     ]
    }
   ],
   "source": [
    "loc_size_by_dataset = {\n",
    "    dc.CORA_ML : 2,\n",
    "    dc.CITESEER : 2,\n",
    "    dc.PUBMED : 1,\n",
    "    dc.OGBN_ARXIV : 10,\n",
    "    dc.COAUTHOR_CS : 3,\n",
    "    dc.COAUTHOR_PHYSICS : 1,\n",
    "    dc.AMAZON_COMPUTERS : 2,\n",
    "    dc.AMAZON_PHOTO : 3,\n",
    "}\n",
    "# Number of partitions bin(num_classes, loc_size) = \n",
    "choice_size = loc_size_by_dataset[config.dataset]\n",
    "print(f'{math.comb(num_classes, choice_size)} potential loc sets')"
   ]
  },
  {
   "cell_type": "code",
   "execution_count": 20,
   "id": "2dc0f9ad",
   "metadata": {},
   "outputs": [],
   "source": [
    "num_samples = 1000000"
   ]
  },
  {
   "cell_type": "code",
   "execution_count": 21,
   "id": "b7596a6e",
   "metadata": {},
   "outputs": [
    {
     "name": "stdout",
     "output_type": "stream",
     "text": [
      "Sampling 1000000 random sets\n"
     ]
    },
    {
     "name": "stderr",
     "output_type": "stream",
     "text": [
      "100%|██████████| 1000000/1000000 [01:35<00:00, 10473.08it/s]\n"
     ]
    }
   ],
   "source": [
    "\n",
    "\n",
    "df_part_size = []\n",
    "\n",
    "if math.comb(num_classes, choice_size) < num_samples:\n",
    "    print('Checking all potential loc sets')\n",
    "    for partition in itertools.combinations(range(num_classes), choice_size):\n",
    "        mask = np.zeros(num_classes, dtype=bool)\n",
    "        mask[list(partition)] = True\n",
    "        if mask.sum() == 0 or mask.sum() == num_classes:\n",
    "            continue\n",
    "\n",
    "        if mask.sum() > mask.shape[0] / 2:\n",
    "            mask = ~mask\n",
    "\n",
    "        num_inter = float(communities_num_edges[mask][:, ~mask].sum())\n",
    "        num_intra = float(communities_num_edges[mask][:, mask].sum())\n",
    "\n",
    "        df_part_size.append({\n",
    "            'Ratio Inter' : num_inter / (num_inter + num_intra + 1e-10),\n",
    "            'Ratio Intra' : num_intra / (num_inter + num_intra + 1e-10),\n",
    "            'OOD' : class_names[mask].tolist(),\n",
    "            })\n",
    "else:\n",
    "    print(f'Sampling {num_samples} random sets')\n",
    "    for _ in tqdm(range(num_samples)):\n",
    "        choice = np.random.choice(num_classes, size=choice_size, replace=False)\n",
    "\n",
    "        mask = np.zeros(num_classes, dtype=bool)\n",
    "        mask[list(choice)] = True\n",
    "\n",
    "        if mask.sum() > mask.shape[0] / 2:\n",
    "            mask = ~mask\n",
    "\n",
    "        num_inter = float(communities_num_edges[mask][:, ~mask].sum())\n",
    "        num_intra = float(communities_num_edges[mask][:, mask].sum())\n",
    "\n",
    "        df_part_size.append({\n",
    "            'Ratio Inter' : num_inter / (num_inter + num_intra + 1e-10),\n",
    "            'Ratio Intra' : num_intra / (num_inter + num_intra + 1e-10),\n",
    "            'OOD' : class_names[mask].tolist(),\n",
    "            })\n",
    "        \n",
    "df_part_size = pd.DataFrame(df_part_size)     \n",
    "        \n",
    "    "
   ]
  },
  {
   "cell_type": "code",
   "execution_count": 22,
   "id": "21542b76",
   "metadata": {},
   "outputs": [
    {
     "name": "stdout",
     "output_type": "stream",
     "text": [
      "|        |   Ratio Inter |   Ratio Intra | OOD                                                                                                                                                    |\n",
      "|-------:|--------------:|--------------:|:-------------------------------------------------------------------------------------------------------------------------------------------------------|\n",
      "| 531023 |     0.0573241 |      0.942676 | ['arxiv cs ai', 'arxiv cs ne', 'arxiv cs sc', 'arxiv cs cv', 'arxiv cs gr', 'arxiv cs se', 'arxiv cs lg', 'arxiv cs ro', 'arxiv cs cl', 'arxiv cs ir'] |\n",
      "| 763518 |     0.0585971 |      0.941403 | ['arxiv cs ce', 'arxiv cs ai', 'arxiv cs ne', 'arxiv cs cv', 'arxiv cs sy', 'arxiv cs lg', 'arxiv cs si', 'arxiv cs ro', 'arxiv cs cl', 'arxiv cs ir'] |\n",
      "| 336217 |     0.0593734 |      0.940627 | ['arxiv cs mm', 'arxiv cs ai', 'arxiv cs ne', 'arxiv cs cv', 'arxiv cs et', 'arxiv cs lg', 'arxiv cs ro', 'arxiv cs cl', 'arxiv cs ir', 'arxiv cs db'] |\n",
      "| 364375 |     0.0604806 |      0.939519 | ['arxiv cs ai', 'arxiv cs ne', 'arxiv cs ar', 'arxiv cs cv', 'arxiv cs se', 'arxiv cs lg', 'arxiv cs ro', 'arxiv cs pf', 'arxiv cs cl', 'arxiv cs ir'] |\n",
      "| 262897 |     0.0607339 |      0.939266 | ['arxiv cs ai', 'arxiv cs ma', 'arxiv cs ne', 'arxiv cs cv', 'arxiv cs sy', 'arxiv cs lg', 'arxiv cs ro', 'arxiv cs cl', 'arxiv cs ir', 'arxiv cs fl'] |\n",
      "| 411812 |     0.0608967 |      0.939103 | ['arxiv cs cr', 'arxiv cs ai', 'arxiv cs ne', 'arxiv cs ar', 'arxiv cs cv', 'arxiv cs gr', 'arxiv cs lg', 'arxiv cs ro', 'arxiv cs cl', 'arxiv cs db'] |\n",
      "|  78663 |     0.0609885 |      0.939011 | ['arxiv cs ce', 'arxiv cs ai', 'arxiv cs ma', 'arxiv cs ne', 'arxiv cs cv', 'arxiv cs lg', 'arxiv cs sd', 'arxiv cs si', 'arxiv cs ro', 'arxiv cs cl'] |\n",
      "| 549824 |     0.0612467 |      0.938753 | ['arxiv cs cy', 'arxiv cs ai', 'arxiv cs ne', 'arxiv cs cv', 'arxiv cs lg', 'arxiv cs ro', 'arxiv cs pf', 'arxiv cs cl', 'arxiv cs ir', 'arxiv cs db'] |\n",
      "| 361281 |     0.0620947 |      0.937905 | ['arxiv cs ai', 'arxiv cs gl', 'arxiv cs ne', 'arxiv cs cv', 'arxiv cs oh', 'arxiv cs lg', 'arxiv cs sd', 'arxiv cs ro', 'arxiv cs it', 'arxiv cs cl'] |\n",
      "| 838514 |     0.0622122 |      0.937788 | ['arxiv cs lo', 'arxiv cs cy', 'arxiv cs ai', 'arxiv cs ne', 'arxiv cs cv', 'arxiv cs lg', 'arxiv cs ro', 'arxiv cs cl', 'arxiv cs ir', 'arxiv cs fl'] |\n",
      "| 461975 |     0.0622252 |      0.937775 | ['arxiv cs ai', 'arxiv cs ne', 'arxiv cs cv', 'arxiv cs lg', 'arxiv cs si', 'arxiv cs ro', 'arxiv cs cl', 'arxiv cs ir', 'arxiv cs fl', 'arxiv cs dm'] |\n",
      "| 729216 |     0.062289  |      0.937711 | ['arxiv cs na', 'arxiv cs lo', 'arxiv cs cr', 'arxiv cs ai', 'arxiv cs ne', 'arxiv cs cv', 'arxiv cs lg', 'arxiv cs ro', 'arxiv cs it', 'arxiv cs cl'] |\n",
      "|  43174 |     0.0625268 |      0.937473 | ['arxiv cs dc', 'arxiv cs ai', 'arxiv cs ne', 'arxiv cs cv', 'arxiv cs pl', 'arxiv cs lg', 'arxiv cs sd', 'arxiv cs ro', 'arxiv cs it', 'arxiv cs cl'] |\n",
      "| 536107 |     0.0636143 |      0.936386 | ['arxiv cs cr', 'arxiv cs ai', 'arxiv cs ne', 'arxiv cs cv', 'arxiv cs cg', 'arxiv cs lg', 'arxiv cs si', 'arxiv cs ro', 'arxiv cs cl', 'arxiv cs gt'] |\n",
      "|  75522 |     0.0638819 |      0.936118 | ['arxiv cs lo', 'arxiv cs ai', 'arxiv cs ne', 'arxiv cs cv', 'arxiv cs lg', 'arxiv cs ro', 'arxiv cs it', 'arxiv cs cl', 'arxiv cs ir', 'arxiv cs dm'] |\n",
      "| 353793 |     0.0641072 |      0.935893 | ['arxiv cs na', 'arxiv cs dc', 'arxiv cs ai', 'arxiv cs ne', 'arxiv cs cv', 'arxiv cs lg', 'arxiv cs sd', 'arxiv cs ro', 'arxiv cs cl', 'arxiv cs os'] |\n",
      "| 449088 |     0.0641844 |      0.935816 | ['arxiv cs na', 'arxiv cs ai', 'arxiv cs ne', 'arxiv cs sc', 'arxiv cs cv', 'arxiv cs lg', 'arxiv cs si', 'arxiv cs ro', 'arxiv cs it', 'arxiv cs cl'] |\n",
      "| 818476 |     0.0641954 |      0.935805 | ['arxiv cs mm', 'arxiv cs ai', 'arxiv cs ne', 'arxiv cs sc', 'arxiv cs ar', 'arxiv cs cv', 'arxiv cs lg', 'arxiv cs ro', 'arxiv cs it', 'arxiv cs cl'] |\n",
      "| 145514 |     0.0641967 |      0.935803 | ['arxiv cs lo', 'arxiv cs cr', 'arxiv cs dc', 'arxiv cs ai', 'arxiv cs ne', 'arxiv cs cv', 'arxiv cs sy', 'arxiv cs lg', 'arxiv cs ro', 'arxiv cs cl'] |\n",
      "| 831922 |     0.064249  |      0.935751 | ['arxiv cs cr', 'arxiv cs ai', 'arxiv cs ne', 'arxiv cs cv', 'arxiv cs cg', 'arxiv cs lg', 'arxiv cs si', 'arxiv cs ro', 'arxiv cs cl', 'arxiv cs fl'] |\n"
     ]
    }
   ],
   "source": [
    "print(df_part_size.sort_values(by='Ratio Inter', ascending=True)[:20].to_markdown())"
   ]
  },
  {
   "cell_type": "code",
   "execution_count": 23,
   "id": "2fb88d63",
   "metadata": {},
   "outputs": [
    {
     "data": {
      "text/plain": [
       "(array([1.79360e+04, 1.11001e+05, 2.63356e+05, 1.84697e+05, 1.10101e+05,\n",
       "        1.76374e+05, 1.04482e+05, 2.96770e+04, 2.26700e+03, 1.09000e+02]),\n",
       " array([0.05732411, 0.12720342, 0.19708274, 0.26696205, 0.33684136,\n",
       "        0.40672067, 0.47659999, 0.5464793 , 0.61635861, 0.68623792,\n",
       "        0.75611724]),\n",
       " <BarContainer object of 10 artists>)"
      ]
     },
     "execution_count": 23,
     "metadata": {},
     "output_type": "execute_result"
    },
    {
     "data": {
      "image/png": "[encoded data removed]",
      "text/plain": [
       "<Figure size 432x288 with 1 Axes>"
      ]
     },
     "metadata": {
      "needs_background": "light"
     },
     "output_type": "display_data"
    }
   ],
   "source": [
    "plt.hist(df_part_size['Ratio Inter'])"
   ]
  },
  {
   "cell_type": "code",
   "execution_count": null,
   "id": "b45c0e28",
   "metadata": {},
   "outputs": [],
   "source": []
  },
  {
   "cell_type": "code",
   "execution_count": null,
   "id": "584aebdf",
   "metadata": {},
   "outputs": [],
   "source": []
  }
 ],
 "metadata": {
  "kernelspec": {
   "display_name": "Python 3",
   "language": "python",
   "name": "python3"
  },
  "language_info": {
   "codemirror_mode": {
    "name": "ipython",
    "version": 3
   },
   "file_extension": ".py",
   "mimetype": "text/x-python",
   "name": "python",
   "nbconvert_exporter": "python",
   "pygments_lexer": "ipython3",
   "version": "3.9.5"
  }
 },
 "nbformat": 4,
 "nbformat_minor": 5
}
