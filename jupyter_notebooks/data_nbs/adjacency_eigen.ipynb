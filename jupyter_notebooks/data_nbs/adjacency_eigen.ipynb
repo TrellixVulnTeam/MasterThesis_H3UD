{
 "cells": [
  {
   "cell_type": "code",
   "execution_count": 1,
   "id": "df886907",
   "metadata": {},
   "outputs": [],
   "source": [
    "import numpy as np\n",
    "import matplotlib.pyplot as plt\n",
    "import pandas as pd\n",
    "import seaborn as sns\n",
    "import scipy.sparse as sp\n",
    "import os.path as osp\n",
    "import os\n",
    "import torch\n",
    "import torch_geometric as tg\n",
    "import pickle\n",
    "from collections import defaultdict"
   ]
  },
  {
   "cell_type": "code",
   "execution_count": 2,
   "id": "24ea4ee5",
   "metadata": {},
   "outputs": [
    {
     "name": "stdout",
     "output_type": "stream",
     "text": [
      "/nfs/homedirs/fuchsgru/MastersThesis\n"
     ]
    }
   ],
   "source": [
    "%cd ../.."
   ]
  },
  {
   "cell_type": "code",
   "execution_count": 3,
   "id": "2a5a9001",
   "metadata": {},
   "outputs": [],
   "source": [
    "import data.constants as dc\n",
    "from util import all_equal"
   ]
  },
  {
   "cell_type": "code",
   "execution_count": 6,
   "id": "4932b42e",
   "metadata": {},
   "outputs": [
    {
     "name": "stdout",
     "output_type": "stream",
     "text": [
      "Analyzing cora_full\n"
     ]
    }
   ],
   "source": [
    "df = []\n",
    "\n",
    "for dataset in (dc.CORA_FULL, ):\n",
    "    print(f'Analyzing {dataset}')\n",
    "    base_dir = osp.join('.exported_datasets', dataset)\n",
    "    split_dir = osp.join(base_dir, f'transductive-perturbations')\n",
    "    for fn in [osp.join(split_dir, fn) for fn in os.listdir(split_dir)]:\n",
    "        with open(fn, 'rb') as f:\n",
    "            storage = pickle.load(f)"
   ]
  },
  {
   "cell_type": "code",
   "execution_count": 20,
   "id": "06155160",
   "metadata": {},
   "outputs": [
    {
     "data": {
      "text/plain": [
       "(array([1.        +0.j, 0.99473494+0.j, 0.99126098+0.j, 0.98887635+0.j,\n",
       "        0.98677544+0.j, 0.98564315+0.j, 0.98114256+0.j, 0.98063225+0.j,\n",
       "        0.97810301+0.j, 0.9771312 +0.j, 0.97385163+0.j, 0.96908712+0.j,\n",
       "        0.96477063+0.j, 0.95825136+0.j, 0.95727629+0.j, 0.9566182 +0.j,\n",
       "        0.95584338+0.j, 0.95458674+0.j, 0.95354598+0.j, 0.95284077+0.j,\n",
       "        0.95071207+0.j, 0.94950312+0.j, 0.94918543+0.j, 0.94869041+0.j,\n",
       "        0.94783293+0.j]),\n",
       " array([[ 0.01459737+0.j, -0.00127934+0.j,  0.00405724+0.j, ...,\n",
       "         -0.00136986+0.j, -0.00038115+0.j,  0.0003401 +0.j],\n",
       "        [ 0.0206438 +0.j, -0.00107588+0.j,  0.00327667+0.j, ...,\n",
       "          0.00658683+0.j,  0.00356081+0.j, -0.01704607+0.j],\n",
       "        [ 0.0206438 +0.j, -0.00116232+0.j,  0.002801  +0.j, ...,\n",
       "          0.00432031+0.j,  0.00202043+0.j, -0.01089009+0.j],\n",
       "        ...,\n",
       "        [ 0.0126417 +0.j, -0.00079471+0.j,  0.00202098+0.j, ...,\n",
       "         -0.00199039+0.j,  0.00078332+0.j,  0.00305074+0.j],\n",
       "        [ 0.01459737+0.j, -0.00107168+0.j,  0.00301133+0.j, ...,\n",
       "          0.00756206+0.j,  0.00092406+0.j,  0.00015372+0.j],\n",
       "        [ 0.0103219 +0.j, -0.00065727+0.j,  0.00154915+0.j, ...,\n",
       "          0.00172924+0.j,  0.00042593+0.j, -0.00011247+0.j]]))"
      ]
     },
     "execution_count": 20,
     "metadata": {},
     "output_type": "execute_result"
    }
   ],
   "source": [
    "edge_index = storage['data'][dc.TEST].edge_index.numpy()\n",
    "n = storage['data'][dc.TEST].x.size(0)\n",
    "A = sp.coo_matrix((np.ones(edge_index.shape[1]), edge_index), shape=(n, n))\n",
    "\n",
    "A += sp.coo_matrix(np.eye(A.shape[0]))\n",
    "degrees = A.sum(axis=0)[0].tolist()\n",
    "D = sp.diags(degrees, [0])\n",
    "D = D.power(-0.5)\n",
    "A_norm = D.dot(A).dot(D)\n",
    "\n",
    "sp.linalg.eigs(A_norm, k=25)"
   ]
  },
  {
   "cell_type": "code",
   "execution_count": null,
   "id": "90527deb",
   "metadata": {},
   "outputs": [],
   "source": []
  }
 ],
 "metadata": {
  "kernelspec": {
   "display_name": "Python 3",
   "language": "python",
   "name": "python3"
  },
  "language_info": {
   "codemirror_mode": {
    "name": "ipython",
    "version": 3
   },
   "file_extension": ".py",
   "mimetype": "text/x-python",
   "name": "python",
   "nbconvert_exporter": "python",
   "pygments_lexer": "ipython3",
   "version": "3.9.5"
  }
 },
 "nbformat": 4,
 "nbformat_minor": 5
}
