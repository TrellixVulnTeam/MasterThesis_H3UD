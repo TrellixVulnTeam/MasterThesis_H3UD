{
 "cells": [
  {
   "cell_type": "code",
   "execution_count": 1,
   "id": "138f2f15",
   "metadata": {},
   "outputs": [],
   "source": [
    "%matplotlib notebook"
   ]
  },
  {
   "cell_type": "code",
   "execution_count": 62,
   "id": "3841b010",
   "metadata": {},
   "outputs": [],
   "source": [
    "import numpy as np\n",
    "import matplotlib.pyplot as plt\n",
    "import os.path as osp\n",
    "import os\n",
    "import json\n",
    "from tqdm import tqdm\n",
    "from collections import defaultdict\n",
    "import seml\n",
    "import pandas as pd"
   ]
  },
  {
   "cell_type": "code",
   "execution_count": 35,
   "id": "533a77b1",
   "metadata": {},
   "outputs": [],
   "source": [
    "collection = seml.database.get_collection('week1_no_model_logging')"
   ]
  },
  {
   "cell_type": "code",
   "execution_count": 42,
   "id": "fa9283fa",
   "metadata": {},
   "outputs": [],
   "source": [
    "results = [{'config' : r['config'], 'result' : r['result']} for r in collection.find()]"
   ]
  },
  {
   "cell_type": "code",
   "execution_count": 51,
   "id": "971ebfe7",
   "metadata": {},
   "outputs": [],
   "source": [
    "results_by_dataset_and_model_type = defaultdict(lambda: defaultdict(list))\n",
    "for result in results:\n",
    "    results_by_dataset_and_model_type[result['config']['data']['dataset']][result['config']['model']['model_type']].append(result)"
   ]
  },
  {
   "cell_type": "code",
   "execution_count": 67,
   "id": "eb68e8b7",
   "metadata": {},
   "outputs": [],
   "source": [
    "best_scores = defaultdict(dict)\n",
    "best_configs = defaultdict(dict)\n",
    "for dataset, dresults in results_by_dataset_and_model_type.items():\n",
    "    for model_type, mresults in dresults.items():\n",
    "        best_result = max(mresults, key=lambda result: result['result']['accuracy_mean']['value'])\n",
    "        score = best_result['result']['accuracy_mean']['value']\n",
    "        best_scores[dataset][model_type] = score\n",
    "        best_configs[dataset][model_type] = best_result['config']\n",
    "        # print(f'\\tModel {model_type} ({score * 100:.2f}%) : {best_result[\"config\"][\"model\"]}')"
   ]
  },
  {
   "cell_type": "code",
   "execution_count": 68,
   "id": "ac091523",
   "metadata": {},
   "outputs": [
    {
     "data": {
      "text/html": [
       "<div>\n",
       "<style scoped>\n",
       "    .dataframe tbody tr th:only-of-type {\n",
       "        vertical-align: middle;\n",
       "    }\n",
       "\n",
       "    .dataframe tbody tr th {\n",
       "        vertical-align: top;\n",
       "    }\n",
       "\n",
       "    .dataframe thead th {\n",
       "        text-align: right;\n",
       "    }\n",
       "</style>\n",
       "<table border=\"1\" class=\"dataframe\">\n",
       "  <thead>\n",
       "    <tr style=\"text-align: right;\">\n",
       "      <th></th>\n",
       "      <th>cora_ml</th>\n",
       "      <th>citeseer</th>\n",
       "      <th>pubmed</th>\n",
       "    </tr>\n",
       "  </thead>\n",
       "  <tbody>\n",
       "    <tr>\n",
       "      <th>gat</th>\n",
       "      <td>0.734713</td>\n",
       "      <td>0.702254</td>\n",
       "      <td>0.705408</td>\n",
       "    </tr>\n",
       "    <tr>\n",
       "      <th>gcn</th>\n",
       "      <td>0.838254</td>\n",
       "      <td>0.687429</td>\n",
       "      <td>0.849486</td>\n",
       "    </tr>\n",
       "    <tr>\n",
       "      <th>gin</th>\n",
       "      <td>0.796866</td>\n",
       "      <td>0.646222</td>\n",
       "      <td>0.815742</td>\n",
       "    </tr>\n",
       "    <tr>\n",
       "      <th>sage</th>\n",
       "      <td>0.786794</td>\n",
       "      <td>0.680794</td>\n",
       "      <td>0.834072</td>\n",
       "    </tr>\n",
       "    <tr>\n",
       "      <th>mlp</th>\n",
       "      <td>0.651962</td>\n",
       "      <td>0.565206</td>\n",
       "      <td>0.827582</td>\n",
       "    </tr>\n",
       "    <tr>\n",
       "      <th>appnp</th>\n",
       "      <td>0.846220</td>\n",
       "      <td>0.699333</td>\n",
       "      <td>0.864565</td>\n",
       "    </tr>\n",
       "  </tbody>\n",
       "</table>\n",
       "</div>"
      ],
      "text/plain": [
       "        cora_ml  citeseer    pubmed\n",
       "gat    0.734713  0.702254  0.705408\n",
       "gcn    0.838254  0.687429  0.849486\n",
       "gin    0.796866  0.646222  0.815742\n",
       "sage   0.786794  0.680794  0.834072\n",
       "mlp    0.651962  0.565206  0.827582\n",
       "appnp  0.846220  0.699333  0.864565"
      ]
     },
     "execution_count": 68,
     "metadata": {},
     "output_type": "execute_result"
    }
   ],
   "source": [
    "df = pd.DataFrame(best_scores)\n",
    "df"
   ]
  },
  {
   "cell_type": "code",
   "execution_count": null,
   "id": "197de94d",
   "metadata": {},
   "outputs": [],
   "source": []
  }
 ],
 "metadata": {
  "kernelspec": {
   "display_name": "Python 3 (ipykernel)",
   "language": "python",
   "name": "python3"
  },
  "language_info": {
   "codemirror_mode": {
    "name": "ipython",
    "version": 3
   },
   "file_extension": ".py",
   "mimetype": "text/x-python",
   "name": "python",
   "nbconvert_exporter": "python",
   "pygments_lexer": "ipython3",
   "version": "3.9.5"
  }
 },
 "nbformat": 4,
 "nbformat_minor": 5
}
