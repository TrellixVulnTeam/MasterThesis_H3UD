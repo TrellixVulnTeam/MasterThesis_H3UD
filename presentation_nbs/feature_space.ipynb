{
 "cells": [
  {
   "cell_type": "code",
   "execution_count": 1,
   "id": "0ada56e3",
   "metadata": {},
   "outputs": [],
   "source": [
    "import numpy as np\n",
    "import matplotlib.pyplot as plt\n",
    "import torch\n",
    "import seaborn as sns\n",
    "import pandas as pd\n",
    "import scipy.sparse as sp\n",
    "from openTSNE import TSNE\n",
    "from tqdm import tqdm\n",
    "from collections import defaultdict\n",
    "from sklearn.svm import OneClassSVM\n",
    "from sklearn.metrics import roc_auc_score"
   ]
  },
  {
   "cell_type": "code",
   "execution_count": 2,
   "id": "850b2f82",
   "metadata": {},
   "outputs": [
    {
     "name": "stdout",
     "output_type": "stream",
     "text": [
      "/nfs/homedirs/fuchsgru/MastersThesis\n"
     ]
    }
   ],
   "source": [
    "%cd .."
   ]
  },
  {
   "cell_type": "code",
   "execution_count": 3,
   "id": "851f400d",
   "metadata": {},
   "outputs": [],
   "source": [
    "import configuration\n",
    "import model_registry\n",
    "import data.construct\n",
    "import data.constants as dconst\n",
    "from data.util import data_get_num_attributes, data_get_num_classes, vertex_intersection, label_binarize\n",
    "from model.semi_supervised_node_classification import SemiSupervisedNodeClassification\n",
    "from model.density import get_density_model\n",
    "import util\n",
    "from plot.density import plot_density, get_dimensionality_reduction_to_plot\n",
    "from plot.util import get_greyscale_colormap, plot_histograms\n",
    "import seed\n",
    "import evaluation.callbacks\n",
    "from evaluation.util import run_model_on_datasets\n",
    "import evaluation.constants as econst\n",
    "from torch_geometric.loader import DataLoader"
   ]
  },
  {
   "cell_type": "code",
   "execution_count": null,
   "id": "41d62e89",
   "metadata": {},
   "outputs": [],
   "source": []
  },
  {
   "cell_type": "code",
   "execution_count": 4,
   "id": "6b134bbf",
   "metadata": {},
   "outputs": [],
   "source": [
    "cpkt_path = '/nfs/students/fuchsgru/model_registry/3544602347.ckpt' # Hybrid, lipschitz bias\n",
    "cpkt_path = '/nfs/students/fuchsgru/model_registry/875035759.ckpt' # Transductive, energy reco bias"
   ]
  },
  {
   "cell_type": "code",
   "execution_count": 5,
   "id": "12b16d25",
   "metadata": {},
   "outputs": [],
   "source": [
    "registry = model_registry.ModelRegistry()\n",
    "# Find a cnfg for that checkpoint\n",
    "for config, path in registry.items():\n",
    "    if path == cpkt_path:\n",
    "        break\n",
    "else:\n",
    "    raise RuntimeError(f'Could not find a configuration for {cpkt_path}')"
   ]
  },
  {
   "cell_type": "code",
   "execution_count": 6,
   "id": "2e46f31f",
   "metadata": {},
   "outputs": [],
   "source": [
    "data_dict, fixed_vertices = data.construct.load_data_from_configuration(config.data, config.registry.split_seed)"
   ]
  },
  {
   "cell_type": "code",
   "execution_count": 7,
   "id": "fc96463e",
   "metadata": {},
   "outputs": [],
   "source": [
    "data_loaders = {\n",
    "            name : DataLoader(data, batch_size=1, shuffle=False) for name, data in data_dict.items()\n",
    "        }"
   ]
  },
  {
   "cell_type": "code",
   "execution_count": 8,
   "id": "57968f6e",
   "metadata": {},
   "outputs": [
    {
     "data": {
      "text/plain": [
       "('transductive', 'left-out-classes')"
      ]
     },
     "execution_count": 8,
     "metadata": {},
     "output_type": "execute_result"
    }
   ],
   "source": [
    "config.data.setting, config.data.ood_type"
   ]
  },
  {
   "cell_type": "code",
   "execution_count": 9,
   "id": "03a953ed",
   "metadata": {},
   "outputs": [
    {
     "data": {
      "text/plain": [
       "{'hidden_sizes': [64],\n",
       " 'weight_scale': 2.0,\n",
       " 'use_spectral_norm': True,\n",
       " 'model_type': 'gcn',\n",
       " 'use_bias': True,\n",
       " 'activation': 'leaky_relu',\n",
       " 'leaky_relu_slope': 0.01,\n",
       " 'residual': True,\n",
       " 'freeze_residual_projection': False,\n",
       " 'dropout': 0.0,\n",
       " 'drop_edge': 0.0,\n",
       " 'use_spectral_norm_on_last_layer': False,\n",
       " 'cached': True,\n",
       " 'self_loop_fill_value': 1.0,\n",
       " 'reconstruction': {'loss_weight': 1.0,\n",
       "  'sample': True,\n",
       "  'num_samples': 1000,\n",
       "  'seed': 1337,\n",
       "  'reconstruction_type': 'energy',\n",
       "  'cached': True,\n",
       "  'margin_constrastive_loss': 0.0},\n",
       " 'gat': None,\n",
       " 'appnp': None,\n",
       " 'bgcn': None}"
      ]
     },
     "execution_count": 9,
     "metadata": {},
     "output_type": "execute_result"
    }
   ],
   "source": [
    "import attr\n",
    "attr.asdict(config.model)"
   ]
  },
  {
   "cell_type": "code",
   "execution_count": 10,
   "id": "217d3661",
   "metadata": {},
   "outputs": [],
   "source": [
    "model = SemiSupervisedNodeClassification(\n",
    "    config.model, \n",
    "    data_get_num_attributes(data_dict[dconst.TRAIN][0]), \n",
    "    data_get_num_classes(data_dict[dconst.TRAIN][0]), \n",
    "    learning_rate=config.training.learning_rate,\n",
    "    weight_decay=config.training.weight_decay,\n",
    ")"
   ]
  },
  {
   "cell_type": "code",
   "execution_count": 11,
   "id": "2ff59a18",
   "metadata": {},
   "outputs": [],
   "source": [
    "ckpt_path = registry[config]\n",
    "if not ckpt_path:\n",
    "    raise RuntimeError(f'No model checkpoint found!')"
   ]
  },
  {
   "cell_type": "code",
   "execution_count": 12,
   "id": "9722430d",
   "metadata": {},
   "outputs": [
    {
     "name": "stderr",
     "output_type": "stream",
     "text": [
      "/nfs/homedirs/fuchsgru/miniconda3/lib/python3.9/site-packages/pytorch_lightning/core/saving.py:209: UserWarning: Found keys that are not in the model state dict but in the checkpoint: ['backbone.convs.0.conv.lin.weight', 'backbone.convs.1.lin.weight']\n",
      "  rank_zero_warn(\n"
     ]
    }
   ],
   "source": [
    "model = model.load_from_checkpoint(ckpt_path, strict=False, backbone_configuration=config.model)\n",
    "_ = model.eval()\n",
    "model.clear_and_disable_cache()"
   ]
  },
  {
   "cell_type": "code",
   "execution_count": 13,
   "id": "633ecc16",
   "metadata": {},
   "outputs": [],
   "source": [
    "with torch.no_grad():\n",
    "    out_train = model(data_dict[dconst.TRAIN][0])\n",
    "    out_ood = model(data_dict[dconst.OOD_VAL][0])"
   ]
  },
  {
   "cell_type": "code",
   "execution_count": 14,
   "id": "4ffd7a03",
   "metadata": {},
   "outputs": [],
   "source": [
    "features = out_train.get_features(-2).cpu()\n",
    "features_ood = out_ood.get_features(-2).cpu()"
   ]
  },
  {
   "cell_type": "code",
   "execution_count": 15,
   "id": "82cad0d1",
   "metadata": {},
   "outputs": [],
   "source": [
    "mask_train = data_dict[dconst.TRAIN][0].mask.cpu()\n",
    "mask_ood = data_dict[dconst.OOD_VAL][0].mask.cpu()"
   ]
  },
  {
   "cell_type": "code",
   "execution_count": 16,
   "id": "8d412741",
   "metadata": {},
   "outputs": [],
   "source": [
    "density_model = get_density_model(density_type='GaussianPerClass', covariance='iso')"
   ]
  },
  {
   "cell_type": "code",
   "execution_count": 17,
   "id": "3e8dfe4b",
   "metadata": {},
   "outputs": [],
   "source": [
    "y_binarized = label_binarize(data_dict[dconst.TRAIN][0].y)"
   ]
  },
  {
   "cell_type": "code",
   "execution_count": 18,
   "id": "1258b96b",
   "metadata": {},
   "outputs": [],
   "source": [
    "density_model.fit(features[mask_train], y_binarized[mask_train].float())"
   ]
  },
  {
   "cell_type": "code",
   "execution_count": 19,
   "id": "0422302d",
   "metadata": {},
   "outputs": [
    {
     "data": {
      "text/plain": [
       "tensor(0.9714)"
      ]
     },
     "execution_count": 19,
     "metadata": {},
     "output_type": "execute_result"
    }
   ],
   "source": [
    "(out_train.get_logits().max(1)[1] == data_dict[dconst.TRAIN][0].y)[mask_train].sum() / mask_train.sum()"
   ]
  },
  {
   "cell_type": "code",
   "execution_count": 20,
   "id": "8e9e1a89",
   "metadata": {},
   "outputs": [
    {
     "data": {
      "text/plain": [
       "tensor(0.5199)"
      ]
     },
     "execution_count": 20,
     "metadata": {},
     "output_type": "execute_result"
    }
   ],
   "source": [
    "(out_train.get_logits().max(1)[1] == data_dict[dconst.TRAIN][0].y).sum() / data_dict[dconst.TRAIN][0].y.size(0)"
   ]
  },
  {
   "cell_type": "code",
   "execution_count": null,
   "id": "a72373f9",
   "metadata": {},
   "outputs": [],
   "source": []
  },
  {
   "cell_type": "code",
   "execution_count": null,
   "id": "464edb16",
   "metadata": {},
   "outputs": [],
   "source": []
  },
  {
   "cell_type": "code",
   "execution_count": 21,
   "id": "7c28f54d",
   "metadata": {},
   "outputs": [],
   "source": [
    "embeddings, is_train, grids, grid_inverses = get_dimensionality_reduction_to_plot(features[mask_train].numpy(),\n",
    "    features_ood[mask_ood].numpy(), ['umap'])"
   ]
  },
  {
   "cell_type": "code",
   "execution_count": 22,
   "id": "ee610738",
   "metadata": {},
   "outputs": [
    {
     "data": {
      "text/plain": [
       "[]"
      ]
     },
     "execution_count": 22,
     "metadata": {},
     "output_type": "execute_result"
    },
    {
     "data": {
      "image/png": "[encoded data removed]",
      "text/plain": [
       "<Figure size 360x360 with 1 Axes>"
      ]
     },
     "metadata": {},
     "output_type": "display_data"
    }
   ],
   "source": [
    "fig, ax = plt.subplots(figsize=(5, 5))\n",
    "ax.scatter(embeddings['umap'][is_train][:, 0], embeddings['umap'][is_train][:, 1], marker='x', alpha=0.5)\n",
    "ax.set_xticks([], [])\n",
    "ax.set_yticks([], [])"
   ]
  },
  {
   "cell_type": "code",
   "execution_count": 23,
   "id": "2bd7794f",
   "metadata": {},
   "outputs": [],
   "source": [
    "density_grid = density_model(torch.tensor(grid_inverses['umap'].reshape(-1, 64)))"
   ]
  },
  {
   "cell_type": "code",
   "execution_count": 24,
   "id": "0628851e",
   "metadata": {},
   "outputs": [],
   "source": [
    "density_ood = density_model(features_ood[mask_ood])"
   ]
  },
  {
   "cell_type": "code",
   "execution_count": 25,
   "id": "785ef453",
   "metadata": {},
   "outputs": [
    {
     "data": {
      "text/plain": [
       "tensor([ 52.6840,  63.8934,  -3.2661,  ..., -52.3198,   7.0554,   0.4918])"
      ]
     },
     "execution_count": 25,
     "metadata": {},
     "output_type": "execute_result"
    }
   ],
   "source": [
    "density_ood"
   ]
  },
  {
   "cell_type": "code",
   "execution_count": 26,
   "id": "2e06f9aa",
   "metadata": {},
   "outputs": [],
   "source": [
    "\n",
    "log_density_fit = density_model(features[mask_train]).cpu()\n",
    "log_density_data = torch.cat([log_density_fit, density_ood], 0).numpy()\n",
    "log_density_data = log_density_data[~util.is_outlier(log_density_data)]\n",
    "vmin, vmax = log_density_data.min(), log_density_data.max()\n",
    "vmin, vmax = vmin - 0.5 * (vmax - vmin), vmax + 0.5 * (vmax - vmin)"
   ]
  },
  {
   "cell_type": "code",
   "execution_count": 27,
   "id": "ee98f6e4",
   "metadata": {},
   "outputs": [
    {
     "data": {
      "text/plain": [
       "<matplotlib.colorbar.Colorbar at 0x7f9ba82fb2b0>"
      ]
     },
     "execution_count": 27,
     "metadata": {},
     "output_type": "execute_result"
    },
    {
     "data": {
      "image/png": "[encoded data removed]",
      "text/plain": [
       "<Figure size 432x360 with 2 Axes>"
      ]
     },
     "metadata": {
      "needs_background": "light"
     },
     "output_type": "display_data"
    }
   ],
   "source": [
    "_, ax = plt.subplots(figsize=(6, 5))\n",
    "c = ax.contourf(grids['umap'][:, :, 0], grids['umap'][:, :, 1], density_grid.numpy().reshape((20, 20)), cmap=get_greyscale_colormap(), levels=np.linspace(vmin, vmax, 20+1), extend='both', vmin=vmin, vmax=vmax)\n",
    "ax.scatter(embeddings['umap'][is_train][:, 0], embeddings['umap'][is_train][:, 1], marker='x', alpha=0.5)\n",
    "ax.set_xticks([], [])\n",
    "ax.set_yticks([], [])\n",
    "\n",
    "fig.colorbar(c, ax=ax)"
   ]
  },
  {
   "cell_type": "code",
   "execution_count": 28,
   "id": "4673ee61",
   "metadata": {},
   "outputs": [
    {
     "data": {
      "text/plain": [
       "(tensor([ 7,  8,  9, 10]), tensor([0, 1, 2, 3, 4, 5, 6]))"
      ]
     },
     "execution_count": 28,
     "metadata": {},
     "output_type": "execute_result"
    }
   ],
   "source": [
    "is_ood = data_dict[dconst.OOD_VAL][0].is_out_of_distribution.numpy()\n",
    "torch.unique(data_dict[dconst.OOD_VAL][0].y[is_ood]), torch.unique(data_dict[dconst.OOD_VAL][0].y[~is_ood])"
   ]
  },
  {
   "cell_type": "code",
   "execution_count": null,
   "id": "91bd4790",
   "metadata": {},
   "outputs": [],
   "source": []
  },
  {
   "cell_type": "code",
   "execution_count": null,
   "id": "1ade2e59",
   "metadata": {},
   "outputs": [],
   "source": []
  },
  {
   "cell_type": "code",
   "execution_count": 29,
   "id": "db82ff2e",
   "metadata": {},
   "outputs": [
    {
     "data": {
      "text/plain": [
       "((1593,), 1593)"
      ]
     },
     "execution_count": 29,
     "metadata": {},
     "output_type": "execute_result"
    }
   ],
   "source": [
    "is_ood[mask_ood].shape, (~is_train).sum()"
   ]
  },
  {
   "cell_type": "code",
   "execution_count": 30,
   "id": "51de7e15",
   "metadata": {},
   "outputs": [
    {
     "data": {
      "text/plain": [
       "<matplotlib.colorbar.Colorbar at 0x7f9bc4d98ac0>"
      ]
     },
     "execution_count": 30,
     "metadata": {},
     "output_type": "execute_result"
    },
    {
     "data": {
      "image/png": "[encoded data removed]",
      "text/plain": [
       "<Figure size 432x360 with 2 Axes>"
      ]
     },
     "metadata": {
      "needs_background": "light"
     },
     "output_type": "display_data"
    }
   ],
   "source": [
    "_, ax = plt.subplots(figsize=(6, 5))\n",
    "c = ax.contourf(grids['umap'][:, :, 0], grids['umap'][:, :, 1], density_grid.numpy().reshape((20, 20)), cmap=get_greyscale_colormap(), levels=np.linspace(vmin, vmax, 20+1), extend='both', vmin=vmin, vmax=vmax)\n",
    "\n",
    "ax.scatter(embeddings['umap'][~is_train][is_ood[mask_ood]][:, 0], embeddings['umap'][~is_train][is_ood[mask_ood]][:, 1], marker='x', alpha=0.5, label='Out of Distribution', c=econst.DISTRIBUTION_COLORS[econst.OOD_CLASS_NO_ID_CLASS_NBS])\n",
    "ax.scatter(embeddings['umap'][~is_train][~is_ood[mask_ood]][:, 0], embeddings['umap'][~is_train][~is_ood[mask_ood]][:, 1], marker='x', alpha=0.5, label='In Distribution', c=econst.DISTRIBUTION_COLORS[econst.ID_CLASS_NO_OOD_CLASS_NBS])\n",
    "ax.scatter(embeddings['umap'][is_train][:, 0], embeddings['umap'][is_train][:, 1], marker='x', alpha=0.5, label='Train', c=econst.COLOR_FIT)\n",
    "ax.set_xticks([], [])\n",
    "ax.set_yticks([], [])\n",
    "ax.legend()\n",
    "fig.colorbar(c, ax=ax)"
   ]
  },
  {
   "cell_type": "code",
   "execution_count": 31,
   "id": "793c84e1",
   "metadata": {},
   "outputs": [
    {
     "data": {
      "text/plain": [
       "(<Figure size 432x288 with 1 Axes>,\n",
       " <AxesSubplot:xlabel='Feature Log Density', ylabel='Density'>)"
      ]
     },
     "execution_count": 31,
     "metadata": {},
     "output_type": "execute_result"
    },
    {
     "data": {
      "image/png": "[encoded data removed]",
      "text/plain": [
       "<Figure size 432x288 with 1 Axes>"
      ]
     },
     "metadata": {
      "needs_background": "light"
     },
     "output_type": "display_data"
    }
   ],
   "source": [
    "plot_histograms(density_ood, torch.tensor(~is_ood[mask_ood]), label_names={True: 'In distribution', False: 'Out of distribution'},\n",
    "               kind='overlapping', x_label='Feature Log Density', y_label='Density')"
   ]
  },
  {
   "cell_type": "code",
   "execution_count": 32,
   "id": "900fa5b5",
   "metadata": {},
   "outputs": [
    {
     "data": {
      "text/plain": [
       "((140, 64), (1593, 64))"
      ]
     },
     "execution_count": 32,
     "metadata": {},
     "output_type": "execute_result"
    }
   ],
   "source": [
    "features[mask_train].numpy().shape, features_ood[mask_ood].numpy().shape"
   ]
  },
  {
   "cell_type": "code",
   "execution_count": 33,
   "id": "7ee8df65",
   "metadata": {},
   "outputs": [
    {
     "data": {
      "text/plain": [
       "(torch.Size([1593]), (1593,))"
      ]
     },
     "execution_count": 33,
     "metadata": {},
     "output_type": "execute_result"
    }
   ],
   "source": [
    "density_ood.size(), is_ood[mask_ood].shape"
   ]
  },
  {
   "cell_type": "code",
   "execution_count": null,
   "id": "5763849d",
   "metadata": {},
   "outputs": [],
   "source": []
  }
 ],
 "metadata": {
  "kernelspec": {
   "display_name": "Python 3",
   "language": "python",
   "name": "python3"
  },
  "language_info": {
   "codemirror_mode": {
    "name": "ipython",
    "version": 3
   },
   "file_extension": ".py",
   "mimetype": "text/x-python",
   "name": "python",
   "nbconvert_exporter": "python",
   "pygments_lexer": "ipython3",
   "version": "3.9.5"
  }
 },
 "nbformat": 4,
 "nbformat_minor": 5
}
