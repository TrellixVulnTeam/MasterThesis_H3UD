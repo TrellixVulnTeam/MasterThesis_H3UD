{
 "cells": [
  {
   "cell_type": "code",
   "execution_count": 1,
   "id": "57b130ba",
   "metadata": {},
   "outputs": [],
   "source": [
    "import numpy as np\n",
    "import matplotlib.pyplot as plt\n",
    "import pandas as pd\n",
    "import seaborn as sns\n",
    "import torch\n",
    "import pytorch_lightning as pl\n",
    "\n",
    "from torch_geometric.data import DataLoader\n",
    "import pytorch_lightning as pl\n",
    "import os.path as osp\n",
    "\n",
    "from tqdm import tqdm\n",
    "\n",
    "from sklearn.metrics import roc_auc_score, precision_recall_curve, auc"
   ]
  },
  {
   "cell_type": "code",
   "execution_count": 2,
   "id": "0e2bfde8",
   "metadata": {},
   "outputs": [
    {
     "name": "stdout",
     "output_type": "stream",
     "text": [
      "/nfs/homedirs/fuchsgru/MastersThesis\n"
     ]
    }
   ],
   "source": [
    "%cd .."
   ]
  },
  {
   "cell_type": "code",
   "execution_count": 3,
   "id": "9ebcb496",
   "metadata": {},
   "outputs": [],
   "source": [
    "import configuration\n",
    "import model_registry\n",
    "import data.build\n",
    "import data.constants as dconst\n",
    "from data.util import data_get_num_attributes, data_get_num_classes\n",
    "from model.semi_supervised_node_classification import SemiSupervisedNodeClassification, Ensemble\n",
    "from evaluation.util import get_data_loader, run_model_on_datasets, separate_distributions\n",
    "import evaluation.callbacks as ecbs\n",
    "from metrics import expected_calibration_error\n",
    "from plot.calibration import plot_calibration\n",
    "from data.util import label_binarize\n",
    "from model.density import get_density_model\n",
    "import seed\n",
    "from train import train_model\n",
    "from model.build import make_model"
   ]
  },
  {
   "cell_type": "code",
   "execution_count": 4,
   "id": "3fdda37a",
   "metadata": {},
   "outputs": [],
   "source": [
    "import logging as l\n",
    "\n",
    "l.basicConfig(level=l.INFO)"
   ]
  },
  {
   "cell_type": "code",
   "execution_count": 5,
   "id": "5494e625",
   "metadata": {},
   "outputs": [
    {
     "name": "stderr",
     "output_type": "stream",
     "text": [
      "INFO:root:Set configuration value data.base_labels to default all\n",
      "INFO:root:Set configuration value data.corpus_labels to default all\n",
      "INFO:root:Set configuration value data.train_labels to default all\n",
      "INFO:root:Set configuration value data.left_out_class_labels to default ['Film Photography', 'Binoculars & Scopes', 'Video Surveillance']\n",
      "INFO:root:Set configuration value data.preprocessing to default none\n",
      "INFO:root:Set configuration value data.ood_sampling_strategy to default all\n",
      "INFO:root:Set configuration value data.train_portion to default 20\n",
      "INFO:root:Set configuration value data.test_portion_fixed to default 0.2\n",
      "INFO:root:Set configuration value data.split_type to default uniform\n",
      "INFO:root:Set configuration value data.type to default npz\n",
      "INFO:root:Set configuration value data.drop_train_vertices_portion to default 0.1\n",
      "INFO:root:Set configuration value data.precompute_k_hop_neighbourhood to default 2\n",
      "INFO:root:Set configuration value model.hidden_sizes to default [64]\n",
      "INFO:root:Set configuration value data.base_labels to all\n",
      "INFO:root:Set configuration value data.corpus_labels to all\n",
      "INFO:root:Set configuration value data.left_out_class_labels to []\n",
      "INFO:root:Set configuration value data.base_labels to default all\n",
      "INFO:root:Set configuration value data.corpus_labels to default all\n",
      "INFO:root:Set configuration value data.train_labels to default all\n",
      "INFO:root:Set configuration value data.left_out_class_labels to default ['Film Photography', 'Binoculars & Scopes', 'Video Surveillance']\n",
      "INFO:root:Set configuration value data.preprocessing to default none\n",
      "INFO:root:Set configuration value data.ood_sampling_strategy to default all\n",
      "INFO:root:Set configuration value data.train_portion to default 20\n",
      "INFO:root:Set configuration value data.test_portion_fixed to default 0.2\n",
      "INFO:root:Set configuration value data.split_type to default uniform\n",
      "INFO:root:Set configuration value data.type to default npz\n",
      "INFO:root:Set configuration value data.drop_train_vertices_portion to default 0.1\n",
      "INFO:root:Set configuration value data.precompute_k_hop_neighbourhood to default 2\n",
      "INFO:root:Set configuration value model.hidden_sizes to default [64]\n",
      "INFO:root:Set configuration value data.base_labels to all\n",
      "INFO:root:Set configuration value data.corpus_labels to all\n",
      "INFO:root:Set configuration value data.left_out_class_labels to []\n"
     ]
    },
    {
     "name": "stdout",
     "output_type": "stream",
     "text": [
      "True\n"
     ]
    }
   ],
   "source": [
    "dataset = dconst.AMAZON_PHOTO\n",
    "\n",
    "spectral_norm_conf = {'model' : {\n",
    "        'use_spectral_norm' : True,\n",
    "        'residual' : True,\n",
    "        'weight_scale' : 200.0,\n",
    "    },}\n",
    "\n",
    "config = configuration.ExperimentConfiguration(\n",
    "    data={\n",
    "        'dataset' : dataset,\n",
    "        'setting' : dconst.HYBRID,\n",
    "        'ood_type' : dconst.PERTURBATION,\n",
    "        # 'use_dataset_registry' : False,\n",
    "    },\n",
    "    # **spectral_norm_conf,\n",
    "    run = {\n",
    "        'use_default_configuration' : True,\n",
    "    },\n",
    ")\n",
    "config_norm = configuration.ExperimentConfiguration(\n",
    "    data={\n",
    "        'dataset' : dataset,\n",
    "        'setting' : dconst.HYBRID,\n",
    "        'ood_type' : dconst.PERTURBATION,\n",
    "        # 'use_dataset_registry' : False,\n",
    "    },\n",
    "    **spectral_norm_conf,\n",
    "    run = {\n",
    "        'use_default_configuration' : True,\n",
    "    },\n",
    ")\n",
    "if config.run.use_default_configuration:\n",
    "    configuration.update_with_default_configuration(config)\n",
    "    configuration.update_with_default_configuration(config_norm)\n",
    "    \n",
    "print(config.run.use_default_configuration)"
   ]
  },
  {
   "cell_type": "code",
   "execution_count": 6,
   "id": "4ad09d7b",
   "metadata": {},
   "outputs": [
    {
     "data": {
      "text/plain": [
       "'hybrid'"
      ]
     },
     "execution_count": 6,
     "metadata": {},
     "output_type": "execute_result"
    }
   ],
   "source": [
    "config.data.setting"
   ]
  },
  {
   "cell_type": "code",
   "execution_count": 7,
   "id": "b812f208",
   "metadata": {},
   "outputs": [],
   "source": [
    "if torch.cuda.is_available():\n",
    "    config.training.gpus = 1\n",
    "    config_norm.training.gpus = 1\n",
    "    \n",
    "config.training.gpus = 0\n",
    "config_norm.training.gpus = 0\n",
    "    "
   ]
  },
  {
   "cell_type": "code",
   "execution_count": 8,
   "id": "5390393a",
   "metadata": {},
   "outputs": [],
   "source": [
    "config.run.use_pretrained_model = True\n",
    "config_norm.run.use_pretrained_model = True"
   ]
  },
  {
   "cell_type": "code",
   "execution_count": 9,
   "id": "40cec405",
   "metadata": {},
   "outputs": [
    {
     "name": "stderr",
     "output_type": "stream",
     "text": [
      "INFO:root:Found precomputed dataset split at /nfs/students/fuchsgru/dataset_registry/3384787171.pt\n",
      "/nfs/homedirs/fuchsgru/miniconda3/lib/python3.9/site-packages/torch_geometric/deprecation.py:13: UserWarning: 'data.DataLoader' is deprecated, use 'loader.DataLoader' instead\n",
      "  warnings.warn(out)\n"
     ]
    }
   ],
   "source": [
    "data_split_seed = seed.data_split_seeds()[config.run.split_idx]\n",
    "config.registry.split_seed = data_split_seed\n",
    "model_seed_generator = iter(seed.SeedIterator(seed.model_seeds()[config.run.initialization_idx]))\n",
    "data_dict, fixed_vertices = data.build.load_data_from_configuration(config.data, data_split_seed)\n",
    "data_loaders = {\n",
    "    name : DataLoader(data, batch_size=1, shuffle=False) for name, data in data_dict.items()\n",
    "}"
   ]
  },
  {
   "cell_type": "code",
   "execution_count": 10,
   "id": "b6b624cc",
   "metadata": {},
   "outputs": [],
   "source": [
    "model_seed = next(model_seed_generator)"
   ]
  },
  {
   "cell_type": "code",
   "execution_count": 11,
   "id": "b7497874",
   "metadata": {},
   "outputs": [],
   "source": [
    "run_artifact_dir = artifact_dir = osp.join(config.logging.artifact_dir, 'continuous-distribution-shift')"
   ]
  },
  {
   "cell_type": "code",
   "execution_count": 12,
   "id": "60549d56",
   "metadata": {},
   "outputs": [],
   "source": [
    "class LoggingCallback(pl.callbacks.Callback):\n",
    "    \n",
    "    def on_train_batch_end(self, trainer, pl_module, outputs, batch, batch_idx):\n",
    "        if trainer.global_step % 100 != 0:\n",
    "            return\n",
    "        \n",
    "        l.info(' '.join(\n",
    "            map(str, ['Epoch', trainer.global_step, 'acc', (pl_module(batch).get_predictions()[batch.mask].argmax(1) == batch.y[batch.mask]).float().mean().item()])\n",
    "        \n",
    "        ))\n",
    "        "
   ]
  },
  {
   "cell_type": "code",
   "execution_count": 13,
   "id": "606a89bc",
   "metadata": {},
   "outputs": [
    {
     "name": "stderr",
     "output_type": "stream",
     "text": [
      "Global seed set to 1952926171\n",
      "GPU available: False, used: False\n",
      "TPU available: False, using: 0 TPU cores\n",
      "IPU available: False, using: 0 IPUs\n"
     ]
    },
    {
     "name": "stdout",
     "output_type": "stream",
     "text": [
      "SemiSupervisedNodeClassification(\n",
      "  (backbone): GCN(\n",
      "    (convs): ModuleList(\n",
      "      (0): BasicBlock(\n",
      "        (conv): GCNConv\n",
      "          LinearWithParametrization(\n",
      "            (linear): Linear(in_features=745, out_features=64, bias=False)\n",
      "          )\n",
      "        (act): LeakyReLU(negative_slope=0.01)\n",
      "      )\n",
      "      (1): BasicBlock(\n",
      "        (conv): GCNConv\n",
      "          LinearWithParametrization(\n",
      "            (linear): Linear(in_features=64, out_features=8, bias=False)\n",
      "          )\n",
      "      )\n",
      "    )\n",
      "  )\n",
      ")\n"
     ]
    },
    {
     "name": "stderr",
     "output_type": "stream",
     "text": [
      "INFO:root:Loading pre-trained model from /nfs/students/fuchsgru/model_registry/2823847966.ckpt\n"
     ]
    }
   ],
   "source": [
    "config.registry.model_seed = model_seed\n",
    "pl.seed_everything(model_seed)\n",
    "model = make_model(config, data_get_num_attributes(data_dict[dconst.TRAIN][0]), \n",
    "    data_get_num_classes(data_dict[dconst.TRAIN][0]))\n",
    "print(model)\n",
    "model = train_model(model, config, artifact_dir, data_loaders, logger=None, callbacks=[LoggingCallback()]).eval()"
   ]
  },
  {
   "cell_type": "code",
   "execution_count": 14,
   "id": "63fd1469",
   "metadata": {},
   "outputs": [
    {
     "data": {
      "text/plain": [
       "array([0.7346491 , 0.7264491 , 0.7174763 , 0.7096519 , 0.7026238 ,\n",
       "       0.69712776, 0.6890686 , 0.6815691 , 0.67004627, 0.6693591 ,\n",
       "       0.66702974, 0.66070974, 0.6598726 , 0.65109503, 0.6466522 ,\n",
       "       0.6394509 , 0.63842994, 0.63251376, 0.62698585, 0.6216435 ,\n",
       "       0.61685723, 0.6143945 , 0.61349845, 0.6063887 , 0.59907514,\n",
       "       0.5971    , 0.59223896, 0.58807075, 0.5852243 , 0.58092463,\n",
       "       0.57603073, 0.57363534, 0.5695939 , 0.5644747 , 0.5599678 ,\n",
       "       0.5511589 , 0.54899436, 0.5457873 , 0.54293305, 0.5389566 ,\n",
       "       0.5353651 , 0.53249127, 0.5255816 , 0.5215531 , 0.5172963 ,\n",
       "       0.5138978 , 0.51013654, 0.5025081 , 0.49835142, 0.49614796,\n",
       "       0.4866263 , 0.48375157, 0.48183203, 0.477713  , 0.47427037,\n",
       "       0.47326332, 0.4647028 , 0.4582284 , 0.44544435, 0.4398724 ,\n",
       "       0.43543366, 0.43003064, 0.42726955, 0.41618708], dtype=float32)"
      ]
     },
     "execution_count": 14,
     "metadata": {},
     "output_type": "execute_result"
    }
   ],
   "source": [
    "np.linalg.svd(model.get_weights()['backbone.conv0.lin.weight'].cpu().detach().numpy(), full_matrices=False)[1]"
   ]
  },
  {
   "cell_type": "code",
   "execution_count": 15,
   "id": "91e53869",
   "metadata": {},
   "outputs": [
    {
     "name": "stderr",
     "output_type": "stream",
     "text": [
      "Global seed set to 1952926171\n",
      "GPU available: False, used: False\n",
      "TPU available: False, using: 0 TPU cores\n",
      "IPU available: False, using: 0 IPUs\n"
     ]
    },
    {
     "name": "stdout",
     "output_type": "stream",
     "text": [
      "SemiSupervisedNodeClassification(\n",
      "  (backbone): GCN(\n",
      "    (convs): ModuleList(\n",
      "      (0): ResidualBlock(\n",
      "        (conv): GCNConv\n",
      "          LinearWithParametrization(\n",
      "            (linear): ParametrizedLinear(\n",
      "              in_features=745, out_features=64, bias=False\n",
      "              (parametrizations): ModuleDict(\n",
      "                (weight): ParametrizationList(\n",
      "                  (0): SpectralNorm(rescaling=200.0, n_iter=1)\n",
      "                )\n",
      "              )\n",
      "            )\n",
      "          )\n",
      "        (act): LeakyReLU(negative_slope=0.01)\n",
      "        (input_projection): LinearWithParametrization(\n",
      "          (linear): ParametrizedLinear(\n",
      "            in_features=745, out_features=64, bias=False\n",
      "            (parametrizations): ModuleDict(\n",
      "              (weight): ParametrizationList(\n",
      "                (0): SpectralNorm(rescaling=200.0, n_iter=1)\n",
      "              )\n",
      "            )\n",
      "          )\n",
      "        )\n",
      "      )\n",
      "      (1): BasicBlock(\n",
      "        (conv): GCNConv\n",
      "          LinearWithParametrization(\n",
      "            (linear): Linear(in_features=64, out_features=8, bias=False)\n",
      "          )\n",
      "      )\n",
      "    )\n",
      "  )\n",
      ")\n"
     ]
    },
    {
     "name": "stderr",
     "output_type": "stream",
     "text": [
      "INFO:root:Loading pre-trained model from /nfs/students/fuchsgru/model_registry/3051766037.ckpt\n"
     ]
    }
   ],
   "source": [
    "config_norm.registry.model_seed = model_seed\n",
    "pl.seed_everything(model_seed)\n",
    "model_norm = make_model(config_norm, data_get_num_attributes(data_dict[dconst.TRAIN][0]), \n",
    "    data_get_num_classes(data_dict[dconst.TRAIN][0]))\n",
    "print(model_norm)\n",
    "model_norm = train_model(model_norm, config_norm, artifact_dir, data_loaders, logger=None, callbacks=[LoggingCallback()]).eval()"
   ]
  },
  {
   "cell_type": "code",
   "execution_count": 16,
   "id": "4e752b11",
   "metadata": {},
   "outputs": [],
   "source": [
    "model = model.cpu()\n",
    "model_norm = model_norm.cpu()"
   ]
  },
  {
   "cell_type": "code",
   "execution_count": 17,
   "id": "38261201",
   "metadata": {},
   "outputs": [
    {
     "name": "stdout",
     "output_type": "stream",
     "text": [
      "tensor(0.1312) tensor(0.9438)\n"
     ]
    }
   ],
   "source": [
    "# Check accuracy of both models\n",
    "with torch.no_grad():\n",
    "    data_val = data_dict[dconst.VAL][0]\n",
    "    pred_val = model(data_val)\n",
    "    pred_val_norm = model_norm(data_val)\n",
    "    \n",
    "    acc_val = (pred_val.get_predictions()[data_val.mask].argmax(1) == data_val.y[data_val.mask]).float().mean()\n",
    "    acc_val_norm = (pred_val_norm.get_predictions()[data_val.mask].argmax(1) == data_val.y[data_val.mask]).float().mean()\n",
    "\n",
    "    print(acc_val, acc_val_norm)"
   ]
  },
  {
   "cell_type": "code",
   "execution_count": 18,
   "id": "de8d11c4",
   "metadata": {},
   "outputs": [
    {
     "data": {
      "text/plain": [
       "tensor(0.1312)"
      ]
     },
     "execution_count": 18,
     "metadata": {},
     "output_type": "execute_result"
    }
   ],
   "source": [
    "(pred_val.get_predictions()[data_val.mask].argmax(1) == data_val.y[data_val.mask]).float().mean()"
   ]
  },
  {
   "cell_type": "code",
   "execution_count": 19,
   "id": "04f841d3",
   "metadata": {},
   "outputs": [
    {
     "data": {
      "text/plain": [
       "array([0.7346491 , 0.7264491 , 0.7174763 , 0.7096519 , 0.7026238 ,\n",
       "       0.69712776, 0.6890686 , 0.6815691 , 0.67004627, 0.6693591 ,\n",
       "       0.66702974, 0.66070974, 0.6598726 , 0.65109503, 0.6466522 ,\n",
       "       0.6394509 , 0.63842994, 0.63251376, 0.62698585, 0.6216435 ,\n",
       "       0.61685723, 0.6143945 , 0.61349845, 0.6063887 , 0.59907514,\n",
       "       0.5971    , 0.59223896, 0.58807075, 0.5852243 , 0.58092463,\n",
       "       0.57603073, 0.57363534, 0.5695939 , 0.5644747 , 0.5599678 ,\n",
       "       0.5511589 , 0.54899436, 0.5457873 , 0.54293305, 0.5389566 ,\n",
       "       0.5353651 , 0.53249127, 0.5255816 , 0.5215531 , 0.5172963 ,\n",
       "       0.5138978 , 0.51013654, 0.5025081 , 0.49835142, 0.49614796,\n",
       "       0.4866263 , 0.48375157, 0.48183203, 0.477713  , 0.47427037,\n",
       "       0.47326332, 0.4647028 , 0.4582284 , 0.44544435, 0.4398724 ,\n",
       "       0.43543366, 0.43003064, 0.42726955, 0.41618708], dtype=float32)"
      ]
     },
     "execution_count": 19,
     "metadata": {},
     "output_type": "execute_result"
    }
   ],
   "source": [
    "np.linalg.svd(model.get_weights()['backbone.conv0.lin.weight'].cpu().detach().numpy(), full_matrices=False)[1]"
   ]
  },
  {
   "cell_type": "code",
   "execution_count": 20,
   "id": "ea587eb7",
   "metadata": {},
   "outputs": [
    {
     "data": {
      "text/plain": [
       "False"
      ]
     },
     "execution_count": 20,
     "metadata": {},
     "output_type": "execute_result"
    }
   ],
   "source": [
    "torch.allclose(pred_val.get_predictions() , pred_val_norm.get_predictions())"
   ]
  },
  {
   "cell_type": "code",
   "execution_count": 21,
   "id": "52fc0a81",
   "metadata": {},
   "outputs": [],
   "source": [
    "from data.transform import PerturbationTransform"
   ]
  },
  {
   "cell_type": "code",
   "execution_count": 22,
   "id": "3c0d15ae",
   "metadata": {},
   "outputs": [],
   "source": [
    "data_train = data_dict[dconst.TRAIN][0]\n",
    "data_val = data_dict[dconst.VAL][0]"
   ]
  },
  {
   "cell_type": "code",
   "execution_count": 23,
   "id": "09280454",
   "metadata": {},
   "outputs": [],
   "source": [
    "with torch.no_grad():\n",
    "    pred_train = model(data_train)\n",
    "    pred_val = model(data_val)\n",
    "    density_model = get_density_model(\n",
    "        density_type='GaussianPerClass',\n",
    "        covariance='diag',\n",
    "        regularization=False,\n",
    "        fit_val=True,\n",
    "    )\n",
    "    density_model.fit(\n",
    "        pred_train.get_features(-2)[data_train.mask], \n",
    "        pred_train.get_predictions()[data_train.mask], \n",
    "        pred_val.get_features(-2)[data_val.mask],\n",
    "        pred_val.get_predictions()[data_val.mask],\n",
    "    )"
   ]
  },
  {
   "cell_type": "code",
   "execution_count": 24,
   "id": "6a993e9f",
   "metadata": {},
   "outputs": [],
   "source": [
    "with torch.no_grad():\n",
    "    pred_train_norm = model(data_train)\n",
    "    pred_val_norm = model(data_val)\n",
    "    density_model_norm = get_density_model(\n",
    "        density_type='GaussianPerClass',\n",
    "        covariance='diag',\n",
    "        regularization=False,\n",
    "        fit_val=True,\n",
    "    )\n",
    "    density_model_norm.fit(\n",
    "        pred_train_norm.get_features(-2)[data_train.mask], \n",
    "        pred_train_norm.get_predictions()[data_train.mask], \n",
    "        pred_val_norm.get_features(-2)[data_val.mask],\n",
    "        pred_val_norm.get_predictions()[data_val.mask],\n",
    "    )"
   ]
  },
  {
   "cell_type": "code",
   "execution_count": 25,
   "id": "d71794ff",
   "metadata": {},
   "outputs": [
    {
     "data": {
      "text/plain": [
       "SemiSupervisedNodeClassification(\n",
       "  (backbone): GCN(\n",
       "    (convs): ModuleList(\n",
       "      (0): BasicBlock(\n",
       "        (conv): GCNConv\n",
       "          LinearWithParametrization(\n",
       "            (linear): Linear(in_features=745, out_features=64, bias=False)\n",
       "          )\n",
       "        (act): LeakyReLU(negative_slope=0.01)\n",
       "      )\n",
       "      (1): BasicBlock(\n",
       "        (conv): GCNConv\n",
       "          LinearWithParametrization(\n",
       "            (linear): Linear(in_features=64, out_features=8, bias=False)\n",
       "          )\n",
       "      )\n",
       "    )\n",
       "  )\n",
       ")"
      ]
     },
     "execution_count": 25,
     "metadata": {},
     "output_type": "execute_result"
    }
   ],
   "source": [
    "model"
   ]
  },
  {
   "cell_type": "code",
   "execution_count": 26,
   "id": "e2d03114",
   "metadata": {},
   "outputs": [
    {
     "name": "stderr",
     "output_type": "stream",
     "text": [
      "INFO:root:<class 'model.nn.GCNConv'> disabled cache.\n",
      "INFO:root:<class 'model.nn.GCNConv'> disabled cache.\n",
      "INFO:root:<class 'model.nn.GCNConv'> disabled cache.\n",
      "INFO:root:<class 'model.nn.GCNConv'> disabled cache.\n"
     ]
    }
   ],
   "source": [
    "model.clear_and_disable_cache()\n",
    "model_norm.clear_and_disable_cache()"
   ]
  },
  {
   "cell_type": "code",
   "execution_count": 27,
   "id": "2498be0b",
   "metadata": {},
   "outputs": [],
   "source": [
    "from copy import deepcopy"
   ]
  },
  {
   "cell_type": "code",
   "execution_count": 28,
   "id": "946c8b2d",
   "metadata": {},
   "outputs": [
    {
     "name": "stderr",
     "output_type": "stream",
     "text": [
      "100%|██████████| 100/100 [27:24<00:00, 16.45s/it]\n"
     ]
    }
   ],
   "source": [
    "aurocs_density, aurocs_max_score = [], []\n",
    "aurocs_density_no_edges, aurocs_max_score_no_edges = [], []\n",
    "aurocs_density_norm, aurocs_max_score_norm = [], []\n",
    "aurocs_density_norm_no_edges, aurocs_max_score_norm_no_edges = [], []\n",
    "ps = []\n",
    "\n",
    "resolution = 100\n",
    "k = 10\n",
    "\n",
    "for p in tqdm(np.linspace(0.0, 1.0, resolution)):\n",
    "    for _ in range(k):\n",
    "        data_p = PerturbationTransform(noise_type='bernoulli', p=p, seed=np.random.randint(0xFFFFFF))(data_loaders[dconst.OOD_VAL].dataset[0])\n",
    "        ps.append(p)\n",
    "        with torch.no_grad():\n",
    "            pred_p = model(deepcopy(data_p), remove_edges=False)\n",
    "            pred_p_no_edges = model(deepcopy(data_p), remove_edges=True)\n",
    "            pred_p_norm = model_norm(deepcopy(data_p), remove_edges=False)\n",
    "            pred_p_norm_no_edges = model_norm(deepcopy(data_p), remove_edges=True)\n",
    "            \n",
    "            density_p = density_model(pred_p.get_features(-2))\n",
    "            density_p_no_edges = density_model(pred_p_no_edges.get_features(-2))\n",
    "            density_p_norm = density_model_norm(pred_p_norm.get_features(-2))\n",
    "            density_p_norm_no_edges = density_model_norm(pred_p_norm_no_edges.get_features(-2))\n",
    "            \n",
    "            # Calculate AUROCs\n",
    "            aurocs_density.append(roc_auc_score(\n",
    "                (~data_p.is_out_of_distribution).cpu().numpy()[data_p.mask],\n",
    "                density_p.cpu().numpy()[data_p.mask],\n",
    "            ))\n",
    "            aurocs_max_score.append(roc_auc_score(\n",
    "                (~data_p.is_out_of_distribution).cpu().numpy()[data_p.mask],\n",
    "                pred_p.get_predictions().cpu().numpy().max(axis=1)[data_p.mask],\n",
    "                \n",
    "            ))\n",
    "            \n",
    "            aurocs_density_no_edges.append(roc_auc_score(\n",
    "                (~data_p.is_out_of_distribution).cpu().numpy()[data_p.mask],\n",
    "                density_p_no_edges.cpu().numpy()[data_p.mask],\n",
    "            ))\n",
    "            aurocs_max_score_no_edges.append(roc_auc_score(\n",
    "                (~data_p.is_out_of_distribution).cpu().numpy()[data_p.mask],\n",
    "                pred_p_no_edges.get_predictions().cpu().numpy().max(axis=1)[data_p.mask],\n",
    "                \n",
    "            ))\n",
    "            \n",
    "            aurocs_density_norm.append(roc_auc_score(\n",
    "                (~data_p.is_out_of_distribution).cpu().numpy()[data_p.mask],\n",
    "                density_p_norm.cpu().numpy()[data_p.mask],\n",
    "            ))\n",
    "            aurocs_max_score_norm.append(roc_auc_score(\n",
    "                (~data_p.is_out_of_distribution).cpu().numpy()[data_p.mask],\n",
    "                pred_p_norm.get_predictions().cpu().numpy().max(axis=1)[data_p.mask],\n",
    "                \n",
    "            ))\n",
    "            \n",
    "            aurocs_density_norm_no_edges.append(roc_auc_score(\n",
    "                (~data_p.is_out_of_distribution).cpu().numpy()[data_p.mask],\n",
    "                density_p_norm_no_edges.cpu().numpy()[data_p.mask],\n",
    "            ))\n",
    "            aurocs_max_score_norm_no_edges.append(roc_auc_score(\n",
    "                (~data_p.is_out_of_distribution).cpu().numpy()[data_p.mask],\n",
    "                pred_p_norm_no_edges.get_predictions().cpu().numpy().max(axis=1)[data_p.mask],\n",
    "                \n",
    "            ))"
   ]
  },
  {
   "cell_type": "code",
   "execution_count": 29,
   "id": "a82f5190",
   "metadata": {},
   "outputs": [],
   "source": [
    "from scipy.stats import binned_statistic"
   ]
  },
  {
   "cell_type": "code",
   "execution_count": 30,
   "id": "6fe0468f",
   "metadata": {},
   "outputs": [],
   "source": [
    "# Get uncertainty intervals for all sucess probabilities p\n",
    "ps = np.array(ps).reshape((-1, k))\n",
    "means, stds = {}, {}\n",
    "\n",
    "for key, vals in {\n",
    "    'aurocs_density' : aurocs_density, 'aurocs_max_score' : aurocs_max_score,\n",
    "    'aurocs_density_no_edges' : aurocs_density_no_edges, 'aurocs_max_score_no_edges' : aurocs_max_score_no_edges,\n",
    "    'aurocs_density_norm' : aurocs_density_norm, 'aurocs_max_score_norm' : aurocs_max_score_norm,\n",
    "    'aurocs_density_norm_no_edges' : aurocs_density_norm_no_edges, 'aurocs_max_score_norm_no_edges' : aurocs_max_score_norm_no_edges,\n",
    "}.items():\n",
    "    vals = np.array(vals).reshape((resolution, k))\n",
    "    means[key] = vals.mean(axis=1)\n",
    "    stds[key] = vals.std(axis=1)\n",
    "    \n",
    "    \n"
   ]
  },
  {
   "cell_type": "code",
   "execution_count": 31,
   "id": "685aae2b",
   "metadata": {},
   "outputs": [],
   "source": [
    "\n",
    "\n",
    "\n",
    "if dataset == dconst.CORA_FULL:\n",
    "    fig, axs = plt.subplots(3, 2, sharex=True, figsize=(7, 4), gridspec_kw = {\n",
    "                           'height_ratios' : [1, 1, 0.6], 'wspace' : 0.2, 'hspace' : .95\n",
    "    })\n",
    "\n",
    "    def plot_proxy_at(key, ax, color, label):\n",
    "        handle = ax.plot(ps[:, 0], means[key], color=color, label=label, linestyle='--')\n",
    "        ax.fill_between(ps[:, 0], means[key] - stds[key], means[key] + stds[key], alpha = 0.2, color=color)\n",
    "        return handle\n",
    "\n",
    "\n",
    "    plot_proxy_at('aurocs_density', axs[0, 0], 'tab:blue', 'Epistemic')\n",
    "    plot_proxy_at('aurocs_max_score', axs[0, 0], 'tab:orange', 'Aleatoric')\n",
    "    plot_proxy_at('aurocs_density_norm', axs[0, 1], 'tab:blue', 'Epistemic')\n",
    "    plot_proxy_at('aurocs_max_score_norm', axs[0, 1], 'tab:orange', 'Aleatoric')\n",
    "\n",
    "    plot_proxy_at('aurocs_density_no_edges', axs[1, 0], 'tab:blue', 'Epistemic')\n",
    "    plot_proxy_at('aurocs_max_score_no_edges', axs[1, 0], 'tab:orange', 'Aleatoric')\n",
    "    plot_proxy_at('aurocs_density_norm_no_edges', axs[1, 1], 'tab:blue', 'Epistemic')\n",
    "    plot_proxy_at('aurocs_max_score_norm_no_edges', axs[1, 1], 'tab:orange', 'Aleatoric')\n",
    "\n",
    "    handles = []\n",
    "    handles += axs[-2, -1].plot([], [], color='tab:blue', label='Epistemic', linestyle='--')\n",
    "    handles += axs[-2, -1].plot([], [], color='tab:orange', label='Aleatoric', linestyle='--')\n",
    "\n",
    "    for ax in axs[:-1, :].flatten():\n",
    "        ax.grid(which='major')\n",
    "    for ax in axs[-1, :].flatten():\n",
    "        ax.grid(which='major', axis='x')\n",
    "\n",
    "    nnzs = (data_train.x.detach().cpu() > 0).float().mean(1).numpy()\n",
    "    axs[2, 0].hist(nnzs, bins=10)\n",
    "    axs[2, 0].set_yscale('log')\n",
    "    axs[2, 1].hist(nnzs, bins=10)\n",
    "    axs[2, 1].set_yscale('log')\n",
    "\n",
    "    axs[0, 0].set_ylabel('AUC-ROC', fontsize=12)\n",
    "    axs[1, 0].set_ylabel('AUC-ROC', fontsize=12)\n",
    "    axs[2, 0].set_ylabel('Count', fontsize=12)\n",
    "    axs[1, 0].set_xlabel('Success Probability $p$', fontsize=12)\n",
    "    axs[1, 1].set_xlabel('Success Probability $p$', fontsize=12)\n",
    "    axs[2, 0].set_xlabel('Input Feature Density', fontsize=12)\n",
    "    axs[2, 1].set_xlabel('Input Feature Density', fontsize=12)\n",
    "\n",
    "    axs[0, 0].set_title('Vanilla GCN', fontsize=12)\n",
    "    axs[0, 1].set_title('GCN + Spectral Norm.', fontsize=12)\n",
    "    axs[1, 0].set_title('Vanilla GCN, No Edges', fontsize=12)\n",
    "    axs[1, 1].set_title('GCN + Spectral Norm., No Edges', fontsize=12)\n",
    "    axs[2, 0].set_title('Input Feature Distribution', fontsize=12)\n",
    "    axs[2, 1].set_title('Input Feature Distribution', fontsize=12)\n",
    "\n",
    "    legend = fig.legend(handles, ['Epistemic', 'Aleatoric'], title='Proxy', loc='upper right', \n",
    "                        bbox_to_anchor=(1.13, 0.95), frameon=False, fontsize=12)\n",
    "    plt.setp(legend.get_title(),fontsize=12)\n",
    "    fig.savefig(f'thesis_nbs/continuous_distribution_shift_plots/{dataset}.pdf', bbox_inches='tight')"
   ]
  },
  {
   "cell_type": "code",
   "execution_count": 32,
   "id": "5e0ae8c4",
   "metadata": {},
   "outputs": [
    {
     "name": "stderr",
     "output_type": "stream",
     "text": [
      "<ipython-input-32-4abd0be54fa3>:56: UserWarning: FixedFormatter should only be used together with FixedLocator\n",
      "  axs[1, 0].set_yticklabels(['', '0.0', '1.0'])\n",
      "<ipython-input-32-4abd0be54fa3>:57: UserWarning: FixedFormatter should only be used together with FixedLocator\n",
      "  axs[1, 1].set_yticklabels(['', '0.0', '1.0'])\n"
     ]
    },
    {
     "data": {
      "image/png": "[encoded data removed]",
      "text/plain": [
       "<Figure size 504x288 with 6 Axes>"
      ]
     },
     "metadata": {
      "needs_background": "light"
     },
     "output_type": "display_data"
    }
   ],
   "source": [
    "\n",
    "if dataset == dconst.AMAZON_PHOTO:\n",
    "\n",
    "\n",
    "    fig, axs = plt.subplots(3, 2, sharex=True, figsize=(7, 4), gridspec_kw = {\n",
    "                           'height_ratios' : [1, 1, 0.6], 'wspace' : 0.2, 'hspace' : .95\n",
    "    })\n",
    "\n",
    "    def plot_proxy_at(key, ax, color, label):\n",
    "        handle = ax.plot(ps[:, 0], means[key], color=color, label=label, linestyle='--')\n",
    "        ax.fill_between(ps[:, 0], means[key] - stds[key], means[key] + stds[key], alpha = 0.2, color=color)\n",
    "        return handle\n",
    "\n",
    "\n",
    "    plot_proxy_at('aurocs_density', axs[0, 0], 'tab:blue', 'Epistemic')\n",
    "    plot_proxy_at('aurocs_max_score', axs[0, 0], 'tab:orange', 'Aleatoric')\n",
    "    plot_proxy_at('aurocs_density_norm', axs[0, 1], 'tab:blue', 'Epistemic')\n",
    "    plot_proxy_at('aurocs_max_score_norm', axs[0, 1], 'tab:orange', 'Aleatoric')\n",
    "\n",
    "    plot_proxy_at('aurocs_density_no_edges', axs[1, 0], 'tab:blue', 'Epistemic')\n",
    "    plot_proxy_at('aurocs_max_score_no_edges', axs[1, 0], 'tab:orange', 'Aleatoric')\n",
    "    plot_proxy_at('aurocs_density_norm_no_edges', axs[1, 1], 'tab:blue', 'Epistemic')\n",
    "    plot_proxy_at('aurocs_max_score_norm_no_edges', axs[1, 1], 'tab:orange', 'Aleatoric')\n",
    "\n",
    "    handles = []\n",
    "    handles += axs[-2, -1].plot([], [], color='tab:blue', label='Epistemic', linestyle='--')\n",
    "    handles += axs[-2, -1].plot([], [], color='tab:orange', label='Aleatoric', linestyle='--')\n",
    "\n",
    "    for ax in axs[:-1, :].flatten():\n",
    "        ax.grid(which='major')\n",
    "    for ax in axs[-1, :].flatten():\n",
    "        ax.grid(which='major', axis='x')\n",
    "\n",
    "    nnzs = (data_train.x.detach().cpu() > 0).float().mean(1).numpy()\n",
    "    axs[2, 0].hist(nnzs, bins=10)\n",
    "    axs[2, 0].set_yscale('log')\n",
    "    axs[2, 1].hist(nnzs, bins=10)\n",
    "    axs[2, 1].set_yscale('log')\n",
    "\n",
    "    axs[0, 0].set_ylabel('AUC-ROC')\n",
    "    axs[1, 0].set_ylabel('AUC-ROC')\n",
    "    axs[2, 0].set_ylabel('Count')\n",
    "    axs[1, 0].set_xlabel('Success Probability $p$')\n",
    "    axs[1, 1].set_xlabel('Success Probability $p$')\n",
    "    axs[2, 0].set_xlabel('Input Feature Density')\n",
    "    axs[2, 1].set_xlabel('Input Feature Density')\n",
    "\n",
    "    axs[0, 0].set_title('Vanilla GCN')\n",
    "    axs[0, 1].set_title('GCN + Spectral Norm.')\n",
    "    axs[1, 0].set_title('Vanilla GCN, No Edges')\n",
    "    axs[1, 1].set_title('GCN + Spectral Norm., No Edges')\n",
    "    axs[2, 0].set_title('Input Feature Distribution')\n",
    "    axs[2, 1].set_title('Input Feature Distribution')\n",
    "\n",
    "    axs[2, 0].set_yticks(axs[2, 0].get_yticks()[::2])\n",
    "    axs[2, 1].set_yticks(axs[2, 1].get_yticks()[::2])\n",
    "    axs[1, 0].set_yticklabels(['', '0.0', '1.0'])\n",
    "    axs[1, 1].set_yticklabels(['', '0.0', '1.0'])\n",
    "\n",
    "    legend = fig.legend(handles, ['Epistemic', 'Aleatoric'], title='Proxy', loc='upper right', bbox_to_anchor=(1.1, 0.9), frameon=False)\n",
    "    plt.setp(legend.get_title(),fontsize=12)\n",
    "    fig.savefig(f'thesis_nbs/continuous_distribution_shift_plots/{dataset}.pdf', bbox_inches='tight')"
   ]
  },
  {
   "cell_type": "code",
   "execution_count": 33,
   "id": "973769e4",
   "metadata": {},
   "outputs": [],
   "source": [
    "if dataset == dconst.CITESEER:\n",
    "    \n",
    "\n",
    "\n",
    "\n",
    "    fig, axs = plt.subplots(3, 2, sharex=True, figsize=(7, 4), gridspec_kw = {\n",
    "                           'height_ratios' : [1, 1, 0.6], 'wspace' : 0.2, 'hspace' : .95\n",
    "    })\n",
    "\n",
    "    def plot_proxy_at(key, ax, color, label):\n",
    "        handle = ax.plot(ps[:, 0], means[key], color=color, label=label, linestyle='--')\n",
    "        ax.fill_between(ps[:, 0], means[key] - stds[key], means[key] + stds[key], alpha = 0.2, color=color)\n",
    "        return handle\n",
    "\n",
    "\n",
    "    plot_proxy_at('aurocs_density', axs[0, 0], 'tab:blue', 'Epistemic')\n",
    "    plot_proxy_at('aurocs_max_score', axs[0, 0], 'tab:orange', 'Aleatoric')\n",
    "    plot_proxy_at('aurocs_density_norm', axs[0, 1], 'tab:blue', 'Epistemic')\n",
    "    plot_proxy_at('aurocs_max_score_norm', axs[0, 1], 'tab:orange', 'Aleatoric')\n",
    "\n",
    "    plot_proxy_at('aurocs_density_no_edges', axs[1, 0], 'tab:blue', 'Epistemic')\n",
    "    plot_proxy_at('aurocs_max_score_no_edges', axs[1, 0], 'tab:orange', 'Aleatoric')\n",
    "    plot_proxy_at('aurocs_density_norm_no_edges', axs[1, 1], 'tab:blue', 'Epistemic')\n",
    "    plot_proxy_at('aurocs_max_score_norm_no_edges', axs[1, 1], 'tab:orange', 'Aleatoric')\n",
    "\n",
    "    handles = []\n",
    "    handles += axs[-2, -1].plot([], [], color='tab:blue', label='Epistemic', linestyle='--')\n",
    "    handles += axs[-2, -1].plot([], [], color='tab:orange', label='Aleatoric', linestyle='--')\n",
    "\n",
    "    for ax in axs[:-1, :].flatten():\n",
    "        ax.grid(which='major')\n",
    "    for ax in axs[-1, :].flatten():\n",
    "        ax.grid(which='major', axis='x')\n",
    "\n",
    "    nnzs = (data_train.x.detach().cpu() > 0).float().mean(1).numpy()\n",
    "    axs[2, 0].hist(nnzs, bins=10)\n",
    "    axs[2, 0].set_yscale('log')\n",
    "    axs[2, 1].hist(nnzs, bins=10)\n",
    "    axs[2, 1].set_yscale('log')\n",
    "\n",
    "    axs[0, 0].set_ylabel('AUC-ROC', fontsize=12)\n",
    "    axs[1, 0].set_ylabel('AUC-ROC', fontsize=12)\n",
    "    axs[2, 0].set_ylabel('Count', fontsize=12)\n",
    "    axs[1, 0].set_xlabel('Success Probability $p$', fontsize=12)\n",
    "    axs[1, 1].set_xlabel('Success Probability $p$', fontsize=12)\n",
    "    axs[2, 0].set_xlabel('Input Feature Density', fontsize=12)\n",
    "    axs[2, 1].set_xlabel('Input Feature Density', fontsize=12)\n",
    "\n",
    "    axs[0, 0].set_title('Vanilla GCN', fontsize=12)\n",
    "    axs[0, 1].set_title('GCN + Spectral Norm.', fontsize=12)\n",
    "    axs[1, 0].set_title('Vanilla GCN, No Edges', fontsize=12)\n",
    "    axs[1, 1].set_title('GCN + Spectral Norm., No Edges', fontsize=12)\n",
    "    axs[2, 0].set_title('Input Feature Distribution', fontsize=12)\n",
    "    axs[2, 1].set_title('Input Feature Distribution', fontsize=12)\n",
    "    \n",
    "    axs[1, 0].set_yticklabels(['', '0.0', '1.0'])\n",
    "    axs[1, 1].set_yticklabels(['', '0.0', '1.0'])\n",
    "\n",
    "    legend = fig.legend(handles, ['Epistemic', 'Aleatoric'], title='Proxy', loc='upper right', \n",
    "                        bbox_to_anchor=(1.13, 0.95), \n",
    "               frameon=False, fontsize=12)\n",
    "    plt.setp(legend.get_title(),fontsize=12)\n",
    "    fig.savefig(f'thesis_nbs/continuous_distribution_shift_plots/{dataset}.pdf', bbox_inches='tight')"
   ]
  },
  {
   "cell_type": "code",
   "execution_count": null,
   "id": "a11d0476",
   "metadata": {},
   "outputs": [],
   "source": []
  }
 ],
 "metadata": {
  "kernelspec": {
   "display_name": "Python 3",
   "language": "python",
   "name": "python3"
  },
  "language_info": {
   "codemirror_mode": {
    "name": "ipython",
    "version": 3
   },
   "file_extension": ".py",
   "mimetype": "text/x-python",
   "name": "python",
   "nbconvert_exporter": "python",
   "pygments_lexer": "ipython3",
   "version": "3.9.5"
  }
 },
 "nbformat": 4,
 "nbformat_minor": 5
}
